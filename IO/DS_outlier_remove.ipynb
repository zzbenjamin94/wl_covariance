{
 "cells": [
  {
   "cell_type": "markdown",
   "id": "9adcdc8e-7dfd-4e45-bb14-94018d926e32",
   "metadata": {},
   "source": [
    "## Remove outliers in the DeltaSigma"
   ]
  },
  {
   "cell_type": "markdown",
   "id": "3a509214-9857-4760-b40d-574f9b515d45",
   "metadata": {
    "tags": []
   },
   "source": [
    "## Module Import and configs"
   ]
  },
  {
   "cell_type": "code",
   "execution_count": 77,
   "id": "90731b15-5c65-4cdf-8b07-9d307fbaad61",
   "metadata": {},
   "outputs": [],
   "source": [
    "from scipy.stats import kde\n",
    "import h5py\n",
    "import astropy.io.fits as fits\n",
    "import csv\n",
    "import pandas as pd\n",
    "import numpy as np\n",
    "import tables\n",
    "import pickle\n",
    "import os\n",
    "from astropy.table import Table\n",
    "from astropy.coordinates import SkyCoord\n",
    "from tqdm import tqdm\n",
    "from astropy.io import ascii\n",
    "import os\n",
    "import pandas as pd\n",
    "import matplotlib.pyplot as plt\n",
    "import seaborn as sns\n",
    "import incredible as cr"
   ]
  },
  {
   "cell_type": "code",
   "execution_count": 78,
   "id": "650005fb-0053-45e0-bbf3-8bcd8574b38e",
   "metadata": {},
   "outputs": [],
   "source": [
    "import warnings\n",
    "warnings.filterwarnings(\"ignore\")"
   ]
  },
  {
   "cell_type": "code",
   "execution_count": 79,
   "id": "2dc499d1-5f51-4f83-a3c0-8d59ef0c9653",
   "metadata": {},
   "outputs": [],
   "source": [
    "import sys\n",
    "sys.path.append('/global/u1/z/zzhang13')\n",
    "from kllr.kllr.regression_model import *\n",
    "from kllr.kllr.regression_plotting import *\n",
    "from kllr.kllr.calc_cov_KLLR import *"
   ]
  },
  {
   "cell_type": "markdown",
   "id": "45cc53e0-5e1e-45f6-a30e-a07d9e073a1a",
   "metadata": {},
   "source": [
    "## File Imports"
   ]
  },
  {
   "cell_type": "code",
   "execution_count": 80,
   "id": "2ee78d80-b8df-4557-8db8-aeaf61dfbe49",
   "metadata": {},
   "outputs": [],
   "source": [
    "chains_dir = '/global/homes/z/zzhang13/BaryonPasting/CorrelatedStructures/multiDark/data/chains/'\n",
    "datadir = '/global/homes/z/zzhang13/BaryonPasting/CorrelatedStructures/multiDark/data/'\n",
    "plot_dir = '/global/homes/z/zzhang13/BaryonPasting/CorrelatedStructures/multiDark/plots/'"
   ]
  },
  {
   "cell_type": "code",
   "execution_count": 81,
   "id": "75f0bef2-8ab2-46a4-9a18-432c2abd814e",
   "metadata": {},
   "outputs": [],
   "source": [
    "with open(datadir + 'MDPL2_DS_Rvir_SAGE_Ngal_allM_allz.p', 'rb') as handle:\n",
    "    matched_halo_df = pickle.load(handle)"
   ]
  },
  {
   "cell_type": "code",
   "execution_count": 82,
   "id": "7ad27950-c2c3-47cb-b7cf-74fc7c07011d",
   "metadata": {},
   "outputs": [],
   "source": [
    "## Plotting the DeltaSigma\n",
    "mask = (matched_halo_df.mvir > 5e13) & (matched_halo_df.mvir < 1e14) & (matched_halo_df.scale == 1)\n",
    "cur_df = matched_halo_df[mask]"
   ]
  },
  {
   "cell_type": "markdown",
   "id": "36ab80f9-4e5f-4be9-800c-4cb2cfe58a0f",
   "metadata": {},
   "source": [
    "## Plotting the Covariance"
   ]
  },
  {
   "cell_type": "code",
   "execution_count": 83,
   "id": "d22a2f6f-3dab-4c4e-bd29-45917bb6f510",
   "metadata": {},
   "outputs": [],
   "source": [
    "## Testing the file properties. \n",
    "r_bins_log_norm = np.linspace(-1,1,21)\n",
    "r_bins_lin_norm = 10**r_bins_log_norm\n",
    "r_cent_log_norm= (r_bins_log_norm[1:] + r_bins_log_norm[:-1])/2\n",
    "r_cent_lin_norm = 10**r_cent_log_norm"
   ]
  },
  {
   "cell_type": "code",
   "execution_count": 84,
   "id": "f3d89e82-daef-4963-8973-1b6716374ecf",
   "metadata": {},
   "outputs": [
    {
     "name": "stdout",
     "output_type": "stream",
     "text": [
      "M5e+13-1e+14, z=0.00, 489\n"
     ]
    },
    {
     "data": {
      "image/png": "[encoded data removed]",
      "text/plain": [
       "<Figure size 432x288 with 1 Axes>"
      ]
     },
     "metadata": {
      "needs_background": "light"
     },
     "output_type": "display_data"
    }
   ],
   "source": [
    "from scipy import stats\n",
    "import scipy.optimize as opt\n",
    "import emcee\n",
    "import tqdm\n",
    "\n",
    "nBootstrap = 10\n",
    "mass_min = 5e13; mass_max = 1e14\n",
    "cur_a_bin = 1\n",
    "\n",
    "mask = (matched_halo_df.mvir >= mass_min) & (matched_halo_df.mvir < mass_max) & (matched_halo_df.scale == cur_a_bin) \n",
    "cur_df = matched_halo_df[mask]\n",
    "print('M{:.2g}-{:.2g}, z={:.2f}, {}'.format(mass_min, mass_max, 1/cur_a_bin-1, len(cur_df)))\n",
    "            \n",
    "##Computing the Covariance##\n",
    "##Compute Cov. and error total\n",
    "xline, output = calc_cov_KLLR(np.log10(np.array(cur_df['mvir'],dtype=float)) , np.array(np.vstack(cur_df['delta_sigma']), dtype=float), \\\n",
    "                                np.log10(np.array(cur_df['Ngal_Rvir'],dtype=float)), nBootstrap=nBootstrap)\n",
    "cov_ds_ngal_kllr = output['covariance']\n",
    "cov_mean_kllr = np.mean(cov_ds_ngal_kllr, axis=0)\n",
    "cov_err_kllr = np.std(cov_ds_ngal_kllr, axis=0)\n",
    "        \n",
    "##Data vector for chains\n",
    "x_data = r_cent_log_norm; y_data = cov_mean_kllr; y_err = cov_err_kllr\n",
    "        \n",
    "plt.errorbar(x_data, y_data, yerr=y_err, label='Data')\n",
    "plt.legend()\n",
    "plt.show()"
   ]
  },
  {
   "cell_type": "markdown",
   "id": "c6b0ec57-c216-442c-99e9-4107021bde6f",
   "metadata": {},
   "source": [
    "## Outlier removal"
   ]
  },
  {
   "cell_type": "code",
   "execution_count": 41,
   "id": "2dc84b8c-510d-4207-aa91-b3a967453034",
   "metadata": {},
   "outputs": [],
   "source": [
    "## Remove the outer bins that are causing problems. \n",
    "delta_sigma = np.array(np.vstack(cur_df.delta_sigma))\n",
    "ds_group = [delta_sigma[:,i] for i in range(14,20)]"
   ]
  },
  {
   "cell_type": "code",
   "execution_count": 60,
   "id": "d64a04fe-2ccf-46f2-9ca5-4375a6e42b8c",
   "metadata": {},
   "outputs": [
    {
     "name": "stdout",
     "output_type": "stream",
     "text": [
      "[243 265 284 302 309 333 335 343 446]\n"
     ]
    }
   ],
   "source": [
    "indices = np.where(np.absolute(zscore(ds_group, axis=1)) > 3)[1] ##Using 3-sigma rule \n",
    "indices = np.unique(indices)\n",
    "print(indices)"
   ]
  },
  {
   "cell_type": "code",
   "execution_count": 67,
   "id": "92737e24-d450-4881-bfa9-cc66ff6baeb7",
   "metadata": {},
   "outputs": [
    {
     "name": "stdout",
     "output_type": "stream",
     "text": [
      "849     12593245088\n",
      "892     12584539440\n",
      "911     12592677223\n",
      "954     12593318950\n",
      "961     12592751765\n",
      "1017    12593394079\n",
      "1019    12593393735\n",
      "1027    12593356929\n",
      "1182    12593540695\n",
      "Name: CtreesHaloID, dtype: object\n"
     ]
    }
   ],
   "source": [
    "outlier_id = cur_df.iloc[indices]['CtreesHaloID']\n",
    "print(outlier_id)"
   ]
  },
  {
   "cell_type": "code",
   "execution_count": 72,
   "id": "d2ceb3bb-a472-4f9d-88df-9da72808c360",
   "metadata": {},
   "outputs": [],
   "source": [
    "matched_halo_df = matched_halo_df.loc[~matched_halo_df.CtreesHaloID.isin(outlier_id)]"
   ]
  },
  {
   "cell_type": "markdown",
   "id": "7784755d-65d5-4bf4-b45d-9e3102540ae2",
   "metadata": {},
   "source": [
    "## Re plot after outlier removal"
   ]
  },
  {
   "cell_type": "code",
   "execution_count": 75,
   "id": "a261be7c-dc0a-466a-9df6-e393e260e20c",
   "metadata": {},
   "outputs": [
    {
     "name": "stdout",
     "output_type": "stream",
     "text": [
      "M5e+13-1e+14, z=0.00, 489\n"
     ]
    },
    {
     "data": {
      "image/png": "[encoded data removed]",
      "text/plain": [
       "<Figure size 432x288 with 1 Axes>"
      ]
     },
     "metadata": {
      "needs_background": "light"
     },
     "output_type": "display_data"
    }
   ],
   "source": [
    "from scipy import stats\n",
    "import scipy.optimize as opt\n",
    "import emcee\n",
    "import tqdm\n",
    "\n",
    "nBootstrap = 10\n",
    "mass_min = 5e13; mass_max = 1e14\n",
    "cur_a_bin = 1\n",
    "\n",
    "mask = (matched_halo_df.mvir >= mass_min) & (matched_halo_df.mvir < mass_max) & (matched_halo_df.scale == cur_a_bin) \n",
    "cur_df = matched_halo_df[mask]\n",
    "print('M{:.2g}-{:.2g}, z={:.2f}, {}'.format(mass_min, mass_max, 1/cur_a_bin-1, len(cur_df)))\n",
    "            \n",
    "##Computing the Covariance##\n",
    "##Compute Cov. and error total\n",
    "xline, output = calc_cov_KLLR(np.log10(np.array(cur_df['mvir'],dtype=float)) , np.array(np.vstack(cur_df['delta_sigma']), dtype=float), \\\n",
    "                                np.log10(np.array(cur_df['Ngal_Rvir'],dtype=float)), nBootstrap=nBootstrap)\n",
    "cov_ds_ngal_kllr = output['covariance']\n",
    "cov_mean_kllr = np.mean(cov_ds_ngal_kllr, axis=0)\n",
    "cov_err_kllr = np.std(cov_ds_ngal_kllr, axis=0)\n",
    "        \n",
    "##Data vector for chains\n",
    "x_data = r_cent_log_norm; y_data = cov_mean_kllr; y_err = cov_err_kllr\n",
    "        \n",
    "plt.errorbar(x_data, y_data, yerr=y_err, label='Data')\n",
    "plt.legend()\n",
    "plt.show()"
   ]
  },
  {
   "cell_type": "markdown",
   "id": "e744b8c8-ac41-4a6d-935b-ec31032fa664",
   "metadata": {},
   "source": [
    "## Save the file"
   ]
  },
  {
   "cell_type": "code",
   "execution_count": 76,
   "id": "4c51fe9c-6bd2-44e3-ac9b-695af528af66",
   "metadata": {},
   "outputs": [],
   "source": [
    "with open(datadir + 'MDPL2_DS_Rvir_SAGE_Ngal_allM_allz.p', 'wb') as handle:\n",
    "    pickle.dump(matched_halo_df, handle)"
   ]
  },
  {
   "cell_type": "code",
   "execution_count": null,
   "id": "5bbb899c-1370-43d4-9f46-d14bde5a4832",
   "metadata": {},
   "outputs": [],
   "source": []
  }
 ],
 "metadata": {
  "kernelspec": {
   "display_name": "myLSST",
   "language": "python",
   "name": "mylsst"
  },
  "language_info": {
   "codemirror_mode": {
    "name": "ipython",
    "version": 3
   },
   "file_extension": ".py",
   "mimetype": "text/x-python",
   "name": "python",
   "nbconvert_exporter": "python",
   "pygments_lexer": "ipython3",
   "version": "3.7.12"
  }
 },
 "nbformat": 4,
 "nbformat_minor": 5
}
