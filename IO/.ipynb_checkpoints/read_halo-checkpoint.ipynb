{
 "cells": [
  {
   "cell_type": "markdown",
   "id": "326c7e17-8db8-4835-ab81-ee29298e5889",
   "metadata": {},
   "source": [
    "## Read the MultiDark 2 Halos\n",
    "\n",
    "* Extracts primary and secondary halo properties (M, R, time formation etc)\n",
    "* Applies a mass cut to the halos. \n",
    "* Combines the redshifts\n",
    "* Derives c_vir, R200c, R500c"
   ]
  },
  {
   "cell_type": "code",
   "execution_count": 2,
   "id": "0cbaba8d-d317-49c8-8d65-559298c0a391",
   "metadata": {},
   "outputs": [],
   "source": [
    "## testing multidark\n",
    "import numpy as np\n",
    "import matplotlib.pyplot as plt\n",
    "import seaborn as sns\n",
    "from scipy.stats import kde\n",
    "import h5py\n",
    "import astropy.io.fits as fits\n",
    "import csv\n",
    "import pandas as pd\n",
    "import h5py\n",
    "import tables\n",
    "import pickle\n",
    "import os\n",
    "from astropy.table import Table\n",
    "from astropy.coordinates import SkyCoord\n",
    "from tqdm import tqdm\n",
    "from astropy.io import ascii\n",
    "import os\n",
    "\n",
    "import warnings\n",
    "warnings.filterwarnings(\"ignore\")\n",
    "\n",
    "import timeit"
   ]
  },
  {
   "cell_type": "markdown",
   "id": "d6c54442-5afc-4a9b-82ec-3ed74f4be28b",
   "metadata": {},
   "source": [
    "## Read files"
   ]
  },
  {
   "cell_type": "code",
   "execution_count": 3,
   "id": "17c315c8-7670-4f8b-bcec-b9941cfd5e8e",
   "metadata": {},
   "outputs": [],
   "source": [
    "#datadir = '/global/cscratch1/sd/zzhang13/MultiDark/MDPL2_ROCKSTAR_Halos/z1p03/'\n",
    "redshifts = ['z0p00', 'z0p49', 'z1p03']\n",
    "\n",
    "\n",
    "clusters_z0p00_dir = '/global/cscratch1/sd/zzhang13/MultiDark/MDPL2_ROCKSTAR_Halos/{}/'.format(redshifts[0])\n",
    "clusters_z0p49_dir = '/global/cscratch1/sd/zzhang13/MultiDark/MDPL2_ROCKSTAR_Halos/{}/'.format(redshifts[1])\n",
    "clusters_z1p03_dir = '/global/cscratch1/sd/zzhang13/MultiDark/MDPL2_ROCKSTAR_Halos/{}/'.format(redshifts[2])\n",
    "\n",
    "clusters_dir = [clusters_z0p00_dir, clusters_z0p49_dir, clusters_z1p03_dir]\n",
    "\n",
    "datadir = '/global/homes/z/zzhang13/BaryonPasting/CorrelatedStructures/multiDark/data/'"
   ]
  },
  {
   "cell_type": "code",
   "execution_count": 8,
   "id": "77a154e1-39ef-4303-8d9f-7cc63a7faa07",
   "metadata": {},
   "outputs": [],
   "source": [
    "##Path to Scratch space\n",
    "\n",
    "#outputdir = datadir+ 'z0p00/'\n",
    "\n",
    "col_dict = {0:'scale', 1:'id',  5:'pid', 10:'mvir', 11:'rvir', 12: 'rs', \\\n",
    "            17:'x', 18:'y', 19:'z', \\\n",
    "            38: 'Mmvir_all', 39:'M200b', 40:'M200c', 41:'M500c', 43:'Xoff', \\\n",
    "            56: 'T/|U|', 63: 'Halfmass_Scale', 64: 'Acc_Rate_Inst', 65: 'Acc_Rate_100Myr', 66: 'Acc_Rate_1*Tdyn', 67: 'Acc_Rate_2*Tdyn', 68: 'Acc_Rate_Mpeak'}\n",
    "\n",
    "cluster_df = pd.DataFrame(columns = list(col_dict.values()))"
   ]
  },
  {
   "cell_type": "code",
   "execution_count": 5,
   "id": "60d46379-c736-4938-aa7d-f43eb4970292",
   "metadata": {},
   "outputs": [],
   "source": [
    "## Importing the file if it exists\n",
    "cluster_df = pd.read_csv(datadir + 'clusters_m200c_lgt_3e13_mah_allz.csv')"
   ]
  },
  {
   "cell_type": "code",
   "execution_count": 6,
   "id": "32b2ad3e-f8a6-4ca2-92ed-753008346887",
   "metadata": {},
   "outputs": [
    {
     "data": {
      "text/plain": [
       "209298"
      ]
     },
     "execution_count": 6,
     "metadata": {},
     "output_type": "execute_result"
    }
   ],
   "source": [
    "len(cluster_df)"
   ]
  },
  {
   "cell_type": "markdown",
   "id": "54e50217-1e40-4c92-a43b-d3c7be3b52f4",
   "metadata": {},
   "source": [
    "## Iterate through the files and find the most massive halos. \n",
    "\n",
    "Using mvir > 3e13 criterion for halo selection. "
   ]
  },
  {
   "cell_type": "code",
   "execution_count": 25,
   "id": "ed118ab9-957d-42da-aad8-e851e3c42c4f",
   "metadata": {},
   "outputs": [],
   "source": [
    "#halo_df = pd.read_table('/global/cscratch1/sd/zzhang13/MultiDark/MDPL2_ROCKSTAR_Halos/z0p49/mdpl2_rockstar_halos_z0p49_2.list')"
   ]
  },
  {
   "cell_type": "code",
   "execution_count": 9,
   "id": "3f8d425e-eade-4699-9875-eeb04dbd7f4b",
   "metadata": {},
   "outputs": [
    {
     "name": "stdout",
     "output_type": "stream",
     "text": [
      "0 /global/cscratch1/sd/zzhang13/MultiDark/MDPL2_ROCKSTAR_Halos/z0p00/\n"
     ]
    },
    {
     "name": "stderr",
     "output_type": "stream",
     "text": [
      "  4%|▍         | 1/26 [01:01<25:42, 61.69s/it]"
     ]
    },
    {
     "name": "stdout",
     "output_type": "stream",
     "text": [
      "Number of clusters appended: 5208\n"
     ]
    },
    {
     "name": "stderr",
     "output_type": "stream",
     "text": [
      "  8%|▊         | 2/26 [01:59<23:48, 59.52s/it]"
     ]
    },
    {
     "name": "stdout",
     "output_type": "stream",
     "text": [
      "Number of clusters appended: 5320\n"
     ]
    },
    {
     "name": "stderr",
     "output_type": "stream",
     "text": [
      " 12%|█▏        | 3/26 [02:59<22:52, 59.70s/it]"
     ]
    },
    {
     "name": "stdout",
     "output_type": "stream",
     "text": [
      "Number of clusters appended: 5304\n"
     ]
    },
    {
     "name": "stderr",
     "output_type": "stream",
     "text": [
      " 15%|█▌        | 4/26 [03:59<21:54, 59.77s/it]"
     ]
    },
    {
     "name": "stdout",
     "output_type": "stream",
     "text": [
      "Number of clusters appended: 5191\n"
     ]
    },
    {
     "name": "stderr",
     "output_type": "stream",
     "text": [
      " 19%|█▉        | 5/26 [04:59<20:57, 59.90s/it]"
     ]
    },
    {
     "name": "stdout",
     "output_type": "stream",
     "text": [
      "Number of clusters appended: 5199\n"
     ]
    },
    {
     "name": "stderr",
     "output_type": "stream",
     "text": [
      " 23%|██▎       | 6/26 [06:02<20:15, 60.79s/it]"
     ]
    },
    {
     "name": "stdout",
     "output_type": "stream",
     "text": [
      "Number of clusters appended: 5292\n"
     ]
    },
    {
     "name": "stderr",
     "output_type": "stream",
     "text": [
      " 27%|██▋       | 7/26 [07:04<19:24, 61.27s/it]"
     ]
    },
    {
     "name": "stdout",
     "output_type": "stream",
     "text": [
      "Number of clusters appended: 5185\n"
     ]
    },
    {
     "name": "stderr",
     "output_type": "stream",
     "text": [
      " 31%|███       | 8/26 [08:05<18:23, 61.29s/it]"
     ]
    },
    {
     "name": "stdout",
     "output_type": "stream",
     "text": [
      "Number of clusters appended: 5220\n"
     ]
    },
    {
     "name": "stderr",
     "output_type": "stream",
     "text": [
      " 35%|███▍      | 9/26 [09:06<17:21, 61.25s/it]"
     ]
    },
    {
     "name": "stdout",
     "output_type": "stream",
     "text": [
      "Number of clusters appended: 5340\n"
     ]
    },
    {
     "name": "stderr",
     "output_type": "stream",
     "text": [
      " 38%|███▊      | 10/26 [10:07<16:14, 60.94s/it]"
     ]
    },
    {
     "name": "stdout",
     "output_type": "stream",
     "text": [
      "Number of clusters appended: 5586\n"
     ]
    },
    {
     "name": "stderr",
     "output_type": "stream",
     "text": [
      " 42%|████▏     | 11/26 [11:08<15:16, 61.13s/it]"
     ]
    },
    {
     "name": "stdout",
     "output_type": "stream",
     "text": [
      "Number of clusters appended: 5202\n"
     ]
    },
    {
     "name": "stderr",
     "output_type": "stream",
     "text": [
      " 46%|████▌     | 12/26 [12:09<14:14, 61.05s/it]"
     ]
    },
    {
     "name": "stdout",
     "output_type": "stream",
     "text": [
      "Number of clusters appended: 5115\n"
     ]
    },
    {
     "name": "stderr",
     "output_type": "stream",
     "text": [
      " 50%|█████     | 13/26 [13:04<12:50, 59.27s/it]"
     ]
    },
    {
     "name": "stdout",
     "output_type": "stream",
     "text": [
      "Number of clusters appended: 5250\n"
     ]
    },
    {
     "name": "stderr",
     "output_type": "stream",
     "text": [
      " 54%|█████▍    | 14/26 [13:31<09:51, 49.32s/it]"
     ]
    },
    {
     "name": "stdout",
     "output_type": "stream",
     "text": [
      "Number of clusters appended: 2465\n"
     ]
    },
    {
     "name": "stderr",
     "output_type": "stream",
     "text": [
      " 58%|█████▊    | 15/26 [14:21<09:07, 49.81s/it]"
     ]
    },
    {
     "name": "stdout",
     "output_type": "stream",
     "text": [
      "Number of clusters appended: 5118\n"
     ]
    },
    {
     "name": "stderr",
     "output_type": "stream",
     "text": [
      " 62%|██████▏   | 16/26 [15:14<08:26, 50.64s/it]"
     ]
    },
    {
     "name": "stdout",
     "output_type": "stream",
     "text": [
      "Number of clusters appended: 5268\n"
     ]
    },
    {
     "name": "stderr",
     "output_type": "stream",
     "text": [
      " 65%|██████▌   | 17/26 [16:06<07:40, 51.16s/it]"
     ]
    },
    {
     "name": "stdout",
     "output_type": "stream",
     "text": [
      "Number of clusters appended: 5235\n"
     ]
    },
    {
     "name": "stderr",
     "output_type": "stream",
     "text": [
      " 69%|██████▉   | 18/26 [16:58<06:51, 51.39s/it]"
     ]
    },
    {
     "name": "stdout",
     "output_type": "stream",
     "text": [
      "Number of clusters appended: 5330\n"
     ]
    },
    {
     "name": "stderr",
     "output_type": "stream",
     "text": [
      " 73%|███████▎  | 19/26 [17:49<05:59, 51.31s/it]"
     ]
    },
    {
     "name": "stdout",
     "output_type": "stream",
     "text": [
      "Number of clusters appended: 5144\n"
     ]
    },
    {
     "name": "stderr",
     "output_type": "stream",
     "text": [
      " 77%|███████▋  | 20/26 [18:41<05:09, 51.52s/it]"
     ]
    },
    {
     "name": "stdout",
     "output_type": "stream",
     "text": [
      "Number of clusters appended: 5129\n"
     ]
    },
    {
     "name": "stderr",
     "output_type": "stream",
     "text": [
      " 81%|████████  | 21/26 [19:36<04:22, 52.47s/it]"
     ]
    },
    {
     "name": "stdout",
     "output_type": "stream",
     "text": [
      "Number of clusters appended: 5327\n"
     ]
    },
    {
     "name": "stderr",
     "output_type": "stream",
     "text": [
      " 85%|████████▍ | 22/26 [20:29<03:30, 52.66s/it]"
     ]
    },
    {
     "name": "stdout",
     "output_type": "stream",
     "text": [
      "Number of clusters appended: 5294\n"
     ]
    },
    {
     "name": "stderr",
     "output_type": "stream",
     "text": [
      " 88%|████████▊ | 23/26 [21:24<02:39, 53.17s/it]"
     ]
    },
    {
     "name": "stdout",
     "output_type": "stream",
     "text": [
      "Number of clusters appended: 5357\n"
     ]
    },
    {
     "name": "stderr",
     "output_type": "stream",
     "text": [
      " 92%|█████████▏| 24/26 [22:16<01:46, 53.04s/it]"
     ]
    },
    {
     "name": "stdout",
     "output_type": "stream",
     "text": [
      "Number of clusters appended: 5387\n"
     ]
    },
    {
     "name": "stderr",
     "output_type": "stream",
     "text": [
      " 96%|█████████▌| 25/26 [23:08<00:52, 52.51s/it]"
     ]
    },
    {
     "name": "stdout",
     "output_type": "stream",
     "text": [
      "Number of clusters appended: 5337\n"
     ]
    },
    {
     "name": "stderr",
     "output_type": "stream",
     "text": [
      "100%|██████████| 26/26 [23:58<00:00, 55.33s/it]\n"
     ]
    },
    {
     "name": "stdout",
     "output_type": "stream",
     "text": [
      "Number of clusters appended: 5053\n",
      "1 /global/cscratch1/sd/zzhang13/MultiDark/MDPL2_ROCKSTAR_Halos/z0p49/\n"
     ]
    },
    {
     "name": "stderr",
     "output_type": "stream",
     "text": [
      "  7%|▋         | 1/14 [01:51<24:07, 111.36s/it]"
     ]
    },
    {
     "name": "stdout",
     "output_type": "stream",
     "text": [
      "Number of clusters appended: 6217\n"
     ]
    },
    {
     "name": "stderr",
     "output_type": "stream",
     "text": [
      " 14%|█▍        | 2/14 [03:43<22:25, 112.11s/it]"
     ]
    },
    {
     "name": "stdout",
     "output_type": "stream",
     "text": [
      "Number of clusters appended: 6202\n"
     ]
    },
    {
     "name": "stderr",
     "output_type": "stream",
     "text": [
      " 21%|██▏       | 3/14 [05:38<20:44, 113.18s/it]"
     ]
    },
    {
     "name": "stdout",
     "output_type": "stream",
     "text": [
      "Number of clusters appended: 6525\n"
     ]
    },
    {
     "name": "stderr",
     "output_type": "stream",
     "text": [
      " 29%|██▊       | 4/14 [07:31<18:53, 113.31s/it]"
     ]
    },
    {
     "name": "stdout",
     "output_type": "stream",
     "text": [
      "Number of clusters appended: 6174\n"
     ]
    },
    {
     "name": "stderr",
     "output_type": "stream",
     "text": [
      " 36%|███▌      | 5/14 [09:22<16:49, 112.17s/it]"
     ]
    },
    {
     "name": "stdout",
     "output_type": "stream",
     "text": [
      "Number of clusters appended: 6428\n"
     ]
    },
    {
     "name": "stderr",
     "output_type": "stream",
     "text": [
      " 43%|████▎     | 6/14 [11:17<15:06, 113.27s/it]"
     ]
    },
    {
     "name": "stdout",
     "output_type": "stream",
     "text": [
      "Number of clusters appended: 6344\n"
     ]
    },
    {
     "name": "stderr",
     "output_type": "stream",
     "text": [
      " 50%|█████     | 7/14 [13:11<13:13, 113.39s/it]"
     ]
    },
    {
     "name": "stdout",
     "output_type": "stream",
     "text": [
      "Number of clusters appended: 6107\n"
     ]
    },
    {
     "name": "stderr",
     "output_type": "stream",
     "text": [
      " 57%|█████▋    | 8/14 [15:01<11:14, 112.36s/it]"
     ]
    },
    {
     "name": "stdout",
     "output_type": "stream",
     "text": [
      "Number of clusters appended: 6364\n"
     ]
    },
    {
     "name": "stderr",
     "output_type": "stream",
     "text": [
      " 64%|██████▍   | 9/14 [16:46<09:11, 110.22s/it]"
     ]
    },
    {
     "name": "stdout",
     "output_type": "stream",
     "text": [
      "Number of clusters appended: 6372\n"
     ]
    },
    {
     "name": "stderr",
     "output_type": "stream",
     "text": [
      " 71%|███████▏  | 10/14 [18:42<07:27, 111.94s/it]"
     ]
    },
    {
     "name": "stdout",
     "output_type": "stream",
     "text": [
      "Number of clusters appended: 6542\n"
     ]
    },
    {
     "name": "stderr",
     "output_type": "stream",
     "text": [
      " 79%|███████▊  | 11/14 [20:45<05:45, 115.18s/it]"
     ]
    },
    {
     "name": "stdout",
     "output_type": "stream",
     "text": [
      "Number of clusters appended: 6189\n"
     ]
    },
    {
     "name": "stderr",
     "output_type": "stream",
     "text": [
      " 86%|████████▌ | 12/14 [21:40<03:14, 97.08s/it] "
     ]
    },
    {
     "name": "stdout",
     "output_type": "stream",
     "text": [
      "Number of clusters appended: 3044\n"
     ]
    },
    {
     "name": "stderr",
     "output_type": "stream",
     "text": [
      " 93%|█████████▎| 13/14 [23:40<01:43, 103.99s/it]"
     ]
    },
    {
     "name": "stdout",
     "output_type": "stream",
     "text": [
      "Number of clusters appended: 6308\n"
     ]
    },
    {
     "name": "stderr",
     "output_type": "stream",
     "text": [
      "100%|██████████| 14/14 [25:34<00:00, 109.59s/it]\n"
     ]
    },
    {
     "name": "stdout",
     "output_type": "stream",
     "text": [
      "Number of clusters appended: 6491\n",
      "2 /global/cscratch1/sd/zzhang13/MultiDark/MDPL2_ROCKSTAR_Halos/z1p03/\n"
     ]
    },
    {
     "name": "stderr",
     "output_type": "stream",
     "text": [
      "  7%|▋         | 1/15 [01:51<26:04, 111.75s/it]"
     ]
    },
    {
     "name": "stdout",
     "output_type": "stream",
     "text": [
      "Number of clusters appended: 2640\n"
     ]
    },
    {
     "name": "stderr",
     "output_type": "stream",
     "text": [
      " 13%|█▎        | 2/15 [03:43<24:14, 111.88s/it]"
     ]
    },
    {
     "name": "stdout",
     "output_type": "stream",
     "text": [
      "Number of clusters appended: 2501\n"
     ]
    },
    {
     "name": "stderr",
     "output_type": "stream",
     "text": [
      " 20%|██        | 3/15 [05:37<22:31, 112.63s/it]"
     ]
    },
    {
     "name": "stdout",
     "output_type": "stream",
     "text": [
      "Number of clusters appended: 2774\n"
     ]
    },
    {
     "name": "stderr",
     "output_type": "stream",
     "text": [
      " 27%|██▋       | 4/15 [07:28<20:34, 112.25s/it]"
     ]
    },
    {
     "name": "stdout",
     "output_type": "stream",
     "text": [
      "Number of clusters appended: 2810\n"
     ]
    },
    {
     "name": "stderr",
     "output_type": "stream",
     "text": [
      " 33%|███▎      | 5/15 [09:21<18:41, 112.19s/it]"
     ]
    },
    {
     "name": "stdout",
     "output_type": "stream",
     "text": [
      "Number of clusters appended: 2666\n"
     ]
    },
    {
     "name": "stderr",
     "output_type": "stream",
     "text": [
      " 40%|████      | 6/15 [11:14<16:53, 112.63s/it]"
     ]
    },
    {
     "name": "stdout",
     "output_type": "stream",
     "text": [
      "Number of clusters appended: 2667\n"
     ]
    },
    {
     "name": "stderr",
     "output_type": "stream",
     "text": [
      " 47%|████▋     | 7/15 [13:06<15:00, 112.56s/it]"
     ]
    },
    {
     "name": "stdout",
     "output_type": "stream",
     "text": [
      "Number of clusters appended: 2638\n"
     ]
    },
    {
     "name": "stderr",
     "output_type": "stream",
     "text": [
      " 53%|█████▎    | 8/15 [14:58<13:05, 112.23s/it]"
     ]
    },
    {
     "name": "stdout",
     "output_type": "stream",
     "text": [
      "Number of clusters appended: 2736\n"
     ]
    },
    {
     "name": "stderr",
     "output_type": "stream",
     "text": [
      " 60%|██████    | 9/15 [15:18<08:20, 83.40s/it] "
     ]
    },
    {
     "name": "stdout",
     "output_type": "stream",
     "text": [
      "Number of clusters appended: 421\n"
     ]
    },
    {
     "name": "stderr",
     "output_type": "stream",
     "text": [
      " 67%|██████▋   | 10/15 [17:12<07:44, 92.92s/it]"
     ]
    },
    {
     "name": "stdout",
     "output_type": "stream",
     "text": [
      "Number of clusters appended: 2691\n"
     ]
    },
    {
     "name": "stderr",
     "output_type": "stream",
     "text": [
      " 73%|███████▎  | 11/15 [19:13<06:45, 101.45s/it]"
     ]
    },
    {
     "name": "stdout",
     "output_type": "stream",
     "text": [
      "Number of clusters appended: 2532\n"
     ]
    },
    {
     "name": "stderr",
     "output_type": "stream",
     "text": [
      " 80%|████████  | 12/15 [21:18<05:26, 108.70s/it]"
     ]
    },
    {
     "name": "stdout",
     "output_type": "stream",
     "text": [
      "Number of clusters appended: 2717\n"
     ]
    },
    {
     "name": "stderr",
     "output_type": "stream",
     "text": [
      " 87%|████████▋ | 13/15 [23:27<03:49, 114.71s/it]"
     ]
    },
    {
     "name": "stdout",
     "output_type": "stream",
     "text": [
      "Number of clusters appended: 2594\n"
     ]
    },
    {
     "name": "stderr",
     "output_type": "stream",
     "text": [
      " 93%|█████████▎| 14/15 [25:37<01:59, 119.32s/it]"
     ]
    },
    {
     "name": "stdout",
     "output_type": "stream",
     "text": [
      "Number of clusters appended: 2689\n"
     ]
    },
    {
     "name": "stderr",
     "output_type": "stream",
     "text": [
      "100%|██████████| 15/15 [27:45<00:00, 111.00s/it]"
     ]
    },
    {
     "name": "stdout",
     "output_type": "stream",
     "text": [
      "Number of clusters appended: 2593\n"
     ]
    },
    {
     "name": "stderr",
     "output_type": "stream",
     "text": [
      "\n"
     ]
    }
   ],
   "source": [
    "import glob\n",
    "mvir_cut = 3e13\n",
    "\n",
    "for i, clusters_snapshot_dir in enumerate(clusters_dir):\n",
    "    print(i, clusters_snapshot_dir)\n",
    "    files = glob.glob(clusters_snapshot_dir + 'mdpl2_rockstar_halos_{}_*.list'.format(redshifts[i]))\n",
    "    \n",
    "    for f in tqdm(files):\n",
    "        #Reading the file as a pandas dataframe\n",
    "        stock =os.path.basename(f)\n",
    "        #print(f)\n",
    "        halo_df = pd.read_table(clusters_snapshot_dir+stock, comment='#', sep='\\s+', encoding='utf-8', names=list(col_dict.values()), usecols=list(col_dict.keys()))\n",
    "\n",
    "        #Masking\n",
    "        mask = ~(halo_df[['mvir','M200b', 'M200c', 'M500c']] == 0).any(axis=1) ##Mass non-zero\n",
    "        mask &= (halo_df.mvir > mvir_cut)\n",
    "        mask &= (halo_df.pid == -1)\n",
    "\n",
    "        halo_df = halo_df[mask]\n",
    "\n",
    "        #Appending onto the cluster dataframe\n",
    "        cluster_df = cluster_df.append(halo_df)\n",
    "        print(\"Number of clusters appended: {:d}\".format(len(halo_df)) ) "
   ]
  },
  {
   "cell_type": "code",
   "execution_count": 10,
   "id": "436653ed-905b-410e-a290-d24715c0b3d8",
   "metadata": {},
   "outputs": [
    {
     "data": {
      "text/html": [
       "<div>\n",
       "<style scoped>\n",
       "    .dataframe tbody tr th:only-of-type {\n",
       "        vertical-align: middle;\n",
       "    }\n",
       "\n",
       "    .dataframe tbody tr th {\n",
       "        vertical-align: top;\n",
       "    }\n",
       "\n",
       "    .dataframe thead th {\n",
       "        text-align: right;\n",
       "    }\n",
       "</style>\n",
       "<table border=\"1\" class=\"dataframe\">\n",
       "  <thead>\n",
       "    <tr style=\"text-align: right;\">\n",
       "      <th></th>\n",
       "      <th>scale</th>\n",
       "      <th>mvir</th>\n",
       "      <th>rvir</th>\n",
       "      <th>rs</th>\n",
       "      <th>x</th>\n",
       "      <th>y</th>\n",
       "      <th>z</th>\n",
       "      <th>Xoff</th>\n",
       "      <th>T/|U|</th>\n",
       "      <th>Halfmass_Scale</th>\n",
       "      <th>Acc_Rate_Inst</th>\n",
       "      <th>Acc_Rate_100Myr</th>\n",
       "      <th>Acc_Rate_1*Tdyn</th>\n",
       "      <th>Acc_Rate_2*Tdyn</th>\n",
       "      <th>Acc_Rate_Mpeak</th>\n",
       "    </tr>\n",
       "  </thead>\n",
       "  <tbody>\n",
       "    <tr>\n",
       "      <th>count</th>\n",
       "      <td>256832.000000</td>\n",
       "      <td>2.568320e+05</td>\n",
       "      <td>256832.000000</td>\n",
       "      <td>256832.000000</td>\n",
       "      <td>256832.000000</td>\n",
       "      <td>256832.000000</td>\n",
       "      <td>256832.000000</td>\n",
       "      <td>256832.000000</td>\n",
       "      <td>256832.000000</td>\n",
       "      <td>256832.000000</td>\n",
       "      <td>2.568320e+05</td>\n",
       "      <td>2.568320e+05</td>\n",
       "      <td>256832.000000</td>\n",
       "      <td>256832.000000</td>\n",
       "      <td>256832.000000</td>\n",
       "    </tr>\n",
       "    <tr>\n",
       "      <th>mean</th>\n",
       "      <td>0.816311</td>\n",
       "      <td>7.301543e+13</td>\n",
       "      <td>857.440875</td>\n",
       "      <td>187.193600</td>\n",
       "      <td>501.498153</td>\n",
       "      <td>498.782466</td>\n",
       "      <td>499.876698</td>\n",
       "      <td>61.854125</td>\n",
       "      <td>0.663491</td>\n",
       "      <td>0.532261</td>\n",
       "      <td>8.853265e+03</td>\n",
       "      <td>8.853265e+03</td>\n",
       "      <td>9392.996672</td>\n",
       "      <td>9537.460887</td>\n",
       "      <td>9847.584791</td>\n",
       "    </tr>\n",
       "    <tr>\n",
       "      <th>std</th>\n",
       "      <td>0.199967</td>\n",
       "      <td>7.868467e+13</td>\n",
       "      <td>192.567331</td>\n",
       "      <td>117.229976</td>\n",
       "      <td>288.312220</td>\n",
       "      <td>289.041943</td>\n",
       "      <td>288.585709</td>\n",
       "      <td>50.834879</td>\n",
       "      <td>0.074159</td>\n",
       "      <td>0.129141</td>\n",
       "      <td>2.163383e+04</td>\n",
       "      <td>2.163383e+04</td>\n",
       "      <td>16343.656759</td>\n",
       "      <td>13152.844583</td>\n",
       "      <td>12779.346687</td>\n",
       "    </tr>\n",
       "    <tr>\n",
       "      <th>min</th>\n",
       "      <td>0.492200</td>\n",
       "      <td>3.000100e+13</td>\n",
       "      <td>632.255005</td>\n",
       "      <td>32.898998</td>\n",
       "      <td>0.000810</td>\n",
       "      <td>0.000700</td>\n",
       "      <td>0.012730</td>\n",
       "      <td>0.308550</td>\n",
       "      <td>0.523100</td>\n",
       "      <td>0.242300</td>\n",
       "      <td>-4.625000e+05</td>\n",
       "      <td>-4.625000e+05</td>\n",
       "      <td>-80740.000000</td>\n",
       "      <td>-26100.000000</td>\n",
       "      <td>0.000000</td>\n",
       "    </tr>\n",
       "    <tr>\n",
       "      <th>25%</th>\n",
       "      <td>0.671200</td>\n",
       "      <td>3.694600e+13</td>\n",
       "      <td>730.926025</td>\n",
       "      <td>112.447748</td>\n",
       "      <td>251.766870</td>\n",
       "      <td>246.199405</td>\n",
       "      <td>251.185130</td>\n",
       "      <td>25.840375</td>\n",
       "      <td>0.610700</td>\n",
       "      <td>0.430900</td>\n",
       "      <td>8.589000e+02</td>\n",
       "      <td>8.589000e+02</td>\n",
       "      <td>1622.000000</td>\n",
       "      <td>2750.000000</td>\n",
       "      <td>3289.000000</td>\n",
       "    </tr>\n",
       "    <tr>\n",
       "      <th>50%</th>\n",
       "      <td>1.000000</td>\n",
       "      <td>4.905500e+13</td>\n",
       "      <td>804.924499</td>\n",
       "      <td>156.194000</td>\n",
       "      <td>501.625455</td>\n",
       "      <td>500.425995</td>\n",
       "      <td>499.469575</td>\n",
       "      <td>46.371850</td>\n",
       "      <td>0.649700</td>\n",
       "      <td>0.514500</td>\n",
       "      <td>3.609000e+03</td>\n",
       "      <td>3.609000e+03</td>\n",
       "      <td>4893.000000</td>\n",
       "      <td>5993.000000</td>\n",
       "      <td>6220.000000</td>\n",
       "    </tr>\n",
       "    <tr>\n",
       "      <th>75%</th>\n",
       "      <td>1.000000</td>\n",
       "      <td>7.716600e+13</td>\n",
       "      <td>929.078003</td>\n",
       "      <td>223.302994</td>\n",
       "      <td>751.234820</td>\n",
       "      <td>751.418702</td>\n",
       "      <td>751.916013</td>\n",
       "      <td>82.679225</td>\n",
       "      <td>0.700300</td>\n",
       "      <td>0.600800</td>\n",
       "      <td>1.003000e+04</td>\n",
       "      <td>1.003000e+04</td>\n",
       "      <td>11680.000000</td>\n",
       "      <td>11600.000000</td>\n",
       "      <td>11730.000000</td>\n",
       "    </tr>\n",
       "    <tr>\n",
       "      <th>max</th>\n",
       "      <td>1.000000</td>\n",
       "      <td>3.502700e+15</td>\n",
       "      <td>3090.156982</td>\n",
       "      <td>2089.819092</td>\n",
       "      <td>999.990230</td>\n",
       "      <td>999.998470</td>\n",
       "      <td>999.989500</td>\n",
       "      <td>833.360000</td>\n",
       "      <td>1.806000</td>\n",
       "      <td>0.978100</td>\n",
       "      <td>1.305000e+06</td>\n",
       "      <td>1.305000e+06</td>\n",
       "      <td>831100.000000</td>\n",
       "      <td>600700.000000</td>\n",
       "      <td>532100.000000</td>\n",
       "    </tr>\n",
       "  </tbody>\n",
       "</table>\n",
       "</div>"
      ],
      "text/plain": [
       "               scale          mvir           rvir             rs  \\\n",
       "count  256832.000000  2.568320e+05  256832.000000  256832.000000   \n",
       "mean        0.816311  7.301543e+13     857.440875     187.193600   \n",
       "std         0.199967  7.868467e+13     192.567331     117.229976   \n",
       "min         0.492200  3.000100e+13     632.255005      32.898998   \n",
       "25%         0.671200  3.694600e+13     730.926025     112.447748   \n",
       "50%         1.000000  4.905500e+13     804.924499     156.194000   \n",
       "75%         1.000000  7.716600e+13     929.078003     223.302994   \n",
       "max         1.000000  3.502700e+15    3090.156982    2089.819092   \n",
       "\n",
       "                   x              y              z           Xoff  \\\n",
       "count  256832.000000  256832.000000  256832.000000  256832.000000   \n",
       "mean      501.498153     498.782466     499.876698      61.854125   \n",
       "std       288.312220     289.041943     288.585709      50.834879   \n",
       "min         0.000810       0.000700       0.012730       0.308550   \n",
       "25%       251.766870     246.199405     251.185130      25.840375   \n",
       "50%       501.625455     500.425995     499.469575      46.371850   \n",
       "75%       751.234820     751.418702     751.916013      82.679225   \n",
       "max       999.990230     999.998470     999.989500     833.360000   \n",
       "\n",
       "               T/|U|  Halfmass_Scale  Acc_Rate_Inst  Acc_Rate_100Myr  \\\n",
       "count  256832.000000   256832.000000   2.568320e+05     2.568320e+05   \n",
       "mean        0.663491        0.532261   8.853265e+03     8.853265e+03   \n",
       "std         0.074159        0.129141   2.163383e+04     2.163383e+04   \n",
       "min         0.523100        0.242300  -4.625000e+05    -4.625000e+05   \n",
       "25%         0.610700        0.430900   8.589000e+02     8.589000e+02   \n",
       "50%         0.649700        0.514500   3.609000e+03     3.609000e+03   \n",
       "75%         0.700300        0.600800   1.003000e+04     1.003000e+04   \n",
       "max         1.806000        0.978100   1.305000e+06     1.305000e+06   \n",
       "\n",
       "       Acc_Rate_1*Tdyn  Acc_Rate_2*Tdyn  Acc_Rate_Mpeak  \n",
       "count    256832.000000    256832.000000   256832.000000  \n",
       "mean       9392.996672      9537.460887     9847.584791  \n",
       "std       16343.656759     13152.844583    12779.346687  \n",
       "min      -80740.000000    -26100.000000        0.000000  \n",
       "25%        1622.000000      2750.000000     3289.000000  \n",
       "50%        4893.000000      5993.000000     6220.000000  \n",
       "75%       11680.000000     11600.000000    11730.000000  \n",
       "max      831100.000000    600700.000000   532100.000000  "
      ]
     },
     "execution_count": 10,
     "metadata": {},
     "output_type": "execute_result"
    }
   ],
   "source": [
    "cluster_df.describe()"
   ]
  },
  {
   "cell_type": "code",
   "execution_count": 7,
   "id": "49fc917e-165c-4dda-918d-553f16d6cabb",
   "metadata": {},
   "outputs": [],
   "source": []
  },
  {
   "cell_type": "markdown",
   "id": "42beebe4-80e2-455f-87b1-91510282f707",
   "metadata": {},
   "source": [
    "### Append derived quantities\n",
    "\n",
    "* c_vir\n",
    "* R200c\n",
    "* R500c"
   ]
  },
  {
   "cell_type": "code",
   "execution_count": 13,
   "id": "9f9771cd-d1c9-409b-ae58-daa4f88e81f5",
   "metadata": {},
   "outputs": [],
   "source": [
    "cluster_df['c_vir'] = cluster_df.rvir/cluster_df.rs"
   ]
  },
  {
   "cell_type": "code",
   "execution_count": 14,
   "id": "94ab0c50-70d9-4eab-8e6b-5980cb625e14",
   "metadata": {},
   "outputs": [],
   "source": [
    "cluster_df['rvir'] = cluster_df.rvir/1000 ##To kpc/h"
   ]
  },
  {
   "cell_type": "code",
   "execution_count": 18,
   "id": "09affb30-505a-41d3-a55f-dfe581bdc957",
   "metadata": {},
   "outputs": [],
   "source": [
    "cluster_df['redshift'] = 1./cluster_df.scale - 1"
   ]
  },
  {
   "cell_type": "code",
   "execution_count": 19,
   "id": "9def3e8f-60a4-41d4-809d-02c221f864b4",
   "metadata": {},
   "outputs": [],
   "source": [
    "#cluster_df['rvir'] = cluster_df.rvir*1000 ##To kpc/h"
   ]
  },
  {
   "cell_type": "markdown",
   "id": "df9b9956-347f-4ed7-9504-31ab997e431c",
   "metadata": {},
   "source": [
    "## Different ways of measuring R200c"
   ]
  },
  {
   "cell_type": "code",
   "execution_count": 20,
   "id": "e29e955d-14d7-47cf-91a7-e253e93e1725",
   "metadata": {},
   "outputs": [],
   "source": [
    "redshift_vals = pd.unique(cluster_df['redshift'].values.ravel('K'))"
   ]
  },
  {
   "cell_type": "code",
   "execution_count": null,
   "id": "4fbe66cc-e4e5-4e03-9a7f-97a3e596bd75",
   "metadata": {},
   "outputs": [
    {
     "name": "stderr",
     "output_type": "stream",
     "text": [
      " 31%|███▏      | 80533/256832 [02:17<04:44, 619.36it/s]"
     ]
    }
   ],
   "source": [
    "from colossus.halo import mass_defs\n",
    "from colossus.cosmology import cosmology\n",
    "\n",
    "cosmology.setCosmology('planck18')\n",
    "\n",
    "R200c_arr = np.zeros(len(cluster_df))\n",
    "R500c_arr = np.zeros(len(cluster_df))\n",
    "\n",
    "\n",
    "for i in tqdm(range(len(cluster_df))):\n",
    "    M200c, R200c, c200c = mass_defs.changeMassDefinition(cluster_df.iloc[i]['mvir'], cluster_df.iloc[i]['rvir'], cluster_df.iloc[i].redshift, 'vir', '200c')\n",
    "    M500c, R500c, c500c = mass_defs.changeMassDefinition(cluster_df.iloc[i]['mvir'], cluster_df.iloc[i]['rvir'], cluster_df.iloc[i].redshift, 'vir', '500c')\n",
    "    \n",
    "    R200c_arr[i] = R200c\n",
    "    R500c_arr[i] = R500c"
   ]
  },
  {
   "cell_type": "code",
   "execution_count": null,
   "id": "2c11ab63-d8c9-4432-8698-42138d1740f4",
   "metadata": {},
   "outputs": [],
   "source": [
    "cluster_df['R200c'] = R200c_arr/1000\n",
    "cluster_df['R500c'] = R500c_arr/1000"
   ]
  },
  {
   "cell_type": "markdown",
   "id": "5759c21a-767e-4a41-965e-244b03a8186f",
   "metadata": {},
   "source": [
    "## DeltaSigma profiles compare then"
   ]
  },
  {
   "cell_type": "code",
   "execution_count": 12,
   "id": "955ae5b3-0d7a-4f5c-8ce1-afceed6aae95",
   "metadata": {},
   "outputs": [],
   "source": [
    "ptcl_dir = '/global/cscratch1/sd/zzhang13/MultiDark/MDPL2_particles/z0p49/'\n",
    "deltasigma_dir = '/global/homes/z/zzhang13/BaryonPasting/CorrelatedStructures/multiDark/data/'\n",
    "clusters_dir = '/global/homes/z/zzhang13/BaryonPasting/CorrelatedStructures/multiDark/data/'"
   ]
  },
  {
   "cell_type": "code",
   "execution_count": 15,
   "id": "a73b9743-82e6-4a0b-b282-c7b5a03a82eb",
   "metadata": {},
   "outputs": [
    {
     "name": "stdout",
     "output_type": "stream",
     "text": [
      "['/global/homes/z/zzhang13/BaryonPasting/CorrelatedStructures/multiDark/data/sigma_mvir_5e13_1e14_z0p49.pkl', '/global/homes/z/zzhang13/BaryonPasting/CorrelatedStructures/multiDark/data/sigma_mvir_5e14_1e15_z0p00.pkl', '/global/homes/z/zzhang13/BaryonPasting/CorrelatedStructures/multiDark/data/sigma_mvir_1e14_2e14_z1p03.pkl', '/global/homes/z/zzhang13/BaryonPasting/CorrelatedStructures/multiDark/data/sigma_mvir_2e14_5e14_z0p00.pkl', '/global/homes/z/zzhang13/BaryonPasting/CorrelatedStructures/multiDark/data/sigma_mvir_1e14_2e14_z0p49.pkl', '/global/homes/z/zzhang13/BaryonPasting/CorrelatedStructures/multiDark/data/sigma_mvir_2e14_5e14_z0p49.pkl', '/global/homes/z/zzhang13/BaryonPasting/CorrelatedStructures/multiDark/data/sigma_mvir_5e13_1e14_z1p03.pkl', '/global/homes/z/zzhang13/BaryonPasting/CorrelatedStructures/multiDark/data/sigma_mvir_1e14_2e14_z0p00.pkl', '/global/homes/z/zzhang13/BaryonPasting/CorrelatedStructures/multiDark/data/sigma_mvir_5e13_1e14_z0p00.pkl']\n"
     ]
    }
   ],
   "source": [
    "from glob import glob\n",
    "delta_sigma_file = deltasigma_dir + 'sigma_mvir_5e13_1e14_z0p49.pkl'\n",
    "DS_files = glob(deltasigma_dir + 'sigma_mvir_*')\n",
    "print(DS_files)\n",
    "\n",
    "deltasigma_df = pd.DataFrame()"
   ]
  },
  {
   "cell_type": "code",
   "execution_count": 16,
   "id": "66449a69-418f-4e03-a41a-875395752855",
   "metadata": {},
   "outputs": [],
   "source": [
    "with open(delta_sigma_file, 'rb') as handle:\n",
    "    deltasigma = pickle.load(handle)\n",
    "    \n",
    "    \n",
    "for file in iter(DS_files):\n",
    "    with open(file,'rb') as handle:\n",
    "        deltasigma_cur = pickle.load(handle)\n",
    "        deltasigma_cur_df = pd.DataFrame.from_dict(deltasigma_cur, orient=\"index\").transpose()\n",
    "    deltasigma_df = deltasigma_df.append(deltasigma_cur_df)"
   ]
  },
  {
   "cell_type": "code",
   "execution_count": 18,
   "id": "9b7a5e49-30b9-46c1-9b7d-fc26bfaf284b",
   "metadata": {},
   "outputs": [],
   "source": [
    "deltasigma_df = deltasigma_df.rename(columns={\"cluster_id\": \"CtreesHaloID\"})"
   ]
  },
  {
   "cell_type": "code",
   "execution_count": 19,
   "id": "be0edc50-7682-4037-b253-b069f11f681e",
   "metadata": {},
   "outputs": [],
   "source": [
    "merged_df = pd.merge(matched_halo_df, deltasigma_df, how=\"inner\", on='CtreesHaloID')"
   ]
  },
  {
   "cell_type": "code",
   "execution_count": 20,
   "id": "16999acb-e9a3-4b66-9342-8fd19144a603",
   "metadata": {},
   "outputs": [
    {
     "data": {
      "text/plain": [
       "718"
      ]
     },
     "execution_count": 20,
     "metadata": {},
     "output_type": "execute_result"
    }
   ],
   "source": [
    "len(merged_df)"
   ]
  },
  {
   "cell_type": "code",
   "execution_count": 9,
   "id": "b97d97cc-8281-4728-b549-143d6c44d727",
   "metadata": {},
   "outputs": [
    {
     "data": {
      "text/plain": [
       "[<matplotlib.lines.Line2D at 0x155504234190>]"
      ]
     },
     "execution_count": 9,
     "metadata": {},
     "output_type": "execute_result"
    },
    {
     "data": {
      "image/png": "[encoded data removed]",
      "text/plain": [
       "<Figure size 432x288 with 1 Axes>"
      ]
     },
     "metadata": {
      "needs_background": "light"
     },
     "output_type": "display_data"
    }
   ],
   "source": [
    "plt.scatter(cluster_df['mvir'], cluster_df['M200c'], c=cluster_df['redshift'])\n",
    "x= np.linspace(5e13,5e15,100)\n",
    "plt.plot(x,x)"
   ]
  },
  {
   "cell_type": "code",
   "execution_count": 148,
   "id": "50193fda-24a7-4aff-8f22-44ad31346644",
   "metadata": {},
   "outputs": [
    {
     "data": {
      "text/plain": [
       "[<matplotlib.lines.Line2D at 0x1554fc830310>]"
      ]
     },
     "execution_count": 148,
     "metadata": {},
     "output_type": "execute_result"
    },
    {
     "data": {
      "image/png": "[encoded data removed]",
      "text/plain": [
       "<Figure size 432x288 with 1 Axes>"
      ]
     },
     "metadata": {
      "needs_background": "light"
     },
     "output_type": "display_data"
    }
   ],
   "source": [
    "plt.scatter(cluster_df['rvir'], cluster_df['R200c']/1000, c=redshift)\n",
    "x= np.linspace(0,3,100)\n",
    "plt.plot(x,x)"
   ]
  },
  {
   "cell_type": "code",
   "execution_count": 149,
   "id": "13422e02-7603-4dea-9fee-f928faba3b35",
   "metadata": {},
   "outputs": [
    {
     "data": {
      "text/plain": [
       "[<matplotlib.lines.Line2D at 0x1554fd4ae110>]"
      ]
     },
     "execution_count": 149,
     "metadata": {},
     "output_type": "execute_result"
    },
    {
     "data": {
      "image/png": "[encoded data removed]",
      "text/plain": [
       "<Figure size 432x288 with 1 Axes>"
      ]
     },
     "metadata": {
      "needs_background": "light"
     },
     "output_type": "display_data"
    }
   ],
   "source": [
    "plt.scatter(cluster_df['rvir'], cluster_df['R500c']/1000, c=redshift)\n",
    "x= np.linspace(0,3,100)\n",
    "plt.plot(x,x)"
   ]
  },
  {
   "cell_type": "code",
   "execution_count": 158,
   "id": "4fbe2ed6-1adb-42c4-b87f-0ce2ed62d7e3",
   "metadata": {},
   "outputs": [
    {
     "data": {
      "text/plain": [
       "<AxesSubplot:ylabel='Frequency'>"
      ]
     },
     "execution_count": 158,
     "metadata": {},
     "output_type": "execute_result"
    },
    {
     "data": {
      "image/png": "[encoded data removed]",
      "text/plain": [
       "<Figure size 432x288 with 1 Axes>"
      ]
     },
     "metadata": {
      "needs_background": "light"
     },
     "output_type": "display_data"
    }
   ],
   "source": [
    "cluster_df['R200c'].plot(kind='hist', logy=True, alpha=0.3)\n",
    "cluster_df['rvir'].plot(kind='hist', logy=True, alpha=0.3)"
   ]
  },
  {
   "cell_type": "code",
   "execution_count": null,
   "id": "8b4112a4-2f65-49ad-b441-da966e2fe379",
   "metadata": {},
   "outputs": [],
   "source": []
  },
  {
   "cell_type": "markdown",
   "id": "7b4268d8-b3ad-4f8d-b011-81df1f450f45",
   "metadata": {},
   "source": [
    "### Diagnostic plots"
   ]
  },
  {
   "cell_type": "code",
   "execution_count": 151,
   "id": "d5c7aa40-397e-4f70-93cd-91cad64158aa",
   "metadata": {},
   "outputs": [
    {
     "data": {
      "image/png": "[encoded data removed]",
      "text/plain": [
       "<Figure size 432x288 with 1 Axes>"
      ]
     },
     "metadata": {
      "needs_background": "light"
     },
     "output_type": "display_data"
    }
   ],
   "source": [
    "plt.hist(cluster_df['R200c'], bins=100)\n",
    "plt.yscale('log')\n",
    "plt.show()"
   ]
  },
  {
   "cell_type": "code",
   "execution_count": 152,
   "id": "ad66feb8-ebc3-4543-882f-c56ae2462b7b",
   "metadata": {},
   "outputs": [
    {
     "data": {
      "image/png": "[encoded data removed]",
      "text/plain": [
       "<Figure size 432x288 with 1 Axes>"
      ]
     },
     "metadata": {
      "needs_background": "light"
     },
     "output_type": "display_data"
    },
    {
     "data": {
      "text/plain": [
       "0.64764502"
      ]
     },
     "execution_count": 152,
     "metadata": {},
     "output_type": "execute_result"
    }
   ],
   "source": [
    "plt.hist(cluster_df['rvir'], bins=100)\n",
    "plt.yscale('log')\n",
    "plt.show()\n",
    "np.min(cluster_df['rvir'])"
   ]
  },
  {
   "cell_type": "code",
   "execution_count": 153,
   "id": "6eb7c984-65e6-40b3-9a48-1c1e6a4f5187",
   "metadata": {},
   "outputs": [
    {
     "data": {
      "text/plain": [
       "<matplotlib.collections.PathCollection at 0x1554fd4baad0>"
      ]
     },
     "execution_count": 153,
     "metadata": {},
     "output_type": "execute_result"
    },
    {
     "data": {
      "image/png": "[encoded data removed]",
      "text/plain": [
       "<Figure size 432x288 with 1 Axes>"
      ]
     },
     "metadata": {
      "needs_background": "light"
     },
     "output_type": "display_data"
    }
   ],
   "source": [
    "plt.scatter(cluster_df['mvir'], cluster_df['M200c'], c=redshift)"
   ]
  },
  {
   "cell_type": "code",
   "execution_count": 154,
   "id": "5dd935be-d487-49e2-aa46-402d75c3ddb2",
   "metadata": {},
   "outputs": [
    {
     "data": {
      "text/plain": [
       "<matplotlib.collections.PathCollection at 0x1554fdb77290>"
      ]
     },
     "execution_count": 154,
     "metadata": {},
     "output_type": "execute_result"
    },
    {
     "data": {
      "image/png": "[encoded data removed]",
      "text/plain": [
       "<Figure size 432x288 with 1 Axes>"
      ]
     },
     "metadata": {
      "needs_background": "light"
     },
     "output_type": "display_data"
    }
   ],
   "source": [
    "plt.scatter(cluster_df['M500c'], cluster_df['M200c']-cluster_df['M500c'], c=redshift)"
   ]
  },
  {
   "cell_type": "code",
   "execution_count": 155,
   "id": "bece5b32-35b1-48f2-8ad7-5ab99d0621ee",
   "metadata": {},
   "outputs": [
    {
     "data": {
      "text/html": [
       "<div>\n",
       "<style scoped>\n",
       "    .dataframe tbody tr th:only-of-type {\n",
       "        vertical-align: middle;\n",
       "    }\n",
       "\n",
       "    .dataframe tbody tr th {\n",
       "        vertical-align: top;\n",
       "    }\n",
       "\n",
       "    .dataframe thead th {\n",
       "        text-align: right;\n",
       "    }\n",
       "</style>\n",
       "<table border=\"1\" class=\"dataframe\">\n",
       "  <thead>\n",
       "    <tr style=\"text-align: right;\">\n",
       "      <th></th>\n",
       "      <th>scale</th>\n",
       "      <th>mvir</th>\n",
       "      <th>rvir</th>\n",
       "      <th>rs</th>\n",
       "      <th>x</th>\n",
       "      <th>y</th>\n",
       "      <th>z</th>\n",
       "      <th>T/|U|</th>\n",
       "      <th>Halfmass_Scale</th>\n",
       "      <th>Acc_Rate_Inst</th>\n",
       "      <th>Acc_Rate_100Myr</th>\n",
       "      <th>Acc_Rate_1*Tdyn</th>\n",
       "      <th>Acc_Rate_2*Tdyn</th>\n",
       "      <th>Acc_Rate_Mpeak</th>\n",
       "      <th>c_vir</th>\n",
       "      <th>R200c</th>\n",
       "      <th>R500c</th>\n",
       "      <th>redshift</th>\n",
       "    </tr>\n",
       "  </thead>\n",
       "  <tbody>\n",
       "    <tr>\n",
       "      <th>count</th>\n",
       "      <td>209298.000000</td>\n",
       "      <td>2.092980e+05</td>\n",
       "      <td>209298.000000</td>\n",
       "      <td>209298.000000</td>\n",
       "      <td>209298.000000</td>\n",
       "      <td>209298.000000</td>\n",
       "      <td>209298.000000</td>\n",
       "      <td>209298.000000</td>\n",
       "      <td>209298.000000</td>\n",
       "      <td>2.092980e+05</td>\n",
       "      <td>2.092980e+05</td>\n",
       "      <td>209298.000000</td>\n",
       "      <td>209298.000000</td>\n",
       "      <td>209298.000000</td>\n",
       "      <td>209298.000000</td>\n",
       "      <td>209298.000000</td>\n",
       "      <td>209298.000000</td>\n",
       "      <td>209298.000000</td>\n",
       "    </tr>\n",
       "    <tr>\n",
       "      <th>mean</th>\n",
       "      <td>0.807450</td>\n",
       "      <td>8.210639e+13</td>\n",
       "      <td>0.896091</td>\n",
       "      <td>194.263649</td>\n",
       "      <td>501.536105</td>\n",
       "      <td>498.969082</td>\n",
       "      <td>499.629624</td>\n",
       "      <td>0.665450</td>\n",
       "      <td>0.530661</td>\n",
       "      <td>9.950943e+03</td>\n",
       "      <td>9.950943e+03</td>\n",
       "      <td>10755.142991</td>\n",
       "      <td>10859.029912</td>\n",
       "      <td>11193.711198</td>\n",
       "      <td>0.005589</td>\n",
       "      <td>0.516635</td>\n",
       "      <td>0.274918</td>\n",
       "      <td>0.329965</td>\n",
       "    </tr>\n",
       "    <tr>\n",
       "      <th>std</th>\n",
       "      <td>0.201173</td>\n",
       "      <td>8.455176e+13</td>\n",
       "      <td>0.192360</td>\n",
       "      <td>117.933843</td>\n",
       "      <td>288.051739</td>\n",
       "      <td>289.290199</td>\n",
       "      <td>288.618705</td>\n",
       "      <td>0.072111</td>\n",
       "      <td>0.128879</td>\n",
       "      <td>2.348146e+04</td>\n",
       "      <td>2.348146e+04</td>\n",
       "      <td>17716.142351</td>\n",
       "      <td>14174.326645</td>\n",
       "      <td>13742.119446</td>\n",
       "      <td>0.002100</td>\n",
       "      <td>0.143042</td>\n",
       "      <td>0.084233</td>\n",
       "      <td>0.374580</td>\n",
       "    </tr>\n",
       "    <tr>\n",
       "      <th>min</th>\n",
       "      <td>0.492200</td>\n",
       "      <td>3.050300e+13</td>\n",
       "      <td>0.647645</td>\n",
       "      <td>32.898998</td>\n",
       "      <td>0.000810</td>\n",
       "      <td>0.000700</td>\n",
       "      <td>0.012730</td>\n",
       "      <td>0.524300</td>\n",
       "      <td>0.242300</td>\n",
       "      <td>-4.625000e+05</td>\n",
       "      <td>-4.625000e+05</td>\n",
       "      <td>-80740.000000</td>\n",
       "      <td>-26100.000000</td>\n",
       "      <td>0.000000</td>\n",
       "      <td>0.001000</td>\n",
       "      <td>0.318309</td>\n",
       "      <td>0.168764</td>\n",
       "      <td>0.000000</td>\n",
       "    </tr>\n",
       "    <tr>\n",
       "      <th>25%</th>\n",
       "      <td>0.671200</td>\n",
       "      <td>4.262700e+13</td>\n",
       "      <td>0.769205</td>\n",
       "      <td>119.093252</td>\n",
       "      <td>252.069752</td>\n",
       "      <td>246.200015</td>\n",
       "      <td>250.886978</td>\n",
       "      <td>0.613800</td>\n",
       "      <td>0.430900</td>\n",
       "      <td>1.117000e+03</td>\n",
       "      <td>1.117000e+03</td>\n",
       "      <td>2055.000000</td>\n",
       "      <td>3357.000000</td>\n",
       "      <td>3974.000000</td>\n",
       "      <td>0.004035</td>\n",
       "      <td>0.429449</td>\n",
       "      <td>0.222021</td>\n",
       "      <td>0.000000</td>\n",
       "    </tr>\n",
       "    <tr>\n",
       "      <th>50%</th>\n",
       "      <td>0.671200</td>\n",
       "      <td>5.623600e+13</td>\n",
       "      <td>0.841205</td>\n",
       "      <td>163.947998</td>\n",
       "      <td>501.430360</td>\n",
       "      <td>500.686905</td>\n",
       "      <td>499.464825</td>\n",
       "      <td>0.652700</td>\n",
       "      <td>0.514500</td>\n",
       "      <td>4.289000e+03</td>\n",
       "      <td>4.289000e+03</td>\n",
       "      <td>5967.000000</td>\n",
       "      <td>7175.000000</td>\n",
       "      <td>7391.000000</td>\n",
       "      <td>0.005421</td>\n",
       "      <td>0.479618</td>\n",
       "      <td>0.250114</td>\n",
       "      <td>0.489869</td>\n",
       "    </tr>\n",
       "    <tr>\n",
       "      <th>75%</th>\n",
       "      <td>1.000000</td>\n",
       "      <td>8.751675e+13</td>\n",
       "      <td>0.967460</td>\n",
       "      <td>231.248745</td>\n",
       "      <td>751.136247</td>\n",
       "      <td>752.112825</td>\n",
       "      <td>751.583737</td>\n",
       "      <td>0.702400</td>\n",
       "      <td>0.600800</td>\n",
       "      <td>1.135000e+04</td>\n",
       "      <td>1.135000e+04</td>\n",
       "      <td>13580.000000</td>\n",
       "      <td>13300.000000</td>\n",
       "      <td>13460.000000</td>\n",
       "      <td>0.007000</td>\n",
       "      <td>0.567838</td>\n",
       "      <td>0.301963</td>\n",
       "      <td>0.489869</td>\n",
       "    </tr>\n",
       "    <tr>\n",
       "      <th>max</th>\n",
       "      <td>1.000000</td>\n",
       "      <td>3.502700e+15</td>\n",
       "      <td>3.090157</td>\n",
       "      <td>2089.819092</td>\n",
       "      <td>999.990230</td>\n",
       "      <td>999.998470</td>\n",
       "      <td>999.989500</td>\n",
       "      <td>1.738900</td>\n",
       "      <td>0.978100</td>\n",
       "      <td>1.305000e+06</td>\n",
       "      <td>1.305000e+06</td>\n",
       "      <td>831100.000000</td>\n",
       "      <td>600700.000000</td>\n",
       "      <td>532100.000000</td>\n",
       "      <td>0.020667</td>\n",
       "      <td>2.235039</td>\n",
       "      <td>1.388039</td>\n",
       "      <td>1.031694</td>\n",
       "    </tr>\n",
       "  </tbody>\n",
       "</table>\n",
       "</div>"
      ],
      "text/plain": [
       "               scale          mvir           rvir             rs  \\\n",
       "count  209298.000000  2.092980e+05  209298.000000  209298.000000   \n",
       "mean        0.807450  8.210639e+13       0.896091     194.263649   \n",
       "std         0.201173  8.455176e+13       0.192360     117.933843   \n",
       "min         0.492200  3.050300e+13       0.647645      32.898998   \n",
       "25%         0.671200  4.262700e+13       0.769205     119.093252   \n",
       "50%         0.671200  5.623600e+13       0.841205     163.947998   \n",
       "75%         1.000000  8.751675e+13       0.967460     231.248745   \n",
       "max         1.000000  3.502700e+15       3.090157    2089.819092   \n",
       "\n",
       "                   x              y              z          T/|U|  \\\n",
       "count  209298.000000  209298.000000  209298.000000  209298.000000   \n",
       "mean      501.536105     498.969082     499.629624       0.665450   \n",
       "std       288.051739     289.290199     288.618705       0.072111   \n",
       "min         0.000810       0.000700       0.012730       0.524300   \n",
       "25%       252.069752     246.200015     250.886978       0.613800   \n",
       "50%       501.430360     500.686905     499.464825       0.652700   \n",
       "75%       751.136247     752.112825     751.583737       0.702400   \n",
       "max       999.990230     999.998470     999.989500       1.738900   \n",
       "\n",
       "       Halfmass_Scale  Acc_Rate_Inst  Acc_Rate_100Myr  Acc_Rate_1*Tdyn  \\\n",
       "count   209298.000000   2.092980e+05     2.092980e+05    209298.000000   \n",
       "mean         0.530661   9.950943e+03     9.950943e+03     10755.142991   \n",
       "std          0.128879   2.348146e+04     2.348146e+04     17716.142351   \n",
       "min          0.242300  -4.625000e+05    -4.625000e+05    -80740.000000   \n",
       "25%          0.430900   1.117000e+03     1.117000e+03      2055.000000   \n",
       "50%          0.514500   4.289000e+03     4.289000e+03      5967.000000   \n",
       "75%          0.600800   1.135000e+04     1.135000e+04     13580.000000   \n",
       "max          0.978100   1.305000e+06     1.305000e+06    831100.000000   \n",
       "\n",
       "       Acc_Rate_2*Tdyn  Acc_Rate_Mpeak          c_vir          R200c  \\\n",
       "count    209298.000000   209298.000000  209298.000000  209298.000000   \n",
       "mean      10859.029912    11193.711198       0.005589       0.516635   \n",
       "std       14174.326645    13742.119446       0.002100       0.143042   \n",
       "min      -26100.000000        0.000000       0.001000       0.318309   \n",
       "25%        3357.000000     3974.000000       0.004035       0.429449   \n",
       "50%        7175.000000     7391.000000       0.005421       0.479618   \n",
       "75%       13300.000000    13460.000000       0.007000       0.567838   \n",
       "max      600700.000000   532100.000000       0.020667       2.235039   \n",
       "\n",
       "               R500c       redshift  \n",
       "count  209298.000000  209298.000000  \n",
       "mean        0.274918       0.329965  \n",
       "std         0.084233       0.374580  \n",
       "min         0.168764       0.000000  \n",
       "25%         0.222021       0.000000  \n",
       "50%         0.250114       0.489869  \n",
       "75%         0.301963       0.489869  \n",
       "max         1.388039       1.031694  "
      ]
     },
     "execution_count": 155,
     "metadata": {},
     "output_type": "execute_result"
    }
   ],
   "source": [
    "cluster_df.describe()"
   ]
  },
  {
   "cell_type": "code",
   "execution_count": 9,
   "id": "786a939f-3b14-42fb-ba2c-c06ad9b68cb9",
   "metadata": {},
   "outputs": [],
   "source": [
    "## Output the most massive halo. \n",
    "# Saving the cluster_df as a csv file.\n",
    "cluster_df.to_csv(datadir + 'clusters_m200c_lgt_3e13_mah_allz.csv', index=False)"
   ]
  },
  {
   "cell_type": "markdown",
   "id": "0624c9af-8090-4d04-833a-513812a359b6",
   "metadata": {},
   "source": [
    "## Save the files"
   ]
  },
  {
   "cell_type": "markdown",
   "id": "2c36806a-583f-4877-9ea9-b74888c6968d",
   "metadata": {},
   "source": [
    "## Import the cluster catalog if it already exists. "
   ]
  },
  {
   "cell_type": "code",
   "execution_count": 13,
   "id": "28764970-d5af-496a-ac20-ebee6a4b7f00",
   "metadata": {},
   "outputs": [],
   "source": [
    "cluster_df = pd.read_csv(datadir + 'clusters_mvir_lgt_3e13_mah_allz.csv')"
   ]
  },
  {
   "cell_type": "code",
   "execution_count": 14,
   "id": "8e623d04-fbc7-4ab1-8712-a840b5c3f1f6",
   "metadata": {},
   "outputs": [
    {
     "data": {
      "text/html": [
       "<div>\n",
       "<style scoped>\n",
       "    .dataframe tbody tr th:only-of-type {\n",
       "        vertical-align: middle;\n",
       "    }\n",
       "\n",
       "    .dataframe tbody tr th {\n",
       "        vertical-align: top;\n",
       "    }\n",
       "\n",
       "    .dataframe thead th {\n",
       "        text-align: right;\n",
       "    }\n",
       "</style>\n",
       "<table border=\"1\" class=\"dataframe\">\n",
       "  <thead>\n",
       "    <tr style=\"text-align: right;\">\n",
       "      <th></th>\n",
       "      <th>scale</th>\n",
       "      <th>id</th>\n",
       "      <th>pid</th>\n",
       "      <th>mvir</th>\n",
       "      <th>rvir</th>\n",
       "      <th>rs</th>\n",
       "      <th>x</th>\n",
       "      <th>y</th>\n",
       "      <th>z</th>\n",
       "      <th>Mmvir_all</th>\n",
       "      <th>M200b</th>\n",
       "      <th>M200c</th>\n",
       "      <th>M500c</th>\n",
       "      <th>T/|U|</th>\n",
       "      <th>Halfmass_Scale</th>\n",
       "      <th>Acc_Rate_Inst</th>\n",
       "      <th>Acc_Rate_100Myr</th>\n",
       "      <th>Acc_Rate_1*Tdyn</th>\n",
       "      <th>Acc_Rate_2*Tdyn</th>\n",
       "      <th>Acc_Rate_Mpeak</th>\n",
       "    </tr>\n",
       "  </thead>\n",
       "  <tbody>\n",
       "    <tr>\n",
       "      <th>0</th>\n",
       "      <td>0.4922</td>\n",
       "      <td>7480679306</td>\n",
       "      <td>-1</td>\n",
       "      <td>2.882000e+14</td>\n",
       "      <td>1589.118042</td>\n",
       "      <td>286.322998</td>\n",
       "      <td>775.65137</td>\n",
       "      <td>70.00431</td>\n",
       "      <td>624.70386</td>\n",
       "      <td>2.882000e+14</td>\n",
       "      <td>2.887900e+14</td>\n",
       "      <td>2.658400e+14</td>\n",
       "      <td>1.860000e+14</td>\n",
       "      <td>0.6848</td>\n",
       "      <td>0.3530</td>\n",
       "      <td>20140.0</td>\n",
       "      <td>20140.0</td>\n",
       "      <td>12660.0</td>\n",
       "      <td>57790.0</td>\n",
       "      <td>49650.0</td>\n",
       "    </tr>\n",
       "    <tr>\n",
       "      <th>1</th>\n",
       "      <td>0.4922</td>\n",
       "      <td>7480679630</td>\n",
       "      <td>-1</td>\n",
       "      <td>1.957600e+14</td>\n",
       "      <td>1396.890991</td>\n",
       "      <td>438.428986</td>\n",
       "      <td>774.06635</td>\n",
       "      <td>72.02608</td>\n",
       "      <td>621.05902</td>\n",
       "      <td>1.957600e+14</td>\n",
       "      <td>1.961600e+14</td>\n",
       "      <td>1.819200e+14</td>\n",
       "      <td>1.159800e+14</td>\n",
       "      <td>0.7227</td>\n",
       "      <td>0.3453</td>\n",
       "      <td>44520.0</td>\n",
       "      <td>44520.0</td>\n",
       "      <td>35350.0</td>\n",
       "      <td>39710.0</td>\n",
       "      <td>39160.0</td>\n",
       "    </tr>\n",
       "    <tr>\n",
       "      <th>2</th>\n",
       "      <td>0.4922</td>\n",
       "      <td>7480680071</td>\n",
       "      <td>-1</td>\n",
       "      <td>5.253600e+13</td>\n",
       "      <td>901.036987</td>\n",
       "      <td>204.459000</td>\n",
       "      <td>774.02454</td>\n",
       "      <td>70.48774</td>\n",
       "      <td>622.57806</td>\n",
       "      <td>5.962900e+13</td>\n",
       "      <td>5.258500e+13</td>\n",
       "      <td>4.856600e+13</td>\n",
       "      <td>3.109700e+13</td>\n",
       "      <td>0.6427</td>\n",
       "      <td>0.3091</td>\n",
       "      <td>-9236.0</td>\n",
       "      <td>-9236.0</td>\n",
       "      <td>2657.0</td>\n",
       "      <td>10630.0</td>\n",
       "      <td>9104.0</td>\n",
       "    </tr>\n",
       "    <tr>\n",
       "      <th>3</th>\n",
       "      <td>0.4922</td>\n",
       "      <td>7480720476</td>\n",
       "      <td>-1</td>\n",
       "      <td>1.081100e+14</td>\n",
       "      <td>1146.072021</td>\n",
       "      <td>282.298004</td>\n",
       "      <td>794.99408</td>\n",
       "      <td>94.06732</td>\n",
       "      <td>674.30176</td>\n",
       "      <td>1.081200e+14</td>\n",
       "      <td>1.082300e+14</td>\n",
       "      <td>1.023800e+14</td>\n",
       "      <td>7.406300e+13</td>\n",
       "      <td>0.6833</td>\n",
       "      <td>0.4032</td>\n",
       "      <td>45950.0</td>\n",
       "      <td>45950.0</td>\n",
       "      <td>48040.0</td>\n",
       "      <td>36050.0</td>\n",
       "      <td>38550.0</td>\n",
       "    </tr>\n",
       "    <tr>\n",
       "      <th>4</th>\n",
       "      <td>0.4922</td>\n",
       "      <td>7480720691</td>\n",
       "      <td>-1</td>\n",
       "      <td>3.356900e+13</td>\n",
       "      <td>776.075989</td>\n",
       "      <td>172.278000</td>\n",
       "      <td>796.64618</td>\n",
       "      <td>92.04386</td>\n",
       "      <td>677.38428</td>\n",
       "      <td>3.356900e+13</td>\n",
       "      <td>3.365200e+13</td>\n",
       "      <td>3.101400e+13</td>\n",
       "      <td>2.123800e+13</td>\n",
       "      <td>0.6355</td>\n",
       "      <td>0.3231</td>\n",
       "      <td>7159.0</td>\n",
       "      <td>7159.0</td>\n",
       "      <td>5281.0</td>\n",
       "      <td>4027.0</td>\n",
       "      <td>3502.0</td>\n",
       "    </tr>\n",
       "    <tr>\n",
       "      <th>...</th>\n",
       "      <td>...</td>\n",
       "      <td>...</td>\n",
       "      <td>...</td>\n",
       "      <td>...</td>\n",
       "      <td>...</td>\n",
       "      <td>...</td>\n",
       "      <td>...</td>\n",
       "      <td>...</td>\n",
       "      <td>...</td>\n",
       "      <td>...</td>\n",
       "      <td>...</td>\n",
       "      <td>...</td>\n",
       "      <td>...</td>\n",
       "      <td>...</td>\n",
       "      <td>...</td>\n",
       "      <td>...</td>\n",
       "      <td>...</td>\n",
       "      <td>...</td>\n",
       "      <td>...</td>\n",
       "      <td>...</td>\n",
       "    </tr>\n",
       "    <tr>\n",
       "      <th>37893</th>\n",
       "      <td>0.4922</td>\n",
       "      <td>7448758907</td>\n",
       "      <td>-1</td>\n",
       "      <td>3.175500e+13</td>\n",
       "      <td>761.836975</td>\n",
       "      <td>132.559998</td>\n",
       "      <td>470.19238</td>\n",
       "      <td>918.94019</td>\n",
       "      <td>363.97433</td>\n",
       "      <td>3.175500e+13</td>\n",
       "      <td>3.180600e+13</td>\n",
       "      <td>2.920500e+13</td>\n",
       "      <td>2.087300e+13</td>\n",
       "      <td>0.6560</td>\n",
       "      <td>0.3231</td>\n",
       "      <td>-595.1</td>\n",
       "      <td>-595.1</td>\n",
       "      <td>2870.0</td>\n",
       "      <td>6134.0</td>\n",
       "      <td>6187.0</td>\n",
       "    </tr>\n",
       "    <tr>\n",
       "      <th>37894</th>\n",
       "      <td>0.4922</td>\n",
       "      <td>7438810506</td>\n",
       "      <td>-1</td>\n",
       "      <td>3.124900e+13</td>\n",
       "      <td>757.770020</td>\n",
       "      <td>163.862000</td>\n",
       "      <td>410.55228</td>\n",
       "      <td>931.49469</td>\n",
       "      <td>373.42700</td>\n",
       "      <td>3.124900e+13</td>\n",
       "      <td>3.131600e+13</td>\n",
       "      <td>2.906800e+13</td>\n",
       "      <td>2.051100e+13</td>\n",
       "      <td>0.6066</td>\n",
       "      <td>0.3377</td>\n",
       "      <td>2358.0</td>\n",
       "      <td>2358.0</td>\n",
       "      <td>4434.0</td>\n",
       "      <td>5732.0</td>\n",
       "      <td>5852.0</td>\n",
       "    </tr>\n",
       "    <tr>\n",
       "      <th>37895</th>\n",
       "      <td>0.4922</td>\n",
       "      <td>7439354301</td>\n",
       "      <td>-1</td>\n",
       "      <td>3.019100e+13</td>\n",
       "      <td>749.117004</td>\n",
       "      <td>119.663002</td>\n",
       "      <td>413.06619</td>\n",
       "      <td>958.20978</td>\n",
       "      <td>307.98752</td>\n",
       "      <td>3.024500e+13</td>\n",
       "      <td>3.024200e+13</td>\n",
       "      <td>2.846300e+13</td>\n",
       "      <td>2.103400e+13</td>\n",
       "      <td>0.5988</td>\n",
       "      <td>0.3160</td>\n",
       "      <td>3153.0</td>\n",
       "      <td>3153.0</td>\n",
       "      <td>744.0</td>\n",
       "      <td>2534.0</td>\n",
       "      <td>1605.0</td>\n",
       "    </tr>\n",
       "    <tr>\n",
       "      <th>37896</th>\n",
       "      <td>0.4922</td>\n",
       "      <td>7448711111</td>\n",
       "      <td>-1</td>\n",
       "      <td>3.450100e+13</td>\n",
       "      <td>783.190979</td>\n",
       "      <td>169.520004</td>\n",
       "      <td>491.51678</td>\n",
       "      <td>903.84302</td>\n",
       "      <td>320.23111</td>\n",
       "      <td>3.451200e+13</td>\n",
       "      <td>3.454800e+13</td>\n",
       "      <td>3.201400e+13</td>\n",
       "      <td>2.331900e+13</td>\n",
       "      <td>0.6665</td>\n",
       "      <td>0.3609</td>\n",
       "      <td>6558.0</td>\n",
       "      <td>6558.0</td>\n",
       "      <td>8385.0</td>\n",
       "      <td>6627.0</td>\n",
       "      <td>6354.0</td>\n",
       "    </tr>\n",
       "    <tr>\n",
       "      <th>37897</th>\n",
       "      <td>0.4922</td>\n",
       "      <td>7449382358</td>\n",
       "      <td>-1</td>\n",
       "      <td>3.266300e+13</td>\n",
       "      <td>769.028015</td>\n",
       "      <td>194.028000</td>\n",
       "      <td>474.03351</td>\n",
       "      <td>941.04315</td>\n",
       "      <td>381.06018</td>\n",
       "      <td>3.266300e+13</td>\n",
       "      <td>3.272000e+13</td>\n",
       "      <td>3.026900e+13</td>\n",
       "      <td>2.007300e+13</td>\n",
       "      <td>0.5939</td>\n",
       "      <td>0.3773</td>\n",
       "      <td>-4074.0</td>\n",
       "      <td>-4074.0</td>\n",
       "      <td>238.6</td>\n",
       "      <td>10420.0</td>\n",
       "      <td>5153.0</td>\n",
       "    </tr>\n",
       "  </tbody>\n",
       "</table>\n",
       "<p>37898 rows × 20 columns</p>\n",
       "</div>"
      ],
      "text/plain": [
       "        scale          id  pid          mvir         rvir          rs  \\\n",
       "0      0.4922  7480679306   -1  2.882000e+14  1589.118042  286.322998   \n",
       "1      0.4922  7480679630   -1  1.957600e+14  1396.890991  438.428986   \n",
       "2      0.4922  7480680071   -1  5.253600e+13   901.036987  204.459000   \n",
       "3      0.4922  7480720476   -1  1.081100e+14  1146.072021  282.298004   \n",
       "4      0.4922  7480720691   -1  3.356900e+13   776.075989  172.278000   \n",
       "...       ...         ...  ...           ...          ...         ...   \n",
       "37893  0.4922  7448758907   -1  3.175500e+13   761.836975  132.559998   \n",
       "37894  0.4922  7438810506   -1  3.124900e+13   757.770020  163.862000   \n",
       "37895  0.4922  7439354301   -1  3.019100e+13   749.117004  119.663002   \n",
       "37896  0.4922  7448711111   -1  3.450100e+13   783.190979  169.520004   \n",
       "37897  0.4922  7449382358   -1  3.266300e+13   769.028015  194.028000   \n",
       "\n",
       "               x          y          z     Mmvir_all         M200b  \\\n",
       "0      775.65137   70.00431  624.70386  2.882000e+14  2.887900e+14   \n",
       "1      774.06635   72.02608  621.05902  1.957600e+14  1.961600e+14   \n",
       "2      774.02454   70.48774  622.57806  5.962900e+13  5.258500e+13   \n",
       "3      794.99408   94.06732  674.30176  1.081200e+14  1.082300e+14   \n",
       "4      796.64618   92.04386  677.38428  3.356900e+13  3.365200e+13   \n",
       "...          ...        ...        ...           ...           ...   \n",
       "37893  470.19238  918.94019  363.97433  3.175500e+13  3.180600e+13   \n",
       "37894  410.55228  931.49469  373.42700  3.124900e+13  3.131600e+13   \n",
       "37895  413.06619  958.20978  307.98752  3.024500e+13  3.024200e+13   \n",
       "37896  491.51678  903.84302  320.23111  3.451200e+13  3.454800e+13   \n",
       "37897  474.03351  941.04315  381.06018  3.266300e+13  3.272000e+13   \n",
       "\n",
       "              M200c         M500c   T/|U|  Halfmass_Scale  Acc_Rate_Inst  \\\n",
       "0      2.658400e+14  1.860000e+14  0.6848          0.3530        20140.0   \n",
       "1      1.819200e+14  1.159800e+14  0.7227          0.3453        44520.0   \n",
       "2      4.856600e+13  3.109700e+13  0.6427          0.3091        -9236.0   \n",
       "3      1.023800e+14  7.406300e+13  0.6833          0.4032        45950.0   \n",
       "4      3.101400e+13  2.123800e+13  0.6355          0.3231         7159.0   \n",
       "...             ...           ...     ...             ...            ...   \n",
       "37893  2.920500e+13  2.087300e+13  0.6560          0.3231         -595.1   \n",
       "37894  2.906800e+13  2.051100e+13  0.6066          0.3377         2358.0   \n",
       "37895  2.846300e+13  2.103400e+13  0.5988          0.3160         3153.0   \n",
       "37896  3.201400e+13  2.331900e+13  0.6665          0.3609         6558.0   \n",
       "37897  3.026900e+13  2.007300e+13  0.5939          0.3773        -4074.0   \n",
       "\n",
       "       Acc_Rate_100Myr  Acc_Rate_1*Tdyn  Acc_Rate_2*Tdyn  Acc_Rate_Mpeak  \n",
       "0              20140.0          12660.0          57790.0         49650.0  \n",
       "1              44520.0          35350.0          39710.0         39160.0  \n",
       "2              -9236.0           2657.0          10630.0          9104.0  \n",
       "3              45950.0          48040.0          36050.0         38550.0  \n",
       "4               7159.0           5281.0           4027.0          3502.0  \n",
       "...                ...              ...              ...             ...  \n",
       "37893           -595.1           2870.0           6134.0          6187.0  \n",
       "37894           2358.0           4434.0           5732.0          5852.0  \n",
       "37895           3153.0            744.0           2534.0          1605.0  \n",
       "37896           6558.0           8385.0           6627.0          6354.0  \n",
       "37897          -4074.0            238.6          10420.0          5153.0  \n",
       "\n",
       "[37898 rows x 20 columns]"
      ]
     },
     "execution_count": 14,
     "metadata": {},
     "output_type": "execute_result"
    }
   ],
   "source": [
    "cluster_df"
   ]
  },
  {
   "cell_type": "code",
   "execution_count": 15,
   "id": "52559c83-dadb-4bc3-ba7e-46cfeafb2ae2",
   "metadata": {},
   "outputs": [],
   "source": [
    "## Testing the number count of clusters.\n",
    "##mass bins \n",
    "mass_bin_edges = [5e13, 1e14, 2e14, 5e14, 1e15, 2e15, 5e15]\n",
    "mass_bins = [[mass_bin_edges[i],mass_bin_edges[i+1]] for i in range(len(mass_bin_edges)-1)]"
   ]
  },
  {
   "cell_type": "code",
   "execution_count": 16,
   "id": "1f675b03-7b0c-4ce6-b884-dcf98cd90014",
   "metadata": {},
   "outputs": [
    {
     "name": "stdout",
     "output_type": "stream",
     "text": [
      "11129\n",
      "2509\n",
      "349\n",
      "8\n",
      "0\n",
      "0\n"
     ]
    }
   ],
   "source": [
    "## Check the scatter\n",
    "## Plotting all mass bins\n",
    "for cur_bin in iter(mass_bins):\n",
    "    #Filter current mass bin\n",
    "    mass_min = cur_bin[0]; mass_max = cur_bin[1]\n",
    "    filt = (cluster_df.mvir >= mass_min) & (cluster_df.mvir < mass_max)\n",
    "    cur_df = cluster_df[filt]\n",
    "    print(len(cur_df))\n",
    "\n",
    "    #Computing the correlation and covariance for individual mass bins\n",
    "    #plt.hist(np.log10(cur_df['Ngal']), label='{:.2g}-{:2g}'.format(mass_min, mass_max), density=True)\n",
    "    \n",
    "\n",
    "#plt.xlabel('log(Ngal)')\n",
    "#plt.legend()\n",
    "#plt.show()\n"
   ]
  },
  {
   "cell_type": "markdown",
   "id": "73c87540-bc3c-4a17-a0e9-28494c2bcec1",
   "metadata": {
    "tags": []
   },
   "source": [
    "### Running tests "
   ]
  },
  {
   "cell_type": "code",
   "execution_count": 6,
   "id": "d6fc53f0-baf1-4340-a16c-8610f0d431c0",
   "metadata": {},
   "outputs": [
    {
     "data": {
      "text/plain": [
       "<Figure size 1200x600 with 0 Axes>"
      ]
     },
     "metadata": {},
     "output_type": "display_data"
    },
    {
     "data": {
      "image/png": "[encoded data removed]",
      "text/plain": [
       "<Figure size 500x500 with 1 Axes>"
      ]
     },
     "metadata": {},
     "output_type": "display_data"
    },
    {
     "data": {
      "image/png": "[encoded data removed]",
      "text/plain": [
       "<Figure size 500x500 with 1 Axes>"
      ]
     },
     "metadata": {},
     "output_type": "display_data"
    },
    {
     "data": {
      "image/png": "[encoded data removed]",
      "text/plain": [
       "<Figure size 500x500 with 1 Axes>"
      ]
     },
     "metadata": {},
     "output_type": "display_data"
    }
   ],
   "source": [
    "pos_dict = {0:'x', 1:'y', 2:'z'}\n",
    "plt.figure(figsize=(12,6))\n",
    "for i in range(3):\n",
    "    sns.displot(cluster_df[pos_dict[i]])\n",
    "    plt.show()"
   ]
  },
  {
   "cell_type": "markdown",
   "id": "fea57007-0527-44dd-a7f4-340bf2a04900",
   "metadata": {},
   "source": [
    "## Parsing through the particle information to get the cluster DS. "
   ]
  },
  {
   "cell_type": "code",
   "execution_count": 67,
   "id": "ce0ca4fa-843e-4a94-9190-edf32836d5a3",
   "metadata": {},
   "outputs": [],
   "source": [
    "def deltasigma_cluster_periodic(halo_df, x, y, z, r_range, dz=100, box_length=1000):\n",
    "    delta_sigma = np.zeros(len(r_range)-1)\n",
    "    \n",
    "    for i in range(len(r_range)-1):\n",
    "        dr = r_range[i+1] - r_range[i]\n",
    "        r_cur = r_range[i]\n",
    "        \n",
    "        ##Periodic boundary condition for annulus. Halos are conditions at [0,1000] Mpc boundaries.       \n",
    "        dx_sqr = np.asarray([(halo_df.x-x)**2, (halo_df.x-x+box_length)**2, (halo_df.x-x-box_length)**2]).min(0)\n",
    "        dy_sqr = np.asarray([(halo_df.y-y)**2, (halo_df.y-y+box_length)**2, (halo_df.y-y-box_length)**2]).min(0)\n",
    "        dz_min = np.asarray([np.abs(halo_df.z-z), np.abs(halo_df.z-z+box_length), np.abs(halo_df.z-z-box_length)]).min(0)\n",
    "        mask = dx_sqr + dy_sqr <= (r_cur+dr)**2\n",
    "        mask &= dz_min < dz\n",
    "\n",
    "        annulus_df = halo_df[mask]\n",
    "\n",
    "        #Find 2D density within the annulus\n",
    "        area = np.pi * ((r_cur+dr)**2 - (r_cur)**2.)\n",
    "        mvir_tot = annulus_df.mvir.sum()\n",
    "        delta_sigma[i] = mvir_tot/area\n",
    "        \n",
    "    return delta_sigma"
   ]
  },
  {
   "cell_type": "code",
   "execution_count": 68,
   "id": "a6efad19-19ff-42e9-b7d2-0841d62f2bfb",
   "metadata": {},
   "outputs": [],
   "source": [
    "halo_df = pd.read_table(datadir+'mdpl2_rockstar_z0p00_25.list', comment='#', sep='\\s+', encoding='utf-8', names=list(col_dict.values()), usecols=list(col_dict.keys()))"
   ]
  },
  {
   "cell_type": "code",
   "execution_count": 69,
   "id": "42226d0c-6642-48ea-91fe-bbd74e1d14d3",
   "metadata": {},
   "outputs": [],
   "source": [
    "r_range = np.logspace(-1,1,100)\n",
    "delta_sigma_periodic = deltasigma_cluster_periodic(halo_df, 949.97443, 874.50427, 257.60870, r_range, dz=200)"
   ]
  },
  {
   "cell_type": "code",
   "execution_count": 72,
   "id": "e2089bd8-a8ce-4b9b-9452-4f09bd764a9a",
   "metadata": {},
   "outputs": [
    {
     "data": {
      "text/plain": [
       "[<matplotlib.lines.Line2D at 0x155516f3b128>]"
      ]
     },
     "execution_count": 72,
     "metadata": {},
     "output_type": "execute_result"
    },
    {
     "data": {
      "image/png": "[encoded data removed]",
      "text/plain": [
       "<Figure size 432x288 with 1 Axes>"
      ]
     },
     "metadata": {
      "needs_background": "light"
     },
     "output_type": "display_data"
    }
   ],
   "source": [
    "plt.plot(r_range[:-1], delta_sigma_periodic)"
   ]
  },
  {
   "cell_type": "code",
   "execution_count": 55,
   "id": "160620c9-d156-49d1-83a4-305146cd7b27",
   "metadata": {},
   "outputs": [],
   "source": [
    "## Add a column for delta_sigma\n",
    "cluster_df[\"DS_dz200\"] = [[]] * len(cluster_df)"
   ]
  },
  {
   "cell_type": "code",
   "execution_count": 56,
   "id": "f211a964-7427-4f98-a0f6-9a22b2bbaab1",
   "metadata": {},
   "outputs": [
    {
     "data": {
      "text/html": [
       "<div>\n",
       "<style scoped>\n",
       "    .dataframe tbody tr th:only-of-type {\n",
       "        vertical-align: middle;\n",
       "    }\n",
       "\n",
       "    .dataframe tbody tr th {\n",
       "        vertical-align: top;\n",
       "    }\n",
       "\n",
       "    .dataframe thead th {\n",
       "        text-align: right;\n",
       "    }\n",
       "</style>\n",
       "<table border=\"1\" class=\"dataframe\">\n",
       "  <thead>\n",
       "    <tr style=\"text-align: right;\">\n",
       "      <th></th>\n",
       "      <th>Unnamed: 0</th>\n",
       "      <th>scale</th>\n",
       "      <th>id</th>\n",
       "      <th>pid</th>\n",
       "      <th>mvir</th>\n",
       "      <th>rvir</th>\n",
       "      <th>x</th>\n",
       "      <th>y</th>\n",
       "      <th>z</th>\n",
       "      <th>M200b</th>\n",
       "      <th>M200c</th>\n",
       "      <th>M500c</th>\n",
       "      <th>DS_dz200</th>\n",
       "    </tr>\n",
       "  </thead>\n",
       "  <tbody>\n",
       "    <tr>\n",
       "      <th>0</th>\n",
       "      <td>10595</td>\n",
       "      <td>1.0</td>\n",
       "      <td>12583639889</td>\n",
       "      <td>-1</td>\n",
       "      <td>5.143600e+14</td>\n",
       "      <td>1630.307007</td>\n",
       "      <td>116.40529</td>\n",
       "      <td>569.87573</td>\n",
       "      <td>675.93597</td>\n",
       "      <td>615710000000000</td>\n",
       "      <td>362910000000000</td>\n",
       "      <td>224260000000000</td>\n",
       "      <td>[]</td>\n",
       "    </tr>\n",
       "    <tr>\n",
       "      <th>1</th>\n",
       "      <td>10596</td>\n",
       "      <td>1.0</td>\n",
       "      <td>12583050607</td>\n",
       "      <td>-1</td>\n",
       "      <td>5.014800e+14</td>\n",
       "      <td>1616.577026</td>\n",
       "      <td>114.42679</td>\n",
       "      <td>542.03796</td>\n",
       "      <td>650.93091</td>\n",
       "      <td>536700000000000</td>\n",
       "      <td>406560000000000</td>\n",
       "      <td>248460000000000</td>\n",
       "      <td>[]</td>\n",
       "    </tr>\n",
       "    <tr>\n",
       "      <th>2</th>\n",
       "      <td>10597</td>\n",
       "      <td>1.0</td>\n",
       "      <td>12592929268</td>\n",
       "      <td>-1</td>\n",
       "      <td>3.268600e+14</td>\n",
       "      <td>1401.634033</td>\n",
       "      <td>179.05624</td>\n",
       "      <td>575.30731</td>\n",
       "      <td>690.44049</td>\n",
       "      <td>365340000000000</td>\n",
       "      <td>248720000000000</td>\n",
       "      <td>161850000000000</td>\n",
       "      <td>[]</td>\n",
       "    </tr>\n",
       "    <tr>\n",
       "      <th>3</th>\n",
       "      <td>10598</td>\n",
       "      <td>1.0</td>\n",
       "      <td>12592317707</td>\n",
       "      <td>-1</td>\n",
       "      <td>3.171400e+14</td>\n",
       "      <td>1387.594971</td>\n",
       "      <td>196.27576</td>\n",
       "      <td>530.89288</td>\n",
       "      <td>626.43347</td>\n",
       "      <td>336830000000000</td>\n",
       "      <td>263510000000000</td>\n",
       "      <td>126800000000000</td>\n",
       "      <td>[]</td>\n",
       "    </tr>\n",
       "    <tr>\n",
       "      <th>4</th>\n",
       "      <td>10599</td>\n",
       "      <td>1.0</td>\n",
       "      <td>12592352396</td>\n",
       "      <td>-1</td>\n",
       "      <td>2.471200e+14</td>\n",
       "      <td>1276.875977</td>\n",
       "      <td>161.54829</td>\n",
       "      <td>525.95746</td>\n",
       "      <td>642.74084</td>\n",
       "      <td>268330000000000</td>\n",
       "      <td>211380000000000</td>\n",
       "      <td>151140000000000</td>\n",
       "      <td>[]</td>\n",
       "    </tr>\n",
       "  </tbody>\n",
       "</table>\n",
       "</div>"
      ],
      "text/plain": [
       "   Unnamed: 0  scale           id  pid          mvir         rvir          x  \\\n",
       "0       10595    1.0  12583639889   -1  5.143600e+14  1630.307007  116.40529   \n",
       "1       10596    1.0  12583050607   -1  5.014800e+14  1616.577026  114.42679   \n",
       "2       10597    1.0  12592929268   -1  3.268600e+14  1401.634033  179.05624   \n",
       "3       10598    1.0  12592317707   -1  3.171400e+14  1387.594971  196.27576   \n",
       "4       10599    1.0  12592352396   -1  2.471200e+14  1276.875977  161.54829   \n",
       "\n",
       "           y          z            M200b            M200c            M500c  \\\n",
       "0  569.87573  675.93597  615710000000000  362910000000000  224260000000000   \n",
       "1  542.03796  650.93091  536700000000000  406560000000000  248460000000000   \n",
       "2  575.30731  690.44049  365340000000000  248720000000000  161850000000000   \n",
       "3  530.89288  626.43347  336830000000000  263510000000000  126800000000000   \n",
       "4  525.95746  642.74084  268330000000000  211380000000000  151140000000000   \n",
       "\n",
       "  DS_dz200  \n",
       "0       []  \n",
       "1       []  \n",
       "2       []  \n",
       "3       []  \n",
       "4       []  "
      ]
     },
     "execution_count": 56,
     "metadata": {},
     "output_type": "execute_result"
    }
   ],
   "source": [
    "cluster_df.head()"
   ]
  },
  {
   "cell_type": "code",
   "execution_count": 90,
   "id": "5cae3dea-c8db-4165-a6e1-635074827ce3",
   "metadata": {},
   "outputs": [
    {
     "name": "stdout",
     "output_type": "stream",
     "text": [
      "mdpl2_rockstar_z0p00_5.list\n"
     ]
    }
   ],
   "source": [
    "a = 'mdpl2_rockstar_z0p00_{}.list'.format(5)\n",
    "print(a)"
   ]
  },
  {
   "cell_type": "code",
   "execution_count": null,
   "id": "294925d4-af6a-4fac-88d9-11bc8a13d824",
   "metadata": {},
   "outputs": [],
   "source": [
    "# For each cluster iterate through all the files. \n",
    "\n",
    "for i in range(len(cluster_df)):\n",
    "    r_range = np.logspace(-1,1,20)*cluster_df.loc[i,'rvir'] #Normalize by rvir\n",
    "    delta_sigma_cur = np.zeros_like(len(r_range)-1)\n",
    "    x = cluster_df.loc[i,'x']; y = cluster_df.loc[i,'y']; z = cluster_df.loc[i,'z']\n",
    "\n",
    "    for f in files:\n",
    "        #Reading the file as a pandas dataframe\n",
    "        stock =os.path.basename(f)\n",
    "        halo_df = pd.read_table(datadir+stock, comment='#', sep='\\s+', encoding='utf-8', names=list(col_dict.values()), usecols=list(col_dict.keys()))\n",
    "\n",
    "        #Masking\n",
    "        mask = ~(halo_df[['mvir','M200b', 'M200c', 'M500c']] == 0).any(axis=1) ##Mask non-zero\n",
    "        mask &= (halo_df.pid == -1)\n",
    "\n",
    "        halo_df = halo_df[mask]\n",
    "        print('halo_df length:', len(halo_df))\n",
    "\n",
    "        #Appending onto the cluster dataframe\n",
    "        dummy = deltasigma_cluster_periodic(halo_df, x, y, z, r_range, dz=200, box_length=1000)\n",
    "        delta_sigma_cur += dummy\n",
    "        continue\n",
    "    \n",
    "    cluster_df.loc[i,'DS_dz200'] = delta_sigma_cur\n",
    "    continue"
   ]
  },
  {
   "cell_type": "code",
   "execution_count": null,
   "id": "d226018f-eb20-4d5c-af12-7a9cb7c78c1b",
   "metadata": {},
   "outputs": [],
   "source": [
    "## Do this when you come back. \n",
    "plt.plot(r_range[:-1], cluster_df['DS_dz200'][0])"
   ]
  },
  {
   "cell_type": "markdown",
   "id": "622c1d06-3f16-4f75-ab57-3f21ca0e4885",
   "metadata": {},
   "source": [
    "## Create cluster object."
   ]
  },
  {
   "cell_type": "code",
   "execution_count": 7,
   "id": "e8776791-421b-4f6b-961b-9d7d6faa7af8",
   "metadata": {},
   "outputs": [],
   "source": [
    "import _pickle as pickle\n",
    "## Read files\n",
    "datadir = '/global/cscratch1/sd/zzhang13/MultiDark/z0p00/'\n",
    "file_num = list(range(25))\n",
    "\n",
    "def read_halo_file(datadir, num):\n",
    "    file_name = 'mdpl2_rockstar_z0p00_{}.pickle'.format(num)\n",
    "    with open(datadir+file_name, 'rb') as handle:\n",
    "        halo_df = pickle.load(handle)\n",
    "    return halo_df"
   ]
  },
  {
   "cell_type": "code",
   "execution_count": 8,
   "id": "935346e9-19e4-45a9-b969-ee92aef596b9",
   "metadata": {},
   "outputs": [],
   "source": [
    " '''\n",
    "Cluster object for multiDark. Each cluster should contain it's original properties taken from the dataframe and the derived quantities. \n",
    "'''\n",
    "\n",
    "class clusters(object):\n",
    "    \n",
    "    #Input the cluster dataframe  \n",
    "    def __init__(self, cluster_df, r_range, verbose=True):\n",
    "        assert isinstance(cluster_df, pd.core.frame.DataFrame), \"cluster needs to be a dataframe\"\n",
    "        \n",
    "        if verbose:\n",
    "            print(\"Number of clusters in is:\", len(cluster_df))\n",
    "            print(\"cluster columns: \\n\", list(cluster_df.columns))\n",
    "\n",
    "        self.cluster_df = cluster_df\n",
    "        \n",
    "        self.DS_dz50 = np.zeros((len(cluster_df), len(r_range)-1 ))  \n",
    "        self.DS_dz100 = np.zeros((len(cluster_df), len(r_range)-1 ))  \n",
    "        self.DS_dz200 = np.zeros((len(cluster_df), len(r_range)-1 ))  \n",
    "        \n",
    "        self.r_range_norm = np.array(r_range*cluster_df.rvir[:,np.newaxis])/1000 #Convert from kpc to Mpc.\n",
    "        \n",
    "        \n",
    "    def __deltasigma_cluster_periodic(self, halo_df, x, y, z, r_range, dz=100, box_length=1000):\n",
    "        delta_sigma = np.zeros(len(r_range)-1)\n",
    "    \n",
    "        ##Periodic boundary condition for annulus. Halos are conditions at [0,1000] Mpc boundaries.       \n",
    "        dx_sqr = np.asarray([(halo_df.x-x)**2, (halo_df.x-x+box_length)**2, (halo_df.x-x-box_length)**2]).min(0)\n",
    "        dy_sqr = np.asarray([(halo_df.y-y)**2, (halo_df.y-y+box_length)**2, (halo_df.y-y-box_length)**2]).min(0)\n",
    "        dz_min = np.asarray([np.abs(halo_df.z-z), np.abs(halo_df.z-z+box_length), np.abs(halo_df.z-z-box_length)]).min(0)\n",
    "\n",
    "        for i in range(len(r_range)-1):\n",
    "            #radius for annulus\n",
    "            dr = r_range[i+1] - r_range[i]\n",
    "            r_cur = r_range[i]\n",
    "\n",
    "            #Masking\n",
    "            mask = dx_sqr + dy_sqr <= (r_cur+dr)**2\n",
    "            mask &= dz_min < dz\n",
    "\n",
    "            #Building an annulus\n",
    "            annulus_df = halo_df[mask]\n",
    "\n",
    "            #Find 2D density within the annulus\n",
    "            area = np.pi * ((r_cur+dr)**2 - (r_cur)**2.)\n",
    "            mvir_tot = annulus_df.mvir.sum()\n",
    "            delta_sigma[i] = mvir_tot/area\n",
    "\n",
    "        return delta_sigma\n",
    "        \n",
    "        \n",
    "    def compute_DS_dz50(self):\n",
    "        for i in range(len(self.cluster_df)):\n",
    "            print('cluster No.{}'.format(i))\n",
    "            for j, num in enumerate(file_num):\n",
    "                #print('file number {}'.format(num))\n",
    "                \n",
    "                start = timeit.default_timer()\n",
    "                halo_df = read_halo_file(datadir, num)\n",
    "                stop = timeit.default_timer()\n",
    "                #print('Time to read file: ', stop - start) \n",
    "               \n",
    "                start = timeit.default_timer()\n",
    "                dummy = self.__deltasigma_cluster_periodic(halo_df, self.cluster_df.loc[i,'x'], self.cluster_df.loc[i,'y'], self.cluster_df.loc[i,'z'], self.r_range_norm[i], dz=50)\n",
    "                stop = timeit.default_timer()\n",
    "                #print('Time to compute DS: ', stop - start)  \n",
    "                \n",
    "                self.DS_dz50[i] += dummy\n",
    "\n",
    "        return\n",
    "                                 \n",
    "    def get_DS_dz50(self):\n",
    "        return self.DS_dz50\n",
    "                                 \n",
    "    def get_r_range_norm(self):\n",
    "        return self.r_range_norm"
   ]
  },
  {
   "cell_type": "code",
   "execution_count": 11,
   "id": "d0d9b9bf-4594-4368-8a9d-ff274bd629ae",
   "metadata": {},
   "outputs": [
    {
     "name": "stdout",
     "output_type": "stream",
     "text": [
      "Number of clusters in is: 2\n",
      "cluster columns: \n",
      " ['Unnamed: 0', 'scale', 'id', 'pid', 'mvir', 'rvir', 'x', 'y', 'z', 'M200b', 'M200c', 'M500c']\n",
      "cluster No.0\n",
      "cluster No.1\n"
     ]
    }
   ],
   "source": [
    "test_cluster = cluster_df.iloc[0:2]\n",
    "test_cluster\n",
    "\n",
    "r_range = np.logspace(-1,1,10)\n",
    "a = clusters(test_cluster, r_range)\n",
    "\n",
    "a.compute_DS_dz50()"
   ]
  },
  {
   "cell_type": "code",
   "execution_count": 13,
   "id": "95dc8459-252b-4b21-a088-880286eff128",
   "metadata": {},
   "outputs": [],
   "source": [
    "DS_dz50 = a.get_DS_dz50()"
   ]
  },
  {
   "cell_type": "code",
   "execution_count": 17,
   "id": "109f8880-8088-443f-99ff-028f2800e3d3",
   "metadata": {},
   "outputs": [
    {
     "data": {
      "image/png": "[encoded data removed]",
      "text/plain": [
       "<Figure size 640x480 with 1 Axes>"
      ]
     },
     "metadata": {},
     "output_type": "display_data"
    },
    {
     "data": {
      "image/png": "[encoded data removed]",
      "text/plain": [
       "<Figure size 640x480 with 1 Axes>"
      ]
     },
     "metadata": {},
     "output_type": "display_data"
    }
   ],
   "source": [
    "for i in range(len(DS_dz50)):\n",
    "    plt.plot(r_range[:-1], DS_dz50[i])\n",
    "    plt.yscale('log')\n",
    "    plt.show()"
   ]
  },
  {
   "cell_type": "code",
   "execution_count": null,
   "id": "76fcb342-4d32-40a6-a0b9-e64056e20c1f",
   "metadata": {},
   "outputs": [],
   "source": []
  }
 ],
 "metadata": {
  "kernelspec": {
   "display_name": "myLSST",
   "language": "python",
   "name": "mylsst"
  },
  "language_info": {
   "codemirror_mode": {
    "name": "ipython",
    "version": 3
   },
   "file_extension": ".py",
   "mimetype": "text/x-python",
   "name": "python",
   "nbconvert_exporter": "python",
   "pygments_lexer": "ipython3",
   "version": "3.7.12"
  }
 },
 "nbformat": 4,
 "nbformat_minor": 5
}
