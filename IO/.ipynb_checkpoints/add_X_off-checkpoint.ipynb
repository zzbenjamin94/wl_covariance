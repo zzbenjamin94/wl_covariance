{
 "cells": [
  {
   "cell_type": "markdown",
   "id": "2ab10462-b514-451a-bbb5-bd4d0d3517ea",
   "metadata": {},
   "source": [
    "## Add X_Off as a halo property\n",
    "Match by halo ID. Add the X_off parameter. "
   ]
  },
  {
   "cell_type": "code",
   "execution_count": 6,
   "id": "687200d4-5892-4c2b-a4de-c6fd7b0f9647",
   "metadata": {},
   "outputs": [],
   "source": [
    "## Use the setup.py file to output directories. \n",
    "import sys\n",
    "## testing multidark\n",
    "import numpy as np\n",
    "import matplotlib.pyplot as plt\n",
    "import seaborn as sns\n",
    "from scipy.stats import kde\n",
    "import h5py\n",
    "import astropy.io.fits as fits\n",
    "import csv\n",
    "import pandas as pd\n",
    "import h5py\n",
    "import tables\n",
    "import pickle\n",
    "import os\n",
    "from astropy.table import Table\n",
    "from astropy.coordinates import SkyCoord\n",
    "from tqdm import tqdm\n",
    "from astropy.io import ascii\n",
    "import os\n",
    "\n",
    "import warnings\n",
    "warnings.filterwarnings(\"ignore\")\n",
    "\n",
    "import timeit\n",
    "sys.path.append('/global/homes/z/zzhang13/BaryonPasting/CorrelatedStructures/multiDark/')\n",
    "\n",
    "from setup import *\n",
    "toolsdir = tools_dir()\n",
    "repodir = repo_dir()\n",
    "chainsdir = chains_dir()\n",
    "datadir = data_dir()\n",
    "plotdir = plots_dir()\n",
    "\n",
    "sys.path.append(toolsdir)\n",
    "sys.path.append(repodir)"
   ]
  },
  {
   "cell_type": "code",
   "execution_count": 7,
   "id": "adf63973-ce7b-4b35-ae39-aaf78719fbf0",
   "metadata": {},
   "outputs": [
    {
     "data": {
      "text/plain": [
       "Index(['scale', 'CtreesHaloID', 'pid', 'mvir', 'rvir', 'rs', 'x', 'y', 'z',\n",
       "       'Mmvir_all', 'M200b', 'M200c', 'M500c', 'T/|U|', 'Halfmass_Scale',\n",
       "       'Acc_Rate_Inst', 'Acc_Rate_100Myr', 'Acc_Rate_1*Tdyn',\n",
       "       'Acc_Rate_2*Tdyn', 'Acc_Rate_Mpeak', 'c_vir', 'R200c', 'R500c',\n",
       "       'redshift', 'Ngal_Dsep_1', 'Ngal_Rvir', 'Ngal_R200c', 'Ngal_R500c',\n",
       "       'sigma', 'r_range', 'delta_sigma'],\n",
       "      dtype='object')"
      ]
     },
     "execution_count": 7,
     "metadata": {},
     "output_type": "execute_result"
    }
   ],
   "source": [
    "with open(datadir + 'MDPL2_DS_R200c_SAGE_Ngal_allM_allz.p', 'rb') as handle:\n",
    "    matched_halo_df = pickle.load(handle)\n",
    "matched_halo_df.columns"
   ]
  },
  {
   "cell_type": "markdown",
   "id": "0cba4898-7e50-4845-8f51-af84fd5fc1f5",
   "metadata": {},
   "source": [
    "## Import the halo cluster catalog"
   ]
  },
  {
   "cell_type": "code",
   "execution_count": 8,
   "id": "3f1d1673-700c-438c-beb5-58c34e418c78",
   "metadata": {},
   "outputs": [],
   "source": [
    "#datadir = '/global/cscratch1/sd/zzhang13/MultiDark/MDPL2_ROCKSTAR_Halos/z1p03/'\n",
    "redshifts = ['z0p00', 'z0p49', 'z1p03']\n",
    "\n",
    "\n",
    "clusters_z0p00_dir = '/global/cscratch1/sd/zzhang13/MultiDark/MDPL2_ROCKSTAR_Halos/{}/'.format(redshifts[0])\n",
    "clusters_z0p49_dir = '/global/cscratch1/sd/zzhang13/MultiDark/MDPL2_ROCKSTAR_Halos/{}/'.format(redshifts[1])\n",
    "clusters_z1p03_dir = '/global/cscratch1/sd/zzhang13/MultiDark/MDPL2_ROCKSTAR_Halos/{}/'.format(redshifts[2])\n",
    "\n",
    "clusters_dir = [clusters_z0p00_dir, clusters_z0p49_dir, clusters_z1p03_dir]\n",
    "\n",
    "datadir = '/global/homes/z/zzhang13/BaryonPasting/CorrelatedStructures/multiDark/data/'"
   ]
  },
  {
   "cell_type": "code",
   "execution_count": 24,
   "id": "ab955b16-d944-4a92-9ad9-bd85762d7b8c",
   "metadata": {},
   "outputs": [],
   "source": [
    "##Path to Scratch space\n",
    "\n",
    "#outputdir = datadir+ 'z0p00/'\n",
    "\n",
    "col_dict = {0:'scale', 1:'id',  5:'pid', 10:'mvir', 11:'rvir', 12: 'rs', \\\n",
    "            17:'x', 18:'y', 19:'z', \\\n",
    "            38: 'Mmvir_all', 39:'M200b', 40:'M200c', 41:'M500c', 43:'Xoff', \\\n",
    "            56: 'T/|U|', 63: 'Halfmass_Scale', 64: 'Acc_Rate_Inst', 65: 'Acc_Rate_100Myr', 66: 'Acc_Rate_1*Tdyn', 67: 'Acc_Rate_2*Tdyn', 68: 'Acc_Rate_Mpeak'}\n",
    "\n",
    "cluster_df = pd.DataFrame(columns = list(col_dict.values()))"
   ]
  },
  {
   "cell_type": "markdown",
   "id": "7c06779b-bce2-43ae-af9f-0b8cac178699",
   "metadata": {},
   "source": [
    "### Create an aggregate cluster dataframe\n",
    "halo_df.id = matched_halo_df.CtreesHaloID"
   ]
  },
  {
   "cell_type": "code",
   "execution_count": 25,
   "id": "5cc94a6c-af84-46dc-8b86-16fcf70e2fee",
   "metadata": {
    "collapsed": true,
    "jupyter": {
     "outputs_hidden": true
    },
    "tags": []
   },
   "outputs": [
    {
     "name": "stdout",
     "output_type": "stream",
     "text": [
      "0 /global/cscratch1/sd/zzhang13/MultiDark/MDPL2_ROCKSTAR_Halos/z0p00/\n"
     ]
    },
    {
     "name": "stderr",
     "output_type": "stream",
     "text": [
      "  4%|▍         | 1/26 [00:57<23:46, 57.08s/it]"
     ]
    },
    {
     "name": "stdout",
     "output_type": "stream",
     "text": [
      "Number of clusters appended: 1213\n"
     ]
    },
    {
     "name": "stderr",
     "output_type": "stream",
     "text": [
      "  8%|▊         | 2/26 [01:54<22:50, 57.11s/it]"
     ]
    },
    {
     "name": "stdout",
     "output_type": "stream",
     "text": [
      "Number of clusters appended: 219\n"
     ]
    },
    {
     "name": "stderr",
     "output_type": "stream",
     "text": [
      " 12%|█▏        | 3/26 [02:51<21:57, 57.30s/it]"
     ]
    },
    {
     "name": "stdout",
     "output_type": "stream",
     "text": [
      "Number of clusters appended: 127\n"
     ]
    },
    {
     "name": "stderr",
     "output_type": "stream",
     "text": [
      " 15%|█▌        | 4/26 [03:50<21:10, 57.75s/it]"
     ]
    },
    {
     "name": "stdout",
     "output_type": "stream",
     "text": [
      "Number of clusters appended: 17\n"
     ]
    },
    {
     "name": "stderr",
     "output_type": "stream",
     "text": [
      " 19%|█▉        | 5/26 [04:45<19:55, 56.93s/it]"
     ]
    },
    {
     "name": "stdout",
     "output_type": "stream",
     "text": [
      "Number of clusters appended: 24\n"
     ]
    },
    {
     "name": "stderr",
     "output_type": "stream",
     "text": [
      " 23%|██▎       | 6/26 [05:43<19:07, 57.39s/it]"
     ]
    },
    {
     "name": "stdout",
     "output_type": "stream",
     "text": [
      "Number of clusters appended: 14\n"
     ]
    },
    {
     "name": "stderr",
     "output_type": "stream",
     "text": [
      " 27%|██▋       | 7/26 [06:43<18:21, 57.99s/it]"
     ]
    },
    {
     "name": "stdout",
     "output_type": "stream",
     "text": [
      "Number of clusters appended: 21\n"
     ]
    },
    {
     "name": "stderr",
     "output_type": "stream",
     "text": [
      " 31%|███       | 8/26 [07:44<17:41, 58.98s/it]"
     ]
    },
    {
     "name": "stdout",
     "output_type": "stream",
     "text": [
      "Number of clusters appended: 20\n"
     ]
    },
    {
     "name": "stderr",
     "output_type": "stream",
     "text": [
      " 35%|███▍      | 9/26 [08:42<16:36, 58.63s/it]"
     ]
    },
    {
     "name": "stdout",
     "output_type": "stream",
     "text": [
      "Number of clusters appended: 39\n"
     ]
    },
    {
     "name": "stderr",
     "output_type": "stream",
     "text": [
      " 38%|███▊      | 10/26 [09:41<15:39, 58.74s/it]"
     ]
    },
    {
     "name": "stdout",
     "output_type": "stream",
     "text": [
      "Number of clusters appended: 31\n"
     ]
    },
    {
     "name": "stderr",
     "output_type": "stream",
     "text": [
      " 42%|████▏     | 11/26 [10:40<14:44, 58.96s/it]"
     ]
    },
    {
     "name": "stdout",
     "output_type": "stream",
     "text": [
      "Number of clusters appended: 23\n"
     ]
    },
    {
     "name": "stderr",
     "output_type": "stream",
     "text": [
      " 46%|████▌     | 12/26 [11:41<13:54, 59.58s/it]"
     ]
    },
    {
     "name": "stdout",
     "output_type": "stream",
     "text": [
      "Number of clusters appended: 22\n"
     ]
    },
    {
     "name": "stderr",
     "output_type": "stream",
     "text": [
      " 50%|█████     | 13/26 [12:39<12:48, 59.09s/it]"
     ]
    },
    {
     "name": "stdout",
     "output_type": "stream",
     "text": [
      "Number of clusters appended: 23\n"
     ]
    },
    {
     "name": "stderr",
     "output_type": "stream",
     "text": [
      " 54%|█████▍    | 14/26 [13:08<10:01, 50.14s/it]"
     ]
    },
    {
     "name": "stdout",
     "output_type": "stream",
     "text": [
      "Number of clusters appended: 9\n"
     ]
    },
    {
     "name": "stderr",
     "output_type": "stream",
     "text": [
      " 58%|█████▊    | 15/26 [14:06<09:36, 52.42s/it]"
     ]
    },
    {
     "name": "stdout",
     "output_type": "stream",
     "text": [
      "Number of clusters appended: 22\n"
     ]
    },
    {
     "name": "stderr",
     "output_type": "stream",
     "text": [
      " 62%|██████▏   | 16/26 [15:05<09:04, 54.43s/it]"
     ]
    },
    {
     "name": "stdout",
     "output_type": "stream",
     "text": [
      "Number of clusters appended: 28\n"
     ]
    },
    {
     "name": "stderr",
     "output_type": "stream",
     "text": [
      " 65%|██████▌   | 17/26 [16:04<08:21, 55.69s/it]"
     ]
    },
    {
     "name": "stdout",
     "output_type": "stream",
     "text": [
      "Number of clusters appended: 18\n"
     ]
    },
    {
     "name": "stderr",
     "output_type": "stream",
     "text": [
      " 69%|██████▉   | 18/26 [17:02<07:32, 56.55s/it]"
     ]
    },
    {
     "name": "stdout",
     "output_type": "stream",
     "text": [
      "Number of clusters appended: 29\n"
     ]
    },
    {
     "name": "stderr",
     "output_type": "stream",
     "text": [
      " 73%|███████▎  | 19/26 [18:02<06:42, 57.44s/it]"
     ]
    },
    {
     "name": "stdout",
     "output_type": "stream",
     "text": [
      "Number of clusters appended: 15\n"
     ]
    },
    {
     "name": "stderr",
     "output_type": "stream",
     "text": [
      " 77%|███████▋  | 20/26 [19:02<05:48, 58.13s/it]"
     ]
    },
    {
     "name": "stdout",
     "output_type": "stream",
     "text": [
      "Number of clusters appended: 19\n"
     ]
    },
    {
     "name": "stderr",
     "output_type": "stream",
     "text": [
      " 81%|████████  | 21/26 [20:01<04:52, 58.47s/it]"
     ]
    },
    {
     "name": "stdout",
     "output_type": "stream",
     "text": [
      "Number of clusters appended: 24\n"
     ]
    },
    {
     "name": "stderr",
     "output_type": "stream",
     "text": [
      " 85%|████████▍ | 22/26 [21:01<03:55, 58.93s/it]"
     ]
    },
    {
     "name": "stdout",
     "output_type": "stream",
     "text": [
      "Number of clusters appended: 30\n"
     ]
    },
    {
     "name": "stderr",
     "output_type": "stream",
     "text": [
      " 88%|████████▊ | 23/26 [22:00<02:57, 59.03s/it]"
     ]
    },
    {
     "name": "stdout",
     "output_type": "stream",
     "text": [
      "Number of clusters appended: 13\n"
     ]
    },
    {
     "name": "stderr",
     "output_type": "stream",
     "text": [
      " 92%|█████████▏| 24/26 [23:00<01:58, 59.17s/it]"
     ]
    },
    {
     "name": "stdout",
     "output_type": "stream",
     "text": [
      "Number of clusters appended: 0\n"
     ]
    },
    {
     "name": "stderr",
     "output_type": "stream",
     "text": [
      " 96%|█████████▌| 25/26 [23:59<00:59, 59.18s/it]"
     ]
    },
    {
     "name": "stdout",
     "output_type": "stream",
     "text": [
      "Number of clusters appended: 0\n"
     ]
    },
    {
     "name": "stderr",
     "output_type": "stream",
     "text": [
      "100%|██████████| 26/26 [24:59<00:00, 57.68s/it]\n"
     ]
    },
    {
     "name": "stdout",
     "output_type": "stream",
     "text": [
      "Number of clusters appended: 0\n",
      "1 /global/cscratch1/sd/zzhang13/MultiDark/MDPL2_ROCKSTAR_Halos/z0p49/\n"
     ]
    },
    {
     "name": "stderr",
     "output_type": "stream",
     "text": [
      "  7%|▋         | 1/14 [02:05<27:15, 125.81s/it]"
     ]
    },
    {
     "name": "stdout",
     "output_type": "stream",
     "text": [
      "Number of clusters appended: 1136\n"
     ]
    },
    {
     "name": "stderr",
     "output_type": "stream",
     "text": [
      " 14%|█▍        | 2/14 [04:06<24:31, 122.63s/it]"
     ]
    },
    {
     "name": "stdout",
     "output_type": "stream",
     "text": [
      "Number of clusters appended: 126\n"
     ]
    },
    {
     "name": "stderr",
     "output_type": "stream",
     "text": [
      " 21%|██▏       | 3/14 [06:03<22:03, 120.36s/it]"
     ]
    },
    {
     "name": "stdout",
     "output_type": "stream",
     "text": [
      "Number of clusters appended: 151\n"
     ]
    },
    {
     "name": "stderr",
     "output_type": "stream",
     "text": [
      " 29%|██▊       | 4/14 [08:03<20:01, 120.11s/it]"
     ]
    },
    {
     "name": "stdout",
     "output_type": "stream",
     "text": [
      "Number of clusters appended: 129\n"
     ]
    },
    {
     "name": "stderr",
     "output_type": "stream",
     "text": [
      " 36%|███▌      | 5/14 [10:02<17:55, 119.54s/it]"
     ]
    },
    {
     "name": "stdout",
     "output_type": "stream",
     "text": [
      "Number of clusters appended: 10\n"
     ]
    },
    {
     "name": "stderr",
     "output_type": "stream",
     "text": [
      " 43%|████▎     | 6/14 [11:59<15:49, 118.64s/it]"
     ]
    },
    {
     "name": "stdout",
     "output_type": "stream",
     "text": [
      "Number of clusters appended: 8\n"
     ]
    },
    {
     "name": "stderr",
     "output_type": "stream",
     "text": [
      " 50%|█████     | 7/14 [13:55<13:45, 117.86s/it]"
     ]
    },
    {
     "name": "stdout",
     "output_type": "stream",
     "text": [
      "Number of clusters appended: 4\n"
     ]
    },
    {
     "name": "stderr",
     "output_type": "stream",
     "text": [
      " 57%|█████▋    | 8/14 [15:52<11:46, 117.72s/it]"
     ]
    },
    {
     "name": "stdout",
     "output_type": "stream",
     "text": [
      "Number of clusters appended: 13\n"
     ]
    },
    {
     "name": "stderr",
     "output_type": "stream",
     "text": [
      " 64%|██████▍   | 9/14 [17:50<09:48, 117.79s/it]"
     ]
    },
    {
     "name": "stdout",
     "output_type": "stream",
     "text": [
      "Number of clusters appended: 18\n"
     ]
    },
    {
     "name": "stderr",
     "output_type": "stream",
     "text": [
      " 71%|███████▏  | 10/14 [19:52<07:56, 119.09s/it]"
     ]
    },
    {
     "name": "stdout",
     "output_type": "stream",
     "text": [
      "Number of clusters appended: 9\n"
     ]
    },
    {
     "name": "stderr",
     "output_type": "stream",
     "text": [
      " 79%|███████▊  | 11/14 [21:53<05:58, 119.57s/it]"
     ]
    },
    {
     "name": "stdout",
     "output_type": "stream",
     "text": [
      "Number of clusters appended: 8\n"
     ]
    },
    {
     "name": "stderr",
     "output_type": "stream",
     "text": [
      " 86%|████████▌ | 12/14 [22:50<03:21, 100.53s/it]"
     ]
    },
    {
     "name": "stdout",
     "output_type": "stream",
     "text": [
      "Number of clusters appended: 5\n"
     ]
    },
    {
     "name": "stderr",
     "output_type": "stream",
     "text": [
      " 93%|█████████▎| 13/14 [24:47<01:45, 105.71s/it]"
     ]
    },
    {
     "name": "stdout",
     "output_type": "stream",
     "text": [
      "Number of clusters appended: 10\n"
     ]
    },
    {
     "name": "stderr",
     "output_type": "stream",
     "text": [
      "100%|██████████| 14/14 [26:44<00:00, 114.57s/it]\n"
     ]
    },
    {
     "name": "stdout",
     "output_type": "stream",
     "text": [
      "Number of clusters appended: 9\n",
      "2 /global/cscratch1/sd/zzhang13/MultiDark/MDPL2_ROCKSTAR_Halos/z1p03/\n"
     ]
    },
    {
     "name": "stderr",
     "output_type": "stream",
     "text": [
      "  7%|▋         | 1/15 [01:57<27:27, 117.65s/it]"
     ]
    },
    {
     "name": "stdout",
     "output_type": "stream",
     "text": [
      "Number of clusters appended: 681\n"
     ]
    },
    {
     "name": "stderr",
     "output_type": "stream",
     "text": [
      " 13%|█▎        | 2/15 [03:53<25:13, 116.42s/it]"
     ]
    },
    {
     "name": "stdout",
     "output_type": "stream",
     "text": [
      "Number of clusters appended: 138\n"
     ]
    },
    {
     "name": "stderr",
     "output_type": "stream",
     "text": [
      " 20%|██        | 3/15 [05:48<23:11, 115.95s/it]"
     ]
    },
    {
     "name": "stdout",
     "output_type": "stream",
     "text": [
      "Number of clusters appended: 166\n"
     ]
    },
    {
     "name": "stderr",
     "output_type": "stream",
     "text": [
      " 27%|██▋       | 4/15 [07:43<21:09, 115.44s/it]"
     ]
    },
    {
     "name": "stdout",
     "output_type": "stream",
     "text": [
      "Number of clusters appended: 104\n"
     ]
    },
    {
     "name": "stderr",
     "output_type": "stream",
     "text": [
      " 33%|███▎      | 5/15 [09:38<19:14, 115.46s/it]"
     ]
    },
    {
     "name": "stdout",
     "output_type": "stream",
     "text": [
      "Number of clusters appended: 22\n"
     ]
    },
    {
     "name": "stderr",
     "output_type": "stream",
     "text": [
      " 40%|████      | 6/15 [11:35<17:22, 115.85s/it]"
     ]
    },
    {
     "name": "stdout",
     "output_type": "stream",
     "text": [
      "Number of clusters appended: 29\n"
     ]
    },
    {
     "name": "stderr",
     "output_type": "stream",
     "text": [
      " 47%|████▋     | 7/15 [13:38<15:45, 118.23s/it]"
     ]
    },
    {
     "name": "stdout",
     "output_type": "stream",
     "text": [
      "Number of clusters appended: 15\n"
     ]
    },
    {
     "name": "stderr",
     "output_type": "stream",
     "text": [
      " 53%|█████▎    | 8/15 [15:40<13:55, 119.39s/it]"
     ]
    },
    {
     "name": "stdout",
     "output_type": "stream",
     "text": [
      "Number of clusters appended: 28\n"
     ]
    },
    {
     "name": "stderr",
     "output_type": "stream",
     "text": [
      " 60%|██████    | 9/15 [16:02<08:53, 88.96s/it] "
     ]
    },
    {
     "name": "stdout",
     "output_type": "stream",
     "text": [
      "Number of clusters appended: 1\n"
     ]
    },
    {
     "name": "stderr",
     "output_type": "stream",
     "text": [
      " 67%|██████▋   | 10/15 [18:17<08:36, 103.25s/it]"
     ]
    },
    {
     "name": "stdout",
     "output_type": "stream",
     "text": [
      "Number of clusters appended: 13\n"
     ]
    },
    {
     "name": "stderr",
     "output_type": "stream",
     "text": [
      " 73%|███████▎  | 11/15 [20:28<07:27, 111.82s/it]"
     ]
    },
    {
     "name": "stdout",
     "output_type": "stream",
     "text": [
      "Number of clusters appended: 21\n"
     ]
    },
    {
     "name": "stderr",
     "output_type": "stream",
     "text": [
      " 80%|████████  | 12/15 [22:42<05:55, 118.58s/it]"
     ]
    },
    {
     "name": "stdout",
     "output_type": "stream",
     "text": [
      "Number of clusters appended: 25\n"
     ]
    },
    {
     "name": "stderr",
     "output_type": "stream",
     "text": [
      " 87%|████████▋ | 13/15 [24:53<04:04, 122.10s/it]"
     ]
    },
    {
     "name": "stdout",
     "output_type": "stream",
     "text": [
      "Number of clusters appended: 18\n"
     ]
    },
    {
     "name": "stderr",
     "output_type": "stream",
     "text": [
      " 93%|█████████▎| 14/15 [26:49<02:00, 120.44s/it]"
     ]
    },
    {
     "name": "stdout",
     "output_type": "stream",
     "text": [
      "Number of clusters appended: 15\n"
     ]
    },
    {
     "name": "stderr",
     "output_type": "stream",
     "text": [
      "100%|██████████| 15/15 [28:45<00:00, 115.02s/it]"
     ]
    },
    {
     "name": "stdout",
     "output_type": "stream",
     "text": [
      "Number of clusters appended: 18\n"
     ]
    },
    {
     "name": "stderr",
     "output_type": "stream",
     "text": [
      "\n"
     ]
    }
   ],
   "source": [
    "import glob\n",
    "m200c_cut = 3e13\n",
    "\n",
    "for i, clusters_snapshot_dir in enumerate(clusters_dir):\n",
    "    print(i, clusters_snapshot_dir)\n",
    "    files = glob.glob(clusters_snapshot_dir + 'mdpl2_rockstar_halos_{}_*.list'.format(redshifts[i]))\n",
    "    \n",
    "    \n",
    "    for f in tqdm.tqdm(files):\n",
    "        #Reading the file as a pandas dataframe\n",
    "        stock =os.path.basename(f)\n",
    "        #print(f)\n",
    "        halo_df = pd.read_table(clusters_snapshot_dir+stock, comment='#', sep='\\s+', encoding='utf-8', names=list(col_dict.values()), usecols=list(col_dict.keys()))\n",
    "\n",
    "        #Masking\n",
    "        #mask = ~(halo_df[['mvir','M200b', 'M200c', 'M500c']] == 0).any(axis=1) ##Mass non-zero\n",
    "        #mask &= (halo_df.M200c > m200c_cut)\n",
    "        #mask &= (halo_df.pid == -1)\n",
    "        mask = halo_df.id.isin(matched_halo_df.CtreesHaloID)\n",
    "\n",
    "        halo_df = halo_df[mask]\n",
    "\n",
    "        #Appending onto the cluster dataframe\n",
    "        cluster_df = cluster_df.append(halo_df)\n",
    "        print(\"Number of clusters appended: {:d}\".format(len(halo_df)) ) "
   ]
  },
  {
   "cell_type": "code",
   "execution_count": 26,
   "id": "60d40691-6ff2-49fb-89f2-c673224abfce",
   "metadata": {},
   "outputs": [
    {
     "data": {
      "text/html": [
       "<div>\n",
       "<style scoped>\n",
       "    .dataframe tbody tr th:only-of-type {\n",
       "        vertical-align: middle;\n",
       "    }\n",
       "\n",
       "    .dataframe tbody tr th {\n",
       "        vertical-align: top;\n",
       "    }\n",
       "\n",
       "    .dataframe thead th {\n",
       "        text-align: right;\n",
       "    }\n",
       "</style>\n",
       "<table border=\"1\" class=\"dataframe\">\n",
       "  <thead>\n",
       "    <tr style=\"text-align: right;\">\n",
       "      <th></th>\n",
       "      <th>scale</th>\n",
       "      <th>mvir</th>\n",
       "      <th>rvir</th>\n",
       "      <th>rs</th>\n",
       "      <th>x</th>\n",
       "      <th>y</th>\n",
       "      <th>z</th>\n",
       "      <th>Xoff</th>\n",
       "      <th>T/|U|</th>\n",
       "      <th>Halfmass_Scale</th>\n",
       "      <th>Acc_Rate_Inst</th>\n",
       "      <th>Acc_Rate_100Myr</th>\n",
       "      <th>Acc_Rate_1*Tdyn</th>\n",
       "      <th>Acc_Rate_2*Tdyn</th>\n",
       "      <th>Acc_Rate_Mpeak</th>\n",
       "    </tr>\n",
       "  </thead>\n",
       "  <tbody>\n",
       "    <tr>\n",
       "      <th>count</th>\n",
       "      <td>4930.000000</td>\n",
       "      <td>4.930000e+03</td>\n",
       "      <td>4930.000000</td>\n",
       "      <td>4930.000000</td>\n",
       "      <td>4930.000000</td>\n",
       "      <td>4930.000000</td>\n",
       "      <td>4930.000000</td>\n",
       "      <td>4930.000000</td>\n",
       "      <td>4930.000000</td>\n",
       "      <td>4930.000000</td>\n",
       "      <td>4.930000e+03</td>\n",
       "      <td>4.930000e+03</td>\n",
       "      <td>4930.000000</td>\n",
       "      <td>4930.000000</td>\n",
       "      <td>4930.000000</td>\n",
       "    </tr>\n",
       "    <tr>\n",
       "      <th>mean</th>\n",
       "      <td>0.757604</td>\n",
       "      <td>2.544873e+14</td>\n",
       "      <td>1293.472094</td>\n",
       "      <td>301.959631</td>\n",
       "      <td>534.669591</td>\n",
       "      <td>480.082057</td>\n",
       "      <td>476.434196</td>\n",
       "      <td>101.444160</td>\n",
       "      <td>0.688963</td>\n",
       "      <td>0.535020</td>\n",
       "      <td>3.899341e+04</td>\n",
       "      <td>3.899341e+04</td>\n",
       "      <td>42535.896262</td>\n",
       "      <td>40884.420034</td>\n",
       "      <td>41334.179047</td>\n",
       "    </tr>\n",
       "    <tr>\n",
       "      <th>std</th>\n",
       "      <td>0.211686</td>\n",
       "      <td>2.331359e+14</td>\n",
       "      <td>334.205630</td>\n",
       "      <td>164.653662</td>\n",
       "      <td>365.914492</td>\n",
       "      <td>277.473002</td>\n",
       "      <td>286.865682</td>\n",
       "      <td>78.157273</td>\n",
       "      <td>0.068321</td>\n",
       "      <td>0.137532</td>\n",
       "      <td>7.056911e+04</td>\n",
       "      <td>7.056911e+04</td>\n",
       "      <td>52704.392557</td>\n",
       "      <td>40571.003177</td>\n",
       "      <td>39390.347191</td>\n",
       "    </tr>\n",
       "    <tr>\n",
       "      <th>min</th>\n",
       "      <td>0.492200</td>\n",
       "      <td>5.199800e+13</td>\n",
       "      <td>778.755005</td>\n",
       "      <td>61.723999</td>\n",
       "      <td>0.013210</td>\n",
       "      <td>0.267170</td>\n",
       "      <td>0.511050</td>\n",
       "      <td>4.375350</td>\n",
       "      <td>0.543800</td>\n",
       "      <td>0.276700</td>\n",
       "      <td>-1.753000e+05</td>\n",
       "      <td>-1.753000e+05</td>\n",
       "      <td>-55110.000000</td>\n",
       "      <td>-22140.000000</td>\n",
       "      <td>0.000000</td>\n",
       "    </tr>\n",
       "    <tr>\n",
       "      <th>25%</th>\n",
       "      <td>0.492200</td>\n",
       "      <td>9.398750e+13</td>\n",
       "      <td>1014.022491</td>\n",
       "      <td>191.945503</td>\n",
       "      <td>85.349675</td>\n",
       "      <td>257.664522</td>\n",
       "      <td>228.108047</td>\n",
       "      <td>44.963600</td>\n",
       "      <td>0.643200</td>\n",
       "      <td>0.421500</td>\n",
       "      <td>4.972750e+03</td>\n",
       "      <td>4.972750e+03</td>\n",
       "      <td>9508.250000</td>\n",
       "      <td>12742.500000</td>\n",
       "      <td>13640.000000</td>\n",
       "    </tr>\n",
       "    <tr>\n",
       "      <th>50%</th>\n",
       "      <td>0.671200</td>\n",
       "      <td>1.613500e+14</td>\n",
       "      <td>1219.971558</td>\n",
       "      <td>265.826508</td>\n",
       "      <td>712.092225</td>\n",
       "      <td>478.176650</td>\n",
       "      <td>461.075145</td>\n",
       "      <td>79.189850</td>\n",
       "      <td>0.680700</td>\n",
       "      <td>0.514500</td>\n",
       "      <td>1.784500e+04</td>\n",
       "      <td>1.784500e+04</td>\n",
       "      <td>25095.000000</td>\n",
       "      <td>27160.000000</td>\n",
       "      <td>27475.000000</td>\n",
       "    </tr>\n",
       "    <tr>\n",
       "      <th>75%</th>\n",
       "      <td>1.000000</td>\n",
       "      <td>3.038125e+14</td>\n",
       "      <td>1501.731781</td>\n",
       "      <td>366.152260</td>\n",
       "      <td>839.431808</td>\n",
       "      <td>668.655765</td>\n",
       "      <td>717.253920</td>\n",
       "      <td>135.629750</td>\n",
       "      <td>0.724375</td>\n",
       "      <td>0.614200</td>\n",
       "      <td>4.694000e+04</td>\n",
       "      <td>4.694000e+04</td>\n",
       "      <td>54900.000000</td>\n",
       "      <td>55432.500000</td>\n",
       "      <td>56657.500000</td>\n",
       "    </tr>\n",
       "    <tr>\n",
       "      <th>max</th>\n",
       "      <td>1.000000</td>\n",
       "      <td>1.370800e+15</td>\n",
       "      <td>2369.729004</td>\n",
       "      <td>2089.819092</td>\n",
       "      <td>999.831730</td>\n",
       "      <td>999.916500</td>\n",
       "      <td>999.789860</td>\n",
       "      <td>615.048000</td>\n",
       "      <td>1.687300</td>\n",
       "      <td>0.935700</td>\n",
       "      <td>1.305000e+06</td>\n",
       "      <td>1.305000e+06</td>\n",
       "      <td>501900.000000</td>\n",
       "      <td>340400.000000</td>\n",
       "      <td>377100.000000</td>\n",
       "    </tr>\n",
       "  </tbody>\n",
       "</table>\n",
       "</div>"
      ],
      "text/plain": [
       "             scale          mvir         rvir           rs            x  \\\n",
       "count  4930.000000  4.930000e+03  4930.000000  4930.000000  4930.000000   \n",
       "mean      0.757604  2.544873e+14  1293.472094   301.959631   534.669591   \n",
       "std       0.211686  2.331359e+14   334.205630   164.653662   365.914492   \n",
       "min       0.492200  5.199800e+13   778.755005    61.723999     0.013210   \n",
       "25%       0.492200  9.398750e+13  1014.022491   191.945503    85.349675   \n",
       "50%       0.671200  1.613500e+14  1219.971558   265.826508   712.092225   \n",
       "75%       1.000000  3.038125e+14  1501.731781   366.152260   839.431808   \n",
       "max       1.000000  1.370800e+15  2369.729004  2089.819092   999.831730   \n",
       "\n",
       "                 y            z         Xoff        T/|U|  Halfmass_Scale  \\\n",
       "count  4930.000000  4930.000000  4930.000000  4930.000000     4930.000000   \n",
       "mean    480.082057   476.434196   101.444160     0.688963        0.535020   \n",
       "std     277.473002   286.865682    78.157273     0.068321        0.137532   \n",
       "min       0.267170     0.511050     4.375350     0.543800        0.276700   \n",
       "25%     257.664522   228.108047    44.963600     0.643200        0.421500   \n",
       "50%     478.176650   461.075145    79.189850     0.680700        0.514500   \n",
       "75%     668.655765   717.253920   135.629750     0.724375        0.614200   \n",
       "max     999.916500   999.789860   615.048000     1.687300        0.935700   \n",
       "\n",
       "       Acc_Rate_Inst  Acc_Rate_100Myr  Acc_Rate_1*Tdyn  Acc_Rate_2*Tdyn  \\\n",
       "count   4.930000e+03     4.930000e+03      4930.000000      4930.000000   \n",
       "mean    3.899341e+04     3.899341e+04     42535.896262     40884.420034   \n",
       "std     7.056911e+04     7.056911e+04     52704.392557     40571.003177   \n",
       "min    -1.753000e+05    -1.753000e+05    -55110.000000    -22140.000000   \n",
       "25%     4.972750e+03     4.972750e+03      9508.250000     12742.500000   \n",
       "50%     1.784500e+04     1.784500e+04     25095.000000     27160.000000   \n",
       "75%     4.694000e+04     4.694000e+04     54900.000000     55432.500000   \n",
       "max     1.305000e+06     1.305000e+06    501900.000000    340400.000000   \n",
       "\n",
       "       Acc_Rate_Mpeak  \n",
       "count     4930.000000  \n",
       "mean     41334.179047  \n",
       "std      39390.347191  \n",
       "min          0.000000  \n",
       "25%      13640.000000  \n",
       "50%      27475.000000  \n",
       "75%      56657.500000  \n",
       "max     377100.000000  "
      ]
     },
     "execution_count": 26,
     "metadata": {},
     "output_type": "execute_result"
    }
   ],
   "source": [
    "cluster_df.describe()"
   ]
  },
  {
   "cell_type": "code",
   "execution_count": 27,
   "id": "3603b8d2-533f-4891-82f4-585e3410fbe8",
   "metadata": {},
   "outputs": [
    {
     "data": {
      "text/plain": [
       "4930"
      ]
     },
     "execution_count": 27,
     "metadata": {},
     "output_type": "execute_result"
    }
   ],
   "source": [
    "## Merge the files together and save"
   ]
  },
  {
   "cell_type": "code",
   "execution_count": 28,
   "id": "0cc96c85-c548-485d-86fd-7ac1e31d4614",
   "metadata": {},
   "outputs": [],
   "source": [
    "new_df = pd.merge(cluster_df[['id', 'Xoff']], matched_halo_df, how=\"inner\", left_on='id', right_on='CtreesHaloID')"
   ]
  },
  {
   "cell_type": "code",
   "execution_count": 31,
   "id": "a650fe0e-e320-4046-a48a-7e7912d5125a",
   "metadata": {},
   "outputs": [
    {
     "data": {
      "text/plain": [
       "(array([2.011e+03, 1.546e+03, 7.450e+02, 3.380e+02, 1.670e+02, 6.700e+01,\n",
       "        3.900e+01, 1.200e+01, 1.000e+00, 4.000e+00]),\n",
       " array([  4.37535 ,  65.442615, 126.50988 , 187.577145, 248.64441 ,\n",
       "        309.711675, 370.77894 , 431.846205, 492.91347 , 553.980735,\n",
       "        615.048   ]),\n",
       " <BarContainer object of 10 artists>)"
      ]
     },
     "execution_count": 31,
     "metadata": {},
     "output_type": "execute_result"
    },
    {
     "data": {
      "image/png": "[encoded data removed]",
      "text/plain": [
       "<Figure size 432x288 with 1 Axes>"
      ]
     },
     "metadata": {
      "needs_background": "light"
     },
     "output_type": "display_data"
    }
   ],
   "source": [
    "plt.hist(new_df.Xoff)"
   ]
  },
  {
   "cell_type": "code",
   "execution_count": null,
   "id": "4c93b7ac-b0df-45d7-8c35-4898203e6ed3",
   "metadata": {},
   "outputs": [],
   "source": [
    "pickle.dump(new_df, open( datadir+ \"MDPL2_DS_R200c_SAGE_Ngal_allM_allz.p\", \"wb\" ) )"
   ]
  }
 ],
 "metadata": {
  "kernelspec": {
   "display_name": "myLSST",
   "language": "python",
   "name": "mylsst"
  },
  "language_info": {
   "codemirror_mode": {
    "name": "ipython",
    "version": 3
   },
   "file_extension": ".py",
   "mimetype": "text/x-python",
   "name": "python",
   "nbconvert_exporter": "python",
   "pygments_lexer": "ipython3",
   "version": "3.7.12"
  }
 },
 "nbformat": 4,
 "nbformat_minor": 5
}
