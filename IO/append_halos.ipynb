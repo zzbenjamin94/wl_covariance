{
 "cells": [
  {
   "cell_type": "markdown",
   "id": "5c2ab23a-1b43-4913-8a37-9035563df3bf",
   "metadata": {},
   "source": [
    "## Add R200c, M500c to the halo profiles. \n",
    "\n",
    "Acts on the finalized files. "
   ]
  },
  {
   "cell_type": "code",
   "execution_count": 1,
   "id": "21065300-514a-4a52-8701-481bc095ae50",
   "metadata": {},
   "outputs": [],
   "source": [
    "## testing multidark\n",
    "import numpy as np\n",
    "import matplotlib.pyplot as plt\n",
    "import seaborn as sns\n",
    "from scipy.stats import kde\n",
    "import h5py\n",
    "import astropy.io.fits as fits\n",
    "import csv\n",
    "import pandas as pd\n",
    "import h5py\n",
    "import tables\n",
    "import pickle5 as pickle\n",
    "import os\n",
    "from astropy.table import Table\n",
    "from astropy.coordinates import SkyCoord\n",
    "from tqdm import tqdm\n",
    "from astropy.io import ascii\n",
    "import pickle\n",
    "import os\n",
    "from glob import glob\n",
    "import scipy"
   ]
  },
  {
   "cell_type": "code",
   "execution_count": 2,
   "id": "687bf0f0-4a89-417f-9d9f-8d9699ece1f1",
   "metadata": {},
   "outputs": [],
   "source": [
    "from timeit import default_timer as timer"
   ]
  },
  {
   "cell_type": "code",
   "execution_count": 4,
   "id": "70d22564-4fbc-4317-9269-a47e83aa90e5",
   "metadata": {},
   "outputs": [],
   "source": [
    "ptcl_dir = '/global/cscratch1/sd/zzhang13/MultiDark/MDPL2_particles/z0p03/'\n",
    "deltasigma_dir = '/global/homes/z/zzhang13/BaryonPasting/CorrelatedStructures/multiDark/data/'"
   ]
  },
  {
   "cell_type": "code",
   "execution_count": 5,
   "id": "7a57aa4f-898e-4cf2-802a-c2096580ad2c",
   "metadata": {},
   "outputs": [],
   "source": [
    "clusters_z0p00_file = '/global/cscratch1/sd/zzhang13/MultiDark/MDPL2_ROCKSTAR_Halos/z0p00/' + 'MDPL2_halos_DS_Ngal_Dgal_lt_2_allM_mah_z0p00.p'\n",
    "clusters_z0p49_file = '/global/cscratch1/sd/zzhang13/MultiDark/MDPL2_ROCKSTAR_Halos/z0p49/' + 'MDPL2_halos_DS_Ngal_Dgal_lt_2_allM_mah_z0p49.p'\n",
    "clusters_z1p03_file = '/global/cscratch1/sd/zzhang13/MultiDark/MDPL2_ROCKSTAR_Halos/z1p03/' + 'MDPL2_halos_DS_Ngal_Dgal_lt_2_allM_mah_z1p03.p'\n",
    "\n",
    "clusters_files = [clusters_z0p00_file, clusters_z0p49_file, clusters_z1p03_file]"
   ]
  },
  {
   "cell_type": "markdown",
   "id": "35874f66-d49e-48aa-b5bd-47943aa423c7",
   "metadata": {},
   "source": [
    "##  Import files"
   ]
  },
  {
   "cell_type": "code",
   "execution_count": 6,
   "id": "86dc66fe-2a6b-44b0-9ac1-20ca2fb345bf",
   "metadata": {},
   "outputs": [],
   "source": [
    "with open(clusters_z0p00_file, 'rb') as handle:\n",
    "    matched_halo_df = pickle.load(handle)"
   ]
  },
  {
   "cell_type": "code",
   "execution_count": 7,
   "id": "2901472c-4557-453f-8dc7-dedf1381c257",
   "metadata": {},
   "outputs": [],
   "source": [
    "matched_halo_df = pd.DataFrame(columns=matched_halo_df.columns) ##empty DF"
   ]
  },
  {
   "cell_type": "code",
   "execution_count": 8,
   "id": "dfc87c4c-0734-4950-ac1a-774dc86de3da",
   "metadata": {},
   "outputs": [
    {
     "data": {
      "text/html": [
       "<div>\n",
       "<style scoped>\n",
       "    .dataframe tbody tr th:only-of-type {\n",
       "        vertical-align: middle;\n",
       "    }\n",
       "\n",
       "    .dataframe tbody tr th {\n",
       "        vertical-align: top;\n",
       "    }\n",
       "\n",
       "    .dataframe thead th {\n",
       "        text-align: right;\n",
       "    }\n",
       "</style>\n",
       "<table border=\"1\" class=\"dataframe\">\n",
       "  <thead>\n",
       "    <tr style=\"text-align: right;\">\n",
       "      <th></th>\n",
       "      <th>scale</th>\n",
       "      <th>id</th>\n",
       "      <th>pid</th>\n",
       "      <th>mvir</th>\n",
       "      <th>rvir</th>\n",
       "      <th>x</th>\n",
       "      <th>y</th>\n",
       "      <th>z</th>\n",
       "      <th>M200b</th>\n",
       "      <th>M200c</th>\n",
       "      <th>...</th>\n",
       "      <th>delta_sigma</th>\n",
       "      <th>rs</th>\n",
       "      <th>T/|U|</th>\n",
       "      <th>Halfmass_Scale</th>\n",
       "      <th>Acc_Rate_Inst</th>\n",
       "      <th>Acc_Rate_100Myr</th>\n",
       "      <th>Acc_Rate_1*Tdyn</th>\n",
       "      <th>Acc_Rate_2*Tdyn</th>\n",
       "      <th>Acc_Rate_Mpeak</th>\n",
       "      <th>c_vir</th>\n",
       "    </tr>\n",
       "  </thead>\n",
       "  <tbody>\n",
       "  </tbody>\n",
       "</table>\n",
       "<p>0 rows × 32 columns</p>\n",
       "</div>"
      ],
      "text/plain": [
       "Empty DataFrame\n",
       "Columns: [scale, id, pid, mvir, rvir, x, y, z, M200b, M200c, M500c, Type, GalaxyIndex, CentralGalaxyIndex, CtreesHaloID, CtreesCentralID, CentralMvir, StellarMass, Ngal, cluster_id, sigma, r_range, delta_sigma, rs, T/|U|, Halfmass_Scale, Acc_Rate_Inst, Acc_Rate_100Myr, Acc_Rate_1*Tdyn, Acc_Rate_2*Tdyn, Acc_Rate_Mpeak, c_vir]\n",
       "Index: []\n",
       "\n",
       "[0 rows x 32 columns]"
      ]
     },
     "execution_count": 8,
     "metadata": {},
     "output_type": "execute_result"
    }
   ],
   "source": [
    "matched_halo_df"
   ]
  },
  {
   "cell_type": "code",
   "execution_count": 9,
   "id": "dc704d46-c35a-4713-8dee-febd49891fbf",
   "metadata": {},
   "outputs": [],
   "source": [
    "for file in iter(clusters_files):\n",
    "    with open(file,'rb') as handle:\n",
    "        cur_df = pickle.load(handle)\n",
    "    matched_halo_df = matched_halo_df.append(cur_df, ignore_index=True)"
   ]
  },
  {
   "cell_type": "code",
   "execution_count": 10,
   "id": "9f4c6009-2e8c-4e3b-97fc-a9fef3b3b4c6",
   "metadata": {},
   "outputs": [
    {
     "data": {
      "text/html": [
       "<div>\n",
       "<style scoped>\n",
       "    .dataframe tbody tr th:only-of-type {\n",
       "        vertical-align: middle;\n",
       "    }\n",
       "\n",
       "    .dataframe tbody tr th {\n",
       "        vertical-align: top;\n",
       "    }\n",
       "\n",
       "    .dataframe thead th {\n",
       "        text-align: right;\n",
       "    }\n",
       "</style>\n",
       "<table border=\"1\" class=\"dataframe\">\n",
       "  <thead>\n",
       "    <tr style=\"text-align: right;\">\n",
       "      <th></th>\n",
       "      <th>mvir</th>\n",
       "      <th>rvir</th>\n",
       "      <th>x</th>\n",
       "      <th>y</th>\n",
       "      <th>z</th>\n",
       "      <th>CentralMvir</th>\n",
       "      <th>StellarMass</th>\n",
       "      <th>Ngal</th>\n",
       "      <th>rs</th>\n",
       "      <th>T/|U|</th>\n",
       "      <th>Halfmass_Scale</th>\n",
       "      <th>Acc_Rate_Inst</th>\n",
       "      <th>Acc_Rate_100Myr</th>\n",
       "      <th>Acc_Rate_1*Tdyn</th>\n",
       "      <th>Acc_Rate_2*Tdyn</th>\n",
       "      <th>Acc_Rate_Mpeak</th>\n",
       "      <th>c_vir</th>\n",
       "      <th>Mmvir_all</th>\n",
       "    </tr>\n",
       "    <tr>\n",
       "      <th>scale</th>\n",
       "      <th></th>\n",
       "      <th></th>\n",
       "      <th></th>\n",
       "      <th></th>\n",
       "      <th></th>\n",
       "      <th></th>\n",
       "      <th></th>\n",
       "      <th></th>\n",
       "      <th></th>\n",
       "      <th></th>\n",
       "      <th></th>\n",
       "      <th></th>\n",
       "      <th></th>\n",
       "      <th></th>\n",
       "      <th></th>\n",
       "      <th></th>\n",
       "      <th></th>\n",
       "      <th></th>\n",
       "    </tr>\n",
       "  </thead>\n",
       "  <tbody>\n",
       "    <tr>\n",
       "      <th>0.4922</th>\n",
       "      <td>1.024424e+14</td>\n",
       "      <td>1107.860760</td>\n",
       "      <td>637.297195</td>\n",
       "      <td>369.528321</td>\n",
       "      <td>504.154151</td>\n",
       "      <td>9.539071e+13</td>\n",
       "      <td>1.480425e+11</td>\n",
       "      <td>77.019499</td>\n",
       "      <td>296.874831</td>\n",
       "      <td>0.708872</td>\n",
       "      <td>0.382598</td>\n",
       "      <td>30636.496058</td>\n",
       "      <td>30636.496058</td>\n",
       "      <td>31192.426741</td>\n",
       "      <td>30846.708914</td>\n",
       "      <td>31359.380223</td>\n",
       "      <td>4.222388</td>\n",
       "      <td>1.026076e+14</td>\n",
       "    </tr>\n",
       "    <tr>\n",
       "      <th>0.6712</th>\n",
       "      <td>1.614951e+14</td>\n",
       "      <td>1200.186226</td>\n",
       "      <td>242.059814</td>\n",
       "      <td>582.849578</td>\n",
       "      <td>486.953972</td>\n",
       "      <td>1.435792e+14</td>\n",
       "      <td>1.512220e+11</td>\n",
       "      <td>96.681333</td>\n",
       "      <td>293.570810</td>\n",
       "      <td>0.694499</td>\n",
       "      <td>0.488354</td>\n",
       "      <td>29366.655967</td>\n",
       "      <td>29366.655967</td>\n",
       "      <td>29564.152260</td>\n",
       "      <td>28431.584600</td>\n",
       "      <td>28399.903067</td>\n",
       "      <td>4.791885</td>\n",
       "      <td>1.618252e+14</td>\n",
       "    </tr>\n",
       "    <tr>\n",
       "      <th>1.0000</th>\n",
       "      <td>3.085148e+14</td>\n",
       "      <td>1279.278585</td>\n",
       "      <td>306.319320</td>\n",
       "      <td>671.824071</td>\n",
       "      <td>509.171483</td>\n",
       "      <td>2.485489e+14</td>\n",
       "      <td>1.940698e+11</td>\n",
       "      <td>133.312571</td>\n",
       "      <td>269.347452</td>\n",
       "      <td>0.658473</td>\n",
       "      <td>0.651673</td>\n",
       "      <td>25891.225377</td>\n",
       "      <td>25891.225377</td>\n",
       "      <td>27820.118000</td>\n",
       "      <td>29155.635539</td>\n",
       "      <td>29985.539120</td>\n",
       "      <td>5.620467</td>\n",
       "      <td>NaN</td>\n",
       "    </tr>\n",
       "  </tbody>\n",
       "</table>\n",
       "</div>"
      ],
      "text/plain": [
       "                mvir         rvir           x           y           z  \\\n",
       "scale                                                                   \n",
       "0.4922  1.024424e+14  1107.860760  637.297195  369.528321  504.154151   \n",
       "0.6712  1.614951e+14  1200.186226  242.059814  582.849578  486.953972   \n",
       "1.0000  3.085148e+14  1279.278585  306.319320  671.824071  509.171483   \n",
       "\n",
       "         CentralMvir   StellarMass        Ngal          rs     T/|U|  \\\n",
       "scale                                                                  \n",
       "0.4922  9.539071e+13  1.480425e+11   77.019499  296.874831  0.708872   \n",
       "0.6712  1.435792e+14  1.512220e+11   96.681333  293.570810  0.694499   \n",
       "1.0000  2.485489e+14  1.940698e+11  133.312571  269.347452  0.658473   \n",
       "\n",
       "        Halfmass_Scale  Acc_Rate_Inst  Acc_Rate_100Myr  Acc_Rate_1*Tdyn  \\\n",
       "scale                                                                     \n",
       "0.4922        0.382598   30636.496058     30636.496058     31192.426741   \n",
       "0.6712        0.488354   29366.655967     29366.655967     29564.152260   \n",
       "1.0000        0.651673   25891.225377     25891.225377     27820.118000   \n",
       "\n",
       "        Acc_Rate_2*Tdyn  Acc_Rate_Mpeak     c_vir     Mmvir_all  \n",
       "scale                                                            \n",
       "0.4922     30846.708914    31359.380223  4.222388  1.026076e+14  \n",
       "0.6712     28431.584600    28399.903067  4.791885  1.618252e+14  \n",
       "1.0000     29155.635539    29985.539120  5.620467           NaN  "
      ]
     },
     "execution_count": 10,
     "metadata": {},
     "output_type": "execute_result"
    }
   ],
   "source": [
    "matched_halo_df.groupby('scale').mean()"
   ]
  },
  {
   "cell_type": "code",
   "execution_count": null,
   "id": "32f96bcf-e8c5-4870-845d-0e520f560c77",
   "metadata": {},
   "outputs": [],
   "source": [
    "matched_halo_df['']"
   ]
  }
 ],
 "metadata": {
  "kernelspec": {
   "display_name": "myLSST",
   "language": "python",
   "name": "mylsst"
  },
  "language_info": {
   "codemirror_mode": {
    "name": "ipython",
    "version": 3
   },
   "file_extension": ".py",
   "mimetype": "text/x-python",
   "name": "python",
   "nbconvert_exporter": "python",
   "pygments_lexer": "ipython3",
   "version": "3.7.12"
  }
 },
 "nbformat": 4,
 "nbformat_minor": 5
}
