{
 "cells": [
  {
   "cell_type": "markdown",
   "id": "6b10719a-7840-4a94-87ee-ff5aced5c4cf",
   "metadata": {},
   "source": [
    "# Merge the output (dictionary) from the MPI runs into a Dataframe. \n",
    "Columns\n",
    "\n",
    "* cluster_id\n",
    "* mvir\n",
    "* x\n",
    "* y\n",
    "* z\n",
    "* redshift\n",
    "* R_vir\n",
    "* DS\n",
    "* Sigma\n",
    "* Ngal"
   ]
  },
  {
   "cell_type": "markdown",
   "id": "e4af2f26-0e96-42cf-8247-bad3fed2984b",
   "metadata": {},
   "source": [
    "## Setup"
   ]
  },
  {
   "cell_type": "code",
   "execution_count": 2,
   "id": "210361e2-ab7c-4e23-9676-777ab2ac489d",
   "metadata": {},
   "outputs": [],
   "source": [
    "## testing multidark\n",
    "import numpy as np\n",
    "import matplotlib.pyplot as plt\n",
    "import seaborn as sns\n",
    "from scipy.stats import kde\n",
    "import h5py\n",
    "import astropy.io.fits as fits\n",
    "import csv\n",
    "import pandas as pd\n",
    "import h5py\n",
    "import tables\n",
    "import pickle5 as pickle\n",
    "import os\n",
    "from astropy.table import Table\n",
    "from astropy.coordinates import SkyCoord\n",
    "from tqdm import tqdm\n",
    "from astropy.io import ascii\n",
    "import pickle\n",
    "import os\n",
    "from glob import glob\n",
    "import pickle"
   ]
  },
  {
   "cell_type": "code",
   "execution_count": 3,
   "id": "d5c2c0fc-d913-482f-89c7-b505c2b272d2",
   "metadata": {},
   "outputs": [],
   "source": [
    "from timeit import default_timer as timer"
   ]
  },
  {
   "cell_type": "code",
   "execution_count": 4,
   "id": "cb4f2282-7746-41e6-9027-1a94c37bbe3f",
   "metadata": {},
   "outputs": [],
   "source": [
    "ptcl_dir = '/global/cscratch1/sd/zzhang13/MultiDark/MDPL2_particles/z0p49/'\n",
    "deltasigma_dir = '/global/homes/z/zzhang13/BaryonPasting/CorrelatedStructures/multiDark/data/'\n",
    "clusters_dir = '/global/homes/z/zzhang13/BaryonPasting/CorrelatedStructures/multiDark/data/'"
   ]
  },
  {
   "cell_type": "markdown",
   "id": "458942b7-718e-4e98-b9ec-93421e01415b",
   "metadata": {},
   "source": [
    "## Import the files"
   ]
  },
  {
   "cell_type": "markdown",
   "id": "0ca9caab-05c5-4769-bd2c-5bcec6799847",
   "metadata": {},
   "source": [
    "### Delta_Sigma_files"
   ]
  },
  {
   "cell_type": "code",
   "execution_count": 5,
   "id": "a70ecbb2-488e-4017-a370-177847fc90cb",
   "metadata": {},
   "outputs": [
    {
     "name": "stdout",
     "output_type": "stream",
     "text": [
      "['/global/homes/z/zzhang13/BaryonPasting/CorrelatedStructures/multiDark/data/sigma_m200c_all_z0p00.pkl', '/global/homes/z/zzhang13/BaryonPasting/CorrelatedStructures/multiDark/data/sigma_m200c_all_z0p49.pkl', '/global/homes/z/zzhang13/BaryonPasting/CorrelatedStructures/multiDark/data/sigma_m200c_all_z1p03.pkl']\n"
     ]
    }
   ],
   "source": [
    "delta_sigma_file = deltasigma_dir + 'sigma_mvir_5e13_1e14_z0p49.pkl'\n",
    "DS_files = glob(deltasigma_dir + 'sigma_m200c_*')\n",
    "print(DS_files)\n",
    "\n",
    "deltasigma_df = pd.DataFrame()"
   ]
  },
  {
   "cell_type": "code",
   "execution_count": 6,
   "id": "cf14c4a4-77d3-40aa-aac1-b76068a2455d",
   "metadata": {},
   "outputs": [],
   "source": [
    "with open(delta_sigma_file, 'rb') as handle:\n",
    "    deltasigma = pickle.load(handle)\n",
    "    \n",
    "    \n",
    "for file in iter(DS_files):\n",
    "    with open(file,'rb') as handle:\n",
    "        deltasigma_cur = pickle.load(handle)\n",
    "        deltasigma_cur_df = pd.DataFrame.from_dict(deltasigma_cur, orient=\"index\").transpose()\n",
    "    deltasigma_df = deltasigma_df.append(deltasigma_cur_df)"
   ]
  },
  {
   "cell_type": "markdown",
   "id": "d63fdc49-0267-42e8-866d-f6d3dd769ceb",
   "metadata": {},
   "source": [
    "### Diagnostic plots"
   ]
  },
  {
   "cell_type": "code",
   "execution_count": 7,
   "id": "cb33a71e-5309-4cfb-b5d0-f280248309d6",
   "metadata": {},
   "outputs": [],
   "source": [
    "## Testing the file properties. \n",
    "r_bins_log_norm = np.linspace(-1,1,21)\n",
    "r_bins_lin_norm = 10**r_bins_log_norm\n",
    "r_cent_log_norm= (r_bins_log_norm[1:] + r_bins_log_norm[:-1])/2\n",
    "r_cent_lin_norm = 10**r_cent_log_norm"
   ]
  },
  {
   "cell_type": "code",
   "execution_count": 8,
   "id": "6e6d2677-ca0a-40bb-a2bd-625b6b84fff2",
   "metadata": {},
   "outputs": [],
   "source": [
    "mean_sigma_mpi = np.mean(deltasigma['sigma'], axis=0)\n",
    "mean_deltasigma_mpi = np.mean(deltasigma['delta_sigma'], axis=0)\n",
    "\n",
    "sigma_err_mpi = np.std(deltasigma['sigma'], axis=0)\n",
    "deltasigma_err_mpi = np.std(deltasigma['sigma'], axis=0)"
   ]
  },
  {
   "cell_type": "code",
   "execution_count": 9,
   "id": "6d5471a7-a5c8-4e2c-94c8-5512e1c68240",
   "metadata": {},
   "outputs": [
    {
     "data": {
      "image/png": "[encoded data removed]",
      "text/plain": [
       "<Figure size 432x288 with 1 Axes>"
      ]
     },
     "metadata": {
      "needs_background": "light"
     },
     "output_type": "display_data"
    }
   ],
   "source": [
    "plt.plot(r_cent_lin_norm, mean_deltasigma_mpi)\n",
    "plt.xscale('log'); #plt.yscale('log')\n",
    "plt.show()"
   ]
  },
  {
   "cell_type": "code",
   "execution_count": 10,
   "id": "e06b31bf-b17e-40f9-9aa9-c7a3111ff6fc",
   "metadata": {},
   "outputs": [],
   "source": [
    "deltasigma_df = deltasigma_df.rename(columns={\"cluster_id\": \"CtreesHaloID\"})"
   ]
  },
  {
   "cell_type": "markdown",
   "id": "188e7559-a5f8-4ace-a1da-33c7cdefcce0",
   "metadata": {
    "tags": []
   },
   "source": [
    "### Matched halo files"
   ]
  },
  {
   "cell_type": "code",
   "execution_count": 11,
   "id": "cba6023a-12c0-4125-b2ca-24076d909587",
   "metadata": {},
   "outputs": [],
   "source": [
    "matched_halo_df = pd.read_csv(clusters_dir + 'clusters_m200c_lgt_3e13_mah_allz_Ngal.csv')"
   ]
  },
  {
   "cell_type": "code",
   "execution_count": 12,
   "id": "f8d9b11b-66f1-4341-b350-fa869c820f2a",
   "metadata": {},
   "outputs": [
    {
     "data": {
      "text/plain": [
       "Index(['scale', 'CtreesHaloID', 'pid', 'mvir', 'rvir', 'rs', 'x', 'y', 'z',\n",
       "       'Mmvir_all', 'M200b', 'M200c', 'M500c', 'T/|U|', 'Halfmass_Scale',\n",
       "       'Acc_Rate_Inst', 'Acc_Rate_100Myr', 'Acc_Rate_1*Tdyn',\n",
       "       'Acc_Rate_2*Tdyn', 'Acc_Rate_Mpeak', 'c_vir', 'R200c', 'R500c',\n",
       "       'redshift', 'Ngal_Dsep_1', 'Ngal_Rvir', 'Ngal_R200c', 'Ngal_R500c'],\n",
       "      dtype='object')"
      ]
     },
     "execution_count": 12,
     "metadata": {},
     "output_type": "execute_result"
    }
   ],
   "source": [
    "matched_halo_df.columns"
   ]
  },
  {
   "cell_type": "markdown",
   "id": "637c9105-1edd-413d-b73b-298d75e2283b",
   "metadata": {},
   "source": [
    "### Extract columns from the merged files. "
   ]
  },
  {
   "cell_type": "code",
   "execution_count": 13,
   "id": "8e094f5d-af8e-4632-8a75-764412a4d5b2",
   "metadata": {},
   "outputs": [],
   "source": [
    "merged_df = pd.merge(matched_halo_df, deltasigma_df, how=\"inner\", on='CtreesHaloID')"
   ]
  },
  {
   "cell_type": "code",
   "execution_count": 14,
   "id": "6dc8283b-044f-4931-90c7-5b3056d1a9f2",
   "metadata": {},
   "outputs": [],
   "source": [
    "matched_halo_df = merged_df"
   ]
  },
  {
   "cell_type": "markdown",
   "id": "f99ed52b-87f6-480e-a6ca-17657c6816e6",
   "metadata": {},
   "source": [
    "## Plot the DeltaSigma in each bin"
   ]
  },
  {
   "cell_type": "code",
   "execution_count": 15,
   "id": "343aff1e-6dd7-4530-871e-a20de5fb6ecd",
   "metadata": {},
   "outputs": [],
   "source": [
    "mass_bin_edges = [5e13, 1e14, 2e14, 5e14, 1e15]\n",
    "mass_bins = [[mass_bin_edges[i],mass_bin_edges[i+1]] for i in range(len(mass_bin_edges)-1)]\n",
    "\n",
    "a_bins = [1, 0.6712, 0.4922]\n",
    "column_name ='Acc_Rate_2*Tdyn'"
   ]
  },
  {
   "cell_type": "code",
   "execution_count": 16,
   "id": "bc6174f5-a4cb-4908-84cb-1c86e0a1924f",
   "metadata": {},
   "outputs": [
    {
     "name": "stdout",
     "output_type": "stream",
     "text": [
      "M5e+13-1e+14, z=0.00, N=387\n",
      "M5e+13-1e+14, z=0.49, N=449\n",
      "M5e+13-1e+14, z=1.03, N=474\n",
      "M1e+14-2e+14, z=0.00, N=507\n",
      "M1e+14-2e+14, z=0.49, N=506\n",
      "M1e+14-2e+14, z=1.03, N=505\n",
      "M2e+14-5e+14, z=0.00, N=547\n",
      "M2e+14-5e+14, z=0.49, N=535\n",
      "M2e+14-5e+14, z=1.03, N=307\n",
      "M5e+14-1e+15, z=0.00, N=495\n",
      "M5e+14-1e+15, z=0.49, N=142\n",
      "M5e+14-1e+15, z=1.03, N=8\n"
     ]
    },
    {
     "data": {
      "image/png": "[encoded data removed]",
      "text/plain": [
       "<Figure size 1440x1440 with 12 Axes>"
      ]
     },
     "metadata": {
      "needs_background": "light"
     },
     "output_type": "display_data"
    }
   ],
   "source": [
    "from scipy import stats\n",
    "nBootstrap = 5\n",
    "X_params = ['T/|U|', 'c_vir', 'Halfmass_Scale', 'Acc_Rate_2*Tdyn']\n",
    "#X_params = ['c_vir', 'Acc_Rate_2*Tdyn']\n",
    "\n",
    "fig, axs = plt.subplots(4,3,figsize=(20,20), tight_layout=True)\n",
    "\n",
    "for i, cur_mass_bin in enumerate(mass_bins):\n",
    "    for j, cur_a_bin in enumerate(a_bins):     \n",
    "        mass_min = cur_mass_bin[0]; mass_max = cur_mass_bin[1]\n",
    "        mask = (matched_halo_df.mvir >= mass_min) & (matched_halo_df.mvir < mass_max) & (matched_halo_df.scale == cur_a_bin) \n",
    "        cur_df = matched_halo_df[mask]\n",
    "        print('M{:.2g}-{:.2g}, z={:.2f}, N={}'.format(mass_min, mass_max, 1/cur_a_bin-1, len(cur_df)))\n",
    "        \n",
    "        if len(cur_df) < 100: \n",
    "            axs[i,j].set_visible(False)\n",
    "            continue\n",
    "        \n",
    "        DS_cur = np.vstack(cur_df['delta_sigma'])\n",
    "        DS_all = np.vstack(matched_halo_df['delta_sigma'])\n",
    "        #axs[i,j].errorbar(r_cent_lin_norm, np.mean(DS_all,axis=0), yerr = np.std(DS_all,axis=0), label='All', linewidth=2, alpha=1)\n",
    "        axs[i,j].errorbar(r_cent_lin_norm, np.mean(cur_df['delta_sigma'],axis=0), yerr = np.std(DS_cur,axis=0), linewidth=2, alpha=0.5)\n",
    "        \n",
    "        \n",
    "        ##Plotting configu\n",
    "        axs[i,j].axhline(0,linestyle='dashed', color='black')\n",
    "        axs[i,j].set_xscale('log'); axs[i,j].set_yscale('log')\n",
    "        axs[i,j].set_xlabel(r'$R/R_{\\rm vir}$', fontsize=14)\n",
    "        axs[i,j].set_title('M{:.2g}-{:.2g}, z={:.2f}'.format(mass_min, mass_max, 1/cur_a_bin-1))\n",
    "        axs[i,j].set_ylim([1e12,1e15])\n",
    "        \n",
    "#axs[0,0].legend(loc='lower left')\n",
    "\n",
    "#plt.savefig('cov_time_formation.png')\n",
    "plt.show()"
   ]
  },
  {
   "cell_type": "code",
   "execution_count": null,
   "id": "2b68afee-0aa8-46ed-b026-81cc7b0b2410",
   "metadata": {},
   "outputs": [],
   "source": []
  },
  {
   "cell_type": "markdown",
   "id": "9a6edbdc-bfa6-4b16-bfb3-f317a8680e77",
   "metadata": {},
   "source": [
    "## Saving the files"
   ]
  },
  {
   "cell_type": "code",
   "execution_count": 17,
   "id": "2c63fffd-a0c0-4244-a0e5-b6cbb2a249c0",
   "metadata": {},
   "outputs": [],
   "source": [
    "pickle.dump(merged_df, open( clusters_dir+ \"MDPL2_DS_R200c_SAGE_Ngal_allM_allz.p\", \"wb\" ) )"
   ]
  },
  {
   "cell_type": "markdown",
   "id": "051a8f6c-ce9b-4dbc-8f5e-b242a482bf0c",
   "metadata": {
    "tags": []
   },
   "source": [
    "## Matching the galaxies onto clusters\n",
    "\n",
    "Do this iteratively for all clusters. "
   ]
  },
  {
   "cell_type": "code",
   "execution_count": 47,
   "id": "2db40cf5-6c8f-4a7a-802e-718adec4de23",
   "metadata": {},
   "outputs": [],
   "source": [
    "files = ['sigma_mvir_5e13_1e14_z0p49.pkl', 'sigma_mvir_1e14_2e14_z0p49.pkl', 'sigma_mvir_2e14_5e14_z0p49.pkl'] #, 'sigma_mvir_5e14_1e15_z0p49.pkl']"
   ]
  },
  {
   "cell_type": "code",
   "execution_count": 48,
   "id": "8ff0fa64-1b6d-4d72-a6ea-19408af4e7bd",
   "metadata": {},
   "outputs": [
    {
     "name": "stderr",
     "output_type": "stream",
     "text": [
      "/global/homes/z/zzhang13/.conda/envs/myLSST/lib/python3.7/site-packages/ipykernel_launcher.py:4: UserWarning: Pandas doesn't allow columns to be created via a new attribute name - see https://pandas.pydata.org/pandas-docs/stable/indexing.html#attribute-access\n",
      "  after removing the cwd from sys.path.\n"
     ]
    },
    {
     "data": {
      "text/plain": [
       "scale                 object\n",
       "id                    object\n",
       "pid                   object\n",
       "mvir                  object\n",
       "rvir                  object\n",
       "rs                    object\n",
       "Mmvir_all             object\n",
       "M200b                 object\n",
       "M200c                 object\n",
       "M500c                 object\n",
       "T/|U|                 object\n",
       "Halfmass_Scale        object\n",
       "Acc_Rate_Inst         object\n",
       "Acc_Rate_100Myr       object\n",
       "Acc_Rate_1*Tdyn       object\n",
       "Acc_Rate_2*Tdyn       object\n",
       "Acc_Rate_Mpeak        object\n",
       "Type                  object\n",
       "GalaxyIndex           object\n",
       "CentralGalaxyIndex    object\n",
       "CtreesHaloID          object\n",
       "CtreesCentralID       object\n",
       "CentralMvir           object\n",
       "StellarMass           object\n",
       "x                     object\n",
       "y                     object\n",
       "z                     object\n",
       "Ngal                  object\n",
       "cluster_id            object\n",
       "sigma                 object\n",
       "r_range               object\n",
       "delta_sigma           object\n",
       "c_vir                 object\n",
       "dtype: object"
      ]
     },
     "execution_count": 48,
     "metadata": {},
     "output_type": "execute_result"
    }
   ],
   "source": [
    "matched_halos_df = pd.DataFrame(columns=cur_df.columns)\n",
    "\n",
    "#Need to change the dtype of the new merged dataframe object\n",
    "matched_halos_df.dtype = cur_df.dtypes\n",
    "matched_halos_df.dtypes"
   ]
  },
  {
   "cell_type": "code",
   "execution_count": 49,
   "id": "53743833-d0a3-437d-a902-e325fe947c34",
   "metadata": {},
   "outputs": [],
   "source": [
    "first_file_bool = True\n",
    "for file in iter(files):\n",
    "    delta_sigma_file = deltasigma_dir + file\n",
    "\n",
    "    with open(delta_sigma_file, 'rb') as handle:\n",
    "        deltasigma = pickle.load(handle)\n",
    "        \n",
    "    deltasigma_df = pd.DataFrame.from_dict(deltasigma, orient=\"index\").transpose()\n",
    "        \n",
    "    cur_df = pd.merge(matched_gal, deltasigma_df, how=\"inner\", left_on='id', right_on='cluster_id')\n",
    "    cur_df['c_vir'] = cur_df.rvir/cur_df.rs\n",
    "    \n",
    "    if first_file_bool:\n",
    "        matched_halos_df =  cur_df.copy()\n",
    "    else:\n",
    "        matched_halos_df = matched_halos_df.append(cur_df, ignore_index=True)\n",
    "    \n",
    "    first_file_bool = False\n",
    "    "
   ]
  },
  {
   "cell_type": "code",
   "execution_count": 50,
   "id": "f115dbe9-73ae-4165-86c1-68d25579dd25",
   "metadata": {},
   "outputs": [
    {
     "data": {
      "text/html": [
       "<div>\n",
       "<style scoped>\n",
       "    .dataframe tbody tr th:only-of-type {\n",
       "        vertical-align: middle;\n",
       "    }\n",
       "\n",
       "    .dataframe tbody tr th {\n",
       "        vertical-align: top;\n",
       "    }\n",
       "\n",
       "    .dataframe thead th {\n",
       "        text-align: right;\n",
       "    }\n",
       "</style>\n",
       "<table border=\"1\" class=\"dataframe\">\n",
       "  <thead>\n",
       "    <tr style=\"text-align: right;\">\n",
       "      <th></th>\n",
       "      <th>scale</th>\n",
       "      <th>id</th>\n",
       "      <th>pid</th>\n",
       "      <th>mvir</th>\n",
       "      <th>rvir</th>\n",
       "      <th>rs</th>\n",
       "      <th>Mmvir_all</th>\n",
       "      <th>M200b</th>\n",
       "      <th>M200c</th>\n",
       "      <th>M500c</th>\n",
       "      <th>...</th>\n",
       "      <th>StellarMass</th>\n",
       "      <th>x</th>\n",
       "      <th>y</th>\n",
       "      <th>z</th>\n",
       "      <th>Ngal</th>\n",
       "      <th>cluster_id</th>\n",
       "      <th>sigma</th>\n",
       "      <th>r_range</th>\n",
       "      <th>delta_sigma</th>\n",
       "      <th>c_vir</th>\n",
       "    </tr>\n",
       "  </thead>\n",
       "  <tbody>\n",
       "    <tr>\n",
       "      <th>0</th>\n",
       "      <td>0.6712</td>\n",
       "      <td>9796437476</td>\n",
       "      <td>-1</td>\n",
       "      <td>5.024900e+13</td>\n",
       "      <td>846.406006</td>\n",
       "      <td>255.557999</td>\n",
       "      <td>5.088600e+13</td>\n",
       "      <td>5.357900e+13</td>\n",
       "      <td>4.246800e+13</td>\n",
       "      <td>2.654200e+13</td>\n",
       "      <td>...</td>\n",
       "      <td>1.033845e+11</td>\n",
       "      <td>179.01086</td>\n",
       "      <td>460.98523</td>\n",
       "      <td>973.94995</td>\n",
       "      <td>43</td>\n",
       "      <td>9796437476</td>\n",
       "      <td>[-1.1259972595732267e+17, -1.1262208671464421e...</td>\n",
       "      <td>[0.0846406006, 0.10655620296486065, 0.13414631...</td>\n",
       "      <td>[76011039050688.53, 62068407410776.555, 478529...</td>\n",
       "      <td>3.311992</td>\n",
       "    </tr>\n",
       "    <tr>\n",
       "      <th>1</th>\n",
       "      <td>0.6712</td>\n",
       "      <td>9796436049</td>\n",
       "      <td>-1</td>\n",
       "      <td>6.149400e+13</td>\n",
       "      <td>905.346008</td>\n",
       "      <td>210.074997</td>\n",
       "      <td>6.164800e+13</td>\n",
       "      <td>6.562400e+13</td>\n",
       "      <td>5.283800e+13</td>\n",
       "      <td>3.620500e+13</td>\n",
       "      <td>...</td>\n",
       "      <td>7.579319e+10</td>\n",
       "      <td>171.86781</td>\n",
       "      <td>458.44656</td>\n",
       "      <td>983.64350</td>\n",
       "      <td>57</td>\n",
       "      <td>9796436049</td>\n",
       "      <td>[-1.1254668008513418e+17, -1.125829018959067e+...</td>\n",
       "      <td>[0.0905346008, 0.11397630959376054, 0.14348767...</td>\n",
       "      <td>[123987363916505.6, 101085155423152.16, 937104...</td>\n",
       "      <td>4.309632</td>\n",
       "    </tr>\n",
       "    <tr>\n",
       "      <th>2</th>\n",
       "      <td>0.6712</td>\n",
       "      <td>9796399651</td>\n",
       "      <td>-1</td>\n",
       "      <td>6.309200e+13</td>\n",
       "      <td>913.117981</td>\n",
       "      <td>123.994003</td>\n",
       "      <td>6.310800e+13</td>\n",
       "      <td>6.452300e+13</td>\n",
       "      <td>5.880700e+13</td>\n",
       "      <td>4.455700e+13</td>\n",
       "      <td>...</td>\n",
       "      <td>1.219390e+11</td>\n",
       "      <td>152.65776</td>\n",
       "      <td>476.10420</td>\n",
       "      <td>927.36240</td>\n",
       "      <td>31</td>\n",
       "      <td>9796399651</td>\n",
       "      <td>[-1.1250940277181824e+17, -1.125515591817125e+...</td>\n",
       "      <td>[0.09131179810000001, 0.11495474302470836, 0.1...</td>\n",
       "      <td>[95128794535250.94, 86621108023290.12, 8105527...</td>\n",
       "      <td>7.364211</td>\n",
       "    </tr>\n",
       "    <tr>\n",
       "      <th>3</th>\n",
       "      <td>0.6712</td>\n",
       "      <td>9787002408</td>\n",
       "      <td>-1</td>\n",
       "      <td>8.178700e+13</td>\n",
       "      <td>995.630005</td>\n",
       "      <td>187.621994</td>\n",
       "      <td>8.180100e+13</td>\n",
       "      <td>8.519000e+13</td>\n",
       "      <td>7.296000e+13</td>\n",
       "      <td>5.289300e+13</td>\n",
       "      <td>...</td>\n",
       "      <td>7.880763e+10</td>\n",
       "      <td>105.85828</td>\n",
       "      <td>480.64713</td>\n",
       "      <td>959.61650</td>\n",
       "      <td>67</td>\n",
       "      <td>9787002408</td>\n",
       "      <td>[-1.1252454216027234e+17, -1.1257610279183882e...</td>\n",
       "      <td>[0.0995630005, 0.1253423914039254, 0.157796721...</td>\n",
       "      <td>[104978700559505.1, 98769641304917.17, 8856317...</td>\n",
       "      <td>5.306574</td>\n",
       "    </tr>\n",
       "    <tr>\n",
       "      <th>4</th>\n",
       "      <td>0.6712</td>\n",
       "      <td>9787002732</td>\n",
       "      <td>-1</td>\n",
       "      <td>9.270900e+13</td>\n",
       "      <td>1038.109985</td>\n",
       "      <td>207.746002</td>\n",
       "      <td>9.283900e+13</td>\n",
       "      <td>9.849700e+13</td>\n",
       "      <td>8.279800e+13</td>\n",
       "      <td>5.770700e+13</td>\n",
       "      <td>...</td>\n",
       "      <td>1.296282e+11</td>\n",
       "      <td>116.91640</td>\n",
       "      <td>459.57288</td>\n",
       "      <td>956.15950</td>\n",
       "      <td>58</td>\n",
       "      <td>9787002732</td>\n",
       "      <td>[-1.1252234166226166e+17, -1.1260647598016797e...</td>\n",
       "      <td>[0.1038109985, 0.13069030403537618, 0.16452934...</td>\n",
       "      <td>[107139378920712.47, 120685543818893.0, 850219...</td>\n",
       "      <td>4.997015</td>\n",
       "    </tr>\n",
       "    <tr>\n",
       "      <th>...</th>\n",
       "      <td>...</td>\n",
       "      <td>...</td>\n",
       "      <td>...</td>\n",
       "      <td>...</td>\n",
       "      <td>...</td>\n",
       "      <td>...</td>\n",
       "      <td>...</td>\n",
       "      <td>...</td>\n",
       "      <td>...</td>\n",
       "      <td>...</td>\n",
       "      <td>...</td>\n",
       "      <td>...</td>\n",
       "      <td>...</td>\n",
       "      <td>...</td>\n",
       "      <td>...</td>\n",
       "      <td>...</td>\n",
       "      <td>...</td>\n",
       "      <td>...</td>\n",
       "      <td>...</td>\n",
       "      <td>...</td>\n",
       "      <td>...</td>\n",
       "    </tr>\n",
       "    <tr>\n",
       "      <th>1495</th>\n",
       "      <td>0.6712</td>\n",
       "      <td>9808833636</td>\n",
       "      <td>-1</td>\n",
       "      <td>3.149600e+14</td>\n",
       "      <td>1560.578979</td>\n",
       "      <td>280.393005</td>\n",
       "      <td>3.158900e+14</td>\n",
       "      <td>3.224300e+14</td>\n",
       "      <td>2.897600e+14</td>\n",
       "      <td>2.173700e+14</td>\n",
       "      <td>...</td>\n",
       "      <td>1.034362e+11</td>\n",
       "      <td>260.96295</td>\n",
       "      <td>855.23420</td>\n",
       "      <td>28.24556</td>\n",
       "      <td>168</td>\n",
       "      <td>9808833636</td>\n",
       "      <td>[-2.632568955787821e+18, -1.7025945479419092e+...</td>\n",
       "      <td>[0.15605789790000002, 0.1964652533774896, 0.24...</td>\n",
       "      <td>[2.520469445874786e+18, 1.59037021342556e+18, ...</td>\n",
       "      <td>5.565684</td>\n",
       "    </tr>\n",
       "    <tr>\n",
       "      <th>1496</th>\n",
       "      <td>0.6712</td>\n",
       "      <td>9808870314</td>\n",
       "      <td>-1</td>\n",
       "      <td>2.360100e+14</td>\n",
       "      <td>1417.461060</td>\n",
       "      <td>285.321014</td>\n",
       "      <td>2.360900e+14</td>\n",
       "      <td>2.391400e+14</td>\n",
       "      <td>2.227800e+14</td>\n",
       "      <td>1.536700e+14</td>\n",
       "      <td>...</td>\n",
       "      <td>1.177701e+11</td>\n",
       "      <td>248.26215</td>\n",
       "      <td>868.37850</td>\n",
       "      <td>64.79633</td>\n",
       "      <td>172</td>\n",
       "      <td>9808870314</td>\n",
       "      <td>[-3.1673260868799846e+18, -2.0400011976705262e...</td>\n",
       "      <td>[0.141746106, 0.1784477748662697, 0.2246524384...</td>\n",
       "      <td>[3.054940688868479e+18, 1.9275645398204099e+18...</td>\n",
       "      <td>4.967952</td>\n",
       "    </tr>\n",
       "    <tr>\n",
       "      <th>1497</th>\n",
       "      <td>0.6712</td>\n",
       "      <td>9818904277</td>\n",
       "      <td>-1</td>\n",
       "      <td>2.798400e+14</td>\n",
       "      <td>1500.274048</td>\n",
       "      <td>628.491028</td>\n",
       "      <td>2.798400e+14</td>\n",
       "      <td>2.915900e+14</td>\n",
       "      <td>2.363500e+14</td>\n",
       "      <td>1.313300e+14</td>\n",
       "      <td>...</td>\n",
       "      <td>5.977757e+10</td>\n",
       "      <td>279.51462</td>\n",
       "      <td>892.67170</td>\n",
       "      <td>136.80770</td>\n",
       "      <td>232</td>\n",
       "      <td>9818904277</td>\n",
       "      <td>[-2.839457396305407e+18, -1.833148551488951e+1...</td>\n",
       "      <td>[0.1500274048, 0.18887331236825025, 0.23777741...</td>\n",
       "      <td>[2.726999260466277e+18, 1.7206429301255726e+18...</td>\n",
       "      <td>2.387105</td>\n",
       "    </tr>\n",
       "    <tr>\n",
       "      <th>1498</th>\n",
       "      <td>0.6712</td>\n",
       "      <td>9809524085</td>\n",
       "      <td>-1</td>\n",
       "      <td>2.908600e+14</td>\n",
       "      <td>1519.713989</td>\n",
       "      <td>387.018005</td>\n",
       "      <td>2.911000e+14</td>\n",
       "      <td>3.065800e+14</td>\n",
       "      <td>2.367600e+14</td>\n",
       "      <td>1.574800e+14</td>\n",
       "      <td>...</td>\n",
       "      <td>9.136387e+10</td>\n",
       "      <td>243.99791</td>\n",
       "      <td>897.82680</td>\n",
       "      <td>180.22655</td>\n",
       "      <td>144</td>\n",
       "      <td>9809524085</td>\n",
       "      <td>[-2.770074933628834e+18, -1.7893701884553106e+...</td>\n",
       "      <td>[0.1519713989, 0.19132065594111816, 0.24085843...</td>\n",
       "      <td>[2.6576850097586627e+18, 1.6769229556094676e+1...</td>\n",
       "      <td>3.926727</td>\n",
       "    </tr>\n",
       "    <tr>\n",
       "      <th>1499</th>\n",
       "      <td>0.6712</td>\n",
       "      <td>9818942144</td>\n",
       "      <td>-1</td>\n",
       "      <td>4.474700e+14</td>\n",
       "      <td>1754.380005</td>\n",
       "      <td>378.912994</td>\n",
       "      <td>4.488700e+14</td>\n",
       "      <td>4.757400e+14</td>\n",
       "      <td>3.737200e+14</td>\n",
       "      <td>2.586400e+14</td>\n",
       "      <td>...</td>\n",
       "      <td>2.344442e+11</td>\n",
       "      <td>279.48254</td>\n",
       "      <td>888.58970</td>\n",
       "      <td>222.85481</td>\n",
       "      <td>202</td>\n",
       "      <td>9818942144</td>\n",
       "      <td>[-2.1065713585642944e+18, -1.3707214414055857e...</td>\n",
       "      <td>[0.17543800050000002, 0.22086335702380783, 0.2...</td>\n",
       "      <td>[1.9943296910515556e+18, 1.2583919611536143e+1...</td>\n",
       "      <td>4.630034</td>\n",
       "    </tr>\n",
       "  </tbody>\n",
       "</table>\n",
       "<p>1500 rows × 33 columns</p>\n",
       "</div>"
      ],
      "text/plain": [
       "       scale          id  pid          mvir         rvir          rs  \\\n",
       "0     0.6712  9796437476   -1  5.024900e+13   846.406006  255.557999   \n",
       "1     0.6712  9796436049   -1  6.149400e+13   905.346008  210.074997   \n",
       "2     0.6712  9796399651   -1  6.309200e+13   913.117981  123.994003   \n",
       "3     0.6712  9787002408   -1  8.178700e+13   995.630005  187.621994   \n",
       "4     0.6712  9787002732   -1  9.270900e+13  1038.109985  207.746002   \n",
       "...      ...         ...  ...           ...          ...         ...   \n",
       "1495  0.6712  9808833636   -1  3.149600e+14  1560.578979  280.393005   \n",
       "1496  0.6712  9808870314   -1  2.360100e+14  1417.461060  285.321014   \n",
       "1497  0.6712  9818904277   -1  2.798400e+14  1500.274048  628.491028   \n",
       "1498  0.6712  9809524085   -1  2.908600e+14  1519.713989  387.018005   \n",
       "1499  0.6712  9818942144   -1  4.474700e+14  1754.380005  378.912994   \n",
       "\n",
       "         Mmvir_all         M200b         M200c         M500c  ...  \\\n",
       "0     5.088600e+13  5.357900e+13  4.246800e+13  2.654200e+13  ...   \n",
       "1     6.164800e+13  6.562400e+13  5.283800e+13  3.620500e+13  ...   \n",
       "2     6.310800e+13  6.452300e+13  5.880700e+13  4.455700e+13  ...   \n",
       "3     8.180100e+13  8.519000e+13  7.296000e+13  5.289300e+13  ...   \n",
       "4     9.283900e+13  9.849700e+13  8.279800e+13  5.770700e+13  ...   \n",
       "...            ...           ...           ...           ...  ...   \n",
       "1495  3.158900e+14  3.224300e+14  2.897600e+14  2.173700e+14  ...   \n",
       "1496  2.360900e+14  2.391400e+14  2.227800e+14  1.536700e+14  ...   \n",
       "1497  2.798400e+14  2.915900e+14  2.363500e+14  1.313300e+14  ...   \n",
       "1498  2.911000e+14  3.065800e+14  2.367600e+14  1.574800e+14  ...   \n",
       "1499  4.488700e+14  4.757400e+14  3.737200e+14  2.586400e+14  ...   \n",
       "\n",
       "       StellarMass          x          y          z  Ngal  cluster_id  \\\n",
       "0     1.033845e+11  179.01086  460.98523  973.94995    43  9796437476   \n",
       "1     7.579319e+10  171.86781  458.44656  983.64350    57  9796436049   \n",
       "2     1.219390e+11  152.65776  476.10420  927.36240    31  9796399651   \n",
       "3     7.880763e+10  105.85828  480.64713  959.61650    67  9787002408   \n",
       "4     1.296282e+11  116.91640  459.57288  956.15950    58  9787002732   \n",
       "...            ...        ...        ...        ...   ...         ...   \n",
       "1495  1.034362e+11  260.96295  855.23420   28.24556   168  9808833636   \n",
       "1496  1.177701e+11  248.26215  868.37850   64.79633   172  9808870314   \n",
       "1497  5.977757e+10  279.51462  892.67170  136.80770   232  9818904277   \n",
       "1498  9.136387e+10  243.99791  897.82680  180.22655   144  9809524085   \n",
       "1499  2.344442e+11  279.48254  888.58970  222.85481   202  9818942144   \n",
       "\n",
       "                                                  sigma  \\\n",
       "0     [-1.1259972595732267e+17, -1.1262208671464421e...   \n",
       "1     [-1.1254668008513418e+17, -1.125829018959067e+...   \n",
       "2     [-1.1250940277181824e+17, -1.125515591817125e+...   \n",
       "3     [-1.1252454216027234e+17, -1.1257610279183882e...   \n",
       "4     [-1.1252234166226166e+17, -1.1260647598016797e...   \n",
       "...                                                 ...   \n",
       "1495  [-2.632568955787821e+18, -1.7025945479419092e+...   \n",
       "1496  [-3.1673260868799846e+18, -2.0400011976705262e...   \n",
       "1497  [-2.839457396305407e+18, -1.833148551488951e+1...   \n",
       "1498  [-2.770074933628834e+18, -1.7893701884553106e+...   \n",
       "1499  [-2.1065713585642944e+18, -1.3707214414055857e...   \n",
       "\n",
       "                                                r_range  \\\n",
       "0     [0.0846406006, 0.10655620296486065, 0.13414631...   \n",
       "1     [0.0905346008, 0.11397630959376054, 0.14348767...   \n",
       "2     [0.09131179810000001, 0.11495474302470836, 0.1...   \n",
       "3     [0.0995630005, 0.1253423914039254, 0.157796721...   \n",
       "4     [0.1038109985, 0.13069030403537618, 0.16452934...   \n",
       "...                                                 ...   \n",
       "1495  [0.15605789790000002, 0.1964652533774896, 0.24...   \n",
       "1496  [0.141746106, 0.1784477748662697, 0.2246524384...   \n",
       "1497  [0.1500274048, 0.18887331236825025, 0.23777741...   \n",
       "1498  [0.1519713989, 0.19132065594111816, 0.24085843...   \n",
       "1499  [0.17543800050000002, 0.22086335702380783, 0.2...   \n",
       "\n",
       "                                            delta_sigma     c_vir  \n",
       "0     [76011039050688.53, 62068407410776.555, 478529...  3.311992  \n",
       "1     [123987363916505.6, 101085155423152.16, 937104...  4.309632  \n",
       "2     [95128794535250.94, 86621108023290.12, 8105527...  7.364211  \n",
       "3     [104978700559505.1, 98769641304917.17, 8856317...  5.306574  \n",
       "4     [107139378920712.47, 120685543818893.0, 850219...  4.997015  \n",
       "...                                                 ...       ...  \n",
       "1495  [2.520469445874786e+18, 1.59037021342556e+18, ...  5.565684  \n",
       "1496  [3.054940688868479e+18, 1.9275645398204099e+18...  4.967952  \n",
       "1497  [2.726999260466277e+18, 1.7206429301255726e+18...  2.387105  \n",
       "1498  [2.6576850097586627e+18, 1.6769229556094676e+1...  3.926727  \n",
       "1499  [1.9943296910515556e+18, 1.2583919611536143e+1...  4.630034  \n",
       "\n",
       "[1500 rows x 33 columns]"
      ]
     },
     "execution_count": 50,
     "metadata": {},
     "output_type": "execute_result"
    }
   ],
   "source": [
    "matched_halos_df"
   ]
  },
  {
   "cell_type": "code",
   "execution_count": 51,
   "id": "23742b73-1836-47df-847e-823264167444",
   "metadata": {},
   "outputs": [
    {
     "data": {
      "text/plain": [
       "scale                 float64\n",
       "id                     object\n",
       "pid                     int64\n",
       "mvir                  float64\n",
       "rvir                  float64\n",
       "rs                    float64\n",
       "Mmvir_all             float64\n",
       "M200b                 float64\n",
       "M200c                 float64\n",
       "M500c                 float64\n",
       "T/|U|                 float64\n",
       "Halfmass_Scale        float64\n",
       "Acc_Rate_Inst         float64\n",
       "Acc_Rate_100Myr       float64\n",
       "Acc_Rate_1*Tdyn       float64\n",
       "Acc_Rate_2*Tdyn       float64\n",
       "Acc_Rate_Mpeak        float64\n",
       "Type                    int64\n",
       "GalaxyIndex             int64\n",
       "CentralGalaxyIndex      int64\n",
       "CtreesHaloID            int64\n",
       "CtreesCentralID         int64\n",
       "CentralMvir           float64\n",
       "StellarMass           float64\n",
       "x                     float64\n",
       "y                     float64\n",
       "z                     float64\n",
       "Ngal                    int64\n",
       "cluster_id             object\n",
       "sigma                  object\n",
       "r_range                object\n",
       "delta_sigma            object\n",
       "c_vir                 float64\n",
       "dtype: object"
      ]
     },
     "execution_count": 51,
     "metadata": {},
     "output_type": "execute_result"
    }
   ],
   "source": [
    "##Goal is to change the datatypes of the dataframe. \n",
    "\n",
    "matched_halos_df.dtypes"
   ]
  },
  {
   "cell_type": "code",
   "execution_count": 52,
   "id": "dfd0a31e-4529-4ff7-a1e1-90f335525741",
   "metadata": {},
   "outputs": [
    {
     "data": {
      "text/plain": [
       "0       3.311992\n",
       "1       4.309632\n",
       "2       7.364211\n",
       "3       5.306574\n",
       "4       4.997015\n",
       "          ...   \n",
       "1495    5.565684\n",
       "1496    4.967952\n",
       "1497    2.387105\n",
       "1498    3.926727\n",
       "1499    4.630034\n",
       "Name: c_vir, Length: 1500, dtype: float64"
      ]
     },
     "execution_count": 52,
     "metadata": {},
     "output_type": "execute_result"
    }
   ],
   "source": [
    "matched_halos_df['c_vir']"
   ]
  },
  {
   "cell_type": "code",
   "execution_count": null,
   "id": "e63d0318-909c-4477-b8db-19e2459b837e",
   "metadata": {},
   "outputs": [],
   "source": []
  }
 ],
 "metadata": {
  "kernelspec": {
   "display_name": "myLSST",
   "language": "python",
   "name": "mylsst"
  },
  "language_info": {
   "codemirror_mode": {
    "name": "ipython",
    "version": 3
   },
   "file_extension": ".py",
   "mimetype": "text/x-python",
   "name": "python",
   "nbconvert_exporter": "python",
   "pygments_lexer": "ipython3",
   "version": "3.7.12"
  }
 },
 "nbformat": 4,
 "nbformat_minor": 5
}
