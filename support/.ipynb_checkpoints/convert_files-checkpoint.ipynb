{
 "cells": [
  {
   "cell_type": "code",
   "execution_count": 1,
   "id": "2fca8a58-88f0-46eb-aa1f-1f7c040390c6",
   "metadata": {},
   "outputs": [],
   "source": [
    "## testing multidark\n",
    "import numpy as np\n",
    "import matplotlib.pyplot as plt\n",
    "import seaborn as sns\n",
    "from scipy.stats import kde\n",
    "import h5py\n",
    "#import setup\n",
    "import astropy.io.fits as fits\n",
    "import csv\n",
    "import pandas as pd\n",
    "import h5py\n",
    "#import h5py_aux\n",
    "import tables\n",
    "import pickle\n",
    "import os\n",
    "from astropy.table import Table\n",
    "from astropy.coordinates import SkyCoord\n",
    "import tqdm\n",
    "from astropy.io import ascii"
   ]
  },
  {
   "cell_type": "markdown",
   "id": "2f8d5f9d-6498-4281-ad75-249c4db6bc6f",
   "metadata": {},
   "source": [
    "## Convert the .list files into pickled dataframes"
   ]
  },
  {
   "cell_type": "code",
   "execution_count": 4,
   "id": "fdd94e46-81ce-4f94-bde4-6e51a9d12a98",
   "metadata": {},
   "outputs": [],
   "source": [
    "import glob\n",
    "datadir = '/global/cscratch1/sd/zzhang13/MultiDark/z0p00/'\n",
    "files = glob.glob(datadir + 'mdpl2_rockstar_z0p00_*.list')\n",
    "col_dict = {0:'scale', 1:'id',  5:'pid', 10:'mvir', 11:'rvir', 17:'x', 18:'y', 19:'z', 39:'M200b', 40:'M200c', 41:'M500c'}"
   ]
  },
  {
   "cell_type": "code",
   "execution_count": 10,
   "id": "6339b1f8-92ab-4973-a5e7-f38b7cd8c7db",
   "metadata": {},
   "outputs": [
    {
     "name": "stdout",
     "output_type": "stream",
     "text": [
      "File number:  0\n",
      "Loading into pickle file\n",
      "File number:  1\n",
      "Loading into pickle file\n",
      "File number:  2\n",
      "Loading into pickle file\n",
      "File number:  3\n",
      "Loading into pickle file\n",
      "File number:  4\n",
      "Loading into pickle file\n",
      "File number:  5\n",
      "Loading into pickle file\n",
      "File number:  6\n",
      "Loading into pickle file\n",
      "File number:  7\n",
      "Loading into pickle file\n",
      "File number:  8\n",
      "Loading into pickle file\n",
      "File number:  9\n",
      "Loading into pickle file\n",
      "File number:  10\n",
      "Loading into pickle file\n",
      "File number:  11\n",
      "Loading into pickle file\n",
      "File number:  12\n",
      "Loading into pickle file\n",
      "File number:  13\n",
      "Loading into pickle file\n",
      "File number:  14\n",
      "Loading into pickle file\n",
      "File number:  15\n",
      "Loading into pickle file\n",
      "File number:  16\n",
      "Loading into pickle file\n",
      "File number:  17\n",
      "Loading into pickle file\n",
      "File number:  18\n",
      "Loading into pickle file\n",
      "File number:  19\n",
      "Loading into pickle file\n",
      "File number:  20\n",
      "Loading into pickle file\n",
      "File number:  21\n",
      "Loading into pickle file\n",
      "File number:  22\n",
      "Loading into pickle file\n",
      "File number:  23\n",
      "Loading into pickle file\n",
      "File number:  24\n",
      "Loading into pickle file\n",
      "File number:  25\n",
      "Loading into pickle file\n"
     ]
    }
   ],
   "source": [
    "for i, f in enumerate(files):\n",
    "    print('File number: ', i)\n",
    "    \n",
    "    #Reading the file as a pandas dataframe\n",
    "    stock =os.path.basename(f)\n",
    "    halo_df = pd.read_table(datadir+stock, comment='#', sep='\\s+', encoding='utf-8', names=list(col_dict.values()), usecols=list(col_dict.keys()))\n",
    "    \n",
    "    #Masking\n",
    "    mask = ~(halo_df[['mvir','M200b', 'M200c', 'M500c']] == 0).any(axis=1) ##Mass non-zero\n",
    "    mask &= (halo_df.pid == -1)\n",
    "\n",
    "    halo_df = halo_df[mask]\n",
    "    \n",
    "    print(\"Loading into pickle file\")\n",
    "\n",
    "    pickle_name = 'mdpl2_rockstar_z0p00_{}'.format(i) + '.pickle'\n",
    "    with open(datadir+pickle_name, 'wb') as handle:\n",
    "        pickle.dump(halo_df, handle, protocol=pickle.HIGHEST_PROTOCOL)\n",
    "        \n",
    "    "
   ]
  },
  {
   "cell_type": "code",
   "execution_count": 20,
   "id": "2daab54f-1dbd-49db-bf48-fb74b3a9337c",
   "metadata": {},
   "outputs": [
    {
     "name": "stdout",
     "output_type": "stream",
     "text": [
      "7.645610570907593\n"
     ]
    }
   ],
   "source": [
    "import time\n",
    "## See if you can load the files\n",
    "files = glob.glob(datadir + 'mdpl2_rockstar_z0p00_*.pickle')\n",
    "\n",
    "start = start = time.time()\n",
    "for f in files:     \n",
    "    print(type(f))\n",
    "    with open(f, 'rb') as handle:\n",
    "        a = pickle.load(handle)\n",
    "end = time.time()\n",
    "print(end- start)"
   ]
  },
  {
   "cell_type": "code",
   "execution_count": 18,
   "id": "6e6cbb72-8562-440c-a50a-99bef1ebffa1",
   "metadata": {},
   "outputs": [],
   "source": []
  },
  {
   "cell_type": "code",
   "execution_count": null,
   "id": "bbe1f46f-6b27-424c-9034-17a2b2862ed3",
   "metadata": {},
   "outputs": [],
   "source": []
  }
 ],
 "metadata": {
  "kernelspec": {
   "display_name": "NERSC Python",
   "language": "python",
   "name": "python3"
  },
  "language_info": {
   "codemirror_mode": {
    "name": "ipython",
    "version": 3
   },
   "file_extension": ".py",
   "mimetype": "text/x-python",
   "name": "python",
   "nbconvert_exporter": "python",
   "pygments_lexer": "ipython3",
   "version": "3.8.5"
  }
 },
 "nbformat": 4,
 "nbformat_minor": 5
}
