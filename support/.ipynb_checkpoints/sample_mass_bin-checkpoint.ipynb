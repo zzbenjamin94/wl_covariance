{
 "cells": [
  {
   "cell_type": "markdown",
   "id": "12d69ce2-d1b1-4091-8dab-bac279d0216d",
   "metadata": {},
   "source": [
    "## Sample the number of clusters\n",
    "\n",
    "Sample clusters so that 500 per mass bin. "
   ]
  },
  {
   "cell_type": "code",
   "execution_count": 2,
   "id": "08ec3a66-cfc0-423a-abc0-dab09fc5ec8b",
   "metadata": {},
   "outputs": [],
   "source": [
    "## testing multidark\n",
    "import numpy as np\n",
    "import matplotlib.pyplot as plt\n",
    "import seaborn as sns\n",
    "from scipy.stats import kde\n",
    "import h5py\n",
    "import astropy.io.fits as fits\n",
    "import csv\n",
    "import pandas as pd\n",
    "import h5py\n",
    "import tables\n",
    "import pickle5 as pickle\n",
    "import os\n",
    "from astropy.table import Table\n",
    "from astropy.coordinates import SkyCoord\n",
    "from tqdm import tqdm\n",
    "from astropy.io import ascii\n",
    "import os\n",
    "from glob import glob"
   ]
  },
  {
   "cell_type": "markdown",
   "id": "525e0c5e-577d-4ffb-88ee-2cadbf9a9345",
   "metadata": {},
   "source": [
    "## Import the file"
   ]
  },
  {
   "cell_type": "code",
   "execution_count": 3,
   "id": "410128b3-a548-4cd1-a91d-9cb397e4b7ce",
   "metadata": {},
   "outputs": [],
   "source": [
    "clusters_dir = '/global/homes/z/zzhang13/BaryonPasting/CorrelatedStructures/multiDark/data/'"
   ]
  },
  {
   "cell_type": "code",
   "execution_count": 20,
   "id": "17d85c8a-2d73-4d73-b0bb-b99b74fb107d",
   "metadata": {},
   "outputs": [],
   "source": [
    "matched_halo_df = pd.read_csv(clusters_dir + 'clusters_m200c_lgt_3e13_mah_allz_Ngal.csv')"
   ]
  },
  {
   "cell_type": "code",
   "execution_count": 5,
   "id": "97469f7c-1c1e-408f-9819-c461f225817b",
   "metadata": {},
   "outputs": [],
   "source": [
    "#matched_halo_df.c_vir = matched_halo_df.c_vir *1000"
   ]
  },
  {
   "cell_type": "code",
   "execution_count": 6,
   "id": "5e430f1e-8f51-4e0e-8575-9fc95579976d",
   "metadata": {},
   "outputs": [],
   "source": [
    "#matched_halo_df.to_csv(clusters_dir + 'clusters_m200c_lgt_3e13_mah_allz_Ngal.csv', index=False)"
   ]
  },
  {
   "cell_type": "code",
   "execution_count": null,
   "id": "195f1e7c-4d51-43ac-81c5-8614d99be1f3",
   "metadata": {},
   "outputs": [],
   "source": [
    "cluster_df = pd.read_csv(clusters_dir + 'clusters_m200c_n500_all_z0p00.csv' ) \n",
    "print(len(cluster_df))"
   ]
  },
  {
   "cell_type": "markdown",
   "id": "14d811bc-0043-43d0-bde6-6d31fdeab8d6",
   "metadata": {},
   "source": [
    "## Split the file by redshift."
   ]
  },
  {
   "cell_type": "code",
   "execution_count": 7,
   "id": "b6021be4-a0d7-46c4-bd30-e935dbcf029d",
   "metadata": {},
   "outputs": [],
   "source": [
    "mass_bin_edges = [5e13, 1e14, 2e14, 5e14, 1e15]\n",
    "mass_bins = [[mass_bin_edges[i],mass_bin_edges[i+1]] for i in range(len(mass_bin_edges)-1)]\n",
    "\n",
    "a_bins = [1, 0.6712, 0.4922]"
   ]
  },
  {
   "cell_type": "markdown",
   "id": "0cec91ea-bf24-4bfc-9bbf-e4325f798370",
   "metadata": {},
   "source": [
    "## Sample the number of clusters in each mass bin"
   ]
  },
  {
   "cell_type": "code",
   "execution_count": 8,
   "id": "77585ddb-e736-4a34-9451-cef68bb44487",
   "metadata": {},
   "outputs": [
    {
     "name": "stdout",
     "output_type": "stream",
     "text": [
      "M5e+13-1e+14, z=0.00, 31861\n",
      "M1e+14-2e+14, z=0.00, 13055\n",
      "M2e+14-5e+14, z=0.00, 4763\n",
      "M5e+14-1e+15, z=0.00, 590\n",
      "M5e+13-1e+14, z=0.49, 23193\n",
      "M1e+14-2e+14, z=0.49, 7491\n",
      "M2e+14-5e+14, z=0.49, 1858\n",
      "M5e+14-1e+15, z=0.49, 136\n",
      "M5e+13-1e+14, z=1.03, 9602\n",
      "M1e+14-2e+14, z=1.03, 2128\n",
      "M2e+14-5e+14, z=1.03, 289\n",
      "M5e+14-1e+15, z=1.03, 5\n"
     ]
    }
   ],
   "source": [
    "for i, cur_a_bin in enumerate(a_bins):  \n",
    "    halos_samp = pd.DataFrame()\n",
    "    \n",
    "    for j, cur_mass_bin in enumerate(mass_bins):\n",
    "        sample_num = 500\n",
    "        mass_min = cur_mass_bin[0]; mass_max = cur_mass_bin[1]\n",
    "        mask = (matched_halo_df.M200c >= mass_min) & (matched_halo_df.M200c < mass_max) & (matched_halo_df.scale == cur_a_bin) \n",
    "        cur_df = matched_halo_df[mask]\n",
    "        print('M{:.2g}-{:.2g}, z={:.2f}, {}'.format(mass_min, mass_max, 1/cur_a_bin-1, len(cur_df)))\n",
    "        \n",
    "\n",
    "        ##Take the min {number of clusters in the bin, chosen sample size}\n",
    "        if sample_num>len(cur_df):  \n",
    "            sample_num = len(cur_df) \n",
    "        cur_df = cur_df.head(sample_num)\n",
    "        \n",
    "        halos_samp = halos_samp.append(cur_df)\n",
    "        \n",
    "        ## Divide a number into an integer and float component\n",
    "        redshift = 1/cur_a_bin - 1\n",
    "        redshift_str = '{:.2f}'.format(redshift)\n",
    "        redshift_str = redshift_str.replace('.','p')\n",
    "\n",
    "    halos_samp.to_csv(clusters_dir + 'clusters_m200c_n500_all_z{}.csv'.format(redshift_str), index=False)\n",
    "        "
   ]
  },
  {
   "cell_type": "code",
   "execution_count": 9,
   "id": "b89a522c-712f-4068-9778-2093edbe66e2",
   "metadata": {},
   "outputs": [
    {
     "data": {
      "text/plain": [
       "(array([ 43., 135., 321., 361., 196., 126.,  68.,  24.,  12.,   8.]),\n",
       " array([ 1.01383585,  1.92142642,  2.82901699,  3.73660756,  4.64419813,\n",
       "         5.5517887 ,  6.45937926,  7.36696983,  8.2745604 ,  9.18215097,\n",
       "        10.08974154]),\n",
       " <BarContainer object of 10 artists>)"
      ]
     },
     "execution_count": 9,
     "metadata": {},
     "output_type": "execute_result"
    },
    {
     "data": {
      "image/png": "[encoded data removed]",
      "text/plain": [
       "<Figure size 432x288 with 1 Axes>"
      ]
     },
     "metadata": {
      "needs_background": "light"
     },
     "output_type": "display_data"
    }
   ],
   "source": [
    "plt.hist(halos_samp.c_vir)"
   ]
  },
  {
   "cell_type": "code",
   "execution_count": 10,
   "id": "ad85456a-5909-44bb-89c4-d728cf722964",
   "metadata": {},
   "outputs": [
    {
     "data": {
      "text/plain": [
       "(array([1.9697e+04, 6.4953e+04, 6.5083e+04, 3.8468e+04, 1.1671e+04,\n",
       "        1.6470e+03, 1.8900e+02, 3.8000e+01, 8.0000e+00, 2.0000e+00]),\n",
       " array([ 1.00059091,  2.96720563,  4.93382036,  6.90043509,  8.86704982,\n",
       "        10.83366454, 12.80027927, 14.766894  , 16.73350872, 18.70012345,\n",
       "        20.66673818]),\n",
       " <BarContainer object of 10 artists>)"
      ]
     },
     "execution_count": 10,
     "metadata": {},
     "output_type": "execute_result"
    },
    {
     "data": {
      "image/png": "[encoded data removed]",
      "text/plain": [
       "<Figure size 432x288 with 1 Axes>"
      ]
     },
     "metadata": {
      "needs_background": "light"
     },
     "output_type": "display_data"
    }
   ],
   "source": [
    "plt.hist(matched_halo_df.c_vir)"
   ]
  },
  {
   "cell_type": "markdown",
   "id": "69ebd2e7-7b7c-4cdf-83b4-d7aa626155ad",
   "metadata": {},
   "source": [
    "## Show the DeltaSigma profiles"
   ]
  },
  {
   "cell_type": "code",
   "execution_count": 15,
   "id": "a156e10b-7df9-46af-9bd4-2feb90e3fc8b",
   "metadata": {},
   "outputs": [],
   "source": [
    "## Testing the file properties. \n",
    "r_bins_log_norm = np.linspace(-1,1,21)\n",
    "r_bins_lin_norm = 10**r_bins_log_norm\n",
    "r_cent_log_norm= (r_bins_log_norm[1:] + r_bins_log_norm[:-1])/2\n",
    "r_cent_lin_norm = 10**r_cent_log_norm"
   ]
  },
  {
   "cell_type": "code",
   "execution_count": 12,
   "id": "d0743c8e-5681-48d0-ad79-d9f0942ac437",
   "metadata": {},
   "outputs": [],
   "source": [
    "deltasigma_dir = '/global/homes/z/zzhang13/BaryonPasting/CorrelatedStructures/multiDark/data/'"
   ]
  },
  {
   "cell_type": "code",
   "execution_count": 13,
   "id": "032e620d-11db-451a-963b-6ab7c8eec483",
   "metadata": {},
   "outputs": [],
   "source": [
    "delta_sigma_file = deltasigma_dir + 'sigma_m200c_all_z0p00_test_n1000th_ptcl.pkl'\n",
    "\n",
    "with open(delta_sigma_file,'rb') as handle:\n",
    "        deltasigma_cur = pickle.load(handle)\n",
    "        deltasigma_df = pd.DataFrame.from_dict(deltasigma_cur, orient=\"index\").transpose()"
   ]
  },
  {
   "cell_type": "code",
   "execution_count": 14,
   "id": "3af3f275-96c0-4859-82ed-b4a5b4be680d",
   "metadata": {},
   "outputs": [
    {
     "data": {
      "text/html": [
       "<div>\n",
       "<style scoped>\n",
       "    .dataframe tbody tr th:only-of-type {\n",
       "        vertical-align: middle;\n",
       "    }\n",
       "\n",
       "    .dataframe tbody tr th {\n",
       "        vertical-align: top;\n",
       "    }\n",
       "\n",
       "    .dataframe thead th {\n",
       "        text-align: right;\n",
       "    }\n",
       "</style>\n",
       "<table border=\"1\" class=\"dataframe\">\n",
       "  <thead>\n",
       "    <tr style=\"text-align: right;\">\n",
       "      <th></th>\n",
       "      <th>cluster_id</th>\n",
       "      <th>sigma</th>\n",
       "      <th>r_range</th>\n",
       "      <th>delta_sigma</th>\n",
       "    </tr>\n",
       "  </thead>\n",
       "  <tbody>\n",
       "    <tr>\n",
       "      <th>0</th>\n",
       "      <td>12582097426</td>\n",
       "      <td>[-55294028438474.53, -55478628138500.234, -546...</td>\n",
       "      <td>[0.06894312510468505, 0.0867942521627924, 0.10...</td>\n",
       "      <td>[1641045878493.7734, 1151904486184.6562, 18777...</td>\n",
       "    </tr>\n",
       "    <tr>\n",
       "      <th>1</th>\n",
       "      <td>12572770760</td>\n",
       "      <td>[-55066238448344.81, -55263039487593.11, -5581...</td>\n",
       "      <td>[0.06677175132319957, 0.08406065453077675, 0.1...</td>\n",
       "      <td>[2427468130447.6016, 1655801906512.5703, 13929...</td>\n",
       "    </tr>\n",
       "    <tr>\n",
       "      <th>2</th>\n",
       "      <td>12582132972</td>\n",
       "      <td>[-56851720285221.03, -57548712028058.52, -5798...</td>\n",
       "      <td>[0.06585359631025693, 0.08290476585301705, 0.1...</td>\n",
       "      <td>[5778260982683.18, 4085608264532.664, 28553219...</td>\n",
       "    </tr>\n",
       "    <tr>\n",
       "      <th>3</th>\n",
       "      <td>12572188135</td>\n",
       "      <td>[-52603115057740.78, -56158805061905.35, -5548...</td>\n",
       "      <td>[0.06327448652060089, 0.07965785899901195, 0.1...</td>\n",
       "      <td>[1412440911464.3203, 3134678689555.1562, 15512...</td>\n",
       "    </tr>\n",
       "    <tr>\n",
       "      <th>4</th>\n",
       "      <td>12572806400</td>\n",
       "      <td>[-56690881671047.12, -50981535970265.66, -5629...</td>\n",
       "      <td>[0.06321679402112844, 0.07958522844535616, 0.1...</td>\n",
       "      <td>[4001297614275.742, -1077705484906.125, 267108...</td>\n",
       "    </tr>\n",
       "  </tbody>\n",
       "</table>\n",
       "</div>"
      ],
      "text/plain": [
       "    cluster_id                                              sigma  \\\n",
       "0  12582097426  [-55294028438474.53, -55478628138500.234, -546...   \n",
       "1  12572770760  [-55066238448344.81, -55263039487593.11, -5581...   \n",
       "2  12582132972  [-56851720285221.03, -57548712028058.52, -5798...   \n",
       "3  12572188135  [-52603115057740.78, -56158805061905.35, -5548...   \n",
       "4  12572806400  [-56690881671047.12, -50981535970265.66, -5629...   \n",
       "\n",
       "                                             r_range  \\\n",
       "0  [0.06894312510468505, 0.0867942521627924, 0.10...   \n",
       "1  [0.06677175132319957, 0.08406065453077675, 0.1...   \n",
       "2  [0.06585359631025693, 0.08290476585301705, 0.1...   \n",
       "3  [0.06327448652060089, 0.07965785899901195, 0.1...   \n",
       "4  [0.06321679402112844, 0.07958522844535616, 0.1...   \n",
       "\n",
       "                                         delta_sigma  \n",
       "0  [1641045878493.7734, 1151904486184.6562, 18777...  \n",
       "1  [2427468130447.6016, 1655801906512.5703, 13929...  \n",
       "2  [5778260982683.18, 4085608264532.664, 28553219...  \n",
       "3  [1412440911464.3203, 3134678689555.1562, 15512...  \n",
       "4  [4001297614275.742, -1077705484906.125, 267108...  "
      ]
     },
     "execution_count": 14,
     "metadata": {},
     "output_type": "execute_result"
    }
   ],
   "source": [
    "deltasigma_df.head()"
   ]
  },
  {
   "cell_type": "code",
   "execution_count": 17,
   "id": "0bda3e21-e0e4-4dd1-a0a1-2840cb273b36",
   "metadata": {},
   "outputs": [
    {
     "data": {
      "image/png": "[encoded data removed]",
      "text/plain": [
       "<Figure size 432x288 with 1 Axes>"
      ]
     },
     "metadata": {
      "needs_background": "light"
     },
     "output_type": "display_data"
    }
   ],
   "source": [
    "for i in range(len(deltasigma_df)):\n",
    "    ds_cur = deltasigma_df.iloc[i].delta_sigma\n",
    "    ds_all = np.vstack(deltasigma_df.delta_sigma)\n",
    "    plt.plot(r_cent_lin_norm, ds_cur)\n",
    "plt.xscale('log')\n",
    "plt.yscale('log')\n",
    "plt.show()"
   ]
  },
  {
   "cell_type": "code",
   "execution_count": 19,
   "id": "55b304e6-f8d7-4e96-8745-907f0f381645",
   "metadata": {},
   "outputs": [
    {
     "data": {
      "image/png": "[encoded data removed]",
      "text/plain": [
       "<Figure size 432x288 with 1 Axes>"
      ]
     },
     "metadata": {
      "needs_background": "light"
     },
     "output_type": "display_data"
    }
   ],
   "source": [
    "ds_all = np.mean(np.vstack(deltasigma_df.delta_sigma),axis=0)\n",
    "ds_all_err= np.std(np.vstack(deltasigma_df.delta_sigma),axis=0)\n",
    "plt.errorbar(r_cent_lin_norm, ds_all, yerr=ds_all_err)\n",
    "plt.xscale('log')\n",
    "plt.yscale('log')\n",
    "plt.show()"
   ]
  },
  {
   "cell_type": "code",
   "execution_count": 21,
   "id": "dd3f21ef-22be-414d-a1b3-ca77646b98ea",
   "metadata": {},
   "outputs": [],
   "source": [
    "clusters_test= pd.merge(matched_halo_df, deltasigma_df, how='inner', left_on='CtreesHaloID', right_on='cluster_id')"
   ]
  },
  {
   "cell_type": "code",
   "execution_count": 24,
   "id": "41250bc7-332e-4b1d-b424-b4e91c67f923",
   "metadata": {},
   "outputs": [
    {
     "data": {
      "text/html": [
       "<div>\n",
       "<style scoped>\n",
       "    .dataframe tbody tr th:only-of-type {\n",
       "        vertical-align: middle;\n",
       "    }\n",
       "\n",
       "    .dataframe tbody tr th {\n",
       "        vertical-align: top;\n",
       "    }\n",
       "\n",
       "    .dataframe thead th {\n",
       "        text-align: right;\n",
       "    }\n",
       "</style>\n",
       "<table border=\"1\" class=\"dataframe\">\n",
       "  <thead>\n",
       "    <tr style=\"text-align: right;\">\n",
       "      <th></th>\n",
       "      <th>M200c</th>\n",
       "      <th>c_vir</th>\n",
       "    </tr>\n",
       "  </thead>\n",
       "  <tbody>\n",
       "    <tr>\n",
       "      <th>0</th>\n",
       "      <td>9.783700e+13</td>\n",
       "      <td>2.357069</td>\n",
       "    </tr>\n",
       "    <tr>\n",
       "      <th>1</th>\n",
       "      <td>9.547800e+13</td>\n",
       "      <td>4.182061</td>\n",
       "    </tr>\n",
       "    <tr>\n",
       "      <th>2</th>\n",
       "      <td>9.313100e+13</td>\n",
       "      <td>3.244080</td>\n",
       "    </tr>\n",
       "    <tr>\n",
       "      <th>3</th>\n",
       "      <td>8.263800e+13</td>\n",
       "      <td>4.767546</td>\n",
       "    </tr>\n",
       "    <tr>\n",
       "      <th>4</th>\n",
       "      <td>8.614000e+13</td>\n",
       "      <td>4.796991</td>\n",
       "    </tr>\n",
       "    <tr>\n",
       "      <th>5</th>\n",
       "      <td>7.031800e+13</td>\n",
       "      <td>2.878047</td>\n",
       "    </tr>\n",
       "    <tr>\n",
       "      <th>6</th>\n",
       "      <td>8.639400e+13</td>\n",
       "      <td>8.622981</td>\n",
       "    </tr>\n",
       "    <tr>\n",
       "      <th>7</th>\n",
       "      <td>7.762000e+13</td>\n",
       "      <td>6.389104</td>\n",
       "    </tr>\n",
       "    <tr>\n",
       "      <th>8</th>\n",
       "      <td>7.597400e+13</td>\n",
       "      <td>6.513911</td>\n",
       "    </tr>\n",
       "    <tr>\n",
       "      <th>9</th>\n",
       "      <td>6.766400e+13</td>\n",
       "      <td>6.848436</td>\n",
       "    </tr>\n",
       "  </tbody>\n",
       "</table>\n",
       "</div>"
      ],
      "text/plain": [
       "          M200c     c_vir\n",
       "0  9.783700e+13  2.357069\n",
       "1  9.547800e+13  4.182061\n",
       "2  9.313100e+13  3.244080\n",
       "3  8.263800e+13  4.767546\n",
       "4  8.614000e+13  4.796991\n",
       "5  7.031800e+13  2.878047\n",
       "6  8.639400e+13  8.622981\n",
       "7  7.762000e+13  6.389104\n",
       "8  7.597400e+13  6.513911\n",
       "9  6.766400e+13  6.848436"
      ]
     },
     "execution_count": 24,
     "metadata": {},
     "output_type": "execute_result"
    }
   ],
   "source": [
    "clusters_test[['M200c','c_vir']]"
   ]
  },
  {
   "cell_type": "code",
   "execution_count": null,
   "id": "566b0479-90a6-47af-af63-7bec4dbae377",
   "metadata": {},
   "outputs": [],
   "source": []
  }
 ],
 "metadata": {
  "kernelspec": {
   "display_name": "myLSST",
   "language": "python",
   "name": "mylsst"
  },
  "language_info": {
   "codemirror_mode": {
    "name": "ipython",
    "version": 3
   },
   "file_extension": ".py",
   "mimetype": "text/x-python",
   "name": "python",
   "nbconvert_exporter": "python",
   "pygments_lexer": "ipython3",
   "version": "3.7.12"
  }
 },
 "nbformat": 4,
 "nbformat_minor": 5
}
