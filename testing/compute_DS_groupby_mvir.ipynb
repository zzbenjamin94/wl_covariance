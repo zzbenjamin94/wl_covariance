{
 "cells": [
  {
   "cell_type": "code",
   "execution_count": 1,
   "id": "6fa5c200-f4d9-4525-b387-04a902406a0b",
   "metadata": {},
   "outputs": [],
   "source": [
    "## testing multidark\n",
    "import numpy as np\n",
    "import matplotlib.pyplot as plt\n",
    "import seaborn as sns\n",
    "from scipy.stats import kde\n",
    "import h5py\n",
    "import astropy.io.fits as fits\n",
    "import csv\n",
    "import pandas as pd\n",
    "import h5py\n",
    "import tables\n",
    "import os\n",
    "from astropy.table import Table\n",
    "from astropy.coordinates import SkyCoord\n",
    "from tqdm import tqdm\n",
    "from astropy.io import ascii\n",
    "import os"
   ]
  },
  {
   "cell_type": "code",
   "execution_count": 2,
   "id": "b4662d4c-c755-4199-95f1-5e7967ff727e",
   "metadata": {},
   "outputs": [],
   "source": [
    "from pygadgetreader import *"
   ]
  },
  {
   "cell_type": "code",
   "execution_count": 3,
   "id": "8a37a8e7-df2e-4bcb-a968-f0b800875233",
   "metadata": {},
   "outputs": [],
   "source": [
    "import warnings\n",
    "warnings.filterwarnings(\"ignore\")"
   ]
  },
  {
   "cell_type": "code",
   "execution_count": 4,
   "id": "6eb9d017-d3eb-43c9-948d-a557e75ef069",
   "metadata": {},
   "outputs": [],
   "source": [
    "import timeit"
   ]
  },
  {
   "cell_type": "code",
   "execution_count": 5,
   "id": "6adb590b-9c55-4faf-a2f0-c931f857ed03",
   "metadata": {},
   "outputs": [],
   "source": [
    "import mpi4py as mpi"
   ]
  },
  {
   "cell_type": "code",
   "execution_count": 6,
   "id": "53d47273-c76b-42e9-8052-1a81736a729a",
   "metadata": {},
   "outputs": [],
   "source": [
    "datadir = '/global/cscratch1/sd/zzhang13/MultiDark/MDPL2_ROCKSTAR_Halos/z0p00/'"
   ]
  },
  {
   "cell_type": "code",
   "execution_count": 7,
   "id": "4b818cba-37ca-40bf-8779-6b4cb639c8a2",
   "metadata": {},
   "outputs": [],
   "source": [
    "## Import halos with mvir > 5e13\n",
    "cluster_df = pd.read_csv(datadir + 'clusters_mvir_lgt_5e13.csv')"
   ]
  },
  {
   "cell_type": "code",
   "execution_count": 8,
   "id": "9a01b8f9-c25e-4658-abac-95fe14fd0fe1",
   "metadata": {},
   "outputs": [
    {
     "data": {
      "text/plain": [
       "Index(['Unnamed: 0', 'scale', 'id', 'pid', 'mvir', 'rvir', 'x', 'y', 'z',\n",
       "       'M200b', 'M200c', 'M500c'],\n",
       "      dtype='object')"
      ]
     },
     "execution_count": 8,
     "metadata": {},
     "output_type": "execute_result"
    }
   ],
   "source": [
    "cluster_df.keys()"
   ]
  },
  {
   "cell_type": "code",
   "execution_count": 9,
   "id": "e6542bfa-64df-4c6d-a490-c0baa08c9730",
   "metadata": {},
   "outputs": [],
   "source": [
    "## Remove the unnamed columne from cluster_df\n",
    "cluster_df.drop(['Unnamed: 0'], axis=1, inplace=True)"
   ]
  },
  {
   "cell_type": "code",
   "execution_count": 10,
   "id": "1a9388bf-1a4d-4fa6-a8f9-67f7b015737b",
   "metadata": {},
   "outputs": [],
   "source": [
    "import _pickle as pickle\n",
    "## Read files\n",
    "file_num = list(range(25))\n",
    "\n",
    "def read_halo_file(datadir, num):\n",
    "    file_name = 'mdpl2_rockstar_z0p00_{}.pickle'.format(num)\n",
    "    with open(datadir+file_name, 'rb') as handle:\n",
    "        halo_df = pickle.load(handle)\n",
    "    return halo_df"
   ]
  },
  {
   "cell_type": "code",
   "execution_count": 11,
   "id": "87fcc0d9-8341-41b6-958e-b8d7e7b8185f",
   "metadata": {},
   "outputs": [
    {
     "ename": "ValueError",
     "evalue": "unsupported pickle protocol: 5",
     "output_type": "error",
     "traceback": [
      "\u001b[0;31m---------------------------------------------------------------------------\u001b[0m",
      "\u001b[0;31mValueError\u001b[0m                                Traceback (most recent call last)",
      "\u001b[0;32m/tmp/ipykernel_48550/3325285358.py\u001b[0m in \u001b[0;36m<module>\u001b[0;34m\u001b[0m\n\u001b[0;32m----> 1\u001b[0;31m \u001b[0mhalo_df\u001b[0m \u001b[0;34m=\u001b[0m  \u001b[0mread_halo_file\u001b[0m\u001b[0;34m(\u001b[0m\u001b[0mdatadir\u001b[0m\u001b[0;34m,\u001b[0m \u001b[0;36m0\u001b[0m\u001b[0;34m)\u001b[0m\u001b[0;34m\u001b[0m\u001b[0;34m\u001b[0m\u001b[0m\n\u001b[0m\u001b[1;32m      2\u001b[0m \u001b[0mlen\u001b[0m\u001b[0;34m(\u001b[0m\u001b[0mhalo_df\u001b[0m\u001b[0;34m)\u001b[0m\u001b[0;34m\u001b[0m\u001b[0;34m\u001b[0m\u001b[0m\n",
      "\u001b[0;32m/tmp/ipykernel_48550/955224296.py\u001b[0m in \u001b[0;36mread_halo_file\u001b[0;34m(datadir, num)\u001b[0m\n\u001b[1;32m      6\u001b[0m     \u001b[0mfile_name\u001b[0m \u001b[0;34m=\u001b[0m \u001b[0;34m'mdpl2_rockstar_z0p00_{}.pickle'\u001b[0m\u001b[0;34m.\u001b[0m\u001b[0mformat\u001b[0m\u001b[0;34m(\u001b[0m\u001b[0mnum\u001b[0m\u001b[0;34m)\u001b[0m\u001b[0;34m\u001b[0m\u001b[0;34m\u001b[0m\u001b[0m\n\u001b[1;32m      7\u001b[0m     \u001b[0;32mwith\u001b[0m \u001b[0mopen\u001b[0m\u001b[0;34m(\u001b[0m\u001b[0mdatadir\u001b[0m\u001b[0;34m+\u001b[0m\u001b[0mfile_name\u001b[0m\u001b[0;34m,\u001b[0m \u001b[0;34m'rb'\u001b[0m\u001b[0;34m)\u001b[0m \u001b[0;32mas\u001b[0m \u001b[0mhandle\u001b[0m\u001b[0;34m:\u001b[0m\u001b[0;34m\u001b[0m\u001b[0;34m\u001b[0m\u001b[0m\n\u001b[0;32m----> 8\u001b[0;31m         \u001b[0mhalo_df\u001b[0m \u001b[0;34m=\u001b[0m \u001b[0mpickle\u001b[0m\u001b[0;34m.\u001b[0m\u001b[0mload\u001b[0m\u001b[0;34m(\u001b[0m\u001b[0mhandle\u001b[0m\u001b[0;34m)\u001b[0m\u001b[0;34m\u001b[0m\u001b[0;34m\u001b[0m\u001b[0m\n\u001b[0m\u001b[1;32m      9\u001b[0m     \u001b[0;32mreturn\u001b[0m \u001b[0mhalo_df\u001b[0m\u001b[0;34m\u001b[0m\u001b[0;34m\u001b[0m\u001b[0m\n",
      "\u001b[0;31mValueError\u001b[0m: unsupported pickle protocol: 5"
     ]
    }
   ],
   "source": [
    "halo_df =  read_halo_file(datadir, 0)\n",
    "len(halo_df)"
   ]
  },
  {
   "cell_type": "markdown",
   "id": "01d891de-0891-46a7-a7f0-20958fb6b11e",
   "metadata": {},
   "source": [
    "## Make clusters into H5PY files "
   ]
  },
  {
   "cell_type": "code",
   "execution_count": 10,
   "id": "307a3501-4ce7-4041-aed0-b19d8c2ddb51",
   "metadata": {},
   "outputs": [],
   "source": [
    "import h5py\n",
    "from os import path"
   ]
  },
  {
   "cell_type": "code",
   "execution_count": 11,
   "id": "4b931aed-d394-4c56-affa-f36a534d7ab2",
   "metadata": {},
   "outputs": [],
   "source": [
    "filename = datadir+'clusters_multidark.hdf5'\n",
    "\n",
    "if path.exists(filename):\n",
    "    cl_h5py = h5py.File(filename,'r+')    \n",
    "\n",
    "else:\n",
    "    cl_h5py = h5py.File(filename,'w')"
   ]
  },
  {
   "cell_type": "code",
   "execution_count": 12,
   "id": "459b8a7e-7a2c-442d-b4a0-55bd7466c5a3",
   "metadata": {},
   "outputs": [
    {
     "data": {
      "text/plain": [
       "['mvir:1e+14-5e+14',\n",
       " 'mvir:1e+15-5e+15',\n",
       " 'mvir:5e+13-1e+14',\n",
       " 'mvir:5e+14-1e+15']"
      ]
     },
     "execution_count": 12,
     "metadata": {},
     "output_type": "execute_result"
    }
   ],
   "source": [
    "cl_h5py.name\n",
    "list(cl_h5py.keys())"
   ]
  },
  {
   "cell_type": "markdown",
   "id": "10b273c2-5b16-4475-8f03-ba5084a0b0e0",
   "metadata": {},
   "source": [
    "### Creating groups by MVIR mass bins"
   ]
  },
  {
   "cell_type": "code",
   "execution_count": 42,
   "id": "44e015bc-a67f-4502-abcd-7f97200e8420",
   "metadata": {},
   "outputs": [],
   "source": [
    "cl_keys = cluster_df.keys()"
   ]
  },
  {
   "cell_type": "code",
   "execution_count": 16,
   "id": "201927ab-ae9e-447d-bddf-a981e6f37f9e",
   "metadata": {},
   "outputs": [],
   "source": [
    "## Cluster binning attributes\n",
    "mvir_bins = [5e13,1e14,5e14,1e15,5e15]\n",
    "r_range = np.logspace(-1,1,20)\n",
    "cl_attrs = cluster_df.keys()"
   ]
  },
  {
   "cell_type": "code",
   "execution_count": 92,
   "id": "e7196047-826d-413b-8914-fc9380c17094",
   "metadata": {
    "tags": []
   },
   "outputs": [
    {
     "name": "stderr",
     "output_type": "stream",
     "text": [
      "100%|██████████| 4/4 [00:00<00:00, 34.03it/s]\n"
     ]
    }
   ],
   "source": [
    "from tqdm import tqdm\n",
    "\n",
    "## Find clusters in mvir bins\n",
    "for i in tqdm(range(len(mvir_bins)-1)):\n",
    "    mvir_low = mvir_bins[i]; mvir_high = mvir_bins[i+1]\n",
    "    \n",
    "    #masking\n",
    "    mask = (cluster_df.mvir >= mvir_low) & (cluster_df.mvir < mvir_high)\n",
    "    cur_df = cluster_df[mask]\n",
    "    \n",
    "    ##Make outer group\n",
    "    group_name = 'mvir:{:.1g}-{:.1g}'.format(mvir_low, mvir_high) \n",
    "    \n",
    "    ##Create new group if it doens't exist\n",
    "    if group_name not in cl_h5py:\n",
    "        cl_h5py.create_group(group_name)\n",
    "        cur_grp = cl_h5py[group_name]\n",
    "    \n",
    "        for k in cl_keys:\n",
    "            cur_grp[k] = cur_df[k].to_numpy()\n",
    "        \n",
    "        ##Add additional datasets\n",
    "        cur_grp.create_dataset('DS_dz50', (len(cur_df), len(r_range)-1))\n",
    "        cur_grp.create_dataset('DS_dz100', (len(cur_df), len(r_range)-1))\n",
    "        cur_grp.create_dataset('DS_dz200', (len(cur_df), len(r_range)-1))\n",
    "        cur_grp.create_dataset('r_range_norm', (len(cur_df), len(r_range)))"
   ]
  },
  {
   "cell_type": "code",
   "execution_count": 15,
   "id": "1e887870-663c-4b48-ab74-a1478ca4aa9b",
   "metadata": {},
   "outputs": [
    {
     "name": "stdout",
     "output_type": "stream",
     "text": [
      "mvir:5e+13-1e+14\n"
     ]
    }
   ],
   "source": [
    "mvir_bins = [5e13,1e14,5e14,1e15,5e15]\n",
    "group_name = 'mvir:{:.1g}-{:.1g}'.format(mvir_bins[0], mvir_bins[1])\n",
    "print(group_name)"
   ]
  },
  {
   "cell_type": "code",
   "execution_count": 94,
   "id": "ecb481cf-621b-49c7-bb48-f6901cd2c502",
   "metadata": {},
   "outputs": [
    {
     "name": "stdout",
     "output_type": "stream",
     "text": [
      "<KeysViewHDF5 ['DS_dz100', 'DS_dz200', 'DS_dz50', 'M200b', 'M200c', 'M500c', 'id', 'mvir', 'pid', 'r_range_norm', 'rvir', 'scale', 'x', 'y', 'z']>\n",
      "15\n",
      "71121\n"
     ]
    }
   ],
   "source": [
    "grp = cl_h5py['mvir:5e+13-1e+14'].keys()\n",
    "print(grp)\n",
    "print(len(grp))\n",
    "print(len(cluster_df))"
   ]
  },
  {
   "cell_type": "markdown",
   "id": "0bcaf75c-4f66-45a6-b762-2082d889ce30",
   "metadata": {
    "tags": []
   },
   "source": [
    "## Cluster object"
   ]
  },
  {
   "cell_type": "code",
   "execution_count": 120,
   "id": "d9093694-5086-41c6-b0e2-aada8038fe72",
   "metadata": {},
   "outputs": [],
   "source": [
    "from setup import ptcl_dir, cluster_dir\n",
    "box_length = 1000\n",
    "\n",
    "class clusters_obj(object):\n",
    "\n",
    "    '''\n",
    "    Initializes the cluster_obj for derivation of cluster properties. \n",
    "    \n",
    "    (x,y,z): The 3D coordinates of the cluster in Mpc/h\n",
    "    M: Mass of the cluster in Msun/h. Could be Mvir, M200c/M200m, M500c/M500m. \n",
    "    R: The radius of the cluster in Mpc/h to normalize. Could be R200c/R200m or R500c/R500m. \n",
    "    r_range_norm: the radii range in Mpc/h over the R_vir (or R200c/R200m) for clusters\n",
    "    dz: Projection depth in Mpc/h. \n",
    "    '''\n",
    "    def __init__(self, x, y, z, M, R, r_range_norm, dz=200):\n",
    "        r_bin_center = (r_range_norm[0:-1] + r_range_norm[1:])/2\n",
    "        \n",
    "        self.x = x; self.y = y; self.z = z\n",
    "        self.M = M\n",
    "        self.R = R\n",
    "        self.dz = dz\n",
    "        self.Sigma = np.zeros((len(x), len(r_bin_center)))     #Sigma\n",
    "        self.DS = np.zeros((len(x), len(r_bin_center)))        #Delta Sigma\n",
    "        self.r_range = r_range_norm*R[:,np.newaxis] #Broadcasted to (N,len(r_range))\n",
    "        return\n",
    "    \n",
    "    '''\n",
    "    Computes the Surface Density of all the clusters. This part make parellizable.\n",
    "    '''\n",
    "    def compute_Sigma_all(self):\n",
    "        \n",
    "        ptcl_files = glob(ptcl_dir() + 'snap_130.*')\n",
    "        for file in ptcl_files:\n",
    "            ptcl = readsnap(file, 'pos', 'dm', suppress=1, single=True)\n",
    "            \n",
    "            ##Calculate the contribution of the particle file for each cluster\n",
    "            ## This part of the code needs fixing. \n",
    "            \n",
    "            start = timer()\n",
    "            for i in range(len(self.x)):\n",
    "                #Sigma_cluster_file = self.__compute_Sigma_percluster_perfile(ptcl, self.x[i], self. y[i], self.z[i], self.r_range[i], self.dz)\n",
    "                r_range = self.r_range[i]\n",
    "                sigma = np.zeros(len(r_range)-1)\n",
    "        \n",
    "                ##Periodic boundary condition for annulus. Halos are conditions at [0,1000] Mpc boundaries.       \n",
    "                dx_sqr = np.asarray([(ptcl[:,0]-x[i])**2, (ptcl[:,0]-x[i]+box_length)**2, (ptcl[:,0]-x[i]-box_length)**2]).min(0)\n",
    "                dy_sqr = np.asarray([(ptcl[:,1]-y[i])**2, (ptcl[:,1]-y[i]+box_length)**2, (ptcl[:,1]-y[i]-box_length)**2]).min(0)\n",
    "                dz_min = np.asarray([np.abs(ptcl[:,2]-z[i]), np.abs(ptcl[:,2]-z[i]+box_length), np.abs(ptcl[:,2]-z[i]-box_length)]).min(0)\n",
    "\n",
    "                for j in range(len(r_range)-1):\n",
    "                    #radius for annulus\n",
    "                    dr = r_range[j+1] - r_range[j]\n",
    "                    r_cur = r_range[j]\n",
    "\n",
    "                    #Masking\n",
    "                    mask = dx_sqr + dy_sqr <= (r_cur+dr)**2\n",
    "                    mask &= dz_min < self.dz\n",
    "\n",
    "                    #Building an annulus\n",
    "                    annulus_df = ptcl[mask]\n",
    "\n",
    "                    #Find 2D density within the annulus\n",
    "                    area = np.pi * ((r_cur+dr)**2 - (r_cur)**2.)\n",
    "\n",
    "                    m_tot = len(annulus_df)*ptcl_mass\n",
    "\n",
    "                    #self.mass_dz50[cluster_ind] += m_tot\n",
    "                    #self.mass_dz100[cluster_ind] += m_tot\n",
    "                    #self.mass_dz200[cluster_ind] += m_tot\n",
    "                    #delta_sigma[i] = m_tot/area\n",
    "\n",
    "                    sigma[j] = m_tot/area\n",
    "                \n",
    "                self.Sigma[i] += sigma\n",
    "            end = timer()\n",
    "            print(\"Elapsed time: \", end-start)\n",
    "            \n",
    "        return\n",
    "    \n",
    "    '''\n",
    "    Internal function to compute\n",
    "    '''\n",
    "    def __compute_Sigma_percluster_perfile(self, ptcl, x, y, z, r_range, dz):\n",
    "        sigma = np.zeros(len(r_range)-1)\n",
    "        \n",
    "        ##Periodic boundary condition for annulus. Halos are conditions at [0,1000] Mpc boundaries.       \n",
    "        dx_sqr = np.asarray([(ptcl[:,0]-x)**2, (ptcl[:,0]-x+box_length)**2, (ptcl[:,0]-x-box_length)**2]).min(0)\n",
    "        dy_sqr = np.asarray([(ptcl[:,1]-y)**2, (ptcl[:,1]-y+box_length)**2, (ptcl[:,1]-y-box_length)**2]).min(0)\n",
    "        dz_min = np.asarray([np.abs(ptcl[:,2]-z), np.abs(ptcl[:,2]-z+box_length), np.abs(ptcl[:,2]-z-box_length)]).min(0)\n",
    "\n",
    "        for i in range(len(r_range)-1):\n",
    "            #radius for annulus\n",
    "            dr = r_range[i+1] - r_range[i]\n",
    "            r_cur = r_range[i]\n",
    "\n",
    "            #Masking\n",
    "            mask = dx_sqr + dy_sqr <= (r_cur+dr)**2\n",
    "            mask &= dz_min < dz\n",
    "\n",
    "            #Building an annulus\n",
    "            annulus_df = ptcl[mask]\n",
    "\n",
    "            #Find 2D density within the annulus\n",
    "            area = np.pi * ((r_cur+dr)**2 - (r_cur)**2.)\n",
    "            \n",
    "            m_tot = len(annulus_df)*ptcl_mass\n",
    "\n",
    "            #self.mass_dz50[cluster_ind] += m_tot\n",
    "            #self.mass_dz100[cluster_ind] += m_tot\n",
    "            #self.mass_dz200[cluster_ind] += m_tot\n",
    "            #delta_sigma[i] = m_tot/area\n",
    "    \n",
    "            sigma[i] = m_tot/area\n",
    "        return sigma\n",
    "    \n",
    "    def get_Sigma(self):\n",
    "        return self.Sigma\n",
    "    "
   ]
  },
  {
   "cell_type": "markdown",
   "id": "3d590c50-e554-4868-b34f-dc6f7dbebc1a",
   "metadata": {},
   "source": [
    "## Compute DS"
   ]
  },
  {
   "cell_type": "code",
   "execution_count": 2,
   "id": "fe620ae8-8428-4006-a8cc-8a7e71ede758",
   "metadata": {},
   "outputs": [],
   "source": [
    "import mpi4py\n",
    "from mpi4py import MPI\n",
    "import numpy as np\n",
    "\n",
    "comm = MPI.COMM_WORLD\n",
    "rank = comm.Get_rank()\n",
    "size = comm.Get_size()"
   ]
  },
  {
   "cell_type": "code",
   "execution_count": null,
   "id": "858319e8-48a7-4a70-905f-c3e9802a28ee",
   "metadata": {},
   "outputs": [],
   "source": [
    "ptcl_files = glob(ptcl_dir() + 'snap_130.*')\n",
    "        for file in ptcl_files:\n",
    "            ptcl = readsnap(file, 'pos', 'dm', suppress=1, single=True)\n",
    "            \n",
    "            ##Calculate the contribution of the particle file for each cluster\n",
    "            ## This part of the code needs fixing. \n",
    "            \n",
    "            start = timer()\n",
    "            for i in range(len(self.x)):\n",
    "                #Sigma_cluster_file = self.__compute_Sigma_percluster_perfile(ptcl, self.x[i], self. y[i], self.z[i], self.r_range[i], self.dz)\n",
    "                r_range = self.r_range[i]\n",
    "                sigma = np.zeros(len(r_range)-1)\n",
    "        \n",
    "                ##Periodic boundary condition for annulus. Halos are conditions at [0,1000] Mpc boundaries.       \n",
    "                dx_sqr = np.asarray([(ptcl[:,0]-x[i])**2, (ptcl[:,0]-x[i]+box_length)**2, (ptcl[:,0]-x[i]-box_length)**2]).min(0)\n",
    "                dy_sqr = np.asarray([(ptcl[:,1]-y[i])**2, (ptcl[:,1]-y[i]+box_length)**2, (ptcl[:,1]-y[i]-box_length)**2]).min(0)\n",
    "                dz_min = np.asarray([np.abs(ptcl[:,2]-z[i]), np.abs(ptcl[:,2]-z[i]+box_length), np.abs(ptcl[:,2]-z[i]-box_length)]).min(0)\n",
    "\n",
    "                for j in range(len(r_range)-1):\n",
    "                    #radius for annulus\n",
    "                    dr = r_range[j+1] - r_range[j]\n",
    "                    r_cur = r_range[j]\n",
    "\n",
    "                    #Masking\n",
    "                    mask = dx_sqr + dy_sqr <= (r_cur+dr)**2\n",
    "                    mask &= dz_min < self.dz\n",
    "\n",
    "                    #Building an annulus\n",
    "                    annulus_df = ptcl[mask]\n",
    "\n",
    "                    #Find 2D density within the annulus\n",
    "                    area = np.pi * ((r_cur+dr)**2 - (r_cur)**2.)\n",
    "\n",
    "                    m_tot = len(annulus_df)*ptcl_mass\n",
    "\n",
    "                    #self.mass_dz50[cluster_ind] += m_tot\n",
    "                    #self.mass_dz100[cluster_ind] += m_tot\n",
    "                    #self.mass_dz200[cluster_ind] += m_tot\n",
    "                    #delta_sigma[i] = m_tot/area\n",
    "\n",
    "                    sigma[j] = m_tot/area\n",
    "                \n",
    "                self.Sigma[i] += sigma\n",
    "            end = timer()\n",
    "            print(\"Elapsed time: \", end-start)"
   ]
  },
  {
   "cell_type": "code",
   "execution_count": 121,
   "id": "9454c223-a09e-42db-8041-28d27a9fd963",
   "metadata": {},
   "outputs": [
    {
     "data": {
      "text/plain": [
       "147.01381"
      ]
     },
     "execution_count": 121,
     "metadata": {},
     "output_type": "execute_result"
    }
   ],
   "source": [
    "mvir_low = mvir_bins[0]; mvir_high = mvir_bins[1]\n",
    "mask = (cluster_df.mvir >= mvir_low) & (cluster_df.mvir < mvir_high)\n",
    "cur_df = cluster_df[mask]\n",
    "cur_df = cur_df.iloc[:sample_num] ##Get the first 100 clusters\n",
    "\n",
    "cur_df.iloc[0]['x']"
   ]
  },
  {
   "cell_type": "code",
   "execution_count": null,
   "id": "1844e8ab-c67f-481d-8b20-c21f20748a20",
   "metadata": {},
   "outputs": [],
   "source": [
    "sample_num=50\n",
    "\n",
    "for i in tqdm(range(len(mvir_bins)-1)):\n",
    "    mvir_low = mvir_bins[i]; mvir_high = mvir_bins[i+1]\n",
    "    \n",
    "    #masking\n",
    "    mask = (cluster_df.mvir >= mvir_low) & (cluster_df.mvir < mvir_high)\n",
    "    cur_df = cluster_df[mask]\n",
    "    cur_df = cur_df.head(sample_num) ##Get the first 100 clusters\n",
    "    \n",
    "    group_name = 'mvir:{:.1g}-{:.1g}'.format(mvir_low, mvir_high)\n",
    "    cur_grp = cl_h5py[group_name]\n",
    "    \n",
    "    #Build cluster object and compute DS\n",
    "    cl_obj = clusters(cur_df, r_range)\n",
    "    #cl_obj.compute_DS_dz50()\n",
    "    #cl_obj.compute_DS_dz100()\n",
    "    cl_obj.compute_DS_dz200()\n",
    "    \n",
    "    #Get DS\n",
    "    #cur_grp['DS_dz50'][:sample_num] = cl_obj.get_DS_dz50()\n",
    "    #cur_grp['DS_dz100'][:sample_num] = cl_obj.get_DS_dz100()\n",
    "    cur_grp['DS_dz200'][:sample_num] = cl_obj.get_DS_dz200()\n",
    "    \n",
    "    #Get r_norm\n",
    "    cur_grp['r_range_norm'][:sample_num] = cl_obj.get_r_range_norm()"
   ]
  },
  {
   "cell_type": "code",
   "execution_count": 17,
   "id": "263ad343-3bc7-4381-beef-057645520f6d",
   "metadata": {},
   "outputs": [
    {
     "name": "stdout",
     "output_type": "stream",
     "text": [
      "mvir:1e+14-5e+14\n",
      "mvir:1e+15-5e+15\n",
      "mvir:5e+13-1e+14\n",
      "mvir:5e+14-1e+15\n"
     ]
    },
    {
     "data": {
      "image/png": "[encoded data removed]",
      "text/plain": [
       "<Figure size 640x480 with 1 Axes>"
      ]
     },
     "metadata": {},
     "output_type": "display_data"
    }
   ],
   "source": [
    "## Computing errors for each of the data points. \n",
    "sample_num = 50\n",
    "## Plot\n",
    "for grp_name in cl_h5py:\n",
    "    print(grp_name)\n",
    "    grp = cl_h5py[grp_name]\n",
    "    \n",
    "    error = np.std(grp['DS_dz200'][:sample_num], axis=0)\n",
    "    plt.errorbar(r_range[:-1], np.mean(grp['DS_dz200'][:sample_num], axis=0), yerr=error, label=grp_name) \n",
    "    \n",
    "plt.yscale('log'); plt.xscale('log')\n",
    "plt.xlabel('R/Rvir (Mpc/h)')\n",
    "plt.ylabel(r'$\\Delta\\Sigma (M_{\\odot}/Mpc^2)$ ')\n",
    "plt.legend()\n",
    "plt.show()"
   ]
  },
  {
   "cell_type": "code",
   "execution_count": 24,
   "id": "44c3804b-e011-42ab-867b-dabe53e317cd",
   "metadata": {},
   "outputs": [
    {
     "data": {
      "text/plain": [
       "array([[ 9.8829957e+15,  6.1000776e+15,  3.7638688e+15, ...,\n",
       "         3.4013606e+13,  3.3345539e+13,  3.3145752e+13],\n",
       "       [ 9.8025810e+15,  6.0377888e+15,  3.7198889e+15, ...,\n",
       "         3.1385631e+13,  3.1492885e+13,  3.4325137e+13],\n",
       "       [ 1.1378855e+16,  7.0147682e+15,  4.3531222e+15, ...,\n",
       "         6.6189078e+13,  6.4305387e+13,  6.2390738e+13],\n",
       "       ...,\n",
       "       [ 9.3716480e+09,  2.2621161e-41,  1.4135596e+15, ...,\n",
       "         1.4816978e-16,  4.7285415e-41, -1.1724099e-31],\n",
       "       [ 3.7937353e-41, -3.6332500e+03,  3.6061015e-41, ...,\n",
       "         3.6564081e-41, -1.6257601e+38,  2.6027718e-41],\n",
       "       [-1.1145216e+07,  2.8430945e-41, -3.7035264e-11, ...,\n",
       "        -1.4551349e+14,  2.6453712e-41, -5.5732650e-18]], dtype=float32)"
      ]
     },
     "execution_count": 24,
     "metadata": {},
     "output_type": "execute_result"
    }
   ],
   "source": [
    "grp['DS_dz200'].value"
   ]
  },
  {
   "cell_type": "markdown",
   "id": "d31d9a06-e467-434d-8c97-c3a12d1720b7",
   "metadata": {},
   "source": [
    "## Estimating the uncertainty in the covariance matrix. "
   ]
  },
  {
   "cell_type": "code",
   "execution_count": 4,
   "id": "f6d8ca7e-91df-4d09-a2a8-efdd7c7db4ac",
   "metadata": {},
   "outputs": [
    {
     "name": "stdout",
     "output_type": "stream",
     "text": [
      "['/global/u1/z/zzhang13/BaryonPasting/CorrelatedStructures/multiDark/compute/delta_sigma', '', '/opt/mods/lib/python3.6/site-packages', '/opt/ovis/lib/python3.6/site-packages', '/global/homes/z/zzhang13/.conda/envs/myLSST/lib/python37.zip', '/global/homes/z/zzhang13/.conda/envs/myLSST/lib/python3.7', '/global/homes/z/zzhang13/.conda/envs/myLSST/lib/python3.7/lib-dynload', '/global/homes/z/zzhang13/.conda/envs/myLSST/lib/python3.7/site-packages', '/global/homes/z/zzhang13/.conda/envs/myLSST/lib/python3.7/site-packages/clevar-0.8.4-py3.7.egg', '/global/homes/z/zzhang13/.conda/envs/myLSST/lib/python3.7/site-packages/healpy-1.15.0-py3.7-linux-x86_64.egg', '/global/homes/z/zzhang13/.conda/envs/myLSST/lib/python3.7/site-packages/clmm-1.1.2-py3.7.egg', '/global/homes/z/zzhang13/.conda/envs/myLSST/lib/python3.7/site-packages/pyGadgetReader-2.6-py3.7.egg', '/global/homes/z/zzhang13/.conda/envs/myLSST/lib/python3.7/site-packages/IPython/extensions', '/global/u1/z/zzhang13/.ipython', '/', '/', '/global/u1/z/zzhang13', '/global/u1/z/zzhang13']\n"
     ]
    }
   ],
   "source": [
    "import sys\n",
    "sys.path.append('/global/u1/z/zzhang13')\n",
    "print(sys.path)\n",
    "from kllr.kllr.regression_model import *\n",
    "from kllr.kllr.regression_plotting import *"
   ]
  },
  {
   "cell_type": "code",
   "execution_count": 54,
   "id": "1ea97cda-ba49-4d58-aa7b-0747d52c2874",
   "metadata": {},
   "outputs": [],
   "source": [
    "def calc_bootstrap_cov_DS_radii(y, nBootstrap=50):     \n",
    "    output_Data = {}\n",
    "    \n",
    "    cov_bins = len(y[0,:])\n",
    "    covariance = np.zeros((cov_bins, cov_bins, nBootstrap))\n",
    "    correlation = np.zeros((cov_bins, cov_bins, nBootstrap))\n",
    "    \n",
    "    for i in range(cov_bins):\n",
    "        y_i = y[:,i]\n",
    "        for j in range(cov_bins):\n",
    "            y_j = y[:,j]\n",
    "    \n",
    "            for k in range(nBootstrap):\n",
    "                #First \"bootstrap\" is always using unsampled data\n",
    "                if k == 0:\n",
    "                    rand_ind = np.ones(y_i.size).astype(bool)\n",
    "                else:\n",
    "                    rand_ind = np.random.randint(0, y_i.size, y_i.size)\n",
    "\n",
    "                # Store the shuffled variables so you don't have to\n",
    "                # compute the shuffle multiple times\n",
    "                y_i_rand = y_i[rand_ind]\n",
    "                y_j_rand = y_j[rand_ind]\n",
    "\n",
    "                #Compute the covariance\n",
    "                cov = np.cov(y_i_rand, y_j_rand)\n",
    "                covariance[i,j,k] = cov[1, 0]     \n",
    "                correlation[i,j,k] = cov[1, 0]/np.sqrt(cov[0,0] * cov[1,1])    \n",
    "    \n",
    "    output_Data['covariance'] = covariance\n",
    "    output_Data['correlation'] = correlation\n",
    "    return output_Data"
   ]
  },
  {
   "cell_type": "code",
   "execution_count": 67,
   "id": "63250ec0-9511-4d37-8e14-5cf5a816bb75",
   "metadata": {},
   "outputs": [],
   "source": [
    "output = calc_bootstrap_cov_DS_radii(grp['DS_dz200'][:sample_num], nBootstrap=100)"
   ]
  },
  {
   "cell_type": "code",
   "execution_count": 68,
   "id": "92ea0edd-fcee-485c-a5bc-743d3b2de1b0",
   "metadata": {},
   "outputs": [],
   "source": [
    "covariance = output['covariance']\n",
    "correlation = output['correlation']"
   ]
  },
  {
   "cell_type": "code",
   "execution_count": 69,
   "id": "aabaa6c5-1321-4712-a3c1-1c1d84e6b3a1",
   "metadata": {},
   "outputs": [
    {
     "data": {
      "image/png": "[encoded data removed]",
      "text/plain": [
       "<Figure size 640x480 with 2 Axes>"
      ]
     },
     "metadata": {},
     "output_type": "display_data"
    }
   ],
   "source": [
    "plt.imshow(correlation[:,:,0])\n",
    "plt.colorbar()\n",
    "plt.show()"
   ]
  },
  {
   "cell_type": "code",
   "execution_count": 70,
   "id": "1598eb3f-72ae-4a76-bef4-860ef400129c",
   "metadata": {},
   "outputs": [
    {
     "data": {
      "image/png": "[encoded data removed]",
      "text/plain": [
       "<Figure size 640x480 with 2 Axes>"
      ]
     },
     "metadata": {},
     "output_type": "display_data"
    }
   ],
   "source": [
    "plt.imshow(np.log10(covariance[:,:,0]))\n",
    "plt.colorbar()\n",
    "plt.show()"
   ]
  },
  {
   "cell_type": "code",
   "execution_count": 71,
   "id": "ca176b4e-7944-489f-8df7-98864e415b05",
   "metadata": {},
   "outputs": [],
   "source": [
    "err = np.std(covariance,axis=2)\n",
    "mean = np.mean(covariance,axis=2)\n",
    "rel_err = err/mean"
   ]
  },
  {
   "cell_type": "code",
   "execution_count": 72,
   "id": "ee6757a7-44ad-4a40-9cee-f2fd90933d57",
   "metadata": {},
   "outputs": [
    {
     "data": {
      "image/png": "[encoded data removed]",
      "text/plain": [
       "<Figure size 640x480 with 2 Axes>"
      ]
     },
     "metadata": {},
     "output_type": "display_data"
    }
   ],
   "source": [
    "plt.imshow(np.log10(err))\n",
    "plt.colorbar()\n",
    "plt.show()"
   ]
  },
  {
   "cell_type": "code",
   "execution_count": 74,
   "id": "1a3fbf6b-b252-4b96-8af8-9edc3f44415c",
   "metadata": {},
   "outputs": [
    {
     "data": {
      "image/png": "[encoded data removed]",
      "text/plain": [
       "<Figure size 640x480 with 2 Axes>"
      ]
     },
     "metadata": {},
     "output_type": "display_data"
    }
   ],
   "source": [
    "plt.imshow(rel_err)\n",
    "plt.colorbar()\n",
    "plt.show()"
   ]
  },
  {
   "cell_type": "code",
   "execution_count": 75,
   "id": "baad41ef-c790-429f-aafa-acb5238cff26",
   "metadata": {},
   "outputs": [
    {
     "name": "stdout",
     "output_type": "stream",
     "text": [
      "0.18118011163886794\n",
      "0.16424757612504073\n",
      "0.18340791799316222\n",
      "0.2800082863134723\n",
      "0.29465066557483205\n",
      "0.22649620079901656\n",
      "0.1803615669495605\n",
      "0.8846881547613633\n",
      "0.4693134448727031\n",
      "0.3857322125813914\n",
      "0.37816108693785383\n",
      "0.2743924568922681\n",
      "0.1966288769197371\n",
      "0.16486991184012403\n",
      "0.1640246935698909\n",
      "0.1381648243746476\n",
      "0.1467124074831585\n",
      "0.1472814510304195\n",
      "0.1565389807131209\n"
     ]
    }
   ],
   "source": [
    "for i in range(len(rel_err)):\n",
    "    print(rel_err[i,i])"
   ]
  },
  {
   "cell_type": "code",
   "execution_count": null,
   "id": "c69a32a9-29e6-4dda-a5fe-7a415dff938c",
   "metadata": {},
   "outputs": [],
   "source": []
  }
 ],
 "metadata": {
  "kernelspec": {
   "display_name": "myLSST",
   "language": "python",
   "name": "mylsst"
  },
  "language_info": {
   "codemirror_mode": {
    "name": "ipython",
    "version": 3
   },
   "file_extension": ".py",
   "mimetype": "text/x-python",
   "name": "python",
   "nbconvert_exporter": "python",
   "pygments_lexer": "ipython3",
   "version": "3.7.12"
  }
 },
 "nbformat": 4,
 "nbformat_minor": 5
}
