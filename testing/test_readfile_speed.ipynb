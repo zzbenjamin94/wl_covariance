{
 "cells": [
  {
   "cell_type": "code",
   "execution_count": 5,
   "id": "bd29fd74-84f9-4a4a-94e3-be5eadbf9b10",
   "metadata": {},
   "outputs": [],
   "source": [
    "## testing multidark\n",
    "import numpy as np\n",
    "import matplotlib.pyplot as plt\n",
    "import seaborn as sns\n",
    "from scipy.stats import kde\n",
    "import h5py\n",
    "#import setup\n",
    "import astropy.io.fits as fits\n",
    "import csv\n",
    "import pandas as pd\n",
    "import h5py\n",
    "#import h5py_aux\n",
    "import tables\n",
    "import pickle\n",
    "import os\n",
    "from astropy.table import Table\n",
    "from astropy.coordinates import SkyCoord\n",
    "import tqdm\n",
    "from astropy.io import ascii"
   ]
  },
  {
   "cell_type": "code",
   "execution_count": 6,
   "id": "6d878d0d-206f-4db5-8db5-a5db22e4f92a",
   "metadata": {},
   "outputs": [],
   "source": [
    "import time"
   ]
  },
  {
   "cell_type": "markdown",
   "id": "48776cf6-6239-40a2-bb4b-43bb74c5e0f7",
   "metadata": {
    "tags": []
   },
   "source": [
    "## Running a speed test for I/O and parallelization"
   ]
  },
  {
   "cell_type": "markdown",
   "id": "e14cf37d-4887-4953-b8eb-df1c35a80d47",
   "metadata": {},
   "source": [
    "### Consider storing the files in different formats. \n",
    "* H5PY\n",
    "* .list\n",
    "* .csv\n",
    "* FITS\n",
    "* pickled dataframe"
   ]
  },
  {
   "cell_type": "code",
   "execution_count": 7,
   "id": "5c4ebc46-294e-4c61-8927-aa4427375b9c",
   "metadata": {},
   "outputs": [
    {
     "name": "stdout",
     "output_type": "stream",
     "text": [
      "/global/cscratch1/sd/zzhang13/MultiDark/z0p00/z0p00/\n",
      "/global/cscratch1/sd/zzhang13/MultiDark/z0p00/mdpl2_rockstar_z0p00_25.list\n"
     ]
    }
   ],
   "source": [
    "##Path to Scratch space\n",
    "datadir = '/global/cscratch1/sd/zzhang13/MultiDark/z0p00/'\n",
    "filename = 'mdpl2_rockstar_z0p00_25.list'\n",
    "outputdir = datadir+ 'z0p00/'\n",
    "print(outputdir)\n",
    "print(datadir+filename)"
   ]
  },
  {
   "cell_type": "raw",
   "id": "7bb9c63d-c029-4ebd-b7e4-a89fca815ec8",
   "metadata": {},
   "source": [
    "NUM_OF_LINES=5e6\n",
    "\n",
    "with open(datadir+filename) as fin:\n",
    "    fout = open(outputdir+\"mdpl2_rockstar_z0p00_0.list\",\"w\")\n",
    "    for i,line in enumerate(fin):\n",
    "        if not line.startswith('#'):\n",
    "            fout.write(line)\n",
    "        if (i+1)%NUM_OF_LINES == 0:\n",
    "            fout.close()\n",
    "            print(\"completed file_number %d\"%(i/NUM_OF_LINES))\n",
    "            fout = open(outputdir+\"mdpl2_rockstar_z0p00_%d.list\"%(i/NUM_OF_LINES+1),\"w\")\n",
    "             \n",
    "    fout.close()"
   ]
  },
  {
   "cell_type": "code",
   "execution_count": 8,
   "id": "835f2267-c73c-417a-a330-1b9491641ec0",
   "metadata": {},
   "outputs": [],
   "source": [
    "## Testing the speed of importing different files. \n",
    "# Make the file a dataframe. A pickle then see how fast it reads. "
   ]
  },
  {
   "cell_type": "code",
   "execution_count": 9,
   "id": "984d2915-50b6-45f1-8640-41153a601157",
   "metadata": {},
   "outputs": [],
   "source": [
    "col_dict = {0:'scale', 1:'id', 3:'desc_id', 4:'num_prog', 5:'pid', 6:'upid', 10:'mvir', 11:'rvir', 17:'x', 18:'y', 19:'z', \\\n",
    "            27:'Breadth_first_ID', 28:'Depth_first_ID', 39:'M200b', 40:'M200c', 41:'M500c'}"
   ]
  },
  {
   "cell_type": "code",
   "execution_count": 10,
   "id": "9d760bb4-f68b-48a0-9dde-775e958f5250",
   "metadata": {},
   "outputs": [
    {
     "name": "stdout",
     "output_type": "stream",
     "text": [
      "16.834872722625732\n"
     ]
    }
   ],
   "source": [
    "start = time.time()\n",
    "halo_df = pd.read_table(datadir+filename, comment='#', sep='\\s+', encoding='utf-8', names=list(col_dict.values()), usecols=list(col_dict.keys()))\n",
    "\n",
    "#Masking\n",
    "mask = ~(halo_df[['mvir','M200b', 'M200c', 'M500c']] == 0).any(axis=1) ##Mask non-zero\n",
    "mask &= (halo_df.pid == -1)\n",
    "\n",
    "halo_df = halo_df[mask]\n",
    "\n",
    "end = time.time()\n",
    "print(end - start)"
   ]
  },
  {
   "cell_type": "code",
   "execution_count": 19,
   "id": "3fd69914-5d06-4d23-b682-58eb681c6b54",
   "metadata": {},
   "outputs": [],
   "source": [
    "## Storing the halo file as a pickle\n",
    "import _pickle as cPickle\n",
    "\n",
    "with open('test_file.pickle', 'wb') as handle:\n",
    "    pickle.dump(halo_df, handle, protocol=pickle.HIGHEST_PROTOCOL)"
   ]
  },
  {
   "cell_type": "code",
   "execution_count": 14,
   "id": "913d318d-4d76-493b-9e27-61d5886e8ff4",
   "metadata": {},
   "outputs": [
    {
     "name": "stdout",
     "output_type": "stream",
     "text": [
      "None\n"
     ]
    }
   ],
   "source": [
    "## Storing the halo file as a JSON\n",
    "import json\n",
    "# Convert DataFrame to JSON\n",
    "data = halo_df.to_json('test_file.json', orient='index')\n"
   ]
  },
  {
   "cell_type": "code",
   "execution_count": 15,
   "id": "67e9e37a-f92b-4762-b7d3-5fbb4d69e859",
   "metadata": {},
   "outputs": [],
   "source": [
    "## Read from files"
   ]
  },
  {
   "cell_type": "code",
   "execution_count": 24,
   "id": "b4a4f188-9a39-498a-b365-bb8b56681d99",
   "metadata": {},
   "outputs": [
    {
     "name": "stdout",
     "output_type": "stream",
     "text": [
      "0.3406493663787842\n"
     ]
    }
   ],
   "source": [
    "start = start = time.time()\n",
    "\n",
    "with open('test_file.pickle', 'rb') as handle:\n",
    "    a = pickle.load(handle)\n",
    "    \n",
    "end = time.time()\n",
    "print(end- start)"
   ]
  },
  {
   "cell_type": "code",
   "execution_count": 22,
   "id": "2b088335-5d4f-404c-a8fc-d5ad67aedb47",
   "metadata": {},
   "outputs": [
    {
     "data": {
      "text/html": [
       "<div>\n",
       "<style scoped>\n",
       "    .dataframe tbody tr th:only-of-type {\n",
       "        vertical-align: middle;\n",
       "    }\n",
       "\n",
       "    .dataframe tbody tr th {\n",
       "        vertical-align: top;\n",
       "    }\n",
       "\n",
       "    .dataframe thead th {\n",
       "        text-align: right;\n",
       "    }\n",
       "</style>\n",
       "<table border=\"1\" class=\"dataframe\">\n",
       "  <thead>\n",
       "    <tr style=\"text-align: right;\">\n",
       "      <th></th>\n",
       "      <th>scale</th>\n",
       "      <th>id</th>\n",
       "      <th>desc_id</th>\n",
       "      <th>num_prog</th>\n",
       "      <th>pid</th>\n",
       "      <th>upid</th>\n",
       "      <th>mvir</th>\n",
       "      <th>rvir</th>\n",
       "      <th>x</th>\n",
       "      <th>y</th>\n",
       "      <th>z</th>\n",
       "      <th>Breadth_first_ID</th>\n",
       "      <th>Depth_first_ID</th>\n",
       "      <th>M200b</th>\n",
       "      <th>M200c</th>\n",
       "      <th>M500c</th>\n",
       "    </tr>\n",
       "  </thead>\n",
       "  <tbody>\n",
       "    <tr>\n",
       "      <th>0</th>\n",
       "      <td>1.0</td>\n",
       "      <td>12696469457</td>\n",
       "      <td>-1</td>\n",
       "      <td>1</td>\n",
       "      <td>-1</td>\n",
       "      <td>-1</td>\n",
       "      <td>4.516200e+10</td>\n",
       "      <td>72.460999</td>\n",
       "      <td>927.11414</td>\n",
       "      <td>886.37781</td>\n",
       "      <td>69.22025</td>\n",
       "      <td>8257592485</td>\n",
       "      <td>8257592485</td>\n",
       "      <td>51184000000</td>\n",
       "      <td>37635000000</td>\n",
       "      <td>15054000000</td>\n",
       "    </tr>\n",
       "    <tr>\n",
       "      <th>1</th>\n",
       "      <td>1.0</td>\n",
       "      <td>12696469637</td>\n",
       "      <td>-1</td>\n",
       "      <td>1</td>\n",
       "      <td>-1</td>\n",
       "      <td>-1</td>\n",
       "      <td>4.516200e+10</td>\n",
       "      <td>72.460999</td>\n",
       "      <td>927.22327</td>\n",
       "      <td>875.99756</td>\n",
       "      <td>95.23396</td>\n",
       "      <td>8257592881</td>\n",
       "      <td>8257592881</td>\n",
       "      <td>57206000000</td>\n",
       "      <td>42151000000</td>\n",
       "      <td>28603000000</td>\n",
       "    </tr>\n",
       "    <tr>\n",
       "      <th>2</th>\n",
       "      <td>1.0</td>\n",
       "      <td>12696469691</td>\n",
       "      <td>-1</td>\n",
       "      <td>1</td>\n",
       "      <td>-1</td>\n",
       "      <td>-1</td>\n",
       "      <td>4.516200e+10</td>\n",
       "      <td>72.460999</td>\n",
       "      <td>930.71973</td>\n",
       "      <td>893.91699</td>\n",
       "      <td>69.11779</td>\n",
       "      <td>8257593128</td>\n",
       "      <td>8257593128</td>\n",
       "      <td>52689000000</td>\n",
       "      <td>40646000000</td>\n",
       "      <td>37635000000</td>\n",
       "    </tr>\n",
       "    <tr>\n",
       "      <th>3</th>\n",
       "      <td>1.0</td>\n",
       "      <td>12696469698</td>\n",
       "      <td>-1</td>\n",
       "      <td>1</td>\n",
       "      <td>-1</td>\n",
       "      <td>-1</td>\n",
       "      <td>4.516200e+10</td>\n",
       "      <td>72.460999</td>\n",
       "      <td>916.72882</td>\n",
       "      <td>889.15527</td>\n",
       "      <td>86.82028</td>\n",
       "      <td>8257593176</td>\n",
       "      <td>8257593176</td>\n",
       "      <td>46668000000</td>\n",
       "      <td>22581000000</td>\n",
       "      <td>9032500000</td>\n",
       "    </tr>\n",
       "    <tr>\n",
       "      <th>4</th>\n",
       "      <td>1.0</td>\n",
       "      <td>12696470176</td>\n",
       "      <td>-1</td>\n",
       "      <td>1</td>\n",
       "      <td>-1</td>\n",
       "      <td>-1</td>\n",
       "      <td>4.516200e+10</td>\n",
       "      <td>72.460999</td>\n",
       "      <td>929.67413</td>\n",
       "      <td>872.45435</td>\n",
       "      <td>62.90503</td>\n",
       "      <td>8257594197</td>\n",
       "      <td>8257594197</td>\n",
       "      <td>46668000000</td>\n",
       "      <td>37635000000</td>\n",
       "      <td>28603000000</td>\n",
       "    </tr>\n",
       "    <tr>\n",
       "      <th>...</th>\n",
       "      <td>...</td>\n",
       "      <td>...</td>\n",
       "      <td>...</td>\n",
       "      <td>...</td>\n",
       "      <td>...</td>\n",
       "      <td>...</td>\n",
       "      <td>...</td>\n",
       "      <td>...</td>\n",
       "      <td>...</td>\n",
       "      <td>...</td>\n",
       "      <td>...</td>\n",
       "      <td>...</td>\n",
       "      <td>...</td>\n",
       "      <td>...</td>\n",
       "      <td>...</td>\n",
       "      <td>...</td>\n",
       "    </tr>\n",
       "    <tr>\n",
       "      <th>2388197</th>\n",
       "      <td>1.0</td>\n",
       "      <td>12706613698</td>\n",
       "      <td>-1</td>\n",
       "      <td>1</td>\n",
       "      <td>-1</td>\n",
       "      <td>-1</td>\n",
       "      <td>3.010800e+09</td>\n",
       "      <td>29.382000</td>\n",
       "      <td>946.57672</td>\n",
       "      <td>961.71594</td>\n",
       "      <td>976.55042</td>\n",
       "      <td>10134789166</td>\n",
       "      <td>10134789166</td>\n",
       "      <td>3010800000</td>\n",
       "      <td>3010800000</td>\n",
       "      <td>1505400000</td>\n",
       "    </tr>\n",
       "    <tr>\n",
       "      <th>2388198</th>\n",
       "      <td>1.0</td>\n",
       "      <td>12706613779</td>\n",
       "      <td>-1</td>\n",
       "      <td>1</td>\n",
       "      <td>-1</td>\n",
       "      <td>-1</td>\n",
       "      <td>3.010800e+09</td>\n",
       "      <td>29.382000</td>\n",
       "      <td>996.28320</td>\n",
       "      <td>986.23865</td>\n",
       "      <td>990.82837</td>\n",
       "      <td>10134789171</td>\n",
       "      <td>10134789171</td>\n",
       "      <td>21076000000</td>\n",
       "      <td>3010800000</td>\n",
       "      <td>1505400000</td>\n",
       "    </tr>\n",
       "    <tr>\n",
       "      <th>2388199</th>\n",
       "      <td>1.0</td>\n",
       "      <td>12706613796</td>\n",
       "      <td>-1</td>\n",
       "      <td>1</td>\n",
       "      <td>-1</td>\n",
       "      <td>-1</td>\n",
       "      <td>3.010800e+09</td>\n",
       "      <td>29.382000</td>\n",
       "      <td>989.24725</td>\n",
       "      <td>970.77338</td>\n",
       "      <td>989.12335</td>\n",
       "      <td>10134789185</td>\n",
       "      <td>10134789185</td>\n",
       "      <td>16560000000</td>\n",
       "      <td>3010800000</td>\n",
       "      <td>3010800000</td>\n",
       "    </tr>\n",
       "    <tr>\n",
       "      <th>2388214</th>\n",
       "      <td>1.0</td>\n",
       "      <td>12706617625</td>\n",
       "      <td>-1</td>\n",
       "      <td>1</td>\n",
       "      <td>-1</td>\n",
       "      <td>-1</td>\n",
       "      <td>3.010800e+09</td>\n",
       "      <td>29.382000</td>\n",
       "      <td>947.82330</td>\n",
       "      <td>959.62164</td>\n",
       "      <td>973.51508</td>\n",
       "      <td>10134789395</td>\n",
       "      <td>10134789395</td>\n",
       "      <td>10538000000</td>\n",
       "      <td>3010800000</td>\n",
       "      <td>3010800000</td>\n",
       "    </tr>\n",
       "    <tr>\n",
       "      <th>2388222</th>\n",
       "      <td>1.0</td>\n",
       "      <td>12706620121</td>\n",
       "      <td>-1</td>\n",
       "      <td>1</td>\n",
       "      <td>-1</td>\n",
       "      <td>-1</td>\n",
       "      <td>3.010800e+09</td>\n",
       "      <td>29.382000</td>\n",
       "      <td>943.62366</td>\n",
       "      <td>998.52893</td>\n",
       "      <td>973.28613</td>\n",
       "      <td>10134789536</td>\n",
       "      <td>10134789536</td>\n",
       "      <td>3010800000</td>\n",
       "      <td>3010800000</td>\n",
       "      <td>3010800000</td>\n",
       "    </tr>\n",
       "  </tbody>\n",
       "</table>\n",
       "<p>1962492 rows × 16 columns</p>\n",
       "</div>"
      ],
      "text/plain": [
       "         scale           id  desc_id  num_prog  pid  upid          mvir  \\\n",
       "0          1.0  12696469457       -1         1   -1    -1  4.516200e+10   \n",
       "1          1.0  12696469637       -1         1   -1    -1  4.516200e+10   \n",
       "2          1.0  12696469691       -1         1   -1    -1  4.516200e+10   \n",
       "3          1.0  12696469698       -1         1   -1    -1  4.516200e+10   \n",
       "4          1.0  12696470176       -1         1   -1    -1  4.516200e+10   \n",
       "...        ...          ...      ...       ...  ...   ...           ...   \n",
       "2388197    1.0  12706613698       -1         1   -1    -1  3.010800e+09   \n",
       "2388198    1.0  12706613779       -1         1   -1    -1  3.010800e+09   \n",
       "2388199    1.0  12706613796       -1         1   -1    -1  3.010800e+09   \n",
       "2388214    1.0  12706617625       -1         1   -1    -1  3.010800e+09   \n",
       "2388222    1.0  12706620121       -1         1   -1    -1  3.010800e+09   \n",
       "\n",
       "              rvir          x          y          z  Breadth_first_ID  \\\n",
       "0        72.460999  927.11414  886.37781   69.22025        8257592485   \n",
       "1        72.460999  927.22327  875.99756   95.23396        8257592881   \n",
       "2        72.460999  930.71973  893.91699   69.11779        8257593128   \n",
       "3        72.460999  916.72882  889.15527   86.82028        8257593176   \n",
       "4        72.460999  929.67413  872.45435   62.90503        8257594197   \n",
       "...            ...        ...        ...        ...               ...   \n",
       "2388197  29.382000  946.57672  961.71594  976.55042       10134789166   \n",
       "2388198  29.382000  996.28320  986.23865  990.82837       10134789171   \n",
       "2388199  29.382000  989.24725  970.77338  989.12335       10134789185   \n",
       "2388214  29.382000  947.82330  959.62164  973.51508       10134789395   \n",
       "2388222  29.382000  943.62366  998.52893  973.28613       10134789536   \n",
       "\n",
       "         Depth_first_ID        M200b        M200c        M500c  \n",
       "0            8257592485  51184000000  37635000000  15054000000  \n",
       "1            8257592881  57206000000  42151000000  28603000000  \n",
       "2            8257593128  52689000000  40646000000  37635000000  \n",
       "3            8257593176  46668000000  22581000000   9032500000  \n",
       "4            8257594197  46668000000  37635000000  28603000000  \n",
       "...                 ...          ...          ...          ...  \n",
       "2388197     10134789166   3010800000   3010800000   1505400000  \n",
       "2388198     10134789171  21076000000   3010800000   1505400000  \n",
       "2388199     10134789185  16560000000   3010800000   3010800000  \n",
       "2388214     10134789395  10538000000   3010800000   3010800000  \n",
       "2388222     10134789536   3010800000   3010800000   3010800000  \n",
       "\n",
       "[1962492 rows x 16 columns]"
      ]
     },
     "execution_count": 22,
     "metadata": {},
     "output_type": "execute_result"
    }
   ],
   "source": [
    "a"
   ]
  },
  {
   "cell_type": "code",
   "execution_count": 25,
   "id": "c5bb387d-4bde-4eaa-b408-f52034bda0d5",
   "metadata": {},
   "outputs": [
    {
     "name": "stdout",
     "output_type": "stream",
     "text": [
      "1101.9641182422638\n"
     ]
    }
   ],
   "source": [
    "start = time.time()\n",
    "b = pd.read_json('test_file.json')\n",
    "end = time.time()\n",
    "print(end-start)"
   ]
  },
  {
   "cell_type": "code",
   "execution_count": null,
   "id": "ecfdf985-eeeb-4f66-943c-ffd2fafc316b",
   "metadata": {},
   "outputs": [],
   "source": [
    "b"
   ]
  }
 ],
 "metadata": {
  "kernelspec": {
   "display_name": "myLSST",
   "language": "python",
   "name": "mylsst"
  },
  "language_info": {
   "codemirror_mode": {
    "name": "ipython",
    "version": 3
   },
   "file_extension": ".py",
   "mimetype": "text/x-python",
   "name": "python",
   "nbconvert_exporter": "python",
   "pygments_lexer": "ipython3",
   "version": "3.7.12"
  }
 },
 "nbformat": 4,
 "nbformat_minor": 5
}
