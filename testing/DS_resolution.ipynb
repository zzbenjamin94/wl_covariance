{
 "cells": [
  {
   "cell_type": "code",
   "execution_count": 1,
   "id": "44b0079d-cd76-4031-9bcc-077653f3a32a",
   "metadata": {},
   "outputs": [],
   "source": [
    "## Use the setup.py file to output directories. \n",
    "import sys\n",
    "sys.path.append('/global/homes/z/zzhang13/BaryonPasting/CorrelatedStructures/multiDark/')\n",
    "\n",
    "from setup import *\n",
    "toolsdir = tools_dir()\n",
    "repodir = repo_dir()\n",
    "chainsdir = chains_dir()\n",
    "datadir = data_dir()\n",
    "plotdir = plots_dir()\n",
    "\n",
    "sys.path.append(toolsdir)\n",
    "sys.path.append(repodir)"
   ]
  },
  {
   "cell_type": "code",
   "execution_count": 2,
   "id": "b419b764-769b-49a0-8fe4-bbd780b3e59e",
   "metadata": {},
   "outputs": [],
   "source": [
    "import pandas as pd\n",
    "import matplotlib.pyplot as plt\n",
    "import seaborn as sns\n",
    "import statsmodels.api as sm\n",
    "import statsmodels.stats.api as sms\n",
    "import statsmodels.formula.api as smf\n",
    "import scipy.stats as stats\n",
    "import matplotlib.cm as cm\n",
    "#from IPython.display import display\n",
    "from mpl_toolkits.mplot3d import Axes3D\n",
    "from sklearn.feature_selection import f_regression\n",
    "from statsmodels.stats.anova import anova_lm\n",
    "from statsmodels.compat import lzip\n",
    "#sns.set()\n",
    "#pd.set_option('display.notebook_repr_html', True)\n",
    "#pd.set_option('display.precision', 2)\n",
    "#%matplotlib notebook\n",
    "#plt.rcParams['figure.figsize'] = 10, 10\n",
    "from scipy.stats import norm\n",
    "from scipy import stats"
   ]
  },
  {
   "cell_type": "code",
   "execution_count": 3,
   "id": "4b8e5427-8eae-49b0-81f6-00f2243128a9",
   "metadata": {},
   "outputs": [],
   "source": [
    "import warnings\n",
    "warnings.filterwarnings(\"ignore\")"
   ]
  },
  {
   "cell_type": "code",
   "execution_count": 4,
   "id": "a6d23a64-a197-42df-b03d-367b7339d0fb",
   "metadata": {},
   "outputs": [],
   "source": [
    "## KLLR setup\n",
    "import sys\n",
    "sys.path.append('/global/u1/z/zzhang13')\n",
    "\n",
    "from kllr.kllr.regression_model import *\n",
    "from kllr.kllr.regression_plotting import *\n",
    "from kllr.kllr.calc_cov_KLLR import *\n",
    "\n",
    "kllr_nbins= 20\n",
    "kernel_type = 'gaussian'\n",
    "kernel_width = 0.1"
   ]
  },
  {
   "cell_type": "code",
   "execution_count": 5,
   "id": "2ecd8c55-d6ca-4003-bb97-d481287200dd",
   "metadata": {},
   "outputs": [],
   "source": [
    "from data_bins import r_cent_lin_norm, r_cent_log_norm\n",
    "from data_bins import mass_bins, mass_bin_cent\n",
    "from data_bins import a_bins"
   ]
  },
  {
   "cell_type": "markdown",
   "id": "6eb7923b-02b7-4b76-a80b-7567c375c91a",
   "metadata": {},
   "source": [
    "## Testing -- Compute Sigma_R from colossus"
   ]
  },
  {
   "cell_type": "code",
   "execution_count": 127,
   "id": "a3ef8913-eb22-41ea-b46d-9efa54e64c49",
   "metadata": {},
   "outputs": [
    {
     "name": "stdout",
     "output_type": "stream",
     "text": [
      "Deleted outdated persistence file, no further action needed.\n"
     ]
    }
   ],
   "source": [
    "from colossus.cosmology import cosmology\n",
    "cosmo = cosmology.setCosmology('planck13')\n",
    "k = 10**np.linspace(-2.0, 3.0, 100)\n",
    "R = 10**np.linspace(-1, 1, 100)\n",
    "\n",
    "\n",
    "P = cosmo.matterPowerSpectrum(k, z = 1.0)\n",
    "variance = cosmo.sigma(R, z = 0.0)"
   ]
  },
  {
   "cell_type": "code",
   "execution_count": 128,
   "id": "e3186076-ebea-4dce-bde1-ca8f959b9c47",
   "metadata": {},
   "outputs": [
    {
     "data": {
      "image/png": "[encoded data removed]",
      "text/plain": [
       "<Figure size 432x288 with 1 Axes>"
      ]
     },
     "metadata": {
      "needs_background": "light"
     },
     "output_type": "display_data"
    }
   ],
   "source": [
    "plt.plot(R, np.sqrt(variance))\n",
    "plt.xscale('log')"
   ]
  },
  {
   "cell_type": "code",
   "execution_count": 130,
   "id": "602145f6-f13e-4540-9e8d-ec9a0fa30383",
   "metadata": {},
   "outputs": [],
   "source": [
    "## Critical density of the universe\n",
    "rho_m = cosmo.rho_m(0.0)"
   ]
  },
  {
   "cell_type": "code",
   "execution_count": 131,
   "id": "789cc81c-069c-4959-921c-97a0bc33c9d8",
   "metadata": {},
   "outputs": [
    {
     "name": "stdout",
     "output_type": "stream",
     "text": [
      "1.7e+13\n"
     ]
    }
   ],
   "source": [
    "Dp = 200 # Mpc/h\n",
    "sigma_m = 1e9*Dp*rho_c #Convert from kpc^3 to Mpc^3 and multiply by projection depth\n",
    "print('{:.2g}'.format(sigma_m))"
   ]
  },
  {
   "cell_type": "code",
   "execution_count": 133,
   "id": "bb9521b1-a3a5-4c10-853b-8c532410fa5c",
   "metadata": {},
   "outputs": [
    {
     "data": {
      "image/png": "[encoded data removed]",
      "text/plain": [
       "<Figure size 432x288 with 1 Axes>"
      ]
     },
     "metadata": {
      "needs_background": "light"
     },
     "output_type": "display_data"
    }
   ],
   "source": [
    "plt.plot(R, 0.2*np.sqrt(variance)*sigma_c)\n",
    "plt.xscale('log')"
   ]
  },
  {
   "cell_type": "markdown",
   "id": "2c86d51a-2c63-4687-b691-35a86fcf2893",
   "metadata": {},
   "source": [
    "## Bootstrap error for DeltaSigma\n",
    "* For z = 0, use number of clusters as proxy for particle resolution. Should be the same thing. "
   ]
  },
  {
   "cell_type": "code",
   "execution_count": 134,
   "id": "d0c1d517-9919-41ce-93a6-8f1ff3503cdd",
   "metadata": {},
   "outputs": [
    {
     "data": {
      "text/plain": [
       "Index(['id', 'Xoff', 'scale', 'CtreesHaloID', 'pid', 'mvir', 'rvir', 'rs', 'x',\n",
       "       'y', 'z', 'Mmvir_all', 'M200b', 'M200c', 'M500c', 'T/|U|',\n",
       "       'Halfmass_Scale', 'Acc_Rate_Inst', 'Acc_Rate_100Myr', 'Acc_Rate_1*Tdyn',\n",
       "       'Acc_Rate_2*Tdyn', 'Acc_Rate_Mpeak', 'c_vir', 'R200c', 'R500c',\n",
       "       'redshift', 'Ngal_Dsep_1', 'Ngal_Rvir', 'Ngal_R200c', 'Ngal_R500c',\n",
       "       'sigma', 'r_range', 'delta_sigma'],\n",
       "      dtype='object')"
      ]
     },
     "execution_count": 134,
     "metadata": {},
     "output_type": "execute_result"
    }
   ],
   "source": [
    "with open(datadir + 'MDPL2_DS_R200c_SAGE_Ngal_allM_allz.p', 'rb') as handle:\n",
    "    matched_halo_df = pickle.load(handle)\n",
    "matched_halo_df.columns"
   ]
  },
  {
   "cell_type": "code",
   "execution_count": 135,
   "id": "c579c51f-15d0-4792-a5f5-475e6fe3508b",
   "metadata": {},
   "outputs": [],
   "source": [
    "def calc_bootstrap_cov_DS_radii(y, nBootstrap=50):     \n",
    "    output_Data = {}\n",
    "    \n",
    "    cov_bins = len(y[0,:])\n",
    "    covariance = np.zeros((cov_bins, cov_bins, nBootstrap))\n",
    "    correlation = np.zeros((cov_bins, cov_bins, nBootstrap))\n",
    "    \n",
    "    for i in range(cov_bins):\n",
    "        y_i = y[:,i]\n",
    "        for j in range(cov_bins):\n",
    "            y_j = y[:,j]\n",
    "    \n",
    "            for k in range(nBootstrap):\n",
    "                #First \"bootstrap\" is always using unsampled data\n",
    "                if k == 0:\n",
    "                    rand_ind = np.ones(y_i.size).astype(bool)\n",
    "                else:\n",
    "                    rand_ind = np.random.randint(0, y_i.size, y_i.size)\n",
    "\n",
    "                # Store the shuffled variables so you don't have to\n",
    "                # compute the shuffle multiple times\n",
    "                y_i_rand = y_i[rand_ind]\n",
    "                y_j_rand = y_j[rand_ind]\n",
    "\n",
    "                #Compute the covariance\n",
    "                cov = np.cov(y_i_rand, y_j_rand)\n",
    "                covariance[i,j,k] = cov[1, 0]     \n",
    "                correlation[i,j,k] = cov[1, 0]/np.sqrt(cov[0,0] * cov[1,1])    \n",
    "    \n",
    "    output_Data['covariance'] = covariance\n",
    "    output_Data['correlation'] = correlation\n",
    "    return output_Data"
   ]
  },
  {
   "cell_type": "code",
   "execution_count": 156,
   "id": "f040579e-afa3-4599-a07d-4fcd2740f837",
   "metadata": {},
   "outputs": [],
   "source": [
    "mass_min = 1e14; mass_max = 2e15; cur_a_bin = 1\n",
    "mask = (matched_halo_df.M200c >= mass_min) & (matched_halo_df.M200c < mass_max) & (matched_halo_df.scale == cur_a_bin) \n",
    "cur_df = matched_halo_df[mask]"
   ]
  },
  {
   "cell_type": "code",
   "execution_count": 157,
   "id": "c26bfcf2-c9ff-4524-ba69-9ab8d06ee8e6",
   "metadata": {},
   "outputs": [
    {
     "data": {
      "text/plain": [
       "(1500, 20)"
      ]
     },
     "execution_count": 157,
     "metadata": {},
     "output_type": "execute_result"
    }
   ],
   "source": [
    "np.shape(np.vstack(cur_df['delta_sigma']))"
   ]
  },
  {
   "cell_type": "code",
   "execution_count": 158,
   "id": "953e063e-0751-448a-a49c-bee4c2ffa315",
   "metadata": {},
   "outputs": [],
   "source": [
    "with open('DS_dz200_n20.pkl','rb') as handle:\n",
    "    DS_dz200_n20 = pickle.load(handle)"
   ]
  },
  {
   "cell_type": "code",
   "execution_count": 159,
   "id": "8a821500-3cec-451e-9ca2-901a394e5cfe",
   "metadata": {},
   "outputs": [
    {
     "name": "stdout",
     "output_type": "stream",
     "text": [
      "1.0155544558468013\n"
     ]
    }
   ],
   "source": [
    "print(np.mean(cur_df['R200c']))"
   ]
  },
  {
   "cell_type": "code",
   "execution_count": 164,
   "id": "5beed5ce-1523-4764-998b-a01b9065170b",
   "metadata": {},
   "outputs": [
    {
     "data": {
      "image/png": "[encoded data removed]",
      "text/plain": [
       "<Figure size 432x288 with 1 Axes>"
      ]
     },
     "metadata": {
      "needs_background": "light"
     },
     "output_type": "display_data"
    }
   ],
   "source": [
    "mean = np.mean(np.vstack(cur_df['delta_sigma']),axis=0)\n",
    "n_sample = {'nth=200':25,'nth=100':50, 'nth=10':500}\n",
    "fontsize=16\n",
    "plt.figure(figsize=(6,4), tight_layout=True)\n",
    "\n",
    "for k,v in n_sample.items():\n",
    "\n",
    "    output = calc_bootstrap_cov_DS_radii(np.vstack(cur_df['delta_sigma'])[:v,:], nBootstrap=100)\n",
    "    covariance = output['covariance']\n",
    "    correlation = output['correlation']\n",
    "    err_bin = np.std(covariance,axis=2)\n",
    "    mean_bin = np.mean(covariance,axis=2)\n",
    "    rel_err = err_bin/mean_bin\n",
    "    err_diag = mean*[rel_err[i,i] for i in range(len(err_bin))]\n",
    "    plt.plot(r_cent_lin_norm, err_diag, label=k)\n",
    "        \n",
    "plt.plot(r_cent_lin_norm, err_diag/np.sqrt(10), label='nth=1', linestyle='dotted')\n",
    "plt.plot(R, 0.25*np.sqrt(variance)*sigma_m, label='Cosmic Variance', linestyle='dashed', color='black', linewidth='3')\n",
    "plt.xlabel(r'$R/R_{\\rm 200c}$', fontsize=fontsize)\n",
    "plt.ylabel(r'$\\delta\\Delta\\Sigma(R)~(M_{\\odot}h/\\rm Mpc^{2})$', fontsize=fontsize)\n",
    "plt.xscale('log'); plt.yscale('log')\n",
    "plt.legend(fontsize=12)\n",
    "plt.savefig(plotdir+'ptcl_resolution_error.pdf')\n",
    "plt.show()"
   ]
  },
  {
   "cell_type": "code",
   "execution_count": null,
   "id": "cffefdd6-1610-40c2-a418-14e96f410120",
   "metadata": {},
   "outputs": [],
   "source": []
  },
  {
   "cell_type": "code",
   "execution_count": null,
   "id": "284b1dec-e1e6-417e-91de-eefbb89d64af",
   "metadata": {},
   "outputs": [],
   "source": []
  }
 ],
 "metadata": {
  "kernelspec": {
   "display_name": "myLSST",
   "language": "python",
   "name": "mylsst"
  },
  "language_info": {
   "codemirror_mode": {
    "name": "ipython",
    "version": 3
   },
   "file_extension": ".py",
   "mimetype": "text/x-python",
   "name": "python",
   "nbconvert_exporter": "python",
   "pygments_lexer": "ipython3",
   "version": "3.7.12"
  }
 },
 "nbformat": 4,
 "nbformat_minor": 5
}
