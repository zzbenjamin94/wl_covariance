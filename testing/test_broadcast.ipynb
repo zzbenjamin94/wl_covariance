{
 "cells": [
  {
   "cell_type": "code",
   "execution_count": null,
   "id": "cce2fa61-358f-41c6-be61-9b9edf524036",
   "metadata": {},
   "outputs": [],
   "source": [
    "## Testing array broadcasting"
   ]
  },
  {
   "cell_type": "code",
   "execution_count": 1,
   "id": "47b189cd-5814-4cc6-b44e-4c561d8975f9",
   "metadata": {},
   "outputs": [],
   "source": [
    "## testing multidark\n",
    "import numpy as np\n",
    "import matplotlib.pyplot as plt\n",
    "import seaborn as sns\n",
    "from scipy.stats import kde\n",
    "import h5py\n",
    "import astropy.io.fits as fits\n",
    "import csv\n",
    "import pandas as pd\n",
    "import h5py\n",
    "import tables\n",
    "import pickle5 as pickle\n",
    "import os\n",
    "from astropy.table import Table\n",
    "from astropy.coordinates import SkyCoord\n",
    "from tqdm import tqdm\n",
    "from astropy.io import ascii\n",
    "import os\n",
    "from glob import glob"
   ]
  },
  {
   "cell_type": "code",
   "execution_count": 2,
   "id": "886d8cf4-dfd7-4f99-a11f-2177c96f19fc",
   "metadata": {},
   "outputs": [],
   "source": [
    "from pygadgetreader import *"
   ]
  },
  {
   "cell_type": "code",
   "execution_count": 3,
   "id": "feda25f0-2ec5-4adf-8b0a-65be4d7dc47a",
   "metadata": {},
   "outputs": [],
   "source": [
    "from timeit import default_timer as timer"
   ]
  },
  {
   "cell_type": "code",
   "execution_count": 4,
   "id": "0c8f7265-eb42-431f-80c6-50af3258ad4d",
   "metadata": {},
   "outputs": [],
   "source": [
    "ptcl_dir = '/global/cscratch1/sd/zzhang13/MultiDark/MDPL2_particles/z0p00/'\n",
    "clusters_dir = '/global/cscratch1/sd/zzhang13/MultiDark/MDPL2_ROCKSTAR_Halos/z0p00/'"
   ]
  },
  {
   "cell_type": "code",
   "execution_count": 5,
   "id": "c9f35424-49ad-4b68-bbbd-9b2223744a13",
   "metadata": {},
   "outputs": [
    {
     "name": "stdout",
     "output_type": "stream",
     "text": [
      "(10000, 3) (1000, 1) (10000,)\n"
     ]
    }
   ],
   "source": [
    "n_cl = 1000; n_rbin = 20; n_ptcl = int(1e4)\n",
    "box_length=1000\n",
    "r_range = np.ones((n_rbin,n_cl))\n",
    "x = np.ones(n_cl); y=np.ones(n_cl); z=np.ones(n_cl)\n",
    "ptcl = np.ones((n_ptcl,3))\n",
    "#ptcl = ptcl[np.newaxis,...]\n",
    "x = x[:,np.newaxis]\n",
    "print(np.shape(ptcl), np.shape(x), np.shape(ptcl[...,0]))\n",
    "\n",
    "## Think about this problem\n",
    "dx_sqr = np.asarray([(ptcl[:,0]-x)**2, (ptcl[:,0]-x+box_length)**2, (ptcl[:,0]-x-box_length)**2]).min(0)\n",
    "#dx_sqr = dx_sqr[...,np.newaxis]"
   ]
  },
  {
   "cell_type": "code",
   "execution_count": 6,
   "id": "14f20ce0-41b7-4af8-8773-c4ffa7e1ec0a",
   "metadata": {},
   "outputs": [],
   "source": [
    "##Now need to work on masking. \n",
    "r_bins = np.ones((n_cl,n_ptcl,n_rbin-1))\n",
    "mask = [(dx_sqr + dx_sqr) <= r_bins[...,i] for i in range(n_rbin-1)]"
   ]
  },
  {
   "cell_type": "code",
   "execution_count": 7,
   "id": "dc32b9f1-634f-4a32-821d-f2355caccc01",
   "metadata": {},
   "outputs": [
    {
     "name": "stdout",
     "output_type": "stream",
     "text": [
      "(19, 1000, 10000)\n",
      "(1000, 10000, 19)\n"
     ]
    }
   ],
   "source": [
    "print(np.shape(mask))\n",
    "mask = np.transpose(mask, (1,2,0))\n",
    "print(np.shape(mask))"
   ]
  },
  {
   "cell_type": "markdown",
   "id": "c2a05d85-7a1b-4950-aa5e-9de60d10ac40",
   "metadata": {},
   "source": [
    "## Testing with a small set of clusters. "
   ]
  },
  {
   "cell_type": "code",
   "execution_count": 8,
   "id": "23b2e1b2-14b9-423b-a10e-040d14f1ca13",
   "metadata": {},
   "outputs": [
    {
     "name": "stdout",
     "output_type": "stream",
     "text": [
      "/global/cscratch1/sd/zzhang13/MultiDark/MDPL2_particles/z0p00/snap_130.967\n"
     ]
    }
   ],
   "source": [
    "file ='/global/cscratch1/sd/zzhang13/MultiDark/MDPL2_particles/z0p00/snap_130.967'\n",
    "ptcl = readsnap(file, 'pos', 'dm', suppress=1, single=True)\n",
    "print(file)\n",
    "ptcl = ptcl[::1000]"
   ]
  },
  {
   "cell_type": "code",
   "execution_count": 9,
   "id": "c6368492-4773-455f-b64c-372d42ef4323",
   "metadata": {},
   "outputs": [],
   "source": [
    "import pandas as pd\n",
    "cluster_df = pd.read_csv(clusters_dir + 'clusters_mvir_lgt_5e13.csv')"
   ]
  },
  {
   "cell_type": "code",
   "execution_count": 10,
   "id": "503058a7-0f7f-44f0-be32-310d24a13737",
   "metadata": {},
   "outputs": [],
   "source": [
    "ptcl_mass = 1.505e9 ##Msun/h\n",
    "mvir_low = 1e14; mvir_high = 5e14\n",
    "sample_num = 5000\n",
    "\n",
    "mask = (cluster_df.mvir >= mvir_low) & (cluster_df.mvir < mvir_high)\n",
    "cur_df = cluster_df[mask]\n",
    "cur_df = cur_df.head(sample_num) ##Get the first 100 clusters"
   ]
  },
  {
   "cell_type": "code",
   "execution_count": 11,
   "id": "499c5719-d0cb-4675-80af-b1f1612badbe",
   "metadata": {},
   "outputs": [],
   "source": [
    "r_vir = np.asarray(cur_df.rvir)/1000 #Convert to Mpch/h"
   ]
  },
  {
   "cell_type": "code",
   "execution_count": 12,
   "id": "7872e821-b6fa-4583-babe-17475b36f7ee",
   "metadata": {},
   "outputs": [],
   "source": [
    "x = np.asarray(cur_df.x); y = np.asarray(cur_df.y); z = np.asarray(cur_df.z)\n",
    "x = x[:,np.newaxis]; y = y[:,np.newaxis]; z = z[:,np.newaxis]\n"
   ]
  },
  {
   "cell_type": "code",
   "execution_count": 13,
   "id": "4b3a4e54-074d-4f5b-8fbe-dc8015657a19",
   "metadata": {},
   "outputs": [],
   "source": [
    "##Broadcasting\n",
    "n_rbins = 20; dz=200\n",
    "r_range_norm = np.logspace(-1,1,n_rbins+1)\n",
    "r_range = r_range_norm[:,np.newaxis] #Broadcast to shape (L,M)\n",
    "r_range = r_range * r_vir\n",
    "r_range = r_range[...,np.newaxis] #Broadcastable to shape (L,M,N)"
   ]
  },
  {
   "cell_type": "code",
   "execution_count": 14,
   "id": "3650dbd6-9e1b-496a-b7c3-0e100cd1d304",
   "metadata": {},
   "outputs": [],
   "source": [
    "sigma = np.ones((n_rbins,len(x))) # {L,M}"
   ]
  },
  {
   "cell_type": "code",
   "execution_count": 15,
   "id": "1d8630fc-aa9a-4af5-83e6-b6fb572a1b6a",
   "metadata": {},
   "outputs": [
    {
     "data": {
      "text/plain": [
       "26486"
      ]
     },
     "execution_count": 15,
     "metadata": {},
     "output_type": "execute_result"
    }
   ],
   "source": [
    "len(ptcl)"
   ]
  },
  {
   "cell_type": "markdown",
   "id": "4d2995ad-244f-484e-a61c-56ba842894f3",
   "metadata": {},
   "source": [
    "## Testing the timing"
   ]
  },
  {
   "cell_type": "code",
   "execution_count": null,
   "id": "c98303e1-0ca6-4bd8-8ab5-e0e88e13b455",
   "metadata": {},
   "outputs": [],
   "source": [
    "from numpy import random\n",
    "\n",
    "size = (10,100,1000,5000)\n",
    "\n",
    "\n",
    "for i, size_i in enumerate(size):\n",
    "    for j, size_j in enumerate(size):\n",
    "        test_arr = random.randint(100, size=size_i)\n",
    "        x = random.randint(100,size=(size_j,1))\n",
    "        print(\"size_i, size_j: \", size_i, size_j )\n",
    "\n",
    "        start = timer()\n",
    "        a = 0\n",
    "        for i in range(len(x)):\n",
    "            a += np.sum(test_arr-x[i])\n",
    "        end = timer()\n",
    "        print(\"Elapsed time for loop: \", end-start)\n",
    "\n",
    "        start = timer()\n",
    "        np.sum(test_arr-x)\n",
    "        end = timer()\n",
    "        print(\"Elapsed time broadcast: \", end-start)\n",
    "        print(np.shape(a),a)"
   ]
  },
  {
   "cell_type": "code",
   "execution_count": null,
   "id": "c3409c0a-6c07-4c81-b63a-bd334c56f2e6",
   "metadata": {},
   "outputs": [],
   "source": [
    "print(np.shape(ptcl[:,0]))\n",
    "print(np.shape(x))"
   ]
  },
  {
   "cell_type": "code",
   "execution_count": 42,
   "id": "e9907d39-be90-47aa-a3d9-5779f15447f4",
   "metadata": {},
   "outputs": [
    {
     "name": "stdout",
     "output_type": "stream",
     "text": [
      "Elapsed time:  2.374555516988039\n",
      "Elapsed time:  3.443832376971841\n"
     ]
    }
   ],
   "source": [
    "x = random.randint(100,size=(size_j,1))\n",
    "\n",
    "start = timer()\n",
    "for i in range(len(x)):\n",
    "    np.square(ptcl[:,0]-x[i])\n",
    "end = timer()\n",
    "print(\"Elapsed time: \", end-start)\n",
    "\n",
    "start = timer()\n",
    "np.square(ptcl[:,0]-x)\n",
    "end = timer()\n",
    "print(\"Elapsed time: \", end-start)"
   ]
  },
  {
   "cell_type": "code",
   "execution_count": null,
   "id": "4ebfc266-829c-43eb-83a3-cf5d75a6648e",
   "metadata": {},
   "outputs": [],
   "source": [
    "## Decompose\n",
    "            \n",
    "start = timer()\n",
    "dx_sqr = np.asarray([np.square(ptcl[:,0]-x), np.square(ptcl[:,0]-x+box_length), np.square((ptcl[:,0]-x-box_length))]).min(0)\n",
    "dy_sqr = np.asarray([np.square(ptcl[:,0]-y), np.square(ptcl[:,0]-y+box_length), np.square((ptcl[:,0]-y-box_length))]).min(0)\n",
    "dz_min = np.asarray([np.abs(ptcl[:,2]-z), np.abs(ptcl[:,2]-z+box_length), np.abs(ptcl[:,2]-z-box_length)]).min(0)\n",
    "end = timer()\n",
    "print(\"Elapsed time: \", end-start)"
   ]
  },
  {
   "cell_type": "code",
   "execution_count": null,
   "id": "b2ba2e2d-c5ff-4268-8f4d-b95f446382d6",
   "metadata": {},
   "outputs": [],
   "source": [
    "start = timer()\n",
    "for i in range(len(x)):\n",
    "    dx_sqr = np.asarray([np.square(ptcl[:,0]-x[i]), np.square(ptcl[:,0]-x[i]+box_length), np.square((ptcl[:,0]-x[i]-box_length))]).min(0)\n",
    "end = timer()\n",
    "print(\"Elapsed time: \", end-start)"
   ]
  },
  {
   "cell_type": "code",
   "execution_count": null,
   "id": "a66754dd-b027-4ef1-a113-5318df4943c4",
   "metadata": {},
   "outputs": [],
   "source": [
    "start = timer()\n",
    "dist_2d = dx_sqr + dy_sq\n",
    "mask = [np.logical_and(r_range[i] < dist_2d, dist_2d < r_range[i+1]) for i in range(n_rbins)] \n",
    "mask &= dz_min < dz\n",
    "end = timer()\n",
    "print(\"Elapsed time: \", end-start)\n",
    "\n",
    "\n",
    "start = timer()\n",
    "dist_2d = dx_sqr + dy_sqr\n",
    "mask = [np.logical_and(r_range[i] < dist_2d, dist_2d < r_range[i+1]) for i in range(n_rbins)] \n",
    "mask &= dz_min < dz\n",
    "end = timer()\n",
    "print(\"Elapsed time: \", end-start)"
   ]
  },
  {
   "cell_type": "code",
   "execution_count": null,
   "id": "fdaa4cb1-ce39-4eb7-b3bf-531b2787fd4d",
   "metadata": {},
   "outputs": [],
   "source": [
    "start = timer()\n",
    "print(\"Hello world\")\n",
    "end = timer()\n",
    "print(\"Elapsed time: \", end-start)"
   ]
  },
  {
   "cell_type": "code",
   "execution_count": null,
   "id": "8029465b-d70c-44fd-b952-2ed75fe04cc3",
   "metadata": {},
   "outputs": [],
   "source": [
    "from numpy import random\n",
    "r_range = random.randint(100, size=(5,4,3))\n",
    "dx = random.randint(100, size=(4,3))\n",
    "\n",
    "np.logical_and(r_range <dx ,dx > 50)"
   ]
  },
  {
   "cell_type": "code",
   "execution_count": 21,
   "id": "344b11ac-5ff0-4858-8aa0-d57c019c243b",
   "metadata": {},
   "outputs": [
    {
     "name": "stdout",
     "output_type": "stream",
     "text": [
      "375 ms ± 26.9 ms per loop (mean ± std. dev. of 7 runs, 1 loop each)\n",
      "732 ms ± 32.9 ms per loop (mean ± std. dev. of 7 runs, 1 loop each)\n",
      "628 ms ± 3.11 ms per loop (mean ± std. dev. of 7 runs, 1 loop each)\n"
     ]
    }
   ],
   "source": [
    "def norm_loop(M, v):\n",
    "    n = M.shape[0]\n",
    "    d = np.zeros(n)\n",
    "    for i in range(n):\n",
    "        d[i] = np.sum((M[i] - v)**2)\n",
    "    return d\n",
    "\n",
    "def norm_bcast(M, v):\n",
    "    n = M.shape[0]\n",
    "    d = np.zeros(n)\n",
    "    d = np.sum((M - v)**2, axis=1)\n",
    "    return d\n",
    "\n",
    "def norm_einsum(M, v):\n",
    "    tmp = M-v\n",
    "    return np.einsum('ij,ij->i', tmp, tmp)\n",
    "\n",
    "\n",
    "M = np.random.random_sample((10000, 10000))\n",
    "v = M[0]\n",
    "\n",
    "%timeit norm_loop(M, v) \n",
    "%timeit norm_bcast(M, v)\n",
    "%timeit norm_einsum(M,v)"
   ]
  },
  {
   "cell_type": "code",
   "execution_count": 23,
   "id": "3995ea63-0d2c-4327-ac22-b9ef65f44e44",
   "metadata": {},
   "outputs": [],
   "source": [
    "## Testing with the k-means\n",
    "#[min(range(k), key=lambda i: np.sum((point - centroids[i]) ** 2)) for point in data ]\n",
    "n_small = 20000\n",
    "n_big = 200000\n",
    "k = 50\n",
    "d = 100\n",
    "\n",
    "data_small = np.random.uniform(size=(n_small, d))\n",
    "data_big = np.random.uniform(size=(n_big, d))\n",
    "centroids = np.random.uniform(size=(k, d))"
   ]
  },
  {
   "cell_type": "code",
   "execution_count": 24,
   "id": "3ba88361-3b1f-4712-af65-dc762fb568d5",
   "metadata": {},
   "outputs": [],
   "source": [
    "def lloyd_simple(data, centroids):\n",
    "    k, _ = centroids.shape\n",
    "    return np.array(\n",
    "        [\n",
    "            min(range(k), key=lambda i: np.sum((point - centroids[i]) ** 2))\n",
    "            for point in data\n",
    "        ]\n",
    "    )\n",
    "\n",
    "def distance_to_centroids(point, centroids):\n",
    "    return np.sum((point[np.newaxis, :] - centroids) ** 2, axis=1)\n",
    "\n",
    "\n",
    "def lloyd_broadcast_1(data, centroids):\n",
    "    return np.array(\n",
    "        [\n",
    "            np.argmin(distance_to_centroids(point, centroids))\n",
    "            for point in data\n",
    "        ]\n",
    "    )\n",
    "\n",
    "def all_distances_to_centroids(data, centroids):\n",
    "    return np.sum((data[:, np.newaxis, :] - centroids[np.newaxis, :, :]) ** 2, axis=2)\n",
    "\n",
    "\n",
    "def lloyd_broadcast_2(data, centroids):\n",
    "    return np.argmin(all_distances_to_centroids(data, centroids), axis=1)"
   ]
  },
  {
   "cell_type": "code",
   "execution_count": 26,
   "id": "12291a8e-32d0-451b-ad90-7328c248b6a1",
   "metadata": {},
   "outputs": [
    {
     "name": "stdout",
     "output_type": "stream",
     "text": [
      "7.48 s ± 259 ms per loop (mean ± std. dev. of 7 runs, 1 loop each)\n",
      "545 ms ± 6 ms per loop (mean ± std. dev. of 7 runs, 1 loop each)\n",
      "788 ms ± 16.4 ms per loop (mean ± std. dev. of 7 runs, 1 loop each)\n"
     ]
    }
   ],
   "source": [
    "%timeit lloyd_simple(data_small, centroids)\n",
    "%timeit lloyd_broadcast_1(data_small, centroids)\n",
    "%timeit lloyd_broadcast_2(data_small, centroids)"
   ]
  },
  {
   "cell_type": "code",
   "execution_count": null,
   "id": "f220b3c0-a7ee-4016-8047-8de3c2553478",
   "metadata": {},
   "outputs": [],
   "source": [
    "def pairwise_dists_crude(x, y):\n",
    "    \"\"\"  Computing pairwise distances using vectorization.\n",
    "\n",
    "     This method uses memory-inefficient broadcasting.\n",
    "\n",
    "     Parameters\n",
    "     ----------\n",
    "     x : numpy.ndarray, shape=(M, D)\n",
    "     y : numpy.ndarray, shape=(N, D)\n",
    "\n",
    "     Returns\n",
    "     -------\n",
    "     numpy.ndarray, shape=(M, N)\n",
    "         The Euclidean distance between each pair of\n",
    "         rows between `x` and `y`.\"\"\"\n",
    "    # The use of `np.newaxis` here is equivalent to our\n",
    "    # use of the `reshape` function\n",
    "    return np.sqrt(np.sum((x[:, np.newaxis] - y[np.newaxis])**2, axis=2))"
   ]
  },
  {
   "cell_type": "markdown",
   "id": "30984d27-406b-4e2b-8306-35d92d3e416c",
   "metadata": {},
   "source": [
    "## Running the vectorized code. "
   ]
  },
  {
   "cell_type": "code",
   "execution_count": null,
   "id": "49d8a2fe-f7ea-42b6-8655-010411fc7f36",
   "metadata": {},
   "outputs": [],
   "source": [
    "ptcl_files = glob(ptcl_dir + 'snap_130.*')\n",
    "\n",
    "area = np.pi*np.array([np.square(r_range[i+1]) - np.square(r_range[i]) for i in range(n_rbins)]) #Ndim = {L,M,1} \n",
    "        \n",
    "for file in ptcl_files:\n",
    "            ptcl = readsnap(file, 'pos', 'dm', suppress=1, single=True)\n",
    "            print(file)\n",
    "            \n",
    "            start = time()\n",
    "            dx_sqr = np.asarray([np.square(ptcl[:,0]-x), np.square(ptcl[:,0]-x+box_length), np.square((ptcl[:,0]-x-box_length))]).min(0)\n",
    "            dy_sqr = np.asarray([np.square(ptcl[:,0]-y), np.square(ptcl[:,0]-y+box_length), np.square((ptcl[:,0]-y-box_length))]).min(0)\n",
    "            dz_min = np.asarray([np.abs(ptcl[:,2]-z), np.abs(ptcl[:,2]-z+box_length), np.abs(ptcl[:,2]-z-box_length)]).min(0)\n",
    "\n",
    "            #Gives the particles within annulus for each cluster. #mask Ndim ={L,M,N}\n",
    "            mask = [(r_range[i] < (dx_sqr + dy_sqr)) & ((dx_sqr + dy_sqr) < r_range[i+1]) for i in range(n_rbins)] \n",
    "            mask &= dz_min < dz \n",
    "            \n",
    "            #Building an annulus\n",
    "            #nptcl_annulus = ptcl[:,0][mask] ##The number of particles in each annulus, for each cluster. Ndim = {L,M,N}\n",
    "            \n",
    "            m_annulus = np.sum(np.asarray(mask), axis=2) * ptcl_mass #mass of annulus. Reduce to dimensions {L,M}\n",
    "            \n",
    "            #Compute sigma and DS\n",
    "            sigma = m_annulus/area[...,0] #Make sure the dimensions are both {L,M}\n",
    "            end = time()    \n",
    "            \n",
    "            print(\"Elapsed time: \", end-start)\n",
    "            break"
   ]
  }
 ],
 "metadata": {
  "kernelspec": {
   "display_name": "myLSST",
   "language": "python",
   "name": "mylsst"
  },
  "language_info": {
   "codemirror_mode": {
    "name": "ipython",
    "version": 3
   },
   "file_extension": ".py",
   "mimetype": "text/x-python",
   "name": "python",
   "nbconvert_exporter": "python",
   "pygments_lexer": "ipython3",
   "version": "3.7.12"
  }
 },
 "nbformat": 4,
 "nbformat_minor": 5
}
