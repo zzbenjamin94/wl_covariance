{
 "cells": [
  {
   "cell_type": "code",
   "execution_count": 85,
   "id": "441fb093-6491-4418-8588-ba945b4ee302",
   "metadata": {},
   "outputs": [],
   "source": [
    "## testing multidark\n",
    "import numpy as np\n",
    "import matplotlib.pyplot as plt\n",
    "import seaborn as sns\n",
    "from scipy.stats import kde\n",
    "import h5py\n",
    "import astropy.io.fits as fits\n",
    "import csv\n",
    "import pandas as pd\n",
    "import h5py\n",
    "import tables\n",
    "import pickle5 as pickle\n",
    "import os\n",
    "from astropy.table import Table\n",
    "from astropy.coordinates import SkyCoord\n",
    "from tqdm import tqdm\n",
    "from astropy.io import ascii\n",
    "import os"
   ]
  },
  {
   "cell_type": "code",
   "execution_count": 86,
   "id": "a131fa2e-f8b1-4091-8d2f-663b83e308d1",
   "metadata": {},
   "outputs": [],
   "source": [
    "from pygadgetreader import *"
   ]
  },
  {
   "cell_type": "code",
   "execution_count": 87,
   "id": "66743016-c658-4a1e-b6a6-ecb9bc1dff4e",
   "metadata": {},
   "outputs": [],
   "source": [
    "import warnings\n",
    "warnings.filterwarnings(\"ignore\")"
   ]
  },
  {
   "cell_type": "code",
   "execution_count": 88,
   "id": "1eae8677-806b-468b-add2-854fe899cad2",
   "metadata": {},
   "outputs": [],
   "source": [
    "ptcl_dir = '/global/cscratch1/sd/zzhang13/MultiDark/MDPL2_particles/z0p00/'\n",
    "clusters_dir = '/global/cscratch1/sd/zzhang13/MultiDark/MDPL2_ROCKSTAR_Halos/z0p00/'"
   ]
  },
  {
   "cell_type": "markdown",
   "id": "fdf67012-07c3-416c-b7c4-82b2d3a143e7",
   "metadata": {},
   "source": [
    "## Benchmark testing for particles. \n",
    "* For a single file. \n",
    "    * Every 10, 100, 1000 particles"
   ]
  },
  {
   "cell_type": "code",
   "execution_count": 89,
   "id": "d033dc76-9c7c-4ccb-b12c-46eecd703030",
   "metadata": {},
   "outputs": [],
   "source": [
    "from glob import glob\n",
    "from time import time\n",
    "### Read snapshot information\n",
    "test_file = ptcl_dir +'snap_130.0'\n",
    "files = glob(datadir + 'snap_130.*')\n"
   ]
  },
  {
   "cell_type": "code",
   "execution_count": 24,
   "id": "259ea554-7e4f-4b50-aaa0-596570ca1c16",
   "metadata": {},
   "outputs": [
    {
     "name": "stdout",
     "output_type": "stream",
     "text": [
      "Returning DM    Positions\n",
      "Elpased time:  0.6190743446350098\n",
      "Returning DM    Positions\n",
      "selecting every 10 particles\n",
      "Elpased time:  0.6159923076629639\n",
      "Returning DM    Positions\n",
      "selecting every 100 particles\n",
      "Elpased time:  0.7055861949920654\n",
      "Returning DM    Positions\n",
      "selecting every 1000 particles\n",
      "Elpased time:  0.7020056247711182\n",
      "Returning DM    Positions\n",
      "selecting every 10000 particles\n",
      "Elpased time:  0.6793873310089111\n",
      "Returning DM    Positions\n",
      "selecting every 100000 particles\n",
      "Elpased time:  0.7429287433624268\n"
     ]
    }
   ],
   "source": [
    "nth_ptcl = (1,10,100,1000,10000,100000)\n",
    "elapsed_time = []\n",
    "for nth_cur in nth_ptcl:\n",
    "    start = time()\n",
    "    ptcl = readsnap(test_file, 'pos', 'dm', nth=nth_cur, single=True)\n",
    "    end  = time()\n",
    "    elapsed_time.append(end-start)\n",
    "    print(\"Elpased time: \", end-start)"
   ]
  },
  {
   "cell_type": "code",
   "execution_count": 26,
   "id": "05541492-eea7-49a1-abf8-3d1b1181adf0",
   "metadata": {},
   "outputs": [
    {
     "data": {
      "image/png": "[encoded data removed]",
      "text/plain": [
       "<Figure size 432x288 with 1 Axes>"
      ]
     },
     "metadata": {
      "needs_background": "light"
     },
     "output_type": "display_data"
    }
   ],
   "source": [
    "## Plotting the elapsed time as a function of sparsely sampling the data. \n",
    "plt.plot(nth_ptcl, elapsed_time)\n",
    "plt.show()"
   ]
  },
  {
   "cell_type": "code",
   "execution_count": 34,
   "id": "f97a19ee-2c66-4500-b024-faa5b088d24d",
   "metadata": {},
   "outputs": [
    {
     "name": "stdout",
     "output_type": "stream",
     "text": [
      "100\n"
     ]
    }
   ],
   "source": [
    "## Testing the time it takes to loop through different tfiles. \n",
    "files = glob(datadir + 'snap_130.1[0-9][0-9]')\n",
    "print(len(files))"
   ]
  },
  {
   "cell_type": "code",
   "execution_count": 44,
   "id": "aad29684-9927-4487-855d-73ce18b4ade5",
   "metadata": {},
   "outputs": [],
   "source": [
    "elapsed_time = {'single_1th':None, 'single_10th':None, 'single_100th':None, 'single_1000th':None, 'single_10000th':None, \\\n",
    "                'glob_read_perfile': None, 'pygadgetreader_perfile': None}"
   ]
  },
  {
   "cell_type": "code",
   "execution_count": 35,
   "id": "8c7c1f3b-9547-4e8a-95ad-3e06e361f8b6",
   "metadata": {
    "collapsed": true,
    "jupyter": {
     "outputs_hidden": true
    },
    "tags": []
   },
   "outputs": [
    {
     "name": "stdout",
     "output_type": "stream",
     "text": [
      "Returning DM    Positions\n",
      "Returning DM    Positions\n",
      "Returning DM    Positions\n",
      "Returning DM    Positions\n",
      "Returning DM    Positions\n",
      "Returning DM    Positions\n",
      "Returning DM    Positions\n",
      "Returning DM    Positions\n",
      "Returning DM    Positions\n",
      "Returning DM    Positions\n",
      "Returning DM    Positions\n",
      "Returning DM    Positions\n",
      "Returning DM    Positions\n",
      "Returning DM    Positions\n",
      "Returning DM    Positions\n",
      "Returning DM    Positions\n",
      "Returning DM    Positions\n",
      "Returning DM    Positions\n",
      "Returning DM    Positions\n",
      "Returning DM    Positions\n",
      "Returning DM    Positions\n",
      "Returning DM    Positions\n",
      "Returning DM    Positions\n",
      "Returning DM    Positions\n",
      "Returning DM    Positions\n",
      "Returning DM    Positions\n",
      "Returning DM    Positions\n",
      "Returning DM    Positions\n",
      "Returning DM    Positions\n",
      "Returning DM    Positions\n",
      "Returning DM    Positions\n",
      "Returning DM    Positions\n",
      "Returning DM    Positions\n",
      "Returning DM    Positions\n",
      "Returning DM    Positions\n",
      "Returning DM    Positions\n",
      "Returning DM    Positions\n",
      "Returning DM    Positions\n",
      "Returning DM    Positions\n",
      "Returning DM    Positions\n",
      "Returning DM    Positions\n",
      "Returning DM    Positions\n",
      "Returning DM    Positions\n",
      "Returning DM    Positions\n",
      "Returning DM    Positions\n",
      "Returning DM    Positions\n",
      "Returning DM    Positions\n",
      "Returning DM    Positions\n",
      "Returning DM    Positions\n",
      "Returning DM    Positions\n",
      "Returning DM    Positions\n",
      "Returning DM    Positions\n",
      "Returning DM    Positions\n",
      "Returning DM    Positions\n",
      "Returning DM    Positions\n",
      "Returning DM    Positions\n",
      "Returning DM    Positions\n",
      "Returning DM    Positions\n",
      "Returning DM    Positions\n",
      "Returning DM    Positions\n",
      "Returning DM    Positions\n",
      "Returning DM    Positions\n",
      "Returning DM    Positions\n",
      "Returning DM    Positions\n",
      "Returning DM    Positions\n",
      "Returning DM    Positions\n",
      "Returning DM    Positions\n",
      "Returning DM    Positions\n",
      "Returning DM    Positions\n",
      "Returning DM    Positions\n",
      "Returning DM    Positions\n",
      "Returning DM    Positions\n",
      "Returning DM    Positions\n",
      "Returning DM    Positions\n",
      "Returning DM    Positions\n",
      "Returning DM    Positions\n",
      "Returning DM    Positions\n",
      "Returning DM    Positions\n",
      "Returning DM    Positions\n",
      "Returning DM    Positions\n",
      "Returning DM    Positions\n",
      "Returning DM    Positions\n",
      "Returning DM    Positions\n",
      "Returning DM    Positions\n",
      "Returning DM    Positions\n",
      "Returning DM    Positions\n",
      "Returning DM    Positions\n",
      "Returning DM    Positions\n",
      "Returning DM    Positions\n",
      "Returning DM    Positions\n",
      "Returning DM    Positions\n",
      "Returning DM    Positions\n",
      "Returning DM    Positions\n",
      "Returning DM    Positions\n",
      "Returning DM    Positions\n",
      "Returning DM    Positions\n",
      "Returning DM    Positions\n",
      "Returning DM    Positions\n",
      "Returning DM    Positions\n",
      "Returning DM    Positions\n",
      "Elpased time:  99.01981139183044\n"
     ]
    }
   ],
   "source": [
    "start = time()\n",
    "\n",
    "for file in files:\n",
    "    ptcl = readsnap(file, 'pos', 'dm', nth=1, single=True)\n",
    "      \n",
    "end  = time()"
   ]
  },
  {
   "cell_type": "code",
   "execution_count": 40,
   "id": "3908c58c-d1eb-47d1-9e67-7260484f5bd3",
   "metadata": {},
   "outputs": [
    {
     "name": "stdout",
     "output_type": "stream",
     "text": [
      "Elapsed time:  99.01981139183044\n",
      "Time per file: [0.99019811]\n"
     ]
    }
   ],
   "source": [
    "print(\"Elapsed time: \", end-start)\n",
    "print(\"Time per file:\", np.array(end-start)/len(files))"
   ]
  },
  {
   "cell_type": "code",
   "execution_count": null,
   "id": "956b0130-0fe1-4e04-9680-c39a2a8ba048",
   "metadata": {},
   "outputs": [],
   "source": [
    "## Read all files by iterating through all\n",
    "files = glob(datadir + 'snap_130.*')\n",
    "\n",
    "start = time()\n",
    "for file_cur in files:\n",
    "    ptcl = readsnap(file, 'pos', 'dm', nth=1000, single=True)\n",
    "end = time()\n"
   ]
  },
  {
   "cell_type": "code",
   "execution_count": null,
   "id": "ecfb776e-d0de-4976-950c-32bab23c4505",
   "metadata": {},
   "outputs": [],
   "source": [
    "# Total time 1143 s, with 1920 files that's 0.60 seconds per file\n",
    "print(\"Elapsed time: \", end-start)\n",
    "print(\"Time per file: \", (end-start)/len(files))"
   ]
  },
  {
   "cell_type": "code",
   "execution_count": 49,
   "id": "b6cc2252-574c-4244-b9ec-46a075d9299d",
   "metadata": {},
   "outputs": [
    {
     "name": "stdout",
     "output_type": "stream",
     "text": [
      "Returning DM    Positions\n",
      "selecting every 1000 particles\n"
     ]
    }
   ],
   "source": [
    "### Read all files using thepygadgetreader code. \n",
    "files = datadir + 'snap_130'\n",
    "\n",
    "start = time()\n",
    "ptcl = readsnap(files, 'pos', 'dm', nth=1000, single=False)\n",
    "end = time()"
   ]
  },
  {
   "cell_type": "code",
   "execution_count": 45,
   "id": "5adc5e1b-771a-4aec-a2bc-b2d863d9d8b2",
   "metadata": {},
   "outputs": [],
   "source": [
    "elapsed_time['pygadetreader_perfile'] = (end-start)/len(files)"
   ]
  },
  {
   "cell_type": "code",
   "execution_count": 50,
   "id": "ea3a9422-32f1-4ad7-b8bc-0675cc9c5e9e",
   "metadata": {},
   "outputs": [
    {
     "name": "stdout",
     "output_type": "stream",
     "text": [
      "0.9901981139183045\n"
     ]
    }
   ],
   "source": [
    "print(elapsed_time['pygadetreader_perfile'])"
   ]
  },
  {
   "cell_type": "markdown",
   "id": "c6063dad-54f3-4388-86e7-fa69ea09eebb",
   "metadata": {
    "tags": []
   },
   "source": [
    "## Cluster object functions"
   ]
  },
  {
   "cell_type": "code",
   "execution_count": 65,
   "id": "8292665b-a487-4fc9-9c3e-1d2183d7039b",
   "metadata": {},
   "outputs": [],
   "source": [
    "ptcl_mass = 1.505e9 ##Msun/h\n",
    "sparse_sample = 1000\n",
    "file_num = list(range(25))\n",
    "\n",
    "'''\n",
    "Support function to read the particle file. It is an (N,3) array specifiying positions of DM particles, sparsely sampled nth=1000, with mass resolution  of 1.5e9 Msun/h.\n",
    "'''\n",
    "def read_particle(filename, nth=1000):\n",
    "    with open(filename, 'rb') as handle:\n",
    "        ptcl_pos = pickle.load(handle)\n",
    "    return ptcl_pos\n",
    "\n",
    "\n",
    "def read_halo_file(clusters_dir, num):\n",
    "    file_name = 'mdpl2_rockstar_z0p00_{}.pickle'.format(num)\n",
    "    with open(clusters_dir+file_name, 'rb') as handle:\n",
    "        halo_df = pickle.load(handle)\n",
    "    return halo_df\n",
    "\n",
    "\n",
    "class clusters(object):\n",
    "    global ptcl_mass\n",
    "    global ptcl\n",
    "    \n",
    "    #Input the cluster dataframe  \n",
    "    def __init__(self, ptcl_filename, cl_df, r_range, verbose=True):\n",
    "        assert isinstance(cl_df, pd.core.frame.DataFrame), \"cluster needs to be a dataframe\"\n",
    "        \n",
    "        if verbose:\n",
    "            print(\"Number of clusters in is:\", len(cl_df))\n",
    "            print(\"cluster columns: \\n\", list(cl_df.columns))\n",
    "\n",
    "        self.cluster_df = cl_df\n",
    "        self.DS_dz50 = np.zeros((len(cl_df), len(r_range)-1 ))  \n",
    "        self.DS_dz100 = np.zeros((len(cl_df), len(r_range)-1 ))  \n",
    "        self.DS_dz200 = np.zeros((len(cl_df), len(r_range)-1 ))  \n",
    "        self.DS_dz200_halo = np.zeros((len(cl_df), len(r_range)-1 ))  \n",
    "        \n",
    "        self.r_range_norm = np.array(r_range*cl_df.rvir[:,np.newaxis])/1000 #Convert from kpc to Mpc.\n",
    "        \n",
    "        self.mass_dz50 = np.zeros(len(cl_df))\n",
    "        self.mass_dz100 = np.zeros(len(cl_df))\n",
    "        self.mass_dz200 = np.zeros(len(cl_df))\n",
    "        self.mass_dz200_halo = np.zeros(len(cl_df))\n",
    "        \n",
    "    def __deltasigma_cluster_periodic(self, ptcl, cluster_ind, x, y, z, r_range, dz=100, box_length=1000):\n",
    "        delta_sigma = np.zeros(len(r_range)-1)\n",
    "    \n",
    "        ##Periodic boundary condition for annulus. Halos are conditions at [0,1000] Mpc boundaries.       \n",
    "        dx_sqr = np.asarray([(ptcl[:,0]-x)**2, (ptcl[:,0]-x+box_length)**2, (ptcl[:,0]-x-box_length)**2]).min(0)\n",
    "        dy_sqr = np.asarray([(ptcl[:,1]-y)**2, (ptcl[:,1]-y+box_length)**2, (ptcl[:,1]-y-box_length)**2]).min(0)\n",
    "        dz_min = np.asarray([np.abs(ptcl[:,2]-z), np.abs(ptcl[:,2]-z+box_length), np.abs(ptcl[:,2]-z-box_length)]).min(0)\n",
    "\n",
    "        for i in range(len(r_range)-1):\n",
    "            #radius for annulus\n",
    "            dr = r_range[i+1] - r_range[i]\n",
    "            r_cur = r_range[i]\n",
    "\n",
    "            #Masking\n",
    "            mask = dx_sqr + dy_sqr <= (r_cur+dr)**2\n",
    "            mask &= dz_min < dz\n",
    "\n",
    "            #Building an annulus\n",
    "            annulus_df = ptcl[mask]\n",
    "\n",
    "            #Find 2D density within the annulus\n",
    "            area = np.pi * ((r_cur+dr)**2 - (r_cur)**2.)\n",
    "            m_tot = len(annulus_df)*sparse_sample*ptcl_mass\n",
    "            \n",
    "            self.mass_dz50[cluster_ind] += m_tot\n",
    "            self.mass_dz100[cluster_ind] += m_tot\n",
    "            self.mass_dz200[cluster_ind] += m_tot\n",
    "            delta_sigma[i] = m_tot/area\n",
    "\n",
    "        return delta_sigma\n",
    "    \n",
    "    def __deltasigma_cluster_periodic_halo(self, halo_df, cluster_ind, x, y, z, r_range, dz=100, box_length=1000):\n",
    "        delta_sigma = np.zeros(len(r_range)-1)\n",
    "    \n",
    "        ##Periodic boundary condition for annulus. Halos are conditions at [0,1000] Mpc boundaries.       \n",
    "        dx_sqr = np.asarray([(halo_df.x-x)**2, (halo_df.x-x+box_length)**2, (halo_df.x-x-box_length)**2]).min(0)\n",
    "        dy_sqr = np.asarray([(halo_df.y-y)**2, (halo_df.y-y+box_length)**2, (halo_df.y-y-box_length)**2]).min(0)\n",
    "        dz_min = np.asarray([np.abs(halo_df.z-z), np.abs(halo_df.z-z+box_length), np.abs(halo_df.z-z-box_length)]).min(0)\n",
    "\n",
    "        for i in range(len(r_range)-1):\n",
    "            #radius for annulus\n",
    "            dr = r_range[i+1] - r_range[i]\n",
    "            r_cur = r_range[i]\n",
    "\n",
    "            #Masking\n",
    "            mask = dx_sqr + dy_sqr <= (r_cur+dr)**2\n",
    "            mask &= dz_min < dz\n",
    "\n",
    "            #Building an annulus\n",
    "            annulus_df = halo_df[mask]\n",
    "\n",
    "            #Find 2D density within the annulus\n",
    "            area = np.pi * ((r_cur+dr)**2 - (r_cur)**2.)\n",
    "            mvir_tot = annulus_df.mvir.sum()\n",
    "            \n",
    "            self.mass_dz200_halo[cluster_ind] += mvir_tot\n",
    "            delta_sigma[i] = mvir_tot/area\n",
    "\n",
    "        return delta_sigma\n",
    "        \n",
    "        \n",
    "    def compute_DS_dz50(self):\n",
    "        for i in range(len(self.cluster_df)):\n",
    "            dummy = self.__deltasigma_cluster_periodic(ptcl, i, self.cluster_df.iloc[i]['x'], self.cluster_df.iloc[i]['y'], self.cluster_df.iloc[i]['z'], self.r_range_norm[i], dz=50)   \n",
    "            self.DS_dz50[i] += dummy\n",
    "        return\n",
    "    \n",
    "    def compute_DS_dz100(self):\n",
    "        for i in range(len(self.cluster_df)):\n",
    "            dummy = self.__deltasigma_cluster_periodic(ptcl, i, self.cluster_df.iloc[i]['x'], self.cluster_df.iloc[i]['y'], self.cluster_df.iloc[i]['z'], self.r_range_norm[i], dz=100)       \n",
    "            self.DS_dz100[i] += dummy\n",
    "\n",
    "        return\n",
    "    \n",
    "    def compute_DS_dz200(self):\n",
    "        for i in range(len(self.cluster_df)):                \n",
    "            dummy = self.__deltasigma_cluster_periodic(ptcl, i, self.cluster_df.iloc[i]['x'], self.cluster_df.iloc[i]['y'], self.cluster_df.iloc[i]['z'], self.r_range_norm[i], dz=200)    \n",
    "            self.DS_dz200[i] += dummy\n",
    "        return\n",
    "    \n",
    "    def compute_DS_dz200_halo(self):\n",
    "        for i in range(len(self.cluster_df)):\n",
    "            for j, num in enumerate(file_num):\n",
    "                #print('file number {}'.format(num))\n",
    "                \n",
    "                halo_df = read_halo_file(clusters_dir, num)\n",
    "               \n",
    "                dummy = self.__deltasigma_cluster_periodic_halo(halo_df, i, self.cluster_df.iloc[i]['x'], self.cluster_df.iloc[i]['y'], self.cluster_df.iloc[i]['z'], self.r_range_norm[i], dz=200)\n",
    "                \n",
    "                self.DS_dz200_halo[i] += dummy\n",
    "                                 \n",
    "    def get_DS_dz50(self):\n",
    "        return self.DS_dz50\n",
    "    \n",
    "    def get_DS_dz100(self):\n",
    "        return self.DS_dz100\n",
    "    \n",
    "    def get_DS_dz200(self):\n",
    "        return self.DS_dz200\n",
    "    \n",
    "    def get_DS_dz200_halo(self):\n",
    "        return self.DS_dz200_halo\n",
    "    \n",
    "    def get_r_range_norm(self):\n",
    "        return self.r_range_norm\n",
    "    \n",
    "    def get_mass_dz50(self):\n",
    "        return self.mass_dz50\n",
    "    \n",
    "    def get_mass_dz100(self):\n",
    "        return self.mass_dz100\n",
    "\n",
    "    def get_mass_dz200(self):\n",
    "        return self.mass_dz200\n",
    "    \n",
    "    def get_mass_dz200_halo(self):\n",
    "        return self.mass_dz200_halo"
   ]
  },
  {
   "cell_type": "markdown",
   "id": "829324d0-1b23-4351-a6e4-c9c0029a774a",
   "metadata": {},
   "source": [
    "## Computing DS"
   ]
  },
  {
   "cell_type": "code",
   "execution_count": 66,
   "id": "1a672282-feba-4340-a500-eec3355402ae",
   "metadata": {},
   "outputs": [],
   "source": [
    "import pandas as pd\n",
    "cluster_df = pd.read_csv(clusters_dir + 'clusters_mvir_lgt_5e13.csv')"
   ]
  },
  {
   "cell_type": "code",
   "execution_count": 78,
   "id": "d318856e-dd6a-4afe-b9b1-b953d9539c9f",
   "metadata": {},
   "outputs": [],
   "source": [
    "mvir_low = 1e14; mvir_high = 5e14\n",
    "sample_num = 20\n",
    "\n",
    "mask = (cluster_df.mvir >= mvir_low) & (cluster_df.mvir < mvir_high)\n",
    "cur_df = cluster_df[mask]\n",
    "cur_df = cur_df.head(sample_num) ##Get the first 100 clusters"
   ]
  },
  {
   "cell_type": "code",
   "execution_count": 79,
   "id": "ab02d30a-cebb-48d2-b73b-7fa23cf8b7a7",
   "metadata": {},
   "outputs": [
    {
     "name": "stdout",
     "output_type": "stream",
     "text": [
      "Number of clusters in is: 20\n",
      "cluster columns: \n",
      " ['Unnamed: 0', 'scale', 'id', 'pid', 'mvir', 'rvir', 'x', 'y', 'z', 'M200b', 'M200c', 'M500c']\n"
     ]
    }
   ],
   "source": [
    "particle_file = ptcl_dir + 'MDPL2_dm_ptcl_1000th.pkl'\n",
    "ptcl = read_particle(particle_file)\n",
    "r_range = np.logspace(-1,1,20)\n",
    "cl_obj = clusters(particle_file, cur_df, r_range)"
   ]
  },
  {
   "cell_type": "code",
   "execution_count": 80,
   "id": "5719fb2b-bc91-48a1-a606-42d6945cb050",
   "metadata": {},
   "outputs": [
    {
     "name": "stdout",
     "output_type": "stream",
     "text": [
      "Time for computing DS_dz200: 312.8885610103607\n"
     ]
    }
   ],
   "source": [
    "from time import time\n",
    "\n",
    "#start = time()\n",
    "#cl_obj.compute_DS_dz50()\n",
    "#end = time()\n",
    "#print(\"Time for computing DS_dz50:\", end-start)\n",
    "\n",
    "#start = time()\n",
    "#cl_obj.compute_DS_dz100()\n",
    "#end = time()\n",
    "#print(\"Time for computing DS_dz100:\", end-start)\n",
    "\n",
    "start = time()\n",
    "cl_obj.compute_DS_dz200()\n",
    "end = time()\n",
    "print(\"Time for computing DS_dz200:\", end-start)\n",
    "\n",
    "#start = time()\n",
    "#cl_obj.compute_DS_dz200_halo()\n",
    "#end = time()\n",
    "#print(\"Time for computing DS_dz200_halo:\", end-start)"
   ]
  },
  {
   "cell_type": "code",
   "execution_count": 83,
   "id": "f4799c51-350f-4a50-886e-ad3da75fbb92",
   "metadata": {},
   "outputs": [],
   "source": [
    "DS_dz200_n20 = cl_obj.get_DS_dz200()"
   ]
  },
  {
   "cell_type": "code",
   "execution_count": 84,
   "id": "130201b8-e66e-4c9d-879e-933ae6d0a2ea",
   "metadata": {},
   "outputs": [],
   "source": [
    "with open('DS_dz200_n20.pkl','wb') as handle:\n",
    "    pickle.dump(DS_dz200_n20, handle)"
   ]
  },
  {
   "cell_type": "markdown",
   "id": "eb15c99c-dd8f-490b-808b-0236dd333794",
   "metadata": {},
   "source": [
    "## Files with different sampling"
   ]
  },
  {
   "cell_type": "code",
   "execution_count": 91,
   "id": "3fa9f597-a852-4530-b652-cd42a36a6802",
   "metadata": {},
   "outputs": [
    {
     "name": "stdout",
     "output_type": "stream",
     "text": [
      "Returning DM    Positions\n",
      "selecting every 100 particles\n"
     ]
    },
    {
     "ename": "TypeError",
     "evalue": "slice indices must be integers or None or have an __index__ method",
     "output_type": "error",
     "traceback": [
      "\u001b[0;31m---------------------------------------------------------------------------\u001b[0m",
      "\u001b[0;31mTypeError\u001b[0m                                 Traceback (most recent call last)",
      "\u001b[0;32m/tmp/ipykernel_11417/3632226130.py\u001b[0m in \u001b[0;36m<module>\u001b[0;34m\u001b[0m\n\u001b[1;32m      1\u001b[0m \u001b[0mptcl_100th\u001b[0m \u001b[0;34m=\u001b[0m \u001b[0mreadsnap\u001b[0m\u001b[0;34m(\u001b[0m\u001b[0mfile\u001b[0m\u001b[0;34m,\u001b[0m \u001b[0;34m'pos'\u001b[0m\u001b[0;34m,\u001b[0m \u001b[0;34m'dm'\u001b[0m\u001b[0;34m,\u001b[0m \u001b[0mnth\u001b[0m\u001b[0;34m=\u001b[0m\u001b[0;36m100\u001b[0m\u001b[0;34m,\u001b[0m \u001b[0msingle\u001b[0m\u001b[0;34m=\u001b[0m\u001b[0;32mTrue\u001b[0m\u001b[0;34m)\u001b[0m\u001b[0;34m\u001b[0m\u001b[0;34m\u001b[0m\u001b[0m\n\u001b[0;32m----> 2\u001b[0;31m \u001b[0mptcl_1e4\u001b[0m \u001b[0;34m=\u001b[0m \u001b[0mreadsnap\u001b[0m\u001b[0;34m(\u001b[0m\u001b[0mfile\u001b[0m\u001b[0;34m,\u001b[0m \u001b[0;34m'pos'\u001b[0m\u001b[0;34m,\u001b[0m \u001b[0;34m'dm'\u001b[0m\u001b[0;34m,\u001b[0m \u001b[0mnth\u001b[0m\u001b[0;34m=\u001b[0m\u001b[0;36m1e4\u001b[0m\u001b[0;34m,\u001b[0m \u001b[0msingle\u001b[0m\u001b[0;34m=\u001b[0m\u001b[0;32mTrue\u001b[0m\u001b[0;34m)\u001b[0m\u001b[0;34m\u001b[0m\u001b[0;34m\u001b[0m\u001b[0m\n\u001b[0m",
      "\u001b[0;32m~/.conda/envs/myLSST/lib/python3.7/site-packages/pyGadgetReader-2.6-py3.7.egg/readgadget/readgadget.py\u001b[0m in \u001b[0;36mreadsnap\u001b[0;34m(snap, data, ptype, **kwargs)\u001b[0m\n\u001b[1;32m    124\u001b[0m         \u001b[0;31m## return nth value\u001b[0m\u001b[0;34m\u001b[0m\u001b[0;34m\u001b[0m\u001b[0;34m\u001b[0m\u001b[0m\n\u001b[1;32m    125\u001b[0m         \u001b[0;32mif\u001b[0m \u001b[0mh\u001b[0m\u001b[0;34m.\u001b[0m\u001b[0mnth\u001b[0m \u001b[0;34m>\u001b[0m \u001b[0;36m1\u001b[0m\u001b[0;34m:\u001b[0m\u001b[0;34m\u001b[0m\u001b[0;34m\u001b[0m\u001b[0m\n\u001b[0;32m--> 126\u001b[0;31m             \u001b[0marr\u001b[0m \u001b[0;34m=\u001b[0m \u001b[0marr\u001b[0m\u001b[0;34m[\u001b[0m\u001b[0;36m0\u001b[0m\u001b[0;34m:\u001b[0m\u001b[0;34m:\u001b[0m\u001b[0mh\u001b[0m\u001b[0;34m.\u001b[0m\u001b[0mnth\u001b[0m\u001b[0;34m]\u001b[0m\u001b[0;34m\u001b[0m\u001b[0;34m\u001b[0m\u001b[0m\n\u001b[0m\u001b[1;32m    127\u001b[0m \u001b[0;34m\u001b[0m\u001b[0m\n\u001b[1;32m    128\u001b[0m         \u001b[0;31m## put arrays together\u001b[0m\u001b[0;34m\u001b[0m\u001b[0;34m\u001b[0m\u001b[0;34m\u001b[0m\u001b[0m\n",
      "\u001b[0;31mTypeError\u001b[0m: slice indices must be integers or None or have an __index__ method"
     ]
    }
   ],
   "source": [
    "ptcl_100th = readsnap(file, 'pos', 'dm', nth=100)\n",
    "ptcl_1e4 = readsnap(file, 'pos', 'dm', nth=1e4)"
   ]
  },
  {
   "cell_type": "code",
   "execution_count": null,
   "id": "56cd2499-4d2a-4896-ba93-d757b0c8bb42",
   "metadata": {},
   "outputs": [],
   "source": []
  }
 ],
 "metadata": {
  "kernelspec": {
   "display_name": "myLSST",
   "language": "python",
   "name": "mylsst"
  },
  "language_info": {
   "codemirror_mode": {
    "name": "ipython",
    "version": 3
   },
   "file_extension": ".py",
   "mimetype": "text/x-python",
   "name": "python",
   "nbconvert_exporter": "python",
   "pygments_lexer": "ipython3",
   "version": "3.7.12"
  }
 },
 "nbformat": 4,
 "nbformat_minor": 5
}
