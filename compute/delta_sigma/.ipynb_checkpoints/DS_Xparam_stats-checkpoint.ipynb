{
 "cells": [
  {
   "cell_type": "markdown",
   "id": "c36b7d31-c3b5-4669-a739-2e89e44d917d",
   "metadata": {},
   "source": [
    "## Quantity the dependence on DS with secondary halo parameters\n",
    "* Test on a set of benchmark bins. \n",
    "* Determine the dependence on each parameter. \n",
    "* Display summary stats on all benchmark bins\n",
    "* See if trends remain the same (positive, negative correlation) at all (M,z)\n",
    "* Show if $\\rho=0$ at large R"
   ]
  },
  {
   "cell_type": "markdown",
   "id": "476f764c-25c6-4b36-ad3a-25504941c82d",
   "metadata": {},
   "source": [
    "## Import"
   ]
  },
  {
   "cell_type": "code",
   "execution_count": 1,
   "id": "8216ea28-c2c2-4140-be91-9ecf37769660",
   "metadata": {},
   "outputs": [],
   "source": [
    "## Use the setup.py file to output directories. \n",
    "import sys\n",
    "sys.path.append('/global/homes/z/zzhang13/BaryonPasting/CorrelatedStructures/multiDark/')\n",
    "\n",
    "from setup import *\n",
    "toolsdir = tools_dir()\n",
    "repodir = repo_dir()\n",
    "chainsdir = chains_dir()\n",
    "datadir = data_dir()\n",
    "plotdir = plots_dir()\n",
    "\n",
    "sys.path.append(toolsdir)\n",
    "sys.path.append(repodir)"
   ]
  },
  {
   "cell_type": "code",
   "execution_count": 2,
   "id": "d8fb7623-7f06-4c06-8220-a773e92b8cae",
   "metadata": {},
   "outputs": [],
   "source": [
    "import pandas as pd\n",
    "import matplotlib.pyplot as plt\n",
    "import seaborn as sns\n",
    "import statsmodels.api as sm\n",
    "import statsmodels.stats.api as sms\n",
    "import statsmodels.formula.api as smf\n",
    "import scipy.stats as stats\n",
    "import matplotlib.cm as cm\n",
    "#from IPython.display import display\n",
    "from mpl_toolkits.mplot3d import Axes3D\n",
    "from sklearn.feature_selection import f_regression\n",
    "from statsmodels.stats.anova import anova_lm\n",
    "from statsmodels.compat import lzip\n",
    "#sns.set()\n",
    "#pd.set_option('display.notebook_repr_html', True)\n",
    "#pd.set_option('display.precision', 2)\n",
    "#%matplotlib notebook\n",
    "#plt.rcParams['figure.figsize'] = 10, 10\n",
    "from scipy.stats import norm\n",
    "from scipy import stats"
   ]
  },
  {
   "cell_type": "code",
   "execution_count": 3,
   "id": "23cfb176-6f41-4e11-8b08-b39fc94fe1e1",
   "metadata": {},
   "outputs": [],
   "source": [
    "import warnings\n",
    "warnings.filterwarnings(\"ignore\")"
   ]
  },
  {
   "cell_type": "code",
   "execution_count": 13,
   "id": "b21b6012-7691-469d-a836-276600fb62b8",
   "metadata": {},
   "outputs": [],
   "source": [
    "## KLLR setup\n",
    "import sys\n",
    "sys.path.append('/global/u1/z/zzhang13')\n",
    "\n",
    "from kllr.kllr.regression_model import *\n",
    "from kllr.kllr.regression_plotting import *\n",
    "from kllr.kllr.calc_cov_KLLR import *\n",
    "\n",
    "kllr_nbins= 20\n",
    "kernel_type = 'gaussian'\n",
    "kernel_width = 0.1"
   ]
  },
  {
   "cell_type": "code",
   "execution_count": 7,
   "id": "20da2785-d315-455b-9d60-68b766863f90",
   "metadata": {},
   "outputs": [],
   "source": [
    "from data_bins import r_cent_lin_norm, r_cent_log_norm\n",
    "from data_bins import mass_bins, mass_bin_cent\n",
    "from data_bins import a_bins"
   ]
  },
  {
   "cell_type": "markdown",
   "id": "671fa7fa-da14-4149-b6d7-7e9f08ac22ce",
   "metadata": {},
   "source": [
    "### Halo catalog"
   ]
  },
  {
   "cell_type": "code",
   "execution_count": 5,
   "id": "2e0e98fe-bec5-4811-8828-a1b375e9ca68",
   "metadata": {},
   "outputs": [],
   "source": [
    "with open(datadir + 'MDPL2_DS_R200c_SAGE_Ngal_allM_allz.p', 'rb') as f:\n",
    "    matched_halo_df = pickle.load(f)"
   ]
  },
  {
   "cell_type": "code",
   "execution_count": 6,
   "id": "31552d3e-9a92-4643-a8b5-6b1efce6d71d",
   "metadata": {},
   "outputs": [
    {
     "data": {
      "text/plain": [
       "Index(['id', 'Xoff', 'scale', 'CtreesHaloID', 'pid', 'mvir', 'rvir', 'rs', 'x',\n",
       "       'y', 'z', 'Mmvir_all', 'M200b', 'M200c', 'M500c', 'T/|U|',\n",
       "       'Halfmass_Scale', 'Acc_Rate_Inst', 'Acc_Rate_100Myr', 'Acc_Rate_1*Tdyn',\n",
       "       'Acc_Rate_2*Tdyn', 'Acc_Rate_Mpeak', 'c_vir', 'R200c', 'R500c',\n",
       "       'redshift', 'Ngal_Dsep_1', 'Ngal_Rvir', 'Ngal_R200c', 'Ngal_R500c',\n",
       "       'sigma', 'r_range', 'delta_sigma'],\n",
       "      dtype='object')"
      ]
     },
     "execution_count": 6,
     "metadata": {},
     "output_type": "execute_result"
    }
   ],
   "source": [
    "matched_halo_df.columns"
   ]
  },
  {
   "cell_type": "markdown",
   "id": "5f28d293-48ca-47c0-aabf-42b86a1a76cb",
   "metadata": {},
   "source": [
    "## Find multilinear fit for $P(\\Delta\\Sigma | \\ln\\lambda, M, z) (R) $\n",
    "\n",
    "Test for M = [1e14, 2e14] at z = {0.00, 0.49, 1.03} at R = {0.1, 0.5, 1, 2}. Totaling $1 \\times 3 \\times 4 = 12$ bins"
   ]
  },
  {
   "cell_type": "markdown",
   "id": "383d4dd8-966b-45e7-ac98-6d996311b499",
   "metadata": {},
   "source": [
    "### Create data vector"
   ]
  },
  {
   "cell_type": "code",
   "execution_count": 153,
   "id": "af6b9b29-b967-4ded-b993-a2814b4be42a",
   "metadata": {},
   "outputs": [
    {
     "name": "stdout",
     "output_type": "stream",
     "text": [
      "Radius:  0.1778279410038923\n"
     ]
    }
   ],
   "source": [
    "## Test this on one bin first. Then extend to all bins.\n",
    "X_params = ['T/|U|', 'c_vir', 'Halfmass_Scale', 'Acc_Rate_2*Tdyn', 'Xoff']\n",
    "radii_bin = 2\n",
    "mass_min = 1e14; mass_max = 2e14; scale = 0.4922\n",
    "#a_bins = [1, 0.6712, 0.4922]\n",
    "const = 1e15\n",
    "\n",
    "mask = (matched_halo_df.M200c >= 1e14) & (matched_halo_df.M200c < 2e14) & (matched_halo_df.scale == 1)\n",
    "all_df = matched_halo_df[mask]\n",
    "DS_all = np.vstack(all_df['delta_sigma'])\n",
    "DS_rbin = DS_all[:, radii_bin] + const\n",
    "DS_rbin = np.log10(DS_rbin)\n",
    "## Apply KLLR to find the residual\n",
    "print(\"Radius: \", r_cent_lin_norm[radii_bin])"
   ]
  },
  {
   "cell_type": "markdown",
   "id": "6cddee70-9a27-4fab-893d-69be46747f19",
   "metadata": {},
   "source": [
    "### Apply KLLR to find localized residual"
   ]
  },
  {
   "cell_type": "code",
   "execution_count": 154,
   "id": "65c0f4c4-f115-4503-9fc4-45b920587d0b",
   "metadata": {},
   "outputs": [],
   "source": [
    "lm  = kllr_model(kernel_type=kernel_type, kernel_width=kernel_width)\n",
    "xline, yline, intercept, slopes, scatter, skew, kurt = lm.fit(np.log10(all_df.M200c), DS_rbin, \\\n",
    "                                                              bins=kllr_nbins, kernel_width=kernel_width, kernel_type=kernel_type, nBootstrap=1) \n",
    "\n",
    "dy_kllr = lm.residuals(np.log10(all_df.M200c),  DS_rbin, bins=kllr_nbins, nBootstrap = 1,\n",
    "                      fast_calc = False, verbose = False, kernel_type=kernel_type, kernel_width=kernel_width)"
   ]
  },
  {
   "cell_type": "code",
   "execution_count": 155,
   "id": "e27a0bfb-ec08-40e1-9ee8-e5e5e09bb4bd",
   "metadata": {},
   "outputs": [
    {
     "data": {
      "text/plain": [
       "[<matplotlib.lines.Line2D at 0x1554fdf1b490>]"
      ]
     },
     "execution_count": 155,
     "metadata": {},
     "output_type": "execute_result"
    },
    {
     "data": {
      "image/png": "[encoded data removed]",
      "text/plain": [
       "<Figure size 432x288 with 1 Axes>"
      ]
     },
     "metadata": {
      "needs_background": "light"
     },
     "output_type": "display_data"
    }
   ],
   "source": [
    "plt.scatter(np.log10(all_df.M200c), DS_rbin, alpha=0.2, label='Measured')\n",
    "plt.plot(xline, yline, label='KLLR Mean', color='blue', linewidth=5)"
   ]
  },
  {
   "cell_type": "markdown",
   "id": "1f0c0802-f572-4c81-8a70-18369175ff29",
   "metadata": {},
   "source": [
    "### Apply multi-linear regression"
   ]
  },
  {
   "cell_type": "code",
   "execution_count": 156,
   "id": "cb202dda-17d1-4361-9fb2-35c5a0ecb737",
   "metadata": {},
   "outputs": [],
   "source": [
    "##Apply linear regression\n",
    "X = all_df[X_params]\n",
    "X = sm.add_constant(X)\n",
    "y = np.array(dy_kllr,dtype=float)\n",
    "mreg = sm.OLS(y, X).fit()"
   ]
  },
  {
   "cell_type": "code",
   "execution_count": 157,
   "id": "ff53fe96-2209-469e-b354-3bdc8527b5d8",
   "metadata": {},
   "outputs": [
    {
     "data": {
      "text/html": [
       "<table class=\"simpletable\">\n",
       "<caption>OLS Regression Results</caption>\n",
       "<tr>\n",
       "  <th>Dep. Variable:</th>            <td>y</td>        <th>  R-squared:         </th> <td>   0.387</td>\n",
       "</tr>\n",
       "<tr>\n",
       "  <th>Model:</th>                   <td>OLS</td>       <th>  Adj. R-squared:    </th> <td>   0.381</td>\n",
       "</tr>\n",
       "<tr>\n",
       "  <th>Method:</th>             <td>Least Squares</td>  <th>  F-statistic:       </th> <td>   62.33</td>\n",
       "</tr>\n",
       "<tr>\n",
       "  <th>Date:</th>             <td>Fri, 10 Feb 2023</td> <th>  Prob (F-statistic):</th> <td>2.45e-50</td>\n",
       "</tr>\n",
       "<tr>\n",
       "  <th>Time:</th>                 <td>09:39:25</td>     <th>  Log-Likelihood:    </th> <td>  1375.3</td>\n",
       "</tr>\n",
       "<tr>\n",
       "  <th>No. Observations:</th>      <td>   500</td>      <th>  AIC:               </th> <td>  -2739.</td>\n",
       "</tr>\n",
       "<tr>\n",
       "  <th>Df Residuals:</th>          <td>   494</td>      <th>  BIC:               </th> <td>  -2713.</td>\n",
       "</tr>\n",
       "<tr>\n",
       "  <th>Df Model:</th>              <td>     5</td>      <th>                     </th>     <td> </td>   \n",
       "</tr>\n",
       "<tr>\n",
       "  <th>Covariance Type:</th>      <td>nonrobust</td>    <th>                     </th>     <td> </td>   \n",
       "</tr>\n",
       "</table>\n",
       "<table class=\"simpletable\">\n",
       "<tr>\n",
       "         <td></td>            <th>coef</th>     <th>std err</th>      <th>t</th>      <th>P>|t|</th>  <th>[0.025</th>    <th>0.975]</th>  \n",
       "</tr>\n",
       "<tr>\n",
       "  <th>const</th>           <td>    0.0200</td> <td>    0.012</td> <td>    1.689</td> <td> 0.092</td> <td>   -0.003</td> <td>    0.043</td>\n",
       "</tr>\n",
       "<tr>\n",
       "  <th>T/|U|</th>           <td>   -0.0496</td> <td>    0.022</td> <td>   -2.269</td> <td> 0.024</td> <td>   -0.093</td> <td>   -0.007</td>\n",
       "</tr>\n",
       "<tr>\n",
       "  <th>c_vir</th>           <td>    0.0045</td> <td>    0.001</td> <td>    8.290</td> <td> 0.000</td> <td>    0.003</td> <td>    0.006</td>\n",
       "</tr>\n",
       "<tr>\n",
       "  <th>Halfmass_Scale</th>  <td>   -0.0210</td> <td>    0.010</td> <td>   -2.093</td> <td> 0.037</td> <td>   -0.041</td> <td>   -0.001</td>\n",
       "</tr>\n",
       "<tr>\n",
       "  <th>Acc_Rate_2*Tdyn</th> <td>-1.004e-07</td> <td> 1.14e-07</td> <td>   -0.879</td> <td> 0.380</td> <td>-3.25e-07</td> <td> 1.24e-07</td>\n",
       "</tr>\n",
       "<tr>\n",
       "  <th>Xoff</th>            <td>-6.998e-06</td> <td> 2.16e-05</td> <td>   -0.324</td> <td> 0.746</td> <td>-4.95e-05</td> <td> 3.55e-05</td>\n",
       "</tr>\n",
       "</table>\n",
       "<table class=\"simpletable\">\n",
       "<tr>\n",
       "  <th>Omnibus:</th>       <td>30.880</td> <th>  Durbin-Watson:     </th> <td>   2.009</td>\n",
       "</tr>\n",
       "<tr>\n",
       "  <th>Prob(Omnibus):</th> <td> 0.000</td> <th>  Jarque-Bera (JB):  </th> <td>  36.604</td>\n",
       "</tr>\n",
       "<tr>\n",
       "  <th>Skew:</th>          <td> 0.568</td> <th>  Prob(JB):          </th> <td>1.13e-08</td>\n",
       "</tr>\n",
       "<tr>\n",
       "  <th>Kurtosis:</th>      <td> 3.684</td> <th>  Cond. No.          </th> <td>5.79e+05</td>\n",
       "</tr>\n",
       "</table><br/><br/>Notes:<br/>[1] Standard Errors assume that the covariance matrix of the errors is correctly specified.<br/>[2] The condition number is large, 5.79e+05. This might indicate that there are<br/>strong multicollinearity or other numerical problems."
      ],
      "text/plain": [
       "<class 'statsmodels.iolib.summary.Summary'>\n",
       "\"\"\"\n",
       "                            OLS Regression Results                            \n",
       "==============================================================================\n",
       "Dep. Variable:                      y   R-squared:                       0.387\n",
       "Model:                            OLS   Adj. R-squared:                  0.381\n",
       "Method:                 Least Squares   F-statistic:                     62.33\n",
       "Date:                Fri, 10 Feb 2023   Prob (F-statistic):           2.45e-50\n",
       "Time:                        09:39:25   Log-Likelihood:                 1375.3\n",
       "No. Observations:                 500   AIC:                            -2739.\n",
       "Df Residuals:                     494   BIC:                            -2713.\n",
       "Df Model:                           5                                         \n",
       "Covariance Type:            nonrobust                                         \n",
       "===================================================================================\n",
       "                      coef    std err          t      P>|t|      [0.025      0.975]\n",
       "-----------------------------------------------------------------------------------\n",
       "const               0.0200      0.012      1.689      0.092      -0.003       0.043\n",
       "T/|U|              -0.0496      0.022     -2.269      0.024      -0.093      -0.007\n",
       "c_vir               0.0045      0.001      8.290      0.000       0.003       0.006\n",
       "Halfmass_Scale     -0.0210      0.010     -2.093      0.037      -0.041      -0.001\n",
       "Acc_Rate_2*Tdyn -1.004e-07   1.14e-07     -0.879      0.380   -3.25e-07    1.24e-07\n",
       "Xoff            -6.998e-06   2.16e-05     -0.324      0.746   -4.95e-05    3.55e-05\n",
       "==============================================================================\n",
       "Omnibus:                       30.880   Durbin-Watson:                   2.009\n",
       "Prob(Omnibus):                  0.000   Jarque-Bera (JB):               36.604\n",
       "Skew:                           0.568   Prob(JB):                     1.13e-08\n",
       "Kurtosis:                       3.684   Cond. No.                     5.79e+05\n",
       "==============================================================================\n",
       "\n",
       "Notes:\n",
       "[1] Standard Errors assume that the covariance matrix of the errors is correctly specified.\n",
       "[2] The condition number is large, 5.79e+05. This might indicate that there are\n",
       "strong multicollinearity or other numerical problems.\n",
       "\"\"\""
      ]
     },
     "metadata": {},
     "output_type": "display_data"
    }
   ],
   "source": [
    "display(mreg.summary())"
   ]
  },
  {
   "cell_type": "markdown",
   "id": "bd81f32b-99be-4246-a0cc-d1e12a78a676",
   "metadata": {},
   "source": [
    "### Testing for multi-collinearity"
   ]
  },
  {
   "cell_type": "code",
   "execution_count": 158,
   "id": "f3b21e1e-44b7-49bf-8ec8-8dc1ed51221f",
   "metadata": {},
   "outputs": [
    {
     "name": "stdout",
     "output_type": "stream",
     "text": [
      "           feature         VIF\n",
      "0            const  289.399829\n",
      "1            T/|U|    3.012601\n",
      "2            c_vir    2.020222\n",
      "3   Halfmass_Scale    2.688473\n",
      "4  Acc_Rate_2*Tdyn    2.334818\n",
      "5             Xoff    2.899789\n"
     ]
    }
   ],
   "source": [
    "from statsmodels.stats.outliers_influence import variance_inflation_factor\n",
    "\n",
    "# function to check VIF\n",
    "def checking_vif(train):\n",
    "    vif = pd.DataFrame()\n",
    "    vif[\"feature\"] = train.columns\n",
    "\n",
    "    # calculating VIF for each feature\n",
    "    vif[\"VIF\"] = [\n",
    "        variance_inflation_factor(train.values, i) for i in range(len(train.columns))\n",
    "    ]\n",
    "    return vif\n",
    "\n",
    "\n",
    "print(checking_vif(X))"
   ]
  },
  {
   "cell_type": "markdown",
   "id": "11e84e58-40f6-4a06-aa49-33d5186ca4d9",
   "metadata": {},
   "source": [
    "### F regression test for significance of values\n"
   ]
  },
  {
   "cell_type": "code",
   "execution_count": 159,
   "id": "1759f3dc-79b7-48d1-98c2-9dc17ef29550",
   "metadata": {},
   "outputs": [
    {
     "name": "stdout",
     "output_type": "stream",
     "text": [
      "Index(['const', 'T/|U|', 'c_vir', 'Halfmass_Scale', 'Acc_Rate_2*Tdyn', 'Xoff'], dtype='object')\n"
     ]
    },
    {
     "data": {
      "text/plain": [
       "array([         nan, 102.97968435, 244.93905349, 165.99383872,\n",
       "       130.95106532, 134.64547185])"
      ]
     },
     "metadata": {},
     "output_type": "display_data"
    },
    {
     "data": {
      "text/plain": [
       "array([           nan, 4.03716032e-22, 3.42822237e-45, 5.53137843e-33,\n",
       "       4.41699921e-27, 1.01648738e-27])"
      ]
     },
     "metadata": {},
     "output_type": "display_data"
    }
   ],
   "source": [
    "print(X.columns)\n",
    "(F, pval) = f_regression(X, y)\n",
    "display(F, pval)"
   ]
  },
  {
   "cell_type": "markdown",
   "id": "8c852c70-df2a-4c45-bd89-e8b9b285e3aa",
   "metadata": {},
   "source": [
    "### Heterodescity"
   ]
  },
  {
   "cell_type": "code",
   "execution_count": 160,
   "id": "7d1779c7-75f2-4517-a09d-c780726529e4",
   "metadata": {},
   "outputs": [
    {
     "data": {
      "text/plain": [
       "[('F statistic', 0.9617928446361879), ('p-value', 0.6194118235395952)]"
      ]
     },
     "execution_count": 160,
     "metadata": {},
     "output_type": "execute_result"
    }
   ],
   "source": [
    "from statsmodels.stats.diagnostic import het_white\n",
    "from statsmodels.compat import lzip\n",
    "import statsmodels.stats.api as sms\n",
    "\n",
    "name = [\"F statistic\", \"p-value\"]\n",
    "test = sms.het_goldfeldquandt(y, X)\n",
    "lzip(name, test)"
   ]
  },
  {
   "cell_type": "markdown",
   "id": "b136ab6d-fec8-4842-ad12-b73f1a0c6238",
   "metadata": {},
   "source": [
    "### Check residual is 0"
   ]
  },
  {
   "cell_type": "code",
   "execution_count": 161,
   "id": "481474fc-63dc-4b59-a05d-97e5a7797f4c",
   "metadata": {},
   "outputs": [
    {
     "name": "stdout",
     "output_type": "stream",
     "text": [
      "1.135441740629517e-13\n",
      "0.015474266381275924\n"
     ]
    }
   ],
   "source": [
    "residuals = mreg.resid\n",
    "print(residuals.mean())\n",
    "print(residuals.std())"
   ]
  },
  {
   "cell_type": "markdown",
   "id": "d1dbef14-10e1-42f0-b7f9-0895d6dd54a1",
   "metadata": {},
   "source": [
    "### Test for linearity"
   ]
  },
  {
   "cell_type": "code",
   "execution_count": 162,
   "id": "d14e565a-b1bd-4403-af4d-19cca4caeaac",
   "metadata": {},
   "outputs": [
    {
     "data": {
      "image/png": "[encoded data removed]",
      "text/plain": [
       "<Figure size 432x288 with 1 Axes>"
      ]
     },
     "metadata": {
      "needs_background": "light"
     },
     "output_type": "display_data"
    }
   ],
   "source": [
    "# predicted values\n",
    "fitted = mreg.fittedvalues\n",
    "\n",
    "# sns.set_style(\"whitegrid\")\n",
    "sns.residplot(x = fitted, y = residuals, color=\"lightblue\", lowess=True)\n",
    "plt.xlabel(\"Fitted Values\")\n",
    "plt.ylabel(\"Residual\")\n",
    "plt.title(\"Residual PLOT\")\n",
    "plt.show()"
   ]
  },
  {
   "cell_type": "markdown",
   "id": "8ad83279-061d-4f7c-a859-1000b70e69f4",
   "metadata": {},
   "source": [
    "### Gaussian error"
   ]
  },
  {
   "cell_type": "code",
   "execution_count": 163,
   "id": "77c7452e-af1d-49f0-b117-355b53befd76",
   "metadata": {},
   "outputs": [
    {
     "data": {
      "image/png": "[encoded data removed]",
      "text/plain": [
       "<Figure size 432x288 with 1 Axes>"
      ]
     },
     "metadata": {
      "needs_background": "light"
     },
     "output_type": "display_data"
    }
   ],
   "source": [
    "# Plot histogram of residuals\n",
    "sns.histplot(residuals, kde=True)\n",
    "plt.show()"
   ]
  },
  {
   "cell_type": "code",
   "execution_count": 164,
   "id": "3adc2ef2-2253-4a93-8c2f-f74728bbd7e1",
   "metadata": {},
   "outputs": [
    {
     "data": {
      "image/png": "[encoded data removed]",
      "text/plain": [
       "<Figure size 432x288 with 1 Axes>"
      ]
     },
     "metadata": {
      "needs_background": "light"
     },
     "output_type": "display_data"
    }
   ],
   "source": [
    "# Plot q-q plot of residuals\n",
    "import pylab\n",
    "import scipy.stats as stats\n",
    "\n",
    "stats.probplot(residuals, dist=\"norm\", plot=pylab)\n",
    "plt.show()"
   ]
  },
  {
   "cell_type": "code",
   "execution_count": 165,
   "id": "d70719d8-06bd-4930-85d8-364b3081bb62",
   "metadata": {},
   "outputs": [
    {
     "name": "stdout",
     "output_type": "stream",
     "text": [
      "0.48319846670591654 5.684826226604954e-108\n",
      "0.9805547595024109 3.170067202518112e-06\n",
      "AndersonResult(statistic=2.517528822081033, critical_values=array([0.571, 0.651, 0.781, 0.911, 1.083]), significance_level=array([15. , 10. ,  5. ,  2.5,  1. ]))\n"
     ]
    }
   ],
   "source": [
    "## Apply the KS Test\n",
    "from scipy.stats import kstest, norm\n",
    "from scipy.stats import shapiro\n",
    "from scipy.stats import anderson\n",
    "ks_statistic, ks_p_value = kstest(residuals, 'norm')\n",
    "sw_statistic, sw_p_value = shapiro(residuals)\n",
    "ad_result = anderson(residuals, 'norm')\n",
    "print(ks_statistic, ks_p_value)\n",
    "print(sw_statistic, sw_p_value)\n",
    "print(ad_result)"
   ]
  },
  {
   "cell_type": "markdown",
   "id": "16848bf2-c6dc-44f6-99a4-6f79452bd8ae",
   "metadata": {},
   "source": [
    "### Partitioning Sum of Squares\n",
    "* Total: 24.02\n",
    "* SS Mass (unique): 24.02 - 14.66 = 9.36\n",
    "* SS Formation time history (unique): 24.02 - 17.02 = 7.00\n",
    "* SS Confounded: 7.66"
   ]
  }
 ],
 "metadata": {
  "kernelspec": {
   "display_name": "myLSST",
   "language": "python",
   "name": "mylsst"
  },
  "language_info": {
   "codemirror_mode": {
    "name": "ipython",
    "version": 3
   },
   "file_extension": ".py",
   "mimetype": "text/x-python",
   "name": "python",
   "nbconvert_exporter": "python",
   "pygments_lexer": "ipython3",
   "version": "3.7.12"
  }
 },
 "nbformat": 4,
 "nbformat_minor": 5
}
