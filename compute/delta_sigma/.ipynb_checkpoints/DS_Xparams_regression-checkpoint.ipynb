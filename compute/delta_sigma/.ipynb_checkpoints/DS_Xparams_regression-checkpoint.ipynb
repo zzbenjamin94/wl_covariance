{
 "cells": [
  {
   "cell_type": "code",
   "execution_count": 1,
   "id": "388e6577-cb7e-479a-b111-755caa2f2a91",
   "metadata": {},
   "outputs": [],
   "source": [
    "from scipy.stats import kde\n",
    "import h5py\n",
    "import astropy.io.fits as fits\n",
    "import csv\n",
    "import pandas as pd\n",
    "import numpy as np\n",
    "import tables\n",
    "import pickle\n",
    "import os\n",
    "from astropy.table import Table\n",
    "from astropy.coordinates import SkyCoord\n",
    "from tqdm import tqdm\n",
    "from astropy.io import ascii\n",
    "import os"
   ]
  },
  {
   "cell_type": "code",
   "execution_count": 2,
   "id": "4fc342ab-218a-410e-ba76-323fe7098936",
   "metadata": {},
   "outputs": [],
   "source": [
    "import pandas as pd\n",
    "import matplotlib.pyplot as plt\n",
    "import seaborn as sns\n",
    "import statsmodels.api as sm\n",
    "import statsmodels.formula.api as smf\n",
    "import scipy.stats as stats\n",
    "import matplotlib.cm as cm\n",
    "#from IPython.display import display\n",
    "from mpl_toolkits.mplot3d import Axes3D\n",
    "from sklearn.feature_selection import f_regression\n",
    "from statsmodels.stats.anova import anova_lm\n",
    "\n",
    "#sns.set()\n",
    "#pd.set_option('display.notebook_repr_html', True)\n",
    "#pd.set_option('display.precision', 2)\n",
    "#%matplotlib notebook\n",
    "#plt.rcParams['figure.figsize'] = 10, 10"
   ]
  },
  {
   "cell_type": "markdown",
   "id": "16dc79a7-9ebd-4c2b-add3-7b806b3a6837",
   "metadata": {},
   "source": [
    "## Collecting the data"
   ]
  },
  {
   "cell_type": "code",
   "execution_count": 88,
   "id": "2aca2866-ed8c-4359-b083-e28050e4d1d3",
   "metadata": {},
   "outputs": [],
   "source": [
    "clusters_z0p00_file = '/global/cscratch1/sd/zzhang13/MultiDark/MDPL2_ROCKSTAR_Halos/z0p00/' + 'MDPL2_halos_DS_Ngal_Dgal_lt_2_allM_mah_z0p00.p'"
   ]
  },
  {
   "cell_type": "code",
   "execution_count": 89,
   "id": "875f925f-a891-4a39-a7cc-3db17648de85",
   "metadata": {},
   "outputs": [],
   "source": [
    "with open(clusters_z0p00_file, 'rb') as handle:\n",
    "    matched_halo_df = pickle.load(handle)"
   ]
  },
  {
   "cell_type": "code",
   "execution_count": 90,
   "id": "57e19123-de61-4b34-8b4a-3a698c364a4b",
   "metadata": {},
   "outputs": [
    {
     "data": {
      "text/plain": [
       "Index(['scale', 'id', 'pid', 'mvir', 'rvir', 'x', 'y', 'z', 'M200b', 'M200c',\n",
       "       'M500c', 'Type', 'GalaxyIndex', 'CentralGalaxyIndex', 'CtreesHaloID',\n",
       "       'CtreesCentralID', 'CentralMvir', 'StellarMass', 'Ngal', 'cluster_id',\n",
       "       'sigma', 'r_range', 'delta_sigma', 'rs', 'T/|U|', 'Halfmass_Scale',\n",
       "       'Acc_Rate_Inst', 'Acc_Rate_100Myr', 'Acc_Rate_1*Tdyn',\n",
       "       'Acc_Rate_2*Tdyn', 'Acc_Rate_Mpeak', 'c_vir'],\n",
       "      dtype='object')"
      ]
     },
     "execution_count": 90,
     "metadata": {},
     "output_type": "execute_result"
    }
   ],
   "source": [
    "matched_halo_df.columns"
   ]
  },
  {
   "cell_type": "markdown",
   "id": "e5618471-177d-4584-86a5-f77dae176cdc",
   "metadata": {},
   "source": [
    "## Initiating the variables. \n",
    "\n",
    "What is it that we want to do. \n",
    "\n",
    "Build a linear regression model to explain DeltaSigma in the inner bin as a function of mass and formation time history"
   ]
  },
  {
   "cell_type": "code",
   "execution_count": 91,
   "id": "af3a23c4-6257-434d-a3c9-50941bcdd16f",
   "metadata": {},
   "outputs": [
    {
     "data": {
      "text/html": [
       "<div>\n",
       "<style scoped>\n",
       "    .dataframe tbody tr th:only-of-type {\n",
       "        vertical-align: middle;\n",
       "    }\n",
       "\n",
       "    .dataframe tbody tr th {\n",
       "        vertical-align: top;\n",
       "    }\n",
       "\n",
       "    .dataframe thead th {\n",
       "        text-align: right;\n",
       "    }\n",
       "</style>\n",
       "<table border=\"1\" class=\"dataframe\">\n",
       "  <thead>\n",
       "    <tr style=\"text-align: right;\">\n",
       "      <th></th>\n",
       "      <th>mvir</th>\n",
       "      <th>M200b</th>\n",
       "      <th>T/|U|</th>\n",
       "      <th>Halfmass_Scale</th>\n",
       "      <th>Acc_Rate_Inst</th>\n",
       "      <th>Acc_Rate_100Myr</th>\n",
       "      <th>Acc_Rate_1*Tdyn</th>\n",
       "      <th>Acc_Rate_2*Tdyn</th>\n",
       "      <th>Acc_Rate_Mpeak</th>\n",
       "      <th>c_vir</th>\n",
       "    </tr>\n",
       "  </thead>\n",
       "  <tbody>\n",
       "    <tr>\n",
       "      <th>mvir</th>\n",
       "      <td>1.000000</td>\n",
       "      <td>0.996716</td>\n",
       "      <td>0.238452</td>\n",
       "      <td>0.196192</td>\n",
       "      <td>0.358387</td>\n",
       "      <td>0.358387</td>\n",
       "      <td>0.613766</td>\n",
       "      <td>0.793756</td>\n",
       "      <td>0.883615</td>\n",
       "      <td>-0.203265</td>\n",
       "    </tr>\n",
       "    <tr>\n",
       "      <th>M200b</th>\n",
       "      <td>0.996716</td>\n",
       "      <td>1.000000</td>\n",
       "      <td>0.231508</td>\n",
       "      <td>0.179047</td>\n",
       "      <td>0.366252</td>\n",
       "      <td>0.366252</td>\n",
       "      <td>0.589850</td>\n",
       "      <td>0.774323</td>\n",
       "      <td>0.871444</td>\n",
       "      <td>-0.212097</td>\n",
       "    </tr>\n",
       "    <tr>\n",
       "      <th>T/|U|</th>\n",
       "      <td>0.238452</td>\n",
       "      <td>0.231508</td>\n",
       "      <td>1.000000</td>\n",
       "      <td>0.642274</td>\n",
       "      <td>0.455129</td>\n",
       "      <td>0.455129</td>\n",
       "      <td>0.613005</td>\n",
       "      <td>0.473223</td>\n",
       "      <td>0.393809</td>\n",
       "      <td>-0.396614</td>\n",
       "    </tr>\n",
       "    <tr>\n",
       "      <th>Halfmass_Scale</th>\n",
       "      <td>0.196192</td>\n",
       "      <td>0.179047</td>\n",
       "      <td>0.642274</td>\n",
       "      <td>1.000000</td>\n",
       "      <td>0.237599</td>\n",
       "      <td>0.237599</td>\n",
       "      <td>0.464309</td>\n",
       "      <td>0.515517</td>\n",
       "      <td>0.468765</td>\n",
       "      <td>-0.575582</td>\n",
       "    </tr>\n",
       "    <tr>\n",
       "      <th>Acc_Rate_Inst</th>\n",
       "      <td>0.358387</td>\n",
       "      <td>0.366252</td>\n",
       "      <td>0.455129</td>\n",
       "      <td>0.237599</td>\n",
       "      <td>1.000000</td>\n",
       "      <td>1.000000</td>\n",
       "      <td>0.595898</td>\n",
       "      <td>0.430620</td>\n",
       "      <td>0.373494</td>\n",
       "      <td>-0.231633</td>\n",
       "    </tr>\n",
       "    <tr>\n",
       "      <th>Acc_Rate_100Myr</th>\n",
       "      <td>0.358387</td>\n",
       "      <td>0.366252</td>\n",
       "      <td>0.455129</td>\n",
       "      <td>0.237599</td>\n",
       "      <td>1.000000</td>\n",
       "      <td>1.000000</td>\n",
       "      <td>0.595898</td>\n",
       "      <td>0.430620</td>\n",
       "      <td>0.373494</td>\n",
       "      <td>-0.231633</td>\n",
       "    </tr>\n",
       "    <tr>\n",
       "      <th>Acc_Rate_1*Tdyn</th>\n",
       "      <td>0.613766</td>\n",
       "      <td>0.589850</td>\n",
       "      <td>0.613005</td>\n",
       "      <td>0.464309</td>\n",
       "      <td>0.595898</td>\n",
       "      <td>0.595898</td>\n",
       "      <td>1.000000</td>\n",
       "      <td>0.832721</td>\n",
       "      <td>0.704172</td>\n",
       "      <td>-0.202996</td>\n",
       "    </tr>\n",
       "    <tr>\n",
       "      <th>Acc_Rate_2*Tdyn</th>\n",
       "      <td>0.793756</td>\n",
       "      <td>0.774323</td>\n",
       "      <td>0.473223</td>\n",
       "      <td>0.515517</td>\n",
       "      <td>0.430620</td>\n",
       "      <td>0.430620</td>\n",
       "      <td>0.832721</td>\n",
       "      <td>1.000000</td>\n",
       "      <td>0.924943</td>\n",
       "      <td>-0.362376</td>\n",
       "    </tr>\n",
       "    <tr>\n",
       "      <th>Acc_Rate_Mpeak</th>\n",
       "      <td>0.883615</td>\n",
       "      <td>0.871444</td>\n",
       "      <td>0.393809</td>\n",
       "      <td>0.468765</td>\n",
       "      <td>0.373494</td>\n",
       "      <td>0.373494</td>\n",
       "      <td>0.704172</td>\n",
       "      <td>0.924943</td>\n",
       "      <td>1.000000</td>\n",
       "      <td>-0.356966</td>\n",
       "    </tr>\n",
       "    <tr>\n",
       "      <th>c_vir</th>\n",
       "      <td>-0.203265</td>\n",
       "      <td>-0.212097</td>\n",
       "      <td>-0.396614</td>\n",
       "      <td>-0.575582</td>\n",
       "      <td>-0.231633</td>\n",
       "      <td>-0.231633</td>\n",
       "      <td>-0.202996</td>\n",
       "      <td>-0.362376</td>\n",
       "      <td>-0.356966</td>\n",
       "      <td>1.000000</td>\n",
       "    </tr>\n",
       "  </tbody>\n",
       "</table>\n",
       "</div>"
      ],
      "text/plain": [
       "                     mvir     M200b     T/|U|  Halfmass_Scale  Acc_Rate_Inst  \\\n",
       "mvir             1.000000  0.996716  0.238452        0.196192       0.358387   \n",
       "M200b            0.996716  1.000000  0.231508        0.179047       0.366252   \n",
       "T/|U|            0.238452  0.231508  1.000000        0.642274       0.455129   \n",
       "Halfmass_Scale   0.196192  0.179047  0.642274        1.000000       0.237599   \n",
       "Acc_Rate_Inst    0.358387  0.366252  0.455129        0.237599       1.000000   \n",
       "Acc_Rate_100Myr  0.358387  0.366252  0.455129        0.237599       1.000000   \n",
       "Acc_Rate_1*Tdyn  0.613766  0.589850  0.613005        0.464309       0.595898   \n",
       "Acc_Rate_2*Tdyn  0.793756  0.774323  0.473223        0.515517       0.430620   \n",
       "Acc_Rate_Mpeak   0.883615  0.871444  0.393809        0.468765       0.373494   \n",
       "c_vir           -0.203265 -0.212097 -0.396614       -0.575582      -0.231633   \n",
       "\n",
       "                 Acc_Rate_100Myr  Acc_Rate_1*Tdyn  Acc_Rate_2*Tdyn  \\\n",
       "mvir                    0.358387         0.613766         0.793756   \n",
       "M200b                   0.366252         0.589850         0.774323   \n",
       "T/|U|                   0.455129         0.613005         0.473223   \n",
       "Halfmass_Scale          0.237599         0.464309         0.515517   \n",
       "Acc_Rate_Inst           1.000000         0.595898         0.430620   \n",
       "Acc_Rate_100Myr         1.000000         0.595898         0.430620   \n",
       "Acc_Rate_1*Tdyn         0.595898         1.000000         0.832721   \n",
       "Acc_Rate_2*Tdyn         0.430620         0.832721         1.000000   \n",
       "Acc_Rate_Mpeak          0.373494         0.704172         0.924943   \n",
       "c_vir                  -0.231633        -0.202996        -0.362376   \n",
       "\n",
       "                 Acc_Rate_Mpeak     c_vir  \n",
       "mvir                   0.883615 -0.203265  \n",
       "M200b                  0.871444 -0.212097  \n",
       "T/|U|                  0.393809 -0.396614  \n",
       "Halfmass_Scale         0.468765 -0.575582  \n",
       "Acc_Rate_Inst          0.373494 -0.231633  \n",
       "Acc_Rate_100Myr        0.373494 -0.231633  \n",
       "Acc_Rate_1*Tdyn        0.704172 -0.202996  \n",
       "Acc_Rate_2*Tdyn        0.924943 -0.362376  \n",
       "Acc_Rate_Mpeak         1.000000 -0.356966  \n",
       "c_vir                 -0.356966  1.000000  "
      ]
     },
     "metadata": {},
     "output_type": "display_data"
    }
   ],
   "source": [
    "display(matched_halo_df[['mvir','M200b','T/|U|', 'Halfmass_Scale',\n",
    "       'Acc_Rate_Inst', 'Acc_Rate_100Myr', 'Acc_Rate_1*Tdyn',\n",
    "       'Acc_Rate_2*Tdyn', 'Acc_Rate_Mpeak', 'c_vir']].corr())"
   ]
  },
  {
   "cell_type": "code",
   "execution_count": 92,
   "id": "3ec07cc0-55bf-4def-9678-37ed2ba650a2",
   "metadata": {},
   "outputs": [],
   "source": [
    "DS_inner = matched_halo_df['delta_sigma']\n",
    "DS_inner = np.vstack(DS_inner)\n",
    "DS_inner = DS_inner[:,0]"
   ]
  },
  {
   "cell_type": "code",
   "execution_count": 93,
   "id": "a617a06b-c8be-47a2-893e-8e7f465690b3",
   "metadata": {},
   "outputs": [
    {
     "data": {
      "text/plain": [
       "array([3.81996305e+14, 3.57658284e+14, 4.51919098e+14, ...,\n",
       "       6.68543339e+14, 5.57680755e+14, 6.52687184e+14])"
      ]
     },
     "execution_count": 93,
     "metadata": {},
     "output_type": "execute_result"
    }
   ],
   "source": [
    "DS_inner"
   ]
  },
  {
   "cell_type": "code",
   "execution_count": 96,
   "id": "fe7dcb38-cbab-43e2-be30-6e512da5803a",
   "metadata": {},
   "outputs": [],
   "source": [
    "M200b = np.log10(matched_halo_df['M200b'])\n",
    "acc_rate = matched_halo_df['Acc_Rate_2*Tdyn']\n",
    "richness = matched_halo_df['Ngal']"
   ]
  },
  {
   "cell_type": "code",
   "execution_count": 99,
   "id": "ac366808-0e16-40b1-8190-ad261e4525a1",
   "metadata": {},
   "outputs": [
    {
     "name": "stdout",
     "output_type": "stream",
     "text": [
      "10500\n",
      "1750\n"
     ]
    }
   ],
   "source": [
    "cur_df = matched_halo_df[(matched_halo_df.mvir > 5e13) & (matched_halo_df.mvir < 1e15)]\n",
    "\n",
    "cur_df['logM'] = M200b\n",
    "\n",
    "\n",
    "X = cur_df[['logM', 'Halfmass_Scale', 'T/|U|', 'c_vir', 'Acc_Rate_2*Tdyn', 'Acc_Rate_Mpeak']]\n",
    "\n",
    "DS_inner = matched_halo_df['delta_sigma']\n",
    "DS_inner = np.vstack(DS_inner)\n",
    "DS_inner = DS_inner[:,0]\n",
    "y = np.log10(DS_inner)\n",
    "\n",
    "\n",
    "print(np.size(X))\n",
    "print(np.size(y))"
   ]
  },
  {
   "cell_type": "code",
   "execution_count": 100,
   "id": "a0ebd9ba-6ed6-4a33-8fae-524bcd73ae3d",
   "metadata": {},
   "outputs": [
    {
     "data": {
      "text/html": [
       "<table class=\"simpletable\">\n",
       "<caption>OLS Regression Results</caption>\n",
       "<tr>\n",
       "  <th>Dep. Variable:</th>            <td>y</td>        <th>  R-squared:         </th> <td>   0.712</td>\n",
       "</tr>\n",
       "<tr>\n",
       "  <th>Model:</th>                   <td>OLS</td>       <th>  Adj. R-squared:    </th> <td>   0.711</td>\n",
       "</tr>\n",
       "<tr>\n",
       "  <th>Method:</th>             <td>Least Squares</td>  <th>  F-statistic:       </th> <td>   716.6</td>\n",
       "</tr>\n",
       "<tr>\n",
       "  <th>Date:</th>             <td>Fri, 02 Sep 2022</td> <th>  Prob (F-statistic):</th>  <td>  0.00</td> \n",
       "</tr>\n",
       "<tr>\n",
       "  <th>Time:</th>                 <td>13:01:00</td>     <th>  Log-Likelihood:    </th> <td>  2059.1</td>\n",
       "</tr>\n",
       "<tr>\n",
       "  <th>No. Observations:</th>      <td>  1750</td>      <th>  AIC:               </th> <td>  -4104.</td>\n",
       "</tr>\n",
       "<tr>\n",
       "  <th>Df Residuals:</th>          <td>  1743</td>      <th>  BIC:               </th> <td>  -4066.</td>\n",
       "</tr>\n",
       "<tr>\n",
       "  <th>Df Model:</th>              <td>     6</td>      <th>                     </th>     <td> </td>   \n",
       "</tr>\n",
       "<tr>\n",
       "  <th>Covariance Type:</th>      <td>nonrobust</td>    <th>                     </th>     <td> </td>   \n",
       "</tr>\n",
       "</table>\n",
       "<table class=\"simpletable\">\n",
       "<tr>\n",
       "         <td></td>            <th>coef</th>     <th>std err</th>      <th>t</th>      <th>P>|t|</th>  <th>[0.025</th>    <th>0.975]</th>  \n",
       "</tr>\n",
       "<tr>\n",
       "  <th>const</th>           <td>   10.1335</td> <td>    0.135</td> <td>   74.859</td> <td> 0.000</td> <td>    9.868</td> <td>   10.399</td>\n",
       "</tr>\n",
       "<tr>\n",
       "  <th>logM</th>            <td>    0.3249</td> <td>    0.009</td> <td>   35.318</td> <td> 0.000</td> <td>    0.307</td> <td>    0.343</td>\n",
       "</tr>\n",
       "<tr>\n",
       "  <th>Halfmass_Scale</th>  <td>   -0.0553</td> <td>    0.025</td> <td>   -2.174</td> <td> 0.030</td> <td>   -0.105</td> <td>   -0.005</td>\n",
       "</tr>\n",
       "<tr>\n",
       "  <th>T/|U|</th>           <td>   -0.2980</td> <td>    0.039</td> <td>   -7.690</td> <td> 0.000</td> <td>   -0.374</td> <td>   -0.222</td>\n",
       "</tr>\n",
       "<tr>\n",
       "  <th>c_vir</th>           <td>    0.0305</td> <td>    0.001</td> <td>   26.607</td> <td> 0.000</td> <td>    0.028</td> <td>    0.033</td>\n",
       "</tr>\n",
       "<tr>\n",
       "  <th>Acc_Rate_2*Tdyn</th> <td>-1.171e-07</td> <td> 1.56e-07</td> <td>   -0.750</td> <td> 0.453</td> <td>-4.23e-07</td> <td> 1.89e-07</td>\n",
       "</tr>\n",
       "<tr>\n",
       "  <th>Acc_Rate_Mpeak</th>  <td>-2.591e-07</td> <td> 2.01e-07</td> <td>   -1.292</td> <td> 0.197</td> <td>-6.52e-07</td> <td> 1.34e-07</td>\n",
       "</tr>\n",
       "</table>\n",
       "<table class=\"simpletable\">\n",
       "<tr>\n",
       "  <th>Omnibus:</th>       <td>65.507</td> <th>  Durbin-Watson:     </th> <td>   2.041</td>\n",
       "</tr>\n",
       "<tr>\n",
       "  <th>Prob(Omnibus):</th> <td> 0.000</td> <th>  Jarque-Bera (JB):  </th> <td>  86.337</td>\n",
       "</tr>\n",
       "<tr>\n",
       "  <th>Skew:</th>          <td> 0.388</td> <th>  Prob(JB):          </th> <td>1.79e-19</td>\n",
       "</tr>\n",
       "<tr>\n",
       "  <th>Kurtosis:</th>      <td> 3.762</td> <th>  Cond. No.          </th> <td>4.53e+06</td>\n",
       "</tr>\n",
       "</table><br/><br/>Notes:<br/>[1] Standard Errors assume that the covariance matrix of the errors is correctly specified.<br/>[2] The condition number is large, 4.53e+06. This might indicate that there are<br/>strong multicollinearity or other numerical problems."
      ],
      "text/plain": [
       "<class 'statsmodels.iolib.summary.Summary'>\n",
       "\"\"\"\n",
       "                            OLS Regression Results                            \n",
       "==============================================================================\n",
       "Dep. Variable:                      y   R-squared:                       0.712\n",
       "Model:                            OLS   Adj. R-squared:                  0.711\n",
       "Method:                 Least Squares   F-statistic:                     716.6\n",
       "Date:                Fri, 02 Sep 2022   Prob (F-statistic):               0.00\n",
       "Time:                        13:01:00   Log-Likelihood:                 2059.1\n",
       "No. Observations:                1750   AIC:                            -4104.\n",
       "Df Residuals:                    1743   BIC:                            -4066.\n",
       "Df Model:                           6                                         \n",
       "Covariance Type:            nonrobust                                         \n",
       "===================================================================================\n",
       "                      coef    std err          t      P>|t|      [0.025      0.975]\n",
       "-----------------------------------------------------------------------------------\n",
       "const              10.1335      0.135     74.859      0.000       9.868      10.399\n",
       "logM                0.3249      0.009     35.318      0.000       0.307       0.343\n",
       "Halfmass_Scale     -0.0553      0.025     -2.174      0.030      -0.105      -0.005\n",
       "T/|U|              -0.2980      0.039     -7.690      0.000      -0.374      -0.222\n",
       "c_vir               0.0305      0.001     26.607      0.000       0.028       0.033\n",
       "Acc_Rate_2*Tdyn -1.171e-07   1.56e-07     -0.750      0.453   -4.23e-07    1.89e-07\n",
       "Acc_Rate_Mpeak  -2.591e-07   2.01e-07     -1.292      0.197   -6.52e-07    1.34e-07\n",
       "==============================================================================\n",
       "Omnibus:                       65.507   Durbin-Watson:                   2.041\n",
       "Prob(Omnibus):                  0.000   Jarque-Bera (JB):               86.337\n",
       "Skew:                           0.388   Prob(JB):                     1.79e-19\n",
       "Kurtosis:                       3.762   Cond. No.                     4.53e+06\n",
       "==============================================================================\n",
       "\n",
       "Notes:\n",
       "[1] Standard Errors assume that the covariance matrix of the errors is correctly specified.\n",
       "[2] The condition number is large, 4.53e+06. This might indicate that there are\n",
       "strong multicollinearity or other numerical problems.\n",
       "\"\"\""
      ]
     },
     "metadata": {},
     "output_type": "display_data"
    }
   ],
   "source": [
    "X = sm.add_constant(X)\n",
    "mreg = sm.OLS(y, X).fit()\n",
    "display(mreg.summary())"
   ]
  },
  {
   "cell_type": "markdown",
   "id": "8434e861-6d5b-437a-9488-f2771d97edb3",
   "metadata": {},
   "source": [
    "## Testing for multi-linearity"
   ]
  },
  {
   "cell_type": "code",
   "execution_count": 101,
   "id": "4a294181-591f-42fe-8005-24181003e7ad",
   "metadata": {},
   "outputs": [
    {
     "name": "stdout",
     "output_type": "stream",
     "text": [
      "           feature          VIF\n",
      "0            const  5738.807003\n",
      "1             logM     3.603130\n",
      "2   Halfmass_Scale     2.655063\n",
      "3            T/|U|     1.846948\n",
      "4            c_vir     1.532880\n",
      "5  Acc_Rate_2*Tdyn     7.757754\n",
      "6   Acc_Rate_Mpeak    10.579866\n"
     ]
    }
   ],
   "source": [
    "from statsmodels.stats.outliers_influence import variance_inflation_factor\n",
    "\n",
    "# function to check VIF\n",
    "def checking_vif(train):\n",
    "    vif = pd.DataFrame()\n",
    "    vif[\"feature\"] = train.columns\n",
    "\n",
    "    # calculating VIF for each feature\n",
    "    vif[\"VIF\"] = [\n",
    "        variance_inflation_factor(train.values, i) for i in range(len(train.columns))\n",
    "    ]\n",
    "    return vif\n",
    "\n",
    "\n",
    "print(checking_vif(X))"
   ]
  },
  {
   "cell_type": "markdown",
   "id": "be8a3fb4-259b-4730-a409-8c86792af8aa",
   "metadata": {},
   "source": [
    "## Heterodescity"
   ]
  },
  {
   "cell_type": "code",
   "execution_count": 102,
   "id": "d12e5611-bede-4f08-a6fd-bcd803ef9e1d",
   "metadata": {},
   "outputs": [
    {
     "data": {
      "text/plain": [
       "[('F statistic', 1.1176854358353865), ('p-value', 0.05070379544310619)]"
      ]
     },
     "execution_count": 102,
     "metadata": {},
     "output_type": "execute_result"
    }
   ],
   "source": [
    "from statsmodels.stats.diagnostic import het_white\n",
    "from statsmodels.compat import lzip\n",
    "import statsmodels.stats.api as sms\n",
    "\n",
    "name = [\"F statistic\", \"p-value\"]\n",
    "test = sms.het_goldfeldquandt(y, X)\n",
    "lzip(name, test)"
   ]
  },
  {
   "cell_type": "markdown",
   "id": "7f7511a6-0145-48f7-868b-1608bd02e5d5",
   "metadata": {},
   "source": [
    "## Check that residual is 0"
   ]
  },
  {
   "cell_type": "code",
   "execution_count": 103,
   "id": "6c74375f-8719-4c2b-bc18-2488c336dde1",
   "metadata": {},
   "outputs": [
    {
     "data": {
      "text/plain": [
       "-4.345812344906465e-12"
      ]
     },
     "execution_count": 103,
     "metadata": {},
     "output_type": "execute_result"
    }
   ],
   "source": [
    "residuals = mreg.resid\n",
    "residuals.mean()"
   ]
  },
  {
   "cell_type": "markdown",
   "id": "e8841db0-1924-4092-8614-09329866851c",
   "metadata": {},
   "source": [
    "## Linearity"
   ]
  },
  {
   "cell_type": "code",
   "execution_count": 104,
   "id": "f1757650-ea20-4bc3-9526-012f9c7b0f9e",
   "metadata": {},
   "outputs": [
    {
     "data": {
      "image/png": "[encoded data removed]",
      "text/plain": [
       "<Figure size 432x288 with 1 Axes>"
      ]
     },
     "metadata": {
      "needs_background": "light"
     },
     "output_type": "display_data"
    }
   ],
   "source": [
    "# predicted values\n",
    "fitted = mreg.fittedvalues\n",
    "\n",
    "# sns.set_style(\"whitegrid\")\n",
    "sns.residplot(x = fitted, y = residuals, color=\"lightblue\", lowess=True)\n",
    "plt.xlabel(\"Fitted Values\")\n",
    "plt.ylabel(\"Residual\")\n",
    "plt.title(\"Residual PLOT\")\n",
    "plt.show()"
   ]
  },
  {
   "cell_type": "markdown",
   "id": "991baac6-3dc6-49bb-9bee-cd7872081127",
   "metadata": {},
   "source": [
    "## Gaussian error"
   ]
  },
  {
   "cell_type": "code",
   "execution_count": 105,
   "id": "010b4fc3-03b0-4495-be4b-8f7f35329497",
   "metadata": {},
   "outputs": [
    {
     "data": {
      "image/png": "[encoded data removed]",
      "text/plain": [
       "<Figure size 432x288 with 1 Axes>"
      ]
     },
     "metadata": {
      "needs_background": "light"
     },
     "output_type": "display_data"
    }
   ],
   "source": [
    "# Plot histogram of residuals\n",
    "sns.histplot(residuals, kde=True)\n",
    "plt.show()"
   ]
  },
  {
   "cell_type": "code",
   "execution_count": 106,
   "id": "f2185457-8d72-4b2d-80ce-e4a62f67e66e",
   "metadata": {},
   "outputs": [
    {
     "data": {
      "image/png": "[encoded data removed]",
      "text/plain": [
       "<Figure size 432x288 with 1 Axes>"
      ]
     },
     "metadata": {
      "needs_background": "light"
     },
     "output_type": "display_data"
    }
   ],
   "source": [
    "# Plot q-q plot of residuals\n",
    "import pylab\n",
    "import scipy.stats as stats\n",
    "\n",
    "stats.probplot(residuals, dist=\"norm\", plot=pylab)\n",
    "plt.show()"
   ]
  },
  {
   "cell_type": "code",
   "execution_count": 107,
   "id": "252213f9-79e8-40c9-a1fb-70ae31fa2234",
   "metadata": {},
   "outputs": [
    {
     "data": {
      "image/png": "[encoded data removed]",
      "text/plain": [
       "<Figure size 432x288 with 1 Axes>"
      ]
     },
     "metadata": {
      "needs_background": "light"
     },
     "output_type": "display_data"
    }
   ],
   "source": [
    "plt.scatter(cur_df['mvir'], DS_inner) \n",
    "plt.show()"
   ]
  },
  {
   "cell_type": "code",
   "execution_count": 108,
   "id": "7f56f63e-f15b-4e06-8943-340b07c8194e",
   "metadata": {},
   "outputs": [
    {
     "data": {
      "image/png": "[encoded data removed]",
      "text/plain": [
       "<Figure size 432x288 with 1 Axes>"
      ]
     },
     "metadata": {
      "needs_background": "light"
     },
     "output_type": "display_data"
    }
   ],
   "source": [
    "\n",
    "plt.scatter(cur_df['Acc_Rate_2*Tdyn'], np.vstack(cur_df['delta_sigma'])[:,0]) \n",
    "plt.show()"
   ]
  },
  {
   "cell_type": "code",
   "execution_count": 41,
   "id": "3d835613-14c2-4217-822f-22a270579475",
   "metadata": {},
   "outputs": [
    {
     "name": "stdout",
     "output_type": "stream",
     "text": [
      "           feature       VIF\n",
      "0            const  0.000000\n",
      "1            M200b  1.795565\n",
      "2            T/|U|  2.746399\n",
      "3   Halfmass_Scale  4.092775\n",
      "4    Acc_Rate_Inst       inf\n",
      "5  Acc_Rate_100Myr       inf\n",
      "6  Acc_Rate_1*Tdyn  3.200412\n",
      "7  Acc_Rate_2*Tdyn  5.764813\n",
      "8   Acc_Rate_Mpeak  4.138752\n",
      "9            c_vir  1.705707\n"
     ]
    },
    {
     "name": "stderr",
     "output_type": "stream",
     "text": [
      "/global/homes/z/zzhang13/.conda/envs/myLSST/lib/python3.7/site-packages/statsmodels/regression/linear_model.py:1738: RuntimeWarning: divide by zero encountered in double_scalars\n",
      "  return 1 - self.ssr/self.centered_tss\n",
      "/global/homes/z/zzhang13/.conda/envs/myLSST/lib/python3.7/site-packages/statsmodels/stats/outliers_influence.py:195: RuntimeWarning: divide by zero encountered in double_scalars\n",
      "  vif = 1. / (1. - r_squared_i)\n"
     ]
    }
   ],
   "source": []
  },
  {
   "cell_type": "code",
   "execution_count": 43,
   "id": "8bedf071-9d56-406f-b36a-f40ebf233536",
   "metadata": {},
   "outputs": [
    {
     "name": "stdout",
     "output_type": "stream",
     "text": [
      "          feature       VIF\n",
      "0           const  0.000000\n",
      "1           M200b  1.773984\n",
      "2           T/|U|  2.154082\n",
      "3  Halfmass_Scale  3.919805\n",
      "4   Acc_Rate_Inst  1.090280\n",
      "5  Acc_Rate_Mpeak  2.328225\n",
      "6           c_vir  1.498973\n"
     ]
    },
    {
     "name": "stderr",
     "output_type": "stream",
     "text": [
      "/global/homes/z/zzhang13/.conda/envs/myLSST/lib/python3.7/site-packages/statsmodels/regression/linear_model.py:1738: RuntimeWarning: divide by zero encountered in double_scalars\n",
      "  return 1 - self.ssr/self.centered_tss\n"
     ]
    }
   ],
   "source": []
  },
  {
   "cell_type": "code",
   "execution_count": 44,
   "id": "ab13f267-f769-4861-91de-6149937ecf8b",
   "metadata": {},
   "outputs": [
    {
     "data": {
      "text/html": [
       "<table class=\"simpletable\">\n",
       "<caption>OLS Regression Results</caption>\n",
       "<tr>\n",
       "  <th>Dep. Variable:</th>            <td>y</td>        <th>  R-squared:         </th> <td>   0.481</td> \n",
       "</tr>\n",
       "<tr>\n",
       "  <th>Model:</th>                   <td>OLS</td>       <th>  Adj. R-squared:    </th> <td>   0.478</td> \n",
       "</tr>\n",
       "<tr>\n",
       "  <th>Method:</th>             <td>Least Squares</td>  <th>  F-statistic:       </th> <td>   131.8</td> \n",
       "</tr>\n",
       "<tr>\n",
       "  <th>Date:</th>             <td>Fri, 02 Sep 2022</td> <th>  Prob (F-statistic):</th> <td>2.13e-60</td> \n",
       "</tr>\n",
       "<tr>\n",
       "  <th>Time:</th>                 <td>11:22:39</td>     <th>  Log-Likelihood:    </th> <td> -14388.</td> \n",
       "</tr>\n",
       "<tr>\n",
       "  <th>No. Observations:</th>      <td>   430</td>      <th>  AIC:               </th> <td>2.878e+04</td>\n",
       "</tr>\n",
       "<tr>\n",
       "  <th>Df Residuals:</th>          <td>   426</td>      <th>  BIC:               </th> <td>2.880e+04</td>\n",
       "</tr>\n",
       "<tr>\n",
       "  <th>Df Model:</th>              <td>     3</td>      <th>                     </th>     <td> </td>    \n",
       "</tr>\n",
       "<tr>\n",
       "  <th>Covariance Type:</th>      <td>nonrobust</td>    <th>                     </th>     <td> </td>    \n",
       "</tr>\n",
       "</table>\n",
       "<table class=\"simpletable\">\n",
       "<tr>\n",
       "         <td></td>           <th>coef</th>     <th>std err</th>      <th>t</th>      <th>P>|t|</th>  <th>[0.025</th>    <th>0.975]</th>  \n",
       "</tr>\n",
       "<tr>\n",
       "  <th>const</th>          <td> 7.167e+13</td> <td> 1.26e+13</td> <td>    5.700</td> <td> 0.000</td> <td>  4.7e+13</td> <td> 9.64e+13</td>\n",
       "</tr>\n",
       "<tr>\n",
       "  <th>M200b</th>          <td>    1.2605</td> <td>    0.139</td> <td>    9.093</td> <td> 0.000</td> <td>    0.988</td> <td>    1.533</td>\n",
       "</tr>\n",
       "<tr>\n",
       "  <th>T/|U|</th>          <td> 4.838e+13</td> <td> 8.52e+12</td> <td>    5.677</td> <td> 0.000</td> <td> 3.16e+13</td> <td> 6.51e+13</td>\n",
       "</tr>\n",
       "<tr>\n",
       "  <th>Halfmass_Scale</th> <td>  5.56e+13</td> <td> 9.89e+12</td> <td>    5.624</td> <td> 0.000</td> <td> 3.62e+13</td> <td>  7.5e+13</td>\n",
       "</tr>\n",
       "<tr>\n",
       "  <th>Acc_Rate_Inst</th>  <td> 3.264e+07</td> <td>  2.4e+08</td> <td>    0.136</td> <td> 0.892</td> <td>-4.38e+08</td> <td> 5.03e+08</td>\n",
       "</tr>\n",
       "<tr>\n",
       "  <th>Acc_Rate_Mpeak</th> <td>-3.894e+09</td> <td> 1.01e+09</td> <td>   -3.853</td> <td> 0.000</td> <td>-5.88e+09</td> <td>-1.91e+09</td>\n",
       "</tr>\n",
       "<tr>\n",
       "  <th>c_vir</th>          <td> 3.612e+13</td> <td> 2.48e+12</td> <td>   14.545</td> <td> 0.000</td> <td> 3.12e+13</td> <td>  4.1e+13</td>\n",
       "</tr>\n",
       "</table>\n",
       "<table class=\"simpletable\">\n",
       "<tr>\n",
       "  <th>Omnibus:</th>       <td>24.018</td> <th>  Durbin-Watson:     </th> <td>   2.047</td>\n",
       "</tr>\n",
       "<tr>\n",
       "  <th>Prob(Omnibus):</th> <td> 0.000</td> <th>  Jarque-Bera (JB):  </th> <td>  26.967</td>\n",
       "</tr>\n",
       "<tr>\n",
       "  <th>Skew:</th>          <td> 0.613</td> <th>  Prob(JB):          </th> <td>1.39e-06</td>\n",
       "</tr>\n",
       "<tr>\n",
       "  <th>Kurtosis:</th>      <td> 3.017</td> <th>  Cond. No.          </th> <td>4.60e+15</td>\n",
       "</tr>\n",
       "</table><br/><br/>Notes:<br/>[1] Standard Errors assume that the covariance matrix of the errors is correctly specified.<br/>[2] The condition number is large, 4.6e+15. This might indicate that there are<br/>strong multicollinearity or other numerical problems."
      ],
      "text/plain": [
       "<class 'statsmodels.iolib.summary.Summary'>\n",
       "\"\"\"\n",
       "                            OLS Regression Results                            \n",
       "==============================================================================\n",
       "Dep. Variable:                      y   R-squared:                       0.481\n",
       "Model:                            OLS   Adj. R-squared:                  0.478\n",
       "Method:                 Least Squares   F-statistic:                     131.8\n",
       "Date:                Fri, 02 Sep 2022   Prob (F-statistic):           2.13e-60\n",
       "Time:                        11:22:39   Log-Likelihood:                -14388.\n",
       "No. Observations:                 430   AIC:                         2.878e+04\n",
       "Df Residuals:                     426   BIC:                         2.880e+04\n",
       "Df Model:                           3                                         \n",
       "Covariance Type:            nonrobust                                         \n",
       "==================================================================================\n",
       "                     coef    std err          t      P>|t|      [0.025      0.975]\n",
       "----------------------------------------------------------------------------------\n",
       "const           7.167e+13   1.26e+13      5.700      0.000     4.7e+13    9.64e+13\n",
       "M200b              1.2605      0.139      9.093      0.000       0.988       1.533\n",
       "T/|U|           4.838e+13   8.52e+12      5.677      0.000    3.16e+13    6.51e+13\n",
       "Halfmass_Scale   5.56e+13   9.89e+12      5.624      0.000    3.62e+13     7.5e+13\n",
       "Acc_Rate_Inst   3.264e+07    2.4e+08      0.136      0.892   -4.38e+08    5.03e+08\n",
       "Acc_Rate_Mpeak -3.894e+09   1.01e+09     -3.853      0.000   -5.88e+09   -1.91e+09\n",
       "c_vir           3.612e+13   2.48e+12     14.545      0.000    3.12e+13     4.1e+13\n",
       "==============================================================================\n",
       "Omnibus:                       24.018   Durbin-Watson:                   2.047\n",
       "Prob(Omnibus):                  0.000   Jarque-Bera (JB):               26.967\n",
       "Skew:                           0.613   Prob(JB):                     1.39e-06\n",
       "Kurtosis:                       3.017   Cond. No.                     4.60e+15\n",
       "==============================================================================\n",
       "\n",
       "Notes:\n",
       "[1] Standard Errors assume that the covariance matrix of the errors is correctly specified.\n",
       "[2] The condition number is large, 4.6e+15. This might indicate that there are\n",
       "strong multicollinearity or other numerical problems.\n",
       "\"\"\""
      ]
     },
     "metadata": {},
     "output_type": "display_data"
    }
   ],
   "source": []
  },
  {
   "cell_type": "code",
   "execution_count": 109,
   "id": "fb2047c5-a9b5-452c-aaa9-a018454dc102",
   "metadata": {},
   "outputs": [],
   "source": [
    "## Formation time alone"
   ]
  },
  {
   "cell_type": "code",
   "execution_count": 47,
   "id": "26500454-113c-4222-8bbc-acb54771b8d5",
   "metadata": {},
   "outputs": [],
   "source": [
    "X_formation = cur_df[['Halfmass_Scale', 'T/|U|', 'c_vir', 'Acc_Rate_Mpeak']]\n",
    "\n",
    "\n",
    "print(np.size(X))\n",
    "print(np.size(y))"
   ]
  },
  {
   "cell_type": "code",
   "execution_count": 48,
   "id": "6fbe8a12-0534-45ea-b230-3c6a13c00b62",
   "metadata": {},
   "outputs": [
    {
     "data": {
      "text/html": [
       "<table class=\"simpletable\">\n",
       "<caption>OLS Regression Results</caption>\n",
       "<tr>\n",
       "  <th>Dep. Variable:</th>            <td>y</td>        <th>  R-squared:         </th> <td>   0.119</td> \n",
       "</tr>\n",
       "<tr>\n",
       "  <th>Model:</th>                   <td>OLS</td>       <th>  Adj. R-squared:    </th> <td>   0.117</td> \n",
       "</tr>\n",
       "<tr>\n",
       "  <th>Method:</th>             <td>Least Squares</td>  <th>  F-statistic:       </th> <td>   57.84</td> \n",
       "</tr>\n",
       "<tr>\n",
       "  <th>Date:</th>             <td>Fri, 02 Sep 2022</td> <th>  Prob (F-statistic):</th> <td>1.82e-13</td> \n",
       "</tr>\n",
       "<tr>\n",
       "  <th>Time:</th>                 <td>11:25:11</td>     <th>  Log-Likelihood:    </th> <td> -14502.</td> \n",
       "</tr>\n",
       "<tr>\n",
       "  <th>No. Observations:</th>      <td>   430</td>      <th>  AIC:               </th> <td>2.901e+04</td>\n",
       "</tr>\n",
       "<tr>\n",
       "  <th>Df Residuals:</th>          <td>   428</td>      <th>  BIC:               </th> <td>2.902e+04</td>\n",
       "</tr>\n",
       "<tr>\n",
       "  <th>Df Model:</th>              <td>     1</td>      <th>                     </th>     <td> </td>    \n",
       "</tr>\n",
       "<tr>\n",
       "  <th>Covariance Type:</th>      <td>nonrobust</td>    <th>                     </th>     <td> </td>    \n",
       "</tr>\n",
       "</table>\n",
       "<table class=\"simpletable\">\n",
       "<tr>\n",
       "         <td></td>           <th>coef</th>     <th>std err</th>      <th>t</th>      <th>P>|t|</th>  <th>[0.025</th>    <th>0.975]</th>  \n",
       "</tr>\n",
       "<tr>\n",
       "  <th>const</th>          <td>  5.79e+14</td> <td> 1.15e+13</td> <td>   50.339</td> <td> 0.000</td> <td> 5.56e+14</td> <td> 6.02e+14</td>\n",
       "</tr>\n",
       "<tr>\n",
       "  <th>Acc_Rate_Mpeak</th> <td>-6.621e+09</td> <td> 8.71e+08</td> <td>   -7.605</td> <td> 0.000</td> <td>-8.33e+09</td> <td>-4.91e+09</td>\n",
       "</tr>\n",
       "</table>\n",
       "<table class=\"simpletable\">\n",
       "<tr>\n",
       "  <th>Omnibus:</th>       <td>24.103</td> <th>  Durbin-Watson:     </th> <td>   1.882</td>\n",
       "</tr>\n",
       "<tr>\n",
       "  <th>Prob(Omnibus):</th> <td> 0.000</td> <th>  Jarque-Bera (JB):  </th> <td>  26.579</td>\n",
       "</tr>\n",
       "<tr>\n",
       "  <th>Skew:</th>          <td> 0.580</td> <th>  Prob(JB):          </th> <td>1.69e-06</td>\n",
       "</tr>\n",
       "<tr>\n",
       "  <th>Kurtosis:</th>      <td> 3.371</td> <th>  Cond. No.          </th> <td>2.93e+04</td>\n",
       "</tr>\n",
       "</table><br/><br/>Notes:<br/>[1] Standard Errors assume that the covariance matrix of the errors is correctly specified.<br/>[2] The condition number is large, 2.93e+04. This might indicate that there are<br/>strong multicollinearity or other numerical problems."
      ],
      "text/plain": [
       "<class 'statsmodels.iolib.summary.Summary'>\n",
       "\"\"\"\n",
       "                            OLS Regression Results                            \n",
       "==============================================================================\n",
       "Dep. Variable:                      y   R-squared:                       0.119\n",
       "Model:                            OLS   Adj. R-squared:                  0.117\n",
       "Method:                 Least Squares   F-statistic:                     57.84\n",
       "Date:                Fri, 02 Sep 2022   Prob (F-statistic):           1.82e-13\n",
       "Time:                        11:25:11   Log-Likelihood:                -14502.\n",
       "No. Observations:                 430   AIC:                         2.901e+04\n",
       "Df Residuals:                     428   BIC:                         2.902e+04\n",
       "Df Model:                           1                                         \n",
       "Covariance Type:            nonrobust                                         \n",
       "==================================================================================\n",
       "                     coef    std err          t      P>|t|      [0.025      0.975]\n",
       "----------------------------------------------------------------------------------\n",
       "const            5.79e+14   1.15e+13     50.339      0.000    5.56e+14    6.02e+14\n",
       "Acc_Rate_Mpeak -6.621e+09   8.71e+08     -7.605      0.000   -8.33e+09   -4.91e+09\n",
       "==============================================================================\n",
       "Omnibus:                       24.103   Durbin-Watson:                   1.882\n",
       "Prob(Omnibus):                  0.000   Jarque-Bera (JB):               26.579\n",
       "Skew:                           0.580   Prob(JB):                     1.69e-06\n",
       "Kurtosis:                       3.371   Cond. No.                     2.93e+04\n",
       "==============================================================================\n",
       "\n",
       "Notes:\n",
       "[1] Standard Errors assume that the covariance matrix of the errors is correctly specified.\n",
       "[2] The condition number is large, 2.93e+04. This might indicate that there are\n",
       "strong multicollinearity or other numerical problems.\n",
       "\"\"\""
      ]
     },
     "metadata": {},
     "output_type": "display_data"
    }
   ],
   "source": []
  },
  {
   "cell_type": "code",
   "execution_count": null,
   "id": "d3f199b8-ca70-4cdf-9698-edb241d87678",
   "metadata": {},
   "outputs": [],
   "source": []
  }
 ],
 "metadata": {
  "kernelspec": {
   "display_name": "myLSST",
   "language": "python",
   "name": "mylsst"
  },
  "language_info": {
   "codemirror_mode": {
    "name": "ipython",
    "version": 3
   },
   "file_extension": ".py",
   "mimetype": "text/x-python",
   "name": "python",
   "nbconvert_exporter": "python",
   "pygments_lexer": "ipython3",
   "version": "3.7.12"
  }
 },
 "nbformat": 4,
 "nbformat_minor": 5
}
