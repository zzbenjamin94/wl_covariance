{
 "cells": [
  {
   "cell_type": "markdown",
   "id": "850c5fb1-020b-435b-861a-ec6ee4845d7c",
   "metadata": {},
   "source": [
    "## Bootstrap estimation of the error size for Sigma/Delta Sigma profiles"
   ]
  },
  {
   "cell_type": "code",
   "execution_count": 3,
   "id": "00546300-b1af-4525-8492-b5de398cb87f",
   "metadata": {},
   "outputs": [],
   "source": [
    "## testing multidark\n",
    "import numpy as np\n",
    "import matplotlib.pyplot as plt\n",
    "import seaborn as sns\n",
    "from scipy.stats import kde\n",
    "import h5py\n",
    "import astropy.io.fits as fits\n",
    "import csv\n",
    "import pickle\n",
    "import pandas as pd\n",
    "import h5py\n",
    "import tables\n",
    "import os\n",
    "from astropy.table import Table\n",
    "from astropy.coordinates import SkyCoord\n",
    "from tqdm import tqdm\n",
    "from astropy.io import ascii\n",
    "import os"
   ]
  },
  {
   "cell_type": "code",
   "execution_count": 6,
   "id": "d953aedf-b042-4a14-bf56-c1189fdb1665",
   "metadata": {},
   "outputs": [],
   "source": [
    "import sys\n",
    "sys.path.append('/global/u1/z/zzhang13')\n",
    "from kllr.kllr.regression_model import *\n",
    "from kllr.kllr.regression_plotting import *"
   ]
  },
  {
   "cell_type": "code",
   "execution_count": 4,
   "id": "a61331f1-fb67-4f40-b1cf-fd3a5f60d137",
   "metadata": {},
   "outputs": [],
   "source": [
    "import warnings\n",
    "warnings.filterwarnings(\"ignore\")"
   ]
  },
  {
   "cell_type": "markdown",
   "id": "d7909de7-23bf-4d0c-ab6d-11d69aafadb3",
   "metadata": {},
   "source": [
    "## Import the files"
   ]
  },
  {
   "cell_type": "code",
   "execution_count": 8,
   "id": "60d50618-ce05-40e5-ab43-d9fa378fc651",
   "metadata": {},
   "outputs": [],
   "source": [
    "datadir = './'"
   ]
  },
  {
   "cell_type": "code",
   "execution_count": 9,
   "id": "4eab1d64-e53d-4f53-86c6-a2ccfe6b57dc",
   "metadata": {},
   "outputs": [],
   "source": [
    "## Read the Files. \n",
    "files = ['sigma_mvir_5e13_1e14_z0p00.pkl', 'sigma_mvir_1e14_2e14_z0p00.pkl', 'sigma_mvir_2e14_5e14_z0p00.pkl', 'sigma_mvir_5e14_1e15_z0p00.pkl']\n",
    "mvir_bins = ['5e13-1e14', '1e14-2e14', '2e14-5e14', '5e14-1e15']\n",
    "r_range_norm = np.logspace(-0.15,1,10) #Used for computing the files. "
   ]
  },
  {
   "cell_type": "markdown",
   "id": "6b92bbe8-3b31-4228-8fec-53bf02dc0f2a",
   "metadata": {},
   "source": [
    "## Custom functions"
   ]
  },
  {
   "cell_type": "code",
   "execution_count": 7,
   "id": "377872ef-cd7d-4985-bb95-7619f81cfd3c",
   "metadata": {},
   "outputs": [],
   "source": [
    "def calc_bootstrap_cov_DS_radii(y, nBootstrap=50):     \n",
    "    output_Data = {}\n",
    "    \n",
    "    cov_bins = len(y[0,:])\n",
    "    covariance = np.zeros((cov_bins, cov_bins, nBootstrap))\n",
    "    correlation = np.zeros((cov_bins, cov_bins, nBootstrap))\n",
    "    \n",
    "    for i in range(cov_bins):\n",
    "        y_i = y[:,i]\n",
    "        for j in range(cov_bins):\n",
    "            y_j = y[:,j]\n",
    "    \n",
    "            for k in range(nBootstrap):\n",
    "                #First \"bootstrap\" is always using unsampled data\n",
    "                if k == 0:\n",
    "                    rand_ind = np.ones(y_i.size).astype(bool)\n",
    "                else:\n",
    "                    rand_ind = np.random.randint(0, y_i.size, y_i.size)\n",
    "\n",
    "                # Store the shuffled variables so you don't have to\n",
    "                # compute the shuffle multiple times\n",
    "                y_i_rand = y_i[rand_ind]\n",
    "                y_j_rand = y_j[rand_ind]\n",
    "\n",
    "                #Compute the covariance\n",
    "                cov = np.cov(y_i_rand, y_j_rand)\n",
    "                covariance[i,j,k] = cov[1, 0]     \n",
    "                correlation[i,j,k] = cov[1, 0]/np.sqrt(cov[0,0] * cov[1,1])    \n",
    "    \n",
    "    output_Data['covariance'] = covariance\n",
    "    output_Data['correlation'] = correlation\n",
    "    return output_Data"
   ]
  },
  {
   "cell_type": "markdown",
   "id": "168b0601-b423-427e-86d8-8af0bed2862e",
   "metadata": {},
   "source": [
    "## Computing the bootstrap error"
   ]
  },
  {
   "cell_type": "code",
   "execution_count": null,
   "id": "78995515-f6aa-45b8-a546-aaf5bfb6dd8d",
   "metadata": {},
   "outputs": [],
   "source": []
  },
  {
   "cell_type": "code",
   "execution_count": 12,
   "id": "d21c19d0-b777-4bcb-b9a0-29e67f60e469",
   "metadata": {},
   "outputs": [
    {
     "data": {
      "image/png": "[encoded data removed]",
      "text/plain": [
       "<Figure size 432x288 with 1 Axes>"
      ]
     },
     "metadata": {
      "needs_background": "light"
     },
     "output_type": "display_data"
    }
   ],
   "source": [
    "#sigma_mvir_binned = {}\n",
    "for i, file in enumerate(files):\n",
    "    with open(datadir+file, 'rb') as handle: \n",
    "        sigma_output = pickle.load(handle)\n",
    "        output = calc_bootstrap_cov_DS_radii(sigma_output['sigma'], nBootstrap=100)\n",
    "        \n",
    "        \n",
    "        covariance = output['covariance']\n",
    "        correlation = output['correlation']\n",
    "        \n",
    "        err = np.std(covariance,axis=2)\n",
    "        mean = np.mean(covariance,axis=2)\n",
    "        rel_err = err/mean\n",
    "        \n",
    "        rel_err_diag = [rel_err[i,i] for i in range(len(rel_err))]\n",
    "        plt.plot(r_range_norm[:-1], rel_err_diag)\n",
    "plt.xlabel('R/Rvir')\n",
    "plt.ylabel('Error %')\n",
    "plt.show()"
   ]
  },
  {
   "cell_type": "code",
   "execution_count": null,
   "id": "6921cbf1-4dec-42c4-8997-1373cae04eb6",
   "metadata": {},
   "outputs": [],
   "source": []
  }
 ],
 "metadata": {
  "kernelspec": {
   "display_name": "myLSST",
   "language": "python",
   "name": "mylsst"
  },
  "language_info": {
   "codemirror_mode": {
    "name": "ipython",
    "version": 3
   },
   "file_extension": ".py",
   "mimetype": "text/x-python",
   "name": "python",
   "nbconvert_exporter": "python",
   "pygments_lexer": "ipython3",
   "version": "3.7.12"
  }
 },
 "nbformat": 4,
 "nbformat_minor": 5
}
