{
 "cells": [
  {
   "cell_type": "markdown",
   "id": "a9dce9c9-848b-4de2-b035-4a8d041da118",
   "metadata": {},
   "source": [
    "## Plotting the output of the Sigma and DeltaSigma computed from batch jobs. "
   ]
  },
  {
   "cell_type": "markdown",
   "id": "0e39da2a-fe70-466c-8005-7e087ba25eb8",
   "metadata": {},
   "source": [
    "## Setup"
   ]
  },
  {
   "cell_type": "code",
   "execution_count": 8,
   "id": "7547d7f3-a869-4b78-8a67-6dd227b98d36",
   "metadata": {},
   "outputs": [],
   "source": [
    "## testing multidark\n",
    "import numpy as np\n",
    "import matplotlib.pyplot as plt\n",
    "import seaborn as sns\n",
    "from scipy.stats import kde\n",
    "import h5py\n",
    "import astropy.io.fits as fits\n",
    "import csv\n",
    "import pickle\n",
    "import pandas as pd\n",
    "import h5py\n",
    "import tables\n",
    "import os\n",
    "from astropy.table import Table\n",
    "from astropy.coordinates import SkyCoord\n",
    "from tqdm import tqdm\n",
    "from astropy.io import ascii\n",
    "import os"
   ]
  },
  {
   "cell_type": "code",
   "execution_count": 2,
   "id": "4bdd1c4d-864b-450e-9747-2580f3007453",
   "metadata": {},
   "outputs": [],
   "source": [
    "import warnings\n",
    "warnings.filterwarnings(\"ignore\")"
   ]
  },
  {
   "cell_type": "markdown",
   "id": "2f4edd84-0317-474a-a300-7a8287525550",
   "metadata": {},
   "source": [
    "## Reading the files"
   ]
  },
  {
   "cell_type": "code",
   "execution_count": 9,
   "id": "76803dde-1a8e-4708-949f-cc88f0e1138d",
   "metadata": {},
   "outputs": [],
   "source": [
    "datadir = './'"
   ]
  },
  {
   "cell_type": "code",
   "execution_count": 10,
   "id": "2cf1c1a4-33cc-491f-b28f-fed77223a092",
   "metadata": {},
   "outputs": [],
   "source": [
    "## Read the Files. \n",
    "files = ['sigma_mvir_5e13_1e14_z0p00.pkl', 'sigma_mvir_1e14_2e14_z0p00.pkl', 'sigma_mvir_2e14_5e14_z0p00.pkl', 'sigma_mvir_5e14_1e15_z0p00.pkl']\n",
    "mvir_bins = ['5e13-1e14', '1e14-2e14', '2e14-5e14', '5e14-1e15']\n",
    "r_range_norm = np.logspace(-0.15,1,10) #Used for computing the files. "
   ]
  },
  {
   "cell_type": "code",
   "execution_count": 26,
   "id": "03a05504-11a4-40ec-a1a1-2c95584193b9",
   "metadata": {},
   "outputs": [
    {
     "name": "stdout",
     "output_type": "stream",
     "text": [
      "9\n",
      "9\n",
      "9\n",
      "9\n",
      "9\n",
      "9\n",
      "9\n",
      "9\n",
      "9\n",
      "9\n",
      "9\n",
      "9\n",
      "9\n",
      "9\n",
      "9\n",
      "9\n",
      "9\n",
      "9\n",
      "9\n",
      "9\n",
      "9\n",
      "9\n",
      "9\n",
      "9\n",
      "9\n",
      "9\n",
      "9\n",
      "9\n",
      "9\n",
      "9\n",
      "9\n",
      "9\n",
      "9\n",
      "9\n",
      "9\n",
      "9\n"
     ]
    },
    {
     "data": {
      "image/png": "[encoded data removed]",
      "text/plain": [
       "<Figure size 432x288 with 1 Axes>"
      ]
     },
     "metadata": {
      "needs_background": "light"
     },
     "output_type": "display_data"
    }
   ],
   "source": [
    "#sigma_mvir_binned = {}\n",
    "for i, file in enumerate(files):\n",
    "    with open(datadir+file, 'rb') as handle: \n",
    "        sigma_output = pickle.load(handle)\n",
    "    \n",
    "    ##Reading the DS\n",
    "    sigma_mpi_mean = np.mean(sigma_output['sigma'], axis=0)\n",
    "    sigma_mpi_err = np.std(sigma_output['sigma'], axis=0)\n",
    "\n",
    " \n",
    "    plt.errorbar(r_range_norm[:-1], sigma_mpi_mean, yerr= sigma_mpi_err, label=mvir_bins[i])\n",
    "    \n",
    "plt.xlabel('R/Rvir')\n",
    "plt.ylabel('Sigma')\n",
    "plt.yscale('log')\n",
    "plt.xscale('log')\n",
    "plt.legend()\n",
    "plt.show()"
   ]
  },
  {
   "cell_type": "code",
   "execution_count": 27,
   "id": "300f6d82-9c6e-4d7b-9d57-e26b1f0264f5",
   "metadata": {},
   "outputs": [
    {
     "data": {
      "text/plain": [
       "(500, 10)"
      ]
     },
     "execution_count": 27,
     "metadata": {},
     "output_type": "execute_result"
    }
   ],
   "source": [
    "np.shape(sigma_output['r_range'])"
   ]
  },
  {
   "cell_type": "code",
   "execution_count": null,
   "id": "912e90c8-5e94-4856-9743-edff05f7c43e",
   "metadata": {},
   "outputs": [],
   "source": []
  }
 ],
 "metadata": {
  "kernelspec": {
   "display_name": "myLSST",
   "language": "python",
   "name": "mylsst"
  },
  "language_info": {
   "codemirror_mode": {
    "name": "ipython",
    "version": 3
   },
   "file_extension": ".py",
   "mimetype": "text/x-python",
   "name": "python",
   "nbconvert_exporter": "python",
   "pygments_lexer": "ipython3",
   "version": "3.7.12"
  }
 },
 "nbformat": 4,
 "nbformat_minor": 5
}
