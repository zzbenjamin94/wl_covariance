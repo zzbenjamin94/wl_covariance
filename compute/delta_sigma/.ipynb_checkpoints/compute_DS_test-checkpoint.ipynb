{
 "cells": [
  {
   "cell_type": "code",
   "execution_count": 3,
   "id": "a2d2b520-2499-4f1f-b24f-819dc32398de",
   "metadata": {},
   "outputs": [],
   "source": [
    "## testing multidark\n",
    "import numpy as np\n",
    "import matplotlib.pyplot as plt\n",
    "import seaborn as sns\n",
    "from scipy.stats import kde\n",
    "import h5py\n",
    "import astropy.io.fits as fits\n",
    "import csv\n",
    "import pandas as pd\n",
    "import h5py\n",
    "import tables\n",
    "import pickle5 as pickle\n",
    "import os\n",
    "from astropy.table import Table\n",
    "from astropy.coordinates import SkyCoord\n",
    "from tqdm import tqdm\n",
    "from astropy.io import ascii\n",
    "import os\n",
    "from glob import glob"
   ]
  },
  {
   "cell_type": "code",
   "execution_count": 4,
   "id": "f2a5e0eb-b7ac-46d0-8fe9-7058bd123c86",
   "metadata": {},
   "outputs": [],
   "source": [
    "from pygadgetreader import *"
   ]
  },
  {
   "cell_type": "code",
   "execution_count": 5,
   "id": "d554a118-7806-4a8b-af40-660439f5c38a",
   "metadata": {},
   "outputs": [],
   "source": [
    "import warnings\n",
    "warnings.filterwarnings(\"ignore\")"
   ]
  },
  {
   "cell_type": "code",
   "execution_count": 6,
   "id": "9e9e3072-fd9f-4425-9a11-59a1c5b78890",
   "metadata": {},
   "outputs": [],
   "source": [
    "from timeit import default_timer as timer"
   ]
  },
  {
   "cell_type": "code",
   "execution_count": 7,
   "id": "269ac526-ceaa-4495-b7c5-e897fdbda46a",
   "metadata": {},
   "outputs": [],
   "source": [
    "import sys\n",
    "sys.path.append('/global/homes/z/zzhang13/BaryonPasting/CorrelatedStructures/')"
   ]
  },
  {
   "cell_type": "code",
   "execution_count": 8,
   "id": "5cb20e5f-0ed8-4223-bc57-36f28926f54b",
   "metadata": {},
   "outputs": [],
   "source": [
    "ptcl_dir = '/global/cscratch1/sd/zzhang13/MultiDark/MDPL2_particles/z0p00/'\n",
    "clusters_dir = '/global/cscratch1/sd/zzhang13/MultiDark/MDPL2_ROCKSTAR_Halos/z0p00/'"
   ]
  },
  {
   "cell_type": "markdown",
   "id": "8048db95-d972-475c-8865-2c67931862b0",
   "metadata": {},
   "source": [
    "## Importing the cluster catalog. "
   ]
  },
  {
   "cell_type": "code",
   "execution_count": 9,
   "id": "28ba0389-5283-44d2-9a09-8a3dfa257a93",
   "metadata": {},
   "outputs": [],
   "source": [
    "import pandas as pd\n",
    "cluster_df = pd.read_csv(clusters_dir + 'clusters_SAGE_mvir_lgt_5e13.csv')"
   ]
  },
  {
   "cell_type": "code",
   "execution_count": 10,
   "id": "00b67a22-42eb-4c96-8b49-9bf1439a8897",
   "metadata": {},
   "outputs": [],
   "source": [
    "mvir_low = 1e14; mvir_high = 5e14\n",
    "sample_num = 10\n",
    "\n",
    "mask = (cluster_df.mvir >= mvir_low) & (cluster_df.mvir < mvir_high)\n",
    "cur_df = cluster_df[mask]\n",
    "cur_df = cur_df.head(sample_num) ##Get the first 100 clusters"
   ]
  },
  {
   "cell_type": "markdown",
   "id": "6c3f7058-f779-46b5-b67c-2d30c0013171",
   "metadata": {},
   "source": [
    "## Configuring varaibles for reading DeltaSigma"
   ]
  },
  {
   "cell_type": "code",
   "execution_count": 30,
   "id": "9a8f37f0-6ad8-4e19-9419-1ec1474320e3",
   "metadata": {},
   "outputs": [],
   "source": [
    "##Global variables\n",
    "box_length = 1000\n",
    "ptcl_mass = 1.505e9 ##Msun/h\n",
    "ptcl_samp = 1000 #Sample every 1000th particle\n",
    "dz = 200 ## Projection depth Mpc/h\n",
    "r_bins_log_norm = np.linspace(-1,1,22)\n",
    "r_bins_lin_norm = 10**r_bins_log_norm\n",
    "r_cent_log_norm= (r_bins_log_norm[1:] + r_bins_log_norm[:-1])/2\n",
    "r_cent_lin_norm = 10**r_cent_log_norm\n"
   ]
  },
  {
   "cell_type": "markdown",
   "id": "2c4755d1-6ee5-40dd-b597-ec1cf6c437c1",
   "metadata": {},
   "source": [
    "## Reading the downsampled particle file"
   ]
  },
  {
   "cell_type": "raw",
   "id": "435fba69-958d-4790-8442-ceca120b9141",
   "metadata": {},
   "source": [
    "ptcl_files = glob(ptcl_dir + 'snap_130.*')\n",
    "ptcl_file_prefix = ptcl_dir + 'snap_130'\n",
    "ptcl = readsnap(ptcl_file_prefix, 'pos', 'dm', nth=1000, suppress=1)\n",
    "\n",
    "print(\"Completed particle file: \", file)"
   ]
  },
  {
   "cell_type": "code",
   "execution_count": 16,
   "id": "4aba4fd0-147c-4a11-854b-f85d3978f85f",
   "metadata": {},
   "outputs": [],
   "source": [
    "with open(ptcl_dir + 'MDPL2_dm_ptcl_1000th.pkl', \"rb\") as handle:\n",
    "    ptcl = pickle.load(handle)"
   ]
  },
  {
   "cell_type": "markdown",
   "id": "e4f84dcb-a1f9-4a07-8e74-66edf619b0eb",
   "metadata": {},
   "source": [
    "## Computing Sigma and DeltaSigma"
   ]
  },
  {
   "cell_type": "code",
   "execution_count": 31,
   "id": "b1a8041e-b958-46f6-8576-ed886162a063",
   "metadata": {},
   "outputs": [
    {
     "name": "stdout",
     "output_type": "stream",
     "text": [
      "Completed reading cluster:  12592929268\n",
      "Completed reading cluster:  12592317707\n",
      "Completed reading cluster:  12592352396\n",
      "Completed reading cluster:  12592318197\n",
      "Completed reading cluster:  12592352641\n",
      "Completed reading cluster:  12592318510\n",
      "Completed reading cluster:  12583641791\n",
      "Completed reading cluster:  12592890829\n",
      "Completed reading cluster:  12592319043\n",
      "Completed reading cluster:  12583641020\n",
      "Time elapsed  =  234.7181756598875\n"
     ]
    }
   ],
   "source": [
    "output = {}\n",
    "\n",
    "x = np.array(cur_df.x); y = np.array(cur_df.y); z = np.array(cur_df.z)\n",
    "mvir = np.array(cur_df.mvir); rvir = np.array(cur_df.rvir)/1000\n",
    "Ngal = np.array(cur_df.Ngal)\n",
    "cluster_id = np.array(cur_df.id)\n",
    "        \n",
    "#Derived quantities\n",
    "r_range = r_bins_lin_norm*rvir[:,np.newaxis]\n",
    "sigma = np.zeros((sample_num, len(r_cent_lin_norm)))\n",
    "deltasigma = np.zeros((sample_num, len(r_cent_lin_norm)))\n",
    "\n",
    "## Compute Delta Sigma\n",
    "start = timer()\n",
    "\n",
    "for i in range(sample_num):\n",
    "        r_range_cl = r_range[i]\n",
    "        sigma_cl = np.zeros(len(r_cent_lin_norm))\n",
    "        deltasigma_cl = np.zeros(len(r_cent_lin_norm))\n",
    "        \n",
    "        ##Periodic boundary condition for annulus. Halos are conditions at [0,1000] Mpc boundaries.       \n",
    "        dx_sqr = np.asarray([(ptcl[:,0]-x[i])**2, (ptcl[:,0]-x[i]+box_length)**2, (ptcl[:,0]-x[i]-box_length)**2]).min(0)\n",
    "        dy_sqr = np.asarray([(ptcl[:,1]-y[i])**2, (ptcl[:,1]-y[i]+box_length)**2, (ptcl[:,1]-y[i]-box_length)**2]).min(0)\n",
    "        dz_min = np.asarray([np.abs(ptcl[:,2]-z[i]), np.abs(ptcl[:,2]-z[i]+box_length), np.abs(ptcl[:,2]-z[i]-box_length)]).min(0)\n",
    "\n",
    "        for j in range(len(r_cent_lin_norm)):\n",
    "            #radius for annulus\n",
    "            dr = r_range_cl[j+1] - r_range_cl[j]\n",
    "            r_cur = r_range_cl[j]\n",
    "\n",
    "            #Masking\n",
    "            mask_DS = dx_sqr + dy_sqr < (r_cur+dr)**2 \n",
    "            mask_DS &= dz_min < dz\n",
    "            mask_Sigma = mask_DS & (dx_sqr + dy_sqr >= (r_cur)**2)\n",
    "        \n",
    "            #Building an annulus\n",
    "            annulus_df = ptcl[mask_Sigma]\n",
    "\n",
    "            #Find 2D density within the annulus\n",
    "            area_annulus = np.pi * ((r_cur+dr)**2 - (r_cur)**2.)\n",
    "            m_annulus = len(annulus_df)*ptcl_mass*ptcl_samp\n",
    "            sigma_cl[j] = m_annulus/area_annulus\n",
    "            \n",
    "            ##Finding DeltaSigma\n",
    "            circle_df = ptcl[mask_DS]\n",
    "            area_circle = np.pi*r_cur**2.\n",
    "            m_circle = len(circle_df)*ptcl_mass*ptcl_samp\n",
    "            sigma_avg = m_circle/area_circle\n",
    "            deltasigma_cl[j] = sigma_avg - sigma_cl[j]\n",
    "                \n",
    "        sigma[i] += sigma_cl\n",
    "        deltasigma[i] += deltasigma_cl\n",
    "        print(\"Completed reading cluster: \", cluster_id[i])\n",
    "    \n",
    "end = timer()\n",
    "print(\"Time elapsed  = \", end-start)\n",
    "\n",
    "\n",
    "output['cluster_id'] = cluster_id\n",
    "output['sigma'] = sigma\n",
    "output['deltasigma'] = deltasigma"
   ]
  },
  {
   "cell_type": "raw",
   "id": "d1e1e036-1884-404a-a345-cf9c4a696ad4",
   "metadata": {},
   "source": [
    "with open(\"test_cluster_DS.pkl\", \"wb\") as handle:\n",
    "    pickle.dump(output, handle)"
   ]
  },
  {
   "cell_type": "code",
   "execution_count": 32,
   "id": "0ba1891c-24fc-4b16-9f32-2bb2842c44cf",
   "metadata": {},
   "outputs": [],
   "source": [
    "mean_sigma = np.mean(output['sigma']*1000, axis=0)\n",
    "mean_DS = np.mean(output['deltasigma']*1000, axis=0)"
   ]
  },
  {
   "cell_type": "code",
   "execution_count": 34,
   "id": "f868310d-2a6f-48e9-a90f-9124905fa5aa",
   "metadata": {},
   "outputs": [
    {
     "data": {
      "image/png": "[encoded data removed]",
      "text/plain": [
       "<Figure size 432x288 with 1 Axes>"
      ]
     },
     "metadata": {
      "needs_background": "light"
     },
     "output_type": "display_data"
    }
   ],
   "source": [
    "plt.plot(r_cent_lin_norm, mean_sigma)\n",
    "plt.yscale('log')\n",
    "plt.xscale('log')"
   ]
  },
  {
   "cell_type": "code",
   "execution_count": 35,
   "id": "c2c18602-c54c-44d0-900b-88d9be04d71f",
   "metadata": {},
   "outputs": [
    {
     "data": {
      "image/png": "[encoded data removed]",
      "text/plain": [
       "<Figure size 432x288 with 1 Axes>"
      ]
     },
     "metadata": {
      "needs_background": "light"
     },
     "output_type": "display_data"
    }
   ],
   "source": [
    "plt.plot(r_cent_lin_norm, mean_DS)\n",
    "plt.yscale('log')\n",
    "plt.xscale('log')"
   ]
  },
  {
   "cell_type": "markdown",
   "id": "ca091792-c540-4b98-9327-edaebff1017f",
   "metadata": {},
   "source": [
    "## Read the parallel files"
   ]
  },
  {
   "cell_type": "code",
   "execution_count": 36,
   "id": "b8de1ea0-5e48-470b-98e5-b76a1d491691",
   "metadata": {},
   "outputs": [],
   "source": [
    "with open('deltasigma_multiprocess_1000th_ptcl_test.pkl', \"rb\") as handle:\n",
    "    output_mpi = pickle.load(handle)"
   ]
  },
  {
   "cell_type": "code",
   "execution_count": 38,
   "id": "2fce4102-1584-4003-9bca-bbc8a7bd0dc1",
   "metadata": {},
   "outputs": [],
   "source": [
    "mean_sigma_mpi = np.mean(output_mpi['sigma'], axis=0)\n",
    "mean_DS_mpi = np.mean(output_mpi['delta_sigma'], axis=0)"
   ]
  },
  {
   "cell_type": "code",
   "execution_count": 39,
   "id": "20ec438b-26e4-417f-9675-616aea579a1c",
   "metadata": {},
   "outputs": [
    {
     "ename": "ValueError",
     "evalue": "x and y must have same first dimension, but have shapes (21,) and (20,)",
     "output_type": "error",
     "traceback": [
      "\u001b[0;31m---------------------------------------------------------------------------\u001b[0m",
      "\u001b[0;31mValueError\u001b[0m                                Traceback (most recent call last)",
      "\u001b[0;32m/tmp/ipykernel_55721/231949821.py\u001b[0m in \u001b[0;36m<module>\u001b[0;34m\u001b[0m\n\u001b[0;32m----> 1\u001b[0;31m \u001b[0mplt\u001b[0m\u001b[0;34m.\u001b[0m\u001b[0mplot\u001b[0m\u001b[0;34m(\u001b[0m\u001b[0mr_cent_lin_norm\u001b[0m\u001b[0;34m,\u001b[0m \u001b[0mmean_sigma_mpi\u001b[0m\u001b[0;34m)\u001b[0m\u001b[0;34m\u001b[0m\u001b[0;34m\u001b[0m\u001b[0m\n\u001b[0m\u001b[1;32m      2\u001b[0m \u001b[0mplt\u001b[0m\u001b[0;34m.\u001b[0m\u001b[0myscale\u001b[0m\u001b[0;34m(\u001b[0m\u001b[0;34m'log'\u001b[0m\u001b[0;34m)\u001b[0m\u001b[0;34m\u001b[0m\u001b[0;34m\u001b[0m\u001b[0m\n\u001b[1;32m      3\u001b[0m \u001b[0mplt\u001b[0m\u001b[0;34m.\u001b[0m\u001b[0mxscale\u001b[0m\u001b[0;34m(\u001b[0m\u001b[0;34m'log'\u001b[0m\u001b[0;34m)\u001b[0m\u001b[0;34m\u001b[0m\u001b[0;34m\u001b[0m\u001b[0m\n",
      "\u001b[0;32m~/.conda/envs/myLSST/lib/python3.7/site-packages/matplotlib/pyplot.py\u001b[0m in \u001b[0;36mplot\u001b[0;34m(scalex, scaley, data, *args, **kwargs)\u001b[0m\n\u001b[1;32m   2757\u001b[0m     return gca().plot(\n\u001b[1;32m   2758\u001b[0m         \u001b[0;34m*\u001b[0m\u001b[0margs\u001b[0m\u001b[0;34m,\u001b[0m \u001b[0mscalex\u001b[0m\u001b[0;34m=\u001b[0m\u001b[0mscalex\u001b[0m\u001b[0;34m,\u001b[0m \u001b[0mscaley\u001b[0m\u001b[0;34m=\u001b[0m\u001b[0mscaley\u001b[0m\u001b[0;34m,\u001b[0m\u001b[0;34m\u001b[0m\u001b[0;34m\u001b[0m\u001b[0m\n\u001b[0;32m-> 2759\u001b[0;31m         **({\"data\": data} if data is not None else {}), **kwargs)\n\u001b[0m\u001b[1;32m   2760\u001b[0m \u001b[0;34m\u001b[0m\u001b[0m\n\u001b[1;32m   2761\u001b[0m \u001b[0;34m\u001b[0m\u001b[0m\n",
      "\u001b[0;32m~/.conda/envs/myLSST/lib/python3.7/site-packages/matplotlib/axes/_axes.py\u001b[0m in \u001b[0;36mplot\u001b[0;34m(self, scalex, scaley, data, *args, **kwargs)\u001b[0m\n\u001b[1;32m   1630\u001b[0m         \"\"\"\n\u001b[1;32m   1631\u001b[0m         \u001b[0mkwargs\u001b[0m \u001b[0;34m=\u001b[0m \u001b[0mcbook\u001b[0m\u001b[0;34m.\u001b[0m\u001b[0mnormalize_kwargs\u001b[0m\u001b[0;34m(\u001b[0m\u001b[0mkwargs\u001b[0m\u001b[0;34m,\u001b[0m \u001b[0mmlines\u001b[0m\u001b[0;34m.\u001b[0m\u001b[0mLine2D\u001b[0m\u001b[0;34m)\u001b[0m\u001b[0;34m\u001b[0m\u001b[0;34m\u001b[0m\u001b[0m\n\u001b[0;32m-> 1632\u001b[0;31m         \u001b[0mlines\u001b[0m \u001b[0;34m=\u001b[0m \u001b[0;34m[\u001b[0m\u001b[0;34m*\u001b[0m\u001b[0mself\u001b[0m\u001b[0;34m.\u001b[0m\u001b[0m_get_lines\u001b[0m\u001b[0;34m(\u001b[0m\u001b[0;34m*\u001b[0m\u001b[0margs\u001b[0m\u001b[0;34m,\u001b[0m \u001b[0mdata\u001b[0m\u001b[0;34m=\u001b[0m\u001b[0mdata\u001b[0m\u001b[0;34m,\u001b[0m \u001b[0;34m**\u001b[0m\u001b[0mkwargs\u001b[0m\u001b[0;34m)\u001b[0m\u001b[0;34m]\u001b[0m\u001b[0;34m\u001b[0m\u001b[0;34m\u001b[0m\u001b[0m\n\u001b[0m\u001b[1;32m   1633\u001b[0m         \u001b[0;32mfor\u001b[0m \u001b[0mline\u001b[0m \u001b[0;32min\u001b[0m \u001b[0mlines\u001b[0m\u001b[0;34m:\u001b[0m\u001b[0;34m\u001b[0m\u001b[0;34m\u001b[0m\u001b[0m\n\u001b[1;32m   1634\u001b[0m             \u001b[0mself\u001b[0m\u001b[0;34m.\u001b[0m\u001b[0madd_line\u001b[0m\u001b[0;34m(\u001b[0m\u001b[0mline\u001b[0m\u001b[0;34m)\u001b[0m\u001b[0;34m\u001b[0m\u001b[0;34m\u001b[0m\u001b[0m\n",
      "\u001b[0;32m~/.conda/envs/myLSST/lib/python3.7/site-packages/matplotlib/axes/_base.py\u001b[0m in \u001b[0;36m__call__\u001b[0;34m(self, data, *args, **kwargs)\u001b[0m\n\u001b[1;32m    310\u001b[0m                 \u001b[0mthis\u001b[0m \u001b[0;34m+=\u001b[0m \u001b[0margs\u001b[0m\u001b[0;34m[\u001b[0m\u001b[0;36m0\u001b[0m\u001b[0;34m]\u001b[0m\u001b[0;34m,\u001b[0m\u001b[0;34m\u001b[0m\u001b[0;34m\u001b[0m\u001b[0m\n\u001b[1;32m    311\u001b[0m                 \u001b[0margs\u001b[0m \u001b[0;34m=\u001b[0m \u001b[0margs\u001b[0m\u001b[0;34m[\u001b[0m\u001b[0;36m1\u001b[0m\u001b[0;34m:\u001b[0m\u001b[0;34m]\u001b[0m\u001b[0;34m\u001b[0m\u001b[0;34m\u001b[0m\u001b[0m\n\u001b[0;32m--> 312\u001b[0;31m             \u001b[0;32myield\u001b[0m \u001b[0;32mfrom\u001b[0m \u001b[0mself\u001b[0m\u001b[0;34m.\u001b[0m\u001b[0m_plot_args\u001b[0m\u001b[0;34m(\u001b[0m\u001b[0mthis\u001b[0m\u001b[0;34m,\u001b[0m \u001b[0mkwargs\u001b[0m\u001b[0;34m)\u001b[0m\u001b[0;34m\u001b[0m\u001b[0;34m\u001b[0m\u001b[0m\n\u001b[0m\u001b[1;32m    313\u001b[0m \u001b[0;34m\u001b[0m\u001b[0m\n\u001b[1;32m    314\u001b[0m     \u001b[0;32mdef\u001b[0m \u001b[0mget_next_color\u001b[0m\u001b[0;34m(\u001b[0m\u001b[0mself\u001b[0m\u001b[0;34m)\u001b[0m\u001b[0;34m:\u001b[0m\u001b[0;34m\u001b[0m\u001b[0;34m\u001b[0m\u001b[0m\n",
      "\u001b[0;32m~/.conda/envs/myLSST/lib/python3.7/site-packages/matplotlib/axes/_base.py\u001b[0m in \u001b[0;36m_plot_args\u001b[0;34m(self, tup, kwargs, return_kwargs)\u001b[0m\n\u001b[1;32m    496\u001b[0m \u001b[0;34m\u001b[0m\u001b[0m\n\u001b[1;32m    497\u001b[0m         \u001b[0;32mif\u001b[0m \u001b[0mx\u001b[0m\u001b[0;34m.\u001b[0m\u001b[0mshape\u001b[0m\u001b[0;34m[\u001b[0m\u001b[0;36m0\u001b[0m\u001b[0;34m]\u001b[0m \u001b[0;34m!=\u001b[0m \u001b[0my\u001b[0m\u001b[0;34m.\u001b[0m\u001b[0mshape\u001b[0m\u001b[0;34m[\u001b[0m\u001b[0;36m0\u001b[0m\u001b[0;34m]\u001b[0m\u001b[0;34m:\u001b[0m\u001b[0;34m\u001b[0m\u001b[0;34m\u001b[0m\u001b[0m\n\u001b[0;32m--> 498\u001b[0;31m             raise ValueError(f\"x and y must have same first dimension, but \"\n\u001b[0m\u001b[1;32m    499\u001b[0m                              f\"have shapes {x.shape} and {y.shape}\")\n\u001b[1;32m    500\u001b[0m         \u001b[0;32mif\u001b[0m \u001b[0mx\u001b[0m\u001b[0;34m.\u001b[0m\u001b[0mndim\u001b[0m \u001b[0;34m>\u001b[0m \u001b[0;36m2\u001b[0m \u001b[0;32mor\u001b[0m \u001b[0my\u001b[0m\u001b[0;34m.\u001b[0m\u001b[0mndim\u001b[0m \u001b[0;34m>\u001b[0m \u001b[0;36m2\u001b[0m\u001b[0;34m:\u001b[0m\u001b[0;34m\u001b[0m\u001b[0;34m\u001b[0m\u001b[0m\n",
      "\u001b[0;31mValueError\u001b[0m: x and y must have same first dimension, but have shapes (21,) and (20,)"
     ]
    },
    {
     "data": {
      "image/png": "[encoded data removed]",
      "text/plain": [
       "<Figure size 432x288 with 1 Axes>"
      ]
     },
     "metadata": {
      "needs_background": "light"
     },
     "output_type": "display_data"
    }
   ],
   "source": [
    "plt.plot(r_cent_lin_norm, mean_sigma_mpi)\n",
    "plt.yscale('log')\n",
    "plt.xscale('log')"
   ]
  },
  {
   "cell_type": "code",
   "execution_count": null,
   "id": "14ccbff8-5bbc-4664-be5c-8047af7959f6",
   "metadata": {},
   "outputs": [],
   "source": []
  }
 ],
 "metadata": {
  "kernelspec": {
   "display_name": "myLSST",
   "language": "python",
   "name": "mylsst"
  },
  "language_info": {
   "codemirror_mode": {
    "name": "ipython",
    "version": 3
   },
   "file_extension": ".py",
   "mimetype": "text/x-python",
   "name": "python",
   "nbconvert_exporter": "python",
   "pygments_lexer": "ipython3",
   "version": "3.7.12"
  }
 },
 "nbformat": 4,
 "nbformat_minor": 5
}
