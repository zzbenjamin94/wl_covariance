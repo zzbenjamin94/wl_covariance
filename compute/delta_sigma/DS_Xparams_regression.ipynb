{
 "cells": [
  {
   "cell_type": "code",
   "execution_count": 1,
   "id": "388e6577-cb7e-479a-b111-755caa2f2a91",
   "metadata": {},
   "outputs": [],
   "source": [
    "from scipy.stats import kde\n",
    "import h5py\n",
    "import astropy.io.fits as fits\n",
    "import csv\n",
    "import pandas as pd\n",
    "import numpy as np\n",
    "import tables\n",
    "import pickle\n",
    "import os\n",
    "from astropy.table import Table\n",
    "from astropy.coordinates import SkyCoord\n",
    "from tqdm import tqdm\n",
    "from astropy.io import ascii\n",
    "import os"
   ]
  },
  {
   "cell_type": "code",
   "execution_count": 2,
   "id": "4fc342ab-218a-410e-ba76-323fe7098936",
   "metadata": {},
   "outputs": [],
   "source": [
    "import pandas as pd\n",
    "import matplotlib.pyplot as plt\n",
    "import seaborn as sns\n",
    "import statsmodels.api as sm\n",
    "import statsmodels.formula.api as smf\n",
    "import scipy.stats as stats\n",
    "import matplotlib.cm as cm\n",
    "#from IPython.display import display\n",
    "from mpl_toolkits.mplot3d import Axes3D\n",
    "from sklearn.feature_selection import f_regression\n",
    "from statsmodels.stats.anova import anova_lm\n",
    "\n",
    "#sns.set()\n",
    "#pd.set_option('display.notebook_repr_html', True)\n",
    "#pd.set_option('display.precision', 2)\n",
    "#%matplotlib notebook\n",
    "#plt.rcParams['figure.figsize'] = 10, 10"
   ]
  },
  {
   "cell_type": "markdown",
   "id": "16dc79a7-9ebd-4c2b-add3-7b806b3a6837",
   "metadata": {},
   "source": [
    "## Collecting the data"
   ]
  },
  {
   "cell_type": "code",
   "execution_count": 39,
   "id": "2aca2866-ed8c-4359-b083-e28050e4d1d3",
   "metadata": {},
   "outputs": [],
   "source": [
    "clusters_z0p00_file = '/global/cscratch1/sd/zzhang13/MultiDark/MDPL2_ROCKSTAR_Halos/z0p00/' + 'MDPL2_halos_DS_Ngal_Dgal_lt_2_allM_mah_z0p00.p'"
   ]
  },
  {
   "cell_type": "code",
   "execution_count": 40,
   "id": "875f925f-a891-4a39-a7cc-3db17648de85",
   "metadata": {},
   "outputs": [],
   "source": [
    "with open(clusters_z0p00_file, 'rb') as handle:\n",
    "    matched_halo_df = pickle.load(handle)"
   ]
  },
  {
   "cell_type": "code",
   "execution_count": 41,
   "id": "57e19123-de61-4b34-8b4a-3a698c364a4b",
   "metadata": {},
   "outputs": [
    {
     "data": {
      "text/plain": [
       "Index(['scale', 'id', 'pid', 'mvir', 'rvir', 'x', 'y', 'z', 'M200b', 'M200c',\n",
       "       'M500c', 'Type', 'GalaxyIndex', 'CentralGalaxyIndex', 'CtreesHaloID',\n",
       "       'CtreesCentralID', 'CentralMvir', 'StellarMass', 'Ngal', 'cluster_id',\n",
       "       'sigma', 'r_range', 'delta_sigma', 'rs', 'T/|U|', 'Halfmass_Scale',\n",
       "       'Acc_Rate_Inst', 'Acc_Rate_100Myr', 'Acc_Rate_1*Tdyn',\n",
       "       'Acc_Rate_2*Tdyn', 'Acc_Rate_Mpeak', 'c_vir'],\n",
       "      dtype='object')"
      ]
     },
     "execution_count": 41,
     "metadata": {},
     "output_type": "execute_result"
    }
   ],
   "source": [
    "matched_halo_df.columns"
   ]
  },
  {
   "cell_type": "markdown",
   "id": "e5618471-177d-4584-86a5-f77dae176cdc",
   "metadata": {},
   "source": [
    "## Initiating the variables. \n",
    "\n",
    "What is it that we want to do. \n",
    "\n",
    "Build a linear regression model to explain DeltaSigma in the inner bin as a function of mass and formation time history"
   ]
  },
  {
   "cell_type": "code",
   "execution_count": 42,
   "id": "af3a23c4-6257-434d-a3c9-50941bcdd16f",
   "metadata": {},
   "outputs": [
    {
     "data": {
      "text/html": [
       "<div>\n",
       "<style scoped>\n",
       "    .dataframe tbody tr th:only-of-type {\n",
       "        vertical-align: middle;\n",
       "    }\n",
       "\n",
       "    .dataframe tbody tr th {\n",
       "        vertical-align: top;\n",
       "    }\n",
       "\n",
       "    .dataframe thead th {\n",
       "        text-align: right;\n",
       "    }\n",
       "</style>\n",
       "<table border=\"1\" class=\"dataframe\">\n",
       "  <thead>\n",
       "    <tr style=\"text-align: right;\">\n",
       "      <th></th>\n",
       "      <th>mvir</th>\n",
       "      <th>M200b</th>\n",
       "      <th>T/|U|</th>\n",
       "      <th>Halfmass_Scale</th>\n",
       "      <th>Acc_Rate_Inst</th>\n",
       "      <th>Acc_Rate_100Myr</th>\n",
       "      <th>Acc_Rate_1*Tdyn</th>\n",
       "      <th>Acc_Rate_2*Tdyn</th>\n",
       "      <th>Acc_Rate_Mpeak</th>\n",
       "      <th>c_vir</th>\n",
       "    </tr>\n",
       "  </thead>\n",
       "  <tbody>\n",
       "    <tr>\n",
       "      <th>mvir</th>\n",
       "      <td>1.000000</td>\n",
       "      <td>0.996716</td>\n",
       "      <td>0.238452</td>\n",
       "      <td>0.196192</td>\n",
       "      <td>0.358387</td>\n",
       "      <td>0.358387</td>\n",
       "      <td>0.613766</td>\n",
       "      <td>0.793756</td>\n",
       "      <td>0.883615</td>\n",
       "      <td>-0.203265</td>\n",
       "    </tr>\n",
       "    <tr>\n",
       "      <th>M200b</th>\n",
       "      <td>0.996716</td>\n",
       "      <td>1.000000</td>\n",
       "      <td>0.231508</td>\n",
       "      <td>0.179047</td>\n",
       "      <td>0.366252</td>\n",
       "      <td>0.366252</td>\n",
       "      <td>0.589850</td>\n",
       "      <td>0.774323</td>\n",
       "      <td>0.871444</td>\n",
       "      <td>-0.212097</td>\n",
       "    </tr>\n",
       "    <tr>\n",
       "      <th>T/|U|</th>\n",
       "      <td>0.238452</td>\n",
       "      <td>0.231508</td>\n",
       "      <td>1.000000</td>\n",
       "      <td>0.642274</td>\n",
       "      <td>0.455129</td>\n",
       "      <td>0.455129</td>\n",
       "      <td>0.613005</td>\n",
       "      <td>0.473223</td>\n",
       "      <td>0.393809</td>\n",
       "      <td>-0.396614</td>\n",
       "    </tr>\n",
       "    <tr>\n",
       "      <th>Halfmass_Scale</th>\n",
       "      <td>0.196192</td>\n",
       "      <td>0.179047</td>\n",
       "      <td>0.642274</td>\n",
       "      <td>1.000000</td>\n",
       "      <td>0.237599</td>\n",
       "      <td>0.237599</td>\n",
       "      <td>0.464309</td>\n",
       "      <td>0.515517</td>\n",
       "      <td>0.468765</td>\n",
       "      <td>-0.575582</td>\n",
       "    </tr>\n",
       "    <tr>\n",
       "      <th>Acc_Rate_Inst</th>\n",
       "      <td>0.358387</td>\n",
       "      <td>0.366252</td>\n",
       "      <td>0.455129</td>\n",
       "      <td>0.237599</td>\n",
       "      <td>1.000000</td>\n",
       "      <td>1.000000</td>\n",
       "      <td>0.595898</td>\n",
       "      <td>0.430620</td>\n",
       "      <td>0.373494</td>\n",
       "      <td>-0.231633</td>\n",
       "    </tr>\n",
       "    <tr>\n",
       "      <th>Acc_Rate_100Myr</th>\n",
       "      <td>0.358387</td>\n",
       "      <td>0.366252</td>\n",
       "      <td>0.455129</td>\n",
       "      <td>0.237599</td>\n",
       "      <td>1.000000</td>\n",
       "      <td>1.000000</td>\n",
       "      <td>0.595898</td>\n",
       "      <td>0.430620</td>\n",
       "      <td>0.373494</td>\n",
       "      <td>-0.231633</td>\n",
       "    </tr>\n",
       "    <tr>\n",
       "      <th>Acc_Rate_1*Tdyn</th>\n",
       "      <td>0.613766</td>\n",
       "      <td>0.589850</td>\n",
       "      <td>0.613005</td>\n",
       "      <td>0.464309</td>\n",
       "      <td>0.595898</td>\n",
       "      <td>0.595898</td>\n",
       "      <td>1.000000</td>\n",
       "      <td>0.832721</td>\n",
       "      <td>0.704172</td>\n",
       "      <td>-0.202996</td>\n",
       "    </tr>\n",
       "    <tr>\n",
       "      <th>Acc_Rate_2*Tdyn</th>\n",
       "      <td>0.793756</td>\n",
       "      <td>0.774323</td>\n",
       "      <td>0.473223</td>\n",
       "      <td>0.515517</td>\n",
       "      <td>0.430620</td>\n",
       "      <td>0.430620</td>\n",
       "      <td>0.832721</td>\n",
       "      <td>1.000000</td>\n",
       "      <td>0.924943</td>\n",
       "      <td>-0.362376</td>\n",
       "    </tr>\n",
       "    <tr>\n",
       "      <th>Acc_Rate_Mpeak</th>\n",
       "      <td>0.883615</td>\n",
       "      <td>0.871444</td>\n",
       "      <td>0.393809</td>\n",
       "      <td>0.468765</td>\n",
       "      <td>0.373494</td>\n",
       "      <td>0.373494</td>\n",
       "      <td>0.704172</td>\n",
       "      <td>0.924943</td>\n",
       "      <td>1.000000</td>\n",
       "      <td>-0.356966</td>\n",
       "    </tr>\n",
       "    <tr>\n",
       "      <th>c_vir</th>\n",
       "      <td>-0.203265</td>\n",
       "      <td>-0.212097</td>\n",
       "      <td>-0.396614</td>\n",
       "      <td>-0.575582</td>\n",
       "      <td>-0.231633</td>\n",
       "      <td>-0.231633</td>\n",
       "      <td>-0.202996</td>\n",
       "      <td>-0.362376</td>\n",
       "      <td>-0.356966</td>\n",
       "      <td>1.000000</td>\n",
       "    </tr>\n",
       "  </tbody>\n",
       "</table>\n",
       "</div>"
      ],
      "text/plain": [
       "                     mvir     M200b     T/|U|  Halfmass_Scale  Acc_Rate_Inst  \\\n",
       "mvir             1.000000  0.996716  0.238452        0.196192       0.358387   \n",
       "M200b            0.996716  1.000000  0.231508        0.179047       0.366252   \n",
       "T/|U|            0.238452  0.231508  1.000000        0.642274       0.455129   \n",
       "Halfmass_Scale   0.196192  0.179047  0.642274        1.000000       0.237599   \n",
       "Acc_Rate_Inst    0.358387  0.366252  0.455129        0.237599       1.000000   \n",
       "Acc_Rate_100Myr  0.358387  0.366252  0.455129        0.237599       1.000000   \n",
       "Acc_Rate_1*Tdyn  0.613766  0.589850  0.613005        0.464309       0.595898   \n",
       "Acc_Rate_2*Tdyn  0.793756  0.774323  0.473223        0.515517       0.430620   \n",
       "Acc_Rate_Mpeak   0.883615  0.871444  0.393809        0.468765       0.373494   \n",
       "c_vir           -0.203265 -0.212097 -0.396614       -0.575582      -0.231633   \n",
       "\n",
       "                 Acc_Rate_100Myr  Acc_Rate_1*Tdyn  Acc_Rate_2*Tdyn  \\\n",
       "mvir                    0.358387         0.613766         0.793756   \n",
       "M200b                   0.366252         0.589850         0.774323   \n",
       "T/|U|                   0.455129         0.613005         0.473223   \n",
       "Halfmass_Scale          0.237599         0.464309         0.515517   \n",
       "Acc_Rate_Inst           1.000000         0.595898         0.430620   \n",
       "Acc_Rate_100Myr         1.000000         0.595898         0.430620   \n",
       "Acc_Rate_1*Tdyn         0.595898         1.000000         0.832721   \n",
       "Acc_Rate_2*Tdyn         0.430620         0.832721         1.000000   \n",
       "Acc_Rate_Mpeak          0.373494         0.704172         0.924943   \n",
       "c_vir                  -0.231633        -0.202996        -0.362376   \n",
       "\n",
       "                 Acc_Rate_Mpeak     c_vir  \n",
       "mvir                   0.883615 -0.203265  \n",
       "M200b                  0.871444 -0.212097  \n",
       "T/|U|                  0.393809 -0.396614  \n",
       "Halfmass_Scale         0.468765 -0.575582  \n",
       "Acc_Rate_Inst          0.373494 -0.231633  \n",
       "Acc_Rate_100Myr        0.373494 -0.231633  \n",
       "Acc_Rate_1*Tdyn        0.704172 -0.202996  \n",
       "Acc_Rate_2*Tdyn        0.924943 -0.362376  \n",
       "Acc_Rate_Mpeak         1.000000 -0.356966  \n",
       "c_vir                 -0.356966  1.000000  "
      ]
     },
     "metadata": {},
     "output_type": "display_data"
    }
   ],
   "source": [
    "display(matched_halo_df[['mvir','M200b','T/|U|', 'Halfmass_Scale',\n",
    "       'Acc_Rate_Inst', 'Acc_Rate_100Myr', 'Acc_Rate_1*Tdyn',\n",
    "       'Acc_Rate_2*Tdyn', 'Acc_Rate_Mpeak', 'c_vir']].corr())"
   ]
  },
  {
   "cell_type": "code",
   "execution_count": 43,
   "id": "3ec07cc0-55bf-4def-9678-37ed2ba650a2",
   "metadata": {},
   "outputs": [],
   "source": [
    "DS_inner = matched_halo_df['delta_sigma']\n",
    "DS_inner = np.vstack(DS_inner)\n",
    "DS_inner = DS_inner[:,0]"
   ]
  },
  {
   "cell_type": "code",
   "execution_count": 44,
   "id": "a617a06b-c8be-47a2-893e-8e7f465690b3",
   "metadata": {},
   "outputs": [
    {
     "data": {
      "text/plain": [
       "array([3.81996305e+14, 3.57658284e+14, 4.51919098e+14, ...,\n",
       "       6.68543339e+14, 5.57680755e+14, 6.52687184e+14])"
      ]
     },
     "execution_count": 44,
     "metadata": {},
     "output_type": "execute_result"
    }
   ],
   "source": [
    "DS_inner"
   ]
  },
  {
   "cell_type": "code",
   "execution_count": 45,
   "id": "fe7dcb38-cbab-43e2-be30-6e512da5803a",
   "metadata": {},
   "outputs": [],
   "source": [
    "Mvir = np.log10(matched_halo_df['mvir'])\n",
    "acc_rate = matched_halo_df['Acc_Rate_2*Tdyn']\n",
    "richness = matched_halo_df['Ngal']"
   ]
  },
  {
   "cell_type": "code",
   "execution_count": 80,
   "id": "ac366808-0e16-40b1-8190-ad261e4525a1",
   "metadata": {},
   "outputs": [
    {
     "name": "stdout",
     "output_type": "stream",
     "text": [
      "1835\n",
      "367\n"
     ]
    },
    {
     "name": "stderr",
     "output_type": "stream",
     "text": [
      "/global/homes/z/zzhang13/.conda/envs/myLSST/lib/python3.7/site-packages/ipykernel_launcher.py:3: SettingWithCopyWarning: \n",
      "A value is trying to be set on a copy of a slice from a DataFrame.\n",
      "Try using .loc[row_indexer,col_indexer] = value instead\n",
      "\n",
      "See the caveats in the documentation: https://pandas.pydata.org/pandas-docs/stable/user_guide/indexing.html#returning-a-view-versus-a-copy\n",
      "  This is separate from the ipykernel package so we can avoid doing imports until\n"
     ]
    }
   ],
   "source": [
    "cur_df = matched_halo_df[(matched_halo_df.mvir > 5e13) & (matched_halo_df.mvir < 1e14)]\n",
    "\n",
    "cur_df['logM'] = np.log10(M200b)\n",
    "\n",
    "\n",
    "X = cur_df[['logM', 'Halfmass_Scale', 'T/|U|', 'c_vir', 'Acc_Rate_Mpeak']]\n",
    "#X = cur_df['Halfmass_Scale']\n",
    "\n",
    "DS_inner = cur_df['delta_sigma']\n",
    "DS_inner = np.vstack(DS_inner)\n",
    "DS_inner = DS_inner[:,0]\n",
    "y = DS_inner\n",
    "\n",
    "\n",
    "print(np.size(X))\n",
    "print(np.size(y))"
   ]
  },
  {
   "cell_type": "code",
   "execution_count": 81,
   "id": "a0ebd9ba-6ed6-4a33-8fae-524bcd73ae3d",
   "metadata": {},
   "outputs": [
    {
     "data": {
      "text/html": [
       "<table class=\"simpletable\">\n",
       "<caption>OLS Regression Results</caption>\n",
       "<tr>\n",
       "  <th>Dep. Variable:</th>            <td>y</td>        <th>  R-squared:         </th> <td>   0.531</td> \n",
       "</tr>\n",
       "<tr>\n",
       "  <th>Model:</th>                   <td>OLS</td>       <th>  Adj. R-squared:    </th> <td>   0.525</td> \n",
       "</tr>\n",
       "<tr>\n",
       "  <th>Method:</th>             <td>Least Squares</td>  <th>  F-statistic:       </th> <td>   81.75</td> \n",
       "</tr>\n",
       "<tr>\n",
       "  <th>Date:</th>             <td>Wed, 07 Sep 2022</td> <th>  Prob (F-statistic):</th> <td>3.16e-57</td> \n",
       "</tr>\n",
       "<tr>\n",
       "  <th>Time:</th>                 <td>09:21:37</td>     <th>  Log-Likelihood:    </th> <td> -12217.</td> \n",
       "</tr>\n",
       "<tr>\n",
       "  <th>No. Observations:</th>      <td>   367</td>      <th>  AIC:               </th> <td>2.445e+04</td>\n",
       "</tr>\n",
       "<tr>\n",
       "  <th>Df Residuals:</th>          <td>   361</td>      <th>  BIC:               </th> <td>2.447e+04</td>\n",
       "</tr>\n",
       "<tr>\n",
       "  <th>Df Model:</th>              <td>     5</td>      <th>                     </th>     <td> </td>    \n",
       "</tr>\n",
       "<tr>\n",
       "  <th>Covariance Type:</th>      <td>nonrobust</td>    <th>                     </th>     <td> </td>    \n",
       "</tr>\n",
       "</table>\n",
       "<table class=\"simpletable\">\n",
       "<tr>\n",
       "         <td></td>           <th>coef</th>     <th>std err</th>      <th>t</th>      <th>P>|t|</th>  <th>[0.025</th>    <th>0.975]</th>  \n",
       "</tr>\n",
       "<tr>\n",
       "  <th>const</th>          <td>-8.987e+15</td> <td> 1.95e+15</td> <td>   -4.608</td> <td> 0.000</td> <td>-1.28e+16</td> <td>-5.15e+15</td>\n",
       "</tr>\n",
       "<tr>\n",
       "  <th>logM</th>           <td> 8.259e+15</td> <td>  1.7e+15</td> <td>    4.852</td> <td> 0.000</td> <td> 4.91e+15</td> <td> 1.16e+16</td>\n",
       "</tr>\n",
       "<tr>\n",
       "  <th>Halfmass_Scale</th> <td>-1.159e+14</td> <td> 6.17e+13</td> <td>   -1.877</td> <td> 0.061</td> <td>-2.37e+14</td> <td> 5.54e+12</td>\n",
       "</tr>\n",
       "<tr>\n",
       "  <th>T/|U|</th>          <td>-1.787e+14</td> <td> 7.37e+13</td> <td>   -2.426</td> <td> 0.016</td> <td>-3.24e+14</td> <td>-3.38e+13</td>\n",
       "</tr>\n",
       "<tr>\n",
       "  <th>c_vir</th>          <td> 2.535e+13</td> <td> 2.14e+12</td> <td>   11.858</td> <td> 0.000</td> <td> 2.11e+13</td> <td> 2.96e+13</td>\n",
       "</tr>\n",
       "<tr>\n",
       "  <th>Acc_Rate_Mpeak</th> <td>-1.191e+08</td> <td> 2.44e+09</td> <td>   -0.049</td> <td> 0.961</td> <td>-4.92e+09</td> <td> 4.68e+09</td>\n",
       "</tr>\n",
       "</table>\n",
       "<table class=\"simpletable\">\n",
       "<tr>\n",
       "  <th>Omnibus:</th>       <td>34.930</td> <th>  Durbin-Watson:     </th> <td>   2.132</td>\n",
       "</tr>\n",
       "<tr>\n",
       "  <th>Prob(Omnibus):</th> <td> 0.000</td> <th>  Jarque-Bera (JB):  </th> <td>  42.998</td>\n",
       "</tr>\n",
       "<tr>\n",
       "  <th>Skew:</th>          <td> 0.751</td> <th>  Prob(JB):          </th> <td>4.60e-10</td>\n",
       "</tr>\n",
       "<tr>\n",
       "  <th>Kurtosis:</th>      <td> 3.746</td> <th>  Cond. No.          </th> <td>4.62e+06</td>\n",
       "</tr>\n",
       "</table><br/><br/>Notes:<br/>[1] Standard Errors assume that the covariance matrix of the errors is correctly specified.<br/>[2] The condition number is large, 4.62e+06. This might indicate that there are<br/>strong multicollinearity or other numerical problems."
      ],
      "text/plain": [
       "<class 'statsmodels.iolib.summary.Summary'>\n",
       "\"\"\"\n",
       "                            OLS Regression Results                            \n",
       "==============================================================================\n",
       "Dep. Variable:                      y   R-squared:                       0.531\n",
       "Model:                            OLS   Adj. R-squared:                  0.525\n",
       "Method:                 Least Squares   F-statistic:                     81.75\n",
       "Date:                Wed, 07 Sep 2022   Prob (F-statistic):           3.16e-57\n",
       "Time:                        09:21:37   Log-Likelihood:                -12217.\n",
       "No. Observations:                 367   AIC:                         2.445e+04\n",
       "Df Residuals:                     361   BIC:                         2.447e+04\n",
       "Df Model:                           5                                         \n",
       "Covariance Type:            nonrobust                                         \n",
       "==================================================================================\n",
       "                     coef    std err          t      P>|t|      [0.025      0.975]\n",
       "----------------------------------------------------------------------------------\n",
       "const          -8.987e+15   1.95e+15     -4.608      0.000   -1.28e+16   -5.15e+15\n",
       "logM            8.259e+15    1.7e+15      4.852      0.000    4.91e+15    1.16e+16\n",
       "Halfmass_Scale -1.159e+14   6.17e+13     -1.877      0.061   -2.37e+14    5.54e+12\n",
       "T/|U|          -1.787e+14   7.37e+13     -2.426      0.016   -3.24e+14   -3.38e+13\n",
       "c_vir           2.535e+13   2.14e+12     11.858      0.000    2.11e+13    2.96e+13\n",
       "Acc_Rate_Mpeak -1.191e+08   2.44e+09     -0.049      0.961   -4.92e+09    4.68e+09\n",
       "==============================================================================\n",
       "Omnibus:                       34.930   Durbin-Watson:                   2.132\n",
       "Prob(Omnibus):                  0.000   Jarque-Bera (JB):               42.998\n",
       "Skew:                           0.751   Prob(JB):                     4.60e-10\n",
       "Kurtosis:                       3.746   Cond. No.                     4.62e+06\n",
       "==============================================================================\n",
       "\n",
       "Notes:\n",
       "[1] Standard Errors assume that the covariance matrix of the errors is correctly specified.\n",
       "[2] The condition number is large, 4.62e+06. This might indicate that there are\n",
       "strong multicollinearity or other numerical problems.\n",
       "\"\"\""
      ]
     },
     "metadata": {},
     "output_type": "display_data"
    }
   ],
   "source": [
    "X = sm.add_constant(X)\n",
    "mreg = sm.OLS(y, X).fit()\n",
    "display(mreg.summary())"
   ]
  },
  {
   "cell_type": "code",
   "execution_count": 79,
   "id": "8bb58e9b-b163-49d9-ba75-4fb4faaea7ba",
   "metadata": {},
   "outputs": [
    {
     "data": {
      "text/plain": [
       "1.13365723560578e+30"
      ]
     },
     "execution_count": 79,
     "metadata": {},
     "output_type": "execute_result"
    }
   ],
   "source": [
    "ssr = np.sum((mreg.fittedvalues - np.mean(y))**2)\n",
    "ssr"
   ]
  },
  {
   "cell_type": "markdown",
   "id": "8434e861-6d5b-437a-9488-f2771d97edb3",
   "metadata": {},
   "source": [
    "## Testing for multi-linearity"
   ]
  },
  {
   "cell_type": "code",
   "execution_count": 82,
   "id": "4a294181-591f-42fe-8005-24181003e7ad",
   "metadata": {},
   "outputs": [
    {
     "name": "stdout",
     "output_type": "stream",
     "text": [
      "          feature            VIF\n",
      "0           const  285151.564064\n",
      "1            logM       1.508586\n",
      "2  Halfmass_Scale       4.023963\n",
      "3           T/|U|       1.738054\n",
      "4           c_vir       1.657918\n",
      "5  Acc_Rate_Mpeak       3.713275\n"
     ]
    }
   ],
   "source": [
    "from statsmodels.stats.outliers_influence import variance_inflation_factor\n",
    "\n",
    "# function to check VIF\n",
    "def checking_vif(train):\n",
    "    vif = pd.DataFrame()\n",
    "    vif[\"feature\"] = train.columns\n",
    "\n",
    "    # calculating VIF for each feature\n",
    "    vif[\"VIF\"] = [\n",
    "        variance_inflation_factor(train.values, i) for i in range(len(train.columns))\n",
    "    ]\n",
    "    return vif\n",
    "\n",
    "\n",
    "print(checking_vif(X))"
   ]
  },
  {
   "cell_type": "markdown",
   "id": "be8a3fb4-259b-4730-a409-8c86792af8aa",
   "metadata": {},
   "source": [
    "## Heterodescity"
   ]
  },
  {
   "cell_type": "code",
   "execution_count": 83,
   "id": "d12e5611-bede-4f08-a6fd-bcd803ef9e1d",
   "metadata": {},
   "outputs": [
    {
     "data": {
      "text/plain": [
       "[('F statistic', 0.934579086155291), ('p-value', 0.6735991002223829)]"
      ]
     },
     "execution_count": 83,
     "metadata": {},
     "output_type": "execute_result"
    }
   ],
   "source": [
    "from statsmodels.stats.diagnostic import het_white\n",
    "from statsmodels.compat import lzip\n",
    "import statsmodels.stats.api as sms\n",
    "\n",
    "name = [\"F statistic\", \"p-value\"]\n",
    "test = sms.het_goldfeldquandt(y, X)\n",
    "lzip(name, test)"
   ]
  },
  {
   "cell_type": "markdown",
   "id": "7f7511a6-0145-48f7-868b-1608bd02e5d5",
   "metadata": {},
   "source": [
    "## Check that residual is 0"
   ]
  },
  {
   "cell_type": "code",
   "execution_count": 84,
   "id": "6c74375f-8719-4c2b-bc18-2488c336dde1",
   "metadata": {},
   "outputs": [
    {
     "data": {
      "text/plain": [
       "-21749.264560626703"
      ]
     },
     "execution_count": 84,
     "metadata": {},
     "output_type": "execute_result"
    }
   ],
   "source": [
    "residuals = mreg.resid\n",
    "residuals.mean()"
   ]
  },
  {
   "cell_type": "markdown",
   "id": "e8841db0-1924-4092-8614-09329866851c",
   "metadata": {},
   "source": [
    "## Linearity"
   ]
  },
  {
   "cell_type": "code",
   "execution_count": 85,
   "id": "f1757650-ea20-4bc3-9526-012f9c7b0f9e",
   "metadata": {},
   "outputs": [
    {
     "data": {
      "image/png": "[encoded data removed]",
      "text/plain": [
       "<Figure size 432x288 with 1 Axes>"
      ]
     },
     "metadata": {
      "needs_background": "light"
     },
     "output_type": "display_data"
    }
   ],
   "source": [
    "# predicted values\n",
    "fitted = mreg.fittedvalues\n",
    "\n",
    "# sns.set_style(\"whitegrid\")\n",
    "sns.residplot(x = fitted, y = residuals, color=\"lightblue\", lowess=True)\n",
    "plt.xlabel(\"Fitted Values\")\n",
    "plt.ylabel(\"Residual\")\n",
    "plt.title(\"Residual PLOT\")\n",
    "plt.show()"
   ]
  },
  {
   "cell_type": "markdown",
   "id": "991baac6-3dc6-49bb-9bee-cd7872081127",
   "metadata": {},
   "source": [
    "## Gaussian error"
   ]
  },
  {
   "cell_type": "code",
   "execution_count": 86,
   "id": "010b4fc3-03b0-4495-be4b-8f7f35329497",
   "metadata": {},
   "outputs": [
    {
     "data": {
      "image/png": "[encoded data removed]",
      "text/plain": [
       "<Figure size 432x288 with 1 Axes>"
      ]
     },
     "metadata": {
      "needs_background": "light"
     },
     "output_type": "display_data"
    }
   ],
   "source": [
    "# Plot histogram of residuals\n",
    "sns.histplot(residuals, kde=True)\n",
    "plt.show()"
   ]
  },
  {
   "cell_type": "code",
   "execution_count": 87,
   "id": "f2185457-8d72-4b2d-80ce-e4a62f67e66e",
   "metadata": {},
   "outputs": [
    {
     "data": {
      "image/png": "[encoded data removed]",
      "text/plain": [
       "<Figure size 432x288 with 1 Axes>"
      ]
     },
     "metadata": {
      "needs_background": "light"
     },
     "output_type": "display_data"
    }
   ],
   "source": [
    "# Plot q-q plot of residuals\n",
    "import pylab\n",
    "import scipy.stats as stats\n",
    "\n",
    "stats.probplot(residuals, dist=\"norm\", plot=pylab)\n",
    "plt.show()"
   ]
  },
  {
   "cell_type": "code",
   "execution_count": 88,
   "id": "252213f9-79e8-40c9-a1fb-70ae31fa2234",
   "metadata": {},
   "outputs": [
    {
     "data": {
      "image/png": "[encoded data removed]",
      "text/plain": [
       "<Figure size 432x288 with 1 Axes>"
      ]
     },
     "metadata": {
      "needs_background": "light"
     },
     "output_type": "display_data"
    }
   ],
   "source": [
    "plt.scatter(Mvir, richness) \n",
    "plt.show()"
   ]
  },
  {
   "cell_type": "code",
   "execution_count": 89,
   "id": "7f56f63e-f15b-4e06-8943-340b07c8194e",
   "metadata": {},
   "outputs": [
    {
     "name": "stderr",
     "output_type": "stream",
     "text": [
      "/global/homes/z/zzhang13/.conda/envs/myLSST/lib/python3.7/site-packages/pandas/core/arraylike.py:364: RuntimeWarning: invalid value encountered in log10\n",
      "  result = getattr(ufunc, method)(*inputs, **kwargs)\n"
     ]
    },
    {
     "data": {
      "image/png": "[encoded data removed]",
      "text/plain": [
       "<Figure size 432x288 with 1 Axes>"
      ]
     },
     "metadata": {
      "needs_background": "light"
     },
     "output_type": "display_data"
    }
   ],
   "source": [
    "plt.scatter(np.log10(cur_df['Acc_Rate_2*Tdyn']), y) \n",
    "plt.show()"
   ]
  },
  {
   "cell_type": "markdown",
   "id": "8f0a0f00-dcb9-4d0b-a11c-c8fced40be56",
   "metadata": {},
   "source": [
    "## Formation time alone"
   ]
  },
  {
   "cell_type": "code",
   "execution_count": 90,
   "id": "26500454-113c-4222-8bbc-acb54771b8d5",
   "metadata": {},
   "outputs": [
    {
     "name": "stdout",
     "output_type": "stream",
     "text": [
      "2202\n",
      "367\n"
     ]
    }
   ],
   "source": [
    "X_formation = cur_df[['Halfmass_Scale', 'T/|U|', 'c_vir', 'Acc_Rate_Mpeak']]\n",
    "\n",
    "\n",
    "print(np.size(X))\n",
    "print(np.size(y))"
   ]
  },
  {
   "cell_type": "code",
   "execution_count": 91,
   "id": "6fbe8a12-0534-45ea-b230-3c6a13c00b62",
   "metadata": {},
   "outputs": [
    {
     "data": {
      "text/html": [
       "<table class=\"simpletable\">\n",
       "<caption>OLS Regression Results</caption>\n",
       "<tr>\n",
       "  <th>Dep. Variable:</th>            <td>y</td>        <th>  R-squared:         </th> <td>   0.500</td> \n",
       "</tr>\n",
       "<tr>\n",
       "  <th>Model:</th>                   <td>OLS</td>       <th>  Adj. R-squared:    </th> <td>   0.495</td> \n",
       "</tr>\n",
       "<tr>\n",
       "  <th>Method:</th>             <td>Least Squares</td>  <th>  F-statistic:       </th> <td>   90.66</td> \n",
       "</tr>\n",
       "<tr>\n",
       "  <th>Date:</th>             <td>Wed, 07 Sep 2022</td> <th>  Prob (F-statistic):</th> <td>2.56e-53</td> \n",
       "</tr>\n",
       "<tr>\n",
       "  <th>Time:</th>                 <td>09:36:04</td>     <th>  Log-Likelihood:    </th> <td> -12229.</td> \n",
       "</tr>\n",
       "<tr>\n",
       "  <th>No. Observations:</th>      <td>   367</td>      <th>  AIC:               </th> <td>2.447e+04</td>\n",
       "</tr>\n",
       "<tr>\n",
       "  <th>Df Residuals:</th>          <td>   362</td>      <th>  BIC:               </th> <td>2.449e+04</td>\n",
       "</tr>\n",
       "<tr>\n",
       "  <th>Df Model:</th>              <td>     4</td>      <th>                     </th>     <td> </td>    \n",
       "</tr>\n",
       "<tr>\n",
       "  <th>Covariance Type:</th>      <td>nonrobust</td>    <th>                     </th>     <td> </td>    \n",
       "</tr>\n",
       "</table>\n",
       "<table class=\"simpletable\">\n",
       "<tr>\n",
       "         <td></td>           <th>coef</th>     <th>std err</th>      <th>t</th>      <th>P>|t|</th>  <th>[0.025</th>    <th>0.975]</th>  \n",
       "</tr>\n",
       "<tr>\n",
       "  <th>const</th>          <td> 4.727e+14</td> <td> 4.96e+13</td> <td>    9.532</td> <td> 0.000</td> <td> 3.75e+14</td> <td>  5.7e+14</td>\n",
       "</tr>\n",
       "<tr>\n",
       "  <th>Halfmass_Scale</th> <td>-2.501e+14</td> <td> 5.69e+13</td> <td>   -4.397</td> <td> 0.000</td> <td>-3.62e+14</td> <td>-1.38e+14</td>\n",
       "</tr>\n",
       "<tr>\n",
       "  <th>T/|U|</th>          <td>-1.486e+14</td> <td> 7.57e+13</td> <td>   -1.963</td> <td> 0.050</td> <td>-2.97e+14</td> <td> 2.37e+11</td>\n",
       "</tr>\n",
       "<tr>\n",
       "  <th>c_vir</th>          <td> 2.566e+13</td> <td>  2.2e+12</td> <td>   11.647</td> <td> 0.000</td> <td> 2.13e+13</td> <td>    3e+13</td>\n",
       "</tr>\n",
       "<tr>\n",
       "  <th>Acc_Rate_Mpeak</th> <td> 6.622e+09</td> <td> 2.07e+09</td> <td>    3.204</td> <td> 0.001</td> <td> 2.56e+09</td> <td> 1.07e+10</td>\n",
       "</tr>\n",
       "</table>\n",
       "<table class=\"simpletable\">\n",
       "<tr>\n",
       "  <th>Omnibus:</th>       <td>34.412</td> <th>  Durbin-Watson:     </th> <td>   2.033</td>\n",
       "</tr>\n",
       "<tr>\n",
       "  <th>Prob(Omnibus):</th> <td> 0.000</td> <th>  Jarque-Bera (JB):  </th> <td>  42.858</td>\n",
       "</tr>\n",
       "<tr>\n",
       "  <th>Skew:</th>          <td> 0.730</td> <th>  Prob(JB):          </th> <td>4.94e-10</td>\n",
       "</tr>\n",
       "<tr>\n",
       "  <th>Kurtosis:</th>      <td> 3.820</td> <th>  Cond. No.          </th> <td>1.50e+05</td>\n",
       "</tr>\n",
       "</table><br/><br/>Notes:<br/>[1] Standard Errors assume that the covariance matrix of the errors is correctly specified.<br/>[2] The condition number is large, 1.5e+05. This might indicate that there are<br/>strong multicollinearity or other numerical problems."
      ],
      "text/plain": [
       "<class 'statsmodels.iolib.summary.Summary'>\n",
       "\"\"\"\n",
       "                            OLS Regression Results                            \n",
       "==============================================================================\n",
       "Dep. Variable:                      y   R-squared:                       0.500\n",
       "Model:                            OLS   Adj. R-squared:                  0.495\n",
       "Method:                 Least Squares   F-statistic:                     90.66\n",
       "Date:                Wed, 07 Sep 2022   Prob (F-statistic):           2.56e-53\n",
       "Time:                        09:36:04   Log-Likelihood:                -12229.\n",
       "No. Observations:                 367   AIC:                         2.447e+04\n",
       "Df Residuals:                     362   BIC:                         2.449e+04\n",
       "Df Model:                           4                                         \n",
       "Covariance Type:            nonrobust                                         \n",
       "==================================================================================\n",
       "                     coef    std err          t      P>|t|      [0.025      0.975]\n",
       "----------------------------------------------------------------------------------\n",
       "const           4.727e+14   4.96e+13      9.532      0.000    3.75e+14     5.7e+14\n",
       "Halfmass_Scale -2.501e+14   5.69e+13     -4.397      0.000   -3.62e+14   -1.38e+14\n",
       "T/|U|          -1.486e+14   7.57e+13     -1.963      0.050   -2.97e+14    2.37e+11\n",
       "c_vir           2.566e+13    2.2e+12     11.647      0.000    2.13e+13       3e+13\n",
       "Acc_Rate_Mpeak  6.622e+09   2.07e+09      3.204      0.001    2.56e+09    1.07e+10\n",
       "==============================================================================\n",
       "Omnibus:                       34.412   Durbin-Watson:                   2.033\n",
       "Prob(Omnibus):                  0.000   Jarque-Bera (JB):               42.858\n",
       "Skew:                           0.730   Prob(JB):                     4.94e-10\n",
       "Kurtosis:                       3.820   Cond. No.                     1.50e+05\n",
       "==============================================================================\n",
       "\n",
       "Notes:\n",
       "[1] Standard Errors assume that the covariance matrix of the errors is correctly specified.\n",
       "[2] The condition number is large, 1.5e+05. This might indicate that there are\n",
       "strong multicollinearity or other numerical problems.\n",
       "\"\"\""
      ]
     },
     "metadata": {},
     "output_type": "display_data"
    }
   ],
   "source": [
    "X_formation = sm.add_constant(X_formation)\n",
    "mreg_formation = sm.OLS(y, X_formation).fit()\n",
    "display(mreg_formation.summary())"
   ]
  },
  {
   "cell_type": "code",
   "execution_count": 92,
   "id": "003ce0a1-8dbb-4205-885b-d725f53f8314",
   "metadata": {},
   "outputs": [
    {
     "data": {
      "text/plain": [
       "1.8856662426228662e+30"
      ]
     },
     "execution_count": 92,
     "metadata": {},
     "output_type": "execute_result"
    }
   ],
   "source": [
    "ssr_formation = np.sum((mreg_formation.fittedvalues - np.mean(y))**2)\n",
    "ssr_formation"
   ]
  },
  {
   "cell_type": "markdown",
   "id": "ac64363b-12d4-49fb-a832-6ffa5c455008",
   "metadata": {},
   "source": [
    "## Mass alone"
   ]
  },
  {
   "cell_type": "code",
   "execution_count": 93,
   "id": "d3f199b8-ca70-4cdf-9698-edb241d87678",
   "metadata": {},
   "outputs": [],
   "source": [
    "X_mass = cur_df[['logM']]"
   ]
  },
  {
   "cell_type": "code",
   "execution_count": 94,
   "id": "61ba0d02-4e39-4b9c-ab7f-52272e5007c6",
   "metadata": {},
   "outputs": [
    {
     "data": {
      "text/html": [
       "<table class=\"simpletable\">\n",
       "<caption>OLS Regression Results</caption>\n",
       "<tr>\n",
       "  <th>Dep. Variable:</th>            <td>y</td>        <th>  R-squared:         </th> <td>   0.028</td> \n",
       "</tr>\n",
       "<tr>\n",
       "  <th>Model:</th>                   <td>OLS</td>       <th>  Adj. R-squared:    </th> <td>   0.025</td> \n",
       "</tr>\n",
       "<tr>\n",
       "  <th>Method:</th>             <td>Least Squares</td>  <th>  F-statistic:       </th> <td>   10.56</td> \n",
       "</tr>\n",
       "<tr>\n",
       "  <th>Date:</th>             <td>Wed, 07 Sep 2022</td> <th>  Prob (F-statistic):</th>  <td>0.00126</td> \n",
       "</tr>\n",
       "<tr>\n",
       "  <th>Time:</th>                 <td>09:36:06</td>     <th>  Log-Likelihood:    </th> <td> -12351.</td> \n",
       "</tr>\n",
       "<tr>\n",
       "  <th>No. Observations:</th>      <td>   367</td>      <th>  AIC:               </th> <td>2.471e+04</td>\n",
       "</tr>\n",
       "<tr>\n",
       "  <th>Df Residuals:</th>          <td>   365</td>      <th>  BIC:               </th> <td>2.471e+04</td>\n",
       "</tr>\n",
       "<tr>\n",
       "  <th>Df Model:</th>              <td>     1</td>      <th>                     </th>     <td> </td>    \n",
       "</tr>\n",
       "<tr>\n",
       "  <th>Covariance Type:</th>      <td>nonrobust</td>    <th>                     </th>     <td> </td>    \n",
       "</tr>\n",
       "</table>\n",
       "<table class=\"simpletable\">\n",
       "<tr>\n",
       "    <td></td>       <th>coef</th>     <th>std err</th>      <th>t</th>      <th>P>|t|</th>  <th>[0.025</th>    <th>0.975]</th>  \n",
       "</tr>\n",
       "<tr>\n",
       "  <th>const</th> <td>-6.948e+15</td> <td> 2.27e+15</td> <td>   -3.065</td> <td> 0.002</td> <td>-1.14e+16</td> <td>-2.49e+15</td>\n",
       "</tr>\n",
       "<tr>\n",
       "  <th>logM</th>  <td> 6.448e+15</td> <td> 1.98e+15</td> <td>    3.250</td> <td> 0.001</td> <td> 2.55e+15</td> <td> 1.03e+16</td>\n",
       "</tr>\n",
       "</table>\n",
       "<table class=\"simpletable\">\n",
       "<tr>\n",
       "  <th>Omnibus:</th>       <td> 4.776</td> <th>  Durbin-Watson:     </th> <td>   2.016</td>\n",
       "</tr>\n",
       "<tr>\n",
       "  <th>Prob(Omnibus):</th> <td> 0.092</td> <th>  Jarque-Bera (JB):  </th> <td>   4.517</td>\n",
       "</tr>\n",
       "<tr>\n",
       "  <th>Skew:</th>          <td> 0.258</td> <th>  Prob(JB):          </th> <td>   0.104</td>\n",
       "</tr>\n",
       "<tr>\n",
       "  <th>Kurtosis:</th>      <td> 3.173</td> <th>  Cond. No.          </th> <td>    875.</td>\n",
       "</tr>\n",
       "</table><br/><br/>Notes:<br/>[1] Standard Errors assume that the covariance matrix of the errors is correctly specified."
      ],
      "text/plain": [
       "<class 'statsmodels.iolib.summary.Summary'>\n",
       "\"\"\"\n",
       "                            OLS Regression Results                            \n",
       "==============================================================================\n",
       "Dep. Variable:                      y   R-squared:                       0.028\n",
       "Model:                            OLS   Adj. R-squared:                  0.025\n",
       "Method:                 Least Squares   F-statistic:                     10.56\n",
       "Date:                Wed, 07 Sep 2022   Prob (F-statistic):            0.00126\n",
       "Time:                        09:36:06   Log-Likelihood:                -12351.\n",
       "No. Observations:                 367   AIC:                         2.471e+04\n",
       "Df Residuals:                     365   BIC:                         2.471e+04\n",
       "Df Model:                           1                                         \n",
       "Covariance Type:            nonrobust                                         \n",
       "==============================================================================\n",
       "                 coef    std err          t      P>|t|      [0.025      0.975]\n",
       "------------------------------------------------------------------------------\n",
       "const      -6.948e+15   2.27e+15     -3.065      0.002   -1.14e+16   -2.49e+15\n",
       "logM        6.448e+15   1.98e+15      3.250      0.001    2.55e+15    1.03e+16\n",
       "==============================================================================\n",
       "Omnibus:                        4.776   Durbin-Watson:                   2.016\n",
       "Prob(Omnibus):                  0.092   Jarque-Bera (JB):                4.517\n",
       "Skew:                           0.258   Prob(JB):                        0.104\n",
       "Kurtosis:                       3.173   Cond. No.                         875.\n",
       "==============================================================================\n",
       "\n",
       "Notes:\n",
       "[1] Standard Errors assume that the covariance matrix of the errors is correctly specified.\n",
       "\"\"\""
      ]
     },
     "metadata": {},
     "output_type": "display_data"
    }
   ],
   "source": [
    "X_mass = sm.add_constant(X_mass)\n",
    "mreg_mass = sm.OLS(y, X_mass).fit()\n",
    "display(mreg_mass.summary())"
   ]
  },
  {
   "cell_type": "code",
   "execution_count": 95,
   "id": "433137ab-3a8a-4215-aecc-ed9ee21ae28c",
   "metadata": {},
   "outputs": [
    {
     "data": {
      "text/plain": [
       "1.0599131434567733e+29"
      ]
     },
     "execution_count": 95,
     "metadata": {},
     "output_type": "execute_result"
    }
   ],
   "source": [
    "ssr_mass = np.sum((mreg_mass.fittedvalues - np.mean(y))**2)\n",
    "ssr_mass"
   ]
  },
  {
   "cell_type": "markdown",
   "id": "b24dfdcd-6f6b-4dc2-916d-363a76238502",
   "metadata": {},
   "source": [
    "## Partitioning Sum of Squares\n",
    "* Total: 24.02\n",
    "* SS Mass (unique): 24.02 - 14.66 = 9.36\n",
    "* SS Formation time history (unique): 24.02 - 17.02 = 7.00\n",
    "* SS Confounded: 7.66"
   ]
  },
  {
   "cell_type": "markdown",
   "id": "4820ad7a-71c4-4567-bed1-f480ba0b933d",
   "metadata": {},
   "source": [
    "## Testing the regression on the number count. "
   ]
  },
  {
   "cell_type": "code",
   "execution_count": null,
   "id": "1afd13d7-5335-4578-b118-4d12ffea4529",
   "metadata": {},
   "outputs": [],
   "source": []
  }
 ],
 "metadata": {
  "kernelspec": {
   "display_name": "myLSST",
   "language": "python",
   "name": "mylsst"
  },
  "language_info": {
   "codemirror_mode": {
    "name": "ipython",
    "version": 3
   },
   "file_extension": ".py",
   "mimetype": "text/x-python",
   "name": "python",
   "nbconvert_exporter": "python",
   "pygments_lexer": "ipython3",
   "version": "3.7.12"
  }
 },
 "nbformat": 4,
 "nbformat_minor": 5
}
