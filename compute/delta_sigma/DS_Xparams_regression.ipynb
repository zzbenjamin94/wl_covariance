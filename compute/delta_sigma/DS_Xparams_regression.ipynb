{
 "cells": [
  {
   "cell_type": "code",
   "execution_count": 1,
   "id": "388e6577-cb7e-479a-b111-755caa2f2a91",
   "metadata": {},
   "outputs": [],
   "source": [
    "from scipy.stats import kde\n",
    "import h5py\n",
    "import astropy.io.fits as fits\n",
    "import csv\n",
    "import pandas as pd\n",
    "import numpy as np\n",
    "import tables\n",
    "import pickle\n",
    "import os\n",
    "from astropy.table import Table\n",
    "from astropy.coordinates import SkyCoord\n",
    "from tqdm import tqdm\n",
    "from astropy.io import ascii\n",
    "import os"
   ]
  },
  {
   "cell_type": "code",
   "execution_count": 2,
   "id": "4fc342ab-218a-410e-ba76-323fe7098936",
   "metadata": {},
   "outputs": [],
   "source": [
    "import pandas as pd\n",
    "import matplotlib.pyplot as plt\n",
    "import seaborn as sns\n",
    "import statsmodels.api as sm\n",
    "import statsmodels.formula.api as smf\n",
    "import scipy.stats as stats\n",
    "import matplotlib.cm as cm\n",
    "#from IPython.display import display\n",
    "from mpl_toolkits.mplot3d import Axes3D\n",
    "from sklearn.feature_selection import f_regression\n",
    "from statsmodels.stats.anova import anova_lm\n",
    "\n",
    "#sns.set()\n",
    "#pd.set_option('display.notebook_repr_html', True)\n",
    "#pd.set_option('display.precision', 2)\n",
    "#%matplotlib notebook\n",
    "#plt.rcParams['figure.figsize'] = 10, 10"
   ]
  },
  {
   "cell_type": "markdown",
   "id": "16dc79a7-9ebd-4c2b-add3-7b806b3a6837",
   "metadata": {},
   "source": [
    "## Collecting the data"
   ]
  },
  {
   "cell_type": "code",
   "execution_count": 6,
   "id": "51de0fab-5327-4d46-82a8-8e8f2336e4ea",
   "metadata": {},
   "outputs": [],
   "source": [
    "import sys\n",
    "sys.path.append('/global/homes/z/zzhang13/BaryonPasting/CorrelatedStructures/multiDark/')\n",
    "\n",
    "from setup import *\n",
    "toolsdir = tools_dir()\n",
    "repodir = repo_dir()\n",
    "chainsdir = chains_dir()\n",
    "datadir = data_dir()\n",
    "plotdir = plots_dir()\n",
    "\n",
    "sys.path.append(toolsdir)\n",
    "sys.path.append(repodir)"
   ]
  },
  {
   "cell_type": "code",
   "execution_count": 7,
   "id": "2aca2866-ed8c-4359-b083-e28050e4d1d3",
   "metadata": {},
   "outputs": [],
   "source": [
    "with open(datadir + 'MDPL2_DS_R200c_SAGE_Ngal_allM_allz.p', 'rb') as f:\n",
    "    matched_halo_df = pickle.load(f)"
   ]
  },
  {
   "cell_type": "code",
   "execution_count": 8,
   "id": "57e19123-de61-4b34-8b4a-3a698c364a4b",
   "metadata": {},
   "outputs": [
    {
     "data": {
      "text/plain": [
       "Index(['id', 'Xoff', 'scale', 'CtreesHaloID', 'pid', 'mvir', 'rvir', 'rs', 'x',\n",
       "       'y', 'z', 'Mmvir_all', 'M200b', 'M200c', 'M500c', 'T/|U|',\n",
       "       'Halfmass_Scale', 'Acc_Rate_Inst', 'Acc_Rate_100Myr', 'Acc_Rate_1*Tdyn',\n",
       "       'Acc_Rate_2*Tdyn', 'Acc_Rate_Mpeak', 'c_vir', 'R200c', 'R500c',\n",
       "       'redshift', 'Ngal_Dsep_1', 'Ngal_Rvir', 'Ngal_R200c', 'Ngal_R500c',\n",
       "       'sigma', 'r_range', 'delta_sigma'],\n",
       "      dtype='object')"
      ]
     },
     "execution_count": 8,
     "metadata": {},
     "output_type": "execute_result"
    }
   ],
   "source": [
    "matched_halo_df.columns"
   ]
  },
  {
   "cell_type": "markdown",
   "id": "e5618471-177d-4584-86a5-f77dae176cdc",
   "metadata": {},
   "source": [
    "## Initiating the variables. \n",
    "\n",
    "What is it that we want to do. \n",
    "\n",
    "Build a linear regression model to explain DeltaSigma in the inner bin as a function of mass and formation time history"
   ]
  },
  {
   "cell_type": "code",
   "execution_count": 9,
   "id": "af3a23c4-6257-434d-a3c9-50941bcdd16f",
   "metadata": {},
   "outputs": [
    {
     "data": {
      "text/html": [
       "<div>\n",
       "<style scoped>\n",
       "    .dataframe tbody tr th:only-of-type {\n",
       "        vertical-align: middle;\n",
       "    }\n",
       "\n",
       "    .dataframe tbody tr th {\n",
       "        vertical-align: top;\n",
       "    }\n",
       "\n",
       "    .dataframe thead th {\n",
       "        text-align: right;\n",
       "    }\n",
       "</style>\n",
       "<table border=\"1\" class=\"dataframe\">\n",
       "  <thead>\n",
       "    <tr style=\"text-align: right;\">\n",
       "      <th></th>\n",
       "      <th>mvir</th>\n",
       "      <th>M200b</th>\n",
       "      <th>T/|U|</th>\n",
       "      <th>Halfmass_Scale</th>\n",
       "      <th>Acc_Rate_Inst</th>\n",
       "      <th>Acc_Rate_100Myr</th>\n",
       "      <th>Acc_Rate_1*Tdyn</th>\n",
       "      <th>Acc_Rate_2*Tdyn</th>\n",
       "      <th>Acc_Rate_Mpeak</th>\n",
       "      <th>c_vir</th>\n",
       "    </tr>\n",
       "  </thead>\n",
       "  <tbody>\n",
       "    <tr>\n",
       "      <th>mvir</th>\n",
       "      <td>1.000000</td>\n",
       "      <td>0.996814</td>\n",
       "      <td>0.034243</td>\n",
       "      <td>0.407490</td>\n",
       "      <td>0.338197</td>\n",
       "      <td>0.338197</td>\n",
       "      <td>0.529013</td>\n",
       "      <td>0.670650</td>\n",
       "      <td>0.691656</td>\n",
       "      <td>-0.019834</td>\n",
       "    </tr>\n",
       "    <tr>\n",
       "      <th>M200b</th>\n",
       "      <td>0.996814</td>\n",
       "      <td>1.000000</td>\n",
       "      <td>0.015476</td>\n",
       "      <td>0.422950</td>\n",
       "      <td>0.322744</td>\n",
       "      <td>0.322744</td>\n",
       "      <td>0.492807</td>\n",
       "      <td>0.632935</td>\n",
       "      <td>0.656648</td>\n",
       "      <td>-0.012628</td>\n",
       "    </tr>\n",
       "    <tr>\n",
       "      <th>T/|U|</th>\n",
       "      <td>0.034243</td>\n",
       "      <td>0.015476</td>\n",
       "      <td>1.000000</td>\n",
       "      <td>0.056472</td>\n",
       "      <td>0.443808</td>\n",
       "      <td>0.443808</td>\n",
       "      <td>0.515368</td>\n",
       "      <td>0.377279</td>\n",
       "      <td>0.348402</td>\n",
       "      <td>-0.332531</td>\n",
       "    </tr>\n",
       "    <tr>\n",
       "      <th>Halfmass_Scale</th>\n",
       "      <td>0.407490</td>\n",
       "      <td>0.422950</td>\n",
       "      <td>0.056472</td>\n",
       "      <td>1.000000</td>\n",
       "      <td>0.043399</td>\n",
       "      <td>0.043399</td>\n",
       "      <td>0.159429</td>\n",
       "      <td>0.161179</td>\n",
       "      <td>0.125184</td>\n",
       "      <td>-0.017502</td>\n",
       "    </tr>\n",
       "    <tr>\n",
       "      <th>Acc_Rate_Inst</th>\n",
       "      <td>0.338197</td>\n",
       "      <td>0.322744</td>\n",
       "      <td>0.443808</td>\n",
       "      <td>0.043399</td>\n",
       "      <td>1.000000</td>\n",
       "      <td>1.000000</td>\n",
       "      <td>0.717195</td>\n",
       "      <td>0.571530</td>\n",
       "      <td>0.557310</td>\n",
       "      <td>-0.262031</td>\n",
       "    </tr>\n",
       "    <tr>\n",
       "      <th>Acc_Rate_100Myr</th>\n",
       "      <td>0.338197</td>\n",
       "      <td>0.322744</td>\n",
       "      <td>0.443808</td>\n",
       "      <td>0.043399</td>\n",
       "      <td>1.000000</td>\n",
       "      <td>1.000000</td>\n",
       "      <td>0.717195</td>\n",
       "      <td>0.571530</td>\n",
       "      <td>0.557310</td>\n",
       "      <td>-0.262031</td>\n",
       "    </tr>\n",
       "    <tr>\n",
       "      <th>Acc_Rate_1*Tdyn</th>\n",
       "      <td>0.529013</td>\n",
       "      <td>0.492807</td>\n",
       "      <td>0.515368</td>\n",
       "      <td>0.159429</td>\n",
       "      <td>0.717195</td>\n",
       "      <td>0.717195</td>\n",
       "      <td>1.000000</td>\n",
       "      <td>0.869208</td>\n",
       "      <td>0.822113</td>\n",
       "      <td>-0.172100</td>\n",
       "    </tr>\n",
       "    <tr>\n",
       "      <th>Acc_Rate_2*Tdyn</th>\n",
       "      <td>0.670650</td>\n",
       "      <td>0.632935</td>\n",
       "      <td>0.377279</td>\n",
       "      <td>0.161179</td>\n",
       "      <td>0.571530</td>\n",
       "      <td>0.571530</td>\n",
       "      <td>0.869208</td>\n",
       "      <td>1.000000</td>\n",
       "      <td>0.966471</td>\n",
       "      <td>-0.291226</td>\n",
       "    </tr>\n",
       "    <tr>\n",
       "      <th>Acc_Rate_Mpeak</th>\n",
       "      <td>0.691656</td>\n",
       "      <td>0.656648</td>\n",
       "      <td>0.348402</td>\n",
       "      <td>0.125184</td>\n",
       "      <td>0.557310</td>\n",
       "      <td>0.557310</td>\n",
       "      <td>0.822113</td>\n",
       "      <td>0.966471</td>\n",
       "      <td>1.000000</td>\n",
       "      <td>-0.278141</td>\n",
       "    </tr>\n",
       "    <tr>\n",
       "      <th>c_vir</th>\n",
       "      <td>-0.019834</td>\n",
       "      <td>-0.012628</td>\n",
       "      <td>-0.332531</td>\n",
       "      <td>-0.017502</td>\n",
       "      <td>-0.262031</td>\n",
       "      <td>-0.262031</td>\n",
       "      <td>-0.172100</td>\n",
       "      <td>-0.291226</td>\n",
       "      <td>-0.278141</td>\n",
       "      <td>1.000000</td>\n",
       "    </tr>\n",
       "  </tbody>\n",
       "</table>\n",
       "</div>"
      ],
      "text/plain": [
       "                     mvir     M200b     T/|U|  Halfmass_Scale  Acc_Rate_Inst  \\\n",
       "mvir             1.000000  0.996814  0.034243        0.407490       0.338197   \n",
       "M200b            0.996814  1.000000  0.015476        0.422950       0.322744   \n",
       "T/|U|            0.034243  0.015476  1.000000        0.056472       0.443808   \n",
       "Halfmass_Scale   0.407490  0.422950  0.056472        1.000000       0.043399   \n",
       "Acc_Rate_Inst    0.338197  0.322744  0.443808        0.043399       1.000000   \n",
       "Acc_Rate_100Myr  0.338197  0.322744  0.443808        0.043399       1.000000   \n",
       "Acc_Rate_1*Tdyn  0.529013  0.492807  0.515368        0.159429       0.717195   \n",
       "Acc_Rate_2*Tdyn  0.670650  0.632935  0.377279        0.161179       0.571530   \n",
       "Acc_Rate_Mpeak   0.691656  0.656648  0.348402        0.125184       0.557310   \n",
       "c_vir           -0.019834 -0.012628 -0.332531       -0.017502      -0.262031   \n",
       "\n",
       "                 Acc_Rate_100Myr  Acc_Rate_1*Tdyn  Acc_Rate_2*Tdyn  \\\n",
       "mvir                    0.338197         0.529013         0.670650   \n",
       "M200b                   0.322744         0.492807         0.632935   \n",
       "T/|U|                   0.443808         0.515368         0.377279   \n",
       "Halfmass_Scale          0.043399         0.159429         0.161179   \n",
       "Acc_Rate_Inst           1.000000         0.717195         0.571530   \n",
       "Acc_Rate_100Myr         1.000000         0.717195         0.571530   \n",
       "Acc_Rate_1*Tdyn         0.717195         1.000000         0.869208   \n",
       "Acc_Rate_2*Tdyn         0.571530         0.869208         1.000000   \n",
       "Acc_Rate_Mpeak          0.557310         0.822113         0.966471   \n",
       "c_vir                  -0.262031        -0.172100        -0.291226   \n",
       "\n",
       "                 Acc_Rate_Mpeak     c_vir  \n",
       "mvir                   0.691656 -0.019834  \n",
       "M200b                  0.656648 -0.012628  \n",
       "T/|U|                  0.348402 -0.332531  \n",
       "Halfmass_Scale         0.125184 -0.017502  \n",
       "Acc_Rate_Inst          0.557310 -0.262031  \n",
       "Acc_Rate_100Myr        0.557310 -0.262031  \n",
       "Acc_Rate_1*Tdyn        0.822113 -0.172100  \n",
       "Acc_Rate_2*Tdyn        0.966471 -0.291226  \n",
       "Acc_Rate_Mpeak         1.000000 -0.278141  \n",
       "c_vir                 -0.278141  1.000000  "
      ]
     },
     "metadata": {},
     "output_type": "display_data"
    }
   ],
   "source": [
    "display(matched_halo_df[['mvir','M200b','T/|U|', 'Halfmass_Scale',\n",
    "       'Acc_Rate_Inst', 'Acc_Rate_100Myr', 'Acc_Rate_1*Tdyn',\n",
    "       'Acc_Rate_2*Tdyn', 'Acc_Rate_Mpeak', 'c_vir']].corr())"
   ]
  },
  {
   "cell_type": "code",
   "execution_count": 10,
   "id": "3ec07cc0-55bf-4def-9678-37ed2ba650a2",
   "metadata": {},
   "outputs": [],
   "source": [
    "DS_inner = matched_halo_df['delta_sigma']\n",
    "DS_inner = np.vstack(DS_inner)\n",
    "DS_inner = DS_inner[:,0]"
   ]
  },
  {
   "cell_type": "code",
   "execution_count": 11,
   "id": "a617a06b-c8be-47a2-893e-8e7f465690b3",
   "metadata": {},
   "outputs": [
    {
     "data": {
      "text/plain": [
       "array([1.93482844e+14, 2.97823747e+14, 3.56672216e+14, ...,\n",
       "       9.92569323e+13, 6.58489871e+13, 1.19384577e+14])"
      ]
     },
     "execution_count": 11,
     "metadata": {},
     "output_type": "execute_result"
    }
   ],
   "source": [
    "DS_inner"
   ]
  },
  {
   "cell_type": "code",
   "execution_count": 13,
   "id": "fe7dcb38-cbab-43e2-be30-6e512da5803a",
   "metadata": {},
   "outputs": [],
   "source": [
    "Mvir = np.log10(matched_halo_df['mvir'])\n",
    "acc_rate = matched_halo_df['Acc_Rate_2*Tdyn']\n",
    "richness = matched_halo_df['Ngal_R200c']"
   ]
  },
  {
   "cell_type": "code",
   "execution_count": 28,
   "id": "ac366808-0e16-40b1-8190-ad261e4525a1",
   "metadata": {},
   "outputs": [
    {
     "name": "stdout",
     "output_type": "stream",
     "text": [
      "6550\n",
      "1310\n"
     ]
    }
   ],
   "source": [
    "cur_df = matched_halo_df[(matched_halo_df.mvir > 5e13) & (matched_halo_df.mvir < 1e14)]\n",
    "\n",
    "cur_df['logM'] = np.log10(Mvir)\n",
    "\n",
    "\n",
    "X = cur_df[['logM', 'Halfmass_Scale', 'T/|U|', 'c_vir', 'Acc_Rate_Mpeak']]\n",
    "#X = cur_df['Halfmass_Scale']\n",
    "\n",
    "DS_inner = cur_df['delta_sigma']\n",
    "DS_inner = np.vstack(DS_inner)\n",
    "DS_inner = DS_inner[:,0]\n",
    "y = DS_inner\n",
    "acc_rate = cur_df['Acc_Rate_2*Tdyn']\n",
    "\n",
    "\n",
    "print(np.size(X))\n",
    "print(np.size(y))"
   ]
  },
  {
   "cell_type": "code",
   "execution_count": 16,
   "id": "a0ebd9ba-6ed6-4a33-8fae-524bcd73ae3d",
   "metadata": {},
   "outputs": [
    {
     "data": {
      "text/html": [
       "<table class=\"simpletable\">\n",
       "<caption>OLS Regression Results</caption>\n",
       "<tr>\n",
       "  <th>Dep. Variable:</th>            <td>y</td>        <th>  R-squared:         </th> <td>   0.507</td> \n",
       "</tr>\n",
       "<tr>\n",
       "  <th>Model:</th>                   <td>OLS</td>       <th>  Adj. R-squared:    </th> <td>   0.505</td> \n",
       "</tr>\n",
       "<tr>\n",
       "  <th>Method:</th>             <td>Least Squares</td>  <th>  F-statistic:       </th> <td>   268.2</td> \n",
       "</tr>\n",
       "<tr>\n",
       "  <th>Date:</th>             <td>Mon, 26 Jun 2023</td> <th>  Prob (F-statistic):</th> <td>2.45e-197</td>\n",
       "</tr>\n",
       "<tr>\n",
       "  <th>Time:</th>                 <td>06:57:17</td>     <th>  Log-Likelihood:    </th> <td> -43214.</td> \n",
       "</tr>\n",
       "<tr>\n",
       "  <th>No. Observations:</th>      <td>  1310</td>      <th>  AIC:               </th> <td>8.644e+04</td>\n",
       "</tr>\n",
       "<tr>\n",
       "  <th>Df Residuals:</th>          <td>  1304</td>      <th>  BIC:               </th> <td>8.647e+04</td>\n",
       "</tr>\n",
       "<tr>\n",
       "  <th>Df Model:</th>              <td>     5</td>      <th>                     </th>     <td> </td>    \n",
       "</tr>\n",
       "<tr>\n",
       "  <th>Covariance Type:</th>      <td>nonrobust</td>    <th>                     </th>     <td> </td>    \n",
       "</tr>\n",
       "</table>\n",
       "<table class=\"simpletable\">\n",
       "<tr>\n",
       "         <td></td>           <th>coef</th>     <th>std err</th>      <th>t</th>      <th>P>|t|</th>  <th>[0.025</th>    <th>0.975]</th>  \n",
       "</tr>\n",
       "<tr>\n",
       "  <th>const</th>          <td>-7.492e+15</td> <td> 7.64e+14</td> <td>   -9.810</td> <td> 0.000</td> <td>-8.99e+15</td> <td>-5.99e+15</td>\n",
       "</tr>\n",
       "<tr>\n",
       "  <th>logM</th>           <td> 6.694e+15</td> <td> 6.69e+14</td> <td>   10.000</td> <td> 0.000</td> <td> 5.38e+15</td> <td> 8.01e+15</td>\n",
       "</tr>\n",
       "<tr>\n",
       "  <th>Halfmass_Scale</th> <td>  1.03e+14</td> <td> 1.29e+13</td> <td>    8.010</td> <td> 0.000</td> <td> 7.78e+13</td> <td> 1.28e+14</td>\n",
       "</tr>\n",
       "<tr>\n",
       "  <th>T/|U|</th>          <td>-1.496e+14</td> <td> 2.36e+13</td> <td>   -6.352</td> <td> 0.000</td> <td>-1.96e+14</td> <td>-1.03e+14</td>\n",
       "</tr>\n",
       "<tr>\n",
       "  <th>c_vir</th>          <td>  1.29e+13</td> <td> 8.89e+11</td> <td>   14.520</td> <td> 0.000</td> <td> 1.12e+13</td> <td> 1.46e+13</td>\n",
       "</tr>\n",
       "<tr>\n",
       "  <th>Acc_Rate_Mpeak</th> <td>-2.089e+09</td> <td> 2.28e+08</td> <td>   -9.163</td> <td> 0.000</td> <td>-2.54e+09</td> <td>-1.64e+09</td>\n",
       "</tr>\n",
       "</table>\n",
       "<table class=\"simpletable\">\n",
       "<tr>\n",
       "  <th>Omnibus:</th>       <td>109.052</td> <th>  Durbin-Watson:     </th> <td>   1.823</td>\n",
       "</tr>\n",
       "<tr>\n",
       "  <th>Prob(Omnibus):</th> <td> 0.000</td>  <th>  Jarque-Bera (JB):  </th> <td> 149.469</td>\n",
       "</tr>\n",
       "<tr>\n",
       "  <th>Skew:</th>          <td> 0.674</td>  <th>  Prob(JB):          </th> <td>3.49e-33</td>\n",
       "</tr>\n",
       "<tr>\n",
       "  <th>Kurtosis:</th>      <td> 3.961</td>  <th>  Cond. No.          </th> <td>1.17e+07</td>\n",
       "</tr>\n",
       "</table><br/><br/>Notes:<br/>[1] Standard Errors assume that the covariance matrix of the errors is correctly specified.<br/>[2] The condition number is large, 1.17e+07. This might indicate that there are<br/>strong multicollinearity or other numerical problems."
      ],
      "text/plain": [
       "<class 'statsmodels.iolib.summary.Summary'>\n",
       "\"\"\"\n",
       "                            OLS Regression Results                            \n",
       "==============================================================================\n",
       "Dep. Variable:                      y   R-squared:                       0.507\n",
       "Model:                            OLS   Adj. R-squared:                  0.505\n",
       "Method:                 Least Squares   F-statistic:                     268.2\n",
       "Date:                Mon, 26 Jun 2023   Prob (F-statistic):          2.45e-197\n",
       "Time:                        06:57:17   Log-Likelihood:                -43214.\n",
       "No. Observations:                1310   AIC:                         8.644e+04\n",
       "Df Residuals:                    1304   BIC:                         8.647e+04\n",
       "Df Model:                           5                                         \n",
       "Covariance Type:            nonrobust                                         \n",
       "==================================================================================\n",
       "                     coef    std err          t      P>|t|      [0.025      0.975]\n",
       "----------------------------------------------------------------------------------\n",
       "const          -7.492e+15   7.64e+14     -9.810      0.000   -8.99e+15   -5.99e+15\n",
       "logM            6.694e+15   6.69e+14     10.000      0.000    5.38e+15    8.01e+15\n",
       "Halfmass_Scale   1.03e+14   1.29e+13      8.010      0.000    7.78e+13    1.28e+14\n",
       "T/|U|          -1.496e+14   2.36e+13     -6.352      0.000   -1.96e+14   -1.03e+14\n",
       "c_vir            1.29e+13   8.89e+11     14.520      0.000    1.12e+13    1.46e+13\n",
       "Acc_Rate_Mpeak -2.089e+09   2.28e+08     -9.163      0.000   -2.54e+09   -1.64e+09\n",
       "==============================================================================\n",
       "Omnibus:                      109.052   Durbin-Watson:                   1.823\n",
       "Prob(Omnibus):                  0.000   Jarque-Bera (JB):              149.469\n",
       "Skew:                           0.674   Prob(JB):                     3.49e-33\n",
       "Kurtosis:                       3.961   Cond. No.                     1.17e+07\n",
       "==============================================================================\n",
       "\n",
       "Notes:\n",
       "[1] Standard Errors assume that the covariance matrix of the errors is correctly specified.\n",
       "[2] The condition number is large, 1.17e+07. This might indicate that there are\n",
       "strong multicollinearity or other numerical problems.\n",
       "\"\"\""
      ]
     },
     "metadata": {},
     "output_type": "display_data"
    }
   ],
   "source": [
    "X = sm.add_constant(X)\n",
    "mreg = sm.OLS(y, X).fit()\n",
    "display(mreg.summary())"
   ]
  },
  {
   "cell_type": "markdown",
   "id": "8434e861-6d5b-437a-9488-f2771d97edb3",
   "metadata": {},
   "source": [
    "## Testing for multi-linearity"
   ]
  },
  {
   "cell_type": "code",
   "execution_count": 18,
   "id": "4a294181-591f-42fe-8005-24181003e7ad",
   "metadata": {},
   "outputs": [
    {
     "name": "stdout",
     "output_type": "stream",
     "text": [
      "          feature            VIF\n",
      "0           const  288983.849003\n",
      "1            logM       1.148281\n",
      "2  Halfmass_Scale       1.257672\n",
      "3           T/|U|       1.534376\n",
      "4           c_vir       1.490985\n",
      "5  Acc_Rate_Mpeak       2.070429\n"
     ]
    }
   ],
   "source": [
    "from statsmodels.stats.outliers_influence import variance_inflation_factor\n",
    "\n",
    "# function to check VIF\n",
    "def checking_vif(train):\n",
    "    vif = pd.DataFrame()\n",
    "    vif[\"feature\"] = train.columns\n",
    "\n",
    "    # calculating VIF for each feature\n",
    "    vif[\"VIF\"] = [\n",
    "        variance_inflation_factor(train.values, i) for i in range(len(train.columns))\n",
    "    ]\n",
    "    return vif\n",
    "\n",
    "\n",
    "print(checking_vif(X))"
   ]
  },
  {
   "cell_type": "markdown",
   "id": "be8a3fb4-259b-4730-a409-8c86792af8aa",
   "metadata": {},
   "source": [
    "## Heterodescity"
   ]
  },
  {
   "cell_type": "code",
   "execution_count": 19,
   "id": "d12e5611-bede-4f08-a6fd-bcd803ef9e1d",
   "metadata": {},
   "outputs": [
    {
     "data": {
      "text/plain": [
       "[('F statistic', 0.6701319880125041), ('p-value', 0.9999998111348561)]"
      ]
     },
     "execution_count": 19,
     "metadata": {},
     "output_type": "execute_result"
    }
   ],
   "source": [
    "from statsmodels.stats.diagnostic import het_white\n",
    "from statsmodels.compat import lzip\n",
    "import statsmodels.stats.api as sms\n",
    "\n",
    "name = [\"F statistic\", \"p-value\"]\n",
    "test = sms.het_goldfeldquandt(y, X)\n",
    "lzip(name, test)"
   ]
  },
  {
   "cell_type": "markdown",
   "id": "7f7511a6-0145-48f7-868b-1608bd02e5d5",
   "metadata": {},
   "source": [
    "## Check that residual is 0"
   ]
  },
  {
   "cell_type": "code",
   "execution_count": 20,
   "id": "6c74375f-8719-4c2b-bc18-2488c336dde1",
   "metadata": {},
   "outputs": [
    {
     "data": {
      "text/plain": [
       "-2966.6057251908396"
      ]
     },
     "execution_count": 20,
     "metadata": {},
     "output_type": "execute_result"
    }
   ],
   "source": [
    "residuals = mreg.resid\n",
    "residuals.mean()"
   ]
  },
  {
   "cell_type": "markdown",
   "id": "e8841db0-1924-4092-8614-09329866851c",
   "metadata": {},
   "source": [
    "## Linearity"
   ]
  },
  {
   "cell_type": "code",
   "execution_count": 21,
   "id": "f1757650-ea20-4bc3-9526-012f9c7b0f9e",
   "metadata": {},
   "outputs": [
    {
     "data": {
      "image/png": "[encoded data removed]",
      "text/plain": [
       "<Figure size 432x288 with 1 Axes>"
      ]
     },
     "metadata": {
      "needs_background": "light"
     },
     "output_type": "display_data"
    }
   ],
   "source": [
    "# predicted values\n",
    "fitted = mreg.fittedvalues\n",
    "\n",
    "# sns.set_style(\"whitegrid\")\n",
    "sns.residplot(x = fitted, y = residuals, color=\"lightblue\", lowess=True)\n",
    "plt.xlabel(\"Fitted Values\")\n",
    "plt.ylabel(\"Residual\")\n",
    "plt.title(\"Residual PLOT\")\n",
    "plt.show()"
   ]
  },
  {
   "cell_type": "markdown",
   "id": "991baac6-3dc6-49bb-9bee-cd7872081127",
   "metadata": {},
   "source": [
    "## Gaussian error"
   ]
  },
  {
   "cell_type": "code",
   "execution_count": 22,
   "id": "010b4fc3-03b0-4495-be4b-8f7f35329497",
   "metadata": {},
   "outputs": [
    {
     "data": {
      "image/png": "[encoded data removed]",
      "text/plain": [
       "<Figure size 432x288 with 1 Axes>"
      ]
     },
     "metadata": {
      "needs_background": "light"
     },
     "output_type": "display_data"
    }
   ],
   "source": [
    "# Plot histogram of residuals\n",
    "sns.histplot(residuals, kde=True)\n",
    "plt.show()"
   ]
  },
  {
   "cell_type": "code",
   "execution_count": 23,
   "id": "f2185457-8d72-4b2d-80ce-e4a62f67e66e",
   "metadata": {},
   "outputs": [
    {
     "data": {
      "image/png": "[encoded data removed]",
      "text/plain": [
       "<Figure size 432x288 with 1 Axes>"
      ]
     },
     "metadata": {
      "needs_background": "light"
     },
     "output_type": "display_data"
    }
   ],
   "source": [
    "# Plot q-q plot of residuals\n",
    "import pylab\n",
    "import scipy.stats as stats\n",
    "\n",
    "stats.probplot(residuals, dist=\"norm\", plot=pylab)\n",
    "plt.show()"
   ]
  },
  {
   "cell_type": "code",
   "execution_count": 26,
   "id": "18444dd7-83f5-4934-a82c-2033b14d403b",
   "metadata": {},
   "outputs": [
    {
     "data": {
      "text/plain": [
       "(4930,)"
      ]
     },
     "execution_count": 26,
     "metadata": {},
     "output_type": "execute_result"
    }
   ],
   "source": [
    "#np.shape(DS_inner)\n",
    "np.shape(acc_rate)"
   ]
  },
  {
   "cell_type": "code",
   "execution_count": 36,
   "id": "252213f9-79e8-40c9-a1fb-70ae31fa2234",
   "metadata": {},
   "outputs": [
    {
     "data": {
      "text/plain": [
       "Text(0, 0.5, '$a_{\\\\rm 1/2}$')"
      ]
     },
     "execution_count": 36,
     "metadata": {},
     "output_type": "execute_result"
    },
    {
     "data": {
      "image/png": "[encoded data removed]",
      "text/plain": [
       "<Figure size 432x288 with 1 Axes>"
      ]
     },
     "metadata": {
      "needs_background": "light"
     },
     "output_type": "display_data"
    }
   ],
   "source": [
    "plt.scatter(DS_inner, cur_df.Halfmass_Scale)\n",
    "plt.xlabel(r'$\\Delta\\Sigma$')\n",
    "plt.ylabel(r'$a_{\\rm 1/2}$')\n",
    "#plt.xscale('log')"
   ]
  },
  {
   "cell_type": "code",
   "execution_count": 89,
   "id": "7f56f63e-f15b-4e06-8943-340b07c8194e",
   "metadata": {},
   "outputs": [
    {
     "name": "stderr",
     "output_type": "stream",
     "text": [
      "/global/homes/z/zzhang13/.conda/envs/myLSST/lib/python3.7/site-packages/pandas/core/arraylike.py:364: RuntimeWarning: invalid value encountered in log10\n",
      "  result = getattr(ufunc, method)(*inputs, **kwargs)\n"
     ]
    },
    {
     "data": {
      "image/png": "[encoded data removed]",
      "text/plain": [
       "<Figure size 432x288 with 1 Axes>"
      ]
     },
     "metadata": {
      "needs_background": "light"
     },
     "output_type": "display_data"
    }
   ],
   "source": [
    "plt.scatter(np.log10(cur_df['Acc_Rate_2*Tdyn']), y) \n",
    "plt.show()"
   ]
  },
  {
   "cell_type": "markdown",
   "id": "8f0a0f00-dcb9-4d0b-a11c-c8fced40be56",
   "metadata": {},
   "source": [
    "## Formation time alone"
   ]
  },
  {
   "cell_type": "code",
   "execution_count": 90,
   "id": "26500454-113c-4222-8bbc-acb54771b8d5",
   "metadata": {},
   "outputs": [
    {
     "name": "stdout",
     "output_type": "stream",
     "text": [
      "2202\n",
      "367\n"
     ]
    }
   ],
   "source": [
    "X_formation = cur_df[['Halfmass_Scale', 'T/|U|', 'c_vir', 'Acc_Rate_Mpeak']]\n",
    "\n",
    "\n",
    "print(np.size(X))\n",
    "print(np.size(y))"
   ]
  },
  {
   "cell_type": "code",
   "execution_count": 91,
   "id": "6fbe8a12-0534-45ea-b230-3c6a13c00b62",
   "metadata": {},
   "outputs": [
    {
     "data": {
      "text/html": [
       "<table class=\"simpletable\">\n",
       "<caption>OLS Regression Results</caption>\n",
       "<tr>\n",
       "  <th>Dep. Variable:</th>            <td>y</td>        <th>  R-squared:         </th> <td>   0.500</td> \n",
       "</tr>\n",
       "<tr>\n",
       "  <th>Model:</th>                   <td>OLS</td>       <th>  Adj. R-squared:    </th> <td>   0.495</td> \n",
       "</tr>\n",
       "<tr>\n",
       "  <th>Method:</th>             <td>Least Squares</td>  <th>  F-statistic:       </th> <td>   90.66</td> \n",
       "</tr>\n",
       "<tr>\n",
       "  <th>Date:</th>             <td>Wed, 07 Sep 2022</td> <th>  Prob (F-statistic):</th> <td>2.56e-53</td> \n",
       "</tr>\n",
       "<tr>\n",
       "  <th>Time:</th>                 <td>09:36:04</td>     <th>  Log-Likelihood:    </th> <td> -12229.</td> \n",
       "</tr>\n",
       "<tr>\n",
       "  <th>No. Observations:</th>      <td>   367</td>      <th>  AIC:               </th> <td>2.447e+04</td>\n",
       "</tr>\n",
       "<tr>\n",
       "  <th>Df Residuals:</th>          <td>   362</td>      <th>  BIC:               </th> <td>2.449e+04</td>\n",
       "</tr>\n",
       "<tr>\n",
       "  <th>Df Model:</th>              <td>     4</td>      <th>                     </th>     <td> </td>    \n",
       "</tr>\n",
       "<tr>\n",
       "  <th>Covariance Type:</th>      <td>nonrobust</td>    <th>                     </th>     <td> </td>    \n",
       "</tr>\n",
       "</table>\n",
       "<table class=\"simpletable\">\n",
       "<tr>\n",
       "         <td></td>           <th>coef</th>     <th>std err</th>      <th>t</th>      <th>P>|t|</th>  <th>[0.025</th>    <th>0.975]</th>  \n",
       "</tr>\n",
       "<tr>\n",
       "  <th>const</th>          <td> 4.727e+14</td> <td> 4.96e+13</td> <td>    9.532</td> <td> 0.000</td> <td> 3.75e+14</td> <td>  5.7e+14</td>\n",
       "</tr>\n",
       "<tr>\n",
       "  <th>Halfmass_Scale</th> <td>-2.501e+14</td> <td> 5.69e+13</td> <td>   -4.397</td> <td> 0.000</td> <td>-3.62e+14</td> <td>-1.38e+14</td>\n",
       "</tr>\n",
       "<tr>\n",
       "  <th>T/|U|</th>          <td>-1.486e+14</td> <td> 7.57e+13</td> <td>   -1.963</td> <td> 0.050</td> <td>-2.97e+14</td> <td> 2.37e+11</td>\n",
       "</tr>\n",
       "<tr>\n",
       "  <th>c_vir</th>          <td> 2.566e+13</td> <td>  2.2e+12</td> <td>   11.647</td> <td> 0.000</td> <td> 2.13e+13</td> <td>    3e+13</td>\n",
       "</tr>\n",
       "<tr>\n",
       "  <th>Acc_Rate_Mpeak</th> <td> 6.622e+09</td> <td> 2.07e+09</td> <td>    3.204</td> <td> 0.001</td> <td> 2.56e+09</td> <td> 1.07e+10</td>\n",
       "</tr>\n",
       "</table>\n",
       "<table class=\"simpletable\">\n",
       "<tr>\n",
       "  <th>Omnibus:</th>       <td>34.412</td> <th>  Durbin-Watson:     </th> <td>   2.033</td>\n",
       "</tr>\n",
       "<tr>\n",
       "  <th>Prob(Omnibus):</th> <td> 0.000</td> <th>  Jarque-Bera (JB):  </th> <td>  42.858</td>\n",
       "</tr>\n",
       "<tr>\n",
       "  <th>Skew:</th>          <td> 0.730</td> <th>  Prob(JB):          </th> <td>4.94e-10</td>\n",
       "</tr>\n",
       "<tr>\n",
       "  <th>Kurtosis:</th>      <td> 3.820</td> <th>  Cond. No.          </th> <td>1.50e+05</td>\n",
       "</tr>\n",
       "</table><br/><br/>Notes:<br/>[1] Standard Errors assume that the covariance matrix of the errors is correctly specified.<br/>[2] The condition number is large, 1.5e+05. This might indicate that there are<br/>strong multicollinearity or other numerical problems."
      ],
      "text/plain": [
       "<class 'statsmodels.iolib.summary.Summary'>\n",
       "\"\"\"\n",
       "                            OLS Regression Results                            \n",
       "==============================================================================\n",
       "Dep. Variable:                      y   R-squared:                       0.500\n",
       "Model:                            OLS   Adj. R-squared:                  0.495\n",
       "Method:                 Least Squares   F-statistic:                     90.66\n",
       "Date:                Wed, 07 Sep 2022   Prob (F-statistic):           2.56e-53\n",
       "Time:                        09:36:04   Log-Likelihood:                -12229.\n",
       "No. Observations:                 367   AIC:                         2.447e+04\n",
       "Df Residuals:                     362   BIC:                         2.449e+04\n",
       "Df Model:                           4                                         \n",
       "Covariance Type:            nonrobust                                         \n",
       "==================================================================================\n",
       "                     coef    std err          t      P>|t|      [0.025      0.975]\n",
       "----------------------------------------------------------------------------------\n",
       "const           4.727e+14   4.96e+13      9.532      0.000    3.75e+14     5.7e+14\n",
       "Halfmass_Scale -2.501e+14   5.69e+13     -4.397      0.000   -3.62e+14   -1.38e+14\n",
       "T/|U|          -1.486e+14   7.57e+13     -1.963      0.050   -2.97e+14    2.37e+11\n",
       "c_vir           2.566e+13    2.2e+12     11.647      0.000    2.13e+13       3e+13\n",
       "Acc_Rate_Mpeak  6.622e+09   2.07e+09      3.204      0.001    2.56e+09    1.07e+10\n",
       "==============================================================================\n",
       "Omnibus:                       34.412   Durbin-Watson:                   2.033\n",
       "Prob(Omnibus):                  0.000   Jarque-Bera (JB):               42.858\n",
       "Skew:                           0.730   Prob(JB):                     4.94e-10\n",
       "Kurtosis:                       3.820   Cond. No.                     1.50e+05\n",
       "==============================================================================\n",
       "\n",
       "Notes:\n",
       "[1] Standard Errors assume that the covariance matrix of the errors is correctly specified.\n",
       "[2] The condition number is large, 1.5e+05. This might indicate that there are\n",
       "strong multicollinearity or other numerical problems.\n",
       "\"\"\""
      ]
     },
     "metadata": {},
     "output_type": "display_data"
    }
   ],
   "source": [
    "X_formation = sm.add_constant(X_formation)\n",
    "mreg_formation = sm.OLS(y, X_formation).fit()\n",
    "display(mreg_formation.summary())"
   ]
  },
  {
   "cell_type": "code",
   "execution_count": 92,
   "id": "003ce0a1-8dbb-4205-885b-d725f53f8314",
   "metadata": {},
   "outputs": [
    {
     "data": {
      "text/plain": [
       "1.8856662426228662e+30"
      ]
     },
     "execution_count": 92,
     "metadata": {},
     "output_type": "execute_result"
    }
   ],
   "source": [
    "ssr_formation = np.sum((mreg_formation.fittedvalues - np.mean(y))**2)\n",
    "ssr_formation"
   ]
  },
  {
   "cell_type": "markdown",
   "id": "ac64363b-12d4-49fb-a832-6ffa5c455008",
   "metadata": {},
   "source": [
    "## Mass alone"
   ]
  },
  {
   "cell_type": "code",
   "execution_count": 93,
   "id": "d3f199b8-ca70-4cdf-9698-edb241d87678",
   "metadata": {},
   "outputs": [],
   "source": [
    "X_mass = cur_df[['logM']]"
   ]
  },
  {
   "cell_type": "code",
   "execution_count": 94,
   "id": "61ba0d02-4e39-4b9c-ab7f-52272e5007c6",
   "metadata": {},
   "outputs": [
    {
     "data": {
      "text/html": [
       "<table class=\"simpletable\">\n",
       "<caption>OLS Regression Results</caption>\n",
       "<tr>\n",
       "  <th>Dep. Variable:</th>            <td>y</td>        <th>  R-squared:         </th> <td>   0.028</td> \n",
       "</tr>\n",
       "<tr>\n",
       "  <th>Model:</th>                   <td>OLS</td>       <th>  Adj. R-squared:    </th> <td>   0.025</td> \n",
       "</tr>\n",
       "<tr>\n",
       "  <th>Method:</th>             <td>Least Squares</td>  <th>  F-statistic:       </th> <td>   10.56</td> \n",
       "</tr>\n",
       "<tr>\n",
       "  <th>Date:</th>             <td>Wed, 07 Sep 2022</td> <th>  Prob (F-statistic):</th>  <td>0.00126</td> \n",
       "</tr>\n",
       "<tr>\n",
       "  <th>Time:</th>                 <td>09:36:06</td>     <th>  Log-Likelihood:    </th> <td> -12351.</td> \n",
       "</tr>\n",
       "<tr>\n",
       "  <th>No. Observations:</th>      <td>   367</td>      <th>  AIC:               </th> <td>2.471e+04</td>\n",
       "</tr>\n",
       "<tr>\n",
       "  <th>Df Residuals:</th>          <td>   365</td>      <th>  BIC:               </th> <td>2.471e+04</td>\n",
       "</tr>\n",
       "<tr>\n",
       "  <th>Df Model:</th>              <td>     1</td>      <th>                     </th>     <td> </td>    \n",
       "</tr>\n",
       "<tr>\n",
       "  <th>Covariance Type:</th>      <td>nonrobust</td>    <th>                     </th>     <td> </td>    \n",
       "</tr>\n",
       "</table>\n",
       "<table class=\"simpletable\">\n",
       "<tr>\n",
       "    <td></td>       <th>coef</th>     <th>std err</th>      <th>t</th>      <th>P>|t|</th>  <th>[0.025</th>    <th>0.975]</th>  \n",
       "</tr>\n",
       "<tr>\n",
       "  <th>const</th> <td>-6.948e+15</td> <td> 2.27e+15</td> <td>   -3.065</td> <td> 0.002</td> <td>-1.14e+16</td> <td>-2.49e+15</td>\n",
       "</tr>\n",
       "<tr>\n",
       "  <th>logM</th>  <td> 6.448e+15</td> <td> 1.98e+15</td> <td>    3.250</td> <td> 0.001</td> <td> 2.55e+15</td> <td> 1.03e+16</td>\n",
       "</tr>\n",
       "</table>\n",
       "<table class=\"simpletable\">\n",
       "<tr>\n",
       "  <th>Omnibus:</th>       <td> 4.776</td> <th>  Durbin-Watson:     </th> <td>   2.016</td>\n",
       "</tr>\n",
       "<tr>\n",
       "  <th>Prob(Omnibus):</th> <td> 0.092</td> <th>  Jarque-Bera (JB):  </th> <td>   4.517</td>\n",
       "</tr>\n",
       "<tr>\n",
       "  <th>Skew:</th>          <td> 0.258</td> <th>  Prob(JB):          </th> <td>   0.104</td>\n",
       "</tr>\n",
       "<tr>\n",
       "  <th>Kurtosis:</th>      <td> 3.173</td> <th>  Cond. No.          </th> <td>    875.</td>\n",
       "</tr>\n",
       "</table><br/><br/>Notes:<br/>[1] Standard Errors assume that the covariance matrix of the errors is correctly specified."
      ],
      "text/plain": [
       "<class 'statsmodels.iolib.summary.Summary'>\n",
       "\"\"\"\n",
       "                            OLS Regression Results                            \n",
       "==============================================================================\n",
       "Dep. Variable:                      y   R-squared:                       0.028\n",
       "Model:                            OLS   Adj. R-squared:                  0.025\n",
       "Method:                 Least Squares   F-statistic:                     10.56\n",
       "Date:                Wed, 07 Sep 2022   Prob (F-statistic):            0.00126\n",
       "Time:                        09:36:06   Log-Likelihood:                -12351.\n",
       "No. Observations:                 367   AIC:                         2.471e+04\n",
       "Df Residuals:                     365   BIC:                         2.471e+04\n",
       "Df Model:                           1                                         \n",
       "Covariance Type:            nonrobust                                         \n",
       "==============================================================================\n",
       "                 coef    std err          t      P>|t|      [0.025      0.975]\n",
       "------------------------------------------------------------------------------\n",
       "const      -6.948e+15   2.27e+15     -3.065      0.002   -1.14e+16   -2.49e+15\n",
       "logM        6.448e+15   1.98e+15      3.250      0.001    2.55e+15    1.03e+16\n",
       "==============================================================================\n",
       "Omnibus:                        4.776   Durbin-Watson:                   2.016\n",
       "Prob(Omnibus):                  0.092   Jarque-Bera (JB):                4.517\n",
       "Skew:                           0.258   Prob(JB):                        0.104\n",
       "Kurtosis:                       3.173   Cond. No.                         875.\n",
       "==============================================================================\n",
       "\n",
       "Notes:\n",
       "[1] Standard Errors assume that the covariance matrix of the errors is correctly specified.\n",
       "\"\"\""
      ]
     },
     "metadata": {},
     "output_type": "display_data"
    }
   ],
   "source": [
    "X_mass = sm.add_constant(X_mass)\n",
    "mreg_mass = sm.OLS(y, X_mass).fit()\n",
    "display(mreg_mass.summary())"
   ]
  },
  {
   "cell_type": "code",
   "execution_count": 95,
   "id": "433137ab-3a8a-4215-aecc-ed9ee21ae28c",
   "metadata": {},
   "outputs": [
    {
     "data": {
      "text/plain": [
       "1.0599131434567733e+29"
      ]
     },
     "execution_count": 95,
     "metadata": {},
     "output_type": "execute_result"
    }
   ],
   "source": [
    "ssr_mass = np.sum((mreg_mass.fittedvalues - np.mean(y))**2)\n",
    "ssr_mass"
   ]
  },
  {
   "cell_type": "markdown",
   "id": "b24dfdcd-6f6b-4dc2-916d-363a76238502",
   "metadata": {},
   "source": [
    "## Partitioning Sum of Squares\n",
    "* Total: 24.02\n",
    "* SS Mass (unique): 24.02 - 14.66 = 9.36\n",
    "* SS Formation time history (unique): 24.02 - 17.02 = 7.00\n",
    "* SS Confounded: 7.66"
   ]
  },
  {
   "cell_type": "markdown",
   "id": "4820ad7a-71c4-4567-bed1-f480ba0b933d",
   "metadata": {},
   "source": [
    "## Testing the regression on the number count. "
   ]
  },
  {
   "cell_type": "code",
   "execution_count": null,
   "id": "1afd13d7-5335-4578-b118-4d12ffea4529",
   "metadata": {},
   "outputs": [],
   "source": []
  }
 ],
 "metadata": {
  "kernelspec": {
   "display_name": "myLSST",
   "language": "python",
   "name": "mylsst"
  },
  "language_info": {
   "codemirror_mode": {
    "name": "ipython",
    "version": 3
   },
   "file_extension": ".py",
   "mimetype": "text/x-python",
   "name": "python",
   "nbconvert_exporter": "python",
   "pygments_lexer": "ipython3",
   "version": "3.7.12"
  }
 },
 "nbformat": 4,
 "nbformat_minor": 5
}
