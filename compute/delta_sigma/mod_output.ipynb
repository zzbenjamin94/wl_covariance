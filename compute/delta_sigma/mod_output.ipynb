{
 "cells": [
  {
   "cell_type": "markdown",
   "id": "5c8cf8f1-df7c-4209-abc1-cca7e3eda418",
   "metadata": {},
   "source": [
    "# Modifies the output of the DeltaSigma dictionary\n",
    "\n",
    "* Removes the background density from the Sigma profiles. \n",
    "* Changes the radius of the $\\overline{\\Delta\\Sigma}$ to include the outer end of the annulus. "
   ]
  },
  {
   "cell_type": "markdown",
   "id": "8c6a022f-3135-40ea-888a-503db622567d",
   "metadata": {
    "tags": []
   },
   "source": [
    "## Setup"
   ]
  },
  {
   "cell_type": "code",
   "execution_count": 2,
   "id": "7d4d76ab-ae88-4f7b-9538-3707599ee3a7",
   "metadata": {},
   "outputs": [],
   "source": [
    "## testing multidark\n",
    "import numpy as np\n",
    "import matplotlib.pyplot as plt\n",
    "import seaborn as sns\n",
    "from scipy.stats import kde\n",
    "import h5py\n",
    "import astropy.io.fits as fits\n",
    "import csv\n",
    "import pandas as pd\n",
    "import h5py\n",
    "import tables\n",
    "import pickle5 as pickle\n",
    "import os\n",
    "from astropy.table import Table\n",
    "from astropy.coordinates import SkyCoord\n",
    "from tqdm import tqdm\n",
    "from astropy.io import ascii\n",
    "import pickle\n",
    "import os\n",
    "from glob import glob\n",
    "import scipy"
   ]
  },
  {
   "cell_type": "code",
   "execution_count": 3,
   "id": "02261cc9-de99-4045-aeb3-e72e0fadb42a",
   "metadata": {},
   "outputs": [],
   "source": [
    "from timeit import default_timer as timer"
   ]
  },
  {
   "cell_type": "code",
   "execution_count": 4,
   "id": "4abba97b-64e2-400a-86dd-e46a67020457",
   "metadata": {},
   "outputs": [],
   "source": [
    "ptcl_dir = '/global/cscratch1/sd/zzhang13/MultiDark/MDPL2_particles/z0p00/'\n",
    "deltasigma_dir = '/global/homes/z/zzhang13/BaryonPasting/CorrelatedStructures/multiDark/data/'\n",
    "clusters_dir = '/global/cscratch1/sd/zzhang13/MultiDark/MDPL2_ROCKSTAR_Halos/z0p00/'\n",
    "data_dir = '/global/homes/z/zzhang13/BaryonPasting/CorrelatedStructures/multiDark/data/'"
   ]
  },
  {
   "cell_type": "markdown",
   "id": "c2315226-3fd2-404c-918a-f71a066ced44",
   "metadata": {
    "tags": []
   },
   "source": [
    "## Standardized Scales"
   ]
  },
  {
   "cell_type": "code",
   "execution_count": 14,
   "id": "6de74cbf-5394-427d-adbb-eb4892e70321",
   "metadata": {},
   "outputs": [],
   "source": [
    "## Testing the file properties. \n",
    "r_bins_log_norm = np.linspace(-1,1,21)\n",
    "r_bins_lin_norm = 10**r_bins_log_norm\n",
    "r_cent_log_norm= (r_bins_log_norm[1:] + r_bins_log_norm[:-1])/2\n",
    "r_cent_lin_norm = 10**r_cent_log_norm"
   ]
  },
  {
   "cell_type": "code",
   "execution_count": 15,
   "id": "836f6b0f-e4a8-4099-845b-3d97240f363d",
   "metadata": {},
   "outputs": [],
   "source": [
    "##mass bins \n",
    "mass_bin_edges = [5e13, 1e14, 2e14, 5e14, 1e15]\n",
    "mass_bins = [[mass_bin_edges[i],mass_bin_edges[i+1]] for i in range(len(mass_bin_edges)-1)]"
   ]
  },
  {
   "cell_type": "markdown",
   "id": "64489bb8-deaf-42b4-9514-09d04a0cfc3b",
   "metadata": {},
   "source": [
    "### Computation of background 2d density"
   ]
  },
  {
   "cell_type": "code",
   "execution_count": 16,
   "id": "ba44b31d-94a4-4120-80d1-3994d1ef6782",
   "metadata": {},
   "outputs": [],
   "source": [
    "from numpy import sqrt\n",
    "\n",
    "delta=200.0\n",
    "omega_m=0.3089\n",
    "omega_l=0.6911\n",
    "omega_b = 0.0486 \n",
    "hubble=0.6774\n",
    "redshift = 0.0\n",
    "dz = 200 #Mpc, projection depth used in the MDPL2 box.\n",
    "\n",
    "aexp = 1./(1.+redshift)\n",
    "Ez = sqrt(omega_m/aexp**3.0+omega_l)\n",
    "fb = omega_b/omega_m\n",
    "mu = 0.59\n",
    "mue = 1.14\n",
    "delta = float(delta)\n",
    "erg_to_keV = 624150647.99632\n",
    "\n",
    "# critical density of the Universe in h^2*Msun/Mpc^3\n",
    "rho_crit = (2.77536627e11)*(Ez)**2.0\n",
    "\n",
    "### Background density\n",
    "rho_bkgr = rho_crit * omega_m\n",
    "rho_2d_bkgr = rho_bkgr * 2 * dz"
   ]
  },
  {
   "cell_type": "code",
   "execution_count": 17,
   "id": "9d53fb72-6634-457d-aa0d-382b6e85c225",
   "metadata": {},
   "outputs": [
    {
     "name": "stdout",
     "output_type": "stream",
     "text": [
      "8.6e+10\n",
      "3.4e+13\n"
     ]
    }
   ],
   "source": [
    "print('{:.2g}'.format(rho_bkgr))\n",
    "print('{:.2g}'.format(rho_2d_bkgr))"
   ]
  },
  {
   "cell_type": "markdown",
   "id": "9e59f244-83c0-470b-a243-99cdf75c4a34",
   "metadata": {},
   "source": [
    "## Import Files"
   ]
  },
  {
   "cell_type": "code",
   "execution_count": 5,
   "id": "92ce2910-ebfe-4bda-96ea-1d1b02457fa8",
   "metadata": {},
   "outputs": [],
   "source": [
    "halo_file = clusters_dir + 'MDPL2_halos_DS_Ngal_Dgal_lt_2_allM_z0p00.p'\n",
    "matched_halo_df = pickle.load(open(halo_file, 'rb'))"
   ]
  },
  {
   "cell_type": "code",
   "execution_count": 6,
   "id": "4a64241b-aeaf-4254-9738-72c903852254",
   "metadata": {},
   "outputs": [
    {
     "data": {
      "text/plain": [
       "scale                 float64\n",
       "id                     object\n",
       "pid                     int64\n",
       "mvir                  float64\n",
       "rvir                  float64\n",
       "x                     float64\n",
       "y                     float64\n",
       "z                     float64\n",
       "M200b                   int64\n",
       "M200c                   int64\n",
       "M500c                   int64\n",
       "Type                    int64\n",
       "GalaxyIndex             int64\n",
       "CentralGalaxyIndex      int64\n",
       "CtreesHaloID            int64\n",
       "CtreesCentralID         int64\n",
       "CentralMvir           float64\n",
       "StellarMass           float64\n",
       "Ngal                  float64\n",
       "cluster_id             object\n",
       "sigma                  object\n",
       "r_range                object\n",
       "delta_sigma            object\n",
       "dtype: object"
      ]
     },
     "execution_count": 6,
     "metadata": {},
     "output_type": "execute_result"
    }
   ],
   "source": [
    "matched_halo_df.dtypes"
   ]
  },
  {
   "cell_type": "markdown",
   "id": "83ba7c38-3e1b-447d-b232-7b0a46bba2ae",
   "metadata": {},
   "source": [
    "### Raw DS files\n"
   ]
  },
  {
   "cell_type": "code",
   "execution_count": 47,
   "id": "f8738faf-6008-4512-b4cc-5f52fcbbe4c1",
   "metadata": {},
   "outputs": [
    {
     "name": "stdout",
     "output_type": "stream",
     "text": [
      "sigma_mvir_5e13_1e14_z0p00.pkl\n",
      "sigma_mvir_1e14_2e14_z0p00.pkl\n",
      "sigma_mvir_2e14_5e14_z0p00.pkl\n",
      "sigma_mvir_5e14_1e15_z0p00.pkl\n"
     ]
    }
   ],
   "source": [
    "files = ['sigma_mvir_5e13_1e14_z0p00.pkl','sigma_mvir_1e14_2e14_z0p00.pkl','sigma_mvir_2e14_5e14_z0p00.pkl','sigma_mvir_5e14_1e15_z0p00.pkl']\n",
    "\n",
    "for file in iter(files):\n",
    "    print(file)\n",
    "    with open(data_dir+file, 'rb') as f:\n",
    "        ds_dict = pickle.load(f)\n",
    "        \n",
    "    deltasigma_tilde = np.vstack(ds_dict['delta_sigma'])\n",
    "    sigma = np.vstack(ds_dict['sigma'])\n",
    "\n",
    "    deltasigma_mod = np.zeros_like(deltasigma_tilde)\n",
    "    for i in range(len(r_cent_lin_norm)):\n",
    "        deltasigma_rbin_tilde = deltasigma_tilde[:,i] #tilde is the previous, wrong version\n",
    "        sigma_rbin = sigma[:,i]\n",
    "        sigma_avg_rbin_tilde = deltasigma_rbin_tilde + sigma_rbin ##Tilde stands for the previous, wrong version that needs to be corrected.\n",
    "\n",
    "        sigma_avg_rbin = ((sigma_avg_rbin_tilde*(r_bins_lin_norm[i]/r_bins_lin_norm[i+1])**2 - rho_2d_bkgr)/(sigma_avg_rbin_tilde - rho_2d_bkgr))*sigma_avg_rbin_tilde + rho_2d_bkgr ##Correct version\n",
    "        deltasigma_rbin = sigma_avg_rbin - sigma_rbin\n",
    "\n",
    "        #Add everything together\n",
    "        deltasigma_mod[:,i] = deltasigma_rbin\n",
    "        \n",
    "    ds_dict['delta_sigma']= deltasigma_mod\n",
    "    ds_dict['sigma']= ds_dict['sigma'] - rho_2d_bkgr\n",
    "    \n",
    "    pickle.dump(ds_dict, open(data_dir+file, \"wb\" ) )"
   ]
  },
  {
   "cell_type": "markdown",
   "id": "d196d073-d904-47bb-a109-8e800907cded",
   "metadata": {},
   "source": [
    "## Modify one file\n",
    "\n",
    "In the 1e14-2e14 z=0.00 file there is one faulty cluster deltasigma at the 339th index."
   ]
  },
  {
   "cell_type": "raw",
   "id": "41b0d3b7-545b-4c30-9123-c7dab92b6729",
   "metadata": {},
   "source": [
    "with open(data_dir+'sigma_mvir_1e14_2e14_z0p00.pkl', 'rb') as f:\n",
    "        ds_dict = pickle.load(f)"
   ]
  },
  {
   "cell_type": "raw",
   "id": "a3fb9412-3984-45d9-9160-344108672fd1",
   "metadata": {},
   "source": [
    "ds_dict['delta_sigma'][339,:]"
   ]
  },
  {
   "cell_type": "raw",
   "id": "40bfaece-ad80-4965-b289-a91494e01b91",
   "metadata": {},
   "source": [
    "ds_remove = np.delete(ds_dict['delta_sigma'], 339,axis=0)\n",
    "ds_outlier = np.mean(ds_remove,axis=0)\n",
    "np.shape(ds_outlier)"
   ]
  },
  {
   "cell_type": "raw",
   "id": "e5e8d411-24f6-46df-8385-52d0ab18655a",
   "metadata": {},
   "source": [
    "ds_cur = ds_dict['delta_sigma']\n",
    "ds_cur[339,:] = ds_outlier"
   ]
  },
  {
   "cell_type": "raw",
   "id": "2f1ca9c8-cd65-4ba8-8b4b-dfdadfcddaba",
   "metadata": {},
   "source": [
    "ds_dict['delta_sigma'] = ds_cur"
   ]
  },
  {
   "cell_type": "raw",
   "id": "fc24fd7c-673c-4a98-9c54-27dc2726ae0f",
   "metadata": {},
   "source": [
    "plt.plot(ds_dict['delta_sigma'][339,:])"
   ]
  },
  {
   "cell_type": "raw",
   "id": "4f48f70b-3eb1-4fd2-8bad-cfcd3f495c81",
   "metadata": {},
   "source": [
    " pickle.dump(ds_dict, open(data_dir+'sigma_mvir_1e14_2e14_z0p00.pkl', \"wb\" ) )"
   ]
  },
  {
   "cell_type": "code",
   "execution_count": null,
   "id": "ae14082f-d2f9-4df8-bd50-c665f056f76c",
   "metadata": {},
   "outputs": [],
   "source": []
  },
  {
   "cell_type": "code",
   "execution_count": null,
   "id": "125b533b-c2d8-4cc7-bb48-fc1c0991190a",
   "metadata": {},
   "outputs": [],
   "source": []
  },
  {
   "cell_type": "code",
   "execution_count": null,
   "id": "02a2527b-a72d-4125-82be-0108fc2354e7",
   "metadata": {},
   "outputs": [],
   "source": []
  },
  {
   "cell_type": "code",
   "execution_count": 10,
   "id": "341646cc-838d-4527-b664-1f3cb1c78c54",
   "metadata": {},
   "outputs": [],
   "source": [
    "## Obtain the DeltaSigma from the DS files previousl"
   ]
  },
  {
   "cell_type": "code",
   "execution_count": 48,
   "id": "672a5cda-6a76-4226-ba4f-9947d4ef7451",
   "metadata": {},
   "outputs": [],
   "source": [
    "clusters_z0p00_file = '/global/cscratch1/sd/zzhang13/MultiDark/MDPL2_ROCKSTAR_Halos/z0p00/' + 'MDPL2_halos_DS_Ngal_Dgal_lt_2_allM_z0p00_mod.p'"
   ]
  },
  {
   "cell_type": "code",
   "execution_count": 49,
   "id": "237ae248-d42e-4523-960f-a3d2448a047f",
   "metadata": {},
   "outputs": [],
   "source": [
    "with open(clusters_z0p00_file, 'rb') as handle:\n",
    "    matched_halo_df = pickle.load(handle)"
   ]
  },
  {
   "cell_type": "code",
   "execution_count": 58,
   "id": "f9c221e5-3f1a-4c19-9c56-c5760e673ade",
   "metadata": {},
   "outputs": [],
   "source": [
    "mass_bin_edges = [1e14, 2e14]\n",
    "mass_bins = [[mass_bin_edges[i],mass_bin_edges[i+1]] for i in range(len(mass_bin_edges)-1)]"
   ]
  },
  {
   "cell_type": "code",
   "execution_count": 59,
   "id": "3f3a4732-ef1b-4e1b-a20c-c482248dceed",
   "metadata": {},
   "outputs": [
    {
     "name": "stdout",
     "output_type": "stream",
     "text": [
      "M1e+14-2e+14, z=1.03\n",
      "sigma_mvir_5e13_1e14_z0p00.pkl\n"
     ]
    },
    {
     "ename": "ValueError",
     "evalue": "operands could not be broadcast together with shapes (500,) (431,) ",
     "output_type": "error",
     "traceback": [
      "\u001b[0;31m---------------------------------------------------------------------------\u001b[0m",
      "\u001b[0;31mValueError\u001b[0m                                Traceback (most recent call last)",
      "\u001b[0;32m/tmp/ipykernel_60459/3736775481.py\u001b[0m in \u001b[0;36m<module>\u001b[0;34m\u001b[0m\n\u001b[1;32m     19\u001b[0m         \u001b[0mDS_cur\u001b[0m \u001b[0;34m=\u001b[0m \u001b[0mnp\u001b[0m\u001b[0;34m.\u001b[0m\u001b[0mvstack\u001b[0m\u001b[0;34m(\u001b[0m\u001b[0mcur_df\u001b[0m\u001b[0;34m[\u001b[0m\u001b[0;34m'delta_sigma'\u001b[0m\u001b[0;34m]\u001b[0m\u001b[0;34m)\u001b[0m\u001b[0;34m\u001b[0m\u001b[0;34m\u001b[0m\u001b[0m\n\u001b[1;32m     20\u001b[0m         \u001b[0mds_dict\u001b[0m\u001b[0;34m[\u001b[0m\u001b[0;34m'delta_sigma'\u001b[0m\u001b[0;34m]\u001b[0m \u001b[0;34m=\u001b[0m \u001b[0mDS_cur\u001b[0m\u001b[0;34m\u001b[0m\u001b[0;34m\u001b[0m\u001b[0m\n\u001b[0;32m---> 21\u001b[0;31m         \u001b[0mprint\u001b[0m\u001b[0;34m(\u001b[0m\u001b[0mds_dict\u001b[0m\u001b[0;34m[\u001b[0m\u001b[0;34m'cluster_id'\u001b[0m\u001b[0;34m]\u001b[0m\u001b[0;34m-\u001b[0m\u001b[0mcur_df\u001b[0m\u001b[0;34m.\u001b[0m\u001b[0mcluster_id\u001b[0m\u001b[0;34m)\u001b[0m\u001b[0;34m\u001b[0m\u001b[0;34m\u001b[0m\u001b[0m\n\u001b[0m\u001b[1;32m     22\u001b[0m         \u001b[0;31m#print(cur_df.cluster_id)\u001b[0m\u001b[0;34m\u001b[0m\u001b[0;34m\u001b[0m\u001b[0;34m\u001b[0m\u001b[0m\n\u001b[1;32m     23\u001b[0m \u001b[0;34m\u001b[0m\u001b[0m\n",
      "\u001b[0;32m~/.conda/envs/myLSST/lib/python3.7/site-packages/pandas/core/generic.py\u001b[0m in \u001b[0;36m__array_ufunc__\u001b[0;34m(self, ufunc, method, *inputs, **kwargs)\u001b[0m\n\u001b[1;32m   2030\u001b[0m         \u001b[0mself\u001b[0m\u001b[0;34m,\u001b[0m \u001b[0mufunc\u001b[0m\u001b[0;34m:\u001b[0m \u001b[0mnp\u001b[0m\u001b[0;34m.\u001b[0m\u001b[0mufunc\u001b[0m\u001b[0;34m,\u001b[0m \u001b[0mmethod\u001b[0m\u001b[0;34m:\u001b[0m \u001b[0mstr\u001b[0m\u001b[0;34m,\u001b[0m \u001b[0;34m*\u001b[0m\u001b[0minputs\u001b[0m\u001b[0;34m:\u001b[0m \u001b[0mAny\u001b[0m\u001b[0;34m,\u001b[0m \u001b[0;34m**\u001b[0m\u001b[0mkwargs\u001b[0m\u001b[0;34m:\u001b[0m \u001b[0mAny\u001b[0m\u001b[0;34m\u001b[0m\u001b[0;34m\u001b[0m\u001b[0m\n\u001b[1;32m   2031\u001b[0m     ):\n\u001b[0;32m-> 2032\u001b[0;31m         \u001b[0;32mreturn\u001b[0m \u001b[0marraylike\u001b[0m\u001b[0;34m.\u001b[0m\u001b[0marray_ufunc\u001b[0m\u001b[0;34m(\u001b[0m\u001b[0mself\u001b[0m\u001b[0;34m,\u001b[0m \u001b[0mufunc\u001b[0m\u001b[0;34m,\u001b[0m \u001b[0mmethod\u001b[0m\u001b[0;34m,\u001b[0m \u001b[0;34m*\u001b[0m\u001b[0minputs\u001b[0m\u001b[0;34m,\u001b[0m \u001b[0;34m**\u001b[0m\u001b[0mkwargs\u001b[0m\u001b[0;34m)\u001b[0m\u001b[0;34m\u001b[0m\u001b[0;34m\u001b[0m\u001b[0m\n\u001b[0m\u001b[1;32m   2033\u001b[0m \u001b[0;34m\u001b[0m\u001b[0m\n\u001b[1;32m   2034\u001b[0m     \u001b[0;31m# ideally we would define this to avoid the getattr checks, but\u001b[0m\u001b[0;34m\u001b[0m\u001b[0;34m\u001b[0m\u001b[0;34m\u001b[0m\u001b[0m\n",
      "\u001b[0;32m~/.conda/envs/myLSST/lib/python3.7/site-packages/pandas/core/arraylike.py\u001b[0m in \u001b[0;36marray_ufunc\u001b[0;34m(self, ufunc, method, *inputs, **kwargs)\u001b[0m\n\u001b[1;32m    251\u001b[0m \u001b[0;34m\u001b[0m\u001b[0m\n\u001b[1;32m    252\u001b[0m     \u001b[0;31m# for binary ops, use our custom dunder methods\u001b[0m\u001b[0;34m\u001b[0m\u001b[0;34m\u001b[0m\u001b[0;34m\u001b[0m\u001b[0m\n\u001b[0;32m--> 253\u001b[0;31m     \u001b[0mresult\u001b[0m \u001b[0;34m=\u001b[0m \u001b[0mmaybe_dispatch_ufunc_to_dunder_op\u001b[0m\u001b[0;34m(\u001b[0m\u001b[0mself\u001b[0m\u001b[0;34m,\u001b[0m \u001b[0mufunc\u001b[0m\u001b[0;34m,\u001b[0m \u001b[0mmethod\u001b[0m\u001b[0;34m,\u001b[0m \u001b[0;34m*\u001b[0m\u001b[0minputs\u001b[0m\u001b[0;34m,\u001b[0m \u001b[0;34m**\u001b[0m\u001b[0mkwargs\u001b[0m\u001b[0;34m)\u001b[0m\u001b[0;34m\u001b[0m\u001b[0;34m\u001b[0m\u001b[0m\n\u001b[0m\u001b[1;32m    254\u001b[0m     \u001b[0;32mif\u001b[0m \u001b[0mresult\u001b[0m \u001b[0;32mis\u001b[0m \u001b[0;32mnot\u001b[0m \u001b[0mNotImplemented\u001b[0m\u001b[0;34m:\u001b[0m\u001b[0;34m\u001b[0m\u001b[0;34m\u001b[0m\u001b[0m\n\u001b[1;32m    255\u001b[0m         \u001b[0;32mreturn\u001b[0m \u001b[0mresult\u001b[0m\u001b[0;34m\u001b[0m\u001b[0;34m\u001b[0m\u001b[0m\n",
      "\u001b[0;32m~/.conda/envs/myLSST/lib/python3.7/site-packages/pandas/_libs/ops_dispatch.pyx\u001b[0m in \u001b[0;36mpandas._libs.ops_dispatch.maybe_dispatch_ufunc_to_dunder_op\u001b[0;34m()\u001b[0m\n",
      "\u001b[0;32m~/.conda/envs/myLSST/lib/python3.7/site-packages/pandas/core/ops/common.py\u001b[0m in \u001b[0;36mnew_method\u001b[0;34m(self, other)\u001b[0m\n\u001b[1;32m     67\u001b[0m         \u001b[0mother\u001b[0m \u001b[0;34m=\u001b[0m \u001b[0mitem_from_zerodim\u001b[0m\u001b[0;34m(\u001b[0m\u001b[0mother\u001b[0m\u001b[0;34m)\u001b[0m\u001b[0;34m\u001b[0m\u001b[0;34m\u001b[0m\u001b[0m\n\u001b[1;32m     68\u001b[0m \u001b[0;34m\u001b[0m\u001b[0m\n\u001b[0;32m---> 69\u001b[0;31m         \u001b[0;32mreturn\u001b[0m \u001b[0mmethod\u001b[0m\u001b[0;34m(\u001b[0m\u001b[0mself\u001b[0m\u001b[0;34m,\u001b[0m \u001b[0mother\u001b[0m\u001b[0;34m)\u001b[0m\u001b[0;34m\u001b[0m\u001b[0;34m\u001b[0m\u001b[0m\n\u001b[0m\u001b[1;32m     70\u001b[0m \u001b[0;34m\u001b[0m\u001b[0m\n\u001b[1;32m     71\u001b[0m     \u001b[0;32mreturn\u001b[0m \u001b[0mnew_method\u001b[0m\u001b[0;34m\u001b[0m\u001b[0;34m\u001b[0m\u001b[0m\n",
      "\u001b[0;32m~/.conda/envs/myLSST/lib/python3.7/site-packages/pandas/core/arraylike.py\u001b[0m in \u001b[0;36m__rsub__\u001b[0;34m(self, other)\u001b[0m\n\u001b[1;32m    102\u001b[0m     \u001b[0;34m@\u001b[0m\u001b[0munpack_zerodim_and_defer\u001b[0m\u001b[0;34m(\u001b[0m\u001b[0;34m\"__rsub__\"\u001b[0m\u001b[0;34m)\u001b[0m\u001b[0;34m\u001b[0m\u001b[0;34m\u001b[0m\u001b[0m\n\u001b[1;32m    103\u001b[0m     \u001b[0;32mdef\u001b[0m \u001b[0m__rsub__\u001b[0m\u001b[0;34m(\u001b[0m\u001b[0mself\u001b[0m\u001b[0;34m,\u001b[0m \u001b[0mother\u001b[0m\u001b[0;34m)\u001b[0m\u001b[0;34m:\u001b[0m\u001b[0;34m\u001b[0m\u001b[0;34m\u001b[0m\u001b[0m\n\u001b[0;32m--> 104\u001b[0;31m         \u001b[0;32mreturn\u001b[0m \u001b[0mself\u001b[0m\u001b[0;34m.\u001b[0m\u001b[0m_arith_method\u001b[0m\u001b[0;34m(\u001b[0m\u001b[0mother\u001b[0m\u001b[0;34m,\u001b[0m \u001b[0mroperator\u001b[0m\u001b[0;34m.\u001b[0m\u001b[0mrsub\u001b[0m\u001b[0;34m)\u001b[0m\u001b[0;34m\u001b[0m\u001b[0;34m\u001b[0m\u001b[0m\n\u001b[0m\u001b[1;32m    105\u001b[0m \u001b[0;34m\u001b[0m\u001b[0m\n\u001b[1;32m    106\u001b[0m     \u001b[0;34m@\u001b[0m\u001b[0munpack_zerodim_and_defer\u001b[0m\u001b[0;34m(\u001b[0m\u001b[0;34m\"__mul__\"\u001b[0m\u001b[0;34m)\u001b[0m\u001b[0;34m\u001b[0m\u001b[0;34m\u001b[0m\u001b[0m\n",
      "\u001b[0;32m~/.conda/envs/myLSST/lib/python3.7/site-packages/pandas/core/series.py\u001b[0m in \u001b[0;36m_arith_method\u001b[0;34m(self, other, op)\u001b[0m\n\u001b[1;32m   5524\u001b[0m \u001b[0;34m\u001b[0m\u001b[0m\n\u001b[1;32m   5525\u001b[0m         \u001b[0;32mwith\u001b[0m \u001b[0mnp\u001b[0m\u001b[0;34m.\u001b[0m\u001b[0merrstate\u001b[0m\u001b[0;34m(\u001b[0m\u001b[0mall\u001b[0m\u001b[0;34m=\u001b[0m\u001b[0;34m\"ignore\"\u001b[0m\u001b[0;34m)\u001b[0m\u001b[0;34m:\u001b[0m\u001b[0;34m\u001b[0m\u001b[0;34m\u001b[0m\u001b[0m\n\u001b[0;32m-> 5526\u001b[0;31m             \u001b[0mresult\u001b[0m \u001b[0;34m=\u001b[0m \u001b[0mops\u001b[0m\u001b[0;34m.\u001b[0m\u001b[0marithmetic_op\u001b[0m\u001b[0;34m(\u001b[0m\u001b[0mlvalues\u001b[0m\u001b[0;34m,\u001b[0m \u001b[0mrvalues\u001b[0m\u001b[0;34m,\u001b[0m \u001b[0mop\u001b[0m\u001b[0;34m)\u001b[0m\u001b[0;34m\u001b[0m\u001b[0;34m\u001b[0m\u001b[0m\n\u001b[0m\u001b[1;32m   5527\u001b[0m \u001b[0;34m\u001b[0m\u001b[0m\n\u001b[1;32m   5528\u001b[0m         \u001b[0;32mreturn\u001b[0m \u001b[0mself\u001b[0m\u001b[0;34m.\u001b[0m\u001b[0m_construct_result\u001b[0m\u001b[0;34m(\u001b[0m\u001b[0mresult\u001b[0m\u001b[0;34m,\u001b[0m \u001b[0mname\u001b[0m\u001b[0;34m=\u001b[0m\u001b[0mres_name\u001b[0m\u001b[0;34m)\u001b[0m\u001b[0;34m\u001b[0m\u001b[0;34m\u001b[0m\u001b[0m\n",
      "\u001b[0;32m~/.conda/envs/myLSST/lib/python3.7/site-packages/pandas/core/ops/array_ops.py\u001b[0m in \u001b[0;36marithmetic_op\u001b[0;34m(left, right, op)\u001b[0m\n\u001b[1;32m    222\u001b[0m         \u001b[0m_bool_arith_check\u001b[0m\u001b[0;34m(\u001b[0m\u001b[0mop\u001b[0m\u001b[0;34m,\u001b[0m \u001b[0mleft\u001b[0m\u001b[0;34m,\u001b[0m \u001b[0mright\u001b[0m\u001b[0;34m)\u001b[0m\u001b[0;34m\u001b[0m\u001b[0;34m\u001b[0m\u001b[0m\n\u001b[1;32m    223\u001b[0m \u001b[0;34m\u001b[0m\u001b[0m\n\u001b[0;32m--> 224\u001b[0;31m         \u001b[0mres_values\u001b[0m \u001b[0;34m=\u001b[0m \u001b[0m_na_arithmetic_op\u001b[0m\u001b[0;34m(\u001b[0m\u001b[0mleft\u001b[0m\u001b[0;34m,\u001b[0m \u001b[0mright\u001b[0m\u001b[0;34m,\u001b[0m \u001b[0mop\u001b[0m\u001b[0;34m)\u001b[0m\u001b[0;34m\u001b[0m\u001b[0;34m\u001b[0m\u001b[0m\n\u001b[0m\u001b[1;32m    225\u001b[0m \u001b[0;34m\u001b[0m\u001b[0m\n\u001b[1;32m    226\u001b[0m     \u001b[0;32mreturn\u001b[0m \u001b[0mres_values\u001b[0m\u001b[0;34m\u001b[0m\u001b[0;34m\u001b[0m\u001b[0m\n",
      "\u001b[0;32m~/.conda/envs/myLSST/lib/python3.7/site-packages/pandas/core/ops/array_ops.py\u001b[0m in \u001b[0;36m_na_arithmetic_op\u001b[0;34m(left, right, op, is_cmp)\u001b[0m\n\u001b[1;32m    164\u001b[0m \u001b[0;34m\u001b[0m\u001b[0m\n\u001b[1;32m    165\u001b[0m     \u001b[0;32mtry\u001b[0m\u001b[0;34m:\u001b[0m\u001b[0;34m\u001b[0m\u001b[0;34m\u001b[0m\u001b[0m\n\u001b[0;32m--> 166\u001b[0;31m         \u001b[0mresult\u001b[0m \u001b[0;34m=\u001b[0m \u001b[0mfunc\u001b[0m\u001b[0;34m(\u001b[0m\u001b[0mleft\u001b[0m\u001b[0;34m,\u001b[0m \u001b[0mright\u001b[0m\u001b[0;34m)\u001b[0m\u001b[0;34m\u001b[0m\u001b[0;34m\u001b[0m\u001b[0m\n\u001b[0m\u001b[1;32m    167\u001b[0m     \u001b[0;32mexcept\u001b[0m \u001b[0mTypeError\u001b[0m\u001b[0;34m:\u001b[0m\u001b[0;34m\u001b[0m\u001b[0;34m\u001b[0m\u001b[0m\n\u001b[1;32m    168\u001b[0m         \u001b[0;32mif\u001b[0m \u001b[0mis_object_dtype\u001b[0m\u001b[0;34m(\u001b[0m\u001b[0mleft\u001b[0m\u001b[0;34m)\u001b[0m \u001b[0;32mor\u001b[0m \u001b[0mis_object_dtype\u001b[0m\u001b[0;34m(\u001b[0m\u001b[0mright\u001b[0m\u001b[0;34m)\u001b[0m \u001b[0;32mand\u001b[0m \u001b[0;32mnot\u001b[0m \u001b[0mis_cmp\u001b[0m\u001b[0;34m:\u001b[0m\u001b[0;34m\u001b[0m\u001b[0;34m\u001b[0m\u001b[0m\n",
      "\u001b[0;32m~/.conda/envs/myLSST/lib/python3.7/site-packages/pandas/core/computation/expressions.py\u001b[0m in \u001b[0;36mevaluate\u001b[0;34m(op, a, b, use_numexpr)\u001b[0m\n\u001b[1;32m    237\u001b[0m         \u001b[0;32mif\u001b[0m \u001b[0muse_numexpr\u001b[0m\u001b[0;34m:\u001b[0m\u001b[0;34m\u001b[0m\u001b[0;34m\u001b[0m\u001b[0m\n\u001b[1;32m    238\u001b[0m             \u001b[0;31m# error: \"None\" not callable\u001b[0m\u001b[0;34m\u001b[0m\u001b[0;34m\u001b[0m\u001b[0;34m\u001b[0m\u001b[0m\n\u001b[0;32m--> 239\u001b[0;31m             \u001b[0;32mreturn\u001b[0m \u001b[0m_evaluate\u001b[0m\u001b[0;34m(\u001b[0m\u001b[0mop\u001b[0m\u001b[0;34m,\u001b[0m \u001b[0mop_str\u001b[0m\u001b[0;34m,\u001b[0m \u001b[0ma\u001b[0m\u001b[0;34m,\u001b[0m \u001b[0mb\u001b[0m\u001b[0;34m)\u001b[0m  \u001b[0;31m# type: ignore[misc]\u001b[0m\u001b[0;34m\u001b[0m\u001b[0;34m\u001b[0m\u001b[0m\n\u001b[0m\u001b[1;32m    240\u001b[0m     \u001b[0;32mreturn\u001b[0m \u001b[0m_evaluate_standard\u001b[0m\u001b[0;34m(\u001b[0m\u001b[0mop\u001b[0m\u001b[0;34m,\u001b[0m \u001b[0mop_str\u001b[0m\u001b[0;34m,\u001b[0m \u001b[0ma\u001b[0m\u001b[0;34m,\u001b[0m \u001b[0mb\u001b[0m\u001b[0;34m)\u001b[0m\u001b[0;34m\u001b[0m\u001b[0;34m\u001b[0m\u001b[0m\n\u001b[1;32m    241\u001b[0m \u001b[0;34m\u001b[0m\u001b[0m\n",
      "\u001b[0;32m~/.conda/envs/myLSST/lib/python3.7/site-packages/pandas/core/computation/expressions.py\u001b[0m in \u001b[0;36m_evaluate_numexpr\u001b[0;34m(op, op_str, a, b)\u001b[0m\n\u001b[1;32m    126\u001b[0m \u001b[0;34m\u001b[0m\u001b[0m\n\u001b[1;32m    127\u001b[0m     \u001b[0;32mif\u001b[0m \u001b[0mresult\u001b[0m \u001b[0;32mis\u001b[0m \u001b[0;32mNone\u001b[0m\u001b[0;34m:\u001b[0m\u001b[0;34m\u001b[0m\u001b[0;34m\u001b[0m\u001b[0m\n\u001b[0;32m--> 128\u001b[0;31m         \u001b[0mresult\u001b[0m \u001b[0;34m=\u001b[0m \u001b[0m_evaluate_standard\u001b[0m\u001b[0;34m(\u001b[0m\u001b[0mop\u001b[0m\u001b[0;34m,\u001b[0m \u001b[0mop_str\u001b[0m\u001b[0;34m,\u001b[0m \u001b[0ma\u001b[0m\u001b[0;34m,\u001b[0m \u001b[0mb\u001b[0m\u001b[0;34m)\u001b[0m\u001b[0;34m\u001b[0m\u001b[0;34m\u001b[0m\u001b[0m\n\u001b[0m\u001b[1;32m    129\u001b[0m \u001b[0;34m\u001b[0m\u001b[0m\n\u001b[1;32m    130\u001b[0m     \u001b[0;32mreturn\u001b[0m \u001b[0mresult\u001b[0m\u001b[0;34m\u001b[0m\u001b[0;34m\u001b[0m\u001b[0m\n",
      "\u001b[0;32m~/.conda/envs/myLSST/lib/python3.7/site-packages/pandas/core/computation/expressions.py\u001b[0m in \u001b[0;36m_evaluate_standard\u001b[0;34m(op, op_str, a, b)\u001b[0m\n\u001b[1;32m     67\u001b[0m     \u001b[0;32mif\u001b[0m \u001b[0m_TEST_MODE\u001b[0m\u001b[0;34m:\u001b[0m\u001b[0;34m\u001b[0m\u001b[0;34m\u001b[0m\u001b[0m\n\u001b[1;32m     68\u001b[0m         \u001b[0m_store_test_result\u001b[0m\u001b[0;34m(\u001b[0m\u001b[0;32mFalse\u001b[0m\u001b[0;34m)\u001b[0m\u001b[0;34m\u001b[0m\u001b[0;34m\u001b[0m\u001b[0m\n\u001b[0;32m---> 69\u001b[0;31m     \u001b[0;32mreturn\u001b[0m \u001b[0mop\u001b[0m\u001b[0;34m(\u001b[0m\u001b[0ma\u001b[0m\u001b[0;34m,\u001b[0m \u001b[0mb\u001b[0m\u001b[0;34m)\u001b[0m\u001b[0;34m\u001b[0m\u001b[0;34m\u001b[0m\u001b[0m\n\u001b[0m\u001b[1;32m     70\u001b[0m \u001b[0;34m\u001b[0m\u001b[0m\n\u001b[1;32m     71\u001b[0m \u001b[0;34m\u001b[0m\u001b[0m\n",
      "\u001b[0;32m~/.conda/envs/myLSST/lib/python3.7/site-packages/pandas/core/roperator.py\u001b[0m in \u001b[0;36mrsub\u001b[0;34m(left, right)\u001b[0m\n\u001b[1;32m     11\u001b[0m \u001b[0;34m\u001b[0m\u001b[0m\n\u001b[1;32m     12\u001b[0m \u001b[0;32mdef\u001b[0m \u001b[0mrsub\u001b[0m\u001b[0;34m(\u001b[0m\u001b[0mleft\u001b[0m\u001b[0;34m,\u001b[0m \u001b[0mright\u001b[0m\u001b[0;34m)\u001b[0m\u001b[0;34m:\u001b[0m\u001b[0;34m\u001b[0m\u001b[0;34m\u001b[0m\u001b[0m\n\u001b[0;32m---> 13\u001b[0;31m     \u001b[0;32mreturn\u001b[0m \u001b[0mright\u001b[0m \u001b[0;34m-\u001b[0m \u001b[0mleft\u001b[0m\u001b[0;34m\u001b[0m\u001b[0;34m\u001b[0m\u001b[0m\n\u001b[0m\u001b[1;32m     14\u001b[0m \u001b[0;34m\u001b[0m\u001b[0m\n\u001b[1;32m     15\u001b[0m \u001b[0;34m\u001b[0m\u001b[0m\n",
      "\u001b[0;31mValueError\u001b[0m: operands could not be broadcast together with shapes (500,) (431,) "
     ]
    }
   ],
   "source": [
    "from scipy import stats\n",
    "nBootstrap = 5\n",
    "X_params = ['T/|U|', 'c_vir', 'Halfmass_Scale', 'Acc_Rate_2*Tdyn']\n",
    "#X_params = ['c_vir', 'Acc_Rate_2*Tdyn']\n",
    "\n",
    "#fig, axs = plt.subplots(4,3,figsize=(20,20), tight_layout=True)\n",
    "\n",
    "for i, cur_mass_bin in enumerate(mass_bins):\n",
    "        mass_min = cur_mass_bin[0]; mass_max = cur_mass_bin[1]\n",
    "        print('M{:.2g}-{:.2g}, z={:.2f}'.format(mass_min, mass_max, 1/cur_a_bin-1))\n",
    "        print(files[i])\n",
    "        \n",
    "        with open(data_dir+file, 'rb') as f:\n",
    "            ds_dict = pickle.load(f)\n",
    "        \n",
    "        mask = (matched_halo_df.mvir >= mass_min) & (matched_halo_df.mvir < mass_max)\n",
    "        cur_df = matched_halo_df[mask]\n",
    "        \n",
    "        DS_cur = np.vstack(cur_df['delta_sigma'])\n",
    "        ds_dict['delta_sigma'] = DS_cur\n",
    "        print(ds_dict['cluster_id']-cur_df.cluster_id)\n",
    "        #print(cur_df.cluster_id)\n",
    "        \n",
    "        \n",
    "#axs[0,0].legend(loc='lower left')\n",
    "\n",
    "#plt.savefig('cov_time_formation.png')\n",
    "#plt.show()"
   ]
  },
  {
   "cell_type": "code",
   "execution_count": null,
   "id": "e29b777b-36f5-48dc-932d-dfd3ae224600",
   "metadata": {},
   "outputs": [],
   "source": []
  },
  {
   "cell_type": "markdown",
   "id": "b98b93fe-5255-4b40-9868-ccb3f0c2a956",
   "metadata": {},
   "source": [
    "## Modification of the DataFrame"
   ]
  },
  {
   "cell_type": "markdown",
   "id": "122c156e-4bb8-4f8f-809c-c2fa405a69da",
   "metadata": {},
   "source": [
    "### Changing radius definition\n",
    "\n",
    "This needs to be done before changing removing the background density from Sigma. \n",
    "\n",
    "We are looking for the 2D density after correcting for the fact that particles are computed inside a circle of radius $R + \\Delta R$ but initially the density was computed in a circle of radius $R$. The $\\Sigma$ here is computed as the total density = overdensity + background. So we need to be careful here, since the background density does not change by increasing the radius. \n",
    "\n",
    "The background density is removed from Sigma in the next step. That needs to be done after this step or else you will get an error. This gives the correct $\\Delta\\Sigma$ even with no background subtraction since both terms in the substraction include the background and they cancel out. \n",
    "\n",
    "In the re-run, I remove the background density before hand and correct the radius definition of the circle so no need for this correction. \n",
    "\n",
    "$A^* = \\pi*R^2$\n",
    "\n",
    "$A = \\pi*(R+\\Delta R)^2$\n",
    "\n",
    "$\\rho_{2d}(<R) = \\Sigma(<R) + b$, where b is the background 2D density of the universe. \n",
    "\n",
    "$\\rho_{2d}(<R + \\Delta R) = \\Sigma(< R + \\Delta R) + b$\n",
    "\n",
    "$\\frac{\\Sigma}{\\Sigma^*} = \\frac{\\rho_{2d}^*A^*/A -b}{\\rho_{2d}^* -b} $\n",
    "\n",
    "$\\rho_{2d} = \\frac{\\Sigma}{\\Sigma^*} \\times \\Sigma^* + b$\n",
    "\n",
    "$\\rho_{2d}$ the total 2d density is the term\n"
   ]
  },
  {
   "cell_type": "code",
   "execution_count": 18,
   "id": "91cf8124-5dde-48c5-a3f6-e7312edd8695",
   "metadata": {},
   "outputs": [],
   "source": []
  },
  {
   "cell_type": "code",
   "execution_count": 19,
   "id": "eb230e47-c576-4b36-84b3-688c99f3c6b4",
   "metadata": {},
   "outputs": [],
   "source": []
  },
  {
   "cell_type": "code",
   "execution_count": 20,
   "id": "b3ba021e-6d91-41fb-a42a-efc5b6eab6ba",
   "metadata": {},
   "outputs": [],
   "source": []
  },
  {
   "cell_type": "code",
   "execution_count": null,
   "id": "dbe2b9fc-a0fc-46fe-842f-c8d2a22c10f2",
   "metadata": {},
   "outputs": [],
   "source": []
  },
  {
   "cell_type": "raw",
   "id": "4ea6b638-2af3-4772-a458-d9349cb3fcee",
   "metadata": {},
   "source": [
    "deltasigma_tilde = np.vstack(matched_halo_df['delta_sigma'])\n",
    "sigma = np.vstack(matched_halo_df['sigma'])\n",
    "\n",
    "deltasigma_mod = np.zeros_like(deltasigma_tilde)\n",
    "for i in range(len(r_cent_lin_norm)):\n",
    "    deltasigma_rbin_tilde = deltasigma_tilde[:,i] #tilde is the previous, wrong version\n",
    "    sigma_rbin = sigma[:,i]\n",
    "    sigma_avg_rbin_tilde = deltasigma_rbin_tilde + sigma_rbin ##Tilde stands for the previous, wrong version that needs to be corrected.\n",
    "    \n",
    "    sigma_avg_rbin = ((sigma_avg_rbin_tilde*(r_bins_lin_norm[i]/r_bins_lin_norm[i+1])**2 - rho_2d_bkgr)/(sigma_avg_rbin_tilde - rho_2d_bkgr))*sigma_avg_rbin_tilde + rho_2d_bkgr ##Correct version\n",
    "    deltasigma_rbin = sigma_avg_rbin - sigma_rbin\n",
    "    \n",
    "    #Add everything together\n",
    "    deltasigma_mod[:,i] = deltasigma_rbin"
   ]
  },
  {
   "cell_type": "raw",
   "id": "874c1411-2a06-4a26-a657-d5c7fade6c3c",
   "metadata": {},
   "source": [
    "print(deltasigma_mod, np.shape(deltasigma_mod))"
   ]
  },
  {
   "cell_type": "raw",
   "id": "5e88b161-eb78-4500-a88c-3f1a23a17b64",
   "metadata": {},
   "source": [
    "for i in range(len(deltasigma_mod)):\n",
    "    matched_halo_df['delta_sigma'].iloc[i] = deltasigma_mod[i,:]"
   ]
  },
  {
   "cell_type": "raw",
   "id": "46d1e469-9a6a-4b3b-9562-5c74c45f8a18",
   "metadata": {},
   "source": [
    "matched_halo_df['delta_sigma']"
   ]
  },
  {
   "cell_type": "markdown",
   "id": "1c5198cc-084a-4259-adcb-d51d4d54665d",
   "metadata": {},
   "source": [
    "### Removing background from the Sigma files. "
   ]
  },
  {
   "cell_type": "raw",
   "id": "80499beb-5103-4d4e-989c-563b1f11ad33",
   "metadata": {},
   "source": [
    "matched_halo_df['sigma'] = matched_halo_df['sigma'] - rho_2d_bkgr"
   ]
  },
  {
   "cell_type": "markdown",
   "id": "c95dc5fd-10dd-45cb-b17b-af4134ea1c36",
   "metadata": {},
   "source": [
    "## Comparison with theory curves"
   ]
  },
  {
   "cell_type": "code",
   "execution_count": 21,
   "id": "2ece89e7-065d-40b9-9c66-8c0412a6c1c5",
   "metadata": {},
   "outputs": [
    {
     "name": "stdout",
     "output_type": "stream",
     "text": [
      "Note: redshifts have been re-sorted (earliest first)\n"
     ]
    }
   ],
   "source": [
    "import camb\n",
    "from camb import model, initialpower\n",
    "\n",
    "#Set cosmological parameters\n",
    "pars = camb.CAMBparams()\n",
    "pars.set_cosmology(H0=67.77, ombh2=0.022, omch2=0.122)\n",
    "pars.set_dark_energy(w=-1.0)\n",
    "pars.InitPower.set_params(ns=0.965)\n",
    "\n",
    "#This sets the k limits and specifies redshifts\n",
    "pars.set_matter_power(redshifts=[0., 0.8], kmax=2.0)\n",
    "\n",
    "#Linear P(k)\n",
    "pars.NonLinear = model.NonLinear_none\n",
    "results = camb.get_results(pars)\n",
    "kh, z, pk = results.get_matter_power_spectrum(minkh=1e-4, maxkh=1, npoints = 1000)\n",
    "\n",
    "#Note: the above function has the maxkh argument for specifying a different\n",
    "#kmax than was used above.\n",
    "#Note: pk has the shape (N_z, N_k)\n",
    "\n",
    "#Non-Linear spectra (Halofit)\n",
    "pars.NonLinear = model.NonLinear_both\n",
    "results.calc_power_spectra(pars)\n",
    "khnl, znl, pknl = results.get_matter_power_spectrum(minkh=1e-4, maxkh=1, npoints = 1000)"
   ]
  },
  {
   "cell_type": "code",
   "execution_count": 22,
   "id": "f088df6f-c579-4a36-ad7b-3f162a7f8cf5",
   "metadata": {},
   "outputs": [],
   "source": [
    "import cluster_toolkit"
   ]
  },
  {
   "cell_type": "code",
   "execution_count": 35,
   "id": "77a0ffa3-2fd0-477c-b944-68229dc9e878",
   "metadata": {},
   "outputs": [],
   "source": [
    "## Universal parameters\n",
    "radii = np.logspace(-2, 3, 1000) #Mpc/h comoving\n",
    "R_perp = np.logspace(-2, 2.4, 1000) #Mpc/h comoving; distance on the sky\n",
    "mass =2e14 #Msun/h\n",
    "concentration = 6 #arbitrary\n",
    "Omega_m = 0.307"
   ]
  },
  {
   "cell_type": "code",
   "execution_count": 36,
   "id": "89208e84-efea-4dfc-bb0b-d425caed0c57",
   "metadata": {},
   "outputs": [],
   "source": [
    "from cluster_toolkit import xi\n",
    "import numpy as np\n",
    "\n",
    "xi_nfw = xi.xi_nfw_at_r(radii, mass, concentration, Omega_m)"
   ]
  },
  {
   "cell_type": "code",
   "execution_count": 37,
   "id": "494d34bf-38e2-4c6b-bc3c-27ef00b9600b",
   "metadata": {},
   "outputs": [],
   "source": [
    "from cluster_toolkit import xi\n",
    "import numpy as np\n",
    "#Assume that k and P come from somewhere, e.g. CAMB or CLASS\n",
    "xi_mm = xi.xi_mm_at_r(radii, kh, pk)"
   ]
  },
  {
   "cell_type": "code",
   "execution_count": 38,
   "id": "d401655b-dae1-40ee-9f4a-be3cf2935dac",
   "metadata": {},
   "outputs": [],
   "source": [
    "from cluster_toolkit import xi\n",
    "from cluster_toolkit import bias\n",
    "import numpy as np\n",
    "\n",
    "#Assume that k and P come from somewhere, e.g. CAMB or CLASS\n",
    "xi_mm = xi.xi_mm_at_r(radii, kh, pk)\n",
    "#Assume that k and P_linear came from somewhere, e.g. CAMB or CLASS\n",
    "bias = bias.bias_at_M(mass, kh, pk, Omega_m)\n",
    "xi_2halo = xi.xi_2halo(bias, xi_mm)"
   ]
  },
  {
   "cell_type": "code",
   "execution_count": 39,
   "id": "bf203ca7-5847-4c5e-9059-2f6e4237ee3e",
   "metadata": {},
   "outputs": [],
   "source": [
    "from cluster_toolkit import xi\n",
    "#Calculate 1-halo and 2-halo terms here\n",
    "xi_hm = xi.xi_hm(xi_nfw, xi_2halo)"
   ]
  },
  {
   "cell_type": "code",
   "execution_count": 40,
   "id": "6463e535-8d2f-43bd-80dd-68e1cc7676c4",
   "metadata": {},
   "outputs": [
    {
     "data": {
      "image/png": "[encoded data removed]",
      "text/plain": [
       "<Figure size 432x288 with 1 Axes>"
      ]
     },
     "metadata": {
      "needs_background": "light"
     },
     "output_type": "display_data"
    }
   ],
   "source": [
    "xi_approx_2halo = 10*(radii/4.7)**(-1.77)\n",
    "\n",
    "plt.plot(radii, xi_hm, label='Combined')\n",
    "plt.plot(radii, xi_nfw, label='NFW', linestyle='dotted')\n",
    "plt.plot(radii, xi_2halo, label='2 halo', linestyle='dotted')\n",
    "plt.plot(radii, xi_approx_2halo, label = 'approx', linestyle='dotted')\n",
    "plt.xscale('log')\n",
    "plt.yscale('log')\n",
    "plt.legend()\n",
    "plt.show()"
   ]
  },
  {
   "cell_type": "code",
   "execution_count": 41,
   "id": "b79558c5-d62f-4580-af8a-33c76f5b5347",
   "metadata": {},
   "outputs": [],
   "source": [
    "from cluster_toolkit import deltasigma\n",
    "\n",
    "#Assume that radii and xi_hm are computed here\n",
    "Sigma = deltasigma.Sigma_at_R(R_perp, radii, xi_hm, mass, concentration, Omega_m)"
   ]
  },
  {
   "cell_type": "code",
   "execution_count": 42,
   "id": "9e7a13bd-2787-406d-bfbe-b6b9682ffd69",
   "metadata": {},
   "outputs": [],
   "source": [
    "from cluster_toolkit import deltasigma\n",
    "Sigma_nfw = deltasigma.Sigma_nfw_at_R(R_perp, mass, concentration, Omega_m)"
   ]
  },
  {
   "cell_type": "code",
   "execution_count": 43,
   "id": "019b5c2d-99be-40c4-ae37-12969a37e3d0",
   "metadata": {},
   "outputs": [],
   "source": [
    "from cluster_toolkit import deltasigma\n",
    "\n",
    "DeltaSigma_theory = deltasigma.DeltaSigma_at_R(R_perp, R_perp, Sigma, mass, concentration, Omega_m)"
   ]
  },
  {
   "cell_type": "code",
   "execution_count": 44,
   "id": "c5a400e2-419f-429b-bda1-a7f1f4368414",
   "metadata": {},
   "outputs": [
    {
     "data": {
      "image/png": "[encoded data removed]",
      "text/plain": [
       "<Figure size 432x288 with 1 Axes>"
      ]
     },
     "metadata": {
      "needs_background": "light"
     },
     "output_type": "display_data"
    }
   ],
   "source": [
    "## Plotting all mass bins\n",
    "\n",
    "#Computing the correlation and covariance for individual mass bins\n",
    "DS_cur = np.vstack(ds_dict['delta_sigma'])\n",
    "    \n",
    "plt.errorbar(r_cent_lin_norm, np.mean(ds_dict['delta_sigma'],axis=0), yerr = np.std(DS_cur,axis=0), label='[{:.2g}, {:.2g})'.format(mass_min, mass_max), linewidth=2, alpha=0.5)\n",
    "#plt.plot(r_cent_lin_norm, np.mean(deltasigma_raw,axis=0)) \n",
    "    \n",
    "plt.plot(R_perp/1.7, DeltaSigma_theory*1e12 , label='theory')\n",
    "#DS_all = np.vstack(matched_halo_df['delta_sigma'])\n",
    "#plt.errorbar(r_cent_lin_norm, np.mean(DS_all,axis=0), yerr = np.std(DS_all,axis=0), label='All', linewidth=2, alpha=1)\n",
    "\n",
    "plt.yscale('log')\n",
    "plt.xscale('log')\n",
    "plt.xlabel(r'$R/R_{\\rm vir}$', fontsize=14)\n",
    "#plt.legend()\n",
    "plt.show()"
   ]
  },
  {
   "cell_type": "raw",
   "id": "72830213-e3bd-4695-8d37-0419a53a63f0",
   "metadata": {},
   "source": [
    "np.mean(DS_all,axis=0)## Plotting all mass bins\n",
    "for cur_bin in iter(mass_bins):\n",
    "    #Filter current mass bin\n",
    "    mass_min = cur_bin[0]; mass_max = cur_bin[1]\n",
    "    filt = (matched_halo_df.mvir >= mass_min) & (matched_halo_df.mvir < mass_max)\n",
    "    cur_df = matched_halo_df[filt]\n",
    "\n",
    "    #Computing the correlation and covariance for individual mass bins\n",
    "    Sigma_cur = np.vstack(cur_df['sigma'])\n",
    "    \n",
    "    plt.errorbar(r_cent_lin_norm, np.mean(cur_df['sigma'],axis=0), yerr = np.std(DS_cur,axis=0), label='[{:.2g}, {:.2g})'.format(mass_min, mass_max), linewidth=2, alpha=0.5)\n",
    "    \n",
    "plt.plot(R_perp/1.7, Sigma*1e12 , label='theory')\n",
    "Sigma_all = np.vstack(matched_halo_df['sigma'])\n",
    "plt.errorbar(r_cent_lin_norm, np.mean(Sigma_all,axis=0), yerr = np.std(Sigma_all,axis=0), label='All', linewidth=2, alpha=1)\n",
    "\n",
    "plt.yscale('log')\n",
    "plt.xscale('log')\n",
    "plt.xlabel(r'$R/R_{\\rm vir}$', fontsize=14)\n",
    "plt.legend()\n",
    "plt.show()"
   ]
  },
  {
   "cell_type": "code",
   "execution_count": 28,
   "id": "6dd25aa2-b999-4bec-9877-92b165a08641",
   "metadata": {},
   "outputs": [],
   "source": [
    "### look into the problematic 1e14-2e14 DeltaSigma at index 17"
   ]
  },
  {
   "cell_type": "raw",
   "id": "da791f25-cbcc-4232-acc9-656f6a70516f",
   "metadata": {},
   "source": [
    "np.mean(DS_all,axis=0)## Plotting all mass bins\n",
    "for cur_bin in iter(mass_bins):\n",
    "    #Filter current mass bin\n",
    "    mass_min = cur_bin[0]; mass_max = cur_bin[1]\n",
    "    filt = (matched_halo_df.mvir >= mass_min) & (matched_halo_df.mvir < mass_max)\n",
    "    cur_df = matched_halo_df[filt]\n",
    "\n",
    "    #Computing the correlation and covariance for individual mass bins\n",
    "    Sigma_cur_rbin = np.vstack(cur_df['sigma'])[:,1]\n",
    "\n",
    "    plt.hist(np.log10(Sigma_cur_rbin), density=True, label='[{:.2g}, {:.2g})'.format(mass_min, mass_max), alpha=0.5)\n",
    "    \n",
    "Sigma_all_rbin = np.vstack(matched_halo_df['sigma'])[:,1]\n",
    "plt.hist(np.log10(Sigma_all_rbin), density=True, label='All'.format(mass_min, mass_max), alpha=0.5)\n",
    "\n",
    "plt.xlabel(r'$\\Sigma$')\n",
    "plt.legend()\n",
    "plt.show()"
   ]
  },
  {
   "cell_type": "markdown",
   "id": "54b7e956-f54e-4743-b891-4f898340af8f",
   "metadata": {},
   "source": [
    "## Saving the files"
   ]
  },
  {
   "cell_type": "code",
   "execution_count": 42,
   "id": "19722819-dd34-4260-9788-27512f9aa294",
   "metadata": {},
   "outputs": [],
   "source": [
    "pickle.dump(matched_halo_df, open( clusters_dir+ \"MDPL2_halos_DS_Ngal_Dgal_lt_2_allM_z0p00_mod.p\", \"wb\" ) )"
   ]
  },
  {
   "cell_type": "code",
   "execution_count": null,
   "id": "120711be-1ac1-4868-82b5-e7019e0b0b7a",
   "metadata": {},
   "outputs": [],
   "source": []
  }
 ],
 "metadata": {
  "kernelspec": {
   "display_name": "myLSST",
   "language": "python",
   "name": "mylsst"
  },
  "language_info": {
   "codemirror_mode": {
    "name": "ipython",
    "version": 3
   },
   "file_extension": ".py",
   "mimetype": "text/x-python",
   "name": "python",
   "nbconvert_exporter": "python",
   "pygments_lexer": "ipython3",
   "version": "3.7.12"
  }
 },
 "nbformat": 4,
 "nbformat_minor": 5
}
