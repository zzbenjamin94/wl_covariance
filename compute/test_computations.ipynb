{
 "cells": [
  {
   "cell_type": "code",
   "execution_count": 1,
   "id": "42a56fbb-ffec-40f1-b255-d52b3370a9fd",
   "metadata": {},
   "outputs": [],
   "source": [
    "import numpy as np\n",
    "import matplotlib.pyplot as plt"
   ]
  },
  {
   "cell_type": "code",
   "execution_count": 5,
   "id": "2638f836-1132-4cb4-b0f4-fe69c939b1fb",
   "metadata": {},
   "outputs": [
    {
     "name": "stdout",
     "output_type": "stream",
     "text": [
      "4\n"
     ]
    },
    {
     "data": {
      "image/png": "[encoded data removed]",
      "text/plain": [
       "<Figure size 432x288 with 1 Axes>"
      ]
     },
     "metadata": {
      "needs_background": "light"
     },
     "output_type": "display_data"
    }
   ],
   "source": [
    "size = 4\n",
    "\n",
    "test = np.random.rand(411,48,52,40) #Create array of random numbers\n",
    "outputData = np.zeros(np.shape(test))\n",
    "split = np.array_split(test,size,axis = 0) #Split input array by the number of available cores\n",
    "print(len(split))\n",
    "\n",
    "split_sizes = []\n",
    "\n",
    "for i in range(0,len(split),1):\n",
    "    split_sizes = np.append(split_sizes, len(split[i]))\n",
    "\n",
    "displacements = np.insert(np.cumsum(split_sizes),0,0)[0:-1]\n",
    "\n",
    "plt.imshow(test[0,0,:,:])\n",
    "plt.show()"
   ]
  },
  {
   "cell_type": "code",
   "execution_count": 6,
   "id": "6cbb0b6f-0c48-422c-b979-aed049898f37",
   "metadata": {},
   "outputs": [],
   "source": [
    "size = 4\n",
    "x_len = 21; y_len = 19\n",
    "sigma = np.zeros((x_len, y_len))"
   ]
  },
  {
   "cell_type": "code",
   "execution_count": 15,
   "id": "98392c56-0642-4c2f-912c-b78c0bf02826",
   "metadata": {},
   "outputs": [],
   "source": [
    "split = np.array_split(sigma, size, axis=0)\n",
    "np.shape(split[3])\n",
    "\n",
    "\n",
    "split_sizes = []\n",
    "\n",
    "for i in range(0,len(split),1):\n",
    "    split_sizes = np.append(split_sizes, len(split[i]))\n",
    "\n",
    "displacements = np.insert(np.cumsum(split_sizes),0,0)[0:-1]"
   ]
  },
  {
   "cell_type": "code",
   "execution_count": 16,
   "id": "686b146f-c624-4c76-b6a3-12a0425689a2",
   "metadata": {},
   "outputs": [
    {
     "name": "stdout",
     "output_type": "stream",
     "text": [
      "[ 0.  6. 11. 16.]\n"
     ]
    }
   ],
   "source": [
    "print(displacements)"
   ]
  },
  {
   "cell_type": "code",
   "execution_count": 18,
   "id": "1a0b3472-4824-4510-9f25-efea926ecc31",
   "metadata": {},
   "outputs": [
    {
     "name": "stdout",
     "output_type": "stream",
     "text": [
      "Input data split into vectors of sizes [32768. 32768. 32768. 32768.]\n",
      "Input data split with displacements of [  0.  64. 128. 192.]\n"
     ]
    },
    {
     "data": {
      "image/png": "[encoded data removed]",
      "text/plain": [
       "<Figure size 432x288 with 2 Axes>"
      ]
     },
     "metadata": {
      "needs_background": "light"
     },
     "output_type": "display_data"
    }
   ],
   "source": [
    "if 0 == 0:\n",
    "    test = np.arange(0,512,dtype='float64')\n",
    "    test = np.tile(test,[256,1]) #Create 2D input array. Numbers 1 to 512 increment across dimension 2.\n",
    "    outputData = np.zeros([256,512]) #Create output array of same size\n",
    "    split = np.array_split(test,size,axis = 0) #Split input array by the number of available cores\n",
    "\n",
    "    split_sizes = []\n",
    "\n",
    "    for i in range(0,len(split),1):\n",
    "        split_sizes = np.append(split_sizes, len(split[i]))\n",
    "\n",
    "    split_sizes_input = split_sizes*512\n",
    "    displacements_input = np.insert(np.cumsum(split_sizes),0,0)[0:-1]\n",
    "\n",
    "    split_sizes_output = split_sizes*512\n",
    "    displacements_output = np.insert(np.cumsum(split_sizes_output),0,0)[0:-1]\n",
    "\n",
    "\n",
    "    print(\"Input data split into vectors of sizes %s\" %split_sizes_input)\n",
    "    print(\"Input data split with displacements of %s\" %displacements_input)\n",
    "\n",
    "    plt.imshow(test)\n",
    "    plt.colorbar()\n",
    "    plt.title('Input data')\n",
    "    plt.show()\n"
   ]
  },
  {
   "cell_type": "code",
   "execution_count": 20,
   "id": "16fd394e-dc2f-48ce-884a-d5464222300b",
   "metadata": {},
   "outputs": [
    {
     "data": {
      "text/plain": [
       "0.0"
      ]
     },
     "execution_count": 20,
     "metadata": {},
     "output_type": "execute_result"
    }
   ],
   "source": [
    "displacements_input = np.insert(np.cumsum(split_sizes),0,0)\n",
    "displacements_input[0]"
   ]
  },
  {
   "cell_type": "code",
   "execution_count": null,
   "id": "05500834-1f7e-4178-a024-7cc3ce9bde1e",
   "metadata": {},
   "outputs": [],
   "source": []
  }
 ],
 "metadata": {
  "kernelspec": {
   "display_name": "myLSST",
   "language": "python",
   "name": "mylsst"
  },
  "language_info": {
   "codemirror_mode": {
    "name": "ipython",
    "version": 3
   },
   "file_extension": ".py",
   "mimetype": "text/x-python",
   "name": "python",
   "nbconvert_exporter": "python",
   "pygments_lexer": "ipython3",
   "version": "3.7.12"
  }
 },
 "nbformat": 4,
 "nbformat_minor": 5
}
