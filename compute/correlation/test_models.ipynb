{
 "cells": [
  {
   "cell_type": "code",
   "execution_count": 23,
   "id": "ba51471e-1ddc-477a-a688-bf33bdc1e72a",
   "metadata": {},
   "outputs": [],
   "source": [
    "from scipy.stats import kde\n",
    "import h5py\n",
    "import astropy.io.fits as fits\n",
    "import csv\n",
    "import pandas as pd\n",
    "import numpy as np\n",
    "import tables\n",
    "import pickle\n",
    "import os\n",
    "from astropy.table import Table\n",
    "from astropy.coordinates import SkyCoord\n",
    "from tqdm import tqdm\n",
    "from astropy.io import ascii\n",
    "import os\n",
    "import pandas as pd\n",
    "import matplotlib.pyplot as plt\n",
    "import seaborn as sns\n",
    "import incredible as cr\n",
    "from scipy.special import erf\n",
    "from scipy import stats\n",
    "import scipy.optimize as opt\n",
    "from scipy import stats\n",
    "import scipy.optimize as opt\n",
    "import emcee\n",
    "import tqdm"
   ]
  },
  {
   "cell_type": "code",
   "execution_count": 3,
   "id": "4853db06-b107-449e-9b1c-b9f9db821e95",
   "metadata": {},
   "outputs": [],
   "source": [
    "import warnings\n",
    "warnings.filterwarnings(\"ignore\")"
   ]
  },
  {
   "cell_type": "code",
   "execution_count": 6,
   "id": "e4add969-ea30-4fa6-a47d-86d45ff36ea0",
   "metadata": {},
   "outputs": [],
   "source": [
    "import sys\n",
    "sys.path.append('/global/u1/z/zzhang13')\n",
    "from kllr.kllr.regression_model import *\n",
    "from kllr.kllr.regression_plotting import *\n",
    "from kllr.kllr.calc_cov_KLLR import *"
   ]
  },
  {
   "cell_type": "code",
   "execution_count": 4,
   "id": "bdff927c-29c3-40b4-bb0c-e9767d5efdd2",
   "metadata": {},
   "outputs": [],
   "source": [
    "chains_dir = '/global/homes/z/zzhang13/BaryonPasting/CorrelatedStructures/multiDark/data/chains/'\n",
    "datadir = '/global/homes/z/zzhang13/BaryonPasting/CorrelatedStructures/multiDark/data/'\n",
    "plot_dir = '/global/homes/z/zzhang13/BaryonPasting/CorrelatedStructures/multiDark/plots/'"
   ]
  },
  {
   "cell_type": "code",
   "execution_count": 5,
   "id": "663b2026-9bbf-49f6-a806-12b38674961a",
   "metadata": {},
   "outputs": [
    {
     "data": {
      "text/plain": [
       "Index(['scale', 'CtreesHaloID', 'pid', 'mvir', 'rvir', 'rs', 'x', 'y', 'z',\n",
       "       'Mmvir_all', 'M200b', 'M200c', 'M500c', 'T/|U|', 'Halfmass_Scale',\n",
       "       'Acc_Rate_Inst', 'Acc_Rate_100Myr', 'Acc_Rate_1*Tdyn',\n",
       "       'Acc_Rate_2*Tdyn', 'Acc_Rate_Mpeak', 'c_vir', 'R200c', 'R500c',\n",
       "       'redshift', 'Ngal_Dsep_1', 'Ngal_Rvir', 'Ngal_R200c', 'Ngal_R500c',\n",
       "       'sigma', 'r_range', 'delta_sigma'],\n",
       "      dtype='object')"
      ]
     },
     "execution_count": 5,
     "metadata": {},
     "output_type": "execute_result"
    }
   ],
   "source": [
    "with open(datadir + 'MDPL2_DS_Rvir_SAGE_Ngal_allM_allz.p', 'rb') as handle:\n",
    "    matched_halo_df = pickle.load(handle)\n",
    "matched_halo_df.columns"
   ]
  },
  {
   "cell_type": "code",
   "execution_count": 32,
   "id": "a5e31961-4204-4f72-a330-b8cdeea486b0",
   "metadata": {},
   "outputs": [],
   "source": [
    "'''\n",
    "Uniform priors on tau, gamma and height. Log uniform (1/s) prior on s. \n",
    "Input: p as len(4) or (4,N) array with N being the posterior sample.\n",
    "Output: Log prior proabability in same dimensions as p\n",
    "'''\n",
    "def lnprior(p):\n",
    "    tau = p[0]; gamma = p[1]; height = p[2]; scale = p[3]\n",
    "    \n",
    "    #Uniform prior ranges\n",
    "    tau_uniform = (tau > 0) & (tau < 10)\n",
    "    gamma_uniform = (gamma > -5) & (gamma < 5)\n",
    "    h_uniform = (height > -2) & (height < 1)\n",
    "    s_uniform = (scale/1e12 > 1e-2) & (scale/1e12 < 10)\n",
    "    \n",
    "    filt = tau_uniform & gamma_uniform & h_uniform & s_uniform\n",
    "    lnp = np.zeros_like(tau, dtype=float)\n",
    "    lnp[~filt] = -np.inf\n",
    "    lnp[filt] = -np.log(scale) ##Uniform log prior\n",
    "    \n",
    "    return lnp\n",
    "\n",
    "'''\n",
    "Gaussian likelihood with heterodescitic errors\n",
    "\n",
    "Input:\n",
    "p: 4-parameters of dimensions (4) or (4,N) with N the array of posterior samples\n",
    "model: functional model for the fit (see functions below)\n",
    "x: x data vector\n",
    "y: y data vector\n",
    "err: error on the y data vector\n",
    "\n",
    "Returns:\n",
    "lp: log probability of dimensions (N)\n",
    "'''\n",
    "def lnlike(p, model, x, y, err):\n",
    "    # the likelihood is sum of the lot of normal distributions\n",
    "    x = x[:,np.newaxis]\n",
    "    y = y[:,np.newaxis]\n",
    "    err = err[:,np.newaxis]\n",
    "    \n",
    "    fit = model(p,x)\n",
    "    if np.any(np.isnan(fit)):\n",
    "        return -np.inf\n",
    "\n",
    "    denom = np.power(err,2)\n",
    "    lp = -0.5*np.sum(np.power((y - fit),2)/denom + np.log(denom) + np.log(2*np.pi), axis=0)\n",
    "    lp = np.nan_to_num(lp, nan=-np.inf)\n",
    "    return lp\n",
    "\n",
    "\n",
    "'''\n",
    "Posterior likelihood. Calls lnlike() and lnprior().\n",
    "\n",
    "Input:\n",
    "p: 4-parameters of dimensions (4) or (4,N) with N the array of posterior samples\n",
    "model: functional model for the fit (see functions below)\n",
    "x: x data vector\n",
    "y: y data vector\n",
    "err: error on the y data vector\n",
    "\n",
    "Returns:\n",
    "lp: log probability of dimensions (N)\n",
    "'''\n",
    "def lnprob(p, model, x, y, err):\n",
    "    lp = lnprior(p)\n",
    "\n",
    "    return lp + lnlike(p, model, x, y, err)\n",
    "    \n",
    "    \n",
    "    \n",
    "    \n",
    "def model_logistics(p, x):\n",
    "    tau = p[0]; gamma = p[1]; height = p[2]; scale = p[3]\n",
    "    x_tilde = (x-gamma)/tau\n",
    "    model = scale * (2./(1 + np.exp(-2*x_tilde)) -1 + height)\n",
    "    return model\n",
    "\n",
    "def model_logistics_gen(p, x):\n",
    "    tau = p[0]; gamma = p[1]; height = p[2]; scale = p[3]; k=p[4]\n",
    "    alpha = -np.log(2**(1./k)-1)\n",
    "    x_tilde = (x-gamma)/tau\n",
    "    \n",
    "    model = scale* (2*(1/(1+np.exp(-(2*x_tilde+alpha)))**k)-1 + height)\n",
    "    return model\n",
    "\n",
    "def model_algebraic_gen(p,x):\n",
    "    tau = p[0]; gamma = p[1]; height = p[2]; scale = p[3]; k = p[4]\n",
    "    x_tilde = (x-gamma)/tau\n",
    "\n",
    "    model = scale* (x_tilde/(1 + np.abs(x_tilde)**k)**(1./k) + height)\n",
    "    return model\n",
    "\n",
    "def model_algebraic_2nd(p,x):\n",
    "    tau = p[0]; gamma = p[1]; height = p[2]; scale = p[3]\n",
    "    x_tilde = (x-gamma)/tau\n",
    "    model = scale* (x_tilde/(1 + np.abs(x_tilde)**2)**(1./2) + height)\n",
    "    return model\n",
    "\n",
    "def model_erf(p,x):\n",
    "    tau = p[0]; gamma = p[1]; height = p[2]; scale = p[3]\n",
    "    x_tilde = (x-gamma)/tau\n",
    "    model = scale* (erf(np.sqrt(np.pi)/2*x_tilde) + height)\n",
    "    return model\n",
    "\n",
    "def model_arctan(p,x):\n",
    "    tau = p[0]; gamma = p[1]; height = p[2]; scale = p[3]\n",
    "    x_tilde = (x-gamma)/tau\n",
    "    model = scale* (2/np.pi*np.arctan(np.pi/2*x_tilde) + height)\n",
    "    return model\n"
   ]
  },
  {
   "cell_type": "code",
   "execution_count": 10,
   "id": "44c9dd0d-0f24-4802-9566-40803eccbb5f",
   "metadata": {},
   "outputs": [],
   "source": [
    "model_dict ={'logistics':{'Ndim':4, 'model_func':model_logistics, 'x0':[0.5, -0.5, -1, 1e12], 'x_final:':[],\n",
    "                         },\n",
    "             \n",
    "             #'logistics_gen':{'Ndim':5, 'model_func': model_logistics_gen, 'x0':[0.5, -0.5, -1, 1.5e12, 1], 'x_final:':[],\n",
    "             #            },\n",
    "             \n",
    "             'algebraic_2nd':{'Ndim':4, 'model_func':model_algebraic_2nd, 'x0':[0.5, -0.5, -1, 1e12], 'x_final:':[],\n",
    "                         },\n",
    "             \n",
    "             #'algebraic_gen':{'Ndim':5, 'model_func':model_algebraic_gen, 'x0':[0.5, -0.5, -1, 1.5e12, 1], 'x_final:':[],\n",
    "             #           },\n",
    "             \n",
    "             'arctan':{'Ndim':4, 'model_func':model_arctan, 'x0':[0.5, -0.5, -1, 1e12], 'x_final:':[],\n",
    "                         },\n",
    "             \n",
    "             'erf':{'Ndim':4, 'model_func':model_erf, 'x0':[0.5, -0.5, -1, 1e12], 'x_final:':[],\n",
    "                         }\n",
    "            }"
   ]
  },
  {
   "cell_type": "code",
   "execution_count": 11,
   "id": "249efe9f-55d5-424c-8b87-4e713a4b498c",
   "metadata": {},
   "outputs": [],
   "source": [
    "## Testing the file properties. \n",
    "r_bins_log_norm = np.linspace(-1,1,21)\n",
    "r_bins_lin_norm = 10**r_bins_log_norm\n",
    "r_cent_log_norm= (r_bins_log_norm[1:] + r_bins_log_norm[:-1])/2\n",
    "r_cent_lin_norm = 10**r_cent_log_norm"
   ]
  },
  {
   "cell_type": "code",
   "execution_count": 15,
   "id": "12b78f20-2492-4dbf-9112-9be0dbb67d50",
   "metadata": {},
   "outputs": [
    {
     "name": "stdout",
     "output_type": "stream",
     "text": [
      "M1e+14-2e+14, z=0.49, 500\n"
     ]
    }
   ],
   "source": [
    "nBootstrap = 10\n",
    "mass_min = 1e14; mass_max =2e14\n",
    "cur_a_bin = 0.6712\n",
    "\n",
    "mask = (matched_halo_df.mvir >= mass_min) & (matched_halo_df.mvir < mass_max) & (matched_halo_df.scale == cur_a_bin) \n",
    "cur_df = matched_halo_df[mask]\n",
    "print('M{:.2g}-{:.2g}, z={:.2f}, {}'.format(mass_min, mass_max, 1/cur_a_bin-1, len(cur_df)))\n",
    "            \n",
    "##Computing the Covariance##\n",
    "##Compute Cov. and error total\n",
    "xline, output = calc_cov_KLLR(np.log10(np.array(cur_df['M200c'],dtype=float)) , np.array(np.vstack(cur_df['delta_sigma']), dtype=float), \\\n",
    "                                np.log10(np.array(cur_df['Ngal_Dsep_1'],dtype=float)), nBootstrap=nBootstrap)\n",
    "cov_ds_ngal_kllr = output['covariance']\n",
    "cov_mean_kllr = np.mean(cov_ds_ngal_kllr, axis=0)\n",
    "cov_err_kllr = np.std(cov_ds_ngal_kllr, axis=0)\n",
    "        \n",
    "##Data vector for chains\n",
    "x_data = r_cent_log_norm; y_data = cov_mean_kllr; y_err = cov_err_kllr"
   ]
  },
  {
   "cell_type": "code",
   "execution_count": 16,
   "id": "1e11f9cf-106a-4c8b-9b30-c266e5fb13de",
   "metadata": {},
   "outputs": [
    {
     "name": "stdout",
     "output_type": "stream",
     "text": [
      "erf\n"
     ]
    }
   ],
   "source": [
    "for k,v in model_dict.items():\n",
    "    if k != 'erf': continue\n",
    "    print(k)\n",
    "    Ndim = v['Ndim']\n",
    "    model = v['model_func']\n",
    "    x0 = v['x0']"
   ]
  },
  {
   "cell_type": "code",
   "execution_count": 20,
   "id": "1a94bb40-c379-4e44-a793-b9930cf8d384",
   "metadata": {},
   "outputs": [],
   "source": [
    "Nwalkers = 50\n",
    "Nsample = int(1e4)\n",
    "\n",
    "mass_min = 5e14; mass_max = 1e15\n",
    "cur_a_bin = 0.6712\n",
    "\n",
    "redshift = 1/cur_a_bin - 1\n",
    "redshift_str = '{:.2f}'.format(redshift)\n",
    "redshift_str = redshift_str.replace('.','p')"
   ]
  },
  {
   "cell_type": "code",
   "execution_count": 34,
   "id": "ebc6726e-e1f8-4529-8a7c-06e4926462f0",
   "metadata": {},
   "outputs": [],
   "source": [
    "p0 = np.array([x0*(1.0 + 0.01*np.random.randn(Ndim)) for j in range(Nwalkers)])"
   ]
  },
  {
   "cell_type": "code",
   "execution_count": 35,
   "id": "96dd91b1-55ee-4609-a345-3c165653ed8c",
   "metadata": {},
   "outputs": [
    {
     "name": "stderr",
     "output_type": "stream",
     "text": [
      "100%|██████████| 10000/10000 [01:01<00:00, 163.06it/s]\n"
     ]
    },
    {
     "data": {
      "text/plain": [
       "State([[ 3.80495989e-01 -5.89267743e-01 -1.00251829e+00  5.50384349e+11]\n",
       " [ 8.78786208e-01 -1.62464967e+00 -9.96638848e-01  3.08741076e+12]\n",
       " [ 8.38412884e-01 -1.30776079e+00 -9.87827941e-01  1.62935947e+12]\n",
       " [ 7.37471140e-01 -1.14980247e+00 -9.89956344e-01  1.34160788e+12]\n",
       " [ 1.06838613e+00 -1.72411129e+00 -9.93979343e-01  2.25792739e+12]\n",
       " [ 3.89059305e-01 -6.47115276e-01 -9.90866396e-01  5.48586137e+11]\n",
       " [ 7.80434236e-01 -1.34854081e+00 -9.97018108e-01  2.11867514e+12]\n",
       " [ 9.26269160e-01 -1.50505448e+00 -9.94527502e-01  1.99486708e+12]\n",
       " [ 9.46520383e-01 -1.71583335e+00 -1.00079298e+00  2.93328408e+12]\n",
       " [ 8.74642922e-01 -1.60271886e+00 -9.95080778e-01  3.33601795e+12]\n",
       " [ 6.81724530e-01 -1.01988884e+00 -9.97594372e-01  1.27103414e+12]\n",
       " [ 9.12201211e-01 -1.76924218e+00 -9.99262280e-01  4.50524239e+12]\n",
       " [ 8.60197291e-01 -1.35064799e+00 -9.91354167e-01  1.61432944e+12]\n",
       " [ 5.93929382e-01 -8.23834775e-01 -9.93995184e-01  8.70683449e+11]\n",
       " [ 8.45083746e-01 -1.39251926e+00 -9.92830579e-01  1.88511712e+12]\n",
       " [ 7.05535532e-01 -1.12672922e+00 -9.92551001e-01  1.45302850e+12]\n",
       " [ 5.46152053e-01 -7.34467324e-01 -9.95419943e-01  6.15483260e+11]\n",
       " [ 9.17941952e-01 -1.82452088e+00 -9.98821507e-01  4.37203885e+12]\n",
       " [ 6.76253748e-01 -1.18968125e+00 -9.95259876e-01  1.66956992e+12]\n",
       " [ 6.70843911e-01 -1.00363565e+00 -9.90000218e-01  1.07556670e+12]\n",
       " [ 7.34891061e-01 -1.23977114e+00 -9.97040522e-01  1.84469736e+12]\n",
       " [ 8.32206932e-01 -1.28085747e+00 -9.93499223e-01  1.60382632e+12]\n",
       " [ 4.51748368e-01 -5.91121606e-01 -9.85539187e-01  5.97809938e+11]\n",
       " [ 9.72347521e-01 -1.73956038e+00 -9.96424207e-01  3.07524939e+12]\n",
       " [ 7.81971798e-01 -1.26236410e+00 -9.90024316e-01  1.70076475e+12]\n",
       " [ 4.90518392e-01 -7.51246457e-01 -9.95534465e-01  8.13485365e+11]\n",
       " [ 9.12912012e-01 -1.71010411e+00 -9.97196504e-01  3.97339208e+12]\n",
       " [ 6.55958735e-01 -1.04454184e+00 -9.90006476e-01  1.39245220e+12]\n",
       " [ 6.99525414e-01 -1.16151169e+00 -9.94636739e-01  1.58318552e+12]\n",
       " [ 6.54105224e-01 -8.47949608e-01 -9.82643789e-01  7.49462107e+11]\n",
       " [ 5.30531082e-01 -6.67427667e-01 -9.83097768e-01  5.67369271e+11]\n",
       " [ 6.10187692e-01 -8.50300862e-01 -1.00141406e+00  8.52843234e+11]\n",
       " [ 1.14336091e+00 -2.10776730e+00 -9.95738835e-01  4.64559179e+12]\n",
       " [ 4.86193287e-01 -7.40262449e-01 -1.00078341e+00  7.65914158e+11]\n",
       " [ 7.52486312e-01 -1.10627237e+00 -9.93228282e-01  1.10850687e+12]\n",
       " [ 1.10280829e+00 -2.35036541e+00 -9.98110850e-01  8.96691131e+12]\n",
       " [ 7.17740256e-01 -1.02313067e+00 -9.98437421e-01  9.03229218e+11]\n",
       " [ 6.62708137e-01 -9.82313383e-01 -9.89570466e-01  1.23997863e+12]\n",
       " [ 8.60981131e-01 -1.59270217e+00 -9.94758697e-01  3.31941917e+12]\n",
       " [ 3.34705727e-01 -6.28240495e-01 -9.98811823e-01  6.08292421e+11]\n",
       " [ 7.17710199e-01 -8.99844103e-01 -9.84500734e-01  8.23499431e+11]\n",
       " [ 8.94755265e-01 -1.76880159e+00 -9.99425094e-01  5.09511174e+12]\n",
       " [ 7.68509437e-01 -1.28385411e+00 -9.97950899e-01  1.89033295e+12]\n",
       " [ 4.92273350e-01 -6.38353851e-01 -9.95803317e-01  5.75028218e+11]\n",
       " [ 1.00423774e+00 -1.75370126e+00 -9.94901195e-01  3.03319245e+12]\n",
       " [ 5.21859366e-01 -7.90993143e-01 -9.93258074e-01  8.72664895e+11]\n",
       " [ 4.31480517e-01 -6.37110397e-01 -9.97597943e-01  5.61080564e+11]\n",
       " [ 6.87719048e-01 -1.03824497e+00 -9.88889020e-01  1.09807681e+12]\n",
       " [ 7.92213278e-01 -1.07449316e+00 -9.86096504e-01  1.12972298e+12]\n",
       " [ 4.53518132e-01 -6.86219792e-01 -9.94427702e-01  6.16907399e+11]], log_prob=[-546.40419977 -546.68202522 -547.77340717 -546.29668628 -549.98284394\n",
       " -548.22146678 -545.7186817  -547.1418719  -551.99291394 -547.2565114\n",
       " -548.06614728 -547.45282336 -546.8530954  -546.43098134 -546.43605427\n",
       " -545.60603521 -546.48566693 -548.27385194 -547.1800781  -545.60921689\n",
       " -545.81734813 -546.20871555 -548.25758683 -546.94633443 -546.97507556\n",
       " -546.37105509 -546.3334291  -547.49416906 -545.64181103 -546.68967911\n",
       " -546.55370694 -547.82795459 -548.01711978 -546.45997892 -546.5793302\n",
       " -549.62149122 -548.98826797 -547.89699739 -548.07971683 -548.22486341\n",
       " -547.56998426 -548.53041577 -546.20840241 -546.36559934 -546.90534867\n",
       " -546.23334731 -545.96643004 -546.30134777 -547.67993029 -546.04686747], blobs=[], random_state=('MT19937', array([ 943148005,  895558472, 3255292316, 2026548208, 1777203184,\n",
       "       3227889345, 3517092315, 1425289712,  211954527,  592061381,\n",
       "       3273195937, 2814186866, 3073296950, 3647528680, 3301559737,\n",
       "       4209776671, 3258734500, 3160614450, 1686928430, 2916996009,\n",
       "       3118863594, 1520408427, 1189931049,  877302527, 2589251629,\n",
       "       4174503800, 4268244479, 1298990718, 3899442151,  360169591,\n",
       "       3917428415, 2366840247, 2368752924,  713041353, 3654585189,\n",
       "       1991073711, 3466154840, 2075021843, 2309768741, 3433702493,\n",
       "       1954226158,  303702278,   59597966, 2099417788, 3044730726,\n",
       "       4087892556,  697156603,  216738627,   30956617, 3670388697,\n",
       "       3070045059, 2233720693, 2219081968, 3202789676, 2512584906,\n",
       "       2373533573,  548760131, 1160652566, 3996859156, 3667401664,\n",
       "        651238284,  162027964, 4275166952, 3673129880, 1327324270,\n",
       "       2123040813, 1588273894, 2746227867, 1847165857, 3370310009,\n",
       "       2440916559,  574407095, 1849415921,  993634800, 3765324996,\n",
       "       3262066413,  800716278, 2214379446, 3663161411,  746008032,\n",
       "       3547456659, 4072430051, 2984168029, 2042855352, 3441070503,\n",
       "       4161109232, 3886016647, 1816866247,  616453671,   66155865,\n",
       "       1341546031, 2890333223, 2722583996,  452690222, 3161100807,\n",
       "        379963399, 3844116943, 2017197864, 3662937233,  907976400,\n",
       "        889581881, 3475821233,   67530816, 3890772689,   58407363,\n",
       "       2652373214, 2353887879, 4051935083, 2451033340, 2794569597,\n",
       "       4186550895, 3742675123, 3451164099, 2418911600, 2854475973,\n",
       "        827425200,  563371496, 2897483232,  518215718,   73852924,\n",
       "       2734911877,  855369105, 4267241212, 1403512937,  620066407,\n",
       "       3092124928, 2927935191, 2097699643, 2046581928, 2074248936,\n",
       "       1404865325,  426240834, 2431324487, 4205626004, 4155217867,\n",
       "       1222035805, 2738361744, 1293723238, 3373449389, 2486453349,\n",
       "       3863209926, 3825482013, 2159207964, 3906512568, 4267443237,\n",
       "       1495348739,  957158226,  330774750,  220250166, 2169222528,\n",
       "       1774652147, 3563681097,   69926153,  250053060, 2256868114,\n",
       "       3546102470,  250810827,  749490796, 2187954658, 4020524352,\n",
       "        977541097, 3373586590, 2482013251, 3548888185, 1880673771,\n",
       "        576651753, 2064310599,  366408308, 2756999040, 3875210356,\n",
       "       2906556339, 3883886318, 3168929837, 1392512122,  747076717,\n",
       "       3400798979, 1264589353, 2611340687, 3510500979,  338324340,\n",
       "       1281030750, 3544252027, 3860558522, 4105210824, 2130245824,\n",
       "       2404909246, 1420607319,  731729311, 3158440779, 1203100379,\n",
       "       3257918250, 3686686461, 4157061144, 2427889112, 3155995127,\n",
       "        547890762, 3112123932, 2388741124, 2267284128,  280170831,\n",
       "       3617939579, 3198500610, 1617178507, 3204588186, 1715404554,\n",
       "        139085578,  158071751, 3636096960,  383617951, 1732486543,\n",
       "       3517695950, 4083729562, 3883421550, 2434594980, 1708911876,\n",
       "       2310857957,   60524554, 3737640576, 1031688027,   86692306,\n",
       "       3297336327, 3589290326, 1383469968, 2659388787, 1081025945,\n",
       "       2972792499, 1186403221, 1782622842,  941992056, 1420484737,\n",
       "       2912130170,  572598791, 1622055106, 3932174489, 3734045482,\n",
       "        313653471, 1918763939, 2433508981, 1957394804,  621880916,\n",
       "        867555701,  748923938, 3206167755, 2529329366, 1948465020,\n",
       "       1435164003,   46455397, 3748487914, 2586230353, 1627956997,\n",
       "       1811558048,  851485697, 2874096485, 1188509321, 1292944840,\n",
       "       3378848688,   59293290,  972375686, 3862207455, 1170961144,\n",
       "       2001355190, 4263663445, 4060195014, 1083382641, 2645852996,\n",
       "       3547640075, 2614635360, 2089855184, 2915694091, 3717563426,\n",
       "       1508377060, 3319472464, 2322469548, 2723802532, 3594727889,\n",
       "       3345824177, 3108778173,  179828973,  780490337,   40651261,\n",
       "       2681637683, 1720398751, 3380846093,   43844961, 3820730410,\n",
       "        416744189,  970640823,  231052265, 3791108050, 2001063183,\n",
       "       1547507670, 3580680978, 3460002667, 3648313698,  152750131,\n",
       "        508869757, 2237672948, 1668136777,  653659849, 2730419060,\n",
       "       3786035583,  339350013,  429602882, 3717648207, 2088464170,\n",
       "       4102786281,  443039744, 3733872627, 2682680826, 2009807790,\n",
       "       1608823682, 1794603852,  771023824, 1482533339, 2921404374,\n",
       "        688946163,  600317112, 2424740045,  442272987, 2611501357,\n",
       "       1902368838,  858610571,   79547165, 2386473636, 3360155023,\n",
       "       2168584935,  472830757, 1220780351, 1193517909, 3059445221,\n",
       "       3869383983, 2912230540, 1010301151,  510237561, 2753054797,\n",
       "       2673263832, 3619556250, 1111695313, 1961909034,  372342145,\n",
       "       3417468103, 1497129963,  658764357,  372409712, 3340114728,\n",
       "       3720731282, 1464013477, 2611909735, 3937682904, 4078436510,\n",
       "       1896624408, 2221691536, 1091251707, 1308591170, 2745313633,\n",
       "       2356111454, 1951063847, 2284991053, 3692341506, 2452934342,\n",
       "       1975101244, 3850260422,  366933738, 1580073888, 2546416978,\n",
       "       2059501713, 4013515255,  331144959, 2327403580,  906753384,\n",
       "       3970386018, 1685820571, 2490618326, 3908685583,  354241173,\n",
       "       1439315407, 1210913671,  473954074, 3174671369, 3621235230,\n",
       "       1039864924, 3106127995, 3156504243, 2456353356, 1249128762,\n",
       "        534072240, 2668048164, 2047649729, 1880780452,  775576783,\n",
       "        113075417, 1264207632,  277149554, 1621717463, 3779020420,\n",
       "       1471874403, 1198928563,  760344332,  677117746,  251330202,\n",
       "       2946121186, 4236706816,  629132763,  979952199, 4099941464,\n",
       "       2152641253, 1813283100, 2056067200, 3591420776, 2646255722,\n",
       "        312238712,  814025054, 3952884143, 3428287313,   10598069,\n",
       "       3922245142, 2041907393,  335946037, 2861411440, 2986342851,\n",
       "       3913425116, 1522857997, 4249787990, 3340066720, 3339224954,\n",
       "       1898830122, 1987738955, 2689908747,  106216426, 1219723505,\n",
       "       1596778815, 1610027547, 2657153140, 3933924470, 3356107316,\n",
       "       3009894983, 2780252717, 2219140880,  734259248, 1560100289,\n",
       "        269123042,  141052521, 1817953448, 1072142944, 3265927559,\n",
       "       1037058870, 4274897983, 4088885344, 1072497582, 1140977825,\n",
       "       1936341418,  177982188, 3691428374, 3501320430, 2714477471,\n",
       "       3219523237,  636617170,  419372329, 2327831921,  428915249,\n",
       "       1711192114,  882282781,  172804148,  656994586, 3171718411,\n",
       "        902464372,  127861703, 1847057003,  460275731,  504668309,\n",
       "       2245743262,  812098712,   51718696, 3849730232, 3959831075,\n",
       "       3562085084, 2359111597, 4196827497,  611801608,  684230797,\n",
       "       2148410698, 2542303112, 2080214962, 3284863363, 1014602545,\n",
       "       4243806751,    4339751, 3926326560, 3242326117, 1943327577,\n",
       "       3924512012, 3911674705, 3603148913, 1779215301, 2714797942,\n",
       "       3853592272, 4010224167, 4253380011, 1630959016, 2394200927,\n",
       "       3419126830, 2869983964, 4067529910,  951386211,   27285766,\n",
       "       2855737719, 3947699400, 3106952620, 2843490795, 2884941015,\n",
       "        652417600,  889623534,  279149709,  499080413, 3560965415,\n",
       "       3007448660, 3172486297, 3166104963, 4237782357, 3172180009,\n",
       "       1335129093, 2324844956,  399125087, 2554126085, 2933670212,\n",
       "       1871007528,  409649016,  429702587, 2253315574, 2844725372,\n",
       "        943505276, 2549271367, 2108135358, 2754859491,  809099998,\n",
       "        761414802,  563308463, 2679659892, 3120087721, 1554595300,\n",
       "       1782870617, 3582515238, 3731084885, 1640386182, 2232270373,\n",
       "       2834047822, 2121179794, 1523260287, 3789433281,  136339432,\n",
       "       2221378952, 3377299046,  767767178,  402011985, 2707355167,\n",
       "       3846615811, 2451003080, 4126574649, 2115485845, 2802164629,\n",
       "       3672691798, 1940755188, 4113946028, 1423546699, 2158906854,\n",
       "       2058813370, 2558547777,   20685759, 3064638333,  966933117,\n",
       "        215715364,  114200746, 1234068601,  838084543, 3472229486,\n",
       "       3263854285, 1550298802, 2806755555, 1584243291, 3464762170,\n",
       "        585320470, 2151746611, 4073811027, 3285172155, 1157847449,\n",
       "       3810874210,  462062460, 3031395585, 1998686429,  133545880,\n",
       "       3847946841,  227690353, 1697718884, 2852264462, 2975933681,\n",
       "       4042636718, 4034181593, 3132690648, 1111809830, 1511948849,\n",
       "       1022834075,  473847138, 3167791669, 3354315348,  537051785,\n",
       "        254332510, 2315215305, 3499099271, 4252726170, 2484050926,\n",
       "         24760145, 2321701303,  785128176, 2899362976, 2140572510,\n",
       "        714307633, 2090098830, 2104391401,  883164112, 3157547528,\n",
       "        433296080, 1377354949, 1129290177, 3261409182], dtype=uint32), 580, 0, 0.0))"
      ]
     },
     "execution_count": 35,
     "metadata": {},
     "output_type": "execute_result"
    }
   ],
   "source": [
    "# Initialize the sampler        \n",
    "sampler = emcee.EnsembleSampler(Nwalkers, Ndim, lnprob,\n",
    "                    args=(model, x_data, y_data, y_err)) ##No backend\n",
    "        \n",
    "sampler.run_mcmc(p0, Nsample, progress=True) "
   ]
  },
  {
   "cell_type": "code",
   "execution_count": 38,
   "id": "5a93c358-4911-416c-b248-c58c1dcd5497",
   "metadata": {},
   "outputs": [],
   "source": [
    "chain = sampler.get_chain(flat=False, thin=1000, discard=500)"
   ]
  },
  {
   "cell_type": "code",
   "execution_count": 39,
   "id": "ec261c0a-8144-40ff-b400-61d816fe20c9",
   "metadata": {},
   "outputs": [],
   "source": [
    "def check_chains(chain, burn=0, maxlag=1000):\n",
    "    '''\n",
    "    Ignoring `burn` samples from the front of each chain, compute convergence criteria and\n",
    "    effective number of samples.\n",
    "    '''\n",
    "    nsteps, nwalk, npars = chain.shape\n",
    "    if burn >= nsteps: return\n",
    "    tmp_samples = [chain[burn:,i,:] for i in range(nwalk)]\n",
    "    print('R =', cr.GelmanRubinR(tmp_samples))\n",
    "    #print('neff =', cr.effective_samples(tmp_samples, maxlag=maxlag))\n",
    "    #print('NB: Since walkers are not independent, these will be optimistic!')\n",
    "    return"
   ]
  },
  {
   "cell_type": "code",
   "execution_count": 40,
   "id": "b8746ea3-85ba-43ab-a2fe-803f252bde00",
   "metadata": {},
   "outputs": [
    {
     "name": "stdout",
     "output_type": "stream",
     "text": [
      "R = [1.0120617  1.00420617 0.98407244 0.99751427]\n"
     ]
    }
   ],
   "source": [
    "check_chains(chain)"
   ]
  },
  {
   "cell_type": "code",
   "execution_count": 45,
   "id": "0ba392b8-3a95-495a-bc72-ecf8bc29cf3a",
   "metadata": {},
   "outputs": [],
   "source": [
    "flatchain = chain.reshape((-1,4)).T"
   ]
  },
  {
   "cell_type": "code",
   "execution_count": 46,
   "id": "9c973fdb-7b5d-4d23-9ac8-eaaa634bc0bb",
   "metadata": {},
   "outputs": [
    {
     "data": {
      "image/png": "[encoded data removed]",
      "text/plain": [
       "<Figure size 698.4x698.4 with 16 Axes>"
      ]
     },
     "metadata": {
      "needs_background": "light"
     },
     "output_type": "display_data"
    }
   ],
   "source": [
    "import corner\n",
    "tmp = corner.corner(flatchain.T, labels=['gamma', 'tau', 'h', r'$10^{12}\\times s$'],\n",
    "                    quantiles=[0.16, 0.5, 0.84],\n",
    "                    show_titles=True,\n",
    "                    title_kwargs={\"fontsize\": 12},\n",
    "                    title_fmt='.2g',\n",
    "                    #axes_scale=['linear','linear','linear','log'],\n",
    "                    max_n_ticks=3,\n",
    "                    use_math_text=True,\n",
    "                    #range=[(0,0.4),(-2,0),(0.9,1),(1e12,1e13)]\n",
    "                   )\n",
    "for i, ax in enumerate(tmp.get_axes()):\n",
    "    #if i==12: ax.set_xscale('log')\n",
    "    #if i>=13: ax.set_yscale('log')\n",
    "    ax.tick_params(axis='both', labelsize=12)\n",
    "#tmp.savefig(plot_dir + 'mcmc_logistic_cornerplot.pdf')"
   ]
  },
  {
   "cell_type": "code",
   "execution_count": 31,
   "id": "059bfc62-c18d-453f-abeb-43058e094340",
   "metadata": {},
   "outputs": [
    {
     "name": "stdout",
     "output_type": "stream",
     "text": [
      "[ 5.03520607e-01 -5.02359014e-01 -1.00791679e+00  1.00655344e+12]\n"
     ]
    }
   ],
   "source": [
    "print(p0[0])"
   ]
  },
  {
   "cell_type": "code",
   "execution_count": null,
   "id": "846cdc09-7e22-4191-b490-cd9572648142",
   "metadata": {},
   "outputs": [],
   "source": []
  }
 ],
 "metadata": {
  "kernelspec": {
   "display_name": "myLSST",
   "language": "python",
   "name": "mylsst"
  },
  "language_info": {
   "codemirror_mode": {
    "name": "ipython",
    "version": 3
   },
   "file_extension": ".py",
   "mimetype": "text/x-python",
   "name": "python",
   "nbconvert_exporter": "python",
   "pygments_lexer": "ipython3",
   "version": "3.7.12"
  }
 },
 "nbformat": 4,
 "nbformat_minor": 5
}
