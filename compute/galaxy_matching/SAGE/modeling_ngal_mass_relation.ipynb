{
 "cells": [
  {
   "cell_type": "markdown",
   "id": "94485913-785d-4663-ad5b-5270a027e146",
   "metadata": {},
   "source": [
    "## Import & Setup"
   ]
  },
  {
   "cell_type": "code",
   "execution_count": 1,
   "id": "d09eb853-d76e-4a0d-93b9-dfb72e86a32e",
   "metadata": {},
   "outputs": [],
   "source": [
    "## Use the setup.py file to output directories. \n",
    "import sys\n",
    "sys.path.append('/global/homes/z/zzhang13/BaryonPasting/CorrelatedStructures/multiDark/')\n",
    "\n",
    "from setup import *\n",
    "toolsdir = tools_dir()\n",
    "repodir = repo_dir()\n",
    "chainsdir = chains_dir()\n",
    "datadir = data_dir()\n",
    "plotdir = plots_dir()\n",
    "\n",
    "sys.path.append(toolsdir)\n",
    "sys.path.append(repodir)"
   ]
  },
  {
   "cell_type": "code",
   "execution_count": 2,
   "id": "c041a88e-90d9-4f04-be8a-f5e383fcc7b7",
   "metadata": {},
   "outputs": [
    {
     "data": {
      "text/plain": [
       "Index(['id', 'Xoff', 'scale', 'CtreesHaloID', 'pid', 'mvir', 'rvir', 'rs', 'x',\n",
       "       'y', 'z', 'Mmvir_all', 'M200b', 'M200c', 'M500c', 'T/|U|',\n",
       "       'Halfmass_Scale', 'Acc_Rate_Inst', 'Acc_Rate_100Myr', 'Acc_Rate_1*Tdyn',\n",
       "       'Acc_Rate_2*Tdyn', 'Acc_Rate_Mpeak', 'c_vir', 'R200c', 'R500c',\n",
       "       'redshift', 'Ngal_Dsep_1', 'Ngal_Rvir', 'Ngal_R200c', 'Ngal_R500c',\n",
       "       'sigma', 'r_range', 'delta_sigma'],\n",
       "      dtype='object')"
      ]
     },
     "execution_count": 2,
     "metadata": {},
     "output_type": "execute_result"
    }
   ],
   "source": [
    "with open(datadir + 'MDPL2_DS_R200c_SAGE_Ngal_allM_allz.p', 'rb') as handle:\n",
    "    matched_halo_df = pickle.load(handle)\n",
    "matched_halo_df.columns"
   ]
  },
  {
   "cell_type": "markdown",
   "id": "b5d62cd7-a39c-4e7d-8a28-865b9507c4cb",
   "metadata": {},
   "source": [
    "## SPT-DES Richness-Mass relation\n",
    "\n",
    "This is in M500c mass. Need to convert to M200c. "
   ]
  },
  {
   "cell_type": "code",
   "execution_count": 3,
   "id": "2ff27717-3602-417d-926a-44ee04762613",
   "metadata": {},
   "outputs": [],
   "source": [
    "len_lob_gird=50\n",
    "lobs_grid_DESxSPT=np.linspace(15.,200,len_lob_gird)\n",
    "means_m_DESxSPT=np.loadtxt('mean_M_lob_SPTRM_36_v1.txt')"
   ]
  },
  {
   "cell_type": "markdown",
   "id": "05fe3558-240f-40ac-962b-4fd96a3fcdd0",
   "metadata": {},
   "source": [
    "#### Flatten the array so as to convert using the coloussus module. "
   ]
  },
  {
   "cell_type": "code",
   "execution_count": 4,
   "id": "b613acdb-ee0c-42cb-a9d4-5789367bfe92",
   "metadata": {},
   "outputs": [
    {
     "name": "stdout",
     "output_type": "stream",
     "text": [
      "(250, 50)\n",
      "(12500,)\n"
     ]
    }
   ],
   "source": [
    "m_flatten_DESxSPT = np.ravel(means_m_DESxSPT)\n",
    "m_shape = means_m_DESxSPT.shape\n",
    "print(m_shape)\n",
    "print(m_flatten_DESxSPT.shape)"
   ]
  },
  {
   "cell_type": "markdown",
   "id": "fb415444-91e3-431d-8e1d-a1922f67ebb4",
   "metadata": {},
   "source": [
    "#### Converting from M500c to M200c"
   ]
  },
  {
   "cell_type": "code",
   "execution_count": 5,
   "id": "e2b46e7e-94a8-4f59-97f2-3da3b8087f44",
   "metadata": {},
   "outputs": [
    {
     "name": "stdout",
     "output_type": "stream",
     "text": [
      "Deleted outdated persistence file, no further action needed.\n",
      "Deleted outdated persistence file, no further action needed.\n"
     ]
    }
   ],
   "source": [
    "from colossus.cosmology import cosmology\n",
    "from colossus.halo import concentration\n",
    "from colossus.halo import mass_defs\n",
    "\n",
    "cosmology.setCosmology('planck15')\n",
    "c500c = concentration.concentration(m_flatten_DESxSPT, '500c', 0.35, model = 'diemer19')\n",
    "M200c_DESxSPT, R200c, c200c = mass_defs.changeMassDefinition(m_flatten_DESxSPT, c500c, 0.35, '500c', '200c')"
   ]
  },
  {
   "cell_type": "code",
   "execution_count": 6,
   "id": "109ffa85-f492-49ca-a60f-67ce7e155e1a",
   "metadata": {},
   "outputs": [],
   "source": [
    "M200c_DESxSPT = np.reshape(M200c_DESxSPT, m_shape)"
   ]
  },
  {
   "cell_type": "markdown",
   "id": "e6da712b-8062-4f95-a5dd-9eef3f95db67",
   "metadata": {},
   "source": [
    "### Plotting the M200c Converted Mass Richness Relation"
   ]
  },
  {
   "cell_type": "code",
   "execution_count": 7,
   "id": "bce39da9-33ed-43ba-9820-0f12551bd3e0",
   "metadata": {},
   "outputs": [
    {
     "data": {
      "text/plain": [
       "array([ 15.        ,  18.7755102 ,  22.55102041,  26.32653061,\n",
       "        30.10204082,  33.87755102,  37.65306122,  41.42857143,\n",
       "        45.20408163,  48.97959184,  52.75510204,  56.53061224,\n",
       "        60.30612245,  64.08163265,  67.85714286,  71.63265306,\n",
       "        75.40816327,  79.18367347,  82.95918367,  86.73469388,\n",
       "        90.51020408,  94.28571429,  98.06122449, 101.83673469,\n",
       "       105.6122449 , 109.3877551 , 113.16326531, 116.93877551,\n",
       "       120.71428571, 124.48979592, 128.26530612, 132.04081633,\n",
       "       135.81632653, 139.59183673, 143.36734694, 147.14285714,\n",
       "       150.91836735, 154.69387755, 158.46938776, 162.24489796,\n",
       "       166.02040816, 169.79591837, 173.57142857, 177.34693878,\n",
       "       181.12244898, 184.89795918, 188.67346939, 192.44897959,\n",
       "       196.2244898 , 200.        ])"
      ]
     },
     "execution_count": 7,
     "metadata": {},
     "output_type": "execute_result"
    }
   ],
   "source": [
    "lobs_grid_DESxSPT"
   ]
  },
  {
   "cell_type": "code",
   "execution_count": 8,
   "id": "dd00d031-6ac8-4a84-8b4b-ef407cc238d0",
   "metadata": {},
   "outputs": [
    {
     "data": {
      "image/png": "[encoded data removed]",
      "text/plain": [
       "<Figure size 432x288 with 1 Axes>"
      ]
     },
     "metadata": {
      "needs_background": "light"
     },
     "output_type": "display_data"
    }
   ],
   "source": [
    "# DES NC+SPT-OMR ===================================\n",
    "from scipy.interpolate import InterpolatedUnivariateSpline as ius #interpolation\n",
    "\n",
    "log10M200c_DESxSPT=np.mean(np.log10(M200c_DESxSPT),axis=0)\n",
    "\n",
    "lo_mass=ius(np.log(lobs_grid_DESxSPT[:]), (log10M200c_DESxSPT-np.std(np.log10(M200c_DESxSPT), axis=0)), k=1)\n",
    "hi_mass=ius(np.log(lobs_grid_DESxSPT[:]), (log10M200c_DESxSPT+np.std(np.log10(M200c_DESxSPT), axis=0)), k=1)\n",
    "mean_mass = ius(np.log(lobs_grid_DESxSPT[:]), (log10M200c_DESxSPT), k=1)\n",
    "\n",
    "lo_richness = ius((log10M200c_DESxSPT-2*np.std(np.log10(M200c_DESxSPT),axis=0)), np.log(lobs_grid_DESxSPT[:]), k=1)\n",
    "hi_richness = ius((log10M200c_DESxSPT+2*np.std(np.log10(M200c_DESxSPT),axis=0)), np.log(lobs_grid_DESxSPT[:]), k=1)\n",
    "\n",
    "samp_lo=np.exp(lo_richness((log10M200c_DESxSPT)))\n",
    "samp_hi=np.exp(hi_richness((log10M200c_DESxSPT)))\n",
    "\n",
    "plt.fill_between(log10M200c_DESxSPT, samp_lo, samp_hi,color='gray',hatch='o',alpha=0.6,lw=3,label='DES-NC+SPT-OMR')\n",
    "plt.yscale('log')"
   ]
  },
  {
   "cell_type": "markdown",
   "id": "cce2bf2f-4c50-4df6-8a3a-1bd763775970",
   "metadata": {},
   "source": [
    "## To do next\n",
    "* Apply KLLR to the SAGE galaxy catalog\n",
    "* Compare slope with the MOR using DES vs SPT.\n",
    "* Make a plot (with inset maybe) side by side DESxSPT vs. SAGE\n",
    "\n",
    "Create a plot of the different richness-mass relations exhibited in different definitions of the Ngal. "
   ]
  },
  {
   "cell_type": "markdown",
   "id": "60e0252c-a5dd-4e68-812a-0bab97d3e99a",
   "metadata": {},
   "source": [
    "### Apply KLLR"
   ]
  },
  {
   "cell_type": "code",
   "execution_count": 9,
   "id": "a4fefdde-f3a4-46e8-9d80-fe91bd179915",
   "metadata": {},
   "outputs": [],
   "source": [
    "import sys\n",
    "sys.path.append('/global/u1/z/zzhang13')\n",
    "\n",
    "from mcmc_full_models import *\n",
    "from kllr.kllr.regression_model import *\n",
    "from kllr.kllr.regression_plotting import *\n",
    "from kllr.kllr.calc_cov_KLLR import *\n",
    "\n",
    "nBootstrap=100\n",
    "\n",
    "from scipy import stats\n",
    "import scipy.optimize as opt\n",
    "import emcee\n",
    "import tqdm"
   ]
  },
  {
   "cell_type": "code",
   "execution_count": 10,
   "id": "3ab69f62-e4be-474a-8091-856cc335eeda",
   "metadata": {},
   "outputs": [],
   "source": [
    "kllr_nbins= 6\n",
    "kernel_type = 'gaussian'\n",
    "kernel_width = 0.2"
   ]
  },
  {
   "cell_type": "code",
   "execution_count": 11,
   "id": "66929945-2a5e-4c87-96c5-92abfa553c2a",
   "metadata": {},
   "outputs": [
    {
     "data": {
      "image/png": "[encoded data removed]",
      "text/plain": [
       "<Figure size 432x288 with 1 Axes>"
      ]
     },
     "metadata": {
      "needs_background": "light"
     },
     "output_type": "display_data"
    }
   ],
   "source": [
    "## Todo: Create better error bars. \n",
    "\n",
    "Ngal_defs = ['Ngal_R200c', 'Ngal_Dsep_1', 'Ngal_Rvir']\n",
    "\n",
    "## Iterate through the Ngal definition\n",
    "for Ngal_def in Ngal_defs:\n",
    "    cur_df = matched_halo_df[(matched_halo_df['M200c'] > 10**13.75) & (matched_halo_df[Ngal_def] < 10**15)]\n",
    "\n",
    "    ##Testing the KLLR algorithm\n",
    "    #Residuals as calculated from KLLR\n",
    "    lm  = kllr_model(kernel_type=kernel_type, kernel_width=kernel_width)\n",
    "    xline, yline, intercept, slopes, scatter, skew, kurt = lm.fit(np.array(np.log10(cur_df['M200c'])), np.array(cur_df[Ngal_def]), \\\n",
    "                                                                  bins=kllr_nbins, kernel_width=kernel_width, kernel_type=kernel_type, nBootstrap=1) \n",
    "\n",
    "    dy_kllr = lm.residuals(np.array(np.log10(cur_df['M200c'])), np.array(cur_df[Ngal_def]), bins=kllr_nbins, nBootstrap = 1,\n",
    "                          fast_calc = False, verbose = False, kernel_type=kernel_type, kernel_width=kernel_width)\n",
    "\n",
    "    \n",
    "    ##Plotting for each definition\n",
    "    plt.errorbar(xline,yline, yerr=scatter, fmt ='o', linestyle='solid', capsize=3,  label=Ngal_def)\n",
    "    \n",
    "plt.fill_between(log10M200c_DESxSPT, samp_lo, samp_hi,color='gray',hatch='o',alpha=0.6, lw=3,label='DES-NC+SPT-OMR')\n",
    "plt.legend()\n",
    "plt.yscale('log')\n",
    "plt.ylabel(r'$N_{\\rm gal}$', fontsize=18)\n",
    "plt.xlabel(r'$\\log{M_{\\rm 200c}/M_{\\odot}}$', fontsize=18)\n",
    "plt.tight_layout()\n",
    "plt.savefig(plotdir+'MOR_MDPL2_vs_data.pdf')\n",
    "plt.show()"
   ]
  },
  {
   "cell_type": "code",
   "execution_count": null,
   "id": "542178e1-b16c-4067-b56c-dbf31bbd03b8",
   "metadata": {},
   "outputs": [],
   "source": []
  }
 ],
 "metadata": {
  "kernelspec": {
   "display_name": "myLSST",
   "language": "python",
   "name": "mylsst"
  },
  "language_info": {
   "codemirror_mode": {
    "name": "ipython",
    "version": 3
   },
   "file_extension": ".py",
   "mimetype": "text/x-python",
   "name": "python",
   "nbconvert_exporter": "python",
   "pygments_lexer": "ipython3",
   "version": "3.7.12"
  }
 },
 "nbformat": 4,
 "nbformat_minor": 5
}
