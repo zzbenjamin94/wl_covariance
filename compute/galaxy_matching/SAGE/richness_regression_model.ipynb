{
 "cells": [
  {
   "cell_type": "code",
   "execution_count": 2,
   "id": "23a7cfd3-aa41-4203-a0a4-925585292cde",
   "metadata": {},
   "outputs": [],
   "source": [
    "## Use the setup.py file to output directories. \n",
    "import sys\n",
    "sys.path.append('/global/homes/z/zzhang13/BaryonPasting/CorrelatedStructures/multiDark/')\n",
    "\n",
    "from setup import *\n",
    "toolsdir = tools_dir()\n",
    "repodir = repo_dir()\n",
    "chainsdir = chains_dir()\n",
    "datadir = data_dir()\n",
    "plotdir = plots_dir()\n",
    "\n",
    "sys.path.append(toolsdir)\n",
    "sys.path.append(repodir)"
   ]
  },
  {
   "cell_type": "code",
   "execution_count": 15,
   "id": "50cb94da-cafd-42c6-8188-02cf6588293c",
   "metadata": {},
   "outputs": [],
   "source": [
    "import pandas as pd\n",
    "import matplotlib.pyplot as plt\n",
    "import seaborn as sns\n",
    "import statsmodels.api as sm\n",
    "import statsmodels.stats.api as sms\n",
    "import statsmodels.formula.api as smf\n",
    "import scipy.stats as stats\n",
    "import matplotlib.cm as cm\n",
    "#from IPython.display import display\n",
    "from mpl_toolkits.mplot3d import Axes3D\n",
    "from sklearn.feature_selection import f_regression\n",
    "from statsmodels.stats.anova import anova_lm\n",
    "from statsmodels.compat import lzip\n",
    "#sns.set()\n",
    "#pd.set_option('display.notebook_repr_html', True)\n",
    "#pd.set_option('display.precision', 2)\n",
    "#%matplotlib notebook\n",
    "#plt.rcParams['figure.figsize'] = 10, 10\n",
    "from scipy.stats import norm\n",
    "from scipy import stats"
   ]
  },
  {
   "cell_type": "code",
   "execution_count": 16,
   "id": "4c5dec16-1406-4816-89ba-d62938215d6d",
   "metadata": {},
   "outputs": [],
   "source": [
    "import warnings\n",
    "warnings.filterwarnings(\"ignore\")"
   ]
  },
  {
   "cell_type": "code",
   "execution_count": 17,
   "id": "ffa4e291-ef67-40fe-a4fb-640bb0d84b8c",
   "metadata": {},
   "outputs": [],
   "source": [
    "import sys\n",
    "sys.path.append('/global/u1/z/zzhang13')\n",
    "\n",
    "from kllr.kllr.regression_model import *\n",
    "from kllr.kllr.regression_plotting import *\n",
    "from kllr.kllr.calc_cov_KLLR import *\n",
    "\n",
    "nBootstrap=20"
   ]
  },
  {
   "cell_type": "code",
   "execution_count": 18,
   "id": "4063af45-2a26-42a7-88ba-bb3118d01757",
   "metadata": {},
   "outputs": [],
   "source": [
    "from statsmodels.stats.outliers_influence import variance_inflation_factor\n",
    "\n",
    "# function to check VIF\n",
    "def checking_vif(train):\n",
    "    vif = pd.DataFrame()\n",
    "    vif[\"feature\"] = train.columns\n",
    "\n",
    "    # calculating VIF for each feature\n",
    "    vif[\"VIF\"] = [\n",
    "        variance_inflation_factor(train.values, i) for i in range(len(train.columns))\n",
    "    ]\n",
    "    return vif"
   ]
  },
  {
   "cell_type": "markdown",
   "id": "eb7cf244-3c31-45df-9c3b-505553296c83",
   "metadata": {},
   "source": [
    "## Collecting the data\n",
    "\n",
    "For all redshifts and masses"
   ]
  },
  {
   "cell_type": "code",
   "execution_count": 19,
   "id": "94055a8e-4651-45c8-afdd-55da52e17677",
   "metadata": {},
   "outputs": [],
   "source": [
    "with open(datadir + 'MDPL2_DS_R200c_SAGE_Ngal_allM_allz.p', 'rb') as f:\n",
    "    matched_halo_df = pickle.load(f)"
   ]
  },
  {
   "cell_type": "code",
   "execution_count": 20,
   "id": "2ba5da07-d368-4576-bfe0-22ce40cdc473",
   "metadata": {},
   "outputs": [],
   "source": [
    "matched_halo_df['lnl'] = np.log10(matched_halo_df['Ngal_R200c'])"
   ]
  },
  {
   "cell_type": "code",
   "execution_count": 21,
   "id": "7db2d3b9-1cde-4c7c-9f9c-691b30c7f882",
   "metadata": {},
   "outputs": [
    {
     "data": {
      "text/plain": [
       "Index(['id', 'Xoff', 'scale', 'CtreesHaloID', 'pid', 'mvir', 'rvir', 'rs', 'x',\n",
       "       'y', 'z', 'Mmvir_all', 'M200b', 'M200c', 'M500c', 'T/|U|',\n",
       "       'Halfmass_Scale', 'Acc_Rate_Inst', 'Acc_Rate_100Myr', 'Acc_Rate_1*Tdyn',\n",
       "       'Acc_Rate_2*Tdyn', 'Acc_Rate_Mpeak', 'c_vir', 'R200c', 'R500c',\n",
       "       'redshift', 'Ngal_Dsep_1', 'Ngal_Rvir', 'Ngal_R200c', 'Ngal_R500c',\n",
       "       'sigma', 'r_range', 'delta_sigma', 'lnl'],\n",
       "      dtype='object')"
      ]
     },
     "execution_count": 21,
     "metadata": {},
     "output_type": "execute_result"
    }
   ],
   "source": [
    "matched_halo_df.columns"
   ]
  },
  {
   "cell_type": "code",
   "execution_count": 22,
   "id": "30e1e1e9-27db-442d-9a15-89abf2559b55",
   "metadata": {},
   "outputs": [],
   "source": [
    "matched_halo_df.Xoff /= 1000"
   ]
  },
  {
   "cell_type": "code",
   "execution_count": 23,
   "id": "ba689e1f-a931-4b1c-a7a1-89f2d1fb81f6",
   "metadata": {},
   "outputs": [],
   "source": [
    "mass_bin_edges = [5e13, 1e14, 2e14, 5e14, 1e15]\n",
    "mass_bins = [[mass_bin_edges[i],mass_bin_edges[i+1]] for i in range(len(mass_bin_edges)-1)]\n",
    "\n",
    "a_bins = [1, 0.6712, 0.4922]\n",
    "column_name ='Acc_Rate_2*Tdyn'"
   ]
  },
  {
   "cell_type": "code",
   "execution_count": 24,
   "id": "eb0eca00-26bc-4864-909a-2d1646d588ee",
   "metadata": {},
   "outputs": [],
   "source": [
    "## Testing the file properties. \n",
    "r_bins_log_norm = np.linspace(-1,1,21)\n",
    "r_bins_lin_norm = 10**r_bins_log_norm\n",
    "r_cent_log_norm= (r_bins_log_norm[1:] + r_bins_log_norm[:-1])/2\n",
    "r_cent_lin_norm = 10**r_cent_log_norm"
   ]
  },
  {
   "cell_type": "markdown",
   "id": "ebb8ff27-68a6-487f-96aa-da0a4277961e",
   "metadata": {},
   "source": [
    "## Correlation of parameters"
   ]
  },
  {
   "cell_type": "code",
   "execution_count": 25,
   "id": "9a6f758c-a4f4-4a0e-9fb7-8ee83ef3bb43",
   "metadata": {},
   "outputs": [
    {
     "data": {
      "text/html": [
       "<div>\n",
       "<style scoped>\n",
       "    .dataframe tbody tr th:only-of-type {\n",
       "        vertical-align: middle;\n",
       "    }\n",
       "\n",
       "    .dataframe tbody tr th {\n",
       "        vertical-align: top;\n",
       "    }\n",
       "\n",
       "    .dataframe thead th {\n",
       "        text-align: right;\n",
       "    }\n",
       "</style>\n",
       "<table border=\"1\" class=\"dataframe\">\n",
       "  <thead>\n",
       "    <tr style=\"text-align: right;\">\n",
       "      <th></th>\n",
       "      <th>mvir</th>\n",
       "      <th>M200b</th>\n",
       "      <th>T/|U|</th>\n",
       "      <th>Halfmass_Scale</th>\n",
       "      <th>Acc_Rate_Inst</th>\n",
       "      <th>Acc_Rate_100Myr</th>\n",
       "      <th>Acc_Rate_1*Tdyn</th>\n",
       "      <th>Acc_Rate_2*Tdyn</th>\n",
       "      <th>Acc_Rate_Mpeak</th>\n",
       "      <th>c_vir</th>\n",
       "      <th>Xoff</th>\n",
       "    </tr>\n",
       "  </thead>\n",
       "  <tbody>\n",
       "    <tr>\n",
       "      <th>mvir</th>\n",
       "      <td>1.000000</td>\n",
       "      <td>0.996814</td>\n",
       "      <td>0.034243</td>\n",
       "      <td>0.407490</td>\n",
       "      <td>0.338197</td>\n",
       "      <td>0.338197</td>\n",
       "      <td>0.529013</td>\n",
       "      <td>0.670650</td>\n",
       "      <td>0.691656</td>\n",
       "      <td>-0.019834</td>\n",
       "      <td>0.314235</td>\n",
       "    </tr>\n",
       "    <tr>\n",
       "      <th>M200b</th>\n",
       "      <td>0.996814</td>\n",
       "      <td>1.000000</td>\n",
       "      <td>0.015476</td>\n",
       "      <td>0.422950</td>\n",
       "      <td>0.322744</td>\n",
       "      <td>0.322744</td>\n",
       "      <td>0.492807</td>\n",
       "      <td>0.632935</td>\n",
       "      <td>0.656648</td>\n",
       "      <td>-0.012628</td>\n",
       "      <td>0.296177</td>\n",
       "    </tr>\n",
       "    <tr>\n",
       "      <th>T/|U|</th>\n",
       "      <td>0.034243</td>\n",
       "      <td>0.015476</td>\n",
       "      <td>1.000000</td>\n",
       "      <td>0.056472</td>\n",
       "      <td>0.443808</td>\n",
       "      <td>0.443808</td>\n",
       "      <td>0.515368</td>\n",
       "      <td>0.377279</td>\n",
       "      <td>0.348402</td>\n",
       "      <td>-0.332531</td>\n",
       "      <td>0.628834</td>\n",
       "    </tr>\n",
       "    <tr>\n",
       "      <th>Halfmass_Scale</th>\n",
       "      <td>0.407490</td>\n",
       "      <td>0.422950</td>\n",
       "      <td>0.056472</td>\n",
       "      <td>1.000000</td>\n",
       "      <td>0.043399</td>\n",
       "      <td>0.043399</td>\n",
       "      <td>0.159429</td>\n",
       "      <td>0.161179</td>\n",
       "      <td>0.125184</td>\n",
       "      <td>-0.017502</td>\n",
       "      <td>0.254800</td>\n",
       "    </tr>\n",
       "    <tr>\n",
       "      <th>Acc_Rate_Inst</th>\n",
       "      <td>0.338197</td>\n",
       "      <td>0.322744</td>\n",
       "      <td>0.443808</td>\n",
       "      <td>0.043399</td>\n",
       "      <td>1.000000</td>\n",
       "      <td>1.000000</td>\n",
       "      <td>0.717195</td>\n",
       "      <td>0.571530</td>\n",
       "      <td>0.557310</td>\n",
       "      <td>-0.262031</td>\n",
       "      <td>0.482098</td>\n",
       "    </tr>\n",
       "    <tr>\n",
       "      <th>Acc_Rate_100Myr</th>\n",
       "      <td>0.338197</td>\n",
       "      <td>0.322744</td>\n",
       "      <td>0.443808</td>\n",
       "      <td>0.043399</td>\n",
       "      <td>1.000000</td>\n",
       "      <td>1.000000</td>\n",
       "      <td>0.717195</td>\n",
       "      <td>0.571530</td>\n",
       "      <td>0.557310</td>\n",
       "      <td>-0.262031</td>\n",
       "      <td>0.482098</td>\n",
       "    </tr>\n",
       "    <tr>\n",
       "      <th>Acc_Rate_1*Tdyn</th>\n",
       "      <td>0.529013</td>\n",
       "      <td>0.492807</td>\n",
       "      <td>0.515368</td>\n",
       "      <td>0.159429</td>\n",
       "      <td>0.717195</td>\n",
       "      <td>0.717195</td>\n",
       "      <td>1.000000</td>\n",
       "      <td>0.869208</td>\n",
       "      <td>0.822113</td>\n",
       "      <td>-0.172100</td>\n",
       "      <td>0.561522</td>\n",
       "    </tr>\n",
       "    <tr>\n",
       "      <th>Acc_Rate_2*Tdyn</th>\n",
       "      <td>0.670650</td>\n",
       "      <td>0.632935</td>\n",
       "      <td>0.377279</td>\n",
       "      <td>0.161179</td>\n",
       "      <td>0.571530</td>\n",
       "      <td>0.571530</td>\n",
       "      <td>0.869208</td>\n",
       "      <td>1.000000</td>\n",
       "      <td>0.966471</td>\n",
       "      <td>-0.291226</td>\n",
       "      <td>0.561393</td>\n",
       "    </tr>\n",
       "    <tr>\n",
       "      <th>Acc_Rate_Mpeak</th>\n",
       "      <td>0.691656</td>\n",
       "      <td>0.656648</td>\n",
       "      <td>0.348402</td>\n",
       "      <td>0.125184</td>\n",
       "      <td>0.557310</td>\n",
       "      <td>0.557310</td>\n",
       "      <td>0.822113</td>\n",
       "      <td>0.966471</td>\n",
       "      <td>1.000000</td>\n",
       "      <td>-0.278141</td>\n",
       "      <td>0.533612</td>\n",
       "    </tr>\n",
       "    <tr>\n",
       "      <th>c_vir</th>\n",
       "      <td>-0.019834</td>\n",
       "      <td>-0.012628</td>\n",
       "      <td>-0.332531</td>\n",
       "      <td>-0.017502</td>\n",
       "      <td>-0.262031</td>\n",
       "      <td>-0.262031</td>\n",
       "      <td>-0.172100</td>\n",
       "      <td>-0.291226</td>\n",
       "      <td>-0.278141</td>\n",
       "      <td>1.000000</td>\n",
       "      <td>-0.502686</td>\n",
       "    </tr>\n",
       "    <tr>\n",
       "      <th>Xoff</th>\n",
       "      <td>0.314235</td>\n",
       "      <td>0.296177</td>\n",
       "      <td>0.628834</td>\n",
       "      <td>0.254800</td>\n",
       "      <td>0.482098</td>\n",
       "      <td>0.482098</td>\n",
       "      <td>0.561522</td>\n",
       "      <td>0.561393</td>\n",
       "      <td>0.533612</td>\n",
       "      <td>-0.502686</td>\n",
       "      <td>1.000000</td>\n",
       "    </tr>\n",
       "  </tbody>\n",
       "</table>\n",
       "</div>"
      ],
      "text/plain": [
       "                     mvir     M200b     T/|U|  Halfmass_Scale  Acc_Rate_Inst  \\\n",
       "mvir             1.000000  0.996814  0.034243        0.407490       0.338197   \n",
       "M200b            0.996814  1.000000  0.015476        0.422950       0.322744   \n",
       "T/|U|            0.034243  0.015476  1.000000        0.056472       0.443808   \n",
       "Halfmass_Scale   0.407490  0.422950  0.056472        1.000000       0.043399   \n",
       "Acc_Rate_Inst    0.338197  0.322744  0.443808        0.043399       1.000000   \n",
       "Acc_Rate_100Myr  0.338197  0.322744  0.443808        0.043399       1.000000   \n",
       "Acc_Rate_1*Tdyn  0.529013  0.492807  0.515368        0.159429       0.717195   \n",
       "Acc_Rate_2*Tdyn  0.670650  0.632935  0.377279        0.161179       0.571530   \n",
       "Acc_Rate_Mpeak   0.691656  0.656648  0.348402        0.125184       0.557310   \n",
       "c_vir           -0.019834 -0.012628 -0.332531       -0.017502      -0.262031   \n",
       "Xoff             0.314235  0.296177  0.628834        0.254800       0.482098   \n",
       "\n",
       "                 Acc_Rate_100Myr  Acc_Rate_1*Tdyn  Acc_Rate_2*Tdyn  \\\n",
       "mvir                    0.338197         0.529013         0.670650   \n",
       "M200b                   0.322744         0.492807         0.632935   \n",
       "T/|U|                   0.443808         0.515368         0.377279   \n",
       "Halfmass_Scale          0.043399         0.159429         0.161179   \n",
       "Acc_Rate_Inst           1.000000         0.717195         0.571530   \n",
       "Acc_Rate_100Myr         1.000000         0.717195         0.571530   \n",
       "Acc_Rate_1*Tdyn         0.717195         1.000000         0.869208   \n",
       "Acc_Rate_2*Tdyn         0.571530         0.869208         1.000000   \n",
       "Acc_Rate_Mpeak          0.557310         0.822113         0.966471   \n",
       "c_vir                  -0.262031        -0.172100        -0.291226   \n",
       "Xoff                    0.482098         0.561522         0.561393   \n",
       "\n",
       "                 Acc_Rate_Mpeak     c_vir      Xoff  \n",
       "mvir                   0.691656 -0.019834  0.314235  \n",
       "M200b                  0.656648 -0.012628  0.296177  \n",
       "T/|U|                  0.348402 -0.332531  0.628834  \n",
       "Halfmass_Scale         0.125184 -0.017502  0.254800  \n",
       "Acc_Rate_Inst          0.557310 -0.262031  0.482098  \n",
       "Acc_Rate_100Myr        0.557310 -0.262031  0.482098  \n",
       "Acc_Rate_1*Tdyn        0.822113 -0.172100  0.561522  \n",
       "Acc_Rate_2*Tdyn        0.966471 -0.291226  0.561393  \n",
       "Acc_Rate_Mpeak         1.000000 -0.278141  0.533612  \n",
       "c_vir                 -0.278141  1.000000 -0.502686  \n",
       "Xoff                   0.533612 -0.502686  1.000000  "
      ]
     },
     "metadata": {},
     "output_type": "display_data"
    }
   ],
   "source": [
    "display(matched_halo_df[['mvir','M200b','T/|U|', 'Halfmass_Scale',\n",
    "       'Acc_Rate_Inst', 'Acc_Rate_100Myr', 'Acc_Rate_1*Tdyn',\n",
    "       'Acc_Rate_2*Tdyn', 'Acc_Rate_Mpeak', 'c_vir','Xoff']].corr())"
   ]
  },
  {
   "cell_type": "markdown",
   "id": "238b4e06-1303-486e-b559-d378b8a5408b",
   "metadata": {},
   "source": [
    "## Summary statistics of multi-linear regression"
   ]
  },
  {
   "cell_type": "code",
   "execution_count": 26,
   "id": "69fce582-2a0b-4c9c-8923-a4ef54716937",
   "metadata": {},
   "outputs": [
    {
     "name": "stdout",
     "output_type": "stream",
     "text": [
      "M5e+13-1e+14, z=0.00\n"
     ]
    },
    {
     "data": {
      "text/html": [
       "<table class=\"simpletable\">\n",
       "<caption>OLS Regression Results</caption>\n",
       "<tr>\n",
       "  <th>Dep. Variable:</th>            <td>y</td>        <th>  R-squared:         </th> <td>   0.442</td>\n",
       "</tr>\n",
       "<tr>\n",
       "  <th>Model:</th>                   <td>OLS</td>       <th>  Adj. R-squared:    </th> <td>   0.437</td>\n",
       "</tr>\n",
       "<tr>\n",
       "  <th>Method:</th>             <td>Least Squares</td>  <th>  F-statistic:       </th> <td>   78.35</td>\n",
       "</tr>\n",
       "<tr>\n",
       "  <th>Date:</th>             <td>Tue, 30 May 2023</td> <th>  Prob (F-statistic):</th> <td>2.03e-60</td>\n",
       "</tr>\n",
       "<tr>\n",
       "  <th>Time:</th>                 <td>08:02:48</td>     <th>  Log-Likelihood:    </th> <td>  298.11</td>\n",
       "</tr>\n",
       "<tr>\n",
       "  <th>No. Observations:</th>      <td>   500</td>      <th>  AIC:               </th> <td>  -584.2</td>\n",
       "</tr>\n",
       "<tr>\n",
       "  <th>Df Residuals:</th>          <td>   494</td>      <th>  BIC:               </th> <td>  -558.9</td>\n",
       "</tr>\n",
       "<tr>\n",
       "  <th>Df Model:</th>              <td>     5</td>      <th>                     </th>     <td> </td>   \n",
       "</tr>\n",
       "<tr>\n",
       "  <th>Covariance Type:</th>      <td>nonrobust</td>    <th>                     </th>     <td> </td>   \n",
       "</tr>\n",
       "</table>\n",
       "<table class=\"simpletable\">\n",
       "<tr>\n",
       "         <td></td>            <th>coef</th>     <th>std err</th>      <th>t</th>      <th>P>|t|</th>  <th>[0.025</th>    <th>0.975]</th>  \n",
       "</tr>\n",
       "<tr>\n",
       "  <th>const</th>           <td>    0.7161</td> <td>    0.093</td> <td>    7.732</td> <td> 0.000</td> <td>    0.534</td> <td>    0.898</td>\n",
       "</tr>\n",
       "<tr>\n",
       "  <th>T/|U|</th>           <td>    1.2960</td> <td>    0.157</td> <td>    8.269</td> <td> 0.000</td> <td>    0.988</td> <td>    1.604</td>\n",
       "</tr>\n",
       "<tr>\n",
       "  <th>c_vir</th>           <td>   -0.0315</td> <td>    0.004</td> <td>   -7.183</td> <td> 0.000</td> <td>   -0.040</td> <td>   -0.023</td>\n",
       "</tr>\n",
       "<tr>\n",
       "  <th>Halfmass_Scale</th>  <td>   -0.1027</td> <td>    0.084</td> <td>   -1.230</td> <td> 0.219</td> <td>   -0.267</td> <td>    0.061</td>\n",
       "</tr>\n",
       "<tr>\n",
       "  <th>Acc_Rate_2*Tdyn</th> <td> 1.442e-05</td> <td> 1.95e-06</td> <td>    7.399</td> <td> 0.000</td> <td> 1.06e-05</td> <td> 1.82e-05</td>\n",
       "</tr>\n",
       "<tr>\n",
       "  <th>Xoff</th>            <td>   -1.6177</td> <td>    0.233</td> <td>   -6.946</td> <td> 0.000</td> <td>   -2.075</td> <td>   -1.160</td>\n",
       "</tr>\n",
       "</table>\n",
       "<table class=\"simpletable\">\n",
       "<tr>\n",
       "  <th>Omnibus:</th>       <td>13.565</td> <th>  Durbin-Watson:     </th> <td>   1.712</td>\n",
       "</tr>\n",
       "<tr>\n",
       "  <th>Prob(Omnibus):</th> <td> 0.001</td> <th>  Jarque-Bera (JB):  </th> <td>  14.008</td>\n",
       "</tr>\n",
       "<tr>\n",
       "  <th>Skew:</th>          <td>-0.375</td> <th>  Prob(JB):          </th> <td>0.000908</td>\n",
       "</tr>\n",
       "<tr>\n",
       "  <th>Kurtosis:</th>      <td> 3.330</td> <th>  Cond. No.          </th> <td>3.69e+05</td>\n",
       "</tr>\n",
       "</table><br/><br/>Notes:<br/>[1] Standard Errors assume that the covariance matrix of the errors is correctly specified.<br/>[2] The condition number is large, 3.69e+05. This might indicate that there are<br/>strong multicollinearity or other numerical problems."
      ],
      "text/plain": [
       "<class 'statsmodels.iolib.summary.Summary'>\n",
       "\"\"\"\n",
       "                            OLS Regression Results                            \n",
       "==============================================================================\n",
       "Dep. Variable:                      y   R-squared:                       0.442\n",
       "Model:                            OLS   Adj. R-squared:                  0.437\n",
       "Method:                 Least Squares   F-statistic:                     78.35\n",
       "Date:                Tue, 30 May 2023   Prob (F-statistic):           2.03e-60\n",
       "Time:                        08:02:48   Log-Likelihood:                 298.11\n",
       "No. Observations:                 500   AIC:                            -584.2\n",
       "Df Residuals:                     494   BIC:                            -558.9\n",
       "Df Model:                           5                                         \n",
       "Covariance Type:            nonrobust                                         \n",
       "===================================================================================\n",
       "                      coef    std err          t      P>|t|      [0.025      0.975]\n",
       "-----------------------------------------------------------------------------------\n",
       "const               0.7161      0.093      7.732      0.000       0.534       0.898\n",
       "T/|U|               1.2960      0.157      8.269      0.000       0.988       1.604\n",
       "c_vir              -0.0315      0.004     -7.183      0.000      -0.040      -0.023\n",
       "Halfmass_Scale     -0.1027      0.084     -1.230      0.219      -0.267       0.061\n",
       "Acc_Rate_2*Tdyn  1.442e-05   1.95e-06      7.399      0.000    1.06e-05    1.82e-05\n",
       "Xoff               -1.6177      0.233     -6.946      0.000      -2.075      -1.160\n",
       "==============================================================================\n",
       "Omnibus:                       13.565   Durbin-Watson:                   1.712\n",
       "Prob(Omnibus):                  0.001   Jarque-Bera (JB):               14.008\n",
       "Skew:                          -0.375   Prob(JB):                     0.000908\n",
       "Kurtosis:                       3.330   Cond. No.                     3.69e+05\n",
       "==============================================================================\n",
       "\n",
       "Notes:\n",
       "[1] Standard Errors assume that the covariance matrix of the errors is correctly specified.\n",
       "[2] The condition number is large, 3.69e+05. This might indicate that there are\n",
       "strong multicollinearity or other numerical problems.\n",
       "\"\"\""
      ]
     },
     "metadata": {},
     "output_type": "display_data"
    },
    {
     "name": "stdout",
     "output_type": "stream",
     "text": [
      "Index(['const', 'T/|U|', 'c_vir', 'Halfmass_Scale', 'Acc_Rate_2*Tdyn', 'Xoff'], dtype='object')\n"
     ]
    },
    {
     "data": {
      "text/plain": [
       "array([         nan, 165.26628809, 151.44804286, 150.48186603,\n",
       "       240.72674039,  77.52612777])"
      ]
     },
     "metadata": {},
     "output_type": "display_data"
    },
    {
     "data": {
      "text/plain": [
       "array([           nan, 7.27936150e-33, 1.42227824e-30, 2.06552642e-30,\n",
       "       1.42050761e-44, 2.17227425e-17])"
      ]
     },
     "metadata": {},
     "output_type": "display_data"
    },
    {
     "name": "stdout",
     "output_type": "stream",
     "text": [
      "M5e+13-1e+14, z=0.49\n"
     ]
    },
    {
     "data": {
      "text/html": [
       "<table class=\"simpletable\">\n",
       "<caption>OLS Regression Results</caption>\n",
       "<tr>\n",
       "  <th>Dep. Variable:</th>            <td>y</td>        <th>  R-squared:         </th> <td>   0.341</td>\n",
       "</tr>\n",
       "<tr>\n",
       "  <th>Model:</th>                   <td>OLS</td>       <th>  Adj. R-squared:    </th> <td>   0.334</td>\n",
       "</tr>\n",
       "<tr>\n",
       "  <th>Method:</th>             <td>Least Squares</td>  <th>  F-statistic:       </th> <td>   51.01</td>\n",
       "</tr>\n",
       "<tr>\n",
       "  <th>Date:</th>             <td>Tue, 30 May 2023</td> <th>  Prob (F-statistic):</th> <td>1.30e-42</td>\n",
       "</tr>\n",
       "<tr>\n",
       "  <th>Time:</th>                 <td>08:02:48</td>     <th>  Log-Likelihood:    </th> <td>  240.74</td>\n",
       "</tr>\n",
       "<tr>\n",
       "  <th>No. Observations:</th>      <td>   500</td>      <th>  AIC:               </th> <td>  -469.5</td>\n",
       "</tr>\n",
       "<tr>\n",
       "  <th>Df Residuals:</th>          <td>   494</td>      <th>  BIC:               </th> <td>  -444.2</td>\n",
       "</tr>\n",
       "<tr>\n",
       "  <th>Df Model:</th>              <td>     5</td>      <th>                     </th>     <td> </td>   \n",
       "</tr>\n",
       "<tr>\n",
       "  <th>Covariance Type:</th>      <td>nonrobust</td>    <th>                     </th>     <td> </td>   \n",
       "</tr>\n",
       "</table>\n",
       "<table class=\"simpletable\">\n",
       "<tr>\n",
       "         <td></td>            <th>coef</th>     <th>std err</th>      <th>t</th>      <th>P>|t|</th>  <th>[0.025</th>    <th>0.975]</th>  \n",
       "</tr>\n",
       "<tr>\n",
       "  <th>const</th>           <td>    0.6635</td> <td>    0.095</td> <td>    6.955</td> <td> 0.000</td> <td>    0.476</td> <td>    0.851</td>\n",
       "</tr>\n",
       "<tr>\n",
       "  <th>T/|U|</th>           <td>    0.2802</td> <td>    0.132</td> <td>    2.126</td> <td> 0.034</td> <td>    0.021</td> <td>    0.539</td>\n",
       "</tr>\n",
       "<tr>\n",
       "  <th>c_vir</th>           <td>    0.0144</td> <td>    0.005</td> <td>    2.792</td> <td> 0.005</td> <td>    0.004</td> <td>    0.025</td>\n",
       "</tr>\n",
       "<tr>\n",
       "  <th>Halfmass_Scale</th>  <td>    0.1883</td> <td>    0.161</td> <td>    1.166</td> <td> 0.244</td> <td>   -0.129</td> <td>    0.506</td>\n",
       "</tr>\n",
       "<tr>\n",
       "  <th>Acc_Rate_2*Tdyn</th> <td> 1.678e-05</td> <td> 1.73e-06</td> <td>    9.699</td> <td> 0.000</td> <td> 1.34e-05</td> <td> 2.02e-05</td>\n",
       "</tr>\n",
       "<tr>\n",
       "  <th>Xoff</th>            <td>   -0.3002</td> <td>    0.189</td> <td>   -1.590</td> <td> 0.113</td> <td>   -0.671</td> <td>    0.071</td>\n",
       "</tr>\n",
       "</table>\n",
       "<table class=\"simpletable\">\n",
       "<tr>\n",
       "  <th>Omnibus:</th>       <td>26.068</td> <th>  Durbin-Watson:     </th> <td>   1.997</td>\n",
       "</tr>\n",
       "<tr>\n",
       "  <th>Prob(Omnibus):</th> <td> 0.000</td> <th>  Jarque-Bera (JB):  </th> <td>  38.277</td>\n",
       "</tr>\n",
       "<tr>\n",
       "  <th>Skew:</th>          <td>-0.413</td> <th>  Prob(JB):          </th> <td>4.88e-09</td>\n",
       "</tr>\n",
       "<tr>\n",
       "  <th>Kurtosis:</th>      <td> 4.075</td> <th>  Cond. No.          </th> <td>4.36e+05</td>\n",
       "</tr>\n",
       "</table><br/><br/>Notes:<br/>[1] Standard Errors assume that the covariance matrix of the errors is correctly specified.<br/>[2] The condition number is large, 4.36e+05. This might indicate that there are<br/>strong multicollinearity or other numerical problems."
      ],
      "text/plain": [
       "<class 'statsmodels.iolib.summary.Summary'>\n",
       "\"\"\"\n",
       "                            OLS Regression Results                            \n",
       "==============================================================================\n",
       "Dep. Variable:                      y   R-squared:                       0.341\n",
       "Model:                            OLS   Adj. R-squared:                  0.334\n",
       "Method:                 Least Squares   F-statistic:                     51.01\n",
       "Date:                Tue, 30 May 2023   Prob (F-statistic):           1.30e-42\n",
       "Time:                        08:02:48   Log-Likelihood:                 240.74\n",
       "No. Observations:                 500   AIC:                            -469.5\n",
       "Df Residuals:                     494   BIC:                            -444.2\n",
       "Df Model:                           5                                         \n",
       "Covariance Type:            nonrobust                                         \n",
       "===================================================================================\n",
       "                      coef    std err          t      P>|t|      [0.025      0.975]\n",
       "-----------------------------------------------------------------------------------\n",
       "const               0.6635      0.095      6.955      0.000       0.476       0.851\n",
       "T/|U|               0.2802      0.132      2.126      0.034       0.021       0.539\n",
       "c_vir               0.0144      0.005      2.792      0.005       0.004       0.025\n",
       "Halfmass_Scale      0.1883      0.161      1.166      0.244      -0.129       0.506\n",
       "Acc_Rate_2*Tdyn  1.678e-05   1.73e-06      9.699      0.000    1.34e-05    2.02e-05\n",
       "Xoff               -0.3002      0.189     -1.590      0.113      -0.671       0.071\n",
       "==============================================================================\n",
       "Omnibus:                       26.068   Durbin-Watson:                   1.997\n",
       "Prob(Omnibus):                  0.000   Jarque-Bera (JB):               38.277\n",
       "Skew:                          -0.413   Prob(JB):                     4.88e-09\n",
       "Kurtosis:                       4.075   Cond. No.                     4.36e+05\n",
       "==============================================================================\n",
       "\n",
       "Notes:\n",
       "[1] Standard Errors assume that the covariance matrix of the errors is correctly specified.\n",
       "[2] The condition number is large, 4.36e+05. This might indicate that there are\n",
       "strong multicollinearity or other numerical problems.\n",
       "\"\"\""
      ]
     },
     "metadata": {},
     "output_type": "display_data"
    },
    {
     "name": "stdout",
     "output_type": "stream",
     "text": [
      "Index(['const', 'T/|U|', 'c_vir', 'Halfmass_Scale', 'Acc_Rate_2*Tdyn', 'Xoff'], dtype='object')\n"
     ]
    },
    {
     "data": {
      "text/plain": [
       "array([         nan,  74.74221161,  22.3998541 , 120.74466571,\n",
       "       229.22434596,  44.71312134])"
      ]
     },
     "metadata": {},
     "output_type": "display_data"
    },
    {
     "data": {
      "text/plain": [
       "array([           nan, 7.37844075e-17, 2.88916330e-06, 2.68020670e-25,\n",
       "       7.18813889e-43, 6.13878815e-11])"
      ]
     },
     "metadata": {},
     "output_type": "display_data"
    },
    {
     "name": "stdout",
     "output_type": "stream",
     "text": [
      "M5e+13-1e+14, z=1.03\n"
     ]
    },
    {
     "data": {
      "text/html": [
       "<table class=\"simpletable\">\n",
       "<caption>OLS Regression Results</caption>\n",
       "<tr>\n",
       "  <th>Dep. Variable:</th>            <td>y</td>        <th>  R-squared:         </th> <td>   0.363</td>\n",
       "</tr>\n",
       "<tr>\n",
       "  <th>Model:</th>                   <td>OLS</td>       <th>  Adj. R-squared:    </th> <td>   0.357</td>\n",
       "</tr>\n",
       "<tr>\n",
       "  <th>Method:</th>             <td>Least Squares</td>  <th>  F-statistic:       </th> <td>   56.36</td>\n",
       "</tr>\n",
       "<tr>\n",
       "  <th>Date:</th>             <td>Tue, 30 May 2023</td> <th>  Prob (F-statistic):</th> <td>2.48e-46</td>\n",
       "</tr>\n",
       "<tr>\n",
       "  <th>Time:</th>                 <td>08:02:48</td>     <th>  Log-Likelihood:    </th> <td>  246.89</td>\n",
       "</tr>\n",
       "<tr>\n",
       "  <th>No. Observations:</th>      <td>   500</td>      <th>  AIC:               </th> <td>  -481.8</td>\n",
       "</tr>\n",
       "<tr>\n",
       "  <th>Df Residuals:</th>          <td>   494</td>      <th>  BIC:               </th> <td>  -456.5</td>\n",
       "</tr>\n",
       "<tr>\n",
       "  <th>Df Model:</th>              <td>     5</td>      <th>                     </th>     <td> </td>   \n",
       "</tr>\n",
       "<tr>\n",
       "  <th>Covariance Type:</th>      <td>nonrobust</td>    <th>                     </th>     <td> </td>   \n",
       "</tr>\n",
       "</table>\n",
       "<table class=\"simpletable\">\n",
       "<tr>\n",
       "         <td></td>            <th>coef</th>     <th>std err</th>      <th>t</th>      <th>P>|t|</th>  <th>[0.025</th>    <th>0.975]</th>  \n",
       "</tr>\n",
       "<tr>\n",
       "  <th>const</th>           <td>    0.2948</td> <td>    0.107</td> <td>    2.767</td> <td> 0.006</td> <td>    0.085</td> <td>    0.504</td>\n",
       "</tr>\n",
       "<tr>\n",
       "  <th>T/|U|</th>           <td>    0.3533</td> <td>    0.136</td> <td>    2.601</td> <td> 0.010</td> <td>    0.086</td> <td>    0.620</td>\n",
       "</tr>\n",
       "<tr>\n",
       "  <th>c_vir</th>           <td>    0.0240</td> <td>    0.005</td> <td>    4.493</td> <td> 0.000</td> <td>    0.014</td> <td>    0.034</td>\n",
       "</tr>\n",
       "<tr>\n",
       "  <th>Halfmass_Scale</th>  <td>    0.5692</td> <td>    0.269</td> <td>    2.119</td> <td> 0.035</td> <td>    0.041</td> <td>    1.097</td>\n",
       "</tr>\n",
       "<tr>\n",
       "  <th>Acc_Rate_2*Tdyn</th> <td> 1.235e-05</td> <td>  1.2e-06</td> <td>   10.296</td> <td> 0.000</td> <td> 9.99e-06</td> <td> 1.47e-05</td>\n",
       "</tr>\n",
       "<tr>\n",
       "  <th>Xoff</th>            <td>   -0.8110</td> <td>    0.184</td> <td>   -4.412</td> <td> 0.000</td> <td>   -1.172</td> <td>   -0.450</td>\n",
       "</tr>\n",
       "</table>\n",
       "<table class=\"simpletable\">\n",
       "<tr>\n",
       "  <th>Omnibus:</th>       <td>26.704</td> <th>  Durbin-Watson:     </th> <td>   1.893</td>\n",
       "</tr>\n",
       "<tr>\n",
       "  <th>Prob(Omnibus):</th> <td> 0.000</td> <th>  Jarque-Bera (JB):  </th> <td>  29.551</td>\n",
       "</tr>\n",
       "<tr>\n",
       "  <th>Skew:</th>          <td>-0.564</td> <th>  Prob(JB):          </th> <td>3.83e-07</td>\n",
       "</tr>\n",
       "<tr>\n",
       "  <th>Kurtosis:</th>      <td> 3.381</td> <th>  Cond. No.          </th> <td>9.62e+05</td>\n",
       "</tr>\n",
       "</table><br/><br/>Notes:<br/>[1] Standard Errors assume that the covariance matrix of the errors is correctly specified.<br/>[2] The condition number is large, 9.62e+05. This might indicate that there are<br/>strong multicollinearity or other numerical problems."
      ],
      "text/plain": [
       "<class 'statsmodels.iolib.summary.Summary'>\n",
       "\"\"\"\n",
       "                            OLS Regression Results                            \n",
       "==============================================================================\n",
       "Dep. Variable:                      y   R-squared:                       0.363\n",
       "Model:                            OLS   Adj. R-squared:                  0.357\n",
       "Method:                 Least Squares   F-statistic:                     56.36\n",
       "Date:                Tue, 30 May 2023   Prob (F-statistic):           2.48e-46\n",
       "Time:                        08:02:48   Log-Likelihood:                 246.89\n",
       "No. Observations:                 500   AIC:                            -481.8\n",
       "Df Residuals:                     494   BIC:                            -456.5\n",
       "Df Model:                           5                                         \n",
       "Covariance Type:            nonrobust                                         \n",
       "===================================================================================\n",
       "                      coef    std err          t      P>|t|      [0.025      0.975]\n",
       "-----------------------------------------------------------------------------------\n",
       "const               0.2948      0.107      2.767      0.006       0.085       0.504\n",
       "T/|U|               0.3533      0.136      2.601      0.010       0.086       0.620\n",
       "c_vir               0.0240      0.005      4.493      0.000       0.014       0.034\n",
       "Halfmass_Scale      0.5692      0.269      2.119      0.035       0.041       1.097\n",
       "Acc_Rate_2*Tdyn  1.235e-05    1.2e-06     10.296      0.000    9.99e-06    1.47e-05\n",
       "Xoff               -0.8110      0.184     -4.412      0.000      -1.172      -0.450\n",
       "==============================================================================\n",
       "Omnibus:                       26.704   Durbin-Watson:                   1.893\n",
       "Prob(Omnibus):                  0.000   Jarque-Bera (JB):               29.551\n",
       "Skew:                          -0.564   Prob(JB):                     3.83e-07\n",
       "Kurtosis:                       3.381   Cond. No.                     9.62e+05\n",
       "==============================================================================\n",
       "\n",
       "Notes:\n",
       "[1] Standard Errors assume that the covariance matrix of the errors is correctly specified.\n",
       "[2] The condition number is large, 9.62e+05. This might indicate that there are\n",
       "strong multicollinearity or other numerical problems.\n",
       "\"\"\""
      ]
     },
     "metadata": {},
     "output_type": "display_data"
    },
    {
     "name": "stdout",
     "output_type": "stream",
     "text": [
      "Index(['const', 'T/|U|', 'c_vir', 'Halfmass_Scale', 'Acc_Rate_2*Tdyn', 'Xoff'], dtype='object')\n"
     ]
    },
    {
     "data": {
      "text/plain": [
       "array([         nan,  16.83967529,   5.2370569 , 104.32571004,\n",
       "       181.47563113,   0.85932669])"
      ]
     },
     "metadata": {},
     "output_type": "display_data"
    },
    {
     "data": {
      "text/plain": [
       "array([           nan, 4.75179018e-05, 2.25286479e-02, 2.30071480e-22,\n",
       "       1.72282876e-35, 3.54376215e-01])"
      ]
     },
     "metadata": {},
     "output_type": "display_data"
    },
    {
     "name": "stdout",
     "output_type": "stream",
     "text": [
      "M1e+14-2e+14, z=0.00\n"
     ]
    },
    {
     "data": {
      "text/html": [
       "<table class=\"simpletable\">\n",
       "<caption>OLS Regression Results</caption>\n",
       "<tr>\n",
       "  <th>Dep. Variable:</th>            <td>y</td>        <th>  R-squared:         </th> <td>   0.437</td>\n",
       "</tr>\n",
       "<tr>\n",
       "  <th>Model:</th>                   <td>OLS</td>       <th>  Adj. R-squared:    </th> <td>   0.431</td>\n",
       "</tr>\n",
       "<tr>\n",
       "  <th>Method:</th>             <td>Least Squares</td>  <th>  F-statistic:       </th> <td>   76.71</td>\n",
       "</tr>\n",
       "<tr>\n",
       "  <th>Date:</th>             <td>Tue, 30 May 2023</td> <th>  Prob (F-statistic):</th> <td>1.98e-59</td>\n",
       "</tr>\n",
       "<tr>\n",
       "  <th>Time:</th>                 <td>08:02:48</td>     <th>  Log-Likelihood:    </th> <td>  399.70</td>\n",
       "</tr>\n",
       "<tr>\n",
       "  <th>No. Observations:</th>      <td>   500</td>      <th>  AIC:               </th> <td>  -787.4</td>\n",
       "</tr>\n",
       "<tr>\n",
       "  <th>Df Residuals:</th>          <td>   494</td>      <th>  BIC:               </th> <td>  -762.1</td>\n",
       "</tr>\n",
       "<tr>\n",
       "  <th>Df Model:</th>              <td>     5</td>      <th>                     </th>     <td> </td>   \n",
       "</tr>\n",
       "<tr>\n",
       "  <th>Covariance Type:</th>      <td>nonrobust</td>    <th>                     </th>     <td> </td>   \n",
       "</tr>\n",
       "</table>\n",
       "<table class=\"simpletable\">\n",
       "<tr>\n",
       "         <td></td>            <th>coef</th>     <th>std err</th>      <th>t</th>      <th>P>|t|</th>  <th>[0.025</th>    <th>0.975]</th>  \n",
       "</tr>\n",
       "<tr>\n",
       "  <th>const</th>           <td>    1.2461</td> <td>    0.083</td> <td>   14.965</td> <td> 0.000</td> <td>    1.083</td> <td>    1.410</td>\n",
       "</tr>\n",
       "<tr>\n",
       "  <th>T/|U|</th>           <td>    0.8346</td> <td>    0.154</td> <td>    5.423</td> <td> 0.000</td> <td>    0.532</td> <td>    1.137</td>\n",
       "</tr>\n",
       "<tr>\n",
       "  <th>c_vir</th>           <td>   -0.0209</td> <td>    0.004</td> <td>   -5.415</td> <td> 0.000</td> <td>   -0.028</td> <td>   -0.013</td>\n",
       "</tr>\n",
       "<tr>\n",
       "  <th>Halfmass_Scale</th>  <td>   -0.1978</td> <td>    0.071</td> <td>   -2.803</td> <td> 0.005</td> <td>   -0.336</td> <td>   -0.059</td>\n",
       "</tr>\n",
       "<tr>\n",
       "  <th>Acc_Rate_2*Tdyn</th> <td> 8.761e-06</td> <td> 8.04e-07</td> <td>   10.903</td> <td> 0.000</td> <td> 7.18e-06</td> <td> 1.03e-05</td>\n",
       "</tr>\n",
       "<tr>\n",
       "  <th>Xoff</th>            <td>   -0.7656</td> <td>    0.152</td> <td>   -5.034</td> <td> 0.000</td> <td>   -1.064</td> <td>   -0.467</td>\n",
       "</tr>\n",
       "</table>\n",
       "<table class=\"simpletable\">\n",
       "<tr>\n",
       "  <th>Omnibus:</th>       <td> 5.264</td> <th>  Durbin-Watson:     </th> <td>   1.581</td>\n",
       "</tr>\n",
       "<tr>\n",
       "  <th>Prob(Omnibus):</th> <td> 0.072</td> <th>  Jarque-Bera (JB):  </th> <td>   5.361</td>\n",
       "</tr>\n",
       "<tr>\n",
       "  <th>Skew:</th>          <td>-0.249</td> <th>  Prob(JB):          </th> <td>  0.0685</td>\n",
       "</tr>\n",
       "<tr>\n",
       "  <th>Kurtosis:</th>      <td> 2.902</td> <th>  Cond. No.          </th> <td>6.91e+05</td>\n",
       "</tr>\n",
       "</table><br/><br/>Notes:<br/>[1] Standard Errors assume that the covariance matrix of the errors is correctly specified.<br/>[2] The condition number is large, 6.91e+05. This might indicate that there are<br/>strong multicollinearity or other numerical problems."
      ],
      "text/plain": [
       "<class 'statsmodels.iolib.summary.Summary'>\n",
       "\"\"\"\n",
       "                            OLS Regression Results                            \n",
       "==============================================================================\n",
       "Dep. Variable:                      y   R-squared:                       0.437\n",
       "Model:                            OLS   Adj. R-squared:                  0.431\n",
       "Method:                 Least Squares   F-statistic:                     76.71\n",
       "Date:                Tue, 30 May 2023   Prob (F-statistic):           1.98e-59\n",
       "Time:                        08:02:48   Log-Likelihood:                 399.70\n",
       "No. Observations:                 500   AIC:                            -787.4\n",
       "Df Residuals:                     494   BIC:                            -762.1\n",
       "Df Model:                           5                                         \n",
       "Covariance Type:            nonrobust                                         \n",
       "===================================================================================\n",
       "                      coef    std err          t      P>|t|      [0.025      0.975]\n",
       "-----------------------------------------------------------------------------------\n",
       "const               1.2461      0.083     14.965      0.000       1.083       1.410\n",
       "T/|U|               0.8346      0.154      5.423      0.000       0.532       1.137\n",
       "c_vir              -0.0209      0.004     -5.415      0.000      -0.028      -0.013\n",
       "Halfmass_Scale     -0.1978      0.071     -2.803      0.005      -0.336      -0.059\n",
       "Acc_Rate_2*Tdyn  8.761e-06   8.04e-07     10.903      0.000    7.18e-06    1.03e-05\n",
       "Xoff               -0.7656      0.152     -5.034      0.000      -1.064      -0.467\n",
       "==============================================================================\n",
       "Omnibus:                        5.264   Durbin-Watson:                   1.581\n",
       "Prob(Omnibus):                  0.072   Jarque-Bera (JB):                5.361\n",
       "Skew:                          -0.249   Prob(JB):                       0.0685\n",
       "Kurtosis:                       2.902   Cond. No.                     6.91e+05\n",
       "==============================================================================\n",
       "\n",
       "Notes:\n",
       "[1] Standard Errors assume that the covariance matrix of the errors is correctly specified.\n",
       "[2] The condition number is large, 6.91e+05. This might indicate that there are\n",
       "strong multicollinearity or other numerical problems.\n",
       "\"\"\""
      ]
     },
     "metadata": {},
     "output_type": "display_data"
    },
    {
     "name": "stdout",
     "output_type": "stream",
     "text": [
      "Index(['const', 'T/|U|', 'c_vir', 'Halfmass_Scale', 'Acc_Rate_2*Tdyn', 'Xoff'], dtype='object')\n"
     ]
    },
    {
     "data": {
      "text/plain": [
       "array([         nan, 125.37803629, 108.7845286 , 114.69874472,\n",
       "       312.58939359,  63.85919124])"
      ]
     },
     "metadata": {},
     "output_type": "display_data"
    },
    {
     "data": {
      "text/plain": [
       "array([           nan, 4.12070712e-26, 3.60551797e-23, 3.15401824e-24,\n",
       "       1.19488413e-54, 9.36789367e-15])"
      ]
     },
     "metadata": {},
     "output_type": "display_data"
    },
    {
     "name": "stdout",
     "output_type": "stream",
     "text": [
      "M1e+14-2e+14, z=0.49\n"
     ]
    },
    {
     "data": {
      "text/html": [
       "<table class=\"simpletable\">\n",
       "<caption>OLS Regression Results</caption>\n",
       "<tr>\n",
       "  <th>Dep. Variable:</th>            <td>y</td>        <th>  R-squared:         </th> <td>   0.342</td>\n",
       "</tr>\n",
       "<tr>\n",
       "  <th>Model:</th>                   <td>OLS</td>       <th>  Adj. R-squared:    </th> <td>   0.335</td>\n",
       "</tr>\n",
       "<tr>\n",
       "  <th>Method:</th>             <td>Least Squares</td>  <th>  F-statistic:       </th> <td>   51.24</td>\n",
       "</tr>\n",
       "<tr>\n",
       "  <th>Date:</th>             <td>Tue, 30 May 2023</td> <th>  Prob (F-statistic):</th> <td>9.00e-43</td>\n",
       "</tr>\n",
       "<tr>\n",
       "  <th>Time:</th>                 <td>08:02:48</td>     <th>  Log-Likelihood:    </th> <td>  324.29</td>\n",
       "</tr>\n",
       "<tr>\n",
       "  <th>No. Observations:</th>      <td>   500</td>      <th>  AIC:               </th> <td>  -636.6</td>\n",
       "</tr>\n",
       "<tr>\n",
       "  <th>Df Residuals:</th>          <td>   494</td>      <th>  BIC:               </th> <td>  -611.3</td>\n",
       "</tr>\n",
       "<tr>\n",
       "  <th>Df Model:</th>              <td>     5</td>      <th>                     </th>     <td> </td>   \n",
       "</tr>\n",
       "<tr>\n",
       "  <th>Covariance Type:</th>      <td>nonrobust</td>    <th>                     </th>     <td> </td>   \n",
       "</tr>\n",
       "</table>\n",
       "<table class=\"simpletable\">\n",
       "<tr>\n",
       "         <td></td>            <th>coef</th>     <th>std err</th>      <th>t</th>      <th>P>|t|</th>  <th>[0.025</th>    <th>0.975]</th>  \n",
       "</tr>\n",
       "<tr>\n",
       "  <th>const</th>           <td>    1.3113</td> <td>    0.087</td> <td>   15.111</td> <td> 0.000</td> <td>    1.141</td> <td>    1.482</td>\n",
       "</tr>\n",
       "<tr>\n",
       "  <th>T/|U|</th>           <td>    0.2259</td> <td>    0.143</td> <td>    1.584</td> <td> 0.114</td> <td>   -0.054</td> <td>    0.506</td>\n",
       "</tr>\n",
       "<tr>\n",
       "  <th>c_vir</th>           <td>-8.735e-05</td> <td>    0.005</td> <td>   -0.018</td> <td> 0.986</td> <td>   -0.010</td> <td>    0.010</td>\n",
       "</tr>\n",
       "<tr>\n",
       "  <th>Halfmass_Scale</th>  <td>   -0.3531</td> <td>    0.158</td> <td>   -2.241</td> <td> 0.025</td> <td>   -0.663</td> <td>   -0.044</td>\n",
       "</tr>\n",
       "<tr>\n",
       "  <th>Acc_Rate_2*Tdyn</th> <td> 8.793e-06</td> <td> 7.46e-07</td> <td>   11.793</td> <td> 0.000</td> <td> 7.33e-06</td> <td> 1.03e-05</td>\n",
       "</tr>\n",
       "<tr>\n",
       "  <th>Xoff</th>            <td>   -0.3652</td> <td>    0.135</td> <td>   -2.705</td> <td> 0.007</td> <td>   -0.630</td> <td>   -0.100</td>\n",
       "</tr>\n",
       "</table>\n",
       "<table class=\"simpletable\">\n",
       "<tr>\n",
       "  <th>Omnibus:</th>       <td>223.036</td> <th>  Durbin-Watson:     </th> <td>   2.059</td>\n",
       "</tr>\n",
       "<tr>\n",
       "  <th>Prob(Omnibus):</th> <td> 0.000</td>  <th>  Jarque-Bera (JB):  </th> <td>2011.792</td>\n",
       "</tr>\n",
       "<tr>\n",
       "  <th>Skew:</th>          <td>-1.708</td>  <th>  Prob(JB):          </th> <td>    0.00</td>\n",
       "</tr>\n",
       "<tr>\n",
       "  <th>Kurtosis:</th>      <td>12.214</td>  <th>  Cond. No.          </th> <td>9.83e+05</td>\n",
       "</tr>\n",
       "</table><br/><br/>Notes:<br/>[1] Standard Errors assume that the covariance matrix of the errors is correctly specified.<br/>[2] The condition number is large, 9.83e+05. This might indicate that there are<br/>strong multicollinearity or other numerical problems."
      ],
      "text/plain": [
       "<class 'statsmodels.iolib.summary.Summary'>\n",
       "\"\"\"\n",
       "                            OLS Regression Results                            \n",
       "==============================================================================\n",
       "Dep. Variable:                      y   R-squared:                       0.342\n",
       "Model:                            OLS   Adj. R-squared:                  0.335\n",
       "Method:                 Least Squares   F-statistic:                     51.24\n",
       "Date:                Tue, 30 May 2023   Prob (F-statistic):           9.00e-43\n",
       "Time:                        08:02:48   Log-Likelihood:                 324.29\n",
       "No. Observations:                 500   AIC:                            -636.6\n",
       "Df Residuals:                     494   BIC:                            -611.3\n",
       "Df Model:                           5                                         \n",
       "Covariance Type:            nonrobust                                         \n",
       "===================================================================================\n",
       "                      coef    std err          t      P>|t|      [0.025      0.975]\n",
       "-----------------------------------------------------------------------------------\n",
       "const               1.3113      0.087     15.111      0.000       1.141       1.482\n",
       "T/|U|               0.2259      0.143      1.584      0.114      -0.054       0.506\n",
       "c_vir           -8.735e-05      0.005     -0.018      0.986      -0.010       0.010\n",
       "Halfmass_Scale     -0.3531      0.158     -2.241      0.025      -0.663      -0.044\n",
       "Acc_Rate_2*Tdyn  8.793e-06   7.46e-07     11.793      0.000    7.33e-06    1.03e-05\n",
       "Xoff               -0.3652      0.135     -2.705      0.007      -0.630      -0.100\n",
       "==============================================================================\n",
       "Omnibus:                      223.036   Durbin-Watson:                   2.059\n",
       "Prob(Omnibus):                  0.000   Jarque-Bera (JB):             2011.792\n",
       "Skew:                          -1.708   Prob(JB):                         0.00\n",
       "Kurtosis:                      12.214   Cond. No.                     9.83e+05\n",
       "==============================================================================\n",
       "\n",
       "Notes:\n",
       "[1] Standard Errors assume that the covariance matrix of the errors is correctly specified.\n",
       "[2] The condition number is large, 9.83e+05. This might indicate that there are\n",
       "strong multicollinearity or other numerical problems.\n",
       "\"\"\""
      ]
     },
     "metadata": {},
     "output_type": "display_data"
    },
    {
     "name": "stdout",
     "output_type": "stream",
     "text": [
      "Index(['const', 'T/|U|', 'c_vir', 'Halfmass_Scale', 'Acc_Rate_2*Tdyn', 'Xoff'], dtype='object')\n"
     ]
    },
    {
     "data": {
      "text/plain": [
       "array([         nan,  45.64113288,  22.76624283,  86.02447603,\n",
       "       234.3174749 ,  21.64921611])"
      ]
     },
     "metadata": {},
     "output_type": "display_data"
    },
    {
     "data": {
      "text/plain": [
       "array([           nan, 3.97572355e-11, 2.40741687e-06, 5.40624982e-19,\n",
       "       1.25511689e-43, 4.20146886e-06])"
      ]
     },
     "metadata": {},
     "output_type": "display_data"
    },
    {
     "name": "stdout",
     "output_type": "stream",
     "text": [
      "M1e+14-2e+14, z=1.03\n"
     ]
    },
    {
     "data": {
      "text/html": [
       "<table class=\"simpletable\">\n",
       "<caption>OLS Regression Results</caption>\n",
       "<tr>\n",
       "  <th>Dep. Variable:</th>            <td>y</td>        <th>  R-squared:         </th> <td>   0.371</td>\n",
       "</tr>\n",
       "<tr>\n",
       "  <th>Model:</th>                   <td>OLS</td>       <th>  Adj. R-squared:    </th> <td>   0.364</td>\n",
       "</tr>\n",
       "<tr>\n",
       "  <th>Method:</th>             <td>Least Squares</td>  <th>  F-statistic:       </th> <td>   58.24</td>\n",
       "</tr>\n",
       "<tr>\n",
       "  <th>Date:</th>             <td>Tue, 30 May 2023</td> <th>  Prob (F-statistic):</th> <td>1.31e-47</td>\n",
       "</tr>\n",
       "<tr>\n",
       "  <th>Time:</th>                 <td>08:02:48</td>     <th>  Log-Likelihood:    </th> <td>  341.18</td>\n",
       "</tr>\n",
       "<tr>\n",
       "  <th>No. Observations:</th>      <td>   500</td>      <th>  AIC:               </th> <td>  -670.4</td>\n",
       "</tr>\n",
       "<tr>\n",
       "  <th>Df Residuals:</th>          <td>   494</td>      <th>  BIC:               </th> <td>  -645.1</td>\n",
       "</tr>\n",
       "<tr>\n",
       "  <th>Df Model:</th>              <td>     5</td>      <th>                     </th>     <td> </td>   \n",
       "</tr>\n",
       "<tr>\n",
       "  <th>Covariance Type:</th>      <td>nonrobust</td>    <th>                     </th>     <td> </td>   \n",
       "</tr>\n",
       "</table>\n",
       "<table class=\"simpletable\">\n",
       "<tr>\n",
       "         <td></td>            <th>coef</th>     <th>std err</th>      <th>t</th>      <th>P>|t|</th>  <th>[0.025</th>    <th>0.975]</th>  \n",
       "</tr>\n",
       "<tr>\n",
       "  <th>const</th>           <td>    0.8580</td> <td>    0.092</td> <td>    9.355</td> <td> 0.000</td> <td>    0.678</td> <td>    1.038</td>\n",
       "</tr>\n",
       "<tr>\n",
       "  <th>T/|U|</th>           <td>    0.2923</td> <td>    0.139</td> <td>    2.106</td> <td> 0.036</td> <td>    0.020</td> <td>    0.565</td>\n",
       "</tr>\n",
       "<tr>\n",
       "  <th>c_vir</th>           <td>    0.0246</td> <td>    0.004</td> <td>    5.645</td> <td> 0.000</td> <td>    0.016</td> <td>    0.033</td>\n",
       "</tr>\n",
       "<tr>\n",
       "  <th>Halfmass_Scale</th>  <td>   -0.2333</td> <td>    0.234</td> <td>   -0.996</td> <td> 0.320</td> <td>   -0.693</td> <td>    0.227</td>\n",
       "</tr>\n",
       "<tr>\n",
       "  <th>Acc_Rate_2*Tdyn</th> <td> 6.558e-06</td> <td> 4.91e-07</td> <td>   13.346</td> <td> 0.000</td> <td> 5.59e-06</td> <td> 7.52e-06</td>\n",
       "</tr>\n",
       "<tr>\n",
       "  <th>Xoff</th>            <td>   -0.3482</td> <td>    0.123</td> <td>   -2.835</td> <td> 0.005</td> <td>   -0.590</td> <td>   -0.107</td>\n",
       "</tr>\n",
       "</table>\n",
       "<table class=\"simpletable\">\n",
       "<tr>\n",
       "  <th>Omnibus:</th>       <td>90.661</td> <th>  Durbin-Watson:     </th> <td>   1.910</td>\n",
       "</tr>\n",
       "<tr>\n",
       "  <th>Prob(Omnibus):</th> <td> 0.000</td> <th>  Jarque-Bera (JB):  </th> <td> 261.130</td>\n",
       "</tr>\n",
       "<tr>\n",
       "  <th>Skew:</th>          <td>-0.865</td> <th>  Prob(JB):          </th> <td>1.98e-57</td>\n",
       "</tr>\n",
       "<tr>\n",
       "  <th>Kurtosis:</th>      <td> 6.089</td> <th>  Cond. No.          </th> <td>2.14e+06</td>\n",
       "</tr>\n",
       "</table><br/><br/>Notes:<br/>[1] Standard Errors assume that the covariance matrix of the errors is correctly specified.<br/>[2] The condition number is large, 2.14e+06. This might indicate that there are<br/>strong multicollinearity or other numerical problems."
      ],
      "text/plain": [
       "<class 'statsmodels.iolib.summary.Summary'>\n",
       "\"\"\"\n",
       "                            OLS Regression Results                            \n",
       "==============================================================================\n",
       "Dep. Variable:                      y   R-squared:                       0.371\n",
       "Model:                            OLS   Adj. R-squared:                  0.364\n",
       "Method:                 Least Squares   F-statistic:                     58.24\n",
       "Date:                Tue, 30 May 2023   Prob (F-statistic):           1.31e-47\n",
       "Time:                        08:02:48   Log-Likelihood:                 341.18\n",
       "No. Observations:                 500   AIC:                            -670.4\n",
       "Df Residuals:                     494   BIC:                            -645.1\n",
       "Df Model:                           5                                         \n",
       "Covariance Type:            nonrobust                                         \n",
       "===================================================================================\n",
       "                      coef    std err          t      P>|t|      [0.025      0.975]\n",
       "-----------------------------------------------------------------------------------\n",
       "const               0.8580      0.092      9.355      0.000       0.678       1.038\n",
       "T/|U|               0.2923      0.139      2.106      0.036       0.020       0.565\n",
       "c_vir               0.0246      0.004      5.645      0.000       0.016       0.033\n",
       "Halfmass_Scale     -0.2333      0.234     -0.996      0.320      -0.693       0.227\n",
       "Acc_Rate_2*Tdyn  6.558e-06   4.91e-07     13.346      0.000    5.59e-06    7.52e-06\n",
       "Xoff               -0.3482      0.123     -2.835      0.005      -0.590      -0.107\n",
       "==============================================================================\n",
       "Omnibus:                       90.661   Durbin-Watson:                   1.910\n",
       "Prob(Omnibus):                  0.000   Jarque-Bera (JB):              261.130\n",
       "Skew:                          -0.865   Prob(JB):                     1.98e-57\n",
       "Kurtosis:                       6.089   Cond. No.                     2.14e+06\n",
       "==============================================================================\n",
       "\n",
       "Notes:\n",
       "[1] Standard Errors assume that the covariance matrix of the errors is correctly specified.\n",
       "[2] The condition number is large, 2.14e+06. This might indicate that there are\n",
       "strong multicollinearity or other numerical problems.\n",
       "\"\"\""
      ]
     },
     "metadata": {},
     "output_type": "display_data"
    },
    {
     "name": "stdout",
     "output_type": "stream",
     "text": [
      "Index(['const', 'T/|U|', 'c_vir', 'Halfmass_Scale', 'Acc_Rate_2*Tdyn', 'Xoff'], dtype='object')\n"
     ]
    },
    {
     "data": {
      "text/plain": [
       "array([         nan,  25.19061139,   5.13442396,  63.93154905,\n",
       "       196.33885635,   7.61289518])"
      ]
     },
     "metadata": {},
     "output_type": "display_data"
    },
    {
     "data": {
      "text/plain": [
       "array([           nan, 7.24199239e-07, 2.38842989e-02, 9.06787554e-15,\n",
       "       7.65639577e-38, 6.00860421e-03])"
      ]
     },
     "metadata": {},
     "output_type": "display_data"
    },
    {
     "name": "stdout",
     "output_type": "stream",
     "text": [
      "M2e+14-5e+14, z=0.00\n"
     ]
    },
    {
     "data": {
      "text/html": [
       "<table class=\"simpletable\">\n",
       "<caption>OLS Regression Results</caption>\n",
       "<tr>\n",
       "  <th>Dep. Variable:</th>            <td>y</td>        <th>  R-squared:         </th> <td>   0.534</td>\n",
       "</tr>\n",
       "<tr>\n",
       "  <th>Model:</th>                   <td>OLS</td>       <th>  Adj. R-squared:    </th> <td>   0.530</td>\n",
       "</tr>\n",
       "<tr>\n",
       "  <th>Method:</th>             <td>Least Squares</td>  <th>  F-statistic:       </th> <td>   113.4</td>\n",
       "</tr>\n",
       "<tr>\n",
       "  <th>Date:</th>             <td>Tue, 30 May 2023</td> <th>  Prob (F-statistic):</th> <td>1.16e-79</td>\n",
       "</tr>\n",
       "<tr>\n",
       "  <th>Time:</th>                 <td>08:02:48</td>     <th>  Log-Likelihood:    </th> <td>  402.49</td>\n",
       "</tr>\n",
       "<tr>\n",
       "  <th>No. Observations:</th>      <td>   500</td>      <th>  AIC:               </th> <td>  -793.0</td>\n",
       "</tr>\n",
       "<tr>\n",
       "  <th>Df Residuals:</th>          <td>   494</td>      <th>  BIC:               </th> <td>  -767.7</td>\n",
       "</tr>\n",
       "<tr>\n",
       "  <th>Df Model:</th>              <td>     5</td>      <th>                     </th>     <td> </td>   \n",
       "</tr>\n",
       "<tr>\n",
       "  <th>Covariance Type:</th>      <td>nonrobust</td>    <th>                     </th>     <td> </td>   \n",
       "</tr>\n",
       "</table>\n",
       "<table class=\"simpletable\">\n",
       "<tr>\n",
       "         <td></td>            <th>coef</th>     <th>std err</th>      <th>t</th>      <th>P>|t|</th>  <th>[0.025</th>    <th>0.975]</th>  \n",
       "</tr>\n",
       "<tr>\n",
       "  <th>const</th>           <td>    1.7005</td> <td>    0.071</td> <td>   23.894</td> <td> 0.000</td> <td>    1.561</td> <td>    1.840</td>\n",
       "</tr>\n",
       "<tr>\n",
       "  <th>T/|U|</th>           <td>    0.5586</td> <td>    0.129</td> <td>    4.339</td> <td> 0.000</td> <td>    0.306</td> <td>    0.812</td>\n",
       "</tr>\n",
       "<tr>\n",
       "  <th>c_vir</th>           <td>   -0.0157</td> <td>    0.004</td> <td>   -3.987</td> <td> 0.000</td> <td>   -0.023</td> <td>   -0.008</td>\n",
       "</tr>\n",
       "<tr>\n",
       "  <th>Halfmass_Scale</th>  <td>   -0.2919</td> <td>    0.069</td> <td>   -4.225</td> <td> 0.000</td> <td>   -0.428</td> <td>   -0.156</td>\n",
       "</tr>\n",
       "<tr>\n",
       "  <th>Acc_Rate_2*Tdyn</th> <td> 5.838e-06</td> <td> 3.33e-07</td> <td>   17.555</td> <td> 0.000</td> <td> 5.18e-06</td> <td> 6.49e-06</td>\n",
       "</tr>\n",
       "<tr>\n",
       "  <th>Xoff</th>            <td>   -0.5736</td> <td>    0.109</td> <td>   -5.285</td> <td> 0.000</td> <td>   -0.787</td> <td>   -0.360</td>\n",
       "</tr>\n",
       "</table>\n",
       "<table class=\"simpletable\">\n",
       "<tr>\n",
       "  <th>Omnibus:</th>       <td> 1.322</td> <th>  Durbin-Watson:     </th> <td>   1.766</td>\n",
       "</tr>\n",
       "<tr>\n",
       "  <th>Prob(Omnibus):</th> <td> 0.516</td> <th>  Jarque-Bera (JB):  </th> <td>   1.143</td>\n",
       "</tr>\n",
       "<tr>\n",
       "  <th>Skew:</th>          <td>-0.105</td> <th>  Prob(JB):          </th> <td>   0.565</td>\n",
       "</tr>\n",
       "<tr>\n",
       "  <th>Kurtosis:</th>      <td> 3.102</td> <th>  Cond. No.          </th> <td>1.30e+06</td>\n",
       "</tr>\n",
       "</table><br/><br/>Notes:<br/>[1] Standard Errors assume that the covariance matrix of the errors is correctly specified.<br/>[2] The condition number is large, 1.3e+06. This might indicate that there are<br/>strong multicollinearity or other numerical problems."
      ],
      "text/plain": [
       "<class 'statsmodels.iolib.summary.Summary'>\n",
       "\"\"\"\n",
       "                            OLS Regression Results                            \n",
       "==============================================================================\n",
       "Dep. Variable:                      y   R-squared:                       0.534\n",
       "Model:                            OLS   Adj. R-squared:                  0.530\n",
       "Method:                 Least Squares   F-statistic:                     113.4\n",
       "Date:                Tue, 30 May 2023   Prob (F-statistic):           1.16e-79\n",
       "Time:                        08:02:48   Log-Likelihood:                 402.49\n",
       "No. Observations:                 500   AIC:                            -793.0\n",
       "Df Residuals:                     494   BIC:                            -767.7\n",
       "Df Model:                           5                                         \n",
       "Covariance Type:            nonrobust                                         \n",
       "===================================================================================\n",
       "                      coef    std err          t      P>|t|      [0.025      0.975]\n",
       "-----------------------------------------------------------------------------------\n",
       "const               1.7005      0.071     23.894      0.000       1.561       1.840\n",
       "T/|U|               0.5586      0.129      4.339      0.000       0.306       0.812\n",
       "c_vir              -0.0157      0.004     -3.987      0.000      -0.023      -0.008\n",
       "Halfmass_Scale     -0.2919      0.069     -4.225      0.000      -0.428      -0.156\n",
       "Acc_Rate_2*Tdyn  5.838e-06   3.33e-07     17.555      0.000    5.18e-06    6.49e-06\n",
       "Xoff               -0.5736      0.109     -5.285      0.000      -0.787      -0.360\n",
       "==============================================================================\n",
       "Omnibus:                        1.322   Durbin-Watson:                   1.766\n",
       "Prob(Omnibus):                  0.516   Jarque-Bera (JB):                1.143\n",
       "Skew:                          -0.105   Prob(JB):                        0.565\n",
       "Kurtosis:                       3.102   Cond. No.                     1.30e+06\n",
       "==============================================================================\n",
       "\n",
       "Notes:\n",
       "[1] Standard Errors assume that the covariance matrix of the errors is correctly specified.\n",
       "[2] The condition number is large, 1.3e+06. This might indicate that there are\n",
       "strong multicollinearity or other numerical problems.\n",
       "\"\"\""
      ]
     },
     "metadata": {},
     "output_type": "display_data"
    },
    {
     "name": "stdout",
     "output_type": "stream",
     "text": [
      "Index(['const', 'T/|U|', 'c_vir', 'Halfmass_Scale', 'Acc_Rate_2*Tdyn', 'Xoff'], dtype='object')\n"
     ]
    },
    {
     "data": {
      "text/plain": [
       "array([         nan,  79.96838881,  90.34787413, 106.5380153 ,\n",
       "       487.17601804,  62.25122887])"
      ]
     },
     "metadata": {},
     "output_type": "display_data"
    },
    {
     "data": {
      "text/plain": [
       "array([           nan, 7.47030455e-18, 8.44298361e-20, 9.15636574e-23,\n",
       "       8.51726703e-76, 1.93338376e-14])"
      ]
     },
     "metadata": {},
     "output_type": "display_data"
    },
    {
     "name": "stdout",
     "output_type": "stream",
     "text": [
      "M2e+14-5e+14, z=0.49\n"
     ]
    },
    {
     "data": {
      "text/html": [
       "<table class=\"simpletable\">\n",
       "<caption>OLS Regression Results</caption>\n",
       "<tr>\n",
       "  <th>Dep. Variable:</th>            <td>y</td>        <th>  R-squared:         </th> <td>   0.293</td>\n",
       "</tr>\n",
       "<tr>\n",
       "  <th>Model:</th>                   <td>OLS</td>       <th>  Adj. R-squared:    </th> <td>   0.286</td>\n",
       "</tr>\n",
       "<tr>\n",
       "  <th>Method:</th>             <td>Least Squares</td>  <th>  F-statistic:       </th> <td>   41.02</td>\n",
       "</tr>\n",
       "<tr>\n",
       "  <th>Date:</th>             <td>Tue, 30 May 2023</td> <th>  Prob (F-statistic):</th> <td>2.65e-35</td>\n",
       "</tr>\n",
       "<tr>\n",
       "  <th>Time:</th>                 <td>08:02:48</td>     <th>  Log-Likelihood:    </th> <td>  277.71</td>\n",
       "</tr>\n",
       "<tr>\n",
       "  <th>No. Observations:</th>      <td>   500</td>      <th>  AIC:               </th> <td>  -543.4</td>\n",
       "</tr>\n",
       "<tr>\n",
       "  <th>Df Residuals:</th>          <td>   494</td>      <th>  BIC:               </th> <td>  -518.1</td>\n",
       "</tr>\n",
       "<tr>\n",
       "  <th>Df Model:</th>              <td>     5</td>      <th>                     </th>     <td> </td>   \n",
       "</tr>\n",
       "<tr>\n",
       "  <th>Covariance Type:</th>      <td>nonrobust</td>    <th>                     </th>     <td> </td>   \n",
       "</tr>\n",
       "</table>\n",
       "<table class=\"simpletable\">\n",
       "<tr>\n",
       "         <td></td>            <th>coef</th>     <th>std err</th>      <th>t</th>      <th>P>|t|</th>  <th>[0.025</th>    <th>0.975]</th>  \n",
       "</tr>\n",
       "<tr>\n",
       "  <th>const</th>           <td>    1.5146</td> <td>    0.085</td> <td>   17.839</td> <td> 0.000</td> <td>    1.348</td> <td>    1.681</td>\n",
       "</tr>\n",
       "<tr>\n",
       "  <th>T/|U|</th>           <td>    0.2773</td> <td>    0.119</td> <td>    2.340</td> <td> 0.020</td> <td>    0.044</td> <td>    0.510</td>\n",
       "</tr>\n",
       "<tr>\n",
       "  <th>c_vir</th>           <td>    0.0161</td> <td>    0.005</td> <td>    3.405</td> <td> 0.001</td> <td>    0.007</td> <td>    0.025</td>\n",
       "</tr>\n",
       "<tr>\n",
       "  <th>Halfmass_Scale</th>  <td>   -0.3885</td> <td>    0.168</td> <td>   -2.318</td> <td> 0.021</td> <td>   -0.718</td> <td>   -0.059</td>\n",
       "</tr>\n",
       "<tr>\n",
       "  <th>Acc_Rate_2*Tdyn</th> <td>  4.15e-06</td> <td> 3.54e-07</td> <td>   11.714</td> <td> 0.000</td> <td> 3.45e-06</td> <td> 4.85e-06</td>\n",
       "</tr>\n",
       "<tr>\n",
       "  <th>Xoff</th>            <td>   -0.2705</td> <td>    0.112</td> <td>   -2.426</td> <td> 0.016</td> <td>   -0.490</td> <td>   -0.051</td>\n",
       "</tr>\n",
       "</table>\n",
       "<table class=\"simpletable\">\n",
       "<tr>\n",
       "  <th>Omnibus:</th>       <td>473.151</td> <th>  Durbin-Watson:     </th> <td>   1.878</td> \n",
       "</tr>\n",
       "<tr>\n",
       "  <th>Prob(Omnibus):</th> <td> 0.000</td>  <th>  Jarque-Bera (JB):  </th> <td>20182.570</td>\n",
       "</tr>\n",
       "<tr>\n",
       "  <th>Skew:</th>          <td>-4.033</td>  <th>  Prob(JB):          </th> <td>    0.00</td> \n",
       "</tr>\n",
       "<tr>\n",
       "  <th>Kurtosis:</th>      <td>33.062</td>  <th>  Cond. No.          </th> <td>1.87e+06</td> \n",
       "</tr>\n",
       "</table><br/><br/>Notes:<br/>[1] Standard Errors assume that the covariance matrix of the errors is correctly specified.<br/>[2] The condition number is large, 1.87e+06. This might indicate that there are<br/>strong multicollinearity or other numerical problems."
      ],
      "text/plain": [
       "<class 'statsmodels.iolib.summary.Summary'>\n",
       "\"\"\"\n",
       "                            OLS Regression Results                            \n",
       "==============================================================================\n",
       "Dep. Variable:                      y   R-squared:                       0.293\n",
       "Model:                            OLS   Adj. R-squared:                  0.286\n",
       "Method:                 Least Squares   F-statistic:                     41.02\n",
       "Date:                Tue, 30 May 2023   Prob (F-statistic):           2.65e-35\n",
       "Time:                        08:02:48   Log-Likelihood:                 277.71\n",
       "No. Observations:                 500   AIC:                            -543.4\n",
       "Df Residuals:                     494   BIC:                            -518.1\n",
       "Df Model:                           5                                         \n",
       "Covariance Type:            nonrobust                                         \n",
       "===================================================================================\n",
       "                      coef    std err          t      P>|t|      [0.025      0.975]\n",
       "-----------------------------------------------------------------------------------\n",
       "const               1.5146      0.085     17.839      0.000       1.348       1.681\n",
       "T/|U|               0.2773      0.119      2.340      0.020       0.044       0.510\n",
       "c_vir               0.0161      0.005      3.405      0.001       0.007       0.025\n",
       "Halfmass_Scale     -0.3885      0.168     -2.318      0.021      -0.718      -0.059\n",
       "Acc_Rate_2*Tdyn   4.15e-06   3.54e-07     11.714      0.000    3.45e-06    4.85e-06\n",
       "Xoff               -0.2705      0.112     -2.426      0.016      -0.490      -0.051\n",
       "==============================================================================\n",
       "Omnibus:                      473.151   Durbin-Watson:                   1.878\n",
       "Prob(Omnibus):                  0.000   Jarque-Bera (JB):            20182.570\n",
       "Skew:                          -4.033   Prob(JB):                         0.00\n",
       "Kurtosis:                      33.062   Cond. No.                     1.87e+06\n",
       "==============================================================================\n",
       "\n",
       "Notes:\n",
       "[1] Standard Errors assume that the covariance matrix of the errors is correctly specified.\n",
       "[2] The condition number is large, 1.87e+06. This might indicate that there are\n",
       "strong multicollinearity or other numerical problems.\n",
       "\"\"\""
      ]
     },
     "metadata": {},
     "output_type": "display_data"
    },
    {
     "name": "stdout",
     "output_type": "stream",
     "text": [
      "Index(['const', 'T/|U|', 'c_vir', 'Halfmass_Scale', 'Acc_Rate_2*Tdyn', 'Xoff'], dtype='object')\n"
     ]
    },
    {
     "data": {
      "text/plain": [
       "array([           nan, 2.11601584e+01, 4.69261629e-02, 4.50612236e+01,\n",
       "       1.54275205e+02, 9.74333720e+00])"
      ]
     },
     "metadata": {},
     "output_type": "display_data"
    },
    {
     "data": {
      "text/plain": [
       "array([           nan, 5.36535888e-06, 8.28589721e-01, 5.21513961e-11,\n",
       "       4.78888438e-31, 1.90428663e-03])"
      ]
     },
     "metadata": {},
     "output_type": "display_data"
    },
    {
     "name": "stdout",
     "output_type": "stream",
     "text": [
      "M2e+14-5e+14, z=1.03\n"
     ]
    },
    {
     "data": {
      "text/html": [
       "<table class=\"simpletable\">\n",
       "<caption>OLS Regression Results</caption>\n",
       "<tr>\n",
       "  <th>Dep. Variable:</th>            <td>y</td>        <th>  R-squared:         </th> <td>   0.452</td>\n",
       "</tr>\n",
       "<tr>\n",
       "  <th>Model:</th>                   <td>OLS</td>       <th>  Adj. R-squared:    </th> <td>   0.442</td>\n",
       "</tr>\n",
       "<tr>\n",
       "  <th>Method:</th>             <td>Least Squares</td>  <th>  F-statistic:       </th> <td>   46.62</td>\n",
       "</tr>\n",
       "<tr>\n",
       "  <th>Date:</th>             <td>Tue, 30 May 2023</td> <th>  Prob (F-statistic):</th> <td>4.72e-35</td>\n",
       "</tr>\n",
       "<tr>\n",
       "  <th>Time:</th>                 <td>08:02:48</td>     <th>  Log-Likelihood:    </th> <td>  253.31</td>\n",
       "</tr>\n",
       "<tr>\n",
       "  <th>No. Observations:</th>      <td>   289</td>      <th>  AIC:               </th> <td>  -494.6</td>\n",
       "</tr>\n",
       "<tr>\n",
       "  <th>Df Residuals:</th>          <td>   283</td>      <th>  BIC:               </th> <td>  -472.6</td>\n",
       "</tr>\n",
       "<tr>\n",
       "  <th>Df Model:</th>              <td>     5</td>      <th>                     </th>     <td> </td>   \n",
       "</tr>\n",
       "<tr>\n",
       "  <th>Covariance Type:</th>      <td>nonrobust</td>    <th>                     </th>     <td> </td>   \n",
       "</tr>\n",
       "</table>\n",
       "<table class=\"simpletable\">\n",
       "<tr>\n",
       "         <td></td>            <th>coef</th>     <th>std err</th>      <th>t</th>      <th>P>|t|</th>  <th>[0.025</th>    <th>0.975]</th>  \n",
       "</tr>\n",
       "<tr>\n",
       "  <th>const</th>           <td>    1.2263</td> <td>    0.111</td> <td>   11.057</td> <td> 0.000</td> <td>    1.008</td> <td>    1.445</td>\n",
       "</tr>\n",
       "<tr>\n",
       "  <th>T/|U|</th>           <td>    0.3329</td> <td>    0.188</td> <td>    1.768</td> <td> 0.078</td> <td>   -0.038</td> <td>    0.703</td>\n",
       "</tr>\n",
       "<tr>\n",
       "  <th>c_vir</th>           <td>    0.0081</td> <td>    0.005</td> <td>    1.647</td> <td> 0.101</td> <td>   -0.002</td> <td>    0.018</td>\n",
       "</tr>\n",
       "<tr>\n",
       "  <th>Halfmass_Scale</th>  <td>   -0.1571</td> <td>    0.266</td> <td>   -0.590</td> <td> 0.555</td> <td>   -0.681</td> <td>    0.367</td>\n",
       "</tr>\n",
       "<tr>\n",
       "  <th>Acc_Rate_2*Tdyn</th> <td> 2.644e-06</td> <td> 2.17e-07</td> <td>   12.195</td> <td> 0.000</td> <td> 2.22e-06</td> <td> 3.07e-06</td>\n",
       "</tr>\n",
       "<tr>\n",
       "  <th>Xoff</th>            <td>   -0.5491</td> <td>    0.109</td> <td>   -5.016</td> <td> 0.000</td> <td>   -0.765</td> <td>   -0.334</td>\n",
       "</tr>\n",
       "</table>\n",
       "<table class=\"simpletable\">\n",
       "<tr>\n",
       "  <th>Omnibus:</th>       <td> 6.427</td> <th>  Durbin-Watson:     </th> <td>   1.975</td>\n",
       "</tr>\n",
       "<tr>\n",
       "  <th>Prob(Omnibus):</th> <td> 0.040</td> <th>  Jarque-Bera (JB):  </th> <td>   6.186</td>\n",
       "</tr>\n",
       "<tr>\n",
       "  <th>Skew:</th>          <td>-0.323</td> <th>  Prob(JB):          </th> <td>  0.0454</td>\n",
       "</tr>\n",
       "<tr>\n",
       "  <th>Kurtosis:</th>      <td> 3.312</td> <th>  Cond. No.          </th> <td>5.00e+06</td>\n",
       "</tr>\n",
       "</table><br/><br/>Notes:<br/>[1] Standard Errors assume that the covariance matrix of the errors is correctly specified.<br/>[2] The condition number is large,  5e+06. This might indicate that there are<br/>strong multicollinearity or other numerical problems."
      ],
      "text/plain": [
       "<class 'statsmodels.iolib.summary.Summary'>\n",
       "\"\"\"\n",
       "                            OLS Regression Results                            \n",
       "==============================================================================\n",
       "Dep. Variable:                      y   R-squared:                       0.452\n",
       "Model:                            OLS   Adj. R-squared:                  0.442\n",
       "Method:                 Least Squares   F-statistic:                     46.62\n",
       "Date:                Tue, 30 May 2023   Prob (F-statistic):           4.72e-35\n",
       "Time:                        08:02:48   Log-Likelihood:                 253.31\n",
       "No. Observations:                 289   AIC:                            -494.6\n",
       "Df Residuals:                     283   BIC:                            -472.6\n",
       "Df Model:                           5                                         \n",
       "Covariance Type:            nonrobust                                         \n",
       "===================================================================================\n",
       "                      coef    std err          t      P>|t|      [0.025      0.975]\n",
       "-----------------------------------------------------------------------------------\n",
       "const               1.2263      0.111     11.057      0.000       1.008       1.445\n",
       "T/|U|               0.3329      0.188      1.768      0.078      -0.038       0.703\n",
       "c_vir               0.0081      0.005      1.647      0.101      -0.002       0.018\n",
       "Halfmass_Scale     -0.1571      0.266     -0.590      0.555      -0.681       0.367\n",
       "Acc_Rate_2*Tdyn  2.644e-06   2.17e-07     12.195      0.000    2.22e-06    3.07e-06\n",
       "Xoff               -0.5491      0.109     -5.016      0.000      -0.765      -0.334\n",
       "==============================================================================\n",
       "Omnibus:                        6.427   Durbin-Watson:                   1.975\n",
       "Prob(Omnibus):                  0.040   Jarque-Bera (JB):                6.186\n",
       "Skew:                          -0.323   Prob(JB):                       0.0454\n",
       "Kurtosis:                       3.312   Cond. No.                     5.00e+06\n",
       "==============================================================================\n",
       "\n",
       "Notes:\n",
       "[1] Standard Errors assume that the covariance matrix of the errors is correctly specified.\n",
       "[2] The condition number is large,  5e+06. This might indicate that there are\n",
       "strong multicollinearity or other numerical problems.\n",
       "\"\"\""
      ]
     },
     "metadata": {},
     "output_type": "display_data"
    },
    {
     "name": "stdout",
     "output_type": "stream",
     "text": [
      "Index(['const', 'T/|U|', 'c_vir', 'Halfmass_Scale', 'Acc_Rate_2*Tdyn', 'Xoff'], dtype='object')\n"
     ]
    },
    {
     "data": {
      "text/plain": [
       "array([         nan,   4.39308083,   9.34873888,  23.34355497,\n",
       "       137.53314339,   2.67730371])"
      ]
     },
     "metadata": {},
     "output_type": "display_data"
    },
    {
     "data": {
      "text/plain": [
       "array([           nan, 3.69607674e-02, 2.44175472e-03, 2.20921176e-06,\n",
       "       3.27362316e-26, 1.02884040e-01])"
      ]
     },
     "metadata": {},
     "output_type": "display_data"
    },
    {
     "name": "stdout",
     "output_type": "stream",
     "text": [
      "M5e+14-1e+15, z=0.00\n"
     ]
    },
    {
     "data": {
      "text/html": [
       "<table class=\"simpletable\">\n",
       "<caption>OLS Regression Results</caption>\n",
       "<tr>\n",
       "  <th>Dep. Variable:</th>            <td>y</td>        <th>  R-squared:         </th> <td>   0.455</td>\n",
       "</tr>\n",
       "<tr>\n",
       "  <th>Model:</th>                   <td>OLS</td>       <th>  Adj. R-squared:    </th> <td>   0.449</td>\n",
       "</tr>\n",
       "<tr>\n",
       "  <th>Method:</th>             <td>Least Squares</td>  <th>  F-statistic:       </th> <td>   82.39</td>\n",
       "</tr>\n",
       "<tr>\n",
       "  <th>Date:</th>             <td>Tue, 30 May 2023</td> <th>  Prob (F-statistic):</th> <td>8.06e-63</td>\n",
       "</tr>\n",
       "<tr>\n",
       "  <th>Time:</th>                 <td>08:02:48</td>     <th>  Log-Likelihood:    </th> <td>  565.29</td>\n",
       "</tr>\n",
       "<tr>\n",
       "  <th>No. Observations:</th>      <td>   500</td>      <th>  AIC:               </th> <td>  -1119.</td>\n",
       "</tr>\n",
       "<tr>\n",
       "  <th>Df Residuals:</th>          <td>   494</td>      <th>  BIC:               </th> <td>  -1093.</td>\n",
       "</tr>\n",
       "<tr>\n",
       "  <th>Df Model:</th>              <td>     5</td>      <th>                     </th>     <td> </td>   \n",
       "</tr>\n",
       "<tr>\n",
       "  <th>Covariance Type:</th>      <td>nonrobust</td>    <th>                     </th>     <td> </td>   \n",
       "</tr>\n",
       "</table>\n",
       "<table class=\"simpletable\">\n",
       "<tr>\n",
       "         <td></td>            <th>coef</th>     <th>std err</th>      <th>t</th>      <th>P>|t|</th>  <th>[0.025</th>    <th>0.975]</th>  \n",
       "</tr>\n",
       "<tr>\n",
       "  <th>const</th>           <td>    2.1902</td> <td>    0.052</td> <td>   42.405</td> <td> 0.000</td> <td>    2.089</td> <td>    2.292</td>\n",
       "</tr>\n",
       "<tr>\n",
       "  <th>T/|U|</th>           <td>    0.2317</td> <td>    0.093</td> <td>    2.496</td> <td> 0.013</td> <td>    0.049</td> <td>    0.414</td>\n",
       "</tr>\n",
       "<tr>\n",
       "  <th>c_vir</th>           <td>   -0.0091</td> <td>    0.003</td> <td>   -3.296</td> <td> 0.001</td> <td>   -0.014</td> <td>   -0.004</td>\n",
       "</tr>\n",
       "<tr>\n",
       "  <th>Halfmass_Scale</th>  <td>   -0.1480</td> <td>    0.054</td> <td>   -2.753</td> <td> 0.006</td> <td>   -0.254</td> <td>   -0.042</td>\n",
       "</tr>\n",
       "<tr>\n",
       "  <th>Acc_Rate_2*Tdyn</th> <td> 1.826e-06</td> <td> 1.32e-07</td> <td>   13.793</td> <td> 0.000</td> <td> 1.57e-06</td> <td> 2.09e-06</td>\n",
       "</tr>\n",
       "<tr>\n",
       "  <th>Xoff</th>            <td>   -0.2464</td> <td>    0.057</td> <td>   -4.301</td> <td> 0.000</td> <td>   -0.359</td> <td>   -0.134</td>\n",
       "</tr>\n",
       "</table>\n",
       "<table class=\"simpletable\">\n",
       "<tr>\n",
       "  <th>Omnibus:</th>       <td> 0.434</td> <th>  Durbin-Watson:     </th> <td>   2.103</td>\n",
       "</tr>\n",
       "<tr>\n",
       "  <th>Prob(Omnibus):</th> <td> 0.805</td> <th>  Jarque-Bera (JB):  </th> <td>   0.547</td>\n",
       "</tr>\n",
       "<tr>\n",
       "  <th>Skew:</th>          <td> 0.029</td> <th>  Prob(JB):          </th> <td>   0.761</td>\n",
       "</tr>\n",
       "<tr>\n",
       "  <th>Kurtosis:</th>      <td> 2.848</td> <th>  Cond. No.          </th> <td>2.88e+06</td>\n",
       "</tr>\n",
       "</table><br/><br/>Notes:<br/>[1] Standard Errors assume that the covariance matrix of the errors is correctly specified.<br/>[2] The condition number is large, 2.88e+06. This might indicate that there are<br/>strong multicollinearity or other numerical problems."
      ],
      "text/plain": [
       "<class 'statsmodels.iolib.summary.Summary'>\n",
       "\"\"\"\n",
       "                            OLS Regression Results                            \n",
       "==============================================================================\n",
       "Dep. Variable:                      y   R-squared:                       0.455\n",
       "Model:                            OLS   Adj. R-squared:                  0.449\n",
       "Method:                 Least Squares   F-statistic:                     82.39\n",
       "Date:                Tue, 30 May 2023   Prob (F-statistic):           8.06e-63\n",
       "Time:                        08:02:48   Log-Likelihood:                 565.29\n",
       "No. Observations:                 500   AIC:                            -1119.\n",
       "Df Residuals:                     494   BIC:                            -1093.\n",
       "Df Model:                           5                                         \n",
       "Covariance Type:            nonrobust                                         \n",
       "===================================================================================\n",
       "                      coef    std err          t      P>|t|      [0.025      0.975]\n",
       "-----------------------------------------------------------------------------------\n",
       "const               2.1902      0.052     42.405      0.000       2.089       2.292\n",
       "T/|U|               0.2317      0.093      2.496      0.013       0.049       0.414\n",
       "c_vir              -0.0091      0.003     -3.296      0.001      -0.014      -0.004\n",
       "Halfmass_Scale     -0.1480      0.054     -2.753      0.006      -0.254      -0.042\n",
       "Acc_Rate_2*Tdyn  1.826e-06   1.32e-07     13.793      0.000    1.57e-06    2.09e-06\n",
       "Xoff               -0.2464      0.057     -4.301      0.000      -0.359      -0.134\n",
       "==============================================================================\n",
       "Omnibus:                        0.434   Durbin-Watson:                   2.103\n",
       "Prob(Omnibus):                  0.805   Jarque-Bera (JB):                0.547\n",
       "Skew:                           0.029   Prob(JB):                        0.761\n",
       "Kurtosis:                       2.848   Cond. No.                     2.88e+06\n",
       "==============================================================================\n",
       "\n",
       "Notes:\n",
       "[1] Standard Errors assume that the covariance matrix of the errors is correctly specified.\n",
       "[2] The condition number is large, 2.88e+06. This might indicate that there are\n",
       "strong multicollinearity or other numerical problems.\n",
       "\"\"\""
      ]
     },
     "metadata": {},
     "output_type": "display_data"
    },
    {
     "name": "stdout",
     "output_type": "stream",
     "text": [
      "Index(['const', 'T/|U|', 'c_vir', 'Halfmass_Scale', 'Acc_Rate_2*Tdyn', 'Xoff'], dtype='object')\n"
     ]
    },
    {
     "data": {
      "text/plain": [
       "array([         nan,  62.73366918,  65.81266164, 117.18601792,\n",
       "       365.99487714,  51.2555755 ])"
      ]
     },
     "metadata": {},
     "output_type": "display_data"
    },
    {
     "data": {
      "text/plain": [
       "array([           nan, 1.55524202e-14, 3.89684738e-15, 1.14039486e-24,\n",
       "       1.43640576e-61, 2.92631385e-12])"
      ]
     },
     "metadata": {},
     "output_type": "display_data"
    },
    {
     "name": "stdout",
     "output_type": "stream",
     "text": [
      "M5e+14-1e+15, z=0.49\n"
     ]
    },
    {
     "data": {
      "text/html": [
       "<table class=\"simpletable\">\n",
       "<caption>OLS Regression Results</caption>\n",
       "<tr>\n",
       "  <th>Dep. Variable:</th>            <td>y</td>        <th>  R-squared:         </th> <td>   0.288</td>\n",
       "</tr>\n",
       "<tr>\n",
       "  <th>Model:</th>                   <td>OLS</td>       <th>  Adj. R-squared:    </th> <td>   0.260</td>\n",
       "</tr>\n",
       "<tr>\n",
       "  <th>Method:</th>             <td>Least Squares</td>  <th>  F-statistic:       </th> <td>   10.50</td>\n",
       "</tr>\n",
       "<tr>\n",
       "  <th>Date:</th>             <td>Tue, 30 May 2023</td> <th>  Prob (F-statistic):</th> <td>1.75e-08</td>\n",
       "</tr>\n",
       "<tr>\n",
       "  <th>Time:</th>                 <td>08:02:48</td>     <th>  Log-Likelihood:    </th> <td>  106.44</td>\n",
       "</tr>\n",
       "<tr>\n",
       "  <th>No. Observations:</th>      <td>   136</td>      <th>  AIC:               </th> <td>  -200.9</td>\n",
       "</tr>\n",
       "<tr>\n",
       "  <th>Df Residuals:</th>          <td>   130</td>      <th>  BIC:               </th> <td>  -183.4</td>\n",
       "</tr>\n",
       "<tr>\n",
       "  <th>Df Model:</th>              <td>     5</td>      <th>                     </th>     <td> </td>   \n",
       "</tr>\n",
       "<tr>\n",
       "  <th>Covariance Type:</th>      <td>nonrobust</td>    <th>                     </th>     <td> </td>   \n",
       "</tr>\n",
       "</table>\n",
       "<table class=\"simpletable\">\n",
       "<tr>\n",
       "         <td></td>            <th>coef</th>     <th>std err</th>      <th>t</th>      <th>P>|t|</th>  <th>[0.025</th>    <th>0.975]</th>  \n",
       "</tr>\n",
       "<tr>\n",
       "  <th>const</th>           <td>    2.2635</td> <td>    0.197</td> <td>   11.511</td> <td> 0.000</td> <td>    1.874</td> <td>    2.652</td>\n",
       "</tr>\n",
       "<tr>\n",
       "  <th>T/|U|</th>           <td>   -0.0419</td> <td>    0.306</td> <td>   -0.137</td> <td> 0.891</td> <td>   -0.648</td> <td>    0.564</td>\n",
       "</tr>\n",
       "<tr>\n",
       "  <th>c_vir</th>           <td>   -0.0028</td> <td>    0.009</td> <td>   -0.313</td> <td> 0.754</td> <td>   -0.020</td> <td>    0.015</td>\n",
       "</tr>\n",
       "<tr>\n",
       "  <th>Halfmass_Scale</th>  <td>   -0.5378</td> <td>    0.331</td> <td>   -1.624</td> <td> 0.107</td> <td>   -1.193</td> <td>    0.117</td>\n",
       "</tr>\n",
       "<tr>\n",
       "  <th>Acc_Rate_2*Tdyn</th> <td>  1.94e-06</td> <td> 3.16e-07</td> <td>    6.148</td> <td> 0.000</td> <td> 1.32e-06</td> <td> 2.56e-06</td>\n",
       "</tr>\n",
       "<tr>\n",
       "  <th>Xoff</th>            <td>   -0.4078</td> <td>    0.143</td> <td>   -2.845</td> <td> 0.005</td> <td>   -0.691</td> <td>   -0.124</td>\n",
       "</tr>\n",
       "</table>\n",
       "<table class=\"simpletable\">\n",
       "<tr>\n",
       "  <th>Omnibus:</th>       <td>159.655</td> <th>  Durbin-Watson:     </th> <td>   1.993</td>\n",
       "</tr>\n",
       "<tr>\n",
       "  <th>Prob(Omnibus):</th> <td> 0.000</td>  <th>  Jarque-Bera (JB):  </th> <td>5694.895</td>\n",
       "</tr>\n",
       "<tr>\n",
       "  <th>Skew:</th>          <td>-4.187</td>  <th>  Prob(JB):          </th> <td>    0.00</td>\n",
       "</tr>\n",
       "<tr>\n",
       "  <th>Kurtosis:</th>      <td>33.575</td>  <th>  Cond. No.          </th> <td>6.10e+06</td>\n",
       "</tr>\n",
       "</table><br/><br/>Notes:<br/>[1] Standard Errors assume that the covariance matrix of the errors is correctly specified.<br/>[2] The condition number is large, 6.1e+06. This might indicate that there are<br/>strong multicollinearity or other numerical problems."
      ],
      "text/plain": [
       "<class 'statsmodels.iolib.summary.Summary'>\n",
       "\"\"\"\n",
       "                            OLS Regression Results                            \n",
       "==============================================================================\n",
       "Dep. Variable:                      y   R-squared:                       0.288\n",
       "Model:                            OLS   Adj. R-squared:                  0.260\n",
       "Method:                 Least Squares   F-statistic:                     10.50\n",
       "Date:                Tue, 30 May 2023   Prob (F-statistic):           1.75e-08\n",
       "Time:                        08:02:48   Log-Likelihood:                 106.44\n",
       "No. Observations:                 136   AIC:                            -200.9\n",
       "Df Residuals:                     130   BIC:                            -183.4\n",
       "Df Model:                           5                                         \n",
       "Covariance Type:            nonrobust                                         \n",
       "===================================================================================\n",
       "                      coef    std err          t      P>|t|      [0.025      0.975]\n",
       "-----------------------------------------------------------------------------------\n",
       "const               2.2635      0.197     11.511      0.000       1.874       2.652\n",
       "T/|U|              -0.0419      0.306     -0.137      0.891      -0.648       0.564\n",
       "c_vir              -0.0028      0.009     -0.313      0.754      -0.020       0.015\n",
       "Halfmass_Scale     -0.5378      0.331     -1.624      0.107      -1.193       0.117\n",
       "Acc_Rate_2*Tdyn   1.94e-06   3.16e-07      6.148      0.000    1.32e-06    2.56e-06\n",
       "Xoff               -0.4078      0.143     -2.845      0.005      -0.691      -0.124\n",
       "==============================================================================\n",
       "Omnibus:                      159.655   Durbin-Watson:                   1.993\n",
       "Prob(Omnibus):                  0.000   Jarque-Bera (JB):             5694.895\n",
       "Skew:                          -4.187   Prob(JB):                         0.00\n",
       "Kurtosis:                      33.575   Cond. No.                     6.10e+06\n",
       "==============================================================================\n",
       "\n",
       "Notes:\n",
       "[1] Standard Errors assume that the covariance matrix of the errors is correctly specified.\n",
       "[2] The condition number is large, 6.1e+06. This might indicate that there are\n",
       "strong multicollinearity or other numerical problems.\n",
       "\"\"\""
      ]
     },
     "metadata": {},
     "output_type": "display_data"
    },
    {
     "name": "stdout",
     "output_type": "stream",
     "text": [
      "Index(['const', 'T/|U|', 'c_vir', 'Halfmass_Scale', 'Acc_Rate_2*Tdyn', 'Xoff'], dtype='object')\n"
     ]
    },
    {
     "data": {
      "text/plain": [
       "array([        nan,  0.07997793,  0.34830645,  4.09476069, 25.63319371,\n",
       "        1.25306241])"
      ]
     },
     "metadata": {},
     "output_type": "display_data"
    },
    {
     "data": {
      "text/plain": [
       "array([           nan, 7.77763705e-01, 5.56067317e-01, 4.50048218e-02,\n",
       "       1.33707429e-06, 2.64970886e-01])"
      ]
     },
     "metadata": {},
     "output_type": "display_data"
    },
    {
     "name": "stdout",
     "output_type": "stream",
     "text": [
      "M5e+14-1e+15, z=1.03\n"
     ]
    },
    {
     "data": {
      "text/html": [
       "<table class=\"simpletable\">\n",
       "<caption>OLS Regression Results</caption>\n",
       "<tr>\n",
       "  <th>Dep. Variable:</th>            <td>y</td>        <th>  R-squared:         </th> <td>   1.000</td>\n",
       "</tr>\n",
       "<tr>\n",
       "  <th>Model:</th>                   <td>OLS</td>       <th>  Adj. R-squared:    </th> <td>     nan</td>\n",
       "</tr>\n",
       "<tr>\n",
       "  <th>Method:</th>             <td>Least Squares</td>  <th>  F-statistic:       </th> <td>     nan</td>\n",
       "</tr>\n",
       "<tr>\n",
       "  <th>Date:</th>             <td>Tue, 30 May 2023</td> <th>  Prob (F-statistic):</th>  <td>   nan</td> \n",
       "</tr>\n",
       "<tr>\n",
       "  <th>Time:</th>                 <td>08:02:48</td>     <th>  Log-Likelihood:    </th> <td>  115.57</td>\n",
       "</tr>\n",
       "<tr>\n",
       "  <th>No. Observations:</th>      <td>     5</td>      <th>  AIC:               </th> <td>  -221.1</td>\n",
       "</tr>\n",
       "<tr>\n",
       "  <th>Df Residuals:</th>          <td>     0</td>      <th>  BIC:               </th> <td>  -223.1</td>\n",
       "</tr>\n",
       "<tr>\n",
       "  <th>Df Model:</th>              <td>     4</td>      <th>                     </th>     <td> </td>   \n",
       "</tr>\n",
       "<tr>\n",
       "  <th>Covariance Type:</th>      <td>nonrobust</td>    <th>                     </th>     <td> </td>   \n",
       "</tr>\n",
       "</table>\n",
       "<table class=\"simpletable\">\n",
       "<tr>\n",
       "         <td></td>            <th>coef</th>     <th>std err</th>      <th>t</th>      <th>P>|t|</th>  <th>[0.025</th>    <th>0.975]</th>  \n",
       "</tr>\n",
       "<tr>\n",
       "  <th>const</th>           <td>    1.5311</td> <td>      inf</td> <td>        0</td> <td>   nan</td> <td>      nan</td> <td>      nan</td>\n",
       "</tr>\n",
       "<tr>\n",
       "  <th>T/|U|</th>           <td>    0.9184</td> <td>      inf</td> <td>        0</td> <td>   nan</td> <td>      nan</td> <td>      nan</td>\n",
       "</tr>\n",
       "<tr>\n",
       "  <th>c_vir</th>           <td>   -0.1248</td> <td>      inf</td> <td>       -0</td> <td>   nan</td> <td>      nan</td> <td>      nan</td>\n",
       "</tr>\n",
       "<tr>\n",
       "  <th>Halfmass_Scale</th>  <td>    1.8189</td> <td>      inf</td> <td>        0</td> <td>   nan</td> <td>      nan</td> <td>      nan</td>\n",
       "</tr>\n",
       "<tr>\n",
       "  <th>Acc_Rate_2*Tdyn</th> <td> 1.535e-06</td> <td>      inf</td> <td>        0</td> <td>   nan</td> <td>      nan</td> <td>      nan</td>\n",
       "</tr>\n",
       "<tr>\n",
       "  <th>Xoff</th>            <td>   -3.7076</td> <td>      inf</td> <td>       -0</td> <td>   nan</td> <td>      nan</td> <td>      nan</td>\n",
       "</tr>\n",
       "</table>\n",
       "<table class=\"simpletable\">\n",
       "<tr>\n",
       "  <th>Omnibus:</th>       <td>   nan</td> <th>  Durbin-Watson:     </th> <td>   0.802</td>\n",
       "</tr>\n",
       "<tr>\n",
       "  <th>Prob(Omnibus):</th> <td>   nan</td> <th>  Jarque-Bera (JB):  </th> <td>   0.407</td>\n",
       "</tr>\n",
       "<tr>\n",
       "  <th>Skew:</th>          <td>-0.170</td> <th>  Prob(JB):          </th> <td>   0.816</td>\n",
       "</tr>\n",
       "<tr>\n",
       "  <th>Kurtosis:</th>      <td> 1.644</td> <th>  Cond. No.          </th> <td>1.93e+07</td>\n",
       "</tr>\n",
       "</table><br/><br/>Notes:<br/>[1] Standard Errors assume that the covariance matrix of the errors is correctly specified.<br/>[2] The input rank is higher than the number of observations.<br/>[3] The condition number is large, 1.93e+07. This might indicate that there are<br/>strong multicollinearity or other numerical problems."
      ],
      "text/plain": [
       "<class 'statsmodels.iolib.summary.Summary'>\n",
       "\"\"\"\n",
       "                            OLS Regression Results                            \n",
       "==============================================================================\n",
       "Dep. Variable:                      y   R-squared:                       1.000\n",
       "Model:                            OLS   Adj. R-squared:                    nan\n",
       "Method:                 Least Squares   F-statistic:                       nan\n",
       "Date:                Tue, 30 May 2023   Prob (F-statistic):                nan\n",
       "Time:                        08:02:48   Log-Likelihood:                 115.57\n",
       "No. Observations:                   5   AIC:                            -221.1\n",
       "Df Residuals:                       0   BIC:                            -223.1\n",
       "Df Model:                           4                                         \n",
       "Covariance Type:            nonrobust                                         \n",
       "===================================================================================\n",
       "                      coef    std err          t      P>|t|      [0.025      0.975]\n",
       "-----------------------------------------------------------------------------------\n",
       "const               1.5311        inf          0        nan         nan         nan\n",
       "T/|U|               0.9184        inf          0        nan         nan         nan\n",
       "c_vir              -0.1248        inf         -0        nan         nan         nan\n",
       "Halfmass_Scale      1.8189        inf          0        nan         nan         nan\n",
       "Acc_Rate_2*Tdyn  1.535e-06        inf          0        nan         nan         nan\n",
       "Xoff               -3.7076        inf         -0        nan         nan         nan\n",
       "==============================================================================\n",
       "Omnibus:                          nan   Durbin-Watson:                   0.802\n",
       "Prob(Omnibus):                    nan   Jarque-Bera (JB):                0.407\n",
       "Skew:                          -0.170   Prob(JB):                        0.816\n",
       "Kurtosis:                       1.644   Cond. No.                     1.93e+07\n",
       "==============================================================================\n",
       "\n",
       "Notes:\n",
       "[1] Standard Errors assume that the covariance matrix of the errors is correctly specified.\n",
       "[2] The input rank is higher than the number of observations.\n",
       "[3] The condition number is large, 1.93e+07. This might indicate that there are\n",
       "strong multicollinearity or other numerical problems.\n",
       "\"\"\""
      ]
     },
     "metadata": {},
     "output_type": "display_data"
    },
    {
     "name": "stdout",
     "output_type": "stream",
     "text": [
      "Index(['const', 'T/|U|', 'c_vir', 'Halfmass_Scale', 'Acc_Rate_2*Tdyn', 'Xoff'], dtype='object')\n"
     ]
    },
    {
     "data": {
      "text/plain": [
       "array([       nan, 1.52376295, 2.68300471, 1.0031954 , 1.20041498,\n",
       "       2.15929048])"
      ]
     },
     "metadata": {},
     "output_type": "display_data"
    },
    {
     "data": {
      "text/plain": [
       "array([       nan, 0.30492752, 0.19995008, 0.39034263, 0.35331644,\n",
       "       0.23804569])"
      ]
     },
     "metadata": {},
     "output_type": "display_data"
    }
   ],
   "source": [
    "from scipy import stats\n",
    "nBootstrap = 10\n",
    "X_params = ['T/|U|', 'c_vir', 'Halfmass_Scale', 'Acc_Rate_2*Tdyn', 'Xoff']\n",
    "\n",
    "for i, cur_mass_bin in enumerate(mass_bins):\n",
    "    for j, cur_a_bin in enumerate(a_bins):     \n",
    "        mass_min = cur_mass_bin[0]; mass_max = cur_mass_bin[1]\n",
    "        print('M{:.2g}-{:.2g}, z={:.2f}'.format(mass_min, mass_max, 1/cur_a_bin-1))\n",
    "        \n",
    "        mask = (matched_halo_df.M200c >= mass_min) & (matched_halo_df.M200c < mass_max) & (matched_halo_df.scale == cur_a_bin) \n",
    "        cur_df = matched_halo_df[mask]\n",
    "            \n",
    "\n",
    "        ##Apply linear regression\n",
    "        X = cur_df[X_params]\n",
    "        X = sm.add_constant(X)\n",
    "        y = np.log10(np.array(cur_df['Ngal_R200c'],dtype=float))\n",
    "        mreg = sm.OLS(y, X).fit()\n",
    "        \n",
    "        display(mreg.summary())\n",
    "        \n",
    "        print(X.columns)\n",
    "        (F, pval) = f_regression(X, y)\n",
    "        display(F, pval)"
   ]
  },
  {
   "cell_type": "code",
   "execution_count": null,
   "id": "d55620a6-e4e4-4007-a564-877a4e85b1a4",
   "metadata": {},
   "outputs": [],
   "source": []
  },
  {
   "cell_type": "markdown",
   "id": "065c9fbd-df06-455b-932d-5db2d5a964b7",
   "metadata": {},
   "source": [
    "## Testing the model on subset of data\n",
    "Using z=0.00, one single mass bin\n",
    "\n",
    "* Determine using F-regression which variables to use.\n",
    "* Check for residuals\n",
    "* Homodescedity\n",
    "* Normal errors\n",
    "* Multi-collinearity"
   ]
  },
  {
   "cell_type": "code",
   "execution_count": 25,
   "id": "a09305a2-fb39-4415-b747-d7132cd1528c",
   "metadata": {},
   "outputs": [],
   "source": [
    "a_bins = [1, 0.6712, 0.4922]"
   ]
  },
  {
   "cell_type": "code",
   "execution_count": 37,
   "id": "b03cabf2-bd47-4997-bed2-6e07747309d1",
   "metadata": {},
   "outputs": [],
   "source": [
    "mask = (matched_halo_df.mvir >= 1e14) & (matched_halo_df.mvir < 2e14) & (matched_halo_df.scale == 1) \n",
    "cur_df = matched_halo_df[mask]"
   ]
  },
  {
   "cell_type": "code",
   "execution_count": 38,
   "id": "7eb925aa-5e80-4d01-a995-142e01937b61",
   "metadata": {},
   "outputs": [
    {
     "data": {
      "text/plain": [
       "14      4.132651\n",
       "15      5.114444\n",
       "16      7.612013\n",
       "17      3.514530\n",
       "18      7.178709\n",
       "          ...   \n",
       "1200    2.934424\n",
       "1201    5.090178\n",
       "1202    2.309766\n",
       "1203    4.432682\n",
       "1204    8.732649\n",
       "Name: c_vir, Length: 507, dtype: float64"
      ]
     },
     "execution_count": 38,
     "metadata": {},
     "output_type": "execute_result"
    }
   ],
   "source": [
    "cur_df.c_vir"
   ]
  },
  {
   "cell_type": "code",
   "execution_count": 39,
   "id": "75a85a28-d756-478d-98d1-cad934237fd8",
   "metadata": {},
   "outputs": [],
   "source": [
    "Mvir = np.log10(np.copy(cur_df['mvir']))\n",
    "richness = np.copy(cur_df['Ngal_R200c'])"
   ]
  },
  {
   "cell_type": "code",
   "execution_count": 40,
   "id": "99fb4df8-e152-429b-9025-b89d007cc8c2",
   "metadata": {},
   "outputs": [],
   "source": [
    "cur_df['logM'] = np.log10(Mvir)\n",
    "cur_df['lnl'] = np.log10(richness)\n",
    "\n",
    "##Inclusive of all parameters\n",
    "X_params = ['T/|U|', 'c_vir', 'Halfmass_Scale', 'Acc_Rate_2*Tdyn', 'Xoff']\n",
    "#X_params = ['Halfmass_Scale', 'Acc_Rate_2*Tdyn']\n",
    "X = cur_df[X_params]\n",
    "#X = cur_df[['logM', 'Acc_Rate_2*Tdyn']]\n",
    "\n",
    "#DS_inner = np.copy(cur_df['delta_sigma'])\n",
    "#DS_inner = np.vstack(DS_inner)\n",
    "#DS_inner = DS_inner[:,0]\n",
    "y = np.log10(richness)\n"
   ]
  },
  {
   "cell_type": "code",
   "execution_count": 41,
   "id": "eb59bb60-2f4c-421e-9976-bc02aedcca94",
   "metadata": {},
   "outputs": [
    {
     "data": {
      "text/html": [
       "<table class=\"simpletable\">\n",
       "<caption>OLS Regression Results</caption>\n",
       "<tr>\n",
       "  <th>Dep. Variable:</th>            <td>y</td>        <th>  R-squared:         </th> <td>   0.384</td>\n",
       "</tr>\n",
       "<tr>\n",
       "  <th>Model:</th>                   <td>OLS</td>       <th>  Adj. R-squared:    </th> <td>   0.377</td>\n",
       "</tr>\n",
       "<tr>\n",
       "  <th>Method:</th>             <td>Least Squares</td>  <th>  F-statistic:       </th> <td>   62.34</td>\n",
       "</tr>\n",
       "<tr>\n",
       "  <th>Date:</th>             <td>Thu, 26 Jan 2023</td> <th>  Prob (F-statistic):</th> <td>1.69e-50</td>\n",
       "</tr>\n",
       "<tr>\n",
       "  <th>Time:</th>                 <td>11:42:59</td>     <th>  Log-Likelihood:    </th> <td>  361.87</td>\n",
       "</tr>\n",
       "<tr>\n",
       "  <th>No. Observations:</th>      <td>   507</td>      <th>  AIC:               </th> <td>  -711.7</td>\n",
       "</tr>\n",
       "<tr>\n",
       "  <th>Df Residuals:</th>          <td>   501</td>      <th>  BIC:               </th> <td>  -686.4</td>\n",
       "</tr>\n",
       "<tr>\n",
       "  <th>Df Model:</th>              <td>     5</td>      <th>                     </th>     <td> </td>   \n",
       "</tr>\n",
       "<tr>\n",
       "  <th>Covariance Type:</th>      <td>nonrobust</td>    <th>                     </th>     <td> </td>   \n",
       "</tr>\n",
       "</table>\n",
       "<table class=\"simpletable\">\n",
       "<tr>\n",
       "         <td></td>            <th>coef</th>     <th>std err</th>      <th>t</th>      <th>P>|t|</th>  <th>[0.025</th>    <th>0.975]</th>  \n",
       "</tr>\n",
       "<tr>\n",
       "  <th>const</th>           <td>    1.1266</td> <td>    0.087</td> <td>   12.984</td> <td> 0.000</td> <td>    0.956</td> <td>    1.297</td>\n",
       "</tr>\n",
       "<tr>\n",
       "  <th>T/|U|</th>           <td>    0.6815</td> <td>    0.149</td> <td>    4.568</td> <td> 0.000</td> <td>    0.388</td> <td>    0.975</td>\n",
       "</tr>\n",
       "<tr>\n",
       "  <th>c_vir</th>           <td>   -0.0132</td> <td>    0.004</td> <td>   -3.274</td> <td> 0.001</td> <td>   -0.021</td> <td>   -0.005</td>\n",
       "</tr>\n",
       "<tr>\n",
       "  <th>Halfmass_Scale</th>  <td>   -0.0129</td> <td>    0.079</td> <td>   -0.163</td> <td> 0.870</td> <td>   -0.168</td> <td>    0.142</td>\n",
       "</tr>\n",
       "<tr>\n",
       "  <th>Acc_Rate_2*Tdyn</th> <td> 9.692e-06</td> <td> 9.97e-07</td> <td>    9.717</td> <td> 0.000</td> <td> 7.73e-06</td> <td> 1.17e-05</td>\n",
       "</tr>\n",
       "<tr>\n",
       "  <th>Xoff</th>            <td>   -0.0009</td> <td>    0.000</td> <td>   -5.012</td> <td> 0.000</td> <td>   -0.001</td> <td>   -0.001</td>\n",
       "</tr>\n",
       "</table>\n",
       "<table class=\"simpletable\">\n",
       "<tr>\n",
       "  <th>Omnibus:</th>       <td>10.960</td> <th>  Durbin-Watson:     </th> <td>   1.522</td>\n",
       "</tr>\n",
       "<tr>\n",
       "  <th>Prob(Omnibus):</th> <td> 0.004</td> <th>  Jarque-Bera (JB):  </th> <td>  11.129</td>\n",
       "</tr>\n",
       "<tr>\n",
       "  <th>Skew:</th>          <td>-0.360</td> <th>  Prob(JB):          </th> <td> 0.00383</td>\n",
       "</tr>\n",
       "<tr>\n",
       "  <th>Kurtosis:</th>      <td> 3.096</td> <th>  Cond. No.          </th> <td>4.55e+05</td>\n",
       "</tr>\n",
       "</table><br/><br/>Notes:<br/>[1] Standard Errors assume that the covariance matrix of the errors is correctly specified.<br/>[2] The condition number is large, 4.55e+05. This might indicate that there are<br/>strong multicollinearity or other numerical problems."
      ],
      "text/plain": [
       "<class 'statsmodels.iolib.summary.Summary'>\n",
       "\"\"\"\n",
       "                            OLS Regression Results                            \n",
       "==============================================================================\n",
       "Dep. Variable:                      y   R-squared:                       0.384\n",
       "Model:                            OLS   Adj. R-squared:                  0.377\n",
       "Method:                 Least Squares   F-statistic:                     62.34\n",
       "Date:                Thu, 26 Jan 2023   Prob (F-statistic):           1.69e-50\n",
       "Time:                        11:42:59   Log-Likelihood:                 361.87\n",
       "No. Observations:                 507   AIC:                            -711.7\n",
       "Df Residuals:                     501   BIC:                            -686.4\n",
       "Df Model:                           5                                         \n",
       "Covariance Type:            nonrobust                                         \n",
       "===================================================================================\n",
       "                      coef    std err          t      P>|t|      [0.025      0.975]\n",
       "-----------------------------------------------------------------------------------\n",
       "const               1.1266      0.087     12.984      0.000       0.956       1.297\n",
       "T/|U|               0.6815      0.149      4.568      0.000       0.388       0.975\n",
       "c_vir              -0.0132      0.004     -3.274      0.001      -0.021      -0.005\n",
       "Halfmass_Scale     -0.0129      0.079     -0.163      0.870      -0.168       0.142\n",
       "Acc_Rate_2*Tdyn  9.692e-06   9.97e-07      9.717      0.000    7.73e-06    1.17e-05\n",
       "Xoff               -0.0009      0.000     -5.012      0.000      -0.001      -0.001\n",
       "==============================================================================\n",
       "Omnibus:                       10.960   Durbin-Watson:                   1.522\n",
       "Prob(Omnibus):                  0.004   Jarque-Bera (JB):               11.129\n",
       "Skew:                          -0.360   Prob(JB):                      0.00383\n",
       "Kurtosis:                       3.096   Cond. No.                     4.55e+05\n",
       "==============================================================================\n",
       "\n",
       "Notes:\n",
       "[1] Standard Errors assume that the covariance matrix of the errors is correctly specified.\n",
       "[2] The condition number is large, 4.55e+05. This might indicate that there are\n",
       "strong multicollinearity or other numerical problems.\n",
       "\"\"\""
      ]
     },
     "metadata": {},
     "output_type": "display_data"
    }
   ],
   "source": [
    "X = sm.add_constant(X)\n",
    "mreg = sm.OLS(y, X).fit()\n",
    "display(mreg.summary())"
   ]
  },
  {
   "cell_type": "markdown",
   "id": "c80c8b52-21f1-4528-8f02-5455ad361b84",
   "metadata": {},
   "source": [
    "### Apply a F-regression test to see which variables to use and which to omit\n",
    "\n",
    "Highest one is 'Acc_Rate_2*Tdyn' and 'logM'"
   ]
  },
  {
   "cell_type": "code",
   "execution_count": 331,
   "id": "380bd718-5f1a-449a-b8de-ca537b202499",
   "metadata": {},
   "outputs": [
    {
     "name": "stdout",
     "output_type": "stream",
     "text": [
      "Index(['const', 'Halfmass_Scale', 'Acc_Rate_2*Tdyn'], dtype='object')\n"
     ]
    },
    {
     "data": {
      "text/plain": [
       "array([         nan,  62.3922991 , 316.15032861])"
      ]
     },
     "metadata": {},
     "output_type": "display_data"
    },
    {
     "data": {
      "text/plain": [
       "array([           nan, 1.81413641e-14, 3.99774914e-55])"
      ]
     },
     "metadata": {},
     "output_type": "display_data"
    }
   ],
   "source": [
    "print(X.columns)\n",
    "(F, pval) = f_regression(X, y)\n",
    "display(F, pval)"
   ]
  },
  {
   "cell_type": "markdown",
   "id": "c3e32a29-8e25-40d9-b9ec-b6b50271d32b",
   "metadata": {},
   "source": [
    "### Test for homodescitiy\n",
    "\n",
    "If p>0.05 keep the null hypothesis for homodescity"
   ]
  },
  {
   "cell_type": "code",
   "execution_count": 332,
   "id": "a07d5b17-1920-4b39-a0b7-a81bc0088e43",
   "metadata": {},
   "outputs": [
    {
     "data": {
      "text/plain": [
       "[('Lagrange multiplier statistic', 11.012898934992855),\n",
       " ('p-value', 0.004060498752392812),\n",
       " ('f-value', 5.596682160705698),\n",
       " ('f p-value', 0.003947831294861755)]"
      ]
     },
     "execution_count": 332,
     "metadata": {},
     "output_type": "execute_result"
    }
   ],
   "source": [
    "## Test for homodes\n",
    "name = ['Lagrange multiplier statistic', 'p-value', \n",
    "        'f-value', 'f p-value']\n",
    "test = sms.het_breuschpagan(mreg.resid, mreg.model.exog)\n",
    "lzip(name, test)"
   ]
  },
  {
   "cell_type": "markdown",
   "id": "88131c80-3feb-46f1-9e5f-976f284a82a9",
   "metadata": {},
   "source": [
    "### Check for multi-collinearity\n",
    "\n",
    "VIF > 5 include:\n",
    "* Acc_Rate parameters. Retain only 1"
   ]
  },
  {
   "cell_type": "code",
   "execution_count": 333,
   "id": "4660d09f-2019-4875-8697-5270642db948",
   "metadata": {},
   "outputs": [
    {
     "name": "stdout",
     "output_type": "stream",
     "text": [
      "           feature        VIF\n",
      "0            const  92.263964\n",
      "1   Halfmass_Scale   2.017006\n",
      "2  Acc_Rate_2*Tdyn   2.017006\n"
     ]
    }
   ],
   "source": [
    "print(checking_vif(X))"
   ]
  },
  {
   "cell_type": "markdown",
   "id": "212834ea-9695-4680-a1fb-c10656bf9e8c",
   "metadata": {},
   "source": [
    "### Check for Gaussian residuals "
   ]
  },
  {
   "cell_type": "code",
   "execution_count": 334,
   "id": "7ee56203-8c03-48e2-98e0-c0638211c4df",
   "metadata": {},
   "outputs": [],
   "source": [
    "residuals = mreg.resid"
   ]
  },
  {
   "cell_type": "code",
   "execution_count": 335,
   "id": "e02373b9-5a1a-4722-9c09-2d84a410814a",
   "metadata": {},
   "outputs": [
    {
     "data": {
      "image/png": "[encoded data removed]",
      "text/plain": [
       "<Figure size 432x288 with 1 Axes>"
      ]
     },
     "metadata": {
      "needs_background": "light"
     },
     "output_type": "display_data"
    }
   ],
   "source": [
    "# Plot histogram of residuals\n",
    "sns.histplot(residuals, kde=True)\n",
    "plt.show()"
   ]
  },
  {
   "cell_type": "code",
   "execution_count": 336,
   "id": "dbe478c5-d920-48df-a19a-ee7b21faa394",
   "metadata": {},
   "outputs": [
    {
     "data": {
      "image/png": "[encoded data removed]",
      "text/plain": [
       "<Figure size 432x288 with 1 Axes>"
      ]
     },
     "metadata": {
      "needs_background": "light"
     },
     "output_type": "display_data"
    }
   ],
   "source": [
    "fitted = mreg.fittedvalues\n",
    "\n",
    "# sns.set_style(\"whitegrid\")\n",
    "sns.residplot(x = fitted, y = residuals, color=\"lightblue\", lowess=True)\n",
    "plt.xlabel(\"Fitted Values\")\n",
    "plt.ylabel(\"Residual\")\n",
    "plt.title(\"Residual PLOT\")\n",
    "plt.show()"
   ]
  },
  {
   "cell_type": "code",
   "execution_count": 337,
   "id": "3dd60cbc-1bf0-4474-9711-cd71676377c4",
   "metadata": {},
   "outputs": [
    {
     "data": {
      "image/png": "[encoded data removed]",
      "text/plain": [
       "<Figure size 432x288 with 1 Axes>"
      ]
     },
     "metadata": {
      "needs_background": "light"
     },
     "output_type": "display_data"
    }
   ],
   "source": [
    "# Plot q-q plot of residuals\n",
    "import pylab\n",
    "import scipy.stats as stats\n",
    "\n",
    "stats.probplot(residuals, dist=\"norm\", plot=pylab)\n",
    "plt.show()"
   ]
  },
  {
   "cell_type": "code",
   "execution_count": 338,
   "id": "6e774157-8691-4935-8648-b6be775c4d6c",
   "metadata": {},
   "outputs": [
    {
     "name": "stdout",
     "output_type": "stream",
     "text": [
      "0.43637764852644245 3.9485338999690644e-87\n"
     ]
    }
   ],
   "source": [
    "## Apply the KS Test\n",
    "from scipy.stats import kstest, norm\n",
    "ks_statistic, p_value = kstest(residuals, 'norm')\n",
    "print(ks_statistic, p_value)"
   ]
  },
  {
   "cell_type": "code",
   "execution_count": 339,
   "id": "5bfbb47a-e1d6-4e06-b9ed-ad9460014444",
   "metadata": {},
   "outputs": [
    {
     "data": {
      "text/plain": [
       "ShapiroResult(statistic=0.9874087572097778, pvalue=0.0002602220047265291)"
      ]
     },
     "execution_count": 339,
     "metadata": {},
     "output_type": "execute_result"
    }
   ],
   "source": [
    "## Apply the Shapiro-Wilk test\n",
    "from scipy.stats import norm\n",
    "from scipy import stats\n",
    "stats.shapiro(residuals)"
   ]
  },
  {
   "cell_type": "markdown",
   "id": "904cb034-b6dd-4ca2-8bfe-7f585e82cdfd",
   "metadata": {},
   "source": [
    "### Mean of residuals =0 "
   ]
  },
  {
   "cell_type": "code",
   "execution_count": 340,
   "id": "f44af2e4-95ec-4b35-8a9d-4f1a0d16d1f0",
   "metadata": {},
   "outputs": [
    {
     "name": "stdout",
     "output_type": "stream",
     "text": [
      "2.2447284919735467e-11\n",
      "0.06785534984154334\n"
     ]
    }
   ],
   "source": [
    "print(np.mean(residuals))\n",
    "print(np.std(residuals))"
   ]
  },
  {
   "cell_type": "markdown",
   "id": "e4018525-2059-4c34-8ccb-c4644d7bbb6c",
   "metadata": {},
   "source": [
    "### Reduce coefficients using M and highest F-statistic only\n"
   ]
  },
  {
   "cell_type": "code",
   "execution_count": 248,
   "id": "826f6c1b-8b59-4af3-95fb-66b1d90b0e83",
   "metadata": {},
   "outputs": [],
   "source": [
    "X_reduce = cur_df[['Acc_Rate_2*Tdyn']]"
   ]
  },
  {
   "cell_type": "code",
   "execution_count": 249,
   "id": "ae11b78e-25f8-4fd7-a531-ff7d7eb37ced",
   "metadata": {},
   "outputs": [
    {
     "data": {
      "text/html": [
       "<table class=\"simpletable\">\n",
       "<caption>OLS Regression Results</caption>\n",
       "<tr>\n",
       "  <th>Dep. Variable:</th>            <td>y</td>        <th>  R-squared:         </th> <td>   0.335</td>\n",
       "</tr>\n",
       "<tr>\n",
       "  <th>Model:</th>                   <td>OLS</td>       <th>  Adj. R-squared:    </th> <td>   0.333</td>\n",
       "</tr>\n",
       "<tr>\n",
       "  <th>Method:</th>             <td>Least Squares</td>  <th>  F-statistic:       </th> <td>   160.2</td>\n",
       "</tr>\n",
       "<tr>\n",
       "  <th>Date:</th>             <td>Mon, 12 Sep 2022</td> <th>  Prob (F-statistic):</th> <td>5.18e-30</td>\n",
       "</tr>\n",
       "<tr>\n",
       "  <th>Time:</th>                 <td>17:56:42</td>     <th>  Log-Likelihood:    </th> <td>  295.02</td>\n",
       "</tr>\n",
       "<tr>\n",
       "  <th>No. Observations:</th>      <td>   320</td>      <th>  AIC:               </th> <td>  -586.0</td>\n",
       "</tr>\n",
       "<tr>\n",
       "  <th>Df Residuals:</th>          <td>   318</td>      <th>  BIC:               </th> <td>  -578.5</td>\n",
       "</tr>\n",
       "<tr>\n",
       "  <th>Df Model:</th>              <td>     1</td>      <th>                     </th>     <td> </td>   \n",
       "</tr>\n",
       "<tr>\n",
       "  <th>Covariance Type:</th>      <td>nonrobust</td>    <th>                     </th>     <td> </td>   \n",
       "</tr>\n",
       "</table>\n",
       "<table class=\"simpletable\">\n",
       "<tr>\n",
       "         <td></td>            <th>coef</th>     <th>std err</th>      <th>t</th>      <th>P>|t|</th>  <th>[0.025</th>    <th>0.975]</th>  \n",
       "</tr>\n",
       "<tr>\n",
       "  <th>const</th>           <td>    1.5449</td> <td>    0.014</td> <td>  106.950</td> <td> 0.000</td> <td>    1.516</td> <td>    1.573</td>\n",
       "</tr>\n",
       "<tr>\n",
       "  <th>Acc_Rate_2*Tdyn</th> <td> 8.892e-06</td> <td> 7.03e-07</td> <td>   12.657</td> <td> 0.000</td> <td> 7.51e-06</td> <td> 1.03e-05</td>\n",
       "</tr>\n",
       "</table>\n",
       "<table class=\"simpletable\">\n",
       "<tr>\n",
       "  <th>Omnibus:</th>       <td> 0.857</td> <th>  Durbin-Watson:     </th> <td>   1.978</td>\n",
       "</tr>\n",
       "<tr>\n",
       "  <th>Prob(Omnibus):</th> <td> 0.652</td> <th>  Jarque-Bera (JB):  </th> <td>   0.750</td>\n",
       "</tr>\n",
       "<tr>\n",
       "  <th>Skew:</th>          <td>-0.118</td> <th>  Prob(JB):          </th> <td>   0.687</td>\n",
       "</tr>\n",
       "<tr>\n",
       "  <th>Kurtosis:</th>      <td> 3.028</td> <th>  Cond. No.          </th> <td>5.50e+04</td>\n",
       "</tr>\n",
       "</table><br/><br/>Notes:<br/>[1] Standard Errors assume that the covariance matrix of the errors is correctly specified.<br/>[2] The condition number is large, 5.5e+04. This might indicate that there are<br/>strong multicollinearity or other numerical problems."
      ],
      "text/plain": [
       "<class 'statsmodels.iolib.summary.Summary'>\n",
       "\"\"\"\n",
       "                            OLS Regression Results                            \n",
       "==============================================================================\n",
       "Dep. Variable:                      y   R-squared:                       0.335\n",
       "Model:                            OLS   Adj. R-squared:                  0.333\n",
       "Method:                 Least Squares   F-statistic:                     160.2\n",
       "Date:                Mon, 12 Sep 2022   Prob (F-statistic):           5.18e-30\n",
       "Time:                        17:56:42   Log-Likelihood:                 295.02\n",
       "No. Observations:                 320   AIC:                            -586.0\n",
       "Df Residuals:                     318   BIC:                            -578.5\n",
       "Df Model:                           1                                         \n",
       "Covariance Type:            nonrobust                                         \n",
       "===================================================================================\n",
       "                      coef    std err          t      P>|t|      [0.025      0.975]\n",
       "-----------------------------------------------------------------------------------\n",
       "const               1.5449      0.014    106.950      0.000       1.516       1.573\n",
       "Acc_Rate_2*Tdyn  8.892e-06   7.03e-07     12.657      0.000    7.51e-06    1.03e-05\n",
       "==============================================================================\n",
       "Omnibus:                        0.857   Durbin-Watson:                   1.978\n",
       "Prob(Omnibus):                  0.652   Jarque-Bera (JB):                0.750\n",
       "Skew:                          -0.118   Prob(JB):                        0.687\n",
       "Kurtosis:                       3.028   Cond. No.                     5.50e+04\n",
       "==============================================================================\n",
       "\n",
       "Notes:\n",
       "[1] Standard Errors assume that the covariance matrix of the errors is correctly specified.\n",
       "[2] The condition number is large, 5.5e+04. This might indicate that there are\n",
       "strong multicollinearity or other numerical problems.\n",
       "\"\"\""
      ]
     },
     "metadata": {},
     "output_type": "display_data"
    }
   ],
   "source": [
    "X_reduce = sm.add_constant(X_reduce)\n",
    "mreg2 = sm.OLS(y, X_reduce).fit()\n",
    "display(mreg2.summary())"
   ]
  },
  {
   "cell_type": "code",
   "execution_count": 250,
   "id": "e5ef98c1-79bc-4e4e-aecc-82514742f2b3",
   "metadata": {},
   "outputs": [
    {
     "name": "stdout",
     "output_type": "stream",
     "text": [
      "           feature       VIF\n",
      "0            const  7.163278\n",
      "1  Acc_Rate_2*Tdyn  1.000000\n"
     ]
    }
   ],
   "source": [
    "print(checking_vif(X_reduce))"
   ]
  },
  {
   "cell_type": "markdown",
   "id": "8248744b-9969-4e59-a883-af7db3a84a86",
   "metadata": {},
   "source": [
    "### Check for Gaussian residuals"
   ]
  },
  {
   "cell_type": "code",
   "execution_count": 251,
   "id": "4565eec8-618e-4e5e-81ae-049362668025",
   "metadata": {},
   "outputs": [],
   "source": [
    "residuals = mreg2.resid"
   ]
  },
  {
   "cell_type": "code",
   "execution_count": 252,
   "id": "b304fa94-9638-4ca0-831d-5281f54675d0",
   "metadata": {},
   "outputs": [
    {
     "data": {
      "image/png": "[encoded data removed]",
      "text/plain": [
       "<Figure size 432x288 with 1 Axes>"
      ]
     },
     "metadata": {
      "needs_background": "light"
     },
     "output_type": "display_data"
    }
   ],
   "source": [
    "# Plot histogram of residuals\n",
    "sns.histplot(residuals, kde=True)\n",
    "plt.show()"
   ]
  },
  {
   "cell_type": "code",
   "execution_count": 253,
   "id": "f0a917ec-9375-461f-820d-5f2e3e5a2fdb",
   "metadata": {},
   "outputs": [
    {
     "data": {
      "image/png": "[encoded data removed]",
      "text/plain": [
       "<Figure size 432x288 with 1 Axes>"
      ]
     },
     "metadata": {
      "needs_background": "light"
     },
     "output_type": "display_data"
    }
   ],
   "source": [
    "fitted = mreg2.fittedvalues\n",
    "\n",
    "# sns.set_style(\"whitegrid\")\n",
    "sns.residplot(x = fitted, y = residuals, color=\"lightblue\", lowess=True)\n",
    "plt.xlabel(\"Fitted Values\")\n",
    "plt.ylabel(\"Residual\")\n",
    "plt.title(\"Residual PLOT\")\n",
    "plt.show()"
   ]
  },
  {
   "cell_type": "code",
   "execution_count": 254,
   "id": "abd5baf9-8e00-4571-8093-d8be8cd0a2e9",
   "metadata": {},
   "outputs": [
    {
     "data": {
      "image/png": "[encoded data removed]",
      "text/plain": [
       "<Figure size 432x288 with 1 Axes>"
      ]
     },
     "metadata": {
      "needs_background": "light"
     },
     "output_type": "display_data"
    }
   ],
   "source": [
    "# Plot q-q plot of residuals\n",
    "import pylab\n",
    "import scipy.stats as stats\n",
    "\n",
    "stats.probplot(residuals, dist=\"norm\", plot=pylab)\n",
    "plt.show()"
   ]
  },
  {
   "cell_type": "code",
   "execution_count": 255,
   "id": "3e1c4af8-035f-4407-937a-a451f9bf2b74",
   "metadata": {},
   "outputs": [
    {
     "name": "stdout",
     "output_type": "stream",
     "text": [
      "0.41059276515894283 2.6218726615983446e-49\n"
     ]
    }
   ],
   "source": [
    "## Apply the KS Test\n",
    "from scipy.stats import kstest, norm\n",
    "ks_statistic, p_value = kstest(residuals, 'norm')\n",
    "print(ks_statistic, p_value)"
   ]
  },
  {
   "cell_type": "code",
   "execution_count": null,
   "id": "10a8383b-6466-4828-8b3d-f47fb75bde3f",
   "metadata": {},
   "outputs": [],
   "source": []
  },
  {
   "cell_type": "markdown",
   "id": "8882d94f-630d-42ff-a25a-5f7e22d37378",
   "metadata": {},
   "source": [
    "## Compute Covariance\n",
    "\n",
    "Run across mass and redshift bins for the full linear regression model. "
   ]
  },
  {
   "cell_type": "code",
   "execution_count": 347,
   "id": "6cf47034-96a5-4d08-ba30-45ec702ae7c5",
   "metadata": {},
   "outputs": [
    {
     "data": {
      "image/png": "[encoded data removed]",
      "text/plain": [
       "<Figure size 432x288 with 1 Axes>"
      ]
     },
     "metadata": {
      "needs_background": "light"
     },
     "output_type": "display_data"
    }
   ],
   "source": [
    "plt.plot(np.mean(np.vstack(cur_df.delta_sigma), axis=0))\n",
    "plt.show()"
   ]
  },
  {
   "cell_type": "code",
   "execution_count": 348,
   "id": "71170597-f379-46d8-8a3f-dccb578cb160",
   "metadata": {},
   "outputs": [
    {
     "data": {
      "text/html": [
       "<div>\n",
       "<style scoped>\n",
       "    .dataframe tbody tr th:only-of-type {\n",
       "        vertical-align: middle;\n",
       "    }\n",
       "\n",
       "    .dataframe tbody tr th {\n",
       "        vertical-align: top;\n",
       "    }\n",
       "\n",
       "    .dataframe thead th {\n",
       "        text-align: right;\n",
       "    }\n",
       "</style>\n",
       "<table border=\"1\" class=\"dataframe\">\n",
       "  <thead>\n",
       "    <tr style=\"text-align: right;\">\n",
       "      <th></th>\n",
       "      <th>mvir</th>\n",
       "      <th>T/|U|</th>\n",
       "      <th>Halfmass_Scale</th>\n",
       "      <th>Acc_Rate_Inst</th>\n",
       "      <th>Acc_Rate_100Myr</th>\n",
       "      <th>Acc_Rate_1*Tdyn</th>\n",
       "      <th>Acc_Rate_2*Tdyn</th>\n",
       "      <th>Acc_Rate_Mpeak</th>\n",
       "      <th>c_vir</th>\n",
       "    </tr>\n",
       "  </thead>\n",
       "  <tbody>\n",
       "    <tr>\n",
       "      <th>mvir</th>\n",
       "      <td>1.000000</td>\n",
       "      <td>0.053001</td>\n",
       "      <td>0.047163</td>\n",
       "      <td>0.253403</td>\n",
       "      <td>0.253403</td>\n",
       "      <td>0.372796</td>\n",
       "      <td>0.577193</td>\n",
       "      <td>0.615652</td>\n",
       "      <td>-0.048180</td>\n",
       "    </tr>\n",
       "    <tr>\n",
       "      <th>T/|U|</th>\n",
       "      <td>0.053001</td>\n",
       "      <td>1.000000</td>\n",
       "      <td>0.638348</td>\n",
       "      <td>0.596490</td>\n",
       "      <td>0.596490</td>\n",
       "      <td>0.722642</td>\n",
       "      <td>0.459072</td>\n",
       "      <td>0.422157</td>\n",
       "      <td>-0.156246</td>\n",
       "    </tr>\n",
       "    <tr>\n",
       "      <th>Halfmass_Scale</th>\n",
       "      <td>0.047163</td>\n",
       "      <td>0.638348</td>\n",
       "      <td>1.000000</td>\n",
       "      <td>0.387201</td>\n",
       "      <td>0.387201</td>\n",
       "      <td>0.691031</td>\n",
       "      <td>0.710081</td>\n",
       "      <td>0.692476</td>\n",
       "      <td>-0.321483</td>\n",
       "    </tr>\n",
       "    <tr>\n",
       "      <th>Acc_Rate_Inst</th>\n",
       "      <td>0.253403</td>\n",
       "      <td>0.596490</td>\n",
       "      <td>0.387201</td>\n",
       "      <td>1.000000</td>\n",
       "      <td>1.000000</td>\n",
       "      <td>0.647544</td>\n",
       "      <td>0.407901</td>\n",
       "      <td>0.376055</td>\n",
       "      <td>-0.314551</td>\n",
       "    </tr>\n",
       "    <tr>\n",
       "      <th>Acc_Rate_100Myr</th>\n",
       "      <td>0.253403</td>\n",
       "      <td>0.596490</td>\n",
       "      <td>0.387201</td>\n",
       "      <td>1.000000</td>\n",
       "      <td>1.000000</td>\n",
       "      <td>0.647544</td>\n",
       "      <td>0.407901</td>\n",
       "      <td>0.376055</td>\n",
       "      <td>-0.314551</td>\n",
       "    </tr>\n",
       "    <tr>\n",
       "      <th>Acc_Rate_1*Tdyn</th>\n",
       "      <td>0.372796</td>\n",
       "      <td>0.722642</td>\n",
       "      <td>0.691031</td>\n",
       "      <td>0.647544</td>\n",
       "      <td>0.647544</td>\n",
       "      <td>1.000000</td>\n",
       "      <td>0.743551</td>\n",
       "      <td>0.678532</td>\n",
       "      <td>-0.144025</td>\n",
       "    </tr>\n",
       "    <tr>\n",
       "      <th>Acc_Rate_2*Tdyn</th>\n",
       "      <td>0.577193</td>\n",
       "      <td>0.459072</td>\n",
       "      <td>0.710081</td>\n",
       "      <td>0.407901</td>\n",
       "      <td>0.407901</td>\n",
       "      <td>0.743551</td>\n",
       "      <td>1.000000</td>\n",
       "      <td>0.977836</td>\n",
       "      <td>-0.345438</td>\n",
       "    </tr>\n",
       "    <tr>\n",
       "      <th>Acc_Rate_Mpeak</th>\n",
       "      <td>0.615652</td>\n",
       "      <td>0.422157</td>\n",
       "      <td>0.692476</td>\n",
       "      <td>0.376055</td>\n",
       "      <td>0.376055</td>\n",
       "      <td>0.678532</td>\n",
       "      <td>0.977836</td>\n",
       "      <td>1.000000</td>\n",
       "      <td>-0.348283</td>\n",
       "    </tr>\n",
       "    <tr>\n",
       "      <th>c_vir</th>\n",
       "      <td>-0.048180</td>\n",
       "      <td>-0.156246</td>\n",
       "      <td>-0.321483</td>\n",
       "      <td>-0.314551</td>\n",
       "      <td>-0.314551</td>\n",
       "      <td>-0.144025</td>\n",
       "      <td>-0.345438</td>\n",
       "      <td>-0.348283</td>\n",
       "      <td>1.000000</td>\n",
       "    </tr>\n",
       "  </tbody>\n",
       "</table>\n",
       "</div>"
      ],
      "text/plain": [
       "                     mvir     T/|U|  Halfmass_Scale  Acc_Rate_Inst  \\\n",
       "mvir             1.000000  0.053001        0.047163       0.253403   \n",
       "T/|U|            0.053001  1.000000        0.638348       0.596490   \n",
       "Halfmass_Scale   0.047163  0.638348        1.000000       0.387201   \n",
       "Acc_Rate_Inst    0.253403  0.596490        0.387201       1.000000   \n",
       "Acc_Rate_100Myr  0.253403  0.596490        0.387201       1.000000   \n",
       "Acc_Rate_1*Tdyn  0.372796  0.722642        0.691031       0.647544   \n",
       "Acc_Rate_2*Tdyn  0.577193  0.459072        0.710081       0.407901   \n",
       "Acc_Rate_Mpeak   0.615652  0.422157        0.692476       0.376055   \n",
       "c_vir           -0.048180 -0.156246       -0.321483      -0.314551   \n",
       "\n",
       "                 Acc_Rate_100Myr  Acc_Rate_1*Tdyn  Acc_Rate_2*Tdyn  \\\n",
       "mvir                    0.253403         0.372796         0.577193   \n",
       "T/|U|                   0.596490         0.722642         0.459072   \n",
       "Halfmass_Scale          0.387201         0.691031         0.710081   \n",
       "Acc_Rate_Inst           1.000000         0.647544         0.407901   \n",
       "Acc_Rate_100Myr         1.000000         0.647544         0.407901   \n",
       "Acc_Rate_1*Tdyn         0.647544         1.000000         0.743551   \n",
       "Acc_Rate_2*Tdyn         0.407901         0.743551         1.000000   \n",
       "Acc_Rate_Mpeak          0.376055         0.678532         0.977836   \n",
       "c_vir                  -0.314551        -0.144025        -0.345438   \n",
       "\n",
       "                 Acc_Rate_Mpeak     c_vir  \n",
       "mvir                   0.615652 -0.048180  \n",
       "T/|U|                  0.422157 -0.156246  \n",
       "Halfmass_Scale         0.692476 -0.321483  \n",
       "Acc_Rate_Inst          0.376055 -0.314551  \n",
       "Acc_Rate_100Myr        0.376055 -0.314551  \n",
       "Acc_Rate_1*Tdyn        0.678532 -0.144025  \n",
       "Acc_Rate_2*Tdyn        0.977836 -0.345438  \n",
       "Acc_Rate_Mpeak         1.000000 -0.348283  \n",
       "c_vir                 -0.348283  1.000000  "
      ]
     },
     "metadata": {},
     "output_type": "display_data"
    }
   ],
   "source": [
    "display(cur_df[['mvir','M200b','T/|U|', 'Halfmass_Scale',\n",
    "       'Acc_Rate_Inst', 'Acc_Rate_100Myr', 'Acc_Rate_1*Tdyn',\n",
    "       'Acc_Rate_2*Tdyn', 'Acc_Rate_Mpeak', 'c_vir']].corr())\n",
    "\n"
   ]
  },
  {
   "cell_type": "code",
   "execution_count": 349,
   "id": "fbc6c7ce-f299-4562-9178-4bfa2a3b78e3",
   "metadata": {},
   "outputs": [
    {
     "name": "stderr",
     "output_type": "stream",
     "text": [
      "100%|██████████| 10/10 [00:01<00:00,  5.33it/s]\n",
      "100%|██████████| 10/10 [00:00<00:00, 562.30it/s]\n"
     ]
    }
   ],
   "source": [
    "nBootstrap = 10\n",
    "xline, output = calc_cov_KLLR(np.log10(np.array(cur_df['mvir'],dtype=float)) , np.vstack(cur_df['delta_sigma']), \\\n",
    "                                       np.log10(np.array(cur_df['Ngal'],dtype=float)), nBootstrap=nBootstrap)\n",
    "cov_ds_ngal_kllr = output['covariance']\n",
    "cov_mean_kllr = np.mean(cov_ds_ngal_kllr, axis=0)\n",
    "cov_err_kllr = np.std(cov_ds_ngal_kllr, axis=0)\n",
    "\n",
    "xline, output = calc_cov_noKLLR(np.vstack(cur_df['delta_sigma']), np.log10(np.array(cur_df['Ngal'],dtype=float)), nBootstrap=nBootstrap)\n",
    "\n",
    "cov_ds_ngal_simple = output['covariance']\n",
    "cov_mean_simple = np.mean(cov_ds_ngal_simple, axis=0)\n",
    "cov_err_simple = np.std(cov_ds_ngal_simple, axis=0)"
   ]
  },
  {
   "cell_type": "code",
   "execution_count": 350,
   "id": "95c8b176-d771-4f9d-ae16-84151e8efa31",
   "metadata": {},
   "outputs": [
    {
     "data": {
      "image/png": "[encoded data removed]",
      "text/plain": [
       "<Figure size 432x288 with 1 Axes>"
      ]
     },
     "metadata": {
      "needs_background": "light"
     },
     "output_type": "display_data"
    }
   ],
   "source": [
    "plt.errorbar(r_cent_lin_norm, cov_mean_kllr, yerr = cov_err_kllr, label = 'KLLR')\n",
    "plt.errorbar(r_cent_lin_norm, cov_mean_simple, yerr = cov_err_simple, label='No KLLR')\n",
    "plt.axhline(0,linestyle='dashed', color='black')\n",
    "plt.xscale('log'); #plt.yscale('log')\n",
    "plt.xlabel(r'$R/R_{\\rm vir}$', fontsize=14)\n",
    "plt.legend()\n",
    "plt.show()"
   ]
  },
  {
   "cell_type": "code",
   "execution_count": 351,
   "id": "d97faf59-6a7c-44bd-875d-18db64357ede",
   "metadata": {},
   "outputs": [
    {
     "data": {
      "image/png": "[encoded data removed]",
      "text/plain": [
       "<Figure size 432x288 with 1 Axes>"
      ]
     },
     "metadata": {
      "needs_background": "light"
     },
     "output_type": "display_data"
    }
   ],
   "source": [
    "plt.plot(r_cent_lin_norm, cov_err_kllr/cov_err_simple, label='Errors')\n",
    "plt.axhline(1,linestyle='dashed', color='black')\n",
    "plt.xscale('log'); #plt.yscale('log')\n",
    "plt.xlabel(r'$R/R_{\\rm vir}$', fontsize=14)\n",
    "plt.legend()\n",
    "plt.show()"
   ]
  },
  {
   "cell_type": "markdown",
   "id": "53ab628d-081e-40fa-a2d1-427e89fde6db",
   "metadata": {},
   "source": [
    "### Bin by mass"
   ]
  },
  {
   "cell_type": "code",
   "execution_count": 352,
   "id": "54c77d2c-de99-461f-85f2-11b8f1d3517f",
   "metadata": {},
   "outputs": [
    {
     "ename": "KeyError",
     "evalue": "'T/|U|'",
     "output_type": "error",
     "traceback": [
      "\u001b[0;31m---------------------------------------------------------------------------\u001b[0m",
      "\u001b[0;31mKeyError\u001b[0m                                  Traceback (most recent call last)",
      "\u001b[0;32m~/.conda/envs/myLSST/lib/python3.7/site-packages/pandas/core/indexes/base.py\u001b[0m in \u001b[0;36mget_loc\u001b[0;34m(self, key, method, tolerance)\u001b[0m\n\u001b[1;32m   3360\u001b[0m             \u001b[0;32mtry\u001b[0m\u001b[0;34m:\u001b[0m\u001b[0;34m\u001b[0m\u001b[0;34m\u001b[0m\u001b[0m\n\u001b[0;32m-> 3361\u001b[0;31m                 \u001b[0;32mreturn\u001b[0m \u001b[0mself\u001b[0m\u001b[0;34m.\u001b[0m\u001b[0m_engine\u001b[0m\u001b[0;34m.\u001b[0m\u001b[0mget_loc\u001b[0m\u001b[0;34m(\u001b[0m\u001b[0mcasted_key\u001b[0m\u001b[0;34m)\u001b[0m\u001b[0;34m\u001b[0m\u001b[0;34m\u001b[0m\u001b[0m\n\u001b[0m\u001b[1;32m   3362\u001b[0m             \u001b[0;32mexcept\u001b[0m \u001b[0mKeyError\u001b[0m \u001b[0;32mas\u001b[0m \u001b[0merr\u001b[0m\u001b[0;34m:\u001b[0m\u001b[0;34m\u001b[0m\u001b[0;34m\u001b[0m\u001b[0m\n",
      "\u001b[0;32m~/.conda/envs/myLSST/lib/python3.7/site-packages/pandas/_libs/index.pyx\u001b[0m in \u001b[0;36mpandas._libs.index.IndexEngine.get_loc\u001b[0;34m()\u001b[0m\n",
      "\u001b[0;32m~/.conda/envs/myLSST/lib/python3.7/site-packages/pandas/_libs/index.pyx\u001b[0m in \u001b[0;36mpandas._libs.index.IndexEngine.get_loc\u001b[0;34m()\u001b[0m\n",
      "\u001b[0;32mpandas/_libs/hashtable_class_helper.pxi\u001b[0m in \u001b[0;36mpandas._libs.hashtable.PyObjectHashTable.get_item\u001b[0;34m()\u001b[0m\n",
      "\u001b[0;32mpandas/_libs/hashtable_class_helper.pxi\u001b[0m in \u001b[0;36mpandas._libs.hashtable.PyObjectHashTable.get_item\u001b[0;34m()\u001b[0m\n",
      "\u001b[0;31mKeyError\u001b[0m: 'T/|U|'",
      "\nThe above exception was the direct cause of the following exception:\n",
      "\u001b[0;31mKeyError\u001b[0m                                  Traceback (most recent call last)",
      "\u001b[0;32m/tmp/ipykernel_34687/2141362661.py\u001b[0m in \u001b[0;36m<module>\u001b[0;34m\u001b[0m\n\u001b[1;32m      3\u001b[0m \u001b[0;31m## Need to build the covariance of the other time formation parameter terms\u001b[0m\u001b[0;34m\u001b[0m\u001b[0;34m\u001b[0m\u001b[0;34m\u001b[0m\u001b[0m\n\u001b[1;32m      4\u001b[0m \u001b[0mcoeff_halfmass_scale\u001b[0m \u001b[0;34m=\u001b[0m \u001b[0mmreg\u001b[0m\u001b[0;34m.\u001b[0m\u001b[0mparams\u001b[0m\u001b[0;34m[\u001b[0m\u001b[0;34m'Halfmass_Scale'\u001b[0m\u001b[0;34m]\u001b[0m\u001b[0;34m\u001b[0m\u001b[0;34m\u001b[0m\u001b[0m\n\u001b[0;32m----> 5\u001b[0;31m \u001b[0mcoeff_T_U\u001b[0m \u001b[0;34m=\u001b[0m \u001b[0mmreg\u001b[0m\u001b[0;34m.\u001b[0m\u001b[0mparams\u001b[0m\u001b[0;34m[\u001b[0m\u001b[0;34m'T/|U|'\u001b[0m\u001b[0;34m]\u001b[0m\u001b[0;34m\u001b[0m\u001b[0;34m\u001b[0m\u001b[0m\n\u001b[0m\u001b[1;32m      6\u001b[0m \u001b[0mcoeff_c_vir\u001b[0m \u001b[0;34m=\u001b[0m \u001b[0mmreg\u001b[0m\u001b[0;34m.\u001b[0m\u001b[0mparams\u001b[0m\u001b[0;34m[\u001b[0m\u001b[0;34m'c_vir'\u001b[0m\u001b[0;34m]\u001b[0m\u001b[0;34m\u001b[0m\u001b[0;34m\u001b[0m\u001b[0m\n\u001b[1;32m      7\u001b[0m \u001b[0mcoeff_Acc_Rate_2Tdyn\u001b[0m \u001b[0;34m=\u001b[0m \u001b[0mmreg\u001b[0m\u001b[0;34m.\u001b[0m\u001b[0mparams\u001b[0m\u001b[0;34m[\u001b[0m\u001b[0;34m'Acc_Rate_2*Tdyn'\u001b[0m\u001b[0;34m]\u001b[0m\u001b[0;34m\u001b[0m\u001b[0;34m\u001b[0m\u001b[0m\n",
      "\u001b[0;32m~/.conda/envs/myLSST/lib/python3.7/site-packages/pandas/core/series.py\u001b[0m in \u001b[0;36m__getitem__\u001b[0;34m(self, key)\u001b[0m\n\u001b[1;32m    940\u001b[0m \u001b[0;34m\u001b[0m\u001b[0m\n\u001b[1;32m    941\u001b[0m         \u001b[0;32melif\u001b[0m \u001b[0mkey_is_scalar\u001b[0m\u001b[0;34m:\u001b[0m\u001b[0;34m\u001b[0m\u001b[0;34m\u001b[0m\u001b[0m\n\u001b[0;32m--> 942\u001b[0;31m             \u001b[0;32mreturn\u001b[0m \u001b[0mself\u001b[0m\u001b[0;34m.\u001b[0m\u001b[0m_get_value\u001b[0m\u001b[0;34m(\u001b[0m\u001b[0mkey\u001b[0m\u001b[0;34m)\u001b[0m\u001b[0;34m\u001b[0m\u001b[0;34m\u001b[0m\u001b[0m\n\u001b[0m\u001b[1;32m    943\u001b[0m \u001b[0;34m\u001b[0m\u001b[0m\n\u001b[1;32m    944\u001b[0m         \u001b[0;32mif\u001b[0m \u001b[0mis_hashable\u001b[0m\u001b[0;34m(\u001b[0m\u001b[0mkey\u001b[0m\u001b[0;34m)\u001b[0m\u001b[0;34m:\u001b[0m\u001b[0;34m\u001b[0m\u001b[0;34m\u001b[0m\u001b[0m\n",
      "\u001b[0;32m~/.conda/envs/myLSST/lib/python3.7/site-packages/pandas/core/series.py\u001b[0m in \u001b[0;36m_get_value\u001b[0;34m(self, label, takeable)\u001b[0m\n\u001b[1;32m   1049\u001b[0m \u001b[0;34m\u001b[0m\u001b[0m\n\u001b[1;32m   1050\u001b[0m         \u001b[0;31m# Similar to Index.get_value, but we do not fall back to positional\u001b[0m\u001b[0;34m\u001b[0m\u001b[0;34m\u001b[0m\u001b[0;34m\u001b[0m\u001b[0m\n\u001b[0;32m-> 1051\u001b[0;31m         \u001b[0mloc\u001b[0m \u001b[0;34m=\u001b[0m \u001b[0mself\u001b[0m\u001b[0;34m.\u001b[0m\u001b[0mindex\u001b[0m\u001b[0;34m.\u001b[0m\u001b[0mget_loc\u001b[0m\u001b[0;34m(\u001b[0m\u001b[0mlabel\u001b[0m\u001b[0;34m)\u001b[0m\u001b[0;34m\u001b[0m\u001b[0;34m\u001b[0m\u001b[0m\n\u001b[0m\u001b[1;32m   1052\u001b[0m         \u001b[0;32mreturn\u001b[0m \u001b[0mself\u001b[0m\u001b[0;34m.\u001b[0m\u001b[0mindex\u001b[0m\u001b[0;34m.\u001b[0m\u001b[0m_get_values_for_loc\u001b[0m\u001b[0;34m(\u001b[0m\u001b[0mself\u001b[0m\u001b[0;34m,\u001b[0m \u001b[0mloc\u001b[0m\u001b[0;34m,\u001b[0m \u001b[0mlabel\u001b[0m\u001b[0;34m)\u001b[0m\u001b[0;34m\u001b[0m\u001b[0;34m\u001b[0m\u001b[0m\n\u001b[1;32m   1053\u001b[0m \u001b[0;34m\u001b[0m\u001b[0m\n",
      "\u001b[0;32m~/.conda/envs/myLSST/lib/python3.7/site-packages/pandas/core/indexes/base.py\u001b[0m in \u001b[0;36mget_loc\u001b[0;34m(self, key, method, tolerance)\u001b[0m\n\u001b[1;32m   3361\u001b[0m                 \u001b[0;32mreturn\u001b[0m \u001b[0mself\u001b[0m\u001b[0;34m.\u001b[0m\u001b[0m_engine\u001b[0m\u001b[0;34m.\u001b[0m\u001b[0mget_loc\u001b[0m\u001b[0;34m(\u001b[0m\u001b[0mcasted_key\u001b[0m\u001b[0;34m)\u001b[0m\u001b[0;34m\u001b[0m\u001b[0;34m\u001b[0m\u001b[0m\n\u001b[1;32m   3362\u001b[0m             \u001b[0;32mexcept\u001b[0m \u001b[0mKeyError\u001b[0m \u001b[0;32mas\u001b[0m \u001b[0merr\u001b[0m\u001b[0;34m:\u001b[0m\u001b[0;34m\u001b[0m\u001b[0;34m\u001b[0m\u001b[0m\n\u001b[0;32m-> 3363\u001b[0;31m                 \u001b[0;32mraise\u001b[0m \u001b[0mKeyError\u001b[0m\u001b[0;34m(\u001b[0m\u001b[0mkey\u001b[0m\u001b[0;34m)\u001b[0m \u001b[0;32mfrom\u001b[0m \u001b[0merr\u001b[0m\u001b[0;34m\u001b[0m\u001b[0;34m\u001b[0m\u001b[0m\n\u001b[0m\u001b[1;32m   3364\u001b[0m \u001b[0;34m\u001b[0m\u001b[0m\n\u001b[1;32m   3365\u001b[0m         \u001b[0;32mif\u001b[0m \u001b[0mis_scalar\u001b[0m\u001b[0;34m(\u001b[0m\u001b[0mkey\u001b[0m\u001b[0;34m)\u001b[0m \u001b[0;32mand\u001b[0m \u001b[0misna\u001b[0m\u001b[0;34m(\u001b[0m\u001b[0mkey\u001b[0m\u001b[0;34m)\u001b[0m \u001b[0;32mand\u001b[0m \u001b[0;32mnot\u001b[0m \u001b[0mself\u001b[0m\u001b[0;34m.\u001b[0m\u001b[0mhasnans\u001b[0m\u001b[0;34m:\u001b[0m\u001b[0;34m\u001b[0m\u001b[0;34m\u001b[0m\u001b[0m\n",
      "\u001b[0;31mKeyError\u001b[0m: 'T/|U|'"
     ]
    }
   ],
   "source": [
    "nBootstrap = 10\n",
    "\n",
    "## Need to build the covariance of the other time formation parameter terms\n",
    "coeff_halfmass_scale = mreg.params['Halfmass_Scale']\t\n",
    "coeff_T_U = mreg.params['T/|U|']\n",
    "coeff_c_vir = mreg.params['c_vir']\n",
    "coeff_Acc_Rate_2Tdyn = mreg.params['Acc_Rate_2*Tdyn']\n",
    "\n",
    "xline, cov_corr_halfmass_scale = calc_cov_noKLLR(np.vstack(cur_df['delta_sigma']), np.array(cur_df['Halfmass_Scale'],dtype=float), nBootstrap=nBootstrap)\n",
    "xline, cov_corr_T_U = calc_cov_noKLLR(np.vstack(cur_df['delta_sigma']), np.array(cur_df['T/|U|'],dtype=float), nBootstrap=nBootstrap)\n",
    "xline, cov_corr_c_vir = calc_cov_noKLLR(np.vstack(cur_df['delta_sigma']), np.array(cur_df['c_vir'],dtype=float), nBootstrap=nBootstrap)\n",
    "xline, cov_corr_Acc_Rate_Mpeak = calc_cov_noKLLR(np.vstack(cur_df['delta_sigma']), np.array(cur_df['Acc_Rate_2*Tdyn'],dtype=float), nBootstrap=nBootstrap)\n"
   ]
  },
  {
   "cell_type": "code",
   "execution_count": 265,
   "id": "27cd53a9-f4f3-490b-a6dc-2bf4bc219d1f",
   "metadata": {},
   "outputs": [],
   "source": [
    "cov_halfmass_scale = np.mean(cov_corr_halfmass_scale['covariance'], axis=0)\n",
    "cov_T_U = np.mean(cov_corr_T_U['covariance'], axis=0)\n",
    "cov_c_vir = np.mean(cov_corr_c_vir['covariance'], axis=0)\n",
    "cov_Acc_Rate_2Tdyn = np.mean(cov_corr_Acc_Rate_Mpeak['covariance'], axis=0)"
   ]
  },
  {
   "cell_type": "code",
   "execution_count": 272,
   "id": "ad3d69b8-fb70-4480-b5cf-41a02578955e",
   "metadata": {},
   "outputs": [
    {
     "name": "stdout",
     "output_type": "stream",
     "text": [
      "['T/|U|', 'c_vir', 'Halfmass_Scale', 'Acc_Rate_2*Tdyn']\n",
      "T/|U|\n"
     ]
    },
    {
     "name": "stderr",
     "output_type": "stream",
     "text": [
      "100%|██████████| 10/10 [00:02<00:00,  4.81it/s]\n"
     ]
    },
    {
     "name": "stdout",
     "output_type": "stream",
     "text": [
      "c_vir\n"
     ]
    },
    {
     "name": "stderr",
     "output_type": "stream",
     "text": [
      "100%|██████████| 10/10 [00:01<00:00,  5.01it/s]\n"
     ]
    },
    {
     "name": "stdout",
     "output_type": "stream",
     "text": [
      "Halfmass_Scale\n"
     ]
    },
    {
     "name": "stderr",
     "output_type": "stream",
     "text": [
      "100%|██████████| 10/10 [00:01<00:00,  5.32it/s]\n"
     ]
    },
    {
     "name": "stdout",
     "output_type": "stream",
     "text": [
      "Acc_Rate_2*Tdyn\n"
     ]
    },
    {
     "name": "stderr",
     "output_type": "stream",
     "text": [
      "100%|██████████| 10/10 [00:02<00:00,  4.94it/s]\n"
     ]
    },
    {
     "data": {
      "image/png": "[encoded data removed]",
      "text/plain": [
       "<Figure size 432x288 with 1 Axes>"
      ]
     },
     "metadata": {
      "needs_background": "light"
     },
     "output_type": "display_data"
    }
   ],
   "source": [
    "### Iterate through X\n",
    "print(X_params)\n",
    "for X_param in iter(X_params):\n",
    "    print(X_param)\n",
    "    coeff_param = mreg.params[X_param]\n",
    "    #xline, cov_corr = calc_cov_noKLLR(np.vstack(cur_df['delta_sigma']), np.array(cur_df[X_param],dtype=float), nBootstrap=nBootstrap)\n",
    "    xline, cov_corr = calc_cov_KLLR(np.log10(np.array(cur_df['mvir'],dtype=float)), np.vstack(cur_df['delta_sigma']), \\\n",
    "                                    np.array(cur_df[X_param],dtype=float), nBootstrap=nBootstrap)\n",
    "    \n",
    "    cov_param = np.mean(cov_corr['covariance'], axis=0)\n",
    "    cov_err_param = np.std(cov_corr['covariance'], axis=0)\n",
    "    plt.errorbar(r_cent_lin_norm, coeff_param*cov_param, yerr=coeff_param*cov_err_param, label=X_param)\n",
    "\n",
    "plt.errorbar(r_cent_lin_norm, cov_mean_kllr, yerr = cov_err_kllr, linewidth=3, label='Total')\n",
    "plt.axhline(0,linestyle='dashed', color='black')\n",
    "plt.xscale('log'); #plt.yscale('log')\n",
    "plt.xlabel(r'$R/R_{\\rm vir}$', fontsize=14)\n",
    "plt.legend()\n",
    "plt.show()"
   ]
  },
  {
   "cell_type": "code",
   "execution_count": null,
   "id": "4cda3d1d-1b34-4b6c-ab66-ae96e26b0918",
   "metadata": {},
   "outputs": [],
   "source": []
  },
  {
   "cell_type": "code",
   "execution_count": 267,
   "id": "b8f0e6af-8bf4-47e5-b578-55f159ea8d19",
   "metadata": {},
   "outputs": [
    {
     "name": "stderr",
     "output_type": "stream",
     "text": [
      "100%|██████████| 10/10 [00:02<00:00,  4.83it/s]\n",
      "100%|██████████| 10/10 [00:02<00:00,  4.81it/s]\n",
      "100%|██████████| 10/10 [00:02<00:00,  4.33it/s]\n",
      "100%|██████████| 10/10 [00:02<00:00,  4.43it/s]\n"
     ]
    },
    {
     "data": {
      "image/png": "[encoded data removed]",
      "text/plain": [
       "<Figure size 432x288 with 1 Axes>"
      ]
     },
     "metadata": {
      "needs_background": "light"
     },
     "output_type": "display_data"
    }
   ],
   "source": [
    "### Iterate through X\n",
    "cov_remain_kllr = np.copy(cov_mean_kllr)\n",
    "for X_param in iter(X_params):\n",
    "    coeff_param = mreg.params[X_param]\n",
    "    #xline, cov_corr = calc_cov_noKLLR(np.vstack(cur_df['delta_sigma']), np.array(cur_df[X_param],dtype=float), nBootstrap=nBootstrap)\n",
    "    xline, cov_corr = calc_cov_KLLR(np.log10(np.array(cur_df['mvir'],dtype=float)), np.vstack(cur_df['delta_sigma']), \\\n",
    "                                    np.array(cur_df[X_param],dtype=float), nBootstrap=nBootstrap)\n",
    "    \n",
    "    cov_param = np.mean(cov_corr['covariance'], axis=0)\n",
    "    cov_remain_kllr -= coeff_param*cov_param\n",
    "\n",
    "plt.errorbar(r_cent_lin_norm, cov_remain_kllr, yerr = cov_err_kllr, linewidth=1, label='Remain')\n",
    "plt.errorbar(r_cent_lin_norm, cov_mean_kllr, yerr = cov_err_kllr, linewidth=1, label='Total')\n",
    "plt.axhline(0,linestyle='dashed', color='black')\n",
    "plt.xscale('log'); \n",
    "plt.xlabel(r'$R/R_{\\rm vir}$', fontsize=14)\n",
    "plt.legend()\n",
    "plt.show()"
   ]
  },
  {
   "cell_type": "code",
   "execution_count": 268,
   "id": "80605e80-5f2f-4d54-8ef9-240527c60f11",
   "metadata": {},
   "outputs": [],
   "source": [
    "## Testing the file properties. \n",
    "r_bins_log_norm = np.linspace(-1,1,21)\n",
    "r_bins_lin_norm = 10**r_bins_log_norm\n",
    "r_cent_log_norm= (r_bins_log_norm[1:] + r_bins_log_norm[:-1])/2\n",
    "r_cent_lin_norm = 10**r_cent_log_norm"
   ]
  },
  {
   "cell_type": "code",
   "execution_count": 269,
   "id": "8bfd17f6-ac6f-48f2-be20-e2ba91eab80a",
   "metadata": {},
   "outputs": [],
   "source": [
    "cov_remain = cov_mean - coeff_Acc_Rate_2Tdyn*cov_Acc_Rate_2Tdyn"
   ]
  },
  {
   "cell_type": "code",
   "execution_count": 270,
   "id": "d2951e39-4e1a-415d-80cb-fcb7fb94f05d",
   "metadata": {},
   "outputs": [
    {
     "data": {
      "text/plain": [
       "array([-3.93733882e+11, -3.10377161e+11, -2.33009160e+11, -1.93278683e+11,\n",
       "       -1.58438856e+11, -1.00113072e+11, -7.13595819e+10, -4.18902434e+10,\n",
       "       -5.49843156e+09,  1.35013318e+10,  1.22211164e+10,  1.13165410e+10,\n",
       "       -1.79839747e+10, -2.30563452e+10, -1.10197785e+10, -8.35956722e+09,\n",
       "        1.19137692e+10,  1.59026042e+10,  1.17122714e+10,  2.29120690e+09])"
      ]
     },
     "execution_count": 270,
     "metadata": {},
     "output_type": "execute_result"
    }
   ],
   "source": [
    "cov_remain"
   ]
  },
  {
   "cell_type": "code",
   "execution_count": 311,
   "id": "f8a97d29-701c-479c-a8c6-391dcdf40b88",
   "metadata": {},
   "outputs": [
    {
     "data": {
      "image/png": "[encoded data removed]",
      "text/plain": [
       "<Figure size 432x288 with 1 Axes>"
      ]
     },
     "metadata": {
      "needs_background": "light"
     },
     "output_type": "display_data"
    }
   ],
   "source": [
    "plt.errorbar(r_cent_lin_norm, cov_mean, yerr = cov_err, label = 'full')\n",
    "plt.errorbar(r_cent_lin_norm, cov_remain, yerr = cov_err, label='remaining')\n",
    "plt.axhline(0,linestyle='dashed', color='black')\n",
    "plt.xscale('log'); #plt.yscale('log')\n",
    "plt.xlabel(r'$R/R_{\\rm vir}$', fontsize=14)\n",
    "plt.legend()\n",
    "plt.show()"
   ]
  },
  {
   "cell_type": "code",
   "execution_count": null,
   "id": "6bf424c0-3a50-4d30-93c2-ce2f93cf2c89",
   "metadata": {},
   "outputs": [],
   "source": []
  }
 ],
 "metadata": {
  "kernelspec": {
   "display_name": "myLSST",
   "language": "python",
   "name": "mylsst"
  },
  "language_info": {
   "codemirror_mode": {
    "name": "ipython",
    "version": 3
   },
   "file_extension": ".py",
   "mimetype": "text/x-python",
   "name": "python",
   "nbconvert_exporter": "python",
   "pygments_lexer": "ipython3",
   "version": "3.7.12"
  }
 },
 "nbformat": 4,
 "nbformat_minor": 5
}
