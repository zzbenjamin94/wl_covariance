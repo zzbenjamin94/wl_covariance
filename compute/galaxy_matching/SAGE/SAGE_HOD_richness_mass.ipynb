{
 "cells": [
  {
   "cell_type": "markdown",
   "id": "15c4b382-1c01-4215-8ed6-51c7f20c3aaf",
   "metadata": {},
   "source": [
    "## Model the HOD and Richness Mass of the Galaxies"
   ]
  },
  {
   "cell_type": "code",
   "execution_count": 2,
   "id": "f938cfdd-c10f-45f1-bfef-ddd7edb5b50c",
   "metadata": {},
   "outputs": [],
   "source": [
    "## Use the setup.py file to output directories. \n",
    "import sys\n",
    "sys.path.append('/global/homes/z/zzhang13/BaryonPasting/CorrelatedStructures/multiDark/')\n",
    "\n",
    "from setup import *\n",
    "toolsdir = tools_dir()\n",
    "repodir = repo_dir()\n",
    "chainsdir = chains_dir()\n",
    "datadir = data_dir()\n",
    "plotdir = plots_dir()\n",
    "\n",
    "sys.path.append(toolsdir)\n",
    "sys.path.append(repodir)"
   ]
  },
  {
   "cell_type": "code",
   "execution_count": 2,
   "id": "8fa4e920-0fc2-41be-89b1-51bfdf19ef09",
   "metadata": {},
   "outputs": [],
   "source": [
    "import warnings\n",
    "warnings.filterwarnings(\"ignore\")"
   ]
  },
  {
   "cell_type": "code",
   "execution_count": 4,
   "id": "78462b48-68db-45fb-a157-124809fedd2c",
   "metadata": {},
   "outputs": [],
   "source": [
    "clusters_z0p00_file = '/global/cscratch1/sd/zzhang13/MultiDark/MDPL2_ROCKSTAR_Halos/z0p00/' + 'MDPL2_halos_DS_Ngal_Dgal_lt_2_allM_mah_z0p00.p'\n",
    "clusters_z0p49_file = '/global/cscratch1/sd/zzhang13/MultiDark/MDPL2_ROCKSTAR_Halos/z0p49/' + 'MDPL2_halos_DS_Ngal_Dgal_lt_2_allM_mah_z0p49.p'\n",
    "clusters_z1p03_file = '/global/cscratch1/sd/zzhang13/MultiDark/MDPL2_ROCKSTAR_Halos/z1p03/' + 'MDPL2_halos_DS_Ngal_Dgal_lt_2_allM_mah_z1p03.p'\n",
    "\n",
    "clusters_files = [clusters_z0p00_file, clusters_z0p49_file, clusters_z1p03_file]"
   ]
  },
  {
   "cell_type": "code",
   "execution_count": null,
   "id": "80dc4c2c-ded0-443d-96eb-dd53459fa83d",
   "metadata": {},
   "outputs": [],
   "source": [
    "clusters_z0p00_file = '/global/cscratch1/sd/zzhang13/MultiDark/MDPL2_ROCKSTAR_Halos/z0p00/' + 'MDPL2_halos_DS_Ngal_Dgal_lt_2_allM_mah_z0p00.p'"
   ]
  },
  {
   "cell_type": "code",
   "execution_count": 5,
   "id": "7088600a-967c-4f9a-9aa8-dd6b6891e69d",
   "metadata": {},
   "outputs": [],
   "source": [
    "with open(clusters_z0p00_file, 'rb') as handle:\n",
    "    matched_halo_df = pickle.load(handle)"
   ]
  },
  {
   "cell_type": "code",
   "execution_count": 6,
   "id": "e1f55d09-dd12-4118-a157-4f949a24ab02",
   "metadata": {},
   "outputs": [],
   "source": [
    "matched_halo_df = pd.DataFrame(columns=matched_halo_df.columns) ##empty DF"
   ]
  },
  {
   "cell_type": "code",
   "execution_count": 3,
   "id": "d2845d4d-94ae-443b-b682-790e0bacc961",
   "metadata": {},
   "outputs": [
    {
     "data": {
      "text/plain": [
       "Index(['scale', 'CtreesHaloID', 'pid', 'mvir', 'rvir', 'rs', 'x', 'y', 'z',\n",
       "       'Mmvir_all', 'M200b', 'M200c', 'M500c', 'T/|U|', 'Halfmass_Scale',\n",
       "       'Acc_Rate_Inst', 'Acc_Rate_100Myr', 'Acc_Rate_1*Tdyn',\n",
       "       'Acc_Rate_2*Tdyn', 'Acc_Rate_Mpeak', 'c_vir', 'R200c', 'R500c',\n",
       "       'redshift', 'Ngal_Dsep_1', 'Ngal_Rvir', 'Ngal_R200c', 'Ngal_R500c',\n",
       "       'sigma', 'r_range', 'delta_sigma'],\n",
       "      dtype='object')"
      ]
     },
     "execution_count": 3,
     "metadata": {},
     "output_type": "execute_result"
    }
   ],
   "source": [
    "with open(datadir + 'MDPL2_DS_R200c_SAGE_Ngal_allM_allz.p', 'rb') as handle:\n",
    "    matched_halo_df = pickle.load(handle)\n",
    "matched_halo_df.columns"
   ]
  },
  {
   "cell_type": "code",
   "execution_count": 8,
   "id": "7e739c2d-7529-4839-9082-cc171bef1e73",
   "metadata": {},
   "outputs": [],
   "source": [
    "for file in iter(clusters_files):\n",
    "    with open(file,'rb') as handle:\n",
    "        cur_df = pickle.load(handle)\n",
    "    matched_halo_df = matched_halo_df.append(cur_df, ignore_index=True)"
   ]
  },
  {
   "cell_type": "code",
   "execution_count": 9,
   "id": "b1d3ac10-d450-4d1c-94e6-e01324daff6c",
   "metadata": {},
   "outputs": [
    {
     "data": {
      "text/html": [
       "<div>\n",
       "<style scoped>\n",
       "    .dataframe tbody tr th:only-of-type {\n",
       "        vertical-align: middle;\n",
       "    }\n",
       "\n",
       "    .dataframe tbody tr th {\n",
       "        vertical-align: top;\n",
       "    }\n",
       "\n",
       "    .dataframe thead th {\n",
       "        text-align: right;\n",
       "    }\n",
       "</style>\n",
       "<table border=\"1\" class=\"dataframe\">\n",
       "  <thead>\n",
       "    <tr style=\"text-align: right;\">\n",
       "      <th></th>\n",
       "      <th>mvir</th>\n",
       "      <th>rvir</th>\n",
       "      <th>x</th>\n",
       "      <th>y</th>\n",
       "      <th>z</th>\n",
       "      <th>CentralMvir</th>\n",
       "      <th>StellarMass</th>\n",
       "      <th>Ngal</th>\n",
       "      <th>rs</th>\n",
       "      <th>T/|U|</th>\n",
       "      <th>Halfmass_Scale</th>\n",
       "      <th>Acc_Rate_Inst</th>\n",
       "      <th>Acc_Rate_100Myr</th>\n",
       "      <th>Acc_Rate_1*Tdyn</th>\n",
       "      <th>Acc_Rate_2*Tdyn</th>\n",
       "      <th>Acc_Rate_Mpeak</th>\n",
       "      <th>c_vir</th>\n",
       "      <th>Mmvir_all</th>\n",
       "    </tr>\n",
       "    <tr>\n",
       "      <th>scale</th>\n",
       "      <th></th>\n",
       "      <th></th>\n",
       "      <th></th>\n",
       "      <th></th>\n",
       "      <th></th>\n",
       "      <th></th>\n",
       "      <th></th>\n",
       "      <th></th>\n",
       "      <th></th>\n",
       "      <th></th>\n",
       "      <th></th>\n",
       "      <th></th>\n",
       "      <th></th>\n",
       "      <th></th>\n",
       "      <th></th>\n",
       "      <th></th>\n",
       "      <th></th>\n",
       "      <th></th>\n",
       "    </tr>\n",
       "  </thead>\n",
       "  <tbody>\n",
       "    <tr>\n",
       "      <th>0.4922</th>\n",
       "      <td>1.024424e+14</td>\n",
       "      <td>1107.860760</td>\n",
       "      <td>637.297195</td>\n",
       "      <td>369.528321</td>\n",
       "      <td>504.154151</td>\n",
       "      <td>9.539071e+13</td>\n",
       "      <td>1.480425e+11</td>\n",
       "      <td>77.019499</td>\n",
       "      <td>296.874831</td>\n",
       "      <td>0.708872</td>\n",
       "      <td>0.382598</td>\n",
       "      <td>30636.496058</td>\n",
       "      <td>30636.496058</td>\n",
       "      <td>31192.426741</td>\n",
       "      <td>30846.708914</td>\n",
       "      <td>31359.380223</td>\n",
       "      <td>4.222388</td>\n",
       "      <td>1.026076e+14</td>\n",
       "    </tr>\n",
       "    <tr>\n",
       "      <th>0.6712</th>\n",
       "      <td>1.614951e+14</td>\n",
       "      <td>1200.186226</td>\n",
       "      <td>242.059814</td>\n",
       "      <td>582.849578</td>\n",
       "      <td>486.953972</td>\n",
       "      <td>1.435792e+14</td>\n",
       "      <td>1.512220e+11</td>\n",
       "      <td>96.681333</td>\n",
       "      <td>293.570810</td>\n",
       "      <td>0.694499</td>\n",
       "      <td>0.488354</td>\n",
       "      <td>29366.655967</td>\n",
       "      <td>29366.655967</td>\n",
       "      <td>29564.152260</td>\n",
       "      <td>28431.584600</td>\n",
       "      <td>28399.903067</td>\n",
       "      <td>4.791885</td>\n",
       "      <td>1.618252e+14</td>\n",
       "    </tr>\n",
       "    <tr>\n",
       "      <th>1.0000</th>\n",
       "      <td>3.085148e+14</td>\n",
       "      <td>1279.278585</td>\n",
       "      <td>306.319320</td>\n",
       "      <td>671.824071</td>\n",
       "      <td>509.171483</td>\n",
       "      <td>2.485489e+14</td>\n",
       "      <td>1.940698e+11</td>\n",
       "      <td>133.312571</td>\n",
       "      <td>269.347452</td>\n",
       "      <td>0.658473</td>\n",
       "      <td>0.651673</td>\n",
       "      <td>25891.225377</td>\n",
       "      <td>25891.225377</td>\n",
       "      <td>27820.118000</td>\n",
       "      <td>29155.635539</td>\n",
       "      <td>29985.539120</td>\n",
       "      <td>5.620467</td>\n",
       "      <td>NaN</td>\n",
       "    </tr>\n",
       "  </tbody>\n",
       "</table>\n",
       "</div>"
      ],
      "text/plain": [
       "                mvir         rvir           x           y           z  \\\n",
       "scale                                                                   \n",
       "0.4922  1.024424e+14  1107.860760  637.297195  369.528321  504.154151   \n",
       "0.6712  1.614951e+14  1200.186226  242.059814  582.849578  486.953972   \n",
       "1.0000  3.085148e+14  1279.278585  306.319320  671.824071  509.171483   \n",
       "\n",
       "         CentralMvir   StellarMass        Ngal          rs     T/|U|  \\\n",
       "scale                                                                  \n",
       "0.4922  9.539071e+13  1.480425e+11   77.019499  296.874831  0.708872   \n",
       "0.6712  1.435792e+14  1.512220e+11   96.681333  293.570810  0.694499   \n",
       "1.0000  2.485489e+14  1.940698e+11  133.312571  269.347452  0.658473   \n",
       "\n",
       "        Halfmass_Scale  Acc_Rate_Inst  Acc_Rate_100Myr  Acc_Rate_1*Tdyn  \\\n",
       "scale                                                                     \n",
       "0.4922        0.382598   30636.496058     30636.496058     31192.426741   \n",
       "0.6712        0.488354   29366.655967     29366.655967     29564.152260   \n",
       "1.0000        0.651673   25891.225377     25891.225377     27820.118000   \n",
       "\n",
       "        Acc_Rate_2*Tdyn  Acc_Rate_Mpeak     c_vir     Mmvir_all  \n",
       "scale                                                            \n",
       "0.4922     30846.708914    31359.380223  4.222388  1.026076e+14  \n",
       "0.6712     28431.584600    28399.903067  4.791885  1.618252e+14  \n",
       "1.0000     29155.635539    29985.539120  5.620467           NaN  "
      ]
     },
     "execution_count": 9,
     "metadata": {},
     "output_type": "execute_result"
    }
   ],
   "source": [
    "matched_halo_df.groupby('scale').mean()"
   ]
  },
  {
   "cell_type": "markdown",
   "id": "fc1a2347-ad2a-4583-8532-9110c3645d25",
   "metadata": {},
   "source": [
    "## Using the CLEVAR Tools"
   ]
  },
  {
   "cell_type": "code",
   "execution_count": 25,
   "id": "17f5bf7f-9a0e-47b2-9e78-705d40bd4bec",
   "metadata": {},
   "outputs": [],
   "source": [
    "import GCRCatalogs\n",
    "try: import clmm\n",
    "except:\n",
    "    import notebook_install\n",
    "    notebook_install.install_clmm_pipeline(upgrade=False)\n",
    "    import clmm\n",
    "import numpy as np\n",
    "import matplotlib.pyplot as plt\n",
    "%matplotlib inline"
   ]
  },
  {
   "cell_type": "code",
   "execution_count": 26,
   "id": "17b892cc-83eb-4f08-8954-8a5a5ed5f397",
   "metadata": {},
   "outputs": [
    {
     "data": {
      "text/plain": [
       "'1.1.2'"
      ]
     },
     "execution_count": 26,
     "metadata": {},
     "output_type": "execute_result"
    }
   ],
   "source": [
    "clmm.__version__"
   ]
  },
  {
   "cell_type": "code",
   "execution_count": 33,
   "id": "1a6f782d-e03c-4ec0-83e3-9ea7011e174e",
   "metadata": {},
   "outputs": [],
   "source": [
    "def mass_richness_parametrization(l, z, F, G, Omega_m_z0, M0, l0, z0, mass_def=\"crit\"):\n",
    "    \"\"\"Parametrization of the mass-richness-redshift relation used in several DES papers \"\"\"\n",
    "    if mass_def == \"mean\":\n",
    "        M = M0\n",
    "    elif mass_def == \"crit\":\n",
    "        M = M0 * Omega_m_z0*(1.+z)**3\n",
    "    elif mass_def == \"FoF\":\n",
    "        M = M0 * Omega_m_z0*(1.+z)**3 * 0.92\n",
    "        \n",
    "    return M*(l/l0)**F*((1+z)/(1+z0))**G"
   ]
  },
  {
   "cell_type": "code",
   "execution_count": 34,
   "id": "01002ba1-c9e8-45f8-a0eb-af6bee28dd1b",
   "metadata": {},
   "outputs": [],
   "source": [
    "#------------------------------\n",
    "def M_Saro(l, z, Omega_m_z0):\n",
    "    \"\"\"Mass richness parameters from McClintock et al. (2018) [https://arxiv.org/pdf/1805.00039.pdf]\"\"\"\n",
    "    \n",
    "    M0 = 2.754e14   #(+-0.075 +-0.133)e14\n",
    "    # log10(M0) = 14.489 #+-0.011 +-0.019\n",
    "    l0 = 40.\n",
    "    z0 = 0.35\n",
    "    F = 0.91   #+-0.051 +-0.008\n",
    "    G = 0   #+-0.30 +-0.06\n",
    "    return mass_richness_parametrization(l, z,  F, G, Omega_m_z0, M0, l0, z0, mass_def=\"FoF\")"
   ]
  },
  {
   "cell_type": "code",
   "execution_count": 35,
   "id": "8e91f63e-8d3d-4c58-8526-6550d8539370",
   "metadata": {},
   "outputs": [],
   "source": [
    "#------------------------------\n",
    "def M_DES_Y1(l, z, Omega_m_z0):\n",
    "    \"\"\"Mass richness parameters from McClintock et al. (2018) [https://arxiv.org/pdf/1805.00039.pdf]\"\"\"\n",
    "    \n",
    "    M0 = 3.081e14   #(+-0.075 +-0.133)e14\n",
    "    # log10(M0) = 14.489 #+-0.011 +-0.019\n",
    "    l0 = 40.\n",
    "    z0 = 0.35\n",
    "    F = 1.356   #+-0.051 +-0.008\n",
    "    G = -0.30   #+-0.30 +-0.06\n",
    "    return mass_richness_parametrization(l, z,  F, G, Omega_m_z0, M0, l0, z0, mass_def=\"FoF\")"
   ]
  },
  {
   "cell_type": "code",
   "execution_count": 36,
   "id": "cf6915ae-f962-4a49-abb2-02477a545e02",
   "metadata": {},
   "outputs": [],
   "source": [
    "gc_truth = GCRCatalogs.load_catalog('cosmoDC2_v1.1.4_image' )\n",
    "cosmo = gc_truth.cosmology"
   ]
  },
  {
   "cell_type": "code",
   "execution_count": 39,
   "id": "2dd4653f-6c67-4c73-ae7e-d908d66207c5",
   "metadata": {},
   "outputs": [
    {
     "data": {
      "text/plain": [
       "<matplotlib.legend.Legend at 0x1554ff306b90>"
      ]
     },
     "execution_count": 39,
     "metadata": {},
     "output_type": "execute_result"
    },
    {
     "data": {
      "image/png": "[encoded data removed]",
      "text/plain": [
       "<Figure size 432x288 with 1 Axes>"
      ]
     },
     "metadata": {
      "needs_background": "light"
     },
     "output_type": "display_data"
    }
   ],
   "source": [
    "plt.loglog(matched_halo_df['Ngal'], matched_halo_df['M200c'], '.',alpha=0.25)\n",
    "plt.axvline(20, color='black', linestyle='dotted', lw=2)\n",
    "plt.axhline(5*10**13, color='black', linestyle='dotted', lw=2)\n",
    "\n",
    "plt.xlabel(\"richness $\\\\lambda_{RM}$\")\n",
    "plt.ylabel('halo mass')\n",
    "\n",
    "\n",
    "#adding parametrization from litterature\n",
    "min_richness=20\n",
    "ll = np.logspace(np.log10(min_richness), np.log10(200))\n",
    "\n",
    "z0 = 0.4\n",
    "Om_z0 = cosmo.Om0   \n",
    "\n",
    "plt.fill_between(ll, M_DES_Y1_lim(ll, z0, 'min', Om_z0),M_DES_Y1_lim(ll, z0, 'max', Om_z0),alpha=0.2,color='r')\n",
    "\n",
    "plt.plot(ll, M_DES_Y1(ll, z0, Om_z0), 'r-', alpha=1, label='DES Y1 (M_200c) at z ='+str(z0) )\n",
    "#plt.plot(ll, M_SDSS(ll, z0, Om_z0), 'g-.', alpha=1, label='SDSS (M_200c) at z ='+str(z0))\n",
    "#plt.plot(ll, M_DES_SV(ll, z0, Om_z0), 'b--', alpha=1, label='DES SV (M_200c) at z ='+str(z0))\n",
    "\n",
    "plt.legend(fontsize='x-small')"
   ]
  },
  {
   "cell_type": "markdown",
   "id": "3befcbf9-fd73-4ac8-9237-000e1a777752",
   "metadata": {},
   "source": [
    "## HOD"
   ]
  },
  {
   "cell_type": "code",
   "execution_count": 2,
   "id": "7478f6ac-96c4-4e01-a1e9-a35d0b82f55c",
   "metadata": {},
   "outputs": [
    {
     "ename": "SyntaxError",
     "evalue": "invalid syntax (166550618.py, line 6)",
     "output_type": "error",
     "traceback": [
      "\u001b[0;36m  File \u001b[0;32m\"/tmp/ipykernel_57203/166550618.py\"\u001b[0;36m, line \u001b[0;32m6\u001b[0m\n\u001b[0;31m    wt = 1 ./ df.u_y .^2\u001b[0m\n\u001b[0m            ^\u001b[0m\n\u001b[0;31mSyntaxError\u001b[0m\u001b[0;31m:\u001b[0m invalid syntax\n"
     ]
    }
   ],
   "source": [
    "df = DataFrame(x = [0.0, 0.0669873, 0.25, 0.5, 0.75, 0.933013, 1.0],\n",
    "        y = [0.223, 0.291, 0.393, 0.549, 0.73, 0.85, 0.896],\n",
    "        u_y = [0.023, 0.024, 0.027, 0.031, 0.037, 0.041, 0.043])\n",
    "\n",
    "x, y = df.x, df.y\n",
    "wt = 1 ./ df.u_y .^2\n",
    "\n",
    "p0 = [0.5, 0.5]\n",
    "m(x, p) = p[1] .+ p[2] * x         # p: model parameters\n",
    "fit = curve_fit(m, x, y, wt, p0)\n",
    "\n",
    "cf = coef(fit)\n",
    "ci = confidence_interval(fit, 0.05)    # 5% significance level\n",
    "\n",
    "str = @sprintf(\"Y = (%.2f +/- %.2f) + (%.2f +/- %.2f)*X\",\n",
    "          cf[1],diff([ci[1]...])[1]/2, cf[2],diff([ci[2]...])[1]/2)\n",
    "\n",
    "tl, bl = ci[1][1] .+ ci[2][2]*x,   ci[1][2] .+ ci[2][1]*x\n",
    "σp, σm = maximum([tl bl], dims=2) .-  m(x,cf),  m(x,cf) .- minimum([tl bl], dims=2)\n",
    "\n",
    "plot(x, cf[1] .+ cf[2]*x, color=:lightblue, ribbon=(σp,σm), label=str)\n",
    "plot!(x, cf[1] .+ cf[2]*x, color=:blues, lw=1, label=false, xlabel=\"X\",ylabel=\"Y\")\n",
    "scatter!(x,y, ms=3,label=false,mc=:blue, yerror=df.u_y, legend=:topleft)"
   ]
  },
  {
   "cell_type": "code",
   "execution_count": null,
   "id": "54dfe252-95d8-41ea-949a-572133611ad5",
   "metadata": {},
   "outputs": [],
   "source": []
  }
 ],
 "metadata": {
  "kernelspec": {
   "display_name": "myLSST",
   "language": "python",
   "name": "mylsst"
  },
  "language_info": {
   "codemirror_mode": {
    "name": "ipython",
    "version": 3
   },
   "file_extension": ".py",
   "mimetype": "text/x-python",
   "name": "python",
   "nbconvert_exporter": "python",
   "pygments_lexer": "ipython3",
   "version": "3.7.12"
  }
 },
 "nbformat": 4,
 "nbformat_minor": 5
}
