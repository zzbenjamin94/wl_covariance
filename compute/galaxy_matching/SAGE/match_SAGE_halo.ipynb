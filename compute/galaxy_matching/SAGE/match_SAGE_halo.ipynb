{
 "cells": [
  {
   "cell_type": "markdown",
   "id": "dbca5d83-7b4e-452f-a050-763830834215",
   "metadata": {},
   "source": [
    "# Reading SAGE galaxy files. \n",
    "\n",
    "Data taken from: https://www.cosmosim.org/data/catalogs/NewMD_3840_Planck1/SAGE/\n",
    "\n",
    "Functions used from Github page: http://popia.ft.uam.es/public/read_SAGE.py\n",
    "\n",
    "## Check marks. \n",
    "* Reading the SAGE catalogs. \n",
    "* Finding the number of galaxies for each halo with Mvir > 5e13\n",
    "* Matching onto halos. \n",
    "* Plotting richness-mass relation\n",
    "* Plotting the correlation between lensing profiles -- number count. "
   ]
  },
  {
   "cell_type": "markdown",
   "id": "b2f3f504-b7f9-4d06-b0a8-276e2d82781c",
   "metadata": {},
   "source": [
    "## Setup"
   ]
  },
  {
   "cell_type": "code",
   "execution_count": 1,
   "id": "9b02e307-a2f1-485a-a1bc-2a494c7ac2ee",
   "metadata": {},
   "outputs": [],
   "source": [
    "## Use the setup.py file to output directories. \n",
    "import sys\n",
    "sys.path.append('/global/homes/z/zzhang13/BaryonPasting/CorrelatedStructures/multiDark/')\n",
    "\n",
    "from setup import *\n",
    "toolsdir = tools_dir()\n",
    "repodir = repo_dir()\n",
    "chainsdir = chains_dir()\n",
    "datadir = data_dir()\n",
    "plotdir = plots_dir()\n",
    "\n",
    "sys.path.append(toolsdir)\n",
    "sys.path.append(repodir)"
   ]
  },
  {
   "cell_type": "code",
   "execution_count": 2,
   "id": "1cb5d0c7-9718-4b18-b942-728d8ea18012",
   "metadata": {},
   "outputs": [],
   "source": [
    "from pygadgetreader import *"
   ]
  },
  {
   "cell_type": "code",
   "execution_count": 3,
   "id": "a33a8278-d34c-4f98-af6e-40e5ac2ea04c",
   "metadata": {},
   "outputs": [],
   "source": [
    "from timeit import default_timer as timer"
   ]
  },
  {
   "cell_type": "code",
   "execution_count": 4,
   "id": "4d857ce3-f0fe-4b1c-9c03-8545290fbcb6",
   "metadata": {},
   "outputs": [],
   "source": [
    "import sage_read_plot_routines as pr "
   ]
  },
  {
   "cell_type": "code",
   "execution_count": 5,
   "id": "4e1de75c-8b24-4253-88e4-25bea6ae1a11",
   "metadata": {},
   "outputs": [],
   "source": [
    "datadir = '/global/homes/z/zzhang13/BaryonPasting/CorrelatedStructures/multiDark/data/'"
   ]
  },
  {
   "cell_type": "code",
   "execution_count": 39,
   "id": "4143ccd3-d82a-441b-b0ff-2f5a1bc93bf9",
   "metadata": {},
   "outputs": [],
   "source": [
    "gal_file_dict = {}\n",
    "\n",
    "#gal_z1p03_dir = '/global/cscratch1/sd/zzhang13/MultiDark/MDPL2_galaxies/SAGE/z1p03/'\n",
    "#gal_z0p49_dir = '/global/cscratch1/sd/zzhang13/MultiDark/MDPL2_galaxies/SAGE/z0p49/'\n",
    "gal_z0p00_dir = '/pscratch/sd/z/zzhang13/MDPL2/SAGE/z0p00/'\n",
    "\n",
    "\n",
    "gal_dirs = [gal_z0p00_dir]\n",
    "gal_file_prefix = [gal_z0p00_dir+'model_z0.000']\n",
    "\n",
    "#gal_dirs = [gal_z0p00_dir, gal_z0p49_dir, gal_z1p03_dir]\n",
    "#gal_file_prefix = [gal_z0p00_dir+'model_z0.000', gal_z0p49_dir+'model_z0.490', gal_z1p03_dir+'model_z1.032'] ##Sort in ascending order"
   ]
  },
  {
   "cell_type": "raw",
   "id": "8faf9fc5-6a60-4577-9c6b-3bdfdc6e8bc3",
   "metadata": {},
   "source": [
    "ptcl_files = glob(ptcl_dir + 'snap_098.*')"
   ]
  },
  {
   "cell_type": "code",
   "execution_count": 40,
   "id": "6729b98b-d76b-462a-b377-4758213ee1ae",
   "metadata": {},
   "outputs": [
    {
     "data": {
      "text/plain": [
       "Index(['scale', 'id', 'pid', 'mvir', 'rvir', 'rs', 'x', 'y', 'z', 'Mmvir_all',\n",
       "       'M200b', 'M200c', 'M500c', 'T/|U|', 'Halfmass_Scale', 'Acc_Rate_Inst',\n",
       "       'Acc_Rate_100Myr', 'Acc_Rate_1*Tdyn', 'Acc_Rate_2*Tdyn',\n",
       "       'Acc_Rate_Mpeak', 'c_vir', 'R200c', 'R500c', 'redshift'],\n",
       "      dtype='object')"
      ]
     },
     "execution_count": 40,
     "metadata": {},
     "output_type": "execute_result"
    }
   ],
   "source": [
    "cluster_df = pd.read_csv(datadir + 'clusters_m200c_lgt_3e13_mah_allz.csv')\n",
    "cluster_df.columns"
   ]
  },
  {
   "cell_type": "code",
   "execution_count": 41,
   "id": "57983a63-5a6a-4338-9f9a-ccd69490fa95",
   "metadata": {},
   "outputs": [],
   "source": [
    "cluster_df = cluster_df.rename(columns={\"id\": \"CtreesHaloID\"})"
   ]
  },
  {
   "cell_type": "code",
   "execution_count": 42,
   "id": "68123a4f-e4f2-4f98-b2cf-56233201d342",
   "metadata": {},
   "outputs": [
    {
     "data": {
      "text/plain": [
       "Index(['id', 'Xoff', 'scale', 'CtreesHaloID', 'pid', 'mvir', 'rvir', 'rs', 'x',\n",
       "       'y', 'z', 'Mmvir_all', 'M200b', 'M200c', 'M500c', 'T/|U|',\n",
       "       'Halfmass_Scale', 'Acc_Rate_Inst', 'Acc_Rate_100Myr', 'Acc_Rate_1*Tdyn',\n",
       "       'Acc_Rate_2*Tdyn', 'Acc_Rate_Mpeak', 'c_vir', 'R200c', 'R500c',\n",
       "       'redshift', 'Ngal_Dsep_1', 'Ngal_Rvir', 'Ngal_R200c', 'Ngal_R500c',\n",
       "       'sigma', 'r_range', 'delta_sigma'],\n",
       "      dtype='object')"
      ]
     },
     "execution_count": 42,
     "metadata": {},
     "output_type": "execute_result"
    }
   ],
   "source": [
    "with open(datadir + 'MDPL2_DS_R200c_SAGE_Ngal_allM_allz.p', 'rb') as handle:\n",
    "    matched_halo_df = pickle.load(handle)\n",
    "matched_halo_df.columns"
   ]
  },
  {
   "cell_type": "code",
   "execution_count": 43,
   "id": "dd35f7d2-1862-431e-9bf6-fd93c4b0d657",
   "metadata": {},
   "outputs": [],
   "source": [
    "redshift_vals = pd.unique(cluster_df['redshift'].values.ravel('K'))"
   ]
  },
  {
   "cell_type": "code",
   "execution_count": 44,
   "id": "e65122b0-23b4-45f0-885c-7c315f5d902a",
   "metadata": {},
   "outputs": [],
   "source": [
    "filt = cluster_df['redshift'] == redshift_vals[2]\n",
    "cluster_df_snapshot = cluster_df[filt]"
   ]
  },
  {
   "cell_type": "code",
   "execution_count": 45,
   "id": "f841ebcb-8edc-46ce-9389-8dbfbf295929",
   "metadata": {},
   "outputs": [
    {
     "data": {
      "text/html": [
       "<div>\n",
       "<style scoped>\n",
       "    .dataframe tbody tr th:only-of-type {\n",
       "        vertical-align: middle;\n",
       "    }\n",
       "\n",
       "    .dataframe tbody tr th {\n",
       "        vertical-align: top;\n",
       "    }\n",
       "\n",
       "    .dataframe thead th {\n",
       "        text-align: right;\n",
       "    }\n",
       "</style>\n",
       "<table border=\"1\" class=\"dataframe\">\n",
       "  <thead>\n",
       "    <tr style=\"text-align: right;\">\n",
       "      <th></th>\n",
       "      <th>scale</th>\n",
       "      <th>CtreesHaloID</th>\n",
       "      <th>pid</th>\n",
       "      <th>mvir</th>\n",
       "      <th>rvir</th>\n",
       "      <th>rs</th>\n",
       "      <th>x</th>\n",
       "      <th>y</th>\n",
       "      <th>z</th>\n",
       "      <th>Mmvir_all</th>\n",
       "      <th>...</th>\n",
       "      <th>Halfmass_Scale</th>\n",
       "      <th>Acc_Rate_Inst</th>\n",
       "      <th>Acc_Rate_100Myr</th>\n",
       "      <th>Acc_Rate_1*Tdyn</th>\n",
       "      <th>Acc_Rate_2*Tdyn</th>\n",
       "      <th>Acc_Rate_Mpeak</th>\n",
       "      <th>c_vir</th>\n",
       "      <th>R200c</th>\n",
       "      <th>R500c</th>\n",
       "      <th>redshift</th>\n",
       "    </tr>\n",
       "  </thead>\n",
       "  <tbody>\n",
       "    <tr>\n",
       "      <th>176519</th>\n",
       "      <td>0.4922</td>\n",
       "      <td>7480679306</td>\n",
       "      <td>-1</td>\n",
       "      <td>2.882000e+14</td>\n",
       "      <td>1.589118</td>\n",
       "      <td>286.322998</td>\n",
       "      <td>775.65137</td>\n",
       "      <td>70.00431</td>\n",
       "      <td>624.70386</td>\n",
       "      <td>2.882000e+14</td>\n",
       "      <td>...</td>\n",
       "      <td>0.3530</td>\n",
       "      <td>20140.0</td>\n",
       "      <td>20140.0</td>\n",
       "      <td>12660.0</td>\n",
       "      <td>57790.0</td>\n",
       "      <td>49650.0</td>\n",
       "      <td>5.550089</td>\n",
       "      <td>0.688343</td>\n",
       "      <td>0.405885</td>\n",
       "      <td>1.031694</td>\n",
       "    </tr>\n",
       "    <tr>\n",
       "      <th>176520</th>\n",
       "      <td>0.4922</td>\n",
       "      <td>7480679630</td>\n",
       "      <td>-1</td>\n",
       "      <td>1.957600e+14</td>\n",
       "      <td>1.396891</td>\n",
       "      <td>438.428986</td>\n",
       "      <td>774.06635</td>\n",
       "      <td>72.02608</td>\n",
       "      <td>621.05902</td>\n",
       "      <td>1.957600e+14</td>\n",
       "      <td>...</td>\n",
       "      <td>0.3453</td>\n",
       "      <td>44520.0</td>\n",
       "      <td>44520.0</td>\n",
       "      <td>35350.0</td>\n",
       "      <td>39710.0</td>\n",
       "      <td>39160.0</td>\n",
       "      <td>3.186128</td>\n",
       "      <td>0.602995</td>\n",
       "      <td>0.349650</td>\n",
       "      <td>1.031694</td>\n",
       "    </tr>\n",
       "    <tr>\n",
       "      <th>176521</th>\n",
       "      <td>0.4922</td>\n",
       "      <td>7480680071</td>\n",
       "      <td>-1</td>\n",
       "      <td>5.253600e+13</td>\n",
       "      <td>0.901037</td>\n",
       "      <td>204.459000</td>\n",
       "      <td>774.02454</td>\n",
       "      <td>70.48774</td>\n",
       "      <td>622.57806</td>\n",
       "      <td>5.962900e+13</td>\n",
       "      <td>...</td>\n",
       "      <td>0.3091</td>\n",
       "      <td>-9236.0</td>\n",
       "      <td>-9236.0</td>\n",
       "      <td>2657.0</td>\n",
       "      <td>10630.0</td>\n",
       "      <td>9104.0</td>\n",
       "      <td>4.406932</td>\n",
       "      <td>0.383849</td>\n",
       "      <td>0.209126</td>\n",
       "      <td>1.031694</td>\n",
       "    </tr>\n",
       "    <tr>\n",
       "      <th>176522</th>\n",
       "      <td>0.4922</td>\n",
       "      <td>7480720476</td>\n",
       "      <td>-1</td>\n",
       "      <td>1.081100e+14</td>\n",
       "      <td>1.146072</td>\n",
       "      <td>282.298004</td>\n",
       "      <td>794.99408</td>\n",
       "      <td>94.06732</td>\n",
       "      <td>674.30176</td>\n",
       "      <td>1.081200e+14</td>\n",
       "      <td>...</td>\n",
       "      <td>0.4032</td>\n",
       "      <td>45950.0</td>\n",
       "      <td>45950.0</td>\n",
       "      <td>48040.0</td>\n",
       "      <td>36050.0</td>\n",
       "      <td>38550.0</td>\n",
       "      <td>4.059795</td>\n",
       "      <td>0.491912</td>\n",
       "      <td>0.277566</td>\n",
       "      <td>1.031694</td>\n",
       "    </tr>\n",
       "    <tr>\n",
       "      <th>176523</th>\n",
       "      <td>0.4922</td>\n",
       "      <td>7480720691</td>\n",
       "      <td>-1</td>\n",
       "      <td>3.356900e+13</td>\n",
       "      <td>0.776076</td>\n",
       "      <td>172.278000</td>\n",
       "      <td>796.64618</td>\n",
       "      <td>92.04386</td>\n",
       "      <td>677.38428</td>\n",
       "      <td>3.356900e+13</td>\n",
       "      <td>...</td>\n",
       "      <td>0.3231</td>\n",
       "      <td>7159.0</td>\n",
       "      <td>7159.0</td>\n",
       "      <td>5281.0</td>\n",
       "      <td>4027.0</td>\n",
       "      <td>3502.0</td>\n",
       "      <td>4.504789</td>\n",
       "      <td>0.328989</td>\n",
       "      <td>0.175268</td>\n",
       "      <td>1.031694</td>\n",
       "    </tr>\n",
       "    <tr>\n",
       "      <th>...</th>\n",
       "      <td>...</td>\n",
       "      <td>...</td>\n",
       "      <td>...</td>\n",
       "      <td>...</td>\n",
       "      <td>...</td>\n",
       "      <td>...</td>\n",
       "      <td>...</td>\n",
       "      <td>...</td>\n",
       "      <td>...</td>\n",
       "      <td>...</td>\n",
       "      <td>...</td>\n",
       "      <td>...</td>\n",
       "      <td>...</td>\n",
       "      <td>...</td>\n",
       "      <td>...</td>\n",
       "      <td>...</td>\n",
       "      <td>...</td>\n",
       "      <td>...</td>\n",
       "      <td>...</td>\n",
       "      <td>...</td>\n",
       "      <td>...</td>\n",
       "    </tr>\n",
       "    <tr>\n",
       "      <th>209293</th>\n",
       "      <td>0.4922</td>\n",
       "      <td>7449377959</td>\n",
       "      <td>-1</td>\n",
       "      <td>3.811400e+13</td>\n",
       "      <td>0.809628</td>\n",
       "      <td>133.949005</td>\n",
       "      <td>480.91885</td>\n",
       "      <td>941.27173</td>\n",
       "      <td>400.18594</td>\n",
       "      <td>3.811400e+13</td>\n",
       "      <td>...</td>\n",
       "      <td>0.3690</td>\n",
       "      <td>-2678.0</td>\n",
       "      <td>-2678.0</td>\n",
       "      <td>-1127.0</td>\n",
       "      <td>8173.0</td>\n",
       "      <td>6642.0</td>\n",
       "      <td>6.044300</td>\n",
       "      <td>0.343699</td>\n",
       "      <td>0.184276</td>\n",
       "      <td>1.031694</td>\n",
       "    </tr>\n",
       "    <tr>\n",
       "      <th>209294</th>\n",
       "      <td>0.4922</td>\n",
       "      <td>7449378344</td>\n",
       "      <td>-1</td>\n",
       "      <td>4.392300e+13</td>\n",
       "      <td>0.848833</td>\n",
       "      <td>152.729996</td>\n",
       "      <td>479.80551</td>\n",
       "      <td>943.86493</td>\n",
       "      <td>370.01025</td>\n",
       "      <td>4.399300e+13</td>\n",
       "      <td>...</td>\n",
       "      <td>0.4123</td>\n",
       "      <td>11320.0</td>\n",
       "      <td>11320.0</td>\n",
       "      <td>21360.0</td>\n",
       "      <td>19450.0</td>\n",
       "      <td>20470.0</td>\n",
       "      <td>5.557736</td>\n",
       "      <td>0.360905</td>\n",
       "      <td>0.194880</td>\n",
       "      <td>1.031694</td>\n",
       "    </tr>\n",
       "    <tr>\n",
       "      <th>209295</th>\n",
       "      <td>0.4922</td>\n",
       "      <td>7448759317</td>\n",
       "      <td>-1</td>\n",
       "      <td>4.120500e+13</td>\n",
       "      <td>0.830945</td>\n",
       "      <td>254.210999</td>\n",
       "      <td>477.39102</td>\n",
       "      <td>937.20746</td>\n",
       "      <td>371.69727</td>\n",
       "      <td>4.124700e+13</td>\n",
       "      <td>...</td>\n",
       "      <td>0.4215</td>\n",
       "      <td>14680.0</td>\n",
       "      <td>14680.0</td>\n",
       "      <td>17360.0</td>\n",
       "      <td>17720.0</td>\n",
       "      <td>19030.0</td>\n",
       "      <td>3.268722</td>\n",
       "      <td>0.353054</td>\n",
       "      <td>0.190032</td>\n",
       "      <td>1.031694</td>\n",
       "    </tr>\n",
       "    <tr>\n",
       "      <th>209296</th>\n",
       "      <td>0.4922</td>\n",
       "      <td>7448711111</td>\n",
       "      <td>-1</td>\n",
       "      <td>3.450100e+13</td>\n",
       "      <td>0.783191</td>\n",
       "      <td>169.520004</td>\n",
       "      <td>491.51678</td>\n",
       "      <td>903.84302</td>\n",
       "      <td>320.23111</td>\n",
       "      <td>3.451200e+13</td>\n",
       "      <td>...</td>\n",
       "      <td>0.3609</td>\n",
       "      <td>6558.0</td>\n",
       "      <td>6558.0</td>\n",
       "      <td>8385.0</td>\n",
       "      <td>6627.0</td>\n",
       "      <td>6354.0</td>\n",
       "      <td>4.620050</td>\n",
       "      <td>0.332108</td>\n",
       "      <td>0.177173</td>\n",
       "      <td>1.031694</td>\n",
       "    </tr>\n",
       "    <tr>\n",
       "      <th>209297</th>\n",
       "      <td>0.4922</td>\n",
       "      <td>7449382358</td>\n",
       "      <td>-1</td>\n",
       "      <td>3.266300e+13</td>\n",
       "      <td>0.769028</td>\n",
       "      <td>194.028000</td>\n",
       "      <td>474.03351</td>\n",
       "      <td>941.04315</td>\n",
       "      <td>381.06018</td>\n",
       "      <td>3.266300e+13</td>\n",
       "      <td>...</td>\n",
       "      <td>0.3773</td>\n",
       "      <td>-4074.0</td>\n",
       "      <td>-4074.0</td>\n",
       "      <td>238.6</td>\n",
       "      <td>10420.0</td>\n",
       "      <td>5153.0</td>\n",
       "      <td>3.963490</td>\n",
       "      <td>0.325903</td>\n",
       "      <td>0.173385</td>\n",
       "      <td>1.031694</td>\n",
       "    </tr>\n",
       "  </tbody>\n",
       "</table>\n",
       "<p>32779 rows × 24 columns</p>\n",
       "</div>"
      ],
      "text/plain": [
       "         scale  CtreesHaloID  pid          mvir      rvir          rs  \\\n",
       "176519  0.4922    7480679306   -1  2.882000e+14  1.589118  286.322998   \n",
       "176520  0.4922    7480679630   -1  1.957600e+14  1.396891  438.428986   \n",
       "176521  0.4922    7480680071   -1  5.253600e+13  0.901037  204.459000   \n",
       "176522  0.4922    7480720476   -1  1.081100e+14  1.146072  282.298004   \n",
       "176523  0.4922    7480720691   -1  3.356900e+13  0.776076  172.278000   \n",
       "...        ...           ...  ...           ...       ...         ...   \n",
       "209293  0.4922    7449377959   -1  3.811400e+13  0.809628  133.949005   \n",
       "209294  0.4922    7449378344   -1  4.392300e+13  0.848833  152.729996   \n",
       "209295  0.4922    7448759317   -1  4.120500e+13  0.830945  254.210999   \n",
       "209296  0.4922    7448711111   -1  3.450100e+13  0.783191  169.520004   \n",
       "209297  0.4922    7449382358   -1  3.266300e+13  0.769028  194.028000   \n",
       "\n",
       "                x          y          z     Mmvir_all  ...  Halfmass_Scale  \\\n",
       "176519  775.65137   70.00431  624.70386  2.882000e+14  ...          0.3530   \n",
       "176520  774.06635   72.02608  621.05902  1.957600e+14  ...          0.3453   \n",
       "176521  774.02454   70.48774  622.57806  5.962900e+13  ...          0.3091   \n",
       "176522  794.99408   94.06732  674.30176  1.081200e+14  ...          0.4032   \n",
       "176523  796.64618   92.04386  677.38428  3.356900e+13  ...          0.3231   \n",
       "...           ...        ...        ...           ...  ...             ...   \n",
       "209293  480.91885  941.27173  400.18594  3.811400e+13  ...          0.3690   \n",
       "209294  479.80551  943.86493  370.01025  4.399300e+13  ...          0.4123   \n",
       "209295  477.39102  937.20746  371.69727  4.124700e+13  ...          0.4215   \n",
       "209296  491.51678  903.84302  320.23111  3.451200e+13  ...          0.3609   \n",
       "209297  474.03351  941.04315  381.06018  3.266300e+13  ...          0.3773   \n",
       "\n",
       "        Acc_Rate_Inst  Acc_Rate_100Myr  Acc_Rate_1*Tdyn  Acc_Rate_2*Tdyn  \\\n",
       "176519        20140.0          20140.0          12660.0          57790.0   \n",
       "176520        44520.0          44520.0          35350.0          39710.0   \n",
       "176521        -9236.0          -9236.0           2657.0          10630.0   \n",
       "176522        45950.0          45950.0          48040.0          36050.0   \n",
       "176523         7159.0           7159.0           5281.0           4027.0   \n",
       "...               ...              ...              ...              ...   \n",
       "209293        -2678.0          -2678.0          -1127.0           8173.0   \n",
       "209294        11320.0          11320.0          21360.0          19450.0   \n",
       "209295        14680.0          14680.0          17360.0          17720.0   \n",
       "209296         6558.0           6558.0           8385.0           6627.0   \n",
       "209297        -4074.0          -4074.0            238.6          10420.0   \n",
       "\n",
       "        Acc_Rate_Mpeak     c_vir     R200c     R500c  redshift  \n",
       "176519         49650.0  5.550089  0.688343  0.405885  1.031694  \n",
       "176520         39160.0  3.186128  0.602995  0.349650  1.031694  \n",
       "176521          9104.0  4.406932  0.383849  0.209126  1.031694  \n",
       "176522         38550.0  4.059795  0.491912  0.277566  1.031694  \n",
       "176523          3502.0  4.504789  0.328989  0.175268  1.031694  \n",
       "...                ...       ...       ...       ...       ...  \n",
       "209293          6642.0  6.044300  0.343699  0.184276  1.031694  \n",
       "209294         20470.0  5.557736  0.360905  0.194880  1.031694  \n",
       "209295         19030.0  3.268722  0.353054  0.190032  1.031694  \n",
       "209296          6354.0  4.620050  0.332108  0.177173  1.031694  \n",
       "209297          5153.0  3.963490  0.325903  0.173385  1.031694  \n",
       "\n",
       "[32779 rows x 24 columns]"
      ]
     },
     "execution_count": 45,
     "metadata": {},
     "output_type": "execute_result"
    }
   ],
   "source": [
    "cluster_df_snapshot"
   ]
  },
  {
   "cell_type": "markdown",
   "id": "3520681c-ac22-44e4-b797-7d51c8fd8012",
   "metadata": {},
   "source": [
    "## Reading SAGE galaxy files. "
   ]
  },
  {
   "cell_type": "markdown",
   "id": "a4295756-11be-4b00-9d02-f15f69f7da51",
   "metadata": {
    "tags": []
   },
   "source": [
    "### Calling the functions to read the files. \n",
    "\n",
    "Columns needed are:\n",
    "* Type\n",
    "* GalaxyIndex\n",
    "* CentralGalaxyIndex\n",
    "* SAGEHaloIndex\n",
    "* SimulationHaloIndex\n",
    "* Pos\n",
    "* CentralMvir"
   ]
  },
  {
   "cell_type": "code",
   "execution_count": 46,
   "id": "579e8723-d846-4fd0-a2bc-d32f6c1c5fc8",
   "metadata": {},
   "outputs": [],
   "source": [
    "from pylab import *\n",
    "from scipy import signal as ss\n",
    "\n",
    "#Not sure if float should be 32 or 64\n",
    "\n",
    "def galdtype():\n",
    "    Galdesc_full = [\n",
    "                    ('SnapNum'                      , np.int32),\n",
    "                    ('Type'                         , np.int32),\n",
    "                    ('GalaxyIndex'                  , np.int64),\n",
    "                    ('CentralGalaxyIndex'           , np.int64),\n",
    "                    ('CtreesHaloID'                 , np.int64),\n",
    "                    ('TreeIndex'                    , np.int32),\n",
    "                    ('CtreesCentralID'              , np.int64),\n",
    "                    ('mergeType'                    , np.int32),\n",
    "                    ('mergeIntoID'                  , np.int32),\n",
    "                    ('mergeIntoSnapNum'             , np.int32),\n",
    "                    ('dT'                           , np.float32),\n",
    "                    ('Pos'                          , (np.float32, 3)),\n",
    "                    ('Vel'                          , (np.float32, 3)),\n",
    "                    ('Spin'                         , (np.float32, 3)),\n",
    "                    ('Len'                          , np.int32),\n",
    "                    ('Mvir'                         , np.float32),\n",
    "                    ('CentralMvir'                  , np.float32),\n",
    "                    ('Rvir'                         , np.float32),\n",
    "                    ('Vvir'                         , np.float32),\n",
    "                    ('Vmax'                         , np.float32),\n",
    "                    ('VelDisp'                      , np.float32),\n",
    "                    ('ColdGas'                      , np.float32),\n",
    "                    ('StellarMass'                  , np.float32),\n",
    "                    ('BulgeMass'                    , np.float32),\n",
    "                    ('HotGas'                       , np.float32),\n",
    "                    ('EjectedMass'                  , np.float32),\n",
    "                    ('BlackHoleMass'                , np.float32),\n",
    "                    ('IntraClusterStars'            , np.float32),\n",
    "                    ('MetalsColdGas'                , np.float32),\n",
    "                    ('MetalsStellarMass'            , np.float32),\n",
    "                    ('MetalsBulgeMass'              , np.float32),\n",
    "                    ('MetalsHotGas'                 , np.float32),\n",
    "                    ('MetalsEjectedMass'            , np.float32),\n",
    "                    ('MetalsIntraClusterStars'      , np.float32),\n",
    "                    ('SfrDisk'                      , np.float32),\n",
    "                    ('SfrBulge'                     , np.float32),\n",
    "                    ('SfrDiskZ'                     , np.float32),\n",
    "                    ('SfrBulgeZ'                    , np.float32),\n",
    "                    ('DiskRadius'                   , np.float32),\n",
    "                    ('Cooling'                      , np.float32),\n",
    "                    ('Heating'                      , np.float32),\n",
    "                    ('QuasarModeBHaccretionMass'    , np.float32),\n",
    "                    ('TimeOfLastMajorMerger'        , np.float32),\n",
    "                    ('TimeOfLastMinorMerger'        , np.float32),\n",
    "                    ('OutflowRate'                  , np.float32),\n",
    "                    ('MeanStarAge'                  , np.float32),\n",
    "                    ('infallMvir'                   , np.float32),\n",
    "                    ('infallVvir'                   , np.float32),\n",
    "                    ('infallVmax'                   , np.float32)\n",
    "                    ]\n",
    "    names   = [Galdesc_full[i][0] for i in range(len(Galdesc_full))]\n",
    "    formats = [Galdesc_full[i][1] for i in range(len(Galdesc_full))]\n",
    "    Galdesc = np.dtype({'names':names, 'formats':formats}, align=True)\n",
    "    return Galdesc\n",
    "    \n",
    "\n",
    "\n",
    "def sageoutsingle(fname):\n",
    "\t# Read a single SAGE output file, intended only as a subroutine of read_sagesnap\n",
    "\tGaldesc_full = galdtype()\n",
    "\tfin = open(fname, 'rb')  # Open the file\n",
    "\tNtrees = np.fromfile(fin,np.dtype(np.int32),1)  # Read number of trees in file\n",
    "\tNtotGals = int(np.fromfile(fin,np.dtype(np.int32),1)[0])  # Read number of gals in file.\n",
    "\tGalsPerTree = np.fromfile(fin, np.dtype((np.int32, Ntrees)),1) # Read the number of gals in each tree\n",
    "\tG = np.fromfile(fin, Galdesc_full, NtotGals) # Read all the galaxy data\n",
    "\treturn G, NtotGals\n",
    "\n",
    "##For Mvir > 5e13\n",
    "'''\n",
    "Modified read_sagesnap function with mvircut for the central halo. \n",
    "mvir in units of 1e10 Msun/h, so 5e3 cut corresponds to 5e13 solar masses.\n",
    "'''\n",
    "def read_sagesnap_mvircut(fpre, Galdesc, mvircut = 5e3, firstfile=0, lastfile=7):\n",
    "    # Read full SAGE snapshot, going through each file and compiling into 1 array\n",
    "    #Galdesc = galdtype()\n",
    "    \n",
    "    columns = [Galdesc[i][0] for i in range(len(Galdesc))]\n",
    "    Glist = []\n",
    "    Ngal = np.array([])\n",
    "    for i in range(firstfile,lastfile+1):\n",
    "        G1, N1 = sageoutsingle(fpre+'_'+str(i))\n",
    "        G_filt = G1['CentralMvir'] > mvircut ##Applied a Mvir cut to this \n",
    "        G1 = G1[G_filt]\n",
    "        N1 = len(G1)\n",
    "        G1 = G1[columns]\n",
    "        Glist += [G1]\n",
    "        Ngal = np.append(Ngal,N1)\n",
    "\n",
    "    G = np.empty(int(sum(Ngal)), dtype=Galdesc)\n",
    "    for i in range(firstfile,lastfile+1):\n",
    "        j = i-firstfile\n",
    "        G[int(sum(Ngal[:j])):int(sum(Ngal[:j+1]))] = Glist[j][0:int(Ngal[j])].copy()\n",
    "        \n",
    "    \n",
    "    G = G.view(np.recarray)\n",
    "    return G\n"
   ]
  },
  {
   "cell_type": "code",
   "execution_count": 32,
   "id": "f0399ef5-2be6-44a4-9130-20670193719f",
   "metadata": {},
   "outputs": [],
   "source": [
    "## Testing reading one galaxy file. \n",
    "gal_file = gal_z0p00_dir+'model_z0.000_0'\n",
    "a, N_tot = sageoutsingle(gal_file)"
   ]
  },
  {
   "cell_type": "code",
   "execution_count": 47,
   "id": "ad4cb2da-dc5e-4996-a6ae-3cde5dd6a624",
   "metadata": {},
   "outputs": [],
   "source": [
    "Galdesc = [\n",
    "        ('Type'                         , np.int32),\n",
    "        ('GalaxyIndex'                  , np.int64),\n",
    "        ('CentralGalaxyIndex'           , np.int64),\n",
    "        ('CtreesHaloID'                 , np.int64),\n",
    "        ('CtreesCentralID'              , np.int64),\n",
    "        ('Pos'                          , (np.float32, 3)),\n",
    "        ('CentralMvir'                  , np.float32),\n",
    "        ('StellarMass'                  , np.float32),\n",
    "        ]\n",
    "\n",
    "columns = [Galdesc[i][0] for i in range(len(Galdesc))]"
   ]
  },
  {
   "cell_type": "code",
   "execution_count": 48,
   "id": "7bd903fd-8a8a-483d-8bcf-15d9ad40c143",
   "metadata": {},
   "outputs": [],
   "source": [
    "## Cannot read the Pos array. Break down into coordinates\n",
    "\n",
    "Galdesc_df = [\n",
    "        ('Type'                         , np.int32),\n",
    "        ('GalaxyIndex'                  , np.int64),\n",
    "        ('CentralGalaxyIndex'           , np.int64),\n",
    "        ('CtreesHaloID'                 , np.int64),\n",
    "        ('CtreesCentralID'              , np.int64),\n",
    "        #('Pos'                          , (np.float32, 3)),\n",
    "        ('CentralMvir'                  , np.float32),\n",
    "        ('StellarMass'                  , np.float32),\n",
    "        ]\n",
    "\n",
    "columns_df = [Galdesc_df[i][0] for i in range(len(Galdesc_df))]"
   ]
  },
  {
   "cell_type": "code",
   "execution_count": 49,
   "id": "51308e08-8ca3-4eed-9757-73fb82fd4152",
   "metadata": {},
   "outputs": [
    {
     "name": "stdout",
     "output_type": "stream",
     "text": [
      "/pscratch/sd/z/zzhang13/MDPL2/SAGE/z0p00/model_z0.000\n"
     ]
    }
   ],
   "source": [
    "sage_df = pd.DataFrame(columns=columns_df)   \n",
    "\n",
    "for i, gal_prefix in enumerate(gal_file_prefix):\n",
    "    print(gal_prefix)\n",
    "    filt = cluster_df['redshift'] == redshift_vals[i]\n",
    "    cluster_df_snapshot = cluster_df[filt]\n",
    "    \n",
    "    G = read_sagesnap_mvircut(gal_prefix, Galdesc, mvircut = 3e3, firstfile=0, lastfile=999)\n",
    "    \n",
    "    ### Change the datatype of the dataframe so that positions are included.\n",
    "    sage_df_cur = pd.DataFrame(columns=columns_df)   \n",
    "    sage_df_cur['Type'] = G['Type']\n",
    "    sage_df_cur['GalaxyIndex' ] = G['GalaxyIndex' ]\n",
    "    sage_df_cur['CentralGalaxyIndex'] = G['CentralGalaxyIndex']\n",
    "    sage_df_cur['CtreesHaloID'] = G['CtreesHaloID']\n",
    "    sage_df_cur['CtreesCentralID'] = G['CtreesCentralID']\n",
    "    sage_df_cur['CentralMvir'] = G['CentralMvir']\n",
    "    sage_df_cur['StellarMass'] = G['StellarMass']\n",
    "    sage_df_cur['x'] = G['Pos'][:,0] ##Manually add position vector\n",
    "    sage_df_cur['y'] = G['Pos'][:,1]\n",
    "    sage_df_cur['z'] = G['Pos'][:,2]\n",
    "    \n",
    "    ##Unit conversion. Stellar and virial mass are in units of 1e10 Msun/h\n",
    "    sage_df_cur['CentralMvir'] = sage_df_cur['CentralMvir']*1e10\n",
    "    sage_df_cur['StellarMass'] = sage_df_cur['StellarMass']*1e10\n",
    "    \n",
    "    \n",
    "    #Find Central Galaxies\n",
    "    central_gal = sage_df_cur[(sage_df_cur.GalaxyIndex == sage_df_cur.CentralGalaxyIndex) & (sage_df_cur.Type == 0)]\n",
    "    central_gal = pd.merge(cluster_df_snapshot[['CtreesHaloID','rvir','R200c','R500c','redshift']], central_gal[['CentralGalaxyIndex','CtreesHaloID']], how=\"inner\", on='CtreesHaloID')\n",
    "    sage_df_cur = pd.merge(sage_df_cur, central_gal[['rvir','R200c','R500c','redshift','CentralGalaxyIndex']], how=\"inner\", on='CentralGalaxyIndex')\n",
    "    \n",
    "    #Append the redshifts\n",
    "    sage_df = sage_df.append(sage_df_cur)"
   ]
  },
  {
   "cell_type": "code",
   "execution_count": 50,
   "id": "ba1bcf66-24cf-432a-a57a-3f2d88774f1a",
   "metadata": {},
   "outputs": [
    {
     "data": {
      "text/plain": [
       "Index(['scale', 'CtreesHaloID', 'pid', 'mvir', 'rvir', 'rs', 'x', 'y', 'z',\n",
       "       'Mmvir_all', 'M200b', 'M200c', 'M500c', 'T/|U|', 'Halfmass_Scale',\n",
       "       'Acc_Rate_Inst', 'Acc_Rate_100Myr', 'Acc_Rate_1*Tdyn',\n",
       "       'Acc_Rate_2*Tdyn', 'Acc_Rate_Mpeak', 'c_vir', 'R200c', 'R500c',\n",
       "       'redshift'],\n",
       "      dtype='object')"
      ]
     },
     "execution_count": 50,
     "metadata": {},
     "output_type": "execute_result"
    }
   ],
   "source": [
    "cluster_df.columns"
   ]
  },
  {
   "cell_type": "code",
   "execution_count": 51,
   "id": "f529aeae-e2f0-4866-8388-8fcdeda95fa8",
   "metadata": {},
   "outputs": [
    {
     "data": {
      "text/html": [
       "<div>\n",
       "<style scoped>\n",
       "    .dataframe tbody tr th:only-of-type {\n",
       "        vertical-align: middle;\n",
       "    }\n",
       "\n",
       "    .dataframe tbody tr th {\n",
       "        vertical-align: top;\n",
       "    }\n",
       "\n",
       "    .dataframe thead th {\n",
       "        text-align: right;\n",
       "    }\n",
       "</style>\n",
       "<table border=\"1\" class=\"dataframe\">\n",
       "  <thead>\n",
       "    <tr style=\"text-align: right;\">\n",
       "      <th></th>\n",
       "      <th>scale</th>\n",
       "      <th>CtreesHaloID</th>\n",
       "      <th>pid</th>\n",
       "      <th>mvir</th>\n",
       "      <th>rvir</th>\n",
       "      <th>rs</th>\n",
       "      <th>x</th>\n",
       "      <th>y</th>\n",
       "      <th>z</th>\n",
       "      <th>Mmvir_all</th>\n",
       "      <th>...</th>\n",
       "      <th>Halfmass_Scale</th>\n",
       "      <th>Acc_Rate_Inst</th>\n",
       "      <th>Acc_Rate_100Myr</th>\n",
       "      <th>Acc_Rate_1*Tdyn</th>\n",
       "      <th>Acc_Rate_2*Tdyn</th>\n",
       "      <th>Acc_Rate_Mpeak</th>\n",
       "      <th>c_vir</th>\n",
       "      <th>R200c</th>\n",
       "      <th>R500c</th>\n",
       "      <th>redshift</th>\n",
       "    </tr>\n",
       "  </thead>\n",
       "  <tbody>\n",
       "    <tr>\n",
       "      <th>0</th>\n",
       "      <td>1.0</td>\n",
       "      <td>12572818342</td>\n",
       "      <td>-1</td>\n",
       "      <td>6.774900e+14</td>\n",
       "      <td>1.787090</td>\n",
       "      <td>623.155029</td>\n",
       "      <td>11.56968</td>\n",
       "      <td>451.91925</td>\n",
       "      <td>69.63885</td>\n",
       "      <td>6.774900e+14</td>\n",
       "      <td>...</td>\n",
       "      <td>0.6565</td>\n",
       "      <td>9281.0</td>\n",
       "      <td>9281.0</td>\n",
       "      <td>51030.0</td>\n",
       "      <td>68480.0</td>\n",
       "      <td>75620.0</td>\n",
       "      <td>2.867810</td>\n",
       "      <td>1.246387</td>\n",
       "      <td>0.724155</td>\n",
       "      <td>0.0</td>\n",
       "    </tr>\n",
       "    <tr>\n",
       "      <th>1</th>\n",
       "      <td>1.0</td>\n",
       "      <td>12572804988</td>\n",
       "      <td>-1</td>\n",
       "      <td>5.136200e+14</td>\n",
       "      <td>1.629517</td>\n",
       "      <td>453.993011</td>\n",
       "      <td>57.94242</td>\n",
       "      <td>476.56845</td>\n",
       "      <td>33.24828</td>\n",
       "      <td>5.138100e+14</td>\n",
       "      <td>...</td>\n",
       "      <td>0.8192</td>\n",
       "      <td>353000.0</td>\n",
       "      <td>353000.0</td>\n",
       "      <td>111100.0</td>\n",
       "      <td>72560.0</td>\n",
       "      <td>51630.0</td>\n",
       "      <td>3.589300</td>\n",
       "      <td>1.128265</td>\n",
       "      <td>0.647019</td>\n",
       "      <td>0.0</td>\n",
       "    </tr>\n",
       "    <tr>\n",
       "      <th>2</th>\n",
       "      <td>1.0</td>\n",
       "      <td>12572769320</td>\n",
       "      <td>-1</td>\n",
       "      <td>4.842100e+14</td>\n",
       "      <td>1.597800</td>\n",
       "      <td>257.792999</td>\n",
       "      <td>8.70924</td>\n",
       "      <td>458.99570</td>\n",
       "      <td>32.80032</td>\n",
       "      <td>4.842100e+14</td>\n",
       "      <td>...</td>\n",
       "      <td>0.5378</td>\n",
       "      <td>32690.0</td>\n",
       "      <td>32690.0</td>\n",
       "      <td>20040.0</td>\n",
       "      <td>26390.0</td>\n",
       "      <td>36090.0</td>\n",
       "      <td>6.197996</td>\n",
       "      <td>1.104549</td>\n",
       "      <td>0.631622</td>\n",
       "      <td>0.0</td>\n",
       "    </tr>\n",
       "    <tr>\n",
       "      <th>3</th>\n",
       "      <td>1.0</td>\n",
       "      <td>12572818483</td>\n",
       "      <td>-1</td>\n",
       "      <td>4.784600e+14</td>\n",
       "      <td>1.591456</td>\n",
       "      <td>423.527008</td>\n",
       "      <td>9.78779</td>\n",
       "      <td>449.06747</td>\n",
       "      <td>72.37156</td>\n",
       "      <td>4.797300e+14</td>\n",
       "      <td>...</td>\n",
       "      <td>0.7498</td>\n",
       "      <td>73750.0</td>\n",
       "      <td>73750.0</td>\n",
       "      <td>78090.0</td>\n",
       "      <td>66270.0</td>\n",
       "      <td>68970.0</td>\n",
       "      <td>3.757626</td>\n",
       "      <td>1.099803</td>\n",
       "      <td>0.628545</td>\n",
       "      <td>0.0</td>\n",
       "    </tr>\n",
       "    <tr>\n",
       "      <th>4</th>\n",
       "      <td>1.0</td>\n",
       "      <td>12582689412</td>\n",
       "      <td>-1</td>\n",
       "      <td>4.452000e+14</td>\n",
       "      <td>1.553688</td>\n",
       "      <td>265.845001</td>\n",
       "      <td>80.92496</td>\n",
       "      <td>495.86057</td>\n",
       "      <td>37.93617</td>\n",
       "      <td>4.452000e+14</td>\n",
       "      <td>...</td>\n",
       "      <td>0.6142</td>\n",
       "      <td>21740.0</td>\n",
       "      <td>21740.0</td>\n",
       "      <td>41440.0</td>\n",
       "      <td>30970.0</td>\n",
       "      <td>35730.0</td>\n",
       "      <td>5.844338</td>\n",
       "      <td>1.071597</td>\n",
       "      <td>0.610283</td>\n",
       "      <td>0.0</td>\n",
       "    </tr>\n",
       "  </tbody>\n",
       "</table>\n",
       "<p>5 rows × 24 columns</p>\n",
       "</div>"
      ],
      "text/plain": [
       "   scale  CtreesHaloID  pid          mvir      rvir          rs         x  \\\n",
       "0    1.0   12572818342   -1  6.774900e+14  1.787090  623.155029  11.56968   \n",
       "1    1.0   12572804988   -1  5.136200e+14  1.629517  453.993011  57.94242   \n",
       "2    1.0   12572769320   -1  4.842100e+14  1.597800  257.792999   8.70924   \n",
       "3    1.0   12572818483   -1  4.784600e+14  1.591456  423.527008   9.78779   \n",
       "4    1.0   12582689412   -1  4.452000e+14  1.553688  265.845001  80.92496   \n",
       "\n",
       "           y         z     Mmvir_all  ...  Halfmass_Scale  Acc_Rate_Inst  \\\n",
       "0  451.91925  69.63885  6.774900e+14  ...          0.6565         9281.0   \n",
       "1  476.56845  33.24828  5.138100e+14  ...          0.8192       353000.0   \n",
       "2  458.99570  32.80032  4.842100e+14  ...          0.5378        32690.0   \n",
       "3  449.06747  72.37156  4.797300e+14  ...          0.7498        73750.0   \n",
       "4  495.86057  37.93617  4.452000e+14  ...          0.6142        21740.0   \n",
       "\n",
       "   Acc_Rate_100Myr  Acc_Rate_1*Tdyn  Acc_Rate_2*Tdyn  Acc_Rate_Mpeak  \\\n",
       "0           9281.0          51030.0          68480.0         75620.0   \n",
       "1         353000.0         111100.0          72560.0         51630.0   \n",
       "2          32690.0          20040.0          26390.0         36090.0   \n",
       "3          73750.0          78090.0          66270.0         68970.0   \n",
       "4          21740.0          41440.0          30970.0         35730.0   \n",
       "\n",
       "      c_vir     R200c     R500c  redshift  \n",
       "0  2.867810  1.246387  0.724155       0.0  \n",
       "1  3.589300  1.128265  0.647019       0.0  \n",
       "2  6.197996  1.104549  0.631622       0.0  \n",
       "3  3.757626  1.099803  0.628545       0.0  \n",
       "4  5.844338  1.071597  0.610283       0.0  \n",
       "\n",
       "[5 rows x 24 columns]"
      ]
     },
     "execution_count": 51,
     "metadata": {},
     "output_type": "execute_result"
    }
   ],
   "source": [
    "cluster_df.head(5)"
   ]
  },
  {
   "cell_type": "code",
   "execution_count": 52,
   "id": "83a85eed-4656-4938-ae6c-fa5736f9c8b1",
   "metadata": {},
   "outputs": [
    {
     "data": {
      "text/plain": [
       "(array([      0.,       0.,       0.,       0.,       0., 8153603.,\n",
       "              0.,       0.,       0.,       0.]),\n",
       " array([-0.5, -0.4, -0.3, -0.2, -0.1,  0. ,  0.1,  0.2,  0.3,  0.4,  0.5]),\n",
       " <BarContainer object of 10 artists>)"
      ]
     },
     "execution_count": 52,
     "metadata": {},
     "output_type": "execute_result"
    },
    {
     "data": {
      "image/png": "[encoded data removed]",
      "text/plain": [
       "<Figure size 432x288 with 1 Axes>"
      ]
     },
     "metadata": {
      "needs_background": "light"
     },
     "output_type": "display_data"
    }
   ],
   "source": [
    "plt.hist(sage_df['redshift'])"
   ]
  },
  {
   "cell_type": "markdown",
   "id": "7e2a544f-7176-45db-b4d7-9e62edacb38d",
   "metadata": {},
   "source": [
    "### Apply a stellar mass cut"
   ]
  },
  {
   "cell_type": "code",
   "execution_count": null,
   "id": "aaf6990f-de55-4ddd-ad60-e542e3222d63",
   "metadata": {
    "tags": []
   },
   "outputs": [],
   "source": []
  },
  {
   "cell_type": "code",
   "execution_count": 65,
   "id": "5e7ec619-0175-42ce-93c3-1a3789d24d64",
   "metadata": {},
   "outputs": [
    {
     "name": "stdout",
     "output_type": "stream",
     "text": [
      "Mean stellar mass:  10115070000.290081 23988968355.168068\n"
     ]
    },
    {
     "data": {
      "image/png": "[encoded data removed]",
      "text/plain": [
       "<Figure size 432x288 with 1 Axes>"
      ]
     },
     "metadata": {
      "needs_background": "light"
     },
     "output_type": "display_data"
    }
   ],
   "source": [
    "#sage_df['StellarMass'].plot(kind='hist', logy=True, logx=True, alpha=0.3)\n",
    "M_star = sage_df['StellarMass']\n",
    "M_star = M_star[M_star!=0]\n",
    "plt.hist(np.log10(M_star), bins=50)\n",
    "#plt.xscale('log')\n",
    "plt.xlim([8.5,12])\n",
    "#plt.axvline(sage_df['StellarMass'].mean(), c='orange')\n",
    "plt.xlabel(r'$M_{*}$', fontsize=14)\n",
    "print(\"Mean stellar mass: \", sage_df['StellarMass'].mean(), sage_df['StellarMass'].std()) "
   ]
  },
  {
   "cell_type": "code",
   "execution_count": 23,
   "id": "38d12225-fbde-4aec-9688-f36ebb6a0586",
   "metadata": {},
   "outputs": [],
   "source": [
    "#sage_df = sage_df[sage_df['StellarMass'] > 5e10]"
   ]
  },
  {
   "cell_type": "code",
   "execution_count": 24,
   "id": "11a8c709-9e68-4cad-90f5-0a184b22aca4",
   "metadata": {},
   "outputs": [
    {
     "name": "stdout",
     "output_type": "stream",
     "text": [
      "Mean stellar mass:  9919579874.989458 23630084343.232327\n"
     ]
    },
    {
     "data": {
      "image/png": "[encoded data removed]",
      "text/plain": [
       "<Figure size 432x288 with 1 Axes>"
      ]
     },
     "metadata": {
      "needs_background": "light"
     },
     "output_type": "display_data"
    }
   ],
   "source": [
    "sage_df['StellarMass'].plot(kind='hist', logy=True, logx=True, alpha=0.3)\n",
    "plt.axvline(sage_df['StellarMass'].mean(), c='orange')\n",
    "plt.xlabel(r'$M_{*}$', fontsize=14)\n",
    "print(\"Mean stellar mass: \", sage_df['StellarMass'].mean(), sage_df['StellarMass'].std()) "
   ]
  },
  {
   "cell_type": "markdown",
   "id": "0ff9d002-7bb7-4a0b-a100-38f06485bb7a",
   "metadata": {},
   "source": [
    "### Consider the possibility if there are clusters at different redshifts that have the same ID."
   ]
  },
  {
   "cell_type": "code",
   "execution_count": 25,
   "id": "08624e44-6d34-4864-b975-1b65c0ae3060",
   "metadata": {},
   "outputs": [
    {
     "name": "stdout",
     "output_type": "stream",
     "text": [
      "True\n"
     ]
    },
    {
     "data": {
      "text/plain": [
       "0          False\n",
       "1           True\n",
       "2           True\n",
       "3           True\n",
       "4           True\n",
       "           ...  \n",
       "1537763     True\n",
       "1537764     True\n",
       "1537765     True\n",
       "1537766     True\n",
       "1537767     True\n",
       "Length: 13181436, dtype: bool"
      ]
     },
     "execution_count": 25,
     "metadata": {},
     "output_type": "execute_result"
    }
   ],
   "source": [
    "boolean = sage_df.duplicated(subset=['CentralGalaxyIndex']).any() # True\n",
    "print(boolean)\n",
    "\n",
    "sage_df.duplicated(subset=['CentralGalaxyIndex'])"
   ]
  },
  {
   "cell_type": "markdown",
   "id": "245b25db-98eb-402f-a0d5-8a287f3d5d43",
   "metadata": {},
   "source": [
    "### Diagnostic Plots"
   ]
  },
  {
   "cell_type": "code",
   "execution_count": 26,
   "id": "d7da3fd0-e486-4c74-9d1c-4732e84c3ef6",
   "metadata": {},
   "outputs": [
    {
     "data": {
      "text/plain": [
       "<matplotlib.legend.Legend at 0x1554f93d0050>"
      ]
     },
     "execution_count": 26,
     "metadata": {},
     "output_type": "execute_result"
    },
    {
     "data": {
      "image/png": "[encoded data removed]",
      "text/plain": [
       "<Figure size 432x288 with 1 Axes>"
      ]
     },
     "metadata": {
      "needs_background": "light"
     },
     "output_type": "display_data"
    }
   ],
   "source": [
    "cluster_df['R200c'].plot(kind='hist', logy=True, alpha=0.3, label='R200c')\n",
    "cluster_df['rvir'].plot(kind='hist', logy=True, alpha=0.3, label = 'rvir')\n",
    "cluster_df['R500c'].plot(kind='hist', logy=True, alpha=0.3, label='R500c')\n",
    "plt.legend()\n",
    "\n"
   ]
  },
  {
   "cell_type": "code",
   "execution_count": 27,
   "id": "136ffb37-a464-440b-a76c-bb49fa0a0482",
   "metadata": {},
   "outputs": [
    {
     "name": "stdout",
     "output_type": "stream",
     "text": [
      "97033\n",
      "71944\n",
      "32779\n"
     ]
    }
   ],
   "source": [
    "radius_cut = 1 #Mpc/h\n",
    "for redshift_cur in iter(redshift_vals):\n",
    "    filt = sage_df['redshift'] == redshift_cur\n",
    "    sage_df_snapshot = sage_df[filt]\n",
    "    by_central = sage_df_snapshot.groupby('CentralGalaxyIndex')\n",
    "    central_gal = sage_df_snapshot[(sage_df_snapshot.GalaxyIndex == sage_df_snapshot.CentralGalaxyIndex) & (sage_df_snapshot.Type == 0)]\n",
    "    \n",
    "    test = pd.merge(cluster_df, central_gal, how=\"inner\", on='CtreesHaloID')\n",
    "    print(len(test))"
   ]
  },
  {
   "cell_type": "code",
   "execution_count": 28,
   "id": "cf04a31a-e304-4036-b593-95b6f9dc0422",
   "metadata": {},
   "outputs": [
    {
     "name": "stdout",
     "output_type": "stream",
     "text": [
      "209298\n"
     ]
    }
   ],
   "source": []
  },
  {
   "cell_type": "code",
   "execution_count": 39,
   "id": "66bbe3b8-503a-4d4d-88b6-a4c7775ad934",
   "metadata": {},
   "outputs": [
    {
     "name": "stdout",
     "output_type": "stream",
     "text": [
      "201756\n"
     ]
    }
   ],
   "source": [
    "print(97033+71944+32779)"
   ]
  },
  {
   "cell_type": "markdown",
   "id": "0dd5ba1f-146b-4656-b3cf-aed9072dcd52",
   "metadata": {},
   "source": [
    "## Define different galaxy definitions \n",
    "\n",
    "* Constant radius < 1 MPc\n",
    "* Rvir\n",
    "* R200c\n",
    "* R500c\n",
    "\n",
    "CentralGalaxyIndex may have the same number in different redshift slices so need to sort by redshift. "
   ]
  },
  {
   "cell_type": "markdown",
   "id": "f4b96c10-0f3b-4d30-88ca-b42ea46c480f",
   "metadata": {},
   "source": [
    "### Constant radius "
   ]
  },
  {
   "cell_type": "code",
   "execution_count": null,
   "id": "f95afd55-83f8-4467-925b-adf2e2d93064",
   "metadata": {},
   "outputs": [],
   "source": [
    "radius_cut = 1 #Mpc/h\n",
    "cluster_df_append = pd.DataFrame()\n",
    "for redshift_cur in iter(redshift_vals):\n",
    "    filt = sage_df['redshift'] == redshift_cur\n",
    "    sage_df_snapshot = sage_df[filt]\n",
    "    by_central = sage_df_snapshot.groupby('CentralGalaxyIndex')\n",
    "    central_gal = sage_df_snapshot[(sage_df_snapshot.GalaxyIndex == sage_df_snapshot.CentralGalaxyIndex) & (sage_df_snapshot.Type == 0)]\n",
    "\n",
    "    i=0\n",
    "    Ngal_arr = np.zeros(len(central_gal))\n",
    "    for central_index, frame in tqdm(by_central): \n",
    "        orig_num = len(frame['x'])\n",
    "        central_x = float(frame.iloc[0]['x']); central_y = float(frame.iloc[0]['y']); central_z = float(frame.iloc[0]['z'])\n",
    "       \n",
    "        filt = (np.array(frame['x'])-central_x)**2 + (np.array(frame['y'])-central_y)**2 + (np.array(frame['z'])-central_z)**2 < radius_cut**2\n",
    "        Ngal_arr[i] = sum(filt)\n",
    "        i+=1\n",
    "        \n",
    "    ## Find number of galaxies within the criterion\n",
    "    central_gal['Ngal_Dsep_1'] = Ngal_arr\n",
    "    print(len(central_gal))\n",
    "    cluster_df_append = cluster_df_append.append(central_gal)\n",
    "    \n",
    "cluster_df = pd.merge(cluster_df, cluster_df_append[['CtreesHaloID','Ngal_Dsep_1']], how=\"inner\", on='CtreesHaloID')"
   ]
  },
  {
   "cell_type": "markdown",
   "id": "735a79f8-197f-4e52-9064-63fe2ade6f5a",
   "metadata": {},
   "source": [
    "### Virial radius"
   ]
  },
  {
   "cell_type": "code",
   "execution_count": 38,
   "id": "4f061fc3-117f-42ab-84ed-3374284a86c8",
   "metadata": {},
   "outputs": [
    {
     "name": "stderr",
     "output_type": "stream",
     "text": [
      "100%|██████████| 97033/97033 [01:55<00:00, 841.90it/s]\n",
      "/global/homes/z/zzhang13/.conda/envs/myLSST/lib/python3.7/site-packages/ipykernel_launcher.py:20: SettingWithCopyWarning: \n",
      "A value is trying to be set on a copy of a slice from a DataFrame.\n",
      "Try using .loc[row_indexer,col_indexer] = value instead\n",
      "\n",
      "See the caveats in the documentation: https://pandas.pydata.org/pandas-docs/stable/user_guide/indexing.html#returning-a-view-versus-a-copy\n",
      "100%|██████████| 71944/71944 [01:25<00:00, 840.20it/s]\n",
      "100%|██████████| 32779/32779 [00:38<00:00, 841.62it/s]\n"
     ]
    }
   ],
   "source": [
    "cluster_df_append = pd.DataFrame()\n",
    "for redshift_cur in iter(redshift_vals):\n",
    "    filt = sage_df['redshift'] == redshift_cur\n",
    "    sage_df_snapshot = sage_df[filt]\n",
    "    by_central = sage_df_snapshot.groupby('CentralGalaxyIndex')\n",
    "    central_gal = sage_df_snapshot[(sage_df_snapshot.GalaxyIndex == sage_df_snapshot.CentralGalaxyIndex) & (sage_df_snapshot.Type == 0)]\n",
    "    \n",
    "    i=0\n",
    "    Ngal_arr = np.zeros(len(central_gal))\n",
    "    for central_index, frame in tqdm(by_central):\n",
    "        radius_cut = frame.iloc[0]['rvir']\n",
    "        orig_num = len(frame['x'])\n",
    "        central_x = float(frame.iloc[0]['x']); central_y = float(frame.iloc[0]['y']); central_z = float(frame.iloc[0]['z'])\n",
    "       \n",
    "        filt = (np.array(frame['x'])-central_x)**2 + (np.array(frame['y'])-central_y)**2 + (np.array(frame['z'])-central_z)**2 < radius_cut**2\n",
    "        Ngal_arr[i] = sum(filt)\n",
    "        i+=1\n",
    "        \n",
    "    ## Find number of galaxies within the criterion\n",
    "    central_gal['Ngal_Rvir'] = Ngal_arr\n",
    "    cluster_df_append = cluster_df_append.append(central_gal)\n",
    "    \n",
    "cluster_df = pd.merge(cluster_df, cluster_df_append[['CtreesHaloID','Ngal_Rvir']], how=\"inner\", on='CtreesHaloID')"
   ]
  },
  {
   "cell_type": "code",
   "execution_count": 41,
   "id": "3f8692a8-ca5c-4b84-8a2c-4999c93dc914",
   "metadata": {},
   "outputs": [
    {
     "name": "stdout",
     "output_type": "stream",
     "text": [
      "201756\n",
      "0\n"
     ]
    }
   ],
   "source": [
    "print(len(cluster_df))\n",
    "print(len(cluster_df_append))"
   ]
  },
  {
   "cell_type": "markdown",
   "id": "d868b132-4c86-4920-8e64-68d939c0c512",
   "metadata": {},
   "source": [
    "### R200c"
   ]
  },
  {
   "cell_type": "code",
   "execution_count": 42,
   "id": "9951c1c1-6db0-4ced-b512-cca72de3f90d",
   "metadata": {},
   "outputs": [
    {
     "name": "stderr",
     "output_type": "stream",
     "text": [
      "100%|██████████| 97033/97033 [01:51<00:00, 870.99it/s]\n",
      "/global/homes/z/zzhang13/.conda/envs/myLSST/lib/python3.7/site-packages/ipykernel_launcher.py:22: SettingWithCopyWarning: \n",
      "A value is trying to be set on a copy of a slice from a DataFrame.\n",
      "Try using .loc[row_indexer,col_indexer] = value instead\n",
      "\n",
      "See the caveats in the documentation: https://pandas.pydata.org/pandas-docs/stable/user_guide/indexing.html#returning-a-view-versus-a-copy\n",
      "100%|██████████| 71944/71944 [01:24<00:00, 847.75it/s]\n",
      "100%|██████████| 32779/32779 [00:38<00:00, 856.97it/s]\n"
     ]
    }
   ],
   "source": [
    "cluster_df_append = pd.DataFrame()\n",
    "for redshift_cur in iter(redshift_vals):\n",
    "    filt = sage_df['redshift'] == redshift_cur\n",
    "    sage_df_snapshot = sage_df[filt]\n",
    "    by_central = sage_df_snapshot.groupby('CentralGalaxyIndex')\n",
    "    central_gal = sage_df_snapshot[(sage_df_snapshot.GalaxyIndex == sage_df_snapshot.CentralGalaxyIndex) & (sage_df_snapshot.Type == 0)]\n",
    "    \n",
    "    sage_df_radius = pd.DataFrame(columns=sage_df.columns)\n",
    "    \n",
    "    i=0\n",
    "    Ngal_arr = np.zeros(len(central_gal))\n",
    "    for central_index, frame in tqdm(by_central):\n",
    "        radius_cut = frame.iloc[0]['R200c']\n",
    "        orig_num = len(frame['x'])\n",
    "        central_x = float(frame.iloc[0]['x']); central_y = float(frame.iloc[0]['y']); central_z = float(frame.iloc[0]['z'])\n",
    "       \n",
    "        filt = (np.array(frame['x'])-central_x)**2 + (np.array(frame['y'])-central_y)**2 + (np.array(frame['z'])-central_z)**2 < radius_cut**2\n",
    "        Ngal_arr[i] = sum(filt)\n",
    "        i+=1\n",
    "        \n",
    "    ## Find number of galaxies within the criterion\n",
    "    central_gal['Ngal_R200c'] = Ngal_arr\n",
    "    cluster_df_append = cluster_df_append.append(central_gal)\n",
    "    \n",
    "cluster_df = pd.merge(cluster_df, cluster_df_append[['CtreesHaloID','Ngal_R200c']], how=\"inner\", on='CtreesHaloID')"
   ]
  },
  {
   "cell_type": "code",
   "execution_count": 43,
   "id": "b7dc6112-a733-4f4e-bc5d-3a906764d798",
   "metadata": {},
   "outputs": [
    {
     "name": "stdout",
     "output_type": "stream",
     "text": [
      "201756\n",
      "201756\n"
     ]
    }
   ],
   "source": [
    "print(len(cluster_df))\n",
    "print(len(cluster_df_append))"
   ]
  },
  {
   "cell_type": "markdown",
   "id": "9f843852-2dd8-46a7-aa89-8cab7fdd83c3",
   "metadata": {},
   "source": [
    "### R500c"
   ]
  },
  {
   "cell_type": "code",
   "execution_count": 44,
   "id": "18ff0167-2c50-4972-8598-aef1be04315d",
   "metadata": {},
   "outputs": [
    {
     "name": "stderr",
     "output_type": "stream",
     "text": [
      "100%|██████████| 97033/97033 [01:54<00:00, 846.23it/s]\n",
      "/global/homes/z/zzhang13/.conda/envs/myLSST/lib/python3.7/site-packages/ipykernel_launcher.py:22: SettingWithCopyWarning: \n",
      "A value is trying to be set on a copy of a slice from a DataFrame.\n",
      "Try using .loc[row_indexer,col_indexer] = value instead\n",
      "\n",
      "See the caveats in the documentation: https://pandas.pydata.org/pandas-docs/stable/user_guide/indexing.html#returning-a-view-versus-a-copy\n",
      "100%|██████████| 71944/71944 [01:27<00:00, 826.14it/s]\n",
      "100%|██████████| 32779/32779 [00:38<00:00, 854.83it/s]\n"
     ]
    }
   ],
   "source": [
    "cluster_df_append = pd.DataFrame()\n",
    "for redshift_cur in iter(redshift_vals):\n",
    "    filt = sage_df['redshift'] == redshift_cur\n",
    "    sage_df_snapshot = sage_df[filt]\n",
    "    by_central = sage_df_snapshot.groupby('CentralGalaxyIndex')\n",
    "    central_gal = sage_df_snapshot[(sage_df_snapshot.GalaxyIndex == sage_df_snapshot.CentralGalaxyIndex) & (sage_df_snapshot.Type == 0)]\n",
    "    \n",
    "    sage_df_radius = pd.DataFrame(columns=sage_df.columns)\n",
    "    \n",
    "    i=0\n",
    "    Ngal_arr = np.zeros(len(central_gal))\n",
    "    for central_index, frame in tqdm(by_central):\n",
    "        radius_cut = frame.iloc[0]['R500c']\n",
    "        orig_num = len(frame['x'])\n",
    "        central_x = float(frame.iloc[0]['x']); central_y = float(frame.iloc[0]['y']); central_z = float(frame.iloc[0]['z'])\n",
    "       \n",
    "        filt = (np.array(frame['x'])-central_x)**2 + (np.array(frame['y'])-central_y)**2 + (np.array(frame['z'])-central_z)**2 < radius_cut**2\n",
    "        Ngal_arr[i] = sum(filt)\n",
    "        i+=1\n",
    "        \n",
    "    ## Find number of galaxies within the criterion\n",
    "    central_gal['Ngal_R500c'] = Ngal_arr\n",
    "    cluster_df_append = cluster_df_append.append(central_gal)\n",
    "    \n",
    "cluster_df = pd.merge(cluster_df, cluster_df_append[['CtreesHaloID','Ngal_R500c']], how=\"inner\", on='CtreesHaloID')"
   ]
  },
  {
   "cell_type": "code",
   "execution_count": 45,
   "id": "c6324767-8bfd-4521-9137-ac346a07e411",
   "metadata": {},
   "outputs": [
    {
     "name": "stdout",
     "output_type": "stream",
     "text": [
      "201756\n",
      "201756\n"
     ]
    }
   ],
   "source": [
    "print(len(cluster_df))\n",
    "print(len(cluster_df_append))"
   ]
  },
  {
   "cell_type": "markdown",
   "id": "cf196bd4-e36d-4f4a-b16d-582cf1c28d84",
   "metadata": {},
   "source": [
    "### Diagnostic Plots"
   ]
  },
  {
   "cell_type": "code",
   "execution_count": 49,
   "id": "e0df36b7-fa95-4f48-8e2b-666874275c7c",
   "metadata": {},
   "outputs": [
    {
     "data": {
      "text/html": [
       "<div>\n",
       "<style scoped>\n",
       "    .dataframe tbody tr th:only-of-type {\n",
       "        vertical-align: middle;\n",
       "    }\n",
       "\n",
       "    .dataframe tbody tr th {\n",
       "        vertical-align: top;\n",
       "    }\n",
       "\n",
       "    .dataframe thead th {\n",
       "        text-align: right;\n",
       "    }\n",
       "</style>\n",
       "<table border=\"1\" class=\"dataframe\">\n",
       "  <thead>\n",
       "    <tr style=\"text-align: right;\">\n",
       "      <th></th>\n",
       "      <th>scale</th>\n",
       "      <th>CtreesHaloID</th>\n",
       "      <th>pid</th>\n",
       "      <th>mvir</th>\n",
       "      <th>rvir</th>\n",
       "      <th>rs</th>\n",
       "      <th>x</th>\n",
       "      <th>y</th>\n",
       "      <th>z</th>\n",
       "      <th>Mmvir_all</th>\n",
       "      <th>...</th>\n",
       "      <th>Acc_Rate_2*Tdyn</th>\n",
       "      <th>Acc_Rate_Mpeak</th>\n",
       "      <th>c_vir</th>\n",
       "      <th>R200c</th>\n",
       "      <th>R500c</th>\n",
       "      <th>redshift</th>\n",
       "      <th>Ngal_Dsep_1</th>\n",
       "      <th>Ngal_Rvir</th>\n",
       "      <th>Ngal_R200c</th>\n",
       "      <th>Ngal_R500c</th>\n",
       "    </tr>\n",
       "  </thead>\n",
       "  <tbody>\n",
       "    <tr>\n",
       "      <th>0</th>\n",
       "      <td>1.0000</td>\n",
       "      <td>12572818342</td>\n",
       "      <td>-1</td>\n",
       "      <td>6.774900e+14</td>\n",
       "      <td>1.787090</td>\n",
       "      <td>623.155029</td>\n",
       "      <td>11.56968</td>\n",
       "      <td>451.91925</td>\n",
       "      <td>69.63885</td>\n",
       "      <td>6.774900e+14</td>\n",
       "      <td>...</td>\n",
       "      <td>68480.0</td>\n",
       "      <td>75620.0</td>\n",
       "      <td>0.002868</td>\n",
       "      <td>1.246387</td>\n",
       "      <td>0.724155</td>\n",
       "      <td>0.000000</td>\n",
       "      <td>81.0</td>\n",
       "      <td>280.0</td>\n",
       "      <td>143.0</td>\n",
       "      <td>25.0</td>\n",
       "    </tr>\n",
       "    <tr>\n",
       "      <th>1</th>\n",
       "      <td>1.0000</td>\n",
       "      <td>12572804988</td>\n",
       "      <td>-1</td>\n",
       "      <td>5.136200e+14</td>\n",
       "      <td>1.629517</td>\n",
       "      <td>453.993011</td>\n",
       "      <td>57.94242</td>\n",
       "      <td>476.56845</td>\n",
       "      <td>33.24828</td>\n",
       "      <td>5.138100e+14</td>\n",
       "      <td>...</td>\n",
       "      <td>72560.0</td>\n",
       "      <td>51630.0</td>\n",
       "      <td>0.003589</td>\n",
       "      <td>1.128265</td>\n",
       "      <td>0.647019</td>\n",
       "      <td>0.000000</td>\n",
       "      <td>106.0</td>\n",
       "      <td>308.0</td>\n",
       "      <td>139.0</td>\n",
       "      <td>47.0</td>\n",
       "    </tr>\n",
       "    <tr>\n",
       "      <th>2</th>\n",
       "      <td>1.0000</td>\n",
       "      <td>12572769320</td>\n",
       "      <td>-1</td>\n",
       "      <td>4.842100e+14</td>\n",
       "      <td>1.597800</td>\n",
       "      <td>257.792999</td>\n",
       "      <td>8.70924</td>\n",
       "      <td>458.99570</td>\n",
       "      <td>32.80032</td>\n",
       "      <td>4.842100e+14</td>\n",
       "      <td>...</td>\n",
       "      <td>26390.0</td>\n",
       "      <td>36090.0</td>\n",
       "      <td>0.006198</td>\n",
       "      <td>1.104549</td>\n",
       "      <td>0.631622</td>\n",
       "      <td>0.000000</td>\n",
       "      <td>111.0</td>\n",
       "      <td>233.0</td>\n",
       "      <td>135.0</td>\n",
       "      <td>36.0</td>\n",
       "    </tr>\n",
       "    <tr>\n",
       "      <th>3</th>\n",
       "      <td>1.0000</td>\n",
       "      <td>12582689412</td>\n",
       "      <td>-1</td>\n",
       "      <td>4.452000e+14</td>\n",
       "      <td>1.553688</td>\n",
       "      <td>265.845001</td>\n",
       "      <td>80.92496</td>\n",
       "      <td>495.86057</td>\n",
       "      <td>37.93617</td>\n",
       "      <td>4.452000e+14</td>\n",
       "      <td>...</td>\n",
       "      <td>30970.0</td>\n",
       "      <td>35730.0</td>\n",
       "      <td>0.005844</td>\n",
       "      <td>1.071597</td>\n",
       "      <td>0.610283</td>\n",
       "      <td>0.000000</td>\n",
       "      <td>105.0</td>\n",
       "      <td>217.0</td>\n",
       "      <td>126.0</td>\n",
       "      <td>38.0</td>\n",
       "    </tr>\n",
       "    <tr>\n",
       "      <th>4</th>\n",
       "      <td>1.0000</td>\n",
       "      <td>12572805373</td>\n",
       "      <td>-1</td>\n",
       "      <td>4.416300e+14</td>\n",
       "      <td>1.549522</td>\n",
       "      <td>476.278015</td>\n",
       "      <td>14.65232</td>\n",
       "      <td>444.75800</td>\n",
       "      <td>98.21551</td>\n",
       "      <td>4.421600e+14</td>\n",
       "      <td>...</td>\n",
       "      <td>64940.0</td>\n",
       "      <td>54550.0</td>\n",
       "      <td>0.003253</td>\n",
       "      <td>1.068489</td>\n",
       "      <td>0.608274</td>\n",
       "      <td>0.000000</td>\n",
       "      <td>113.0</td>\n",
       "      <td>243.0</td>\n",
       "      <td>136.0</td>\n",
       "      <td>33.0</td>\n",
       "    </tr>\n",
       "    <tr>\n",
       "      <th>...</th>\n",
       "      <td>...</td>\n",
       "      <td>...</td>\n",
       "      <td>...</td>\n",
       "      <td>...</td>\n",
       "      <td>...</td>\n",
       "      <td>...</td>\n",
       "      <td>...</td>\n",
       "      <td>...</td>\n",
       "      <td>...</td>\n",
       "      <td>...</td>\n",
       "      <td>...</td>\n",
       "      <td>...</td>\n",
       "      <td>...</td>\n",
       "      <td>...</td>\n",
       "      <td>...</td>\n",
       "      <td>...</td>\n",
       "      <td>...</td>\n",
       "      <td>...</td>\n",
       "      <td>...</td>\n",
       "      <td>...</td>\n",
       "      <td>...</td>\n",
       "    </tr>\n",
       "    <tr>\n",
       "      <th>201751</th>\n",
       "      <td>0.4922</td>\n",
       "      <td>7449377959</td>\n",
       "      <td>-1</td>\n",
       "      <td>3.811400e+13</td>\n",
       "      <td>0.809628</td>\n",
       "      <td>133.949005</td>\n",
       "      <td>480.91885</td>\n",
       "      <td>941.27173</td>\n",
       "      <td>400.18594</td>\n",
       "      <td>3.811400e+13</td>\n",
       "      <td>...</td>\n",
       "      <td>8173.0</td>\n",
       "      <td>6642.0</td>\n",
       "      <td>0.006044</td>\n",
       "      <td>0.343699</td>\n",
       "      <td>0.184276</td>\n",
       "      <td>1.031694</td>\n",
       "      <td>30.0</td>\n",
       "      <td>30.0</td>\n",
       "      <td>7.0</td>\n",
       "      <td>3.0</td>\n",
       "    </tr>\n",
       "    <tr>\n",
       "      <th>201752</th>\n",
       "      <td>0.4922</td>\n",
       "      <td>7449378344</td>\n",
       "      <td>-1</td>\n",
       "      <td>4.392300e+13</td>\n",
       "      <td>0.848833</td>\n",
       "      <td>152.729996</td>\n",
       "      <td>479.80551</td>\n",
       "      <td>943.86493</td>\n",
       "      <td>370.01025</td>\n",
       "      <td>4.399300e+13</td>\n",
       "      <td>...</td>\n",
       "      <td>19450.0</td>\n",
       "      <td>20470.0</td>\n",
       "      <td>0.005558</td>\n",
       "      <td>0.360905</td>\n",
       "      <td>0.194880</td>\n",
       "      <td>1.031694</td>\n",
       "      <td>35.0</td>\n",
       "      <td>35.0</td>\n",
       "      <td>5.0</td>\n",
       "      <td>1.0</td>\n",
       "    </tr>\n",
       "    <tr>\n",
       "      <th>201753</th>\n",
       "      <td>0.4922</td>\n",
       "      <td>7448759317</td>\n",
       "      <td>-1</td>\n",
       "      <td>4.120500e+13</td>\n",
       "      <td>0.830945</td>\n",
       "      <td>254.210999</td>\n",
       "      <td>477.39102</td>\n",
       "      <td>937.20746</td>\n",
       "      <td>371.69727</td>\n",
       "      <td>4.124700e+13</td>\n",
       "      <td>...</td>\n",
       "      <td>17720.0</td>\n",
       "      <td>19030.0</td>\n",
       "      <td>0.003269</td>\n",
       "      <td>0.353054</td>\n",
       "      <td>0.190032</td>\n",
       "      <td>1.031694</td>\n",
       "      <td>35.0</td>\n",
       "      <td>35.0</td>\n",
       "      <td>10.0</td>\n",
       "      <td>3.0</td>\n",
       "    </tr>\n",
       "    <tr>\n",
       "      <th>201754</th>\n",
       "      <td>0.4922</td>\n",
       "      <td>7448711111</td>\n",
       "      <td>-1</td>\n",
       "      <td>3.450100e+13</td>\n",
       "      <td>0.783191</td>\n",
       "      <td>169.520004</td>\n",
       "      <td>491.51678</td>\n",
       "      <td>903.84302</td>\n",
       "      <td>320.23111</td>\n",
       "      <td>3.451200e+13</td>\n",
       "      <td>...</td>\n",
       "      <td>6627.0</td>\n",
       "      <td>6354.0</td>\n",
       "      <td>0.004620</td>\n",
       "      <td>0.332108</td>\n",
       "      <td>0.177173</td>\n",
       "      <td>1.031694</td>\n",
       "      <td>31.0</td>\n",
       "      <td>31.0</td>\n",
       "      <td>7.0</td>\n",
       "      <td>2.0</td>\n",
       "    </tr>\n",
       "    <tr>\n",
       "      <th>201755</th>\n",
       "      <td>0.4922</td>\n",
       "      <td>7449382358</td>\n",
       "      <td>-1</td>\n",
       "      <td>3.266300e+13</td>\n",
       "      <td>0.769028</td>\n",
       "      <td>194.028000</td>\n",
       "      <td>474.03351</td>\n",
       "      <td>941.04315</td>\n",
       "      <td>381.06018</td>\n",
       "      <td>3.266300e+13</td>\n",
       "      <td>...</td>\n",
       "      <td>10420.0</td>\n",
       "      <td>5153.0</td>\n",
       "      <td>0.003963</td>\n",
       "      <td>0.325903</td>\n",
       "      <td>0.173385</td>\n",
       "      <td>1.031694</td>\n",
       "      <td>17.0</td>\n",
       "      <td>17.0</td>\n",
       "      <td>5.0</td>\n",
       "      <td>2.0</td>\n",
       "    </tr>\n",
       "  </tbody>\n",
       "</table>\n",
       "<p>201756 rows × 28 columns</p>\n",
       "</div>"
      ],
      "text/plain": [
       "         scale CtreesHaloID  pid          mvir      rvir          rs  \\\n",
       "0       1.0000  12572818342   -1  6.774900e+14  1.787090  623.155029   \n",
       "1       1.0000  12572804988   -1  5.136200e+14  1.629517  453.993011   \n",
       "2       1.0000  12572769320   -1  4.842100e+14  1.597800  257.792999   \n",
       "3       1.0000  12582689412   -1  4.452000e+14  1.553688  265.845001   \n",
       "4       1.0000  12572805373   -1  4.416300e+14  1.549522  476.278015   \n",
       "...        ...          ...  ...           ...       ...         ...   \n",
       "201751  0.4922   7449377959   -1  3.811400e+13  0.809628  133.949005   \n",
       "201752  0.4922   7449378344   -1  4.392300e+13  0.848833  152.729996   \n",
       "201753  0.4922   7448759317   -1  4.120500e+13  0.830945  254.210999   \n",
       "201754  0.4922   7448711111   -1  3.450100e+13  0.783191  169.520004   \n",
       "201755  0.4922   7449382358   -1  3.266300e+13  0.769028  194.028000   \n",
       "\n",
       "                x          y          z     Mmvir_all  ...  Acc_Rate_2*Tdyn  \\\n",
       "0        11.56968  451.91925   69.63885  6.774900e+14  ...          68480.0   \n",
       "1        57.94242  476.56845   33.24828  5.138100e+14  ...          72560.0   \n",
       "2         8.70924  458.99570   32.80032  4.842100e+14  ...          26390.0   \n",
       "3        80.92496  495.86057   37.93617  4.452000e+14  ...          30970.0   \n",
       "4        14.65232  444.75800   98.21551  4.421600e+14  ...          64940.0   \n",
       "...           ...        ...        ...           ...  ...              ...   \n",
       "201751  480.91885  941.27173  400.18594  3.811400e+13  ...           8173.0   \n",
       "201752  479.80551  943.86493  370.01025  4.399300e+13  ...          19450.0   \n",
       "201753  477.39102  937.20746  371.69727  4.124700e+13  ...          17720.0   \n",
       "201754  491.51678  903.84302  320.23111  3.451200e+13  ...           6627.0   \n",
       "201755  474.03351  941.04315  381.06018  3.266300e+13  ...          10420.0   \n",
       "\n",
       "        Acc_Rate_Mpeak     c_vir     R200c     R500c  redshift  Ngal_Dsep_1  \\\n",
       "0              75620.0  0.002868  1.246387  0.724155  0.000000         81.0   \n",
       "1              51630.0  0.003589  1.128265  0.647019  0.000000        106.0   \n",
       "2              36090.0  0.006198  1.104549  0.631622  0.000000        111.0   \n",
       "3              35730.0  0.005844  1.071597  0.610283  0.000000        105.0   \n",
       "4              54550.0  0.003253  1.068489  0.608274  0.000000        113.0   \n",
       "...                ...       ...       ...       ...       ...          ...   \n",
       "201751          6642.0  0.006044  0.343699  0.184276  1.031694         30.0   \n",
       "201752         20470.0  0.005558  0.360905  0.194880  1.031694         35.0   \n",
       "201753         19030.0  0.003269  0.353054  0.190032  1.031694         35.0   \n",
       "201754          6354.0  0.004620  0.332108  0.177173  1.031694         31.0   \n",
       "201755          5153.0  0.003963  0.325903  0.173385  1.031694         17.0   \n",
       "\n",
       "        Ngal_Rvir  Ngal_R200c  Ngal_R500c  \n",
       "0           280.0       143.0        25.0  \n",
       "1           308.0       139.0        47.0  \n",
       "2           233.0       135.0        36.0  \n",
       "3           217.0       126.0        38.0  \n",
       "4           243.0       136.0        33.0  \n",
       "...           ...         ...         ...  \n",
       "201751       30.0         7.0         3.0  \n",
       "201752       35.0         5.0         1.0  \n",
       "201753       35.0        10.0         3.0  \n",
       "201754       31.0         7.0         2.0  \n",
       "201755       17.0         5.0         2.0  \n",
       "\n",
       "[201756 rows x 28 columns]"
      ]
     },
     "execution_count": 49,
     "metadata": {},
     "output_type": "execute_result"
    }
   ],
   "source": [
    "cluster_df"
   ]
  },
  {
   "cell_type": "code",
   "execution_count": 50,
   "id": "88d6dd23-1c43-4758-9939-0afee154fd96",
   "metadata": {},
   "outputs": [
    {
     "data": {
      "text/plain": [
       "Text(0.5, 0, 'Ngal_Dsep_1')"
      ]
     },
     "execution_count": 50,
     "metadata": {},
     "output_type": "execute_result"
    },
    {
     "data": {
      "image/png": "[encoded data removed]",
      "text/plain": [
       "<Figure size 432x288 with 1 Axes>"
      ]
     },
     "metadata": {
      "needs_background": "light"
     },
     "output_type": "display_data"
    }
   ],
   "source": [
    "cluster_df['Ngal_Dsep_1'].plot(kind='hist', logy=True, alpha=0.3)\n",
    "plt.axvline(cluster_df['Ngal_Dsep_1'].mean(), c='orange')\n",
    "plt.xlabel('Ngal_Dsep_1')\n",
    "#print(\"Mean number of galaxies: \", central_gal_df['Ngal'].mean(), central_gal_df['Ngal'].std()) \n",
    "#print(\"Number of central galaxies: \", len(central_gal_df))"
   ]
  },
  {
   "cell_type": "code",
   "execution_count": 51,
   "id": "024e6217-48d9-4278-8c00-48fc6a1d3181",
   "metadata": {},
   "outputs": [
    {
     "data": {
      "text/plain": [
       "Text(0.5, 0, 'Ngal_Rvir')"
      ]
     },
     "execution_count": 51,
     "metadata": {},
     "output_type": "execute_result"
    },
    {
     "data": {
      "image/png": "[encoded data removed]",
      "text/plain": [
       "<Figure size 432x288 with 1 Axes>"
      ]
     },
     "metadata": {
      "needs_background": "light"
     },
     "output_type": "display_data"
    }
   ],
   "source": [
    "cluster_df['Ngal_Rvir'].plot(kind='hist', logy=True, alpha=0.3)\n",
    "plt.axvline(cluster_df['Ngal_Rvir'].mean(), c='orange')\n",
    "plt.xlabel('Ngal_Rvir')\n",
    "#print(\"Mean number of galaxies: \", central_gal_df['Ngal'].mean(), central_gal_df['Ngal'].std()) \n",
    "#print(\"Number of central galaxies: \", len(central_gal_df))"
   ]
  },
  {
   "cell_type": "code",
   "execution_count": 52,
   "id": "1e4bde8c-8595-459f-9730-259225d953c6",
   "metadata": {},
   "outputs": [
    {
     "data": {
      "text/plain": [
       "Text(0.5, 0, 'Ngal_R200c')"
      ]
     },
     "execution_count": 52,
     "metadata": {},
     "output_type": "execute_result"
    },
    {
     "data": {
      "image/png": "[encoded data removed]",
      "text/plain": [
       "<Figure size 432x288 with 1 Axes>"
      ]
     },
     "metadata": {
      "needs_background": "light"
     },
     "output_type": "display_data"
    }
   ],
   "source": [
    "cluster_df['Ngal_R200c'].plot(kind='hist', logy=True, alpha=0.3)\n",
    "plt.axvline(cluster_df['Ngal_R200c'].mean(), c='orange')\n",
    "plt.xlabel('Ngal_R200c')\n",
    "#print(\"Mean number of galaxies: \", central_gal_df['Ngal'].mean(), central_gal_df['Ngal'].std()) \n",
    "#print(\"Number of central galaxies: \", len(central_gal_df))"
   ]
  },
  {
   "cell_type": "code",
   "execution_count": 53,
   "id": "8ff76587-d55c-45f7-a0b9-a25c1ca1fbc9",
   "metadata": {},
   "outputs": [
    {
     "data": {
      "text/plain": [
       "Text(0.5, 0, 'Ngal_R500c')"
      ]
     },
     "execution_count": 53,
     "metadata": {},
     "output_type": "execute_result"
    },
    {
     "data": {
      "image/png": "[encoded data removed]",
      "text/plain": [
       "<Figure size 432x288 with 1 Axes>"
      ]
     },
     "metadata": {
      "needs_background": "light"
     },
     "output_type": "display_data"
    }
   ],
   "source": [
    "cluster_df['Ngal_R500c'].plot(kind='hist', logy=True, alpha=0.3)\n",
    "plt.axvline(cluster_df['Ngal_R500c'].mean(), c='orange')\n",
    "plt.xlabel('Ngal_R500c')\n",
    "#print(\"Mean number of galaxies: \", central_gal_df['Ngal'].mean(), central_gal_df['Ngal'].std()) \n",
    "#print(\"Number of central galaxies: \", len(central_gal_df))"
   ]
  },
  {
   "cell_type": "code",
   "execution_count": 54,
   "id": "8cefa1ca-5c85-4683-a8e3-61ac4e2e0080",
   "metadata": {},
   "outputs": [
    {
     "data": {
      "text/plain": [
       "<AxesSubplot:ylabel='Frequency'>"
      ]
     },
     "execution_count": 54,
     "metadata": {},
     "output_type": "execute_result"
    },
    {
     "data": {
      "image/png": "[encoded data removed]",
      "text/plain": [
       "<Figure size 432x288 with 1 Axes>"
      ]
     },
     "metadata": {
      "needs_background": "light"
     },
     "output_type": "display_data"
    }
   ],
   "source": [
    "cluster_df['R500c'].plot(kind='hist', logy=True, alpha=0.3)"
   ]
  },
  {
   "cell_type": "code",
   "execution_count": 55,
   "id": "ff222cf0-7c3f-429c-a442-e5cbd60b6d4c",
   "metadata": {},
   "outputs": [
    {
     "data": {
      "text/plain": [
       "<AxesSubplot:ylabel='Frequency'>"
      ]
     },
     "execution_count": 55,
     "metadata": {},
     "output_type": "execute_result"
    },
    {
     "data": {
      "image/png": "[encoded data removed]",
      "text/plain": [
       "<Figure size 432x288 with 1 Axes>"
      ]
     },
     "metadata": {
      "needs_background": "light"
     },
     "output_type": "display_data"
    }
   ],
   "source": [
    "cluster_df['R200c'].plot(kind='hist', logy=True, alpha=0.3)"
   ]
  },
  {
   "cell_type": "code",
   "execution_count": 56,
   "id": "b16eb093-6063-4a65-a4f6-d8e773c28f1f",
   "metadata": {},
   "outputs": [
    {
     "data": {
      "text/plain": [
       "<AxesSubplot:ylabel='Frequency'>"
      ]
     },
     "execution_count": 56,
     "metadata": {},
     "output_type": "execute_result"
    },
    {
     "data": {
      "image/png": "[encoded data removed]",
      "text/plain": [
       "<Figure size 432x288 with 1 Axes>"
      ]
     },
     "metadata": {
      "needs_background": "light"
     },
     "output_type": "display_data"
    }
   ],
   "source": [
    "cluster_df['rvir'].plot(kind='hist', logy=True, alpha=0.3)"
   ]
  },
  {
   "cell_type": "code",
   "execution_count": 57,
   "id": "9f7b654c-b724-45cb-881f-8f96f8ff9409",
   "metadata": {},
   "outputs": [],
   "source": [
    "import GCRCatalogs\n",
    "try: import clmm\n",
    "except:\n",
    "    import notebook_install\n",
    "    notebook_install.install_clmm_pipeline(upgrade=False)\n",
    "    import clmm\n",
    "import numpy as np\n",
    "import matplotlib.pyplot as plt\n",
    "%matplotlib inline\n",
    "gc_truth = GCRCatalogs.load_catalog('cosmoDC2_v1.1.4_image' )\n",
    "cosmo = gc_truth.cosmology"
   ]
  },
  {
   "cell_type": "code",
   "execution_count": 58,
   "id": "6612f623-a6ad-4fb4-a3c9-c9d44f91657f",
   "metadata": {},
   "outputs": [],
   "source": [
    "#------------------------------\n",
    "def M_DES_Y1(l, z, Omega_m_z0):\n",
    "    \"\"\"Mass richness parameters from McClintock et al. (2018) [https://arxiv.org/pdf/1805.00039.pdf]\"\"\"\n",
    "    \n",
    "    M0 = 3.081e14   #(+-0.075 +-0.133)e14\n",
    "    # log10(M0) = 14.489 #+-0.011 +-0.019\n",
    "    l0 = 40.\n",
    "    z0 = 0.35\n",
    "    F = 1.356   #+-0.051 +-0.008\n",
    "    G = -0.30   #+-0.30 +-0.06\n",
    "    return mass_richness_parametrization(l, z,  F, G, Omega_m_z0, M0, l0, z0, mass_def=\"FoF\")\n",
    "\n",
    "def mass_richness_parametrization(l, z, F, G, Omega_m_z0, M0, l0, z0, mass_def=\"crit\"):\n",
    "    \"\"\"Parametrization of the mass-richness-redshift relation used in several DES papers \"\"\"\n",
    "    if mass_def == \"mean\":\n",
    "        M = M0\n",
    "    elif mass_def == \"crit\":\n",
    "        M = M0 * Omega_m_z0*(1.+z)**3\n",
    "    elif mass_def == \"FoF\":\n",
    "        M = M0 * Omega_m_z0*(1.+z)**3 * 0.92\n",
    "        \n",
    "    return M*(l/l0)**F*((1+z)/(1+z0))**G"
   ]
  },
  {
   "cell_type": "code",
   "execution_count": 8,
   "id": "0a73cebf-065c-44ec-848e-c80b4716b64f",
   "metadata": {},
   "outputs": [
    {
     "data": {
      "text/plain": [
       "<matplotlib.collections.PolyCollection at 0x1555047eef10>"
      ]
     },
     "execution_count": 8,
     "metadata": {},
     "output_type": "execute_result"
    },
    {
     "data": {
      "image/png": "[encoded data removed]",
      "text/plain": [
       "<Figure size 432x288 with 1 Axes>"
      ]
     },
     "metadata": {
      "needs_background": "light"
     },
     "output_type": "display_data"
    }
   ],
   "source": [
    "len_lob_gird=50\n",
    "lobs_grid_DESxSPT=np.linspace(15.,200,len_lob_gird)\n",
    "means_m_DESxSPT=np.loadtxt('mean_M_lob_SPTRM_36_v1.txt')\n",
    "\n",
    "# DES NC+SPT-OMR ===================================\n",
    "from scipy.interpolate import InterpolatedUnivariateSpline as ius # interpolation\n",
    "\n",
    "log10Mdata_DESxSPT=np.mean(np.log10(means_m_DESxSPT),axis=0)\n",
    "lo_mass=ius(np.log(lobs_grid_DESxSPT[:]),(log10Mdata_DESxSPT-np.std(np.log10(means_m_DESxSPT),axis=0)),k=1)\n",
    "hi_mass=ius(np.log(lobs_grid_DESxSPT[:]),(log10Mdata_DESxSPT+np.std(np.log10(means_m_DESxSPT),axis=0)),k=1)\n",
    "\n",
    "samp_lo=lo_mass(np.log(lobs_grid_DESxSPT))\n",
    "samp_hi=hi_mass(np.log(lobs_grid_DESxSPT))\n",
    "\n",
    "plt.fill_between(lobs_grid_DESxSPT, 10.**samp_lo,10.**samp_hi,color='gray',hatch='o',alpha=0.6,lw=3,label='DES-NC+SPT-OMR')"
   ]
  },
  {
   "cell_type": "code",
   "execution_count": 26,
   "id": "043b80b0-4628-4d32-b0f9-8c5c5f0d7903",
   "metadata": {},
   "outputs": [
    {
     "data": {
      "image/png": "[encoded data removed]",
      "text/plain": [
       "<Figure size 432x288 with 1 Axes>"
      ]
     },
     "metadata": {
      "needs_background": "light"
     },
     "output_type": "display_data"
    }
   ],
   "source": [
    "\n",
    "#plt.axvline(20, color='black', linestyle='dotted', lw=2)\n",
    "plt.axhline(3*10**13, color='black', linestyle='dotted', lw=2)\n",
    "\n",
    "plt.xlabel(\"richness $\\\\lambda_{RM}$\")\n",
    "plt.ylabel('halo mass')\n",
    "\n",
    "\n",
    "#adding parametrization from litterature\n",
    "min_richness=20\n",
    "ll = np.logspace(np.log10(min_richness), np.log10(200))\n",
    "\n",
    "#z0 = 0.0\n",
    "#Om_z0 = cosmo.Om0   \n",
    "\n",
    "#plt.fill_between(ll, M_DES_Y1_lim(ll, z0, 'min', Om_z0),M_DES_Y1_lim(ll, z0, 'max', Om_z0),alpha=0.2,color='r')\n",
    "\n",
    "#plt.plot(ll, M_DES_Y1(ll, z0, Om_z0), 'r-', alpha=1, label='DES Y1 (M_200c) at z ='+str(z0) )\n",
    "plt.loglog(matched_halo_df['Ngal_R200c'], matched_halo_df['M500c'], '.', alpha=0.3, color='black', label = 'MDPL2 halos')\n",
    "plt.loglog(matched_halo_df['Ngal_Rvir'], matched_halo_df['M500c'], '.', alpha=0.3, color='blue', label = 'MDPL2 halos Rvir')\n",
    "plt.loglog(matched_halo_df['Ngal_Dsep_1'], matched_halo_df['M500c'], '.', alpha=0.3, color='green', label = 'MDPL2 halos 1 Mpc')\n",
    "plt.fill_between(lobs_grid_DESxSPT, 10.**samp_lo,10.**samp_hi,color='red',hatch='o',alpha=1,lw=3,label='DES-NC+SPT-OMR')\n",
    "\n",
    "#plt.plot(ll, M_SDSS(ll, z0, Om_z0), 'g-.', alpha=1, label='SDSS (M_200c) at z ='+str(z0))\n",
    "#plt.plot(ll, M_DES_SV(ll, z0, Om_z0), 'b--', alpha=1, label='DES SV (M_200c) at z ='+str(z0))\n",
    "plt.xlim([20,300])\n",
    "plt.ylim([1e13,1e15])\n",
    "plt.legend(fontsize='x-small')\n",
    "plt.savefig(plotdir+'MOR_MDPL2_vs_data.pdf')"
   ]
  },
  {
   "cell_type": "markdown",
   "id": "1b4f8e83-9df2-4fd8-8532-9733b071a10b",
   "metadata": {},
   "source": [
    "## Save the file"
   ]
  },
  {
   "cell_type": "code",
   "execution_count": 89,
   "id": "cd8269e4-5476-4ac7-8943-dd09275abd61",
   "metadata": {},
   "outputs": [],
   "source": [
    "## Output the most massive halo. \n",
    "# Saving the cluster_df as a csv file.\n",
    "cluster_df.to_csv(datadir + 'clusters_m200c_lgt_3e13_mah_allz_Ngal.csv', index=False)"
   ]
  },
  {
   "cell_type": "code",
   "execution_count": null,
   "id": "5ca9c8be-4deb-4631-80db-ede2640e199c",
   "metadata": {},
   "outputs": [],
   "source": []
  }
 ],
 "metadata": {
  "kernelspec": {
   "display_name": "myLSST",
   "language": "python",
   "name": "mylsst"
  },
  "language_info": {
   "codemirror_mode": {
    "name": "ipython",
    "version": 3
   },
   "file_extension": ".py",
   "mimetype": "text/x-python",
   "name": "python",
   "nbconvert_exporter": "python",
   "pygments_lexer": "ipython3",
   "version": "3.7.12"
  }
 },
 "nbformat": 4,
 "nbformat_minor": 5
}
